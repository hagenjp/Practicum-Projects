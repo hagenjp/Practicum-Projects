{
 "cells": [
  {
   "cell_type": "markdown",
   "metadata": {},
   "source": [
    "<div style=\"border:solid green 2px; padding: 20px\"> <h1 style=\"color:green; margin-bottom:20px\">Reviewer's comment v1</h1>\n",
    "\n",
    "Hello Johannah, my name is Dmitrii. Happy to review your project! 🙌\n",
    "\n",
    "As usual you can find my comments under the heading **«Review»**. I will categorize my comments in green, blue or red boxes like this:\n",
    "\n",
    "<div class=\"alert alert-success\">\n",
    "    <b>Success:</b> if everything is done successfully\n",
    "</div>\n",
    "<div class=\"alert alert-warning\">\n",
    "    <b>Remarks:</b> if I can give some recommendations or ways to improve the project\n",
    "</div>\n",
    "<div class=\"alert alert-danger\">\n",
    "    <b>Needs fixing:</b> if the block requires some corrections. Work can't be accepted with the red comments\n",
    "</div>\n",
    "\n",
    "Please don't remove my comments :) If you have any questions don't hesitate to respond to my comments in a different section. \n",
    "\n"
   ]
  },
  {
   "cell_type": "markdown",
   "metadata": {},
   "source": [
    "<div style=\"border:solid green 2px; padding: 20px\">\n",
    "<b>Reviewer's comment v1</b>\n",
    "    \n",
    "<b>Overall Feedback</b> \n",
    "    \n",
    "Overall well done! I can see that a lot of effort has been made! Your project already looks really good, and you accomplished impressive results.\n",
    "\n",
    "No critical issues are left, so your project has been accepted. Congratulations! However, I want to send it back to you in case you have any questions along the way or you want to make additional changes to the project.\n",
    "  \n",
    "And of course, if you have any questions along the way, remember that you can always reach out to your tutor for any clarification.\n"
   ]
  },
  {
   "cell_type": "markdown",
   "metadata": {},
   "source": [
    "<div style=\"border:solid blue 2px; padding: 20px\"\n",
    "\n",
    "\n",
    "Hi Dimitri! Thank you very much for your useful feed back I will be implimenting your suggestions for this project as soon as possible. Thanks again"
   ]
  },
  {
   "cell_type": "markdown",
   "metadata": {},
   "source": [
    "<div style=\"border:solid green 2px; padding: 20px\">\n",
    "<b>Reviewer's comment v2:</b>\n",
    "    \n",
    "<b>Overall Feedback</b> \n",
    "    \n",
    "Hi Johannah! I did not notice any new code or questions, but as I mentioned, there are no critical issues, so your project has been accepted! Wish you cool projects in the next sprints ☘️\n",
    "    \n",
    "PS: As a last thing, I can recommend cool lectures on stat analysis here: https://www.youtube.com/playlist?list=PL2SOU6wwxB0uwwH80KTQ6ht66KWxbzTIo  🙌\n",
    "\n",
    "</div>"
   ]
  },
  {
   "cell_type": "markdown",
   "metadata": {},
   "source": [
    "# Which one is a better plan?\n",
    "\n",
    "Megaline company offers its clients two prepaid plans, Surf and Ultimate. The commercial department wants to know which of the plans brings in more revenue in order to adjust the advertising budget.\n",
    "\n",
    "I will carry out a preliminary analysis of the plans based on a relatively small client selection. I have the data on 500 Megaline clients: who the clients are, where they're from, which plan they use, and the number of calls they made and text messages they sent in 2018.\n",
    "\n",
    "My purpose is to analyze the clients' behavior and determine which prepaid plan brings in more revenue. Preliminarily I will review the datasets and amend the data as needed. Then I will enrich the data with derivitaves from the original which will aid me in my downstream ananlysis. Once the data is complete I will perform statistical and visual analytics to help me draw my conclusions. \n",
    "\n",
    "Thank you for your time reviewing this project!\n",
    "\n"
   ]
  },
  {
   "cell_type": "markdown",
   "metadata": {},
   "source": [
    "<div class=\"alert alert-block alert-success\">\n",
    "<b>Reviewer's comment v1</b>\n",
    " \n",
    "Great that you added additional information about the project goal and tasks."
   ]
  },
  {
   "cell_type": "markdown",
   "metadata": {},
   "source": [
    "## Initialization"
   ]
  },
  {
   "cell_type": "code",
   "execution_count": 1,
   "metadata": {},
   "outputs": [],
   "source": [
    "import pandas as pd\n",
    "import numpy as np\n",
    "from scipy import stats as st\n",
    "import matplotlib.pyplot as plt\n",
    "import seaborn as sns"
   ]
  },
  {
   "cell_type": "markdown",
   "metadata": {},
   "source": [
    "## Load data"
   ]
  },
  {
   "cell_type": "code",
   "execution_count": 2,
   "metadata": {},
   "outputs": [],
   "source": [
    "calls_data=pd.read_csv(r'/datasets/megaline_calls.csv') \n",
    "internet_data=pd.read_csv(r'/datasets/megaline_internet.csv') \n",
    "messages_data=pd.read_csv(r'/datasets/megaline_messages.csv') \n",
    "plans_data=pd.read_csv(r'/datasets/megaline_plans.csv') \n",
    "users_data=pd.read_csv(r'/datasets/megaline_users.csv') \n"
   ]
  },
  {
   "cell_type": "markdown",
   "metadata": {},
   "source": [
    "## Prepare the data"
   ]
  },
  {
   "cell_type": "markdown",
   "metadata": {},
   "source": [
    "These data are separated into several dataframes, I will review each and process any issues I uncover."
   ]
  },
  {
   "cell_type": "markdown",
   "metadata": {},
   "source": [
    "## Plans"
   ]
  },
  {
   "cell_type": "code",
   "execution_count": 3,
   "metadata": {},
   "outputs": [
    {
     "name": "stdout",
     "output_type": "stream",
     "text": [
      "<class 'pandas.core.frame.DataFrame'>\n",
      "RangeIndex: 2 entries, 0 to 1\n",
      "Data columns (total 8 columns):\n",
      " #   Column                 Non-Null Count  Dtype  \n",
      "---  ------                 --------------  -----  \n",
      " 0   messages_included      2 non-null      int64  \n",
      " 1   mb_per_month_included  2 non-null      int64  \n",
      " 2   minutes_included       2 non-null      int64  \n",
      " 3   usd_monthly_pay        2 non-null      int64  \n",
      " 4   usd_per_gb             2 non-null      int64  \n",
      " 5   usd_per_message        2 non-null      float64\n",
      " 6   usd_per_minute         2 non-null      float64\n",
      " 7   plan_name              2 non-null      object \n",
      "dtypes: float64(2), int64(5), object(1)\n",
      "memory usage: 256.0+ bytes\n"
     ]
    }
   ],
   "source": [
    "plans_data.info()\n"
   ]
  },
  {
   "cell_type": "code",
   "execution_count": 4,
   "metadata": {},
   "outputs": [
    {
     "data": {
      "text/html": [
       "<div>\n",
       "<style scoped>\n",
       "    .dataframe tbody tr th:only-of-type {\n",
       "        vertical-align: middle;\n",
       "    }\n",
       "\n",
       "    .dataframe tbody tr th {\n",
       "        vertical-align: top;\n",
       "    }\n",
       "\n",
       "    .dataframe thead th {\n",
       "        text-align: right;\n",
       "    }\n",
       "</style>\n",
       "<table border=\"1\" class=\"dataframe\">\n",
       "  <thead>\n",
       "    <tr style=\"text-align: right;\">\n",
       "      <th></th>\n",
       "      <th>messages_included</th>\n",
       "      <th>mb_per_month_included</th>\n",
       "      <th>minutes_included</th>\n",
       "      <th>usd_monthly_pay</th>\n",
       "      <th>usd_per_gb</th>\n",
       "      <th>usd_per_message</th>\n",
       "      <th>usd_per_minute</th>\n",
       "      <th>plan_name</th>\n",
       "    </tr>\n",
       "  </thead>\n",
       "  <tbody>\n",
       "    <tr>\n",
       "      <th>0</th>\n",
       "      <td>50</td>\n",
       "      <td>15360</td>\n",
       "      <td>500</td>\n",
       "      <td>20</td>\n",
       "      <td>10</td>\n",
       "      <td>0.03</td>\n",
       "      <td>0.03</td>\n",
       "      <td>surf</td>\n",
       "    </tr>\n",
       "    <tr>\n",
       "      <th>1</th>\n",
       "      <td>1000</td>\n",
       "      <td>30720</td>\n",
       "      <td>3000</td>\n",
       "      <td>70</td>\n",
       "      <td>7</td>\n",
       "      <td>0.01</td>\n",
       "      <td>0.01</td>\n",
       "      <td>ultimate</td>\n",
       "    </tr>\n",
       "  </tbody>\n",
       "</table>\n",
       "</div>"
      ],
      "text/plain": [
       "   messages_included  mb_per_month_included  minutes_included  \\\n",
       "0                 50                  15360               500   \n",
       "1               1000                  30720              3000   \n",
       "\n",
       "   usd_monthly_pay  usd_per_gb  usd_per_message  usd_per_minute plan_name  \n",
       "0               20          10             0.03            0.03      surf  \n",
       "1               70           7             0.01            0.01  ultimate  "
      ]
     },
     "execution_count": 4,
     "metadata": {},
     "output_type": "execute_result"
    }
   ],
   "source": [
    "plans_data.head()\n"
   ]
  },
  {
   "cell_type": "markdown",
   "metadata": {},
   "source": [
    "Everything in this dataframe looks accurate from the information I was given about the plans."
   ]
  },
  {
   "cell_type": "markdown",
   "metadata": {},
   "source": [
    " "
   ]
  },
  {
   "cell_type": "markdown",
   "metadata": {},
   "source": [
    "## Users"
   ]
  },
  {
   "cell_type": "code",
   "execution_count": 5,
   "metadata": {},
   "outputs": [
    {
     "name": "stdout",
     "output_type": "stream",
     "text": [
      "<class 'pandas.core.frame.DataFrame'>\n",
      "RangeIndex: 500 entries, 0 to 499\n",
      "Data columns (total 8 columns):\n",
      " #   Column      Non-Null Count  Dtype \n",
      "---  ------      --------------  ----- \n",
      " 0   user_id     500 non-null    int64 \n",
      " 1   first_name  500 non-null    object\n",
      " 2   last_name   500 non-null    object\n",
      " 3   age         500 non-null    int64 \n",
      " 4   city        500 non-null    object\n",
      " 5   reg_date    500 non-null    object\n",
      " 6   plan        500 non-null    object\n",
      " 7   churn_date  34 non-null     object\n",
      "dtypes: int64(2), object(6)\n",
      "memory usage: 31.4+ KB\n"
     ]
    }
   ],
   "source": [
    "users_data.info()\n"
   ]
  },
  {
   "cell_type": "code",
   "execution_count": 6,
   "metadata": {},
   "outputs": [
    {
     "data": {
      "text/html": [
       "<div>\n",
       "<style scoped>\n",
       "    .dataframe tbody tr th:only-of-type {\n",
       "        vertical-align: middle;\n",
       "    }\n",
       "\n",
       "    .dataframe tbody tr th {\n",
       "        vertical-align: top;\n",
       "    }\n",
       "\n",
       "    .dataframe thead th {\n",
       "        text-align: right;\n",
       "    }\n",
       "</style>\n",
       "<table border=\"1\" class=\"dataframe\">\n",
       "  <thead>\n",
       "    <tr style=\"text-align: right;\">\n",
       "      <th></th>\n",
       "      <th>user_id</th>\n",
       "      <th>first_name</th>\n",
       "      <th>last_name</th>\n",
       "      <th>age</th>\n",
       "      <th>city</th>\n",
       "      <th>reg_date</th>\n",
       "      <th>plan</th>\n",
       "      <th>churn_date</th>\n",
       "    </tr>\n",
       "  </thead>\n",
       "  <tbody>\n",
       "    <tr>\n",
       "      <th>0</th>\n",
       "      <td>1000</td>\n",
       "      <td>Anamaria</td>\n",
       "      <td>Bauer</td>\n",
       "      <td>45</td>\n",
       "      <td>Atlanta-Sandy Springs-Roswell, GA MSA</td>\n",
       "      <td>2018-12-24</td>\n",
       "      <td>ultimate</td>\n",
       "      <td>NaN</td>\n",
       "    </tr>\n",
       "    <tr>\n",
       "      <th>1</th>\n",
       "      <td>1001</td>\n",
       "      <td>Mickey</td>\n",
       "      <td>Wilkerson</td>\n",
       "      <td>28</td>\n",
       "      <td>Seattle-Tacoma-Bellevue, WA MSA</td>\n",
       "      <td>2018-08-13</td>\n",
       "      <td>surf</td>\n",
       "      <td>NaN</td>\n",
       "    </tr>\n",
       "    <tr>\n",
       "      <th>2</th>\n",
       "      <td>1002</td>\n",
       "      <td>Carlee</td>\n",
       "      <td>Hoffman</td>\n",
       "      <td>36</td>\n",
       "      <td>Las Vegas-Henderson-Paradise, NV MSA</td>\n",
       "      <td>2018-10-21</td>\n",
       "      <td>surf</td>\n",
       "      <td>NaN</td>\n",
       "    </tr>\n",
       "    <tr>\n",
       "      <th>3</th>\n",
       "      <td>1003</td>\n",
       "      <td>Reynaldo</td>\n",
       "      <td>Jenkins</td>\n",
       "      <td>52</td>\n",
       "      <td>Tulsa, OK MSA</td>\n",
       "      <td>2018-01-28</td>\n",
       "      <td>surf</td>\n",
       "      <td>NaN</td>\n",
       "    </tr>\n",
       "    <tr>\n",
       "      <th>4</th>\n",
       "      <td>1004</td>\n",
       "      <td>Leonila</td>\n",
       "      <td>Thompson</td>\n",
       "      <td>40</td>\n",
       "      <td>Seattle-Tacoma-Bellevue, WA MSA</td>\n",
       "      <td>2018-05-23</td>\n",
       "      <td>surf</td>\n",
       "      <td>NaN</td>\n",
       "    </tr>\n",
       "    <tr>\n",
       "      <th>5</th>\n",
       "      <td>1005</td>\n",
       "      <td>Livia</td>\n",
       "      <td>Shields</td>\n",
       "      <td>31</td>\n",
       "      <td>Dallas-Fort Worth-Arlington, TX MSA</td>\n",
       "      <td>2018-11-29</td>\n",
       "      <td>surf</td>\n",
       "      <td>NaN</td>\n",
       "    </tr>\n",
       "    <tr>\n",
       "      <th>6</th>\n",
       "      <td>1006</td>\n",
       "      <td>Jesusa</td>\n",
       "      <td>Bradford</td>\n",
       "      <td>73</td>\n",
       "      <td>San Francisco-Oakland-Berkeley, CA MSA</td>\n",
       "      <td>2018-11-27</td>\n",
       "      <td>ultimate</td>\n",
       "      <td>2018-12-18</td>\n",
       "    </tr>\n",
       "    <tr>\n",
       "      <th>7</th>\n",
       "      <td>1007</td>\n",
       "      <td>Eusebio</td>\n",
       "      <td>Welch</td>\n",
       "      <td>42</td>\n",
       "      <td>Grand Rapids-Kentwood, MI MSA</td>\n",
       "      <td>2018-07-11</td>\n",
       "      <td>surf</td>\n",
       "      <td>NaN</td>\n",
       "    </tr>\n",
       "    <tr>\n",
       "      <th>8</th>\n",
       "      <td>1008</td>\n",
       "      <td>Emely</td>\n",
       "      <td>Hoffman</td>\n",
       "      <td>53</td>\n",
       "      <td>Orlando-Kissimmee-Sanford, FL MSA</td>\n",
       "      <td>2018-08-03</td>\n",
       "      <td>ultimate</td>\n",
       "      <td>NaN</td>\n",
       "    </tr>\n",
       "    <tr>\n",
       "      <th>9</th>\n",
       "      <td>1009</td>\n",
       "      <td>Gerry</td>\n",
       "      <td>Little</td>\n",
       "      <td>19</td>\n",
       "      <td>San Jose-Sunnyvale-Santa Clara, CA MSA</td>\n",
       "      <td>2018-04-22</td>\n",
       "      <td>surf</td>\n",
       "      <td>NaN</td>\n",
       "    </tr>\n",
       "  </tbody>\n",
       "</table>\n",
       "</div>"
      ],
      "text/plain": [
       "   user_id first_name  last_name  age                                    city  \\\n",
       "0     1000   Anamaria      Bauer   45   Atlanta-Sandy Springs-Roswell, GA MSA   \n",
       "1     1001     Mickey  Wilkerson   28         Seattle-Tacoma-Bellevue, WA MSA   \n",
       "2     1002     Carlee    Hoffman   36    Las Vegas-Henderson-Paradise, NV MSA   \n",
       "3     1003   Reynaldo    Jenkins   52                           Tulsa, OK MSA   \n",
       "4     1004    Leonila   Thompson   40         Seattle-Tacoma-Bellevue, WA MSA   \n",
       "5     1005      Livia    Shields   31     Dallas-Fort Worth-Arlington, TX MSA   \n",
       "6     1006     Jesusa   Bradford   73  San Francisco-Oakland-Berkeley, CA MSA   \n",
       "7     1007    Eusebio      Welch   42           Grand Rapids-Kentwood, MI MSA   \n",
       "8     1008      Emely    Hoffman   53       Orlando-Kissimmee-Sanford, FL MSA   \n",
       "9     1009      Gerry     Little   19  San Jose-Sunnyvale-Santa Clara, CA MSA   \n",
       "\n",
       "     reg_date      plan  churn_date  \n",
       "0  2018-12-24  ultimate         NaN  \n",
       "1  2018-08-13      surf         NaN  \n",
       "2  2018-10-21      surf         NaN  \n",
       "3  2018-01-28      surf         NaN  \n",
       "4  2018-05-23      surf         NaN  \n",
       "5  2018-11-29      surf         NaN  \n",
       "6  2018-11-27  ultimate  2018-12-18  \n",
       "7  2018-07-11      surf         NaN  \n",
       "8  2018-08-03  ultimate         NaN  \n",
       "9  2018-04-22      surf         NaN  "
      ]
     },
     "execution_count": 6,
     "metadata": {},
     "output_type": "execute_result"
    }
   ],
   "source": [
    "users_data.head(10)\n"
   ]
  },
  {
   "cell_type": "markdown",
   "metadata": {},
   "source": [
    " "
   ]
  },
  {
   "cell_type": "markdown",
   "metadata": {},
   "source": [
    "### Fix Data"
   ]
  },
  {
   "cell_type": "markdown",
   "metadata": {},
   "source": [
    "I see that churn date is missing a lot of data.I will fill the NaN with 0 to indicate the user has not cancelled their service."
   ]
  },
  {
   "cell_type": "code",
   "execution_count": 7,
   "metadata": {},
   "outputs": [
    {
     "data": {
      "text/html": [
       "<div>\n",
       "<style scoped>\n",
       "    .dataframe tbody tr th:only-of-type {\n",
       "        vertical-align: middle;\n",
       "    }\n",
       "\n",
       "    .dataframe tbody tr th {\n",
       "        vertical-align: top;\n",
       "    }\n",
       "\n",
       "    .dataframe thead th {\n",
       "        text-align: right;\n",
       "    }\n",
       "</style>\n",
       "<table border=\"1\" class=\"dataframe\">\n",
       "  <thead>\n",
       "    <tr style=\"text-align: right;\">\n",
       "      <th></th>\n",
       "      <th>user_id</th>\n",
       "      <th>first_name</th>\n",
       "      <th>last_name</th>\n",
       "      <th>age</th>\n",
       "      <th>city</th>\n",
       "      <th>reg_date</th>\n",
       "      <th>plan</th>\n",
       "      <th>churn_date</th>\n",
       "    </tr>\n",
       "  </thead>\n",
       "  <tbody>\n",
       "    <tr>\n",
       "      <th>0</th>\n",
       "      <td>1000</td>\n",
       "      <td>Anamaria</td>\n",
       "      <td>Bauer</td>\n",
       "      <td>45</td>\n",
       "      <td>Atlanta-Sandy Springs-Roswell, GA MSA</td>\n",
       "      <td>2018-12-24</td>\n",
       "      <td>ultimate</td>\n",
       "      <td>0</td>\n",
       "    </tr>\n",
       "    <tr>\n",
       "      <th>1</th>\n",
       "      <td>1001</td>\n",
       "      <td>Mickey</td>\n",
       "      <td>Wilkerson</td>\n",
       "      <td>28</td>\n",
       "      <td>Seattle-Tacoma-Bellevue, WA MSA</td>\n",
       "      <td>2018-08-13</td>\n",
       "      <td>surf</td>\n",
       "      <td>0</td>\n",
       "    </tr>\n",
       "    <tr>\n",
       "      <th>2</th>\n",
       "      <td>1002</td>\n",
       "      <td>Carlee</td>\n",
       "      <td>Hoffman</td>\n",
       "      <td>36</td>\n",
       "      <td>Las Vegas-Henderson-Paradise, NV MSA</td>\n",
       "      <td>2018-10-21</td>\n",
       "      <td>surf</td>\n",
       "      <td>0</td>\n",
       "    </tr>\n",
       "    <tr>\n",
       "      <th>3</th>\n",
       "      <td>1003</td>\n",
       "      <td>Reynaldo</td>\n",
       "      <td>Jenkins</td>\n",
       "      <td>52</td>\n",
       "      <td>Tulsa, OK MSA</td>\n",
       "      <td>2018-01-28</td>\n",
       "      <td>surf</td>\n",
       "      <td>0</td>\n",
       "    </tr>\n",
       "    <tr>\n",
       "      <th>4</th>\n",
       "      <td>1004</td>\n",
       "      <td>Leonila</td>\n",
       "      <td>Thompson</td>\n",
       "      <td>40</td>\n",
       "      <td>Seattle-Tacoma-Bellevue, WA MSA</td>\n",
       "      <td>2018-05-23</td>\n",
       "      <td>surf</td>\n",
       "      <td>0</td>\n",
       "    </tr>\n",
       "    <tr>\n",
       "      <th>5</th>\n",
       "      <td>1005</td>\n",
       "      <td>Livia</td>\n",
       "      <td>Shields</td>\n",
       "      <td>31</td>\n",
       "      <td>Dallas-Fort Worth-Arlington, TX MSA</td>\n",
       "      <td>2018-11-29</td>\n",
       "      <td>surf</td>\n",
       "      <td>0</td>\n",
       "    </tr>\n",
       "    <tr>\n",
       "      <th>6</th>\n",
       "      <td>1006</td>\n",
       "      <td>Jesusa</td>\n",
       "      <td>Bradford</td>\n",
       "      <td>73</td>\n",
       "      <td>San Francisco-Oakland-Berkeley, CA MSA</td>\n",
       "      <td>2018-11-27</td>\n",
       "      <td>ultimate</td>\n",
       "      <td>2018-12-18</td>\n",
       "    </tr>\n",
       "    <tr>\n",
       "      <th>7</th>\n",
       "      <td>1007</td>\n",
       "      <td>Eusebio</td>\n",
       "      <td>Welch</td>\n",
       "      <td>42</td>\n",
       "      <td>Grand Rapids-Kentwood, MI MSA</td>\n",
       "      <td>2018-07-11</td>\n",
       "      <td>surf</td>\n",
       "      <td>0</td>\n",
       "    </tr>\n",
       "    <tr>\n",
       "      <th>8</th>\n",
       "      <td>1008</td>\n",
       "      <td>Emely</td>\n",
       "      <td>Hoffman</td>\n",
       "      <td>53</td>\n",
       "      <td>Orlando-Kissimmee-Sanford, FL MSA</td>\n",
       "      <td>2018-08-03</td>\n",
       "      <td>ultimate</td>\n",
       "      <td>0</td>\n",
       "    </tr>\n",
       "    <tr>\n",
       "      <th>9</th>\n",
       "      <td>1009</td>\n",
       "      <td>Gerry</td>\n",
       "      <td>Little</td>\n",
       "      <td>19</td>\n",
       "      <td>San Jose-Sunnyvale-Santa Clara, CA MSA</td>\n",
       "      <td>2018-04-22</td>\n",
       "      <td>surf</td>\n",
       "      <td>0</td>\n",
       "    </tr>\n",
       "  </tbody>\n",
       "</table>\n",
       "</div>"
      ],
      "text/plain": [
       "   user_id first_name  last_name  age                                    city  \\\n",
       "0     1000   Anamaria      Bauer   45   Atlanta-Sandy Springs-Roswell, GA MSA   \n",
       "1     1001     Mickey  Wilkerson   28         Seattle-Tacoma-Bellevue, WA MSA   \n",
       "2     1002     Carlee    Hoffman   36    Las Vegas-Henderson-Paradise, NV MSA   \n",
       "3     1003   Reynaldo    Jenkins   52                           Tulsa, OK MSA   \n",
       "4     1004    Leonila   Thompson   40         Seattle-Tacoma-Bellevue, WA MSA   \n",
       "5     1005      Livia    Shields   31     Dallas-Fort Worth-Arlington, TX MSA   \n",
       "6     1006     Jesusa   Bradford   73  San Francisco-Oakland-Berkeley, CA MSA   \n",
       "7     1007    Eusebio      Welch   42           Grand Rapids-Kentwood, MI MSA   \n",
       "8     1008      Emely    Hoffman   53       Orlando-Kissimmee-Sanford, FL MSA   \n",
       "9     1009      Gerry     Little   19  San Jose-Sunnyvale-Santa Clara, CA MSA   \n",
       "\n",
       "     reg_date      plan  churn_date  \n",
       "0  2018-12-24  ultimate           0  \n",
       "1  2018-08-13      surf           0  \n",
       "2  2018-10-21      surf           0  \n",
       "3  2018-01-28      surf           0  \n",
       "4  2018-05-23      surf           0  \n",
       "5  2018-11-29      surf           0  \n",
       "6  2018-11-27  ultimate  2018-12-18  \n",
       "7  2018-07-11      surf           0  \n",
       "8  2018-08-03  ultimate           0  \n",
       "9  2018-04-22      surf           0  "
      ]
     },
     "execution_count": 7,
     "metadata": {},
     "output_type": "execute_result"
    }
   ],
   "source": [
    "users_data['churn_date']=users_data['churn_date'].fillna(0)\n",
    "users_data.head(10)"
   ]
  },
  {
   "cell_type": "markdown",
   "metadata": {},
   "source": [
    "I will change the dtype to datetime for the reg_date column"
   ]
  },
  {
   "cell_type": "code",
   "execution_count": 8,
   "metadata": {},
   "outputs": [
    {
     "name": "stdout",
     "output_type": "stream",
     "text": [
      "<class 'pandas.core.frame.DataFrame'>\n",
      "RangeIndex: 500 entries, 0 to 499\n",
      "Data columns (total 8 columns):\n",
      " #   Column      Non-Null Count  Dtype         \n",
      "---  ------      --------------  -----         \n",
      " 0   user_id     500 non-null    int64         \n",
      " 1   first_name  500 non-null    object        \n",
      " 2   last_name   500 non-null    object        \n",
      " 3   age         500 non-null    int64         \n",
      " 4   city        500 non-null    object        \n",
      " 5   reg_date    500 non-null    datetime64[ns]\n",
      " 6   plan        500 non-null    object        \n",
      " 7   churn_date  500 non-null    object        \n",
      "dtypes: datetime64[ns](1), int64(2), object(5)\n",
      "memory usage: 31.4+ KB\n"
     ]
    },
    {
     "data": {
      "text/html": [
       "<div>\n",
       "<style scoped>\n",
       "    .dataframe tbody tr th:only-of-type {\n",
       "        vertical-align: middle;\n",
       "    }\n",
       "\n",
       "    .dataframe tbody tr th {\n",
       "        vertical-align: top;\n",
       "    }\n",
       "\n",
       "    .dataframe thead th {\n",
       "        text-align: right;\n",
       "    }\n",
       "</style>\n",
       "<table border=\"1\" class=\"dataframe\">\n",
       "  <thead>\n",
       "    <tr style=\"text-align: right;\">\n",
       "      <th></th>\n",
       "      <th>user_id</th>\n",
       "      <th>first_name</th>\n",
       "      <th>last_name</th>\n",
       "      <th>age</th>\n",
       "      <th>city</th>\n",
       "      <th>reg_date</th>\n",
       "      <th>plan</th>\n",
       "      <th>churn_date</th>\n",
       "    </tr>\n",
       "  </thead>\n",
       "  <tbody>\n",
       "    <tr>\n",
       "      <th>0</th>\n",
       "      <td>1000</td>\n",
       "      <td>Anamaria</td>\n",
       "      <td>Bauer</td>\n",
       "      <td>45</td>\n",
       "      <td>Atlanta-Sandy Springs-Roswell, GA MSA</td>\n",
       "      <td>2018-12-24</td>\n",
       "      <td>ultimate</td>\n",
       "      <td>0</td>\n",
       "    </tr>\n",
       "    <tr>\n",
       "      <th>1</th>\n",
       "      <td>1001</td>\n",
       "      <td>Mickey</td>\n",
       "      <td>Wilkerson</td>\n",
       "      <td>28</td>\n",
       "      <td>Seattle-Tacoma-Bellevue, WA MSA</td>\n",
       "      <td>2018-08-13</td>\n",
       "      <td>surf</td>\n",
       "      <td>0</td>\n",
       "    </tr>\n",
       "    <tr>\n",
       "      <th>2</th>\n",
       "      <td>1002</td>\n",
       "      <td>Carlee</td>\n",
       "      <td>Hoffman</td>\n",
       "      <td>36</td>\n",
       "      <td>Las Vegas-Henderson-Paradise, NV MSA</td>\n",
       "      <td>2018-10-21</td>\n",
       "      <td>surf</td>\n",
       "      <td>0</td>\n",
       "    </tr>\n",
       "    <tr>\n",
       "      <th>3</th>\n",
       "      <td>1003</td>\n",
       "      <td>Reynaldo</td>\n",
       "      <td>Jenkins</td>\n",
       "      <td>52</td>\n",
       "      <td>Tulsa, OK MSA</td>\n",
       "      <td>2018-01-28</td>\n",
       "      <td>surf</td>\n",
       "      <td>0</td>\n",
       "    </tr>\n",
       "    <tr>\n",
       "      <th>4</th>\n",
       "      <td>1004</td>\n",
       "      <td>Leonila</td>\n",
       "      <td>Thompson</td>\n",
       "      <td>40</td>\n",
       "      <td>Seattle-Tacoma-Bellevue, WA MSA</td>\n",
       "      <td>2018-05-23</td>\n",
       "      <td>surf</td>\n",
       "      <td>0</td>\n",
       "    </tr>\n",
       "  </tbody>\n",
       "</table>\n",
       "</div>"
      ],
      "text/plain": [
       "   user_id first_name  last_name  age                                   city  \\\n",
       "0     1000   Anamaria      Bauer   45  Atlanta-Sandy Springs-Roswell, GA MSA   \n",
       "1     1001     Mickey  Wilkerson   28        Seattle-Tacoma-Bellevue, WA MSA   \n",
       "2     1002     Carlee    Hoffman   36   Las Vegas-Henderson-Paradise, NV MSA   \n",
       "3     1003   Reynaldo    Jenkins   52                          Tulsa, OK MSA   \n",
       "4     1004    Leonila   Thompson   40        Seattle-Tacoma-Bellevue, WA MSA   \n",
       "\n",
       "    reg_date      plan churn_date  \n",
       "0 2018-12-24  ultimate          0  \n",
       "1 2018-08-13      surf          0  \n",
       "2 2018-10-21      surf          0  \n",
       "3 2018-01-28      surf          0  \n",
       "4 2018-05-23      surf          0  "
      ]
     },
     "execution_count": 8,
     "metadata": {},
     "output_type": "execute_result"
    }
   ],
   "source": [
    "users_data['reg_date']=pd.to_datetime(users_data['reg_date'])\n",
    "users_data.info()\n",
    "users_data.head()"
   ]
  },
  {
   "cell_type": "markdown",
   "metadata": {},
   "source": [
    "## Calls"
   ]
  },
  {
   "cell_type": "code",
   "execution_count": 9,
   "metadata": {},
   "outputs": [
    {
     "name": "stdout",
     "output_type": "stream",
     "text": [
      "<class 'pandas.core.frame.DataFrame'>\n",
      "RangeIndex: 137735 entries, 0 to 137734\n",
      "Data columns (total 4 columns):\n",
      " #   Column     Non-Null Count   Dtype  \n",
      "---  ------     --------------   -----  \n",
      " 0   id         137735 non-null  object \n",
      " 1   user_id    137735 non-null  int64  \n",
      " 2   call_date  137735 non-null  object \n",
      " 3   duration   137735 non-null  float64\n",
      "dtypes: float64(1), int64(1), object(2)\n",
      "memory usage: 4.2+ MB\n"
     ]
    }
   ],
   "source": [
    "calls_data.info()\n"
   ]
  },
  {
   "cell_type": "code",
   "execution_count": 10,
   "metadata": {},
   "outputs": [
    {
     "data": {
      "text/html": [
       "<div>\n",
       "<style scoped>\n",
       "    .dataframe tbody tr th:only-of-type {\n",
       "        vertical-align: middle;\n",
       "    }\n",
       "\n",
       "    .dataframe tbody tr th {\n",
       "        vertical-align: top;\n",
       "    }\n",
       "\n",
       "    .dataframe thead th {\n",
       "        text-align: right;\n",
       "    }\n",
       "</style>\n",
       "<table border=\"1\" class=\"dataframe\">\n",
       "  <thead>\n",
       "    <tr style=\"text-align: right;\">\n",
       "      <th></th>\n",
       "      <th>id</th>\n",
       "      <th>user_id</th>\n",
       "      <th>call_date</th>\n",
       "      <th>duration</th>\n",
       "    </tr>\n",
       "  </thead>\n",
       "  <tbody>\n",
       "    <tr>\n",
       "      <th>0</th>\n",
       "      <td>1000_93</td>\n",
       "      <td>1000</td>\n",
       "      <td>2018-12-27</td>\n",
       "      <td>8.52</td>\n",
       "    </tr>\n",
       "    <tr>\n",
       "      <th>1</th>\n",
       "      <td>1000_145</td>\n",
       "      <td>1000</td>\n",
       "      <td>2018-12-27</td>\n",
       "      <td>13.66</td>\n",
       "    </tr>\n",
       "    <tr>\n",
       "      <th>2</th>\n",
       "      <td>1000_247</td>\n",
       "      <td>1000</td>\n",
       "      <td>2018-12-27</td>\n",
       "      <td>14.48</td>\n",
       "    </tr>\n",
       "    <tr>\n",
       "      <th>3</th>\n",
       "      <td>1000_309</td>\n",
       "      <td>1000</td>\n",
       "      <td>2018-12-28</td>\n",
       "      <td>5.76</td>\n",
       "    </tr>\n",
       "    <tr>\n",
       "      <th>4</th>\n",
       "      <td>1000_380</td>\n",
       "      <td>1000</td>\n",
       "      <td>2018-12-30</td>\n",
       "      <td>4.22</td>\n",
       "    </tr>\n",
       "    <tr>\n",
       "      <th>5</th>\n",
       "      <td>1000_388</td>\n",
       "      <td>1000</td>\n",
       "      <td>2018-12-31</td>\n",
       "      <td>2.20</td>\n",
       "    </tr>\n",
       "    <tr>\n",
       "      <th>6</th>\n",
       "      <td>1000_510</td>\n",
       "      <td>1000</td>\n",
       "      <td>2018-12-27</td>\n",
       "      <td>5.75</td>\n",
       "    </tr>\n",
       "    <tr>\n",
       "      <th>7</th>\n",
       "      <td>1000_521</td>\n",
       "      <td>1000</td>\n",
       "      <td>2018-12-28</td>\n",
       "      <td>14.18</td>\n",
       "    </tr>\n",
       "    <tr>\n",
       "      <th>8</th>\n",
       "      <td>1000_530</td>\n",
       "      <td>1000</td>\n",
       "      <td>2018-12-28</td>\n",
       "      <td>5.77</td>\n",
       "    </tr>\n",
       "    <tr>\n",
       "      <th>9</th>\n",
       "      <td>1000_544</td>\n",
       "      <td>1000</td>\n",
       "      <td>2018-12-26</td>\n",
       "      <td>4.40</td>\n",
       "    </tr>\n",
       "    <tr>\n",
       "      <th>10</th>\n",
       "      <td>1000_693</td>\n",
       "      <td>1000</td>\n",
       "      <td>2018-12-31</td>\n",
       "      <td>4.31</td>\n",
       "    </tr>\n",
       "    <tr>\n",
       "      <th>11</th>\n",
       "      <td>1000_705</td>\n",
       "      <td>1000</td>\n",
       "      <td>2018-12-31</td>\n",
       "      <td>12.78</td>\n",
       "    </tr>\n",
       "    <tr>\n",
       "      <th>12</th>\n",
       "      <td>1000_735</td>\n",
       "      <td>1000</td>\n",
       "      <td>2018-12-29</td>\n",
       "      <td>1.70</td>\n",
       "    </tr>\n",
       "    <tr>\n",
       "      <th>13</th>\n",
       "      <td>1000_778</td>\n",
       "      <td>1000</td>\n",
       "      <td>2018-12-28</td>\n",
       "      <td>3.29</td>\n",
       "    </tr>\n",
       "    <tr>\n",
       "      <th>14</th>\n",
       "      <td>1000_826</td>\n",
       "      <td>1000</td>\n",
       "      <td>2018-12-26</td>\n",
       "      <td>9.96</td>\n",
       "    </tr>\n",
       "    <tr>\n",
       "      <th>15</th>\n",
       "      <td>1000_842</td>\n",
       "      <td>1000</td>\n",
       "      <td>2018-12-27</td>\n",
       "      <td>5.85</td>\n",
       "    </tr>\n",
       "    <tr>\n",
       "      <th>16</th>\n",
       "      <td>1001_0</td>\n",
       "      <td>1001</td>\n",
       "      <td>2018-09-06</td>\n",
       "      <td>10.06</td>\n",
       "    </tr>\n",
       "  </tbody>\n",
       "</table>\n",
       "</div>"
      ],
      "text/plain": [
       "          id  user_id   call_date  duration\n",
       "0    1000_93     1000  2018-12-27      8.52\n",
       "1   1000_145     1000  2018-12-27     13.66\n",
       "2   1000_247     1000  2018-12-27     14.48\n",
       "3   1000_309     1000  2018-12-28      5.76\n",
       "4   1000_380     1000  2018-12-30      4.22\n",
       "5   1000_388     1000  2018-12-31      2.20\n",
       "6   1000_510     1000  2018-12-27      5.75\n",
       "7   1000_521     1000  2018-12-28     14.18\n",
       "8   1000_530     1000  2018-12-28      5.77\n",
       "9   1000_544     1000  2018-12-26      4.40\n",
       "10  1000_693     1000  2018-12-31      4.31\n",
       "11  1000_705     1000  2018-12-31     12.78\n",
       "12  1000_735     1000  2018-12-29      1.70\n",
       "13  1000_778     1000  2018-12-28      3.29\n",
       "14  1000_826     1000  2018-12-26      9.96\n",
       "15  1000_842     1000  2018-12-27      5.85\n",
       "16    1001_0     1001  2018-09-06     10.06"
      ]
     },
     "execution_count": 10,
     "metadata": {},
     "output_type": "execute_result"
    }
   ],
   "source": [
    "calls_data.head(17)"
   ]
  },
  {
   "cell_type": "markdown",
   "metadata": {},
   "source": [
    " I will change the call date dtype to datetime"
   ]
  },
  {
   "cell_type": "markdown",
   "metadata": {},
   "source": [
    " "
   ]
  },
  {
   "cell_type": "markdown",
   "metadata": {},
   "source": [
    "### Fix data"
   ]
  },
  {
   "cell_type": "code",
   "execution_count": 11,
   "metadata": {},
   "outputs": [
    {
     "name": "stdout",
     "output_type": "stream",
     "text": [
      "<class 'pandas.core.frame.DataFrame'>\n",
      "RangeIndex: 137735 entries, 0 to 137734\n",
      "Data columns (total 4 columns):\n",
      " #   Column     Non-Null Count   Dtype         \n",
      "---  ------     --------------   -----         \n",
      " 0   id         137735 non-null  object        \n",
      " 1   user_id    137735 non-null  int64         \n",
      " 2   call_date  137735 non-null  datetime64[ns]\n",
      " 3   duration   137735 non-null  float64       \n",
      "dtypes: datetime64[ns](1), float64(1), int64(1), object(1)\n",
      "memory usage: 4.2+ MB\n"
     ]
    }
   ],
   "source": [
    "calls_data['call_date']=pd.to_datetime(calls_data['call_date'])\n",
    "calls_data.info()"
   ]
  },
  {
   "cell_type": "markdown",
   "metadata": {},
   "source": [
    "now I will make a new column and extract the month calls were placed"
   ]
  },
  {
   "cell_type": "code",
   "execution_count": 12,
   "metadata": {},
   "outputs": [
    {
     "data": {
      "text/html": [
       "<div>\n",
       "<style scoped>\n",
       "    .dataframe tbody tr th:only-of-type {\n",
       "        vertical-align: middle;\n",
       "    }\n",
       "\n",
       "    .dataframe tbody tr th {\n",
       "        vertical-align: top;\n",
       "    }\n",
       "\n",
       "    .dataframe thead th {\n",
       "        text-align: right;\n",
       "    }\n",
       "</style>\n",
       "<table border=\"1\" class=\"dataframe\">\n",
       "  <thead>\n",
       "    <tr style=\"text-align: right;\">\n",
       "      <th></th>\n",
       "      <th>id</th>\n",
       "      <th>user_id</th>\n",
       "      <th>call_date</th>\n",
       "      <th>duration</th>\n",
       "      <th>month</th>\n",
       "    </tr>\n",
       "  </thead>\n",
       "  <tbody>\n",
       "    <tr>\n",
       "      <th>0</th>\n",
       "      <td>1000_93</td>\n",
       "      <td>1000</td>\n",
       "      <td>2018-12-27</td>\n",
       "      <td>8.52</td>\n",
       "      <td>12</td>\n",
       "    </tr>\n",
       "    <tr>\n",
       "      <th>1</th>\n",
       "      <td>1000_145</td>\n",
       "      <td>1000</td>\n",
       "      <td>2018-12-27</td>\n",
       "      <td>13.66</td>\n",
       "      <td>12</td>\n",
       "    </tr>\n",
       "    <tr>\n",
       "      <th>2</th>\n",
       "      <td>1000_247</td>\n",
       "      <td>1000</td>\n",
       "      <td>2018-12-27</td>\n",
       "      <td>14.48</td>\n",
       "      <td>12</td>\n",
       "    </tr>\n",
       "    <tr>\n",
       "      <th>3</th>\n",
       "      <td>1000_309</td>\n",
       "      <td>1000</td>\n",
       "      <td>2018-12-28</td>\n",
       "      <td>5.76</td>\n",
       "      <td>12</td>\n",
       "    </tr>\n",
       "    <tr>\n",
       "      <th>4</th>\n",
       "      <td>1000_380</td>\n",
       "      <td>1000</td>\n",
       "      <td>2018-12-30</td>\n",
       "      <td>4.22</td>\n",
       "      <td>12</td>\n",
       "    </tr>\n",
       "    <tr>\n",
       "      <th>5</th>\n",
       "      <td>1000_388</td>\n",
       "      <td>1000</td>\n",
       "      <td>2018-12-31</td>\n",
       "      <td>2.20</td>\n",
       "      <td>12</td>\n",
       "    </tr>\n",
       "    <tr>\n",
       "      <th>6</th>\n",
       "      <td>1000_510</td>\n",
       "      <td>1000</td>\n",
       "      <td>2018-12-27</td>\n",
       "      <td>5.75</td>\n",
       "      <td>12</td>\n",
       "    </tr>\n",
       "    <tr>\n",
       "      <th>7</th>\n",
       "      <td>1000_521</td>\n",
       "      <td>1000</td>\n",
       "      <td>2018-12-28</td>\n",
       "      <td>14.18</td>\n",
       "      <td>12</td>\n",
       "    </tr>\n",
       "    <tr>\n",
       "      <th>8</th>\n",
       "      <td>1000_530</td>\n",
       "      <td>1000</td>\n",
       "      <td>2018-12-28</td>\n",
       "      <td>5.77</td>\n",
       "      <td>12</td>\n",
       "    </tr>\n",
       "    <tr>\n",
       "      <th>9</th>\n",
       "      <td>1000_544</td>\n",
       "      <td>1000</td>\n",
       "      <td>2018-12-26</td>\n",
       "      <td>4.40</td>\n",
       "      <td>12</td>\n",
       "    </tr>\n",
       "  </tbody>\n",
       "</table>\n",
       "</div>"
      ],
      "text/plain": [
       "         id  user_id  call_date  duration  month\n",
       "0   1000_93     1000 2018-12-27      8.52     12\n",
       "1  1000_145     1000 2018-12-27     13.66     12\n",
       "2  1000_247     1000 2018-12-27     14.48     12\n",
       "3  1000_309     1000 2018-12-28      5.76     12\n",
       "4  1000_380     1000 2018-12-30      4.22     12\n",
       "5  1000_388     1000 2018-12-31      2.20     12\n",
       "6  1000_510     1000 2018-12-27      5.75     12\n",
       "7  1000_521     1000 2018-12-28     14.18     12\n",
       "8  1000_530     1000 2018-12-28      5.77     12\n",
       "9  1000_544     1000 2018-12-26      4.40     12"
      ]
     },
     "execution_count": 12,
     "metadata": {},
     "output_type": "execute_result"
    }
   ],
   "source": [
    "calls_data['month']= calls_data['call_date'].dt.month\n",
    "calls_data.head(10)"
   ]
  },
  {
   "cell_type": "markdown",
   "metadata": {},
   "source": [
    "<div class=\"alert alert-block alert-success\">\n",
    "<b>Reviewer's comment v1:</b>\n",
    "    \n",
    " In this case, we only have data for a year, and the \"month\" method works fine. But for other datasets, this can lead to an error: for example, April 2019 and April 2021 will result in the same number. To display all information, you can use the astype('datetime64[M]') method. It converts the date to the format first day - month - year."
   ]
  },
  {
   "cell_type": "markdown",
   "metadata": {},
   "source": [
    "### Enrich data"
   ]
  },
  {
   "cell_type": "markdown",
   "metadata": {},
   "source": [
    "The duration needs to be rounded to the next minute to be in accordance with megaline's plan requirements"
   ]
  },
  {
   "cell_type": "code",
   "execution_count": 13,
   "metadata": {},
   "outputs": [
    {
     "data": {
      "text/html": [
       "<div>\n",
       "<style scoped>\n",
       "    .dataframe tbody tr th:only-of-type {\n",
       "        vertical-align: middle;\n",
       "    }\n",
       "\n",
       "    .dataframe tbody tr th {\n",
       "        vertical-align: top;\n",
       "    }\n",
       "\n",
       "    .dataframe thead th {\n",
       "        text-align: right;\n",
       "    }\n",
       "</style>\n",
       "<table border=\"1\" class=\"dataframe\">\n",
       "  <thead>\n",
       "    <tr style=\"text-align: right;\">\n",
       "      <th></th>\n",
       "      <th>id</th>\n",
       "      <th>user_id</th>\n",
       "      <th>call_date</th>\n",
       "      <th>duration</th>\n",
       "      <th>month</th>\n",
       "    </tr>\n",
       "  </thead>\n",
       "  <tbody>\n",
       "    <tr>\n",
       "      <th>0</th>\n",
       "      <td>1000_93</td>\n",
       "      <td>1000</td>\n",
       "      <td>2018-12-27</td>\n",
       "      <td>9.0</td>\n",
       "      <td>12</td>\n",
       "    </tr>\n",
       "    <tr>\n",
       "      <th>1</th>\n",
       "      <td>1000_145</td>\n",
       "      <td>1000</td>\n",
       "      <td>2018-12-27</td>\n",
       "      <td>14.0</td>\n",
       "      <td>12</td>\n",
       "    </tr>\n",
       "    <tr>\n",
       "      <th>2</th>\n",
       "      <td>1000_247</td>\n",
       "      <td>1000</td>\n",
       "      <td>2018-12-27</td>\n",
       "      <td>15.0</td>\n",
       "      <td>12</td>\n",
       "    </tr>\n",
       "    <tr>\n",
       "      <th>3</th>\n",
       "      <td>1000_309</td>\n",
       "      <td>1000</td>\n",
       "      <td>2018-12-28</td>\n",
       "      <td>6.0</td>\n",
       "      <td>12</td>\n",
       "    </tr>\n",
       "    <tr>\n",
       "      <th>4</th>\n",
       "      <td>1000_380</td>\n",
       "      <td>1000</td>\n",
       "      <td>2018-12-30</td>\n",
       "      <td>5.0</td>\n",
       "      <td>12</td>\n",
       "    </tr>\n",
       "    <tr>\n",
       "      <th>...</th>\n",
       "      <td>...</td>\n",
       "      <td>...</td>\n",
       "      <td>...</td>\n",
       "      <td>...</td>\n",
       "      <td>...</td>\n",
       "    </tr>\n",
       "    <tr>\n",
       "      <th>137730</th>\n",
       "      <td>1499_199</td>\n",
       "      <td>1499</td>\n",
       "      <td>2018-11-21</td>\n",
       "      <td>9.0</td>\n",
       "      <td>11</td>\n",
       "    </tr>\n",
       "    <tr>\n",
       "      <th>137731</th>\n",
       "      <td>1499_200</td>\n",
       "      <td>1499</td>\n",
       "      <td>2018-10-20</td>\n",
       "      <td>11.0</td>\n",
       "      <td>10</td>\n",
       "    </tr>\n",
       "    <tr>\n",
       "      <th>137732</th>\n",
       "      <td>1499_201</td>\n",
       "      <td>1499</td>\n",
       "      <td>2018-09-21</td>\n",
       "      <td>9.0</td>\n",
       "      <td>9</td>\n",
       "    </tr>\n",
       "    <tr>\n",
       "      <th>137733</th>\n",
       "      <td>1499_202</td>\n",
       "      <td>1499</td>\n",
       "      <td>2018-10-10</td>\n",
       "      <td>1.0</td>\n",
       "      <td>10</td>\n",
       "    </tr>\n",
       "    <tr>\n",
       "      <th>137734</th>\n",
       "      <td>1499_203</td>\n",
       "      <td>1499</td>\n",
       "      <td>2018-12-29</td>\n",
       "      <td>14.0</td>\n",
       "      <td>12</td>\n",
       "    </tr>\n",
       "  </tbody>\n",
       "</table>\n",
       "<p>137735 rows × 5 columns</p>\n",
       "</div>"
      ],
      "text/plain": [
       "              id  user_id  call_date  duration  month\n",
       "0        1000_93     1000 2018-12-27       9.0     12\n",
       "1       1000_145     1000 2018-12-27      14.0     12\n",
       "2       1000_247     1000 2018-12-27      15.0     12\n",
       "3       1000_309     1000 2018-12-28       6.0     12\n",
       "4       1000_380     1000 2018-12-30       5.0     12\n",
       "...          ...      ...        ...       ...    ...\n",
       "137730  1499_199     1499 2018-11-21       9.0     11\n",
       "137731  1499_200     1499 2018-10-20      11.0     10\n",
       "137732  1499_201     1499 2018-09-21       9.0      9\n",
       "137733  1499_202     1499 2018-10-10       1.0     10\n",
       "137734  1499_203     1499 2018-12-29      14.0     12\n",
       "\n",
       "[137735 rows x 5 columns]"
      ]
     },
     "execution_count": 13,
     "metadata": {},
     "output_type": "execute_result"
    }
   ],
   "source": [
    "calls_data['duration']=np.ceil(calls_data['duration'])\n",
    "calls_data"
   ]
  },
  {
   "cell_type": "markdown",
   "metadata": {},
   "source": [
    "<div class=\"alert alert-block alert-success\">\n",
    "<b>Reviewer's comment v1:</b>\n",
    "    \n",
    "Ok, great job! Good that you added data rounding. Also, great choice of np.ceil () method. \n"
   ]
  },
  {
   "cell_type": "markdown",
   "metadata": {},
   "source": [
    "## Messages"
   ]
  },
  {
   "cell_type": "code",
   "execution_count": 14,
   "metadata": {},
   "outputs": [
    {
     "name": "stdout",
     "output_type": "stream",
     "text": [
      "<class 'pandas.core.frame.DataFrame'>\n",
      "RangeIndex: 76051 entries, 0 to 76050\n",
      "Data columns (total 3 columns):\n",
      " #   Column        Non-Null Count  Dtype \n",
      "---  ------        --------------  ----- \n",
      " 0   id            76051 non-null  object\n",
      " 1   user_id       76051 non-null  int64 \n",
      " 2   message_date  76051 non-null  object\n",
      "dtypes: int64(1), object(2)\n",
      "memory usage: 1.7+ MB\n"
     ]
    }
   ],
   "source": [
    "messages_data.info()"
   ]
  },
  {
   "cell_type": "code",
   "execution_count": 15,
   "metadata": {},
   "outputs": [
    {
     "data": {
      "text/html": [
       "<div>\n",
       "<style scoped>\n",
       "    .dataframe tbody tr th:only-of-type {\n",
       "        vertical-align: middle;\n",
       "    }\n",
       "\n",
       "    .dataframe tbody tr th {\n",
       "        vertical-align: top;\n",
       "    }\n",
       "\n",
       "    .dataframe thead th {\n",
       "        text-align: right;\n",
       "    }\n",
       "</style>\n",
       "<table border=\"1\" class=\"dataframe\">\n",
       "  <thead>\n",
       "    <tr style=\"text-align: right;\">\n",
       "      <th></th>\n",
       "      <th>id</th>\n",
       "      <th>user_id</th>\n",
       "      <th>message_date</th>\n",
       "    </tr>\n",
       "  </thead>\n",
       "  <tbody>\n",
       "    <tr>\n",
       "      <th>0</th>\n",
       "      <td>1000_125</td>\n",
       "      <td>1000</td>\n",
       "      <td>2018-12-27</td>\n",
       "    </tr>\n",
       "    <tr>\n",
       "      <th>1</th>\n",
       "      <td>1000_160</td>\n",
       "      <td>1000</td>\n",
       "      <td>2018-12-31</td>\n",
       "    </tr>\n",
       "    <tr>\n",
       "      <th>2</th>\n",
       "      <td>1000_223</td>\n",
       "      <td>1000</td>\n",
       "      <td>2018-12-31</td>\n",
       "    </tr>\n",
       "    <tr>\n",
       "      <th>3</th>\n",
       "      <td>1000_251</td>\n",
       "      <td>1000</td>\n",
       "      <td>2018-12-27</td>\n",
       "    </tr>\n",
       "    <tr>\n",
       "      <th>4</th>\n",
       "      <td>1000_255</td>\n",
       "      <td>1000</td>\n",
       "      <td>2018-12-26</td>\n",
       "    </tr>\n",
       "    <tr>\n",
       "      <th>5</th>\n",
       "      <td>1000_346</td>\n",
       "      <td>1000</td>\n",
       "      <td>2018-12-29</td>\n",
       "    </tr>\n",
       "    <tr>\n",
       "      <th>6</th>\n",
       "      <td>1000_386</td>\n",
       "      <td>1000</td>\n",
       "      <td>2018-12-30</td>\n",
       "    </tr>\n",
       "    <tr>\n",
       "      <th>7</th>\n",
       "      <td>1000_413</td>\n",
       "      <td>1000</td>\n",
       "      <td>2018-12-31</td>\n",
       "    </tr>\n",
       "    <tr>\n",
       "      <th>8</th>\n",
       "      <td>1000_502</td>\n",
       "      <td>1000</td>\n",
       "      <td>2018-12-27</td>\n",
       "    </tr>\n",
       "    <tr>\n",
       "      <th>9</th>\n",
       "      <td>1000_525</td>\n",
       "      <td>1000</td>\n",
       "      <td>2018-12-28</td>\n",
       "    </tr>\n",
       "  </tbody>\n",
       "</table>\n",
       "</div>"
      ],
      "text/plain": [
       "         id  user_id message_date\n",
       "0  1000_125     1000   2018-12-27\n",
       "1  1000_160     1000   2018-12-31\n",
       "2  1000_223     1000   2018-12-31\n",
       "3  1000_251     1000   2018-12-27\n",
       "4  1000_255     1000   2018-12-26\n",
       "5  1000_346     1000   2018-12-29\n",
       "6  1000_386     1000   2018-12-30\n",
       "7  1000_413     1000   2018-12-31\n",
       "8  1000_502     1000   2018-12-27\n",
       "9  1000_525     1000   2018-12-28"
      ]
     },
     "execution_count": 15,
     "metadata": {},
     "output_type": "execute_result"
    }
   ],
   "source": [
    "messages_data.head(10)"
   ]
  },
  {
   "cell_type": "markdown",
   "metadata": {},
   "source": [
    " "
   ]
  },
  {
   "cell_type": "markdown",
   "metadata": {},
   "source": [
    "### Fix data"
   ]
  },
  {
   "cell_type": "markdown",
   "metadata": {},
   "source": [
    "message_date will be changed to datetime"
   ]
  },
  {
   "cell_type": "code",
   "execution_count": 16,
   "metadata": {},
   "outputs": [
    {
     "name": "stdout",
     "output_type": "stream",
     "text": [
      "<class 'pandas.core.frame.DataFrame'>\n",
      "RangeIndex: 76051 entries, 0 to 76050\n",
      "Data columns (total 3 columns):\n",
      " #   Column        Non-Null Count  Dtype         \n",
      "---  ------        --------------  -----         \n",
      " 0   id            76051 non-null  object        \n",
      " 1   user_id       76051 non-null  int64         \n",
      " 2   message_date  76051 non-null  datetime64[ns]\n",
      "dtypes: datetime64[ns](1), int64(1), object(1)\n",
      "memory usage: 1.7+ MB\n"
     ]
    }
   ],
   "source": [
    "messages_data['message_date']=pd.to_datetime(messages_data['message_date'])\n",
    "messages_data.info()"
   ]
  },
  {
   "cell_type": "markdown",
   "metadata": {},
   "source": [
    "### Enrich data"
   ]
  },
  {
   "cell_type": "markdown",
   "metadata": {},
   "source": [
    "Again I will extract the month the message was placed and make it its own column"
   ]
  },
  {
   "cell_type": "code",
   "execution_count": 17,
   "metadata": {},
   "outputs": [
    {
     "data": {
      "text/html": [
       "<div>\n",
       "<style scoped>\n",
       "    .dataframe tbody tr th:only-of-type {\n",
       "        vertical-align: middle;\n",
       "    }\n",
       "\n",
       "    .dataframe tbody tr th {\n",
       "        vertical-align: top;\n",
       "    }\n",
       "\n",
       "    .dataframe thead th {\n",
       "        text-align: right;\n",
       "    }\n",
       "</style>\n",
       "<table border=\"1\" class=\"dataframe\">\n",
       "  <thead>\n",
       "    <tr style=\"text-align: right;\">\n",
       "      <th></th>\n",
       "      <th>id</th>\n",
       "      <th>user_id</th>\n",
       "      <th>message_date</th>\n",
       "      <th>month</th>\n",
       "    </tr>\n",
       "  </thead>\n",
       "  <tbody>\n",
       "    <tr>\n",
       "      <th>0</th>\n",
       "      <td>1000_125</td>\n",
       "      <td>1000</td>\n",
       "      <td>2018-12-27</td>\n",
       "      <td>12</td>\n",
       "    </tr>\n",
       "    <tr>\n",
       "      <th>1</th>\n",
       "      <td>1000_160</td>\n",
       "      <td>1000</td>\n",
       "      <td>2018-12-31</td>\n",
       "      <td>12</td>\n",
       "    </tr>\n",
       "    <tr>\n",
       "      <th>2</th>\n",
       "      <td>1000_223</td>\n",
       "      <td>1000</td>\n",
       "      <td>2018-12-31</td>\n",
       "      <td>12</td>\n",
       "    </tr>\n",
       "    <tr>\n",
       "      <th>3</th>\n",
       "      <td>1000_251</td>\n",
       "      <td>1000</td>\n",
       "      <td>2018-12-27</td>\n",
       "      <td>12</td>\n",
       "    </tr>\n",
       "    <tr>\n",
       "      <th>4</th>\n",
       "      <td>1000_255</td>\n",
       "      <td>1000</td>\n",
       "      <td>2018-12-26</td>\n",
       "      <td>12</td>\n",
       "    </tr>\n",
       "    <tr>\n",
       "      <th>5</th>\n",
       "      <td>1000_346</td>\n",
       "      <td>1000</td>\n",
       "      <td>2018-12-29</td>\n",
       "      <td>12</td>\n",
       "    </tr>\n",
       "    <tr>\n",
       "      <th>6</th>\n",
       "      <td>1000_386</td>\n",
       "      <td>1000</td>\n",
       "      <td>2018-12-30</td>\n",
       "      <td>12</td>\n",
       "    </tr>\n",
       "    <tr>\n",
       "      <th>7</th>\n",
       "      <td>1000_413</td>\n",
       "      <td>1000</td>\n",
       "      <td>2018-12-31</td>\n",
       "      <td>12</td>\n",
       "    </tr>\n",
       "    <tr>\n",
       "      <th>8</th>\n",
       "      <td>1000_502</td>\n",
       "      <td>1000</td>\n",
       "      <td>2018-12-27</td>\n",
       "      <td>12</td>\n",
       "    </tr>\n",
       "    <tr>\n",
       "      <th>9</th>\n",
       "      <td>1000_525</td>\n",
       "      <td>1000</td>\n",
       "      <td>2018-12-28</td>\n",
       "      <td>12</td>\n",
       "    </tr>\n",
       "  </tbody>\n",
       "</table>\n",
       "</div>"
      ],
      "text/plain": [
       "         id  user_id message_date  month\n",
       "0  1000_125     1000   2018-12-27     12\n",
       "1  1000_160     1000   2018-12-31     12\n",
       "2  1000_223     1000   2018-12-31     12\n",
       "3  1000_251     1000   2018-12-27     12\n",
       "4  1000_255     1000   2018-12-26     12\n",
       "5  1000_346     1000   2018-12-29     12\n",
       "6  1000_386     1000   2018-12-30     12\n",
       "7  1000_413     1000   2018-12-31     12\n",
       "8  1000_502     1000   2018-12-27     12\n",
       "9  1000_525     1000   2018-12-28     12"
      ]
     },
     "execution_count": 17,
     "metadata": {},
     "output_type": "execute_result"
    }
   ],
   "source": [
    "messages_data['month']= messages_data['message_date'].dt.month\n",
    "messages_data.head(10)"
   ]
  },
  {
   "cell_type": "markdown",
   "metadata": {},
   "source": [
    "## Internet"
   ]
  },
  {
   "cell_type": "code",
   "execution_count": 18,
   "metadata": {},
   "outputs": [
    {
     "name": "stdout",
     "output_type": "stream",
     "text": [
      "<class 'pandas.core.frame.DataFrame'>\n",
      "RangeIndex: 104825 entries, 0 to 104824\n",
      "Data columns (total 4 columns):\n",
      " #   Column        Non-Null Count   Dtype  \n",
      "---  ------        --------------   -----  \n",
      " 0   id            104825 non-null  object \n",
      " 1   user_id       104825 non-null  int64  \n",
      " 2   session_date  104825 non-null  object \n",
      " 3   mb_used       104825 non-null  float64\n",
      "dtypes: float64(1), int64(1), object(2)\n",
      "memory usage: 3.2+ MB\n"
     ]
    }
   ],
   "source": [
    "internet_data.info()\n"
   ]
  },
  {
   "cell_type": "code",
   "execution_count": 19,
   "metadata": {},
   "outputs": [
    {
     "data": {
      "text/html": [
       "<div>\n",
       "<style scoped>\n",
       "    .dataframe tbody tr th:only-of-type {\n",
       "        vertical-align: middle;\n",
       "    }\n",
       "\n",
       "    .dataframe tbody tr th {\n",
       "        vertical-align: top;\n",
       "    }\n",
       "\n",
       "    .dataframe thead th {\n",
       "        text-align: right;\n",
       "    }\n",
       "</style>\n",
       "<table border=\"1\" class=\"dataframe\">\n",
       "  <thead>\n",
       "    <tr style=\"text-align: right;\">\n",
       "      <th></th>\n",
       "      <th>id</th>\n",
       "      <th>user_id</th>\n",
       "      <th>session_date</th>\n",
       "      <th>mb_used</th>\n",
       "    </tr>\n",
       "  </thead>\n",
       "  <tbody>\n",
       "    <tr>\n",
       "      <th>0</th>\n",
       "      <td>1000_13</td>\n",
       "      <td>1000</td>\n",
       "      <td>2018-12-29</td>\n",
       "      <td>89.86</td>\n",
       "    </tr>\n",
       "    <tr>\n",
       "      <th>1</th>\n",
       "      <td>1000_204</td>\n",
       "      <td>1000</td>\n",
       "      <td>2018-12-31</td>\n",
       "      <td>0.00</td>\n",
       "    </tr>\n",
       "    <tr>\n",
       "      <th>2</th>\n",
       "      <td>1000_379</td>\n",
       "      <td>1000</td>\n",
       "      <td>2018-12-28</td>\n",
       "      <td>660.40</td>\n",
       "    </tr>\n",
       "    <tr>\n",
       "      <th>3</th>\n",
       "      <td>1000_413</td>\n",
       "      <td>1000</td>\n",
       "      <td>2018-12-26</td>\n",
       "      <td>270.99</td>\n",
       "    </tr>\n",
       "    <tr>\n",
       "      <th>4</th>\n",
       "      <td>1000_442</td>\n",
       "      <td>1000</td>\n",
       "      <td>2018-12-27</td>\n",
       "      <td>880.22</td>\n",
       "    </tr>\n",
       "    <tr>\n",
       "      <th>5</th>\n",
       "      <td>1001_0</td>\n",
       "      <td>1001</td>\n",
       "      <td>2018-08-24</td>\n",
       "      <td>284.68</td>\n",
       "    </tr>\n",
       "    <tr>\n",
       "      <th>6</th>\n",
       "      <td>1001_3</td>\n",
       "      <td>1001</td>\n",
       "      <td>2018-12-09</td>\n",
       "      <td>656.04</td>\n",
       "    </tr>\n",
       "    <tr>\n",
       "      <th>7</th>\n",
       "      <td>1001_4</td>\n",
       "      <td>1001</td>\n",
       "      <td>2018-11-04</td>\n",
       "      <td>16.97</td>\n",
       "    </tr>\n",
       "    <tr>\n",
       "      <th>8</th>\n",
       "      <td>1001_10</td>\n",
       "      <td>1001</td>\n",
       "      <td>2018-11-27</td>\n",
       "      <td>135.18</td>\n",
       "    </tr>\n",
       "    <tr>\n",
       "      <th>9</th>\n",
       "      <td>1001_15</td>\n",
       "      <td>1001</td>\n",
       "      <td>2018-12-13</td>\n",
       "      <td>761.92</td>\n",
       "    </tr>\n",
       "  </tbody>\n",
       "</table>\n",
       "</div>"
      ],
      "text/plain": [
       "         id  user_id session_date  mb_used\n",
       "0   1000_13     1000   2018-12-29    89.86\n",
       "1  1000_204     1000   2018-12-31     0.00\n",
       "2  1000_379     1000   2018-12-28   660.40\n",
       "3  1000_413     1000   2018-12-26   270.99\n",
       "4  1000_442     1000   2018-12-27   880.22\n",
       "5    1001_0     1001   2018-08-24   284.68\n",
       "6    1001_3     1001   2018-12-09   656.04\n",
       "7    1001_4     1001   2018-11-04    16.97\n",
       "8   1001_10     1001   2018-11-27   135.18\n",
       "9   1001_15     1001   2018-12-13   761.92"
      ]
     },
     "execution_count": 19,
     "metadata": {},
     "output_type": "execute_result"
    }
   ],
   "source": [
    "internet_data.head(10)"
   ]
  },
  {
   "cell_type": "markdown",
   "metadata": {},
   "source": [
    "I will repeat the steps I took before for datetime and extracting the month. "
   ]
  },
  {
   "cell_type": "markdown",
   "metadata": {},
   "source": [
    "### Fix data"
   ]
  },
  {
   "cell_type": "code",
   "execution_count": 20,
   "metadata": {},
   "outputs": [
    {
     "name": "stdout",
     "output_type": "stream",
     "text": [
      "<class 'pandas.core.frame.DataFrame'>\n",
      "RangeIndex: 104825 entries, 0 to 104824\n",
      "Data columns (total 4 columns):\n",
      " #   Column        Non-Null Count   Dtype         \n",
      "---  ------        --------------   -----         \n",
      " 0   id            104825 non-null  object        \n",
      " 1   user_id       104825 non-null  int64         \n",
      " 2   session_date  104825 non-null  datetime64[ns]\n",
      " 3   mb_used       104825 non-null  float64       \n",
      "dtypes: datetime64[ns](1), float64(1), int64(1), object(1)\n",
      "memory usage: 3.2+ MB\n"
     ]
    }
   ],
   "source": [
    "internet_data['session_date']=pd.to_datetime(internet_data['session_date'])\n",
    "internet_data.info()"
   ]
  },
  {
   "cell_type": "markdown",
   "metadata": {},
   "source": [
    "### Enrich data"
   ]
  },
  {
   "cell_type": "code",
   "execution_count": 21,
   "metadata": {},
   "outputs": [
    {
     "data": {
      "text/html": [
       "<div>\n",
       "<style scoped>\n",
       "    .dataframe tbody tr th:only-of-type {\n",
       "        vertical-align: middle;\n",
       "    }\n",
       "\n",
       "    .dataframe tbody tr th {\n",
       "        vertical-align: top;\n",
       "    }\n",
       "\n",
       "    .dataframe thead th {\n",
       "        text-align: right;\n",
       "    }\n",
       "</style>\n",
       "<table border=\"1\" class=\"dataframe\">\n",
       "  <thead>\n",
       "    <tr style=\"text-align: right;\">\n",
       "      <th></th>\n",
       "      <th>id</th>\n",
       "      <th>user_id</th>\n",
       "      <th>session_date</th>\n",
       "      <th>mb_used</th>\n",
       "      <th>month</th>\n",
       "    </tr>\n",
       "  </thead>\n",
       "  <tbody>\n",
       "    <tr>\n",
       "      <th>0</th>\n",
       "      <td>1000_13</td>\n",
       "      <td>1000</td>\n",
       "      <td>2018-12-29</td>\n",
       "      <td>89.86</td>\n",
       "      <td>12</td>\n",
       "    </tr>\n",
       "    <tr>\n",
       "      <th>1</th>\n",
       "      <td>1000_204</td>\n",
       "      <td>1000</td>\n",
       "      <td>2018-12-31</td>\n",
       "      <td>0.00</td>\n",
       "      <td>12</td>\n",
       "    </tr>\n",
       "    <tr>\n",
       "      <th>2</th>\n",
       "      <td>1000_379</td>\n",
       "      <td>1000</td>\n",
       "      <td>2018-12-28</td>\n",
       "      <td>660.40</td>\n",
       "      <td>12</td>\n",
       "    </tr>\n",
       "    <tr>\n",
       "      <th>3</th>\n",
       "      <td>1000_413</td>\n",
       "      <td>1000</td>\n",
       "      <td>2018-12-26</td>\n",
       "      <td>270.99</td>\n",
       "      <td>12</td>\n",
       "    </tr>\n",
       "    <tr>\n",
       "      <th>4</th>\n",
       "      <td>1000_442</td>\n",
       "      <td>1000</td>\n",
       "      <td>2018-12-27</td>\n",
       "      <td>880.22</td>\n",
       "      <td>12</td>\n",
       "    </tr>\n",
       "    <tr>\n",
       "      <th>5</th>\n",
       "      <td>1001_0</td>\n",
       "      <td>1001</td>\n",
       "      <td>2018-08-24</td>\n",
       "      <td>284.68</td>\n",
       "      <td>8</td>\n",
       "    </tr>\n",
       "    <tr>\n",
       "      <th>6</th>\n",
       "      <td>1001_3</td>\n",
       "      <td>1001</td>\n",
       "      <td>2018-12-09</td>\n",
       "      <td>656.04</td>\n",
       "      <td>12</td>\n",
       "    </tr>\n",
       "    <tr>\n",
       "      <th>7</th>\n",
       "      <td>1001_4</td>\n",
       "      <td>1001</td>\n",
       "      <td>2018-11-04</td>\n",
       "      <td>16.97</td>\n",
       "      <td>11</td>\n",
       "    </tr>\n",
       "    <tr>\n",
       "      <th>8</th>\n",
       "      <td>1001_10</td>\n",
       "      <td>1001</td>\n",
       "      <td>2018-11-27</td>\n",
       "      <td>135.18</td>\n",
       "      <td>11</td>\n",
       "    </tr>\n",
       "    <tr>\n",
       "      <th>9</th>\n",
       "      <td>1001_15</td>\n",
       "      <td>1001</td>\n",
       "      <td>2018-12-13</td>\n",
       "      <td>761.92</td>\n",
       "      <td>12</td>\n",
       "    </tr>\n",
       "  </tbody>\n",
       "</table>\n",
       "</div>"
      ],
      "text/plain": [
       "         id  user_id session_date  mb_used  month\n",
       "0   1000_13     1000   2018-12-29    89.86     12\n",
       "1  1000_204     1000   2018-12-31     0.00     12\n",
       "2  1000_379     1000   2018-12-28   660.40     12\n",
       "3  1000_413     1000   2018-12-26   270.99     12\n",
       "4  1000_442     1000   2018-12-27   880.22     12\n",
       "5    1001_0     1001   2018-08-24   284.68      8\n",
       "6    1001_3     1001   2018-12-09   656.04     12\n",
       "7    1001_4     1001   2018-11-04    16.97     11\n",
       "8   1001_10     1001   2018-11-27   135.18     11\n",
       "9   1001_15     1001   2018-12-13   761.92     12"
      ]
     },
     "execution_count": 21,
     "metadata": {},
     "output_type": "execute_result"
    }
   ],
   "source": [
    "internet_data['month']= internet_data['session_date'].dt.month\n",
    "internet_data.head(10)"
   ]
  },
  {
   "cell_type": "markdown",
   "metadata": {},
   "source": [
    "## Study plan conditions"
   ]
  },
  {
   "cell_type": "code",
   "execution_count": 22,
   "metadata": {},
   "outputs": [
    {
     "data": {
      "text/html": [
       "<div>\n",
       "<style scoped>\n",
       "    .dataframe tbody tr th:only-of-type {\n",
       "        vertical-align: middle;\n",
       "    }\n",
       "\n",
       "    .dataframe tbody tr th {\n",
       "        vertical-align: top;\n",
       "    }\n",
       "\n",
       "    .dataframe thead th {\n",
       "        text-align: right;\n",
       "    }\n",
       "</style>\n",
       "<table border=\"1\" class=\"dataframe\">\n",
       "  <thead>\n",
       "    <tr style=\"text-align: right;\">\n",
       "      <th></th>\n",
       "      <th>messages_included</th>\n",
       "      <th>mb_per_month_included</th>\n",
       "      <th>minutes_included</th>\n",
       "      <th>usd_monthly_pay</th>\n",
       "      <th>usd_per_gb</th>\n",
       "      <th>usd_per_message</th>\n",
       "      <th>usd_per_minute</th>\n",
       "      <th>plan_name</th>\n",
       "    </tr>\n",
       "  </thead>\n",
       "  <tbody>\n",
       "    <tr>\n",
       "      <th>0</th>\n",
       "      <td>50</td>\n",
       "      <td>15360</td>\n",
       "      <td>500</td>\n",
       "      <td>20</td>\n",
       "      <td>10</td>\n",
       "      <td>0.03</td>\n",
       "      <td>0.03</td>\n",
       "      <td>surf</td>\n",
       "    </tr>\n",
       "    <tr>\n",
       "      <th>1</th>\n",
       "      <td>1000</td>\n",
       "      <td>30720</td>\n",
       "      <td>3000</td>\n",
       "      <td>70</td>\n",
       "      <td>7</td>\n",
       "      <td>0.01</td>\n",
       "      <td>0.01</td>\n",
       "      <td>ultimate</td>\n",
       "    </tr>\n",
       "  </tbody>\n",
       "</table>\n",
       "</div>"
      ],
      "text/plain": [
       "   messages_included  mb_per_month_included  minutes_included  \\\n",
       "0                 50                  15360               500   \n",
       "1               1000                  30720              3000   \n",
       "\n",
       "   usd_monthly_pay  usd_per_gb  usd_per_message  usd_per_minute plan_name  \n",
       "0               20          10             0.03            0.03      surf  \n",
       "1               70           7             0.01            0.01  ultimate  "
      ]
     },
     "execution_count": 22,
     "metadata": {},
     "output_type": "execute_result"
    }
   ],
   "source": [
    "plans_data"
   ]
  },
  {
   "cell_type": "markdown",
   "metadata": {},
   "source": [
    "<div class=\"alert alert-success\">\n",
    "<b>Reviewer's comment v1:</b>\n",
    "    \n",
    "Good start and first view on data!\n",
    "\n",
    "Next time, you can also create a function with all data processing steps to run it through all your datasets and avoid repetitive code."
   ]
  },
  {
   "cell_type": "markdown",
   "metadata": {},
   "source": [
    "## Aggregate data per user\n",
    "\n",
    "Now I will aggregate data per user per month in order to have just one record per user per month."
   ]
  },
  {
   "cell_type": "code",
   "execution_count": 23,
   "metadata": {},
   "outputs": [
    {
     "data": {
      "text/html": [
       "<div>\n",
       "<style scoped>\n",
       "    .dataframe tbody tr th:only-of-type {\n",
       "        vertical-align: middle;\n",
       "    }\n",
       "\n",
       "    .dataframe tbody tr th {\n",
       "        vertical-align: top;\n",
       "    }\n",
       "\n",
       "    .dataframe thead th {\n",
       "        text-align: right;\n",
       "    }\n",
       "</style>\n",
       "<table border=\"1\" class=\"dataframe\">\n",
       "  <thead>\n",
       "    <tr style=\"text-align: right;\">\n",
       "      <th></th>\n",
       "      <th></th>\n",
       "      <th>calls_count</th>\n",
       "    </tr>\n",
       "    <tr>\n",
       "      <th>user_id</th>\n",
       "      <th>month</th>\n",
       "      <th></th>\n",
       "    </tr>\n",
       "  </thead>\n",
       "  <tbody>\n",
       "    <tr>\n",
       "      <th>1000</th>\n",
       "      <th>12</th>\n",
       "      <td>16</td>\n",
       "    </tr>\n",
       "    <tr>\n",
       "      <th rowspan=\"4\" valign=\"top\">1001</th>\n",
       "      <th>8</th>\n",
       "      <td>27</td>\n",
       "    </tr>\n",
       "    <tr>\n",
       "      <th>9</th>\n",
       "      <td>49</td>\n",
       "    </tr>\n",
       "    <tr>\n",
       "      <th>10</th>\n",
       "      <td>65</td>\n",
       "    </tr>\n",
       "    <tr>\n",
       "      <th>11</th>\n",
       "      <td>64</td>\n",
       "    </tr>\n",
       "    <tr>\n",
       "      <th>...</th>\n",
       "      <th>...</th>\n",
       "      <td>...</td>\n",
       "    </tr>\n",
       "    <tr>\n",
       "      <th>1498</th>\n",
       "      <th>12</th>\n",
       "      <td>39</td>\n",
       "    </tr>\n",
       "    <tr>\n",
       "      <th rowspan=\"4\" valign=\"top\">1499</th>\n",
       "      <th>9</th>\n",
       "      <td>41</td>\n",
       "    </tr>\n",
       "    <tr>\n",
       "      <th>10</th>\n",
       "      <td>53</td>\n",
       "    </tr>\n",
       "    <tr>\n",
       "      <th>11</th>\n",
       "      <td>45</td>\n",
       "    </tr>\n",
       "    <tr>\n",
       "      <th>12</th>\n",
       "      <td>65</td>\n",
       "    </tr>\n",
       "  </tbody>\n",
       "</table>\n",
       "<p>2258 rows × 1 columns</p>\n",
       "</div>"
      ],
      "text/plain": [
       "               calls_count\n",
       "user_id month             \n",
       "1000    12              16\n",
       "1001    8               27\n",
       "        9               49\n",
       "        10              65\n",
       "        11              64\n",
       "...                    ...\n",
       "1498    12              39\n",
       "1499    9               41\n",
       "        10              53\n",
       "        11              45\n",
       "        12              65\n",
       "\n",
       "[2258 rows x 1 columns]"
      ]
     },
     "execution_count": 23,
     "metadata": {},
     "output_type": "execute_result"
    }
   ],
   "source": [
    "user_calls=calls_data.groupby(['user_id','month'])['user_id'].agg(calls_count='count')\n",
    "user_calls"
   ]
  },
  {
   "cell_type": "code",
   "execution_count": 24,
   "metadata": {},
   "outputs": [
    {
     "data": {
      "text/html": [
       "<div>\n",
       "<style scoped>\n",
       "    .dataframe tbody tr th:only-of-type {\n",
       "        vertical-align: middle;\n",
       "    }\n",
       "\n",
       "    .dataframe tbody tr th {\n",
       "        vertical-align: top;\n",
       "    }\n",
       "\n",
       "    .dataframe thead th {\n",
       "        text-align: right;\n",
       "    }\n",
       "</style>\n",
       "<table border=\"1\" class=\"dataframe\">\n",
       "  <thead>\n",
       "    <tr style=\"text-align: right;\">\n",
       "      <th></th>\n",
       "      <th></th>\n",
       "      <th>total_minutes</th>\n",
       "    </tr>\n",
       "    <tr>\n",
       "      <th>user_id</th>\n",
       "      <th>month</th>\n",
       "      <th></th>\n",
       "    </tr>\n",
       "  </thead>\n",
       "  <tbody>\n",
       "    <tr>\n",
       "      <th>1000</th>\n",
       "      <th>12</th>\n",
       "      <td>124.0</td>\n",
       "    </tr>\n",
       "    <tr>\n",
       "      <th rowspan=\"4\" valign=\"top\">1001</th>\n",
       "      <th>8</th>\n",
       "      <td>182.0</td>\n",
       "    </tr>\n",
       "    <tr>\n",
       "      <th>9</th>\n",
       "      <td>315.0</td>\n",
       "    </tr>\n",
       "    <tr>\n",
       "      <th>10</th>\n",
       "      <td>393.0</td>\n",
       "    </tr>\n",
       "    <tr>\n",
       "      <th>11</th>\n",
       "      <td>426.0</td>\n",
       "    </tr>\n",
       "    <tr>\n",
       "      <th>...</th>\n",
       "      <th>...</th>\n",
       "      <td>...</td>\n",
       "    </tr>\n",
       "    <tr>\n",
       "      <th>1498</th>\n",
       "      <th>12</th>\n",
       "      <td>339.0</td>\n",
       "    </tr>\n",
       "    <tr>\n",
       "      <th rowspan=\"4\" valign=\"top\">1499</th>\n",
       "      <th>9</th>\n",
       "      <td>346.0</td>\n",
       "    </tr>\n",
       "    <tr>\n",
       "      <th>10</th>\n",
       "      <td>385.0</td>\n",
       "    </tr>\n",
       "    <tr>\n",
       "      <th>11</th>\n",
       "      <td>308.0</td>\n",
       "    </tr>\n",
       "    <tr>\n",
       "      <th>12</th>\n",
       "      <td>496.0</td>\n",
       "    </tr>\n",
       "  </tbody>\n",
       "</table>\n",
       "<p>2258 rows × 1 columns</p>\n",
       "</div>"
      ],
      "text/plain": [
       "               total_minutes\n",
       "user_id month               \n",
       "1000    12             124.0\n",
       "1001    8              182.0\n",
       "        9              315.0\n",
       "        10             393.0\n",
       "        11             426.0\n",
       "...                      ...\n",
       "1498    12             339.0\n",
       "1499    9              346.0\n",
       "        10             385.0\n",
       "        11             308.0\n",
       "        12             496.0\n",
       "\n",
       "[2258 rows x 1 columns]"
      ]
     },
     "execution_count": 24,
     "metadata": {},
     "output_type": "execute_result"
    }
   ],
   "source": [
    "user_minutes=calls_data.groupby(['user_id','month'])['duration'].agg(total_minutes='sum')\n",
    "user_minutes"
   ]
  },
  {
   "cell_type": "markdown",
   "metadata": {},
   "source": [
    "<div class=\"alert alert-block alert-warning\">\n",
    "<b>Reviewer's comment v1:</b>\n",
    "    \n",
    "In pivot_table or groupby it is possible to pass multiple arguments, so here, you can create an aggregated table in one go like this:\n",
    "\n",
    "    data_calls.groupby(['user_id','month']).agg({'duration' : ('count','sum')}).reset_index()\n",
    "\n",
    "or\n",
    "    \n",
    "    data_calls.pivot_table(index = ('user_id','month'), values = 'duration', aggfunc = ('count','sum')).reset_index()"
   ]
  },
  {
   "cell_type": "code",
   "execution_count": 25,
   "metadata": {},
   "outputs": [
    {
     "data": {
      "text/html": [
       "<div>\n",
       "<style scoped>\n",
       "    .dataframe tbody tr th:only-of-type {\n",
       "        vertical-align: middle;\n",
       "    }\n",
       "\n",
       "    .dataframe tbody tr th {\n",
       "        vertical-align: top;\n",
       "    }\n",
       "\n",
       "    .dataframe thead th {\n",
       "        text-align: right;\n",
       "    }\n",
       "</style>\n",
       "<table border=\"1\" class=\"dataframe\">\n",
       "  <thead>\n",
       "    <tr style=\"text-align: right;\">\n",
       "      <th></th>\n",
       "      <th></th>\n",
       "      <th>message_count</th>\n",
       "    </tr>\n",
       "    <tr>\n",
       "      <th>user_id</th>\n",
       "      <th>month</th>\n",
       "      <th></th>\n",
       "    </tr>\n",
       "  </thead>\n",
       "  <tbody>\n",
       "    <tr>\n",
       "      <th>1000</th>\n",
       "      <th>12</th>\n",
       "      <td>11</td>\n",
       "    </tr>\n",
       "    <tr>\n",
       "      <th rowspan=\"4\" valign=\"top\">1001</th>\n",
       "      <th>8</th>\n",
       "      <td>30</td>\n",
       "    </tr>\n",
       "    <tr>\n",
       "      <th>9</th>\n",
       "      <td>44</td>\n",
       "    </tr>\n",
       "    <tr>\n",
       "      <th>10</th>\n",
       "      <td>53</td>\n",
       "    </tr>\n",
       "    <tr>\n",
       "      <th>11</th>\n",
       "      <td>36</td>\n",
       "    </tr>\n",
       "    <tr>\n",
       "      <th>...</th>\n",
       "      <th>...</th>\n",
       "      <td>...</td>\n",
       "    </tr>\n",
       "    <tr>\n",
       "      <th rowspan=\"4\" valign=\"top\">1496</th>\n",
       "      <th>9</th>\n",
       "      <td>21</td>\n",
       "    </tr>\n",
       "    <tr>\n",
       "      <th>10</th>\n",
       "      <td>18</td>\n",
       "    </tr>\n",
       "    <tr>\n",
       "      <th>11</th>\n",
       "      <td>13</td>\n",
       "    </tr>\n",
       "    <tr>\n",
       "      <th>12</th>\n",
       "      <td>11</td>\n",
       "    </tr>\n",
       "    <tr>\n",
       "      <th>1497</th>\n",
       "      <th>12</th>\n",
       "      <td>50</td>\n",
       "    </tr>\n",
       "  </tbody>\n",
       "</table>\n",
       "<p>1806 rows × 1 columns</p>\n",
       "</div>"
      ],
      "text/plain": [
       "               message_count\n",
       "user_id month               \n",
       "1000    12                11\n",
       "1001    8                 30\n",
       "        9                 44\n",
       "        10                53\n",
       "        11                36\n",
       "...                      ...\n",
       "1496    9                 21\n",
       "        10                18\n",
       "        11                13\n",
       "        12                11\n",
       "1497    12                50\n",
       "\n",
       "[1806 rows x 1 columns]"
      ]
     },
     "execution_count": 25,
     "metadata": {},
     "output_type": "execute_result"
    }
   ],
   "source": [
    "user_messages=messages_data.groupby(['user_id','month'])['user_id'].agg(message_count='count')\n",
    "user_messages"
   ]
  },
  {
   "cell_type": "code",
   "execution_count": 26,
   "metadata": {},
   "outputs": [
    {
     "data": {
      "text/html": [
       "<div>\n",
       "<style scoped>\n",
       "    .dataframe tbody tr th:only-of-type {\n",
       "        vertical-align: middle;\n",
       "    }\n",
       "\n",
       "    .dataframe tbody tr th {\n",
       "        vertical-align: top;\n",
       "    }\n",
       "\n",
       "    .dataframe thead th {\n",
       "        text-align: right;\n",
       "    }\n",
       "</style>\n",
       "<table border=\"1\" class=\"dataframe\">\n",
       "  <thead>\n",
       "    <tr style=\"text-align: right;\">\n",
       "      <th></th>\n",
       "      <th></th>\n",
       "      <th>data_usage_mb</th>\n",
       "    </tr>\n",
       "    <tr>\n",
       "      <th>user_id</th>\n",
       "      <th>month</th>\n",
       "      <th></th>\n",
       "    </tr>\n",
       "  </thead>\n",
       "  <tbody>\n",
       "    <tr>\n",
       "      <th>1000</th>\n",
       "      <th>12</th>\n",
       "      <td>1901.47</td>\n",
       "    </tr>\n",
       "    <tr>\n",
       "      <th rowspan=\"4\" valign=\"top\">1001</th>\n",
       "      <th>8</th>\n",
       "      <td>6919.15</td>\n",
       "    </tr>\n",
       "    <tr>\n",
       "      <th>9</th>\n",
       "      <td>13314.82</td>\n",
       "    </tr>\n",
       "    <tr>\n",
       "      <th>10</th>\n",
       "      <td>22330.49</td>\n",
       "    </tr>\n",
       "    <tr>\n",
       "      <th>11</th>\n",
       "      <td>18504.30</td>\n",
       "    </tr>\n",
       "    <tr>\n",
       "      <th>...</th>\n",
       "      <th>...</th>\n",
       "      <td>...</td>\n",
       "    </tr>\n",
       "    <tr>\n",
       "      <th>1498</th>\n",
       "      <th>12</th>\n",
       "      <td>23137.69</td>\n",
       "    </tr>\n",
       "    <tr>\n",
       "      <th rowspan=\"4\" valign=\"top\">1499</th>\n",
       "      <th>9</th>\n",
       "      <td>12984.76</td>\n",
       "    </tr>\n",
       "    <tr>\n",
       "      <th>10</th>\n",
       "      <td>19492.43</td>\n",
       "    </tr>\n",
       "    <tr>\n",
       "      <th>11</th>\n",
       "      <td>16813.83</td>\n",
       "    </tr>\n",
       "    <tr>\n",
       "      <th>12</th>\n",
       "      <td>22059.21</td>\n",
       "    </tr>\n",
       "  </tbody>\n",
       "</table>\n",
       "<p>2277 rows × 1 columns</p>\n",
       "</div>"
      ],
      "text/plain": [
       "               data_usage_mb\n",
       "user_id month               \n",
       "1000    12           1901.47\n",
       "1001    8            6919.15\n",
       "        9           13314.82\n",
       "        10          22330.49\n",
       "        11          18504.30\n",
       "...                      ...\n",
       "1498    12          23137.69\n",
       "1499    9           12984.76\n",
       "        10          19492.43\n",
       "        11          16813.83\n",
       "        12          22059.21\n",
       "\n",
       "[2277 rows x 1 columns]"
      ]
     },
     "execution_count": 26,
     "metadata": {},
     "output_type": "execute_result"
    }
   ],
   "source": [
    "user_internet=internet_data.groupby(['user_id', 'month'])['mb_used'].agg(data_usage_mb='sum')\n",
    "user_internet\n"
   ]
  },
  {
   "cell_type": "markdown",
   "metadata": {},
   "source": [
    "I will now aggregate data together into one DataFrame so that one record in it would represent what an unique user consumed in a given month."
   ]
  },
  {
   "cell_type": "code",
   "execution_count": 27,
   "metadata": {},
   "outputs": [
    {
     "data": {
      "text/html": [
       "<div>\n",
       "<style scoped>\n",
       "    .dataframe tbody tr th:only-of-type {\n",
       "        vertical-align: middle;\n",
       "    }\n",
       "\n",
       "    .dataframe tbody tr th {\n",
       "        vertical-align: top;\n",
       "    }\n",
       "\n",
       "    .dataframe thead th {\n",
       "        text-align: right;\n",
       "    }\n",
       "</style>\n",
       "<table border=\"1\" class=\"dataframe\">\n",
       "  <thead>\n",
       "    <tr style=\"text-align: right;\">\n",
       "      <th></th>\n",
       "      <th></th>\n",
       "      <th>calls_count</th>\n",
       "      <th>total_minutes</th>\n",
       "      <th>message_count</th>\n",
       "      <th>data_usage_mb</th>\n",
       "    </tr>\n",
       "    <tr>\n",
       "      <th>user_id</th>\n",
       "      <th>month</th>\n",
       "      <th></th>\n",
       "      <th></th>\n",
       "      <th></th>\n",
       "      <th></th>\n",
       "    </tr>\n",
       "  </thead>\n",
       "  <tbody>\n",
       "    <tr>\n",
       "      <th>1000</th>\n",
       "      <th>12</th>\n",
       "      <td>16.0</td>\n",
       "      <td>124.0</td>\n",
       "      <td>11.0</td>\n",
       "      <td>1901.47</td>\n",
       "    </tr>\n",
       "    <tr>\n",
       "      <th rowspan=\"4\" valign=\"top\">1001</th>\n",
       "      <th>8</th>\n",
       "      <td>27.0</td>\n",
       "      <td>182.0</td>\n",
       "      <td>30.0</td>\n",
       "      <td>6919.15</td>\n",
       "    </tr>\n",
       "    <tr>\n",
       "      <th>9</th>\n",
       "      <td>49.0</td>\n",
       "      <td>315.0</td>\n",
       "      <td>44.0</td>\n",
       "      <td>13314.82</td>\n",
       "    </tr>\n",
       "    <tr>\n",
       "      <th>10</th>\n",
       "      <td>65.0</td>\n",
       "      <td>393.0</td>\n",
       "      <td>53.0</td>\n",
       "      <td>22330.49</td>\n",
       "    </tr>\n",
       "    <tr>\n",
       "      <th>11</th>\n",
       "      <td>64.0</td>\n",
       "      <td>426.0</td>\n",
       "      <td>36.0</td>\n",
       "      <td>18504.30</td>\n",
       "    </tr>\n",
       "  </tbody>\n",
       "</table>\n",
       "</div>"
      ],
      "text/plain": [
       "               calls_count  total_minutes  message_count  data_usage_mb\n",
       "user_id month                                                          \n",
       "1000    12            16.0          124.0           11.0        1901.47\n",
       "1001    8             27.0          182.0           30.0        6919.15\n",
       "        9             49.0          315.0           44.0       13314.82\n",
       "        10            65.0          393.0           53.0       22330.49\n",
       "        11            64.0          426.0           36.0       18504.30"
      ]
     },
     "execution_count": 27,
     "metadata": {},
     "output_type": "execute_result"
    }
   ],
   "source": [
    "users_complete_1=user_calls.merge(user_minutes, left_on=['user_id', 'month'], right_on=['user_id', 'month'], how='outer')\n",
    "\n",
    "users_complete_2=user_messages.merge(user_internet, left_on=['user_id', 'month'], right_on=['user_id', 'month'], how='outer')\n",
    "\n",
    "\n",
    "\n",
    "users_complete=users_complete_1.merge(users_complete_2, left_on=['user_id', 'month'], right_on=['user_id', 'month'], how='outer')\n",
    "users_complete.head()\n"
   ]
  },
  {
   "cell_type": "markdown",
   "metadata": {},
   "source": [
    "<div class=\"alert alert-block alert-success\">\n",
    "<b>Reviewer's comment v1:</b>\n",
    "    \n",
    "Indeed `how = 'outer' can be used here to prevent data loss.\n",
    "    \n",
    "By the way, it is also possible to group 3 tables at once using for example reduce. You can read about it here: https://stackoverflow.com/questions/23668427/pandas-three-way-joining-multiple-dataframes-on-columns"
   ]
  },
  {
   "cell_type": "code",
   "execution_count": 28,
   "metadata": {},
   "outputs": [
    {
     "data": {
      "text/html": [
       "<div>\n",
       "<style scoped>\n",
       "    .dataframe tbody tr th:only-of-type {\n",
       "        vertical-align: middle;\n",
       "    }\n",
       "\n",
       "    .dataframe tbody tr th {\n",
       "        vertical-align: top;\n",
       "    }\n",
       "\n",
       "    .dataframe thead th {\n",
       "        text-align: right;\n",
       "    }\n",
       "</style>\n",
       "<table border=\"1\" class=\"dataframe\">\n",
       "  <thead>\n",
       "    <tr style=\"text-align: right;\">\n",
       "      <th></th>\n",
       "      <th></th>\n",
       "      <th>calls_count</th>\n",
       "      <th>total_minutes</th>\n",
       "      <th>message_count</th>\n",
       "      <th>data_usage_mb</th>\n",
       "      <th>avg_call_duration</th>\n",
       "    </tr>\n",
       "    <tr>\n",
       "      <th>user_id</th>\n",
       "      <th>month</th>\n",
       "      <th></th>\n",
       "      <th></th>\n",
       "      <th></th>\n",
       "      <th></th>\n",
       "      <th></th>\n",
       "    </tr>\n",
       "  </thead>\n",
       "  <tbody>\n",
       "    <tr>\n",
       "      <th>1000</th>\n",
       "      <th>12</th>\n",
       "      <td>16.0</td>\n",
       "      <td>124.0</td>\n",
       "      <td>11.0</td>\n",
       "      <td>1901.47</td>\n",
       "      <td>7.750000</td>\n",
       "    </tr>\n",
       "    <tr>\n",
       "      <th rowspan=\"4\" valign=\"top\">1001</th>\n",
       "      <th>8</th>\n",
       "      <td>27.0</td>\n",
       "      <td>182.0</td>\n",
       "      <td>30.0</td>\n",
       "      <td>6919.15</td>\n",
       "      <td>6.740741</td>\n",
       "    </tr>\n",
       "    <tr>\n",
       "      <th>9</th>\n",
       "      <td>49.0</td>\n",
       "      <td>315.0</td>\n",
       "      <td>44.0</td>\n",
       "      <td>13314.82</td>\n",
       "      <td>6.428571</td>\n",
       "    </tr>\n",
       "    <tr>\n",
       "      <th>10</th>\n",
       "      <td>65.0</td>\n",
       "      <td>393.0</td>\n",
       "      <td>53.0</td>\n",
       "      <td>22330.49</td>\n",
       "      <td>6.046154</td>\n",
       "    </tr>\n",
       "    <tr>\n",
       "      <th>11</th>\n",
       "      <td>64.0</td>\n",
       "      <td>426.0</td>\n",
       "      <td>36.0</td>\n",
       "      <td>18504.30</td>\n",
       "      <td>6.656250</td>\n",
       "    </tr>\n",
       "    <tr>\n",
       "      <th>...</th>\n",
       "      <th>...</th>\n",
       "      <td>...</td>\n",
       "      <td>...</td>\n",
       "      <td>...</td>\n",
       "      <td>...</td>\n",
       "      <td>...</td>\n",
       "    </tr>\n",
       "    <tr>\n",
       "      <th>1349</th>\n",
       "      <th>12</th>\n",
       "      <td>NaN</td>\n",
       "      <td>NaN</td>\n",
       "      <td>61.0</td>\n",
       "      <td>13039.91</td>\n",
       "      <td>NaN</td>\n",
       "    </tr>\n",
       "    <tr>\n",
       "      <th>1361</th>\n",
       "      <th>5</th>\n",
       "      <td>NaN</td>\n",
       "      <td>NaN</td>\n",
       "      <td>2.0</td>\n",
       "      <td>1519.69</td>\n",
       "      <td>NaN</td>\n",
       "    </tr>\n",
       "    <tr>\n",
       "      <th>1482</th>\n",
       "      <th>10</th>\n",
       "      <td>NaN</td>\n",
       "      <td>NaN</td>\n",
       "      <td>2.0</td>\n",
       "      <td>NaN</td>\n",
       "      <td>NaN</td>\n",
       "    </tr>\n",
       "    <tr>\n",
       "      <th>1108</th>\n",
       "      <th>12</th>\n",
       "      <td>NaN</td>\n",
       "      <td>NaN</td>\n",
       "      <td>NaN</td>\n",
       "      <td>233.17</td>\n",
       "      <td>NaN</td>\n",
       "    </tr>\n",
       "    <tr>\n",
       "      <th>1311</th>\n",
       "      <th>6</th>\n",
       "      <td>NaN</td>\n",
       "      <td>NaN</td>\n",
       "      <td>NaN</td>\n",
       "      <td>1498.83</td>\n",
       "      <td>NaN</td>\n",
       "    </tr>\n",
       "  </tbody>\n",
       "</table>\n",
       "<p>2293 rows × 5 columns</p>\n",
       "</div>"
      ],
      "text/plain": [
       "               calls_count  total_minutes  message_count  data_usage_mb  \\\n",
       "user_id month                                                             \n",
       "1000    12            16.0          124.0           11.0        1901.47   \n",
       "1001    8             27.0          182.0           30.0        6919.15   \n",
       "        9             49.0          315.0           44.0       13314.82   \n",
       "        10            65.0          393.0           53.0       22330.49   \n",
       "        11            64.0          426.0           36.0       18504.30   \n",
       "...                    ...            ...            ...            ...   \n",
       "1349    12             NaN            NaN           61.0       13039.91   \n",
       "1361    5              NaN            NaN            2.0        1519.69   \n",
       "1482    10             NaN            NaN            2.0            NaN   \n",
       "1108    12             NaN            NaN            NaN         233.17   \n",
       "1311    6              NaN            NaN            NaN        1498.83   \n",
       "\n",
       "               avg_call_duration  \n",
       "user_id month                     \n",
       "1000    12              7.750000  \n",
       "1001    8               6.740741  \n",
       "        9               6.428571  \n",
       "        10              6.046154  \n",
       "        11              6.656250  \n",
       "...                          ...  \n",
       "1349    12                   NaN  \n",
       "1361    5                    NaN  \n",
       "1482    10                   NaN  \n",
       "1108    12                   NaN  \n",
       "1311    6                    NaN  \n",
       "\n",
       "[2293 rows x 5 columns]"
      ]
     },
     "execution_count": 28,
     "metadata": {},
     "output_type": "execute_result"
    }
   ],
   "source": [
    "users_complete= users_complete.eval('avg_call_duration = total_minutes/calls_count')\n",
    "users_complete"
   ]
  },
  {
   "cell_type": "code",
   "execution_count": 29,
   "metadata": {},
   "outputs": [
    {
     "data": {
      "text/html": [
       "<div>\n",
       "<style scoped>\n",
       "    .dataframe tbody tr th:only-of-type {\n",
       "        vertical-align: middle;\n",
       "    }\n",
       "\n",
       "    .dataframe tbody tr th {\n",
       "        vertical-align: top;\n",
       "    }\n",
       "\n",
       "    .dataframe thead th {\n",
       "        text-align: right;\n",
       "    }\n",
       "</style>\n",
       "<table border=\"1\" class=\"dataframe\">\n",
       "  <thead>\n",
       "    <tr style=\"text-align: right;\">\n",
       "      <th></th>\n",
       "      <th>user_id</th>\n",
       "      <th>month</th>\n",
       "      <th>calls_count</th>\n",
       "      <th>total_minutes</th>\n",
       "      <th>message_count</th>\n",
       "      <th>data_usage_mb</th>\n",
       "      <th>avg_call_duration</th>\n",
       "    </tr>\n",
       "  </thead>\n",
       "  <tbody>\n",
       "    <tr>\n",
       "      <th>0</th>\n",
       "      <td>1000</td>\n",
       "      <td>12</td>\n",
       "      <td>16.0</td>\n",
       "      <td>124.0</td>\n",
       "      <td>11.0</td>\n",
       "      <td>1901.47</td>\n",
       "      <td>7.750000</td>\n",
       "    </tr>\n",
       "    <tr>\n",
       "      <th>1</th>\n",
       "      <td>1001</td>\n",
       "      <td>8</td>\n",
       "      <td>27.0</td>\n",
       "      <td>182.0</td>\n",
       "      <td>30.0</td>\n",
       "      <td>6919.15</td>\n",
       "      <td>6.740741</td>\n",
       "    </tr>\n",
       "    <tr>\n",
       "      <th>2</th>\n",
       "      <td>1001</td>\n",
       "      <td>9</td>\n",
       "      <td>49.0</td>\n",
       "      <td>315.0</td>\n",
       "      <td>44.0</td>\n",
       "      <td>13314.82</td>\n",
       "      <td>6.428571</td>\n",
       "    </tr>\n",
       "    <tr>\n",
       "      <th>3</th>\n",
       "      <td>1001</td>\n",
       "      <td>10</td>\n",
       "      <td>65.0</td>\n",
       "      <td>393.0</td>\n",
       "      <td>53.0</td>\n",
       "      <td>22330.49</td>\n",
       "      <td>6.046154</td>\n",
       "    </tr>\n",
       "    <tr>\n",
       "      <th>4</th>\n",
       "      <td>1001</td>\n",
       "      <td>11</td>\n",
       "      <td>64.0</td>\n",
       "      <td>426.0</td>\n",
       "      <td>36.0</td>\n",
       "      <td>18504.30</td>\n",
       "      <td>6.656250</td>\n",
       "    </tr>\n",
       "  </tbody>\n",
       "</table>\n",
       "</div>"
      ],
      "text/plain": [
       "   user_id  month  calls_count  total_minutes  message_count  data_usage_mb  \\\n",
       "0     1000     12         16.0          124.0           11.0        1901.47   \n",
       "1     1001      8         27.0          182.0           30.0        6919.15   \n",
       "2     1001      9         49.0          315.0           44.0       13314.82   \n",
       "3     1001     10         65.0          393.0           53.0       22330.49   \n",
       "4     1001     11         64.0          426.0           36.0       18504.30   \n",
       "\n",
       "   avg_call_duration  \n",
       "0           7.750000  \n",
       "1           6.740741  \n",
       "2           6.428571  \n",
       "3           6.046154  \n",
       "4           6.656250  "
      ]
     },
     "execution_count": 29,
     "metadata": {},
     "output_type": "execute_result"
    }
   ],
   "source": [
    "users_complete = users_complete.reset_index()\n",
    "users_complete.head()"
   ]
  },
  {
   "cell_type": "code",
   "execution_count": 30,
   "metadata": {},
   "outputs": [
    {
     "data": {
      "text/html": [
       "<div>\n",
       "<style scoped>\n",
       "    .dataframe tbody tr th:only-of-type {\n",
       "        vertical-align: middle;\n",
       "    }\n",
       "\n",
       "    .dataframe tbody tr th {\n",
       "        vertical-align: top;\n",
       "    }\n",
       "\n",
       "    .dataframe thead th {\n",
       "        text-align: right;\n",
       "    }\n",
       "</style>\n",
       "<table border=\"1\" class=\"dataframe\">\n",
       "  <thead>\n",
       "    <tr style=\"text-align: right;\">\n",
       "      <th></th>\n",
       "      <th>user_id</th>\n",
       "      <th>plan</th>\n",
       "      <th>city</th>\n",
       "    </tr>\n",
       "  </thead>\n",
       "  <tbody>\n",
       "    <tr>\n",
       "      <th>0</th>\n",
       "      <td>1000</td>\n",
       "      <td>ultimate</td>\n",
       "      <td>Atlanta-Sandy Springs-Roswell, GA MSA</td>\n",
       "    </tr>\n",
       "    <tr>\n",
       "      <th>1</th>\n",
       "      <td>1001</td>\n",
       "      <td>surf</td>\n",
       "      <td>Seattle-Tacoma-Bellevue, WA MSA</td>\n",
       "    </tr>\n",
       "    <tr>\n",
       "      <th>2</th>\n",
       "      <td>1002</td>\n",
       "      <td>surf</td>\n",
       "      <td>Las Vegas-Henderson-Paradise, NV MSA</td>\n",
       "    </tr>\n",
       "    <tr>\n",
       "      <th>3</th>\n",
       "      <td>1003</td>\n",
       "      <td>surf</td>\n",
       "      <td>Tulsa, OK MSA</td>\n",
       "    </tr>\n",
       "    <tr>\n",
       "      <th>4</th>\n",
       "      <td>1004</td>\n",
       "      <td>surf</td>\n",
       "      <td>Seattle-Tacoma-Bellevue, WA MSA</td>\n",
       "    </tr>\n",
       "    <tr>\n",
       "      <th>...</th>\n",
       "      <td>...</td>\n",
       "      <td>...</td>\n",
       "      <td>...</td>\n",
       "    </tr>\n",
       "    <tr>\n",
       "      <th>495</th>\n",
       "      <td>1495</td>\n",
       "      <td>surf</td>\n",
       "      <td>New York-Newark-Jersey City, NY-NJ-PA MSA</td>\n",
       "    </tr>\n",
       "    <tr>\n",
       "      <th>496</th>\n",
       "      <td>1496</td>\n",
       "      <td>surf</td>\n",
       "      <td>New Orleans-Metairie, LA MSA</td>\n",
       "    </tr>\n",
       "    <tr>\n",
       "      <th>497</th>\n",
       "      <td>1497</td>\n",
       "      <td>ultimate</td>\n",
       "      <td>Los Angeles-Long Beach-Anaheim, CA MSA</td>\n",
       "    </tr>\n",
       "    <tr>\n",
       "      <th>498</th>\n",
       "      <td>1498</td>\n",
       "      <td>surf</td>\n",
       "      <td>New York-Newark-Jersey City, NY-NJ-PA MSA</td>\n",
       "    </tr>\n",
       "    <tr>\n",
       "      <th>499</th>\n",
       "      <td>1499</td>\n",
       "      <td>surf</td>\n",
       "      <td>Orlando-Kissimmee-Sanford, FL MSA</td>\n",
       "    </tr>\n",
       "  </tbody>\n",
       "</table>\n",
       "<p>500 rows × 3 columns</p>\n",
       "</div>"
      ],
      "text/plain": [
       "     user_id      plan                                       city\n",
       "0       1000  ultimate      Atlanta-Sandy Springs-Roswell, GA MSA\n",
       "1       1001      surf            Seattle-Tacoma-Bellevue, WA MSA\n",
       "2       1002      surf       Las Vegas-Henderson-Paradise, NV MSA\n",
       "3       1003      surf                              Tulsa, OK MSA\n",
       "4       1004      surf            Seattle-Tacoma-Bellevue, WA MSA\n",
       "..       ...       ...                                        ...\n",
       "495     1495      surf  New York-Newark-Jersey City, NY-NJ-PA MSA\n",
       "496     1496      surf               New Orleans-Metairie, LA MSA\n",
       "497     1497  ultimate     Los Angeles-Long Beach-Anaheim, CA MSA\n",
       "498     1498      surf  New York-Newark-Jersey City, NY-NJ-PA MSA\n",
       "499     1499      surf          Orlando-Kissimmee-Sanford, FL MSA\n",
       "\n",
       "[500 rows x 3 columns]"
      ]
     },
     "execution_count": 30,
     "metadata": {},
     "output_type": "execute_result"
    }
   ],
   "source": [
    "user_plan=users_data[['user_id','plan','city']]\n",
    "user_plan\n"
   ]
  },
  {
   "cell_type": "code",
   "execution_count": 31,
   "metadata": {},
   "outputs": [],
   "source": [
    "users_complete = user_plan[['user_id', 'plan','city']].merge(\n",
    "    users_complete,\n",
    "    left_on='user_id',\n",
    "    right_on='user_id',\n",
    "    how='left')"
   ]
  },
  {
   "cell_type": "code",
   "execution_count": 32,
   "metadata": {},
   "outputs": [
    {
     "data": {
      "text/html": [
       "<div>\n",
       "<style scoped>\n",
       "    .dataframe tbody tr th:only-of-type {\n",
       "        vertical-align: middle;\n",
       "    }\n",
       "\n",
       "    .dataframe tbody tr th {\n",
       "        vertical-align: top;\n",
       "    }\n",
       "\n",
       "    .dataframe thead th {\n",
       "        text-align: right;\n",
       "    }\n",
       "</style>\n",
       "<table border=\"1\" class=\"dataframe\">\n",
       "  <thead>\n",
       "    <tr style=\"text-align: right;\">\n",
       "      <th></th>\n",
       "      <th>user_id</th>\n",
       "      <th>plan</th>\n",
       "      <th>city</th>\n",
       "      <th>month</th>\n",
       "      <th>calls_count</th>\n",
       "      <th>total_minutes</th>\n",
       "      <th>message_count</th>\n",
       "      <th>data_usage_mb</th>\n",
       "      <th>avg_call_duration</th>\n",
       "    </tr>\n",
       "  </thead>\n",
       "  <tbody>\n",
       "    <tr>\n",
       "      <th>0</th>\n",
       "      <td>1000</td>\n",
       "      <td>ultimate</td>\n",
       "      <td>Atlanta-Sandy Springs-Roswell, GA MSA</td>\n",
       "      <td>12.0</td>\n",
       "      <td>16.0</td>\n",
       "      <td>124.0</td>\n",
       "      <td>11.0</td>\n",
       "      <td>1901.47</td>\n",
       "      <td>7.750000</td>\n",
       "    </tr>\n",
       "    <tr>\n",
       "      <th>1</th>\n",
       "      <td>1001</td>\n",
       "      <td>surf</td>\n",
       "      <td>Seattle-Tacoma-Bellevue, WA MSA</td>\n",
       "      <td>8.0</td>\n",
       "      <td>27.0</td>\n",
       "      <td>182.0</td>\n",
       "      <td>30.0</td>\n",
       "      <td>6919.15</td>\n",
       "      <td>6.740741</td>\n",
       "    </tr>\n",
       "    <tr>\n",
       "      <th>2</th>\n",
       "      <td>1001</td>\n",
       "      <td>surf</td>\n",
       "      <td>Seattle-Tacoma-Bellevue, WA MSA</td>\n",
       "      <td>9.0</td>\n",
       "      <td>49.0</td>\n",
       "      <td>315.0</td>\n",
       "      <td>44.0</td>\n",
       "      <td>13314.82</td>\n",
       "      <td>6.428571</td>\n",
       "    </tr>\n",
       "    <tr>\n",
       "      <th>3</th>\n",
       "      <td>1001</td>\n",
       "      <td>surf</td>\n",
       "      <td>Seattle-Tacoma-Bellevue, WA MSA</td>\n",
       "      <td>10.0</td>\n",
       "      <td>65.0</td>\n",
       "      <td>393.0</td>\n",
       "      <td>53.0</td>\n",
       "      <td>22330.49</td>\n",
       "      <td>6.046154</td>\n",
       "    </tr>\n",
       "    <tr>\n",
       "      <th>4</th>\n",
       "      <td>1001</td>\n",
       "      <td>surf</td>\n",
       "      <td>Seattle-Tacoma-Bellevue, WA MSA</td>\n",
       "      <td>11.0</td>\n",
       "      <td>64.0</td>\n",
       "      <td>426.0</td>\n",
       "      <td>36.0</td>\n",
       "      <td>18504.30</td>\n",
       "      <td>6.656250</td>\n",
       "    </tr>\n",
       "    <tr>\n",
       "      <th>...</th>\n",
       "      <td>...</td>\n",
       "      <td>...</td>\n",
       "      <td>...</td>\n",
       "      <td>...</td>\n",
       "      <td>...</td>\n",
       "      <td>...</td>\n",
       "      <td>...</td>\n",
       "      <td>...</td>\n",
       "      <td>...</td>\n",
       "    </tr>\n",
       "    <tr>\n",
       "      <th>2298</th>\n",
       "      <td>1498</td>\n",
       "      <td>surf</td>\n",
       "      <td>New York-Newark-Jersey City, NY-NJ-PA MSA</td>\n",
       "      <td>12.0</td>\n",
       "      <td>39.0</td>\n",
       "      <td>339.0</td>\n",
       "      <td>NaN</td>\n",
       "      <td>23137.69</td>\n",
       "      <td>8.692308</td>\n",
       "    </tr>\n",
       "    <tr>\n",
       "      <th>2299</th>\n",
       "      <td>1499</td>\n",
       "      <td>surf</td>\n",
       "      <td>Orlando-Kissimmee-Sanford, FL MSA</td>\n",
       "      <td>9.0</td>\n",
       "      <td>41.0</td>\n",
       "      <td>346.0</td>\n",
       "      <td>NaN</td>\n",
       "      <td>12984.76</td>\n",
       "      <td>8.439024</td>\n",
       "    </tr>\n",
       "    <tr>\n",
       "      <th>2300</th>\n",
       "      <td>1499</td>\n",
       "      <td>surf</td>\n",
       "      <td>Orlando-Kissimmee-Sanford, FL MSA</td>\n",
       "      <td>10.0</td>\n",
       "      <td>53.0</td>\n",
       "      <td>385.0</td>\n",
       "      <td>NaN</td>\n",
       "      <td>19492.43</td>\n",
       "      <td>7.264151</td>\n",
       "    </tr>\n",
       "    <tr>\n",
       "      <th>2301</th>\n",
       "      <td>1499</td>\n",
       "      <td>surf</td>\n",
       "      <td>Orlando-Kissimmee-Sanford, FL MSA</td>\n",
       "      <td>11.0</td>\n",
       "      <td>45.0</td>\n",
       "      <td>308.0</td>\n",
       "      <td>NaN</td>\n",
       "      <td>16813.83</td>\n",
       "      <td>6.844444</td>\n",
       "    </tr>\n",
       "    <tr>\n",
       "      <th>2302</th>\n",
       "      <td>1499</td>\n",
       "      <td>surf</td>\n",
       "      <td>Orlando-Kissimmee-Sanford, FL MSA</td>\n",
       "      <td>12.0</td>\n",
       "      <td>65.0</td>\n",
       "      <td>496.0</td>\n",
       "      <td>NaN</td>\n",
       "      <td>22059.21</td>\n",
       "      <td>7.630769</td>\n",
       "    </tr>\n",
       "  </tbody>\n",
       "</table>\n",
       "<p>2303 rows × 9 columns</p>\n",
       "</div>"
      ],
      "text/plain": [
       "      user_id      plan                                       city  month  \\\n",
       "0        1000  ultimate      Atlanta-Sandy Springs-Roswell, GA MSA   12.0   \n",
       "1        1001      surf            Seattle-Tacoma-Bellevue, WA MSA    8.0   \n",
       "2        1001      surf            Seattle-Tacoma-Bellevue, WA MSA    9.0   \n",
       "3        1001      surf            Seattle-Tacoma-Bellevue, WA MSA   10.0   \n",
       "4        1001      surf            Seattle-Tacoma-Bellevue, WA MSA   11.0   \n",
       "...       ...       ...                                        ...    ...   \n",
       "2298     1498      surf  New York-Newark-Jersey City, NY-NJ-PA MSA   12.0   \n",
       "2299     1499      surf          Orlando-Kissimmee-Sanford, FL MSA    9.0   \n",
       "2300     1499      surf          Orlando-Kissimmee-Sanford, FL MSA   10.0   \n",
       "2301     1499      surf          Orlando-Kissimmee-Sanford, FL MSA   11.0   \n",
       "2302     1499      surf          Orlando-Kissimmee-Sanford, FL MSA   12.0   \n",
       "\n",
       "      calls_count  total_minutes  message_count  data_usage_mb  \\\n",
       "0            16.0          124.0           11.0        1901.47   \n",
       "1            27.0          182.0           30.0        6919.15   \n",
       "2            49.0          315.0           44.0       13314.82   \n",
       "3            65.0          393.0           53.0       22330.49   \n",
       "4            64.0          426.0           36.0       18504.30   \n",
       "...           ...            ...            ...            ...   \n",
       "2298         39.0          339.0            NaN       23137.69   \n",
       "2299         41.0          346.0            NaN       12984.76   \n",
       "2300         53.0          385.0            NaN       19492.43   \n",
       "2301         45.0          308.0            NaN       16813.83   \n",
       "2302         65.0          496.0            NaN       22059.21   \n",
       "\n",
       "      avg_call_duration  \n",
       "0              7.750000  \n",
       "1              6.740741  \n",
       "2              6.428571  \n",
       "3              6.046154  \n",
       "4              6.656250  \n",
       "...                 ...  \n",
       "2298           8.692308  \n",
       "2299           8.439024  \n",
       "2300           7.264151  \n",
       "2301           6.844444  \n",
       "2302           7.630769  \n",
       "\n",
       "[2303 rows x 9 columns]"
      ]
     },
     "execution_count": 32,
     "metadata": {},
     "output_type": "execute_result"
    }
   ],
   "source": [
    "users_complete"
   ]
  },
  {
   "cell_type": "markdown",
   "metadata": {},
   "source": [
    "Now I will calculate the monthly revenue from each user ( this will be done by subtracting  the free package limit from the total number of calls, text messages, and data; multiply the result by the calling plan value; add the monthly charge depending on the calling plan). "
   ]
  },
  {
   "cell_type": "code",
   "execution_count": 33,
   "metadata": {},
   "outputs": [
    {
     "data": {
      "text/html": [
       "<div>\n",
       "<style scoped>\n",
       "    .dataframe tbody tr th:only-of-type {\n",
       "        vertical-align: middle;\n",
       "    }\n",
       "\n",
       "    .dataframe tbody tr th {\n",
       "        vertical-align: top;\n",
       "    }\n",
       "\n",
       "    .dataframe thead th {\n",
       "        text-align: right;\n",
       "    }\n",
       "</style>\n",
       "<table border=\"1\" class=\"dataframe\">\n",
       "  <thead>\n",
       "    <tr style=\"text-align: right;\">\n",
       "      <th></th>\n",
       "      <th></th>\n",
       "      <th></th>\n",
       "      <th>avg_call_duration</th>\n",
       "      <th>data_usage_mb</th>\n",
       "      <th>message_count</th>\n",
       "      <th>total_minutes</th>\n",
       "    </tr>\n",
       "    <tr>\n",
       "      <th>user_id</th>\n",
       "      <th>month</th>\n",
       "      <th>plan</th>\n",
       "      <th></th>\n",
       "      <th></th>\n",
       "      <th></th>\n",
       "      <th></th>\n",
       "    </tr>\n",
       "  </thead>\n",
       "  <tbody>\n",
       "    <tr>\n",
       "      <th>1000</th>\n",
       "      <th>12.0</th>\n",
       "      <th>ultimate</th>\n",
       "      <td>7.750000</td>\n",
       "      <td>1901.47</td>\n",
       "      <td>11.0</td>\n",
       "      <td>124.0</td>\n",
       "    </tr>\n",
       "    <tr>\n",
       "      <th rowspan=\"5\" valign=\"top\">1001</th>\n",
       "      <th>8.0</th>\n",
       "      <th>surf</th>\n",
       "      <td>6.740741</td>\n",
       "      <td>6919.15</td>\n",
       "      <td>30.0</td>\n",
       "      <td>182.0</td>\n",
       "    </tr>\n",
       "    <tr>\n",
       "      <th>9.0</th>\n",
       "      <th>surf</th>\n",
       "      <td>6.428571</td>\n",
       "      <td>13314.82</td>\n",
       "      <td>44.0</td>\n",
       "      <td>315.0</td>\n",
       "    </tr>\n",
       "    <tr>\n",
       "      <th>10.0</th>\n",
       "      <th>surf</th>\n",
       "      <td>6.046154</td>\n",
       "      <td>22330.49</td>\n",
       "      <td>53.0</td>\n",
       "      <td>393.0</td>\n",
       "    </tr>\n",
       "    <tr>\n",
       "      <th>11.0</th>\n",
       "      <th>surf</th>\n",
       "      <td>6.656250</td>\n",
       "      <td>18504.30</td>\n",
       "      <td>36.0</td>\n",
       "      <td>426.0</td>\n",
       "    </tr>\n",
       "    <tr>\n",
       "      <th>12.0</th>\n",
       "      <th>surf</th>\n",
       "      <td>7.357143</td>\n",
       "      <td>19369.18</td>\n",
       "      <td>44.0</td>\n",
       "      <td>412.0</td>\n",
       "    </tr>\n",
       "    <tr>\n",
       "      <th rowspan=\"3\" valign=\"top\">1002</th>\n",
       "      <th>10.0</th>\n",
       "      <th>surf</th>\n",
       "      <td>5.363636</td>\n",
       "      <td>6552.01</td>\n",
       "      <td>15.0</td>\n",
       "      <td>59.0</td>\n",
       "    </tr>\n",
       "    <tr>\n",
       "      <th>11.0</th>\n",
       "      <th>surf</th>\n",
       "      <td>7.018182</td>\n",
       "      <td>19345.08</td>\n",
       "      <td>32.0</td>\n",
       "      <td>386.0</td>\n",
       "    </tr>\n",
       "    <tr>\n",
       "      <th>12.0</th>\n",
       "      <th>surf</th>\n",
       "      <td>8.170213</td>\n",
       "      <td>14396.24</td>\n",
       "      <td>41.0</td>\n",
       "      <td>384.0</td>\n",
       "    </tr>\n",
       "    <tr>\n",
       "      <th>1003</th>\n",
       "      <th>12.0</th>\n",
       "      <th>surf</th>\n",
       "      <td>7.409396</td>\n",
       "      <td>27044.14</td>\n",
       "      <td>50.0</td>\n",
       "      <td>1104.0</td>\n",
       "    </tr>\n",
       "  </tbody>\n",
       "</table>\n",
       "</div>"
      ],
      "text/plain": [
       "                        avg_call_duration  data_usage_mb  message_count  \\\n",
       "user_id month plan                                                        \n",
       "1000    12.0  ultimate           7.750000        1901.47           11.0   \n",
       "1001    8.0   surf               6.740741        6919.15           30.0   \n",
       "        9.0   surf               6.428571       13314.82           44.0   \n",
       "        10.0  surf               6.046154       22330.49           53.0   \n",
       "        11.0  surf               6.656250       18504.30           36.0   \n",
       "        12.0  surf               7.357143       19369.18           44.0   \n",
       "1002    10.0  surf               5.363636        6552.01           15.0   \n",
       "        11.0  surf               7.018182       19345.08           32.0   \n",
       "        12.0  surf               8.170213       14396.24           41.0   \n",
       "1003    12.0  surf               7.409396       27044.14           50.0   \n",
       "\n",
       "                        total_minutes  \n",
       "user_id month plan                     \n",
       "1000    12.0  ultimate          124.0  \n",
       "1001    8.0   surf              182.0  \n",
       "        9.0   surf              315.0  \n",
       "        10.0  surf              393.0  \n",
       "        11.0  surf              426.0  \n",
       "        12.0  surf              412.0  \n",
       "1002    10.0  surf               59.0  \n",
       "        11.0  surf              386.0  \n",
       "        12.0  surf              384.0  \n",
       "1003    12.0  surf             1104.0  "
      ]
     },
     "execution_count": 33,
     "metadata": {},
     "output_type": "execute_result"
    }
   ],
   "source": [
    "sum_table=pd.pivot_table(users_complete, values= ['data_usage_mb','message_count',\n",
    "                                                  'total_minutes', 'avg_call_duration'],index=['user_id','month','plan'], aggfunc=np.sum )\n",
    "sum_table.head(10)\n"
   ]
  },
  {
   "cell_type": "code",
   "execution_count": 34,
   "metadata": {},
   "outputs": [
    {
     "data": {
      "text/html": [
       "<div>\n",
       "<style scoped>\n",
       "    .dataframe tbody tr th:only-of-type {\n",
       "        vertical-align: middle;\n",
       "    }\n",
       "\n",
       "    .dataframe tbody tr th {\n",
       "        vertical-align: top;\n",
       "    }\n",
       "\n",
       "    .dataframe thead th {\n",
       "        text-align: right;\n",
       "    }\n",
       "</style>\n",
       "<table border=\"1\" class=\"dataframe\">\n",
       "  <thead>\n",
       "    <tr style=\"text-align: right;\">\n",
       "      <th></th>\n",
       "      <th></th>\n",
       "      <th></th>\n",
       "      <th>avg_call_duration</th>\n",
       "      <th>data_usage_mb</th>\n",
       "      <th>message_count</th>\n",
       "      <th>total_minutes</th>\n",
       "      <th>data_usage_gb</th>\n",
       "    </tr>\n",
       "    <tr>\n",
       "      <th>user_id</th>\n",
       "      <th>month</th>\n",
       "      <th>plan</th>\n",
       "      <th></th>\n",
       "      <th></th>\n",
       "      <th></th>\n",
       "      <th></th>\n",
       "      <th></th>\n",
       "    </tr>\n",
       "  </thead>\n",
       "  <tbody>\n",
       "    <tr>\n",
       "      <th>1000</th>\n",
       "      <th>12.0</th>\n",
       "      <th>ultimate</th>\n",
       "      <td>7.750000</td>\n",
       "      <td>1901.47</td>\n",
       "      <td>11.0</td>\n",
       "      <td>124.0</td>\n",
       "      <td>2.0</td>\n",
       "    </tr>\n",
       "    <tr>\n",
       "      <th rowspan=\"4\" valign=\"top\">1001</th>\n",
       "      <th>8.0</th>\n",
       "      <th>surf</th>\n",
       "      <td>6.740741</td>\n",
       "      <td>6919.15</td>\n",
       "      <td>30.0</td>\n",
       "      <td>182.0</td>\n",
       "      <td>7.0</td>\n",
       "    </tr>\n",
       "    <tr>\n",
       "      <th>9.0</th>\n",
       "      <th>surf</th>\n",
       "      <td>6.428571</td>\n",
       "      <td>13314.82</td>\n",
       "      <td>44.0</td>\n",
       "      <td>315.0</td>\n",
       "      <td>14.0</td>\n",
       "    </tr>\n",
       "    <tr>\n",
       "      <th>10.0</th>\n",
       "      <th>surf</th>\n",
       "      <td>6.046154</td>\n",
       "      <td>22330.49</td>\n",
       "      <td>53.0</td>\n",
       "      <td>393.0</td>\n",
       "      <td>22.0</td>\n",
       "    </tr>\n",
       "    <tr>\n",
       "      <th>11.0</th>\n",
       "      <th>surf</th>\n",
       "      <td>6.656250</td>\n",
       "      <td>18504.30</td>\n",
       "      <td>36.0</td>\n",
       "      <td>426.0</td>\n",
       "      <td>19.0</td>\n",
       "    </tr>\n",
       "    <tr>\n",
       "      <th>...</th>\n",
       "      <th>...</th>\n",
       "      <th>...</th>\n",
       "      <td>...</td>\n",
       "      <td>...</td>\n",
       "      <td>...</td>\n",
       "      <td>...</td>\n",
       "      <td>...</td>\n",
       "    </tr>\n",
       "    <tr>\n",
       "      <th>1498</th>\n",
       "      <th>12.0</th>\n",
       "      <th>surf</th>\n",
       "      <td>8.692308</td>\n",
       "      <td>23137.69</td>\n",
       "      <td>0.0</td>\n",
       "      <td>339.0</td>\n",
       "      <td>23.0</td>\n",
       "    </tr>\n",
       "    <tr>\n",
       "      <th rowspan=\"4\" valign=\"top\">1499</th>\n",
       "      <th>9.0</th>\n",
       "      <th>surf</th>\n",
       "      <td>8.439024</td>\n",
       "      <td>12984.76</td>\n",
       "      <td>0.0</td>\n",
       "      <td>346.0</td>\n",
       "      <td>13.0</td>\n",
       "    </tr>\n",
       "    <tr>\n",
       "      <th>10.0</th>\n",
       "      <th>surf</th>\n",
       "      <td>7.264151</td>\n",
       "      <td>19492.43</td>\n",
       "      <td>0.0</td>\n",
       "      <td>385.0</td>\n",
       "      <td>20.0</td>\n",
       "    </tr>\n",
       "    <tr>\n",
       "      <th>11.0</th>\n",
       "      <th>surf</th>\n",
       "      <td>6.844444</td>\n",
       "      <td>16813.83</td>\n",
       "      <td>0.0</td>\n",
       "      <td>308.0</td>\n",
       "      <td>17.0</td>\n",
       "    </tr>\n",
       "    <tr>\n",
       "      <th>12.0</th>\n",
       "      <th>surf</th>\n",
       "      <td>7.630769</td>\n",
       "      <td>22059.21</td>\n",
       "      <td>0.0</td>\n",
       "      <td>496.0</td>\n",
       "      <td>22.0</td>\n",
       "    </tr>\n",
       "  </tbody>\n",
       "</table>\n",
       "<p>2293 rows × 5 columns</p>\n",
       "</div>"
      ],
      "text/plain": [
       "                        avg_call_duration  data_usage_mb  message_count  \\\n",
       "user_id month plan                                                        \n",
       "1000    12.0  ultimate           7.750000        1901.47           11.0   \n",
       "1001    8.0   surf               6.740741        6919.15           30.0   \n",
       "        9.0   surf               6.428571       13314.82           44.0   \n",
       "        10.0  surf               6.046154       22330.49           53.0   \n",
       "        11.0  surf               6.656250       18504.30           36.0   \n",
       "...                                   ...            ...            ...   \n",
       "1498    12.0  surf               8.692308       23137.69            0.0   \n",
       "1499    9.0   surf               8.439024       12984.76            0.0   \n",
       "        10.0  surf               7.264151       19492.43            0.0   \n",
       "        11.0  surf               6.844444       16813.83            0.0   \n",
       "        12.0  surf               7.630769       22059.21            0.0   \n",
       "\n",
       "                        total_minutes  data_usage_gb  \n",
       "user_id month plan                                    \n",
       "1000    12.0  ultimate          124.0            2.0  \n",
       "1001    8.0   surf              182.0            7.0  \n",
       "        9.0   surf              315.0           14.0  \n",
       "        10.0  surf              393.0           22.0  \n",
       "        11.0  surf              426.0           19.0  \n",
       "...                               ...            ...  \n",
       "1498    12.0  surf              339.0           23.0  \n",
       "1499    9.0   surf              346.0           13.0  \n",
       "        10.0  surf              385.0           20.0  \n",
       "        11.0  surf              308.0           17.0  \n",
       "        12.0  surf              496.0           22.0  \n",
       "\n",
       "[2293 rows x 5 columns]"
      ]
     },
     "execution_count": 34,
     "metadata": {},
     "output_type": "execute_result"
    }
   ],
   "source": [
    "sum_table=sum_table.eval('data_usage_gb = data_usage_mb/1024')\n",
    "sum_table['data_usage_gb']=np.ceil(sum_table['data_usage_gb'])\n",
    "sum_table"
   ]
  },
  {
   "cell_type": "markdown",
   "metadata": {},
   "source": [
    "<div class=\"alert alert-success\">\n",
    "<b>Reviewer's comment v1:</b>\n",
    "    \n",
    "Great! Data aggregation and rounding is correct."
   ]
  },
  {
   "cell_type": "code",
   "execution_count": 35,
   "metadata": {},
   "outputs": [],
   "source": [
    "sum_table=sum_table.reset_index()"
   ]
  },
  {
   "cell_type": "code",
   "execution_count": 36,
   "metadata": {},
   "outputs": [
    {
     "data": {
      "text/html": [
       "<div>\n",
       "<style scoped>\n",
       "    .dataframe tbody tr th:only-of-type {\n",
       "        vertical-align: middle;\n",
       "    }\n",
       "\n",
       "    .dataframe tbody tr th {\n",
       "        vertical-align: top;\n",
       "    }\n",
       "\n",
       "    .dataframe thead th {\n",
       "        text-align: right;\n",
       "    }\n",
       "</style>\n",
       "<table border=\"1\" class=\"dataframe\">\n",
       "  <thead>\n",
       "    <tr style=\"text-align: right;\">\n",
       "      <th></th>\n",
       "      <th>user_id</th>\n",
       "      <th>month</th>\n",
       "      <th>plan</th>\n",
       "      <th>avg_call_duration</th>\n",
       "      <th>data_usage_mb</th>\n",
       "      <th>message_count</th>\n",
       "      <th>total_minutes</th>\n",
       "      <th>data_usage_gb</th>\n",
       "    </tr>\n",
       "  </thead>\n",
       "  <tbody>\n",
       "    <tr>\n",
       "      <th>0</th>\n",
       "      <td>1000</td>\n",
       "      <td>12.0</td>\n",
       "      <td>ultimate</td>\n",
       "      <td>7.750000</td>\n",
       "      <td>1901.47</td>\n",
       "      <td>11.0</td>\n",
       "      <td>124.0</td>\n",
       "      <td>2.0</td>\n",
       "    </tr>\n",
       "    <tr>\n",
       "      <th>19</th>\n",
       "      <td>1006</td>\n",
       "      <td>11.0</td>\n",
       "      <td>ultimate</td>\n",
       "      <td>5.000000</td>\n",
       "      <td>2068.37</td>\n",
       "      <td>15.0</td>\n",
       "      <td>10.0</td>\n",
       "      <td>3.0</td>\n",
       "    </tr>\n",
       "    <tr>\n",
       "      <th>20</th>\n",
       "      <td>1006</td>\n",
       "      <td>12.0</td>\n",
       "      <td>ultimate</td>\n",
       "      <td>6.555556</td>\n",
       "      <td>32118.82</td>\n",
       "      <td>139.0</td>\n",
       "      <td>59.0</td>\n",
       "      <td>32.0</td>\n",
       "    </tr>\n",
       "    <tr>\n",
       "      <th>26</th>\n",
       "      <td>1008</td>\n",
       "      <td>10.0</td>\n",
       "      <td>ultimate</td>\n",
       "      <td>6.704225</td>\n",
       "      <td>17106.99</td>\n",
       "      <td>21.0</td>\n",
       "      <td>476.0</td>\n",
       "      <td>17.0</td>\n",
       "    </tr>\n",
       "    <tr>\n",
       "      <th>27</th>\n",
       "      <td>1008</td>\n",
       "      <td>11.0</td>\n",
       "      <td>ultimate</td>\n",
       "      <td>7.079365</td>\n",
       "      <td>23676.72</td>\n",
       "      <td>37.0</td>\n",
       "      <td>446.0</td>\n",
       "      <td>24.0</td>\n",
       "    </tr>\n",
       "  </tbody>\n",
       "</table>\n",
       "</div>"
      ],
      "text/plain": [
       "    user_id  month      plan  avg_call_duration  data_usage_mb  message_count  \\\n",
       "0      1000   12.0  ultimate           7.750000        1901.47           11.0   \n",
       "19     1006   11.0  ultimate           5.000000        2068.37           15.0   \n",
       "20     1006   12.0  ultimate           6.555556       32118.82          139.0   \n",
       "26     1008   10.0  ultimate           6.704225       17106.99           21.0   \n",
       "27     1008   11.0  ultimate           7.079365       23676.72           37.0   \n",
       "\n",
       "    total_minutes  data_usage_gb  \n",
       "0           124.0            2.0  \n",
       "19           10.0            3.0  \n",
       "20           59.0           32.0  \n",
       "26          476.0           17.0  \n",
       "27          446.0           24.0  "
      ]
     },
     "execution_count": 36,
     "metadata": {},
     "output_type": "execute_result"
    }
   ],
   "source": [
    "ultimate_table=sum_table[sum_table['plan']=='ultimate']\n",
    "ultimate_table.head()"
   ]
  },
  {
   "cell_type": "code",
   "execution_count": 37,
   "metadata": {},
   "outputs": [
    {
     "data": {
      "text/html": [
       "<div>\n",
       "<style scoped>\n",
       "    .dataframe tbody tr th:only-of-type {\n",
       "        vertical-align: middle;\n",
       "    }\n",
       "\n",
       "    .dataframe tbody tr th {\n",
       "        vertical-align: top;\n",
       "    }\n",
       "\n",
       "    .dataframe thead th {\n",
       "        text-align: right;\n",
       "    }\n",
       "</style>\n",
       "<table border=\"1\" class=\"dataframe\">\n",
       "  <thead>\n",
       "    <tr style=\"text-align: right;\">\n",
       "      <th></th>\n",
       "      <th>user_id</th>\n",
       "      <th>month</th>\n",
       "      <th>plan</th>\n",
       "      <th>avg_call_duration</th>\n",
       "      <th>data_usage_mb</th>\n",
       "      <th>message_count</th>\n",
       "      <th>total_minutes</th>\n",
       "      <th>data_usage_gb</th>\n",
       "    </tr>\n",
       "  </thead>\n",
       "  <tbody>\n",
       "    <tr>\n",
       "      <th>1</th>\n",
       "      <td>1001</td>\n",
       "      <td>8.0</td>\n",
       "      <td>surf</td>\n",
       "      <td>6.740741</td>\n",
       "      <td>6919.15</td>\n",
       "      <td>30.0</td>\n",
       "      <td>182.0</td>\n",
       "      <td>7.0</td>\n",
       "    </tr>\n",
       "    <tr>\n",
       "      <th>2</th>\n",
       "      <td>1001</td>\n",
       "      <td>9.0</td>\n",
       "      <td>surf</td>\n",
       "      <td>6.428571</td>\n",
       "      <td>13314.82</td>\n",
       "      <td>44.0</td>\n",
       "      <td>315.0</td>\n",
       "      <td>14.0</td>\n",
       "    </tr>\n",
       "    <tr>\n",
       "      <th>3</th>\n",
       "      <td>1001</td>\n",
       "      <td>10.0</td>\n",
       "      <td>surf</td>\n",
       "      <td>6.046154</td>\n",
       "      <td>22330.49</td>\n",
       "      <td>53.0</td>\n",
       "      <td>393.0</td>\n",
       "      <td>22.0</td>\n",
       "    </tr>\n",
       "    <tr>\n",
       "      <th>4</th>\n",
       "      <td>1001</td>\n",
       "      <td>11.0</td>\n",
       "      <td>surf</td>\n",
       "      <td>6.656250</td>\n",
       "      <td>18504.30</td>\n",
       "      <td>36.0</td>\n",
       "      <td>426.0</td>\n",
       "      <td>19.0</td>\n",
       "    </tr>\n",
       "    <tr>\n",
       "      <th>5</th>\n",
       "      <td>1001</td>\n",
       "      <td>12.0</td>\n",
       "      <td>surf</td>\n",
       "      <td>7.357143</td>\n",
       "      <td>19369.18</td>\n",
       "      <td>44.0</td>\n",
       "      <td>412.0</td>\n",
       "      <td>19.0</td>\n",
       "    </tr>\n",
       "  </tbody>\n",
       "</table>\n",
       "</div>"
      ],
      "text/plain": [
       "   user_id  month  plan  avg_call_duration  data_usage_mb  message_count  \\\n",
       "1     1001    8.0  surf           6.740741        6919.15           30.0   \n",
       "2     1001    9.0  surf           6.428571       13314.82           44.0   \n",
       "3     1001   10.0  surf           6.046154       22330.49           53.0   \n",
       "4     1001   11.0  surf           6.656250       18504.30           36.0   \n",
       "5     1001   12.0  surf           7.357143       19369.18           44.0   \n",
       "\n",
       "   total_minutes  data_usage_gb  \n",
       "1          182.0            7.0  \n",
       "2          315.0           14.0  \n",
       "3          393.0           22.0  \n",
       "4          426.0           19.0  \n",
       "5          412.0           19.0  "
      ]
     },
     "execution_count": 37,
     "metadata": {},
     "output_type": "execute_result"
    }
   ],
   "source": [
    "surf_table=sum_table[sum_table['plan']=='surf']\n",
    "surf_table.head()"
   ]
  },
  {
   "cell_type": "code",
   "execution_count": 38,
   "metadata": {},
   "outputs": [
    {
     "data": {
      "text/html": [
       "<div>\n",
       "<style scoped>\n",
       "    .dataframe tbody tr th:only-of-type {\n",
       "        vertical-align: middle;\n",
       "    }\n",
       "\n",
       "    .dataframe tbody tr th {\n",
       "        vertical-align: top;\n",
       "    }\n",
       "\n",
       "    .dataframe thead th {\n",
       "        text-align: right;\n",
       "    }\n",
       "</style>\n",
       "<table border=\"1\" class=\"dataframe\">\n",
       "  <thead>\n",
       "    <tr style=\"text-align: right;\">\n",
       "      <th></th>\n",
       "      <th>user_id</th>\n",
       "      <th>month</th>\n",
       "      <th>plan</th>\n",
       "      <th>avg_call_duration</th>\n",
       "      <th>data_usage_mb</th>\n",
       "      <th>message_count</th>\n",
       "      <th>total_minutes</th>\n",
       "      <th>data_usage_gb</th>\n",
       "      <th>message_cost</th>\n",
       "      <th>data_cost</th>\n",
       "      <th>minute_cost</th>\n",
       "    </tr>\n",
       "  </thead>\n",
       "  <tbody>\n",
       "    <tr>\n",
       "      <th>0</th>\n",
       "      <td>1000</td>\n",
       "      <td>12.0</td>\n",
       "      <td>ultimate</td>\n",
       "      <td>7.750000</td>\n",
       "      <td>1901.47</td>\n",
       "      <td>11.0</td>\n",
       "      <td>124.0</td>\n",
       "      <td>2.0</td>\n",
       "      <td>-989.0</td>\n",
       "      <td>-28.0</td>\n",
       "      <td>-2876.0</td>\n",
       "    </tr>\n",
       "    <tr>\n",
       "      <th>19</th>\n",
       "      <td>1006</td>\n",
       "      <td>11.0</td>\n",
       "      <td>ultimate</td>\n",
       "      <td>5.000000</td>\n",
       "      <td>2068.37</td>\n",
       "      <td>15.0</td>\n",
       "      <td>10.0</td>\n",
       "      <td>3.0</td>\n",
       "      <td>-985.0</td>\n",
       "      <td>-27.0</td>\n",
       "      <td>-2990.0</td>\n",
       "    </tr>\n",
       "    <tr>\n",
       "      <th>20</th>\n",
       "      <td>1006</td>\n",
       "      <td>12.0</td>\n",
       "      <td>ultimate</td>\n",
       "      <td>6.555556</td>\n",
       "      <td>32118.82</td>\n",
       "      <td>139.0</td>\n",
       "      <td>59.0</td>\n",
       "      <td>32.0</td>\n",
       "      <td>-861.0</td>\n",
       "      <td>2.0</td>\n",
       "      <td>-2941.0</td>\n",
       "    </tr>\n",
       "    <tr>\n",
       "      <th>26</th>\n",
       "      <td>1008</td>\n",
       "      <td>10.0</td>\n",
       "      <td>ultimate</td>\n",
       "      <td>6.704225</td>\n",
       "      <td>17106.99</td>\n",
       "      <td>21.0</td>\n",
       "      <td>476.0</td>\n",
       "      <td>17.0</td>\n",
       "      <td>-979.0</td>\n",
       "      <td>-13.0</td>\n",
       "      <td>-2524.0</td>\n",
       "    </tr>\n",
       "    <tr>\n",
       "      <th>27</th>\n",
       "      <td>1008</td>\n",
       "      <td>11.0</td>\n",
       "      <td>ultimate</td>\n",
       "      <td>7.079365</td>\n",
       "      <td>23676.72</td>\n",
       "      <td>37.0</td>\n",
       "      <td>446.0</td>\n",
       "      <td>24.0</td>\n",
       "      <td>-963.0</td>\n",
       "      <td>-6.0</td>\n",
       "      <td>-2554.0</td>\n",
       "    </tr>\n",
       "    <tr>\n",
       "      <th>...</th>\n",
       "      <td>...</td>\n",
       "      <td>...</td>\n",
       "      <td>...</td>\n",
       "      <td>...</td>\n",
       "      <td>...</td>\n",
       "      <td>...</td>\n",
       "      <td>...</td>\n",
       "      <td>...</td>\n",
       "      <td>...</td>\n",
       "      <td>...</td>\n",
       "      <td>...</td>\n",
       "    </tr>\n",
       "    <tr>\n",
       "      <th>2258</th>\n",
       "      <td>1493</td>\n",
       "      <td>9.0</td>\n",
       "      <td>ultimate</td>\n",
       "      <td>8.015152</td>\n",
       "      <td>14991.17</td>\n",
       "      <td>0.0</td>\n",
       "      <td>529.0</td>\n",
       "      <td>15.0</td>\n",
       "      <td>-1000.0</td>\n",
       "      <td>-15.0</td>\n",
       "      <td>-2471.0</td>\n",
       "    </tr>\n",
       "    <tr>\n",
       "      <th>2259</th>\n",
       "      <td>1493</td>\n",
       "      <td>10.0</td>\n",
       "      <td>ultimate</td>\n",
       "      <td>6.818182</td>\n",
       "      <td>16329.57</td>\n",
       "      <td>0.0</td>\n",
       "      <td>450.0</td>\n",
       "      <td>16.0</td>\n",
       "      <td>-1000.0</td>\n",
       "      <td>-14.0</td>\n",
       "      <td>-2550.0</td>\n",
       "    </tr>\n",
       "    <tr>\n",
       "      <th>2260</th>\n",
       "      <td>1493</td>\n",
       "      <td>11.0</td>\n",
       "      <td>ultimate</td>\n",
       "      <td>6.849315</td>\n",
       "      <td>15630.78</td>\n",
       "      <td>0.0</td>\n",
       "      <td>500.0</td>\n",
       "      <td>16.0</td>\n",
       "      <td>-1000.0</td>\n",
       "      <td>-14.0</td>\n",
       "      <td>-2500.0</td>\n",
       "    </tr>\n",
       "    <tr>\n",
       "      <th>2261</th>\n",
       "      <td>1493</td>\n",
       "      <td>12.0</td>\n",
       "      <td>ultimate</td>\n",
       "      <td>7.276923</td>\n",
       "      <td>15289.09</td>\n",
       "      <td>0.0</td>\n",
       "      <td>473.0</td>\n",
       "      <td>15.0</td>\n",
       "      <td>-1000.0</td>\n",
       "      <td>-15.0</td>\n",
       "      <td>-2527.0</td>\n",
       "    </tr>\n",
       "    <tr>\n",
       "      <th>2277</th>\n",
       "      <td>1497</td>\n",
       "      <td>12.0</td>\n",
       "      <td>ultimate</td>\n",
       "      <td>5.555556</td>\n",
       "      <td>11106.55</td>\n",
       "      <td>50.0</td>\n",
       "      <td>300.0</td>\n",
       "      <td>11.0</td>\n",
       "      <td>-950.0</td>\n",
       "      <td>-19.0</td>\n",
       "      <td>-2700.0</td>\n",
       "    </tr>\n",
       "  </tbody>\n",
       "</table>\n",
       "<p>720 rows × 11 columns</p>\n",
       "</div>"
      ],
      "text/plain": [
       "      user_id  month      plan  avg_call_duration  data_usage_mb  \\\n",
       "0        1000   12.0  ultimate           7.750000        1901.47   \n",
       "19       1006   11.0  ultimate           5.000000        2068.37   \n",
       "20       1006   12.0  ultimate           6.555556       32118.82   \n",
       "26       1008   10.0  ultimate           6.704225       17106.99   \n",
       "27       1008   11.0  ultimate           7.079365       23676.72   \n",
       "...       ...    ...       ...                ...            ...   \n",
       "2258     1493    9.0  ultimate           8.015152       14991.17   \n",
       "2259     1493   10.0  ultimate           6.818182       16329.57   \n",
       "2260     1493   11.0  ultimate           6.849315       15630.78   \n",
       "2261     1493   12.0  ultimate           7.276923       15289.09   \n",
       "2277     1497   12.0  ultimate           5.555556       11106.55   \n",
       "\n",
       "      message_count  total_minutes  data_usage_gb  message_cost  data_cost  \\\n",
       "0              11.0          124.0            2.0        -989.0      -28.0   \n",
       "19             15.0           10.0            3.0        -985.0      -27.0   \n",
       "20            139.0           59.0           32.0        -861.0        2.0   \n",
       "26             21.0          476.0           17.0        -979.0      -13.0   \n",
       "27             37.0          446.0           24.0        -963.0       -6.0   \n",
       "...             ...            ...            ...           ...        ...   \n",
       "2258            0.0          529.0           15.0       -1000.0      -15.0   \n",
       "2259            0.0          450.0           16.0       -1000.0      -14.0   \n",
       "2260            0.0          500.0           16.0       -1000.0      -14.0   \n",
       "2261            0.0          473.0           15.0       -1000.0      -15.0   \n",
       "2277           50.0          300.0           11.0        -950.0      -19.0   \n",
       "\n",
       "      minute_cost  \n",
       "0         -2876.0  \n",
       "19        -2990.0  \n",
       "20        -2941.0  \n",
       "26        -2524.0  \n",
       "27        -2554.0  \n",
       "...           ...  \n",
       "2258      -2471.0  \n",
       "2259      -2550.0  \n",
       "2260      -2500.0  \n",
       "2261      -2527.0  \n",
       "2277      -2700.0  \n",
       "\n",
       "[720 rows x 11 columns]"
      ]
     },
     "execution_count": 38,
     "metadata": {},
     "output_type": "execute_result"
    }
   ],
   "source": [
    "ultimate_table= ultimate_table.eval(\"message_cost = message_count -1000\")\n",
    "ultimate_table= ultimate_table.eval('data_cost = data_usage_mb - 30720')\n",
    "ultimate_table= ultimate_table.eval('data_cost = data_cost/1024')\n",
    "ultimate_table['data_cost']=np.ceil(ultimate_table['data_cost'])\n",
    "ultimate_table= ultimate_table.eval('minute_cost = total_minutes-3000')\n",
    "ultimate_table"
   ]
  },
  {
   "cell_type": "code",
   "execution_count": 39,
   "metadata": {},
   "outputs": [
    {
     "data": {
      "text/html": [
       "<div>\n",
       "<style scoped>\n",
       "    .dataframe tbody tr th:only-of-type {\n",
       "        vertical-align: middle;\n",
       "    }\n",
       "\n",
       "    .dataframe tbody tr th {\n",
       "        vertical-align: top;\n",
       "    }\n",
       "\n",
       "    .dataframe thead th {\n",
       "        text-align: right;\n",
       "    }\n",
       "</style>\n",
       "<table border=\"1\" class=\"dataframe\">\n",
       "  <thead>\n",
       "    <tr style=\"text-align: right;\">\n",
       "      <th></th>\n",
       "      <th>user_id</th>\n",
       "      <th>month</th>\n",
       "      <th>plan</th>\n",
       "      <th>avg_call_duration</th>\n",
       "      <th>data_usage_mb</th>\n",
       "      <th>message_count</th>\n",
       "      <th>total_minutes</th>\n",
       "      <th>data_usage_gb</th>\n",
       "      <th>message_cost</th>\n",
       "      <th>data_cost</th>\n",
       "      <th>minute_cost</th>\n",
       "    </tr>\n",
       "  </thead>\n",
       "  <tbody>\n",
       "    <tr>\n",
       "      <th>0</th>\n",
       "      <td>1000</td>\n",
       "      <td>12.0</td>\n",
       "      <td>ultimate</td>\n",
       "      <td>7.750000</td>\n",
       "      <td>1901.47</td>\n",
       "      <td>11.0</td>\n",
       "      <td>124.0</td>\n",
       "      <td>2.0</td>\n",
       "      <td>0.0</td>\n",
       "      <td>0.0</td>\n",
       "      <td>0.0</td>\n",
       "    </tr>\n",
       "    <tr>\n",
       "      <th>19</th>\n",
       "      <td>1006</td>\n",
       "      <td>11.0</td>\n",
       "      <td>ultimate</td>\n",
       "      <td>5.000000</td>\n",
       "      <td>2068.37</td>\n",
       "      <td>15.0</td>\n",
       "      <td>10.0</td>\n",
       "      <td>3.0</td>\n",
       "      <td>0.0</td>\n",
       "      <td>0.0</td>\n",
       "      <td>0.0</td>\n",
       "    </tr>\n",
       "    <tr>\n",
       "      <th>20</th>\n",
       "      <td>1006</td>\n",
       "      <td>12.0</td>\n",
       "      <td>ultimate</td>\n",
       "      <td>6.555556</td>\n",
       "      <td>32118.82</td>\n",
       "      <td>139.0</td>\n",
       "      <td>59.0</td>\n",
       "      <td>32.0</td>\n",
       "      <td>0.0</td>\n",
       "      <td>2.0</td>\n",
       "      <td>0.0</td>\n",
       "    </tr>\n",
       "    <tr>\n",
       "      <th>26</th>\n",
       "      <td>1008</td>\n",
       "      <td>10.0</td>\n",
       "      <td>ultimate</td>\n",
       "      <td>6.704225</td>\n",
       "      <td>17106.99</td>\n",
       "      <td>21.0</td>\n",
       "      <td>476.0</td>\n",
       "      <td>17.0</td>\n",
       "      <td>0.0</td>\n",
       "      <td>0.0</td>\n",
       "      <td>0.0</td>\n",
       "    </tr>\n",
       "    <tr>\n",
       "      <th>27</th>\n",
       "      <td>1008</td>\n",
       "      <td>11.0</td>\n",
       "      <td>ultimate</td>\n",
       "      <td>7.079365</td>\n",
       "      <td>23676.72</td>\n",
       "      <td>37.0</td>\n",
       "      <td>446.0</td>\n",
       "      <td>24.0</td>\n",
       "      <td>0.0</td>\n",
       "      <td>0.0</td>\n",
       "      <td>0.0</td>\n",
       "    </tr>\n",
       "    <tr>\n",
       "      <th>...</th>\n",
       "      <td>...</td>\n",
       "      <td>...</td>\n",
       "      <td>...</td>\n",
       "      <td>...</td>\n",
       "      <td>...</td>\n",
       "      <td>...</td>\n",
       "      <td>...</td>\n",
       "      <td>...</td>\n",
       "      <td>...</td>\n",
       "      <td>...</td>\n",
       "      <td>...</td>\n",
       "    </tr>\n",
       "    <tr>\n",
       "      <th>2258</th>\n",
       "      <td>1493</td>\n",
       "      <td>9.0</td>\n",
       "      <td>ultimate</td>\n",
       "      <td>8.015152</td>\n",
       "      <td>14991.17</td>\n",
       "      <td>0.0</td>\n",
       "      <td>529.0</td>\n",
       "      <td>15.0</td>\n",
       "      <td>0.0</td>\n",
       "      <td>0.0</td>\n",
       "      <td>0.0</td>\n",
       "    </tr>\n",
       "    <tr>\n",
       "      <th>2259</th>\n",
       "      <td>1493</td>\n",
       "      <td>10.0</td>\n",
       "      <td>ultimate</td>\n",
       "      <td>6.818182</td>\n",
       "      <td>16329.57</td>\n",
       "      <td>0.0</td>\n",
       "      <td>450.0</td>\n",
       "      <td>16.0</td>\n",
       "      <td>0.0</td>\n",
       "      <td>0.0</td>\n",
       "      <td>0.0</td>\n",
       "    </tr>\n",
       "    <tr>\n",
       "      <th>2260</th>\n",
       "      <td>1493</td>\n",
       "      <td>11.0</td>\n",
       "      <td>ultimate</td>\n",
       "      <td>6.849315</td>\n",
       "      <td>15630.78</td>\n",
       "      <td>0.0</td>\n",
       "      <td>500.0</td>\n",
       "      <td>16.0</td>\n",
       "      <td>0.0</td>\n",
       "      <td>0.0</td>\n",
       "      <td>0.0</td>\n",
       "    </tr>\n",
       "    <tr>\n",
       "      <th>2261</th>\n",
       "      <td>1493</td>\n",
       "      <td>12.0</td>\n",
       "      <td>ultimate</td>\n",
       "      <td>7.276923</td>\n",
       "      <td>15289.09</td>\n",
       "      <td>0.0</td>\n",
       "      <td>473.0</td>\n",
       "      <td>15.0</td>\n",
       "      <td>0.0</td>\n",
       "      <td>0.0</td>\n",
       "      <td>0.0</td>\n",
       "    </tr>\n",
       "    <tr>\n",
       "      <th>2277</th>\n",
       "      <td>1497</td>\n",
       "      <td>12.0</td>\n",
       "      <td>ultimate</td>\n",
       "      <td>5.555556</td>\n",
       "      <td>11106.55</td>\n",
       "      <td>50.0</td>\n",
       "      <td>300.0</td>\n",
       "      <td>11.0</td>\n",
       "      <td>0.0</td>\n",
       "      <td>0.0</td>\n",
       "      <td>0.0</td>\n",
       "    </tr>\n",
       "  </tbody>\n",
       "</table>\n",
       "<p>720 rows × 11 columns</p>\n",
       "</div>"
      ],
      "text/plain": [
       "      user_id  month      plan  avg_call_duration  data_usage_mb  \\\n",
       "0        1000   12.0  ultimate           7.750000        1901.47   \n",
       "19       1006   11.0  ultimate           5.000000        2068.37   \n",
       "20       1006   12.0  ultimate           6.555556       32118.82   \n",
       "26       1008   10.0  ultimate           6.704225       17106.99   \n",
       "27       1008   11.0  ultimate           7.079365       23676.72   \n",
       "...       ...    ...       ...                ...            ...   \n",
       "2258     1493    9.0  ultimate           8.015152       14991.17   \n",
       "2259     1493   10.0  ultimate           6.818182       16329.57   \n",
       "2260     1493   11.0  ultimate           6.849315       15630.78   \n",
       "2261     1493   12.0  ultimate           7.276923       15289.09   \n",
       "2277     1497   12.0  ultimate           5.555556       11106.55   \n",
       "\n",
       "      message_count  total_minutes  data_usage_gb  message_cost  data_cost  \\\n",
       "0              11.0          124.0            2.0           0.0        0.0   \n",
       "19             15.0           10.0            3.0           0.0        0.0   \n",
       "20            139.0           59.0           32.0           0.0        2.0   \n",
       "26             21.0          476.0           17.0           0.0        0.0   \n",
       "27             37.0          446.0           24.0           0.0        0.0   \n",
       "...             ...            ...            ...           ...        ...   \n",
       "2258            0.0          529.0           15.0           0.0        0.0   \n",
       "2259            0.0          450.0           16.0           0.0        0.0   \n",
       "2260            0.0          500.0           16.0           0.0        0.0   \n",
       "2261            0.0          473.0           15.0           0.0        0.0   \n",
       "2277           50.0          300.0           11.0           0.0        0.0   \n",
       "\n",
       "      minute_cost  \n",
       "0             0.0  \n",
       "19            0.0  \n",
       "20            0.0  \n",
       "26            0.0  \n",
       "27            0.0  \n",
       "...           ...  \n",
       "2258          0.0  \n",
       "2259          0.0  \n",
       "2260          0.0  \n",
       "2261          0.0  \n",
       "2277          0.0  \n",
       "\n",
       "[720 rows x 11 columns]"
      ]
     },
     "execution_count": 39,
     "metadata": {},
     "output_type": "execute_result"
    }
   ],
   "source": [
    "ultimate_table['message_cost']=ultimate_table['message_cost'].clip(lower=0)\n",
    "ultimate_table['data_cost']=ultimate_table['data_cost'].clip(lower=0)\n",
    "ultimate_table['minute_cost']=ultimate_table['minute_cost'].clip(lower=0)\n",
    "ultimate_table"
   ]
  },
  {
   "cell_type": "code",
   "execution_count": 40,
   "metadata": {},
   "outputs": [
    {
     "data": {
      "text/html": [
       "<div>\n",
       "<style scoped>\n",
       "    .dataframe tbody tr th:only-of-type {\n",
       "        vertical-align: middle;\n",
       "    }\n",
       "\n",
       "    .dataframe tbody tr th {\n",
       "        vertical-align: top;\n",
       "    }\n",
       "\n",
       "    .dataframe thead th {\n",
       "        text-align: right;\n",
       "    }\n",
       "</style>\n",
       "<table border=\"1\" class=\"dataframe\">\n",
       "  <thead>\n",
       "    <tr style=\"text-align: right;\">\n",
       "      <th></th>\n",
       "      <th>user_id</th>\n",
       "      <th>month</th>\n",
       "      <th>plan</th>\n",
       "      <th>avg_call_duration</th>\n",
       "      <th>data_usage_mb</th>\n",
       "      <th>message_count</th>\n",
       "      <th>total_minutes</th>\n",
       "      <th>data_usage_gb</th>\n",
       "      <th>message_cost</th>\n",
       "      <th>data_cost</th>\n",
       "      <th>minute_cost</th>\n",
       "      <th>plan_cost</th>\n",
       "    </tr>\n",
       "  </thead>\n",
       "  <tbody>\n",
       "    <tr>\n",
       "      <th>0</th>\n",
       "      <td>1000</td>\n",
       "      <td>12.0</td>\n",
       "      <td>ultimate</td>\n",
       "      <td>7.750000</td>\n",
       "      <td>1901.47</td>\n",
       "      <td>11.0</td>\n",
       "      <td>124.0</td>\n",
       "      <td>2.0</td>\n",
       "      <td>0.0</td>\n",
       "      <td>0.0</td>\n",
       "      <td>0.0</td>\n",
       "      <td>70</td>\n",
       "    </tr>\n",
       "    <tr>\n",
       "      <th>19</th>\n",
       "      <td>1006</td>\n",
       "      <td>11.0</td>\n",
       "      <td>ultimate</td>\n",
       "      <td>5.000000</td>\n",
       "      <td>2068.37</td>\n",
       "      <td>15.0</td>\n",
       "      <td>10.0</td>\n",
       "      <td>3.0</td>\n",
       "      <td>0.0</td>\n",
       "      <td>0.0</td>\n",
       "      <td>0.0</td>\n",
       "      <td>70</td>\n",
       "    </tr>\n",
       "    <tr>\n",
       "      <th>20</th>\n",
       "      <td>1006</td>\n",
       "      <td>12.0</td>\n",
       "      <td>ultimate</td>\n",
       "      <td>6.555556</td>\n",
       "      <td>32118.82</td>\n",
       "      <td>139.0</td>\n",
       "      <td>59.0</td>\n",
       "      <td>32.0</td>\n",
       "      <td>0.0</td>\n",
       "      <td>14.0</td>\n",
       "      <td>0.0</td>\n",
       "      <td>70</td>\n",
       "    </tr>\n",
       "    <tr>\n",
       "      <th>26</th>\n",
       "      <td>1008</td>\n",
       "      <td>10.0</td>\n",
       "      <td>ultimate</td>\n",
       "      <td>6.704225</td>\n",
       "      <td>17106.99</td>\n",
       "      <td>21.0</td>\n",
       "      <td>476.0</td>\n",
       "      <td>17.0</td>\n",
       "      <td>0.0</td>\n",
       "      <td>0.0</td>\n",
       "      <td>0.0</td>\n",
       "      <td>70</td>\n",
       "    </tr>\n",
       "    <tr>\n",
       "      <th>27</th>\n",
       "      <td>1008</td>\n",
       "      <td>11.0</td>\n",
       "      <td>ultimate</td>\n",
       "      <td>7.079365</td>\n",
       "      <td>23676.72</td>\n",
       "      <td>37.0</td>\n",
       "      <td>446.0</td>\n",
       "      <td>24.0</td>\n",
       "      <td>0.0</td>\n",
       "      <td>0.0</td>\n",
       "      <td>0.0</td>\n",
       "      <td>70</td>\n",
       "    </tr>\n",
       "    <tr>\n",
       "      <th>...</th>\n",
       "      <td>...</td>\n",
       "      <td>...</td>\n",
       "      <td>...</td>\n",
       "      <td>...</td>\n",
       "      <td>...</td>\n",
       "      <td>...</td>\n",
       "      <td>...</td>\n",
       "      <td>...</td>\n",
       "      <td>...</td>\n",
       "      <td>...</td>\n",
       "      <td>...</td>\n",
       "      <td>...</td>\n",
       "    </tr>\n",
       "    <tr>\n",
       "      <th>2258</th>\n",
       "      <td>1493</td>\n",
       "      <td>9.0</td>\n",
       "      <td>ultimate</td>\n",
       "      <td>8.015152</td>\n",
       "      <td>14991.17</td>\n",
       "      <td>0.0</td>\n",
       "      <td>529.0</td>\n",
       "      <td>15.0</td>\n",
       "      <td>0.0</td>\n",
       "      <td>0.0</td>\n",
       "      <td>0.0</td>\n",
       "      <td>70</td>\n",
       "    </tr>\n",
       "    <tr>\n",
       "      <th>2259</th>\n",
       "      <td>1493</td>\n",
       "      <td>10.0</td>\n",
       "      <td>ultimate</td>\n",
       "      <td>6.818182</td>\n",
       "      <td>16329.57</td>\n",
       "      <td>0.0</td>\n",
       "      <td>450.0</td>\n",
       "      <td>16.0</td>\n",
       "      <td>0.0</td>\n",
       "      <td>0.0</td>\n",
       "      <td>0.0</td>\n",
       "      <td>70</td>\n",
       "    </tr>\n",
       "    <tr>\n",
       "      <th>2260</th>\n",
       "      <td>1493</td>\n",
       "      <td>11.0</td>\n",
       "      <td>ultimate</td>\n",
       "      <td>6.849315</td>\n",
       "      <td>15630.78</td>\n",
       "      <td>0.0</td>\n",
       "      <td>500.0</td>\n",
       "      <td>16.0</td>\n",
       "      <td>0.0</td>\n",
       "      <td>0.0</td>\n",
       "      <td>0.0</td>\n",
       "      <td>70</td>\n",
       "    </tr>\n",
       "    <tr>\n",
       "      <th>2261</th>\n",
       "      <td>1493</td>\n",
       "      <td>12.0</td>\n",
       "      <td>ultimate</td>\n",
       "      <td>7.276923</td>\n",
       "      <td>15289.09</td>\n",
       "      <td>0.0</td>\n",
       "      <td>473.0</td>\n",
       "      <td>15.0</td>\n",
       "      <td>0.0</td>\n",
       "      <td>0.0</td>\n",
       "      <td>0.0</td>\n",
       "      <td>70</td>\n",
       "    </tr>\n",
       "    <tr>\n",
       "      <th>2277</th>\n",
       "      <td>1497</td>\n",
       "      <td>12.0</td>\n",
       "      <td>ultimate</td>\n",
       "      <td>5.555556</td>\n",
       "      <td>11106.55</td>\n",
       "      <td>50.0</td>\n",
       "      <td>300.0</td>\n",
       "      <td>11.0</td>\n",
       "      <td>0.0</td>\n",
       "      <td>0.0</td>\n",
       "      <td>0.0</td>\n",
       "      <td>70</td>\n",
       "    </tr>\n",
       "  </tbody>\n",
       "</table>\n",
       "<p>720 rows × 12 columns</p>\n",
       "</div>"
      ],
      "text/plain": [
       "      user_id  month      plan  avg_call_duration  data_usage_mb  \\\n",
       "0        1000   12.0  ultimate           7.750000        1901.47   \n",
       "19       1006   11.0  ultimate           5.000000        2068.37   \n",
       "20       1006   12.0  ultimate           6.555556       32118.82   \n",
       "26       1008   10.0  ultimate           6.704225       17106.99   \n",
       "27       1008   11.0  ultimate           7.079365       23676.72   \n",
       "...       ...    ...       ...                ...            ...   \n",
       "2258     1493    9.0  ultimate           8.015152       14991.17   \n",
       "2259     1493   10.0  ultimate           6.818182       16329.57   \n",
       "2260     1493   11.0  ultimate           6.849315       15630.78   \n",
       "2261     1493   12.0  ultimate           7.276923       15289.09   \n",
       "2277     1497   12.0  ultimate           5.555556       11106.55   \n",
       "\n",
       "      message_count  total_minutes  data_usage_gb  message_cost  data_cost  \\\n",
       "0              11.0          124.0            2.0           0.0        0.0   \n",
       "19             15.0           10.0            3.0           0.0        0.0   \n",
       "20            139.0           59.0           32.0           0.0       14.0   \n",
       "26             21.0          476.0           17.0           0.0        0.0   \n",
       "27             37.0          446.0           24.0           0.0        0.0   \n",
       "...             ...            ...            ...           ...        ...   \n",
       "2258            0.0          529.0           15.0           0.0        0.0   \n",
       "2259            0.0          450.0           16.0           0.0        0.0   \n",
       "2260            0.0          500.0           16.0           0.0        0.0   \n",
       "2261            0.0          473.0           15.0           0.0        0.0   \n",
       "2277           50.0          300.0           11.0           0.0        0.0   \n",
       "\n",
       "      minute_cost  plan_cost  \n",
       "0             0.0         70  \n",
       "19            0.0         70  \n",
       "20            0.0         70  \n",
       "26            0.0         70  \n",
       "27            0.0         70  \n",
       "...           ...        ...  \n",
       "2258          0.0         70  \n",
       "2259          0.0         70  \n",
       "2260          0.0         70  \n",
       "2261          0.0         70  \n",
       "2277          0.0         70  \n",
       "\n",
       "[720 rows x 12 columns]"
      ]
     },
     "execution_count": 40,
     "metadata": {},
     "output_type": "execute_result"
    }
   ],
   "source": [
    "ultimate_table=ultimate_table.eval('minute_cost = minute_cost*0.01')\n",
    "ultimate_table=ultimate_table.eval('message_cost = message_cost*0.01')\n",
    "ultimate_table=ultimate_table.eval('data_cost = data_cost*7')\n",
    "ultimate_table=ultimate_table.eval('plan_cost = 70')\n",
    "ultimate_table"
   ]
  },
  {
   "cell_type": "code",
   "execution_count": 41,
   "metadata": {},
   "outputs": [
    {
     "data": {
      "text/html": [
       "<div>\n",
       "<style scoped>\n",
       "    .dataframe tbody tr th:only-of-type {\n",
       "        vertical-align: middle;\n",
       "    }\n",
       "\n",
       "    .dataframe tbody tr th {\n",
       "        vertical-align: top;\n",
       "    }\n",
       "\n",
       "    .dataframe thead th {\n",
       "        text-align: right;\n",
       "    }\n",
       "</style>\n",
       "<table border=\"1\" class=\"dataframe\">\n",
       "  <thead>\n",
       "    <tr style=\"text-align: right;\">\n",
       "      <th></th>\n",
       "      <th>user_id</th>\n",
       "      <th>month</th>\n",
       "      <th>plan</th>\n",
       "      <th>avg_call_duration</th>\n",
       "      <th>data_usage_mb</th>\n",
       "      <th>message_count</th>\n",
       "      <th>total_minutes</th>\n",
       "      <th>data_usage_gb</th>\n",
       "      <th>message_cost</th>\n",
       "      <th>data_cost</th>\n",
       "      <th>minute_cost</th>\n",
       "      <th>plan_cost</th>\n",
       "      <th>total_cost</th>\n",
       "    </tr>\n",
       "  </thead>\n",
       "  <tbody>\n",
       "    <tr>\n",
       "      <th>0</th>\n",
       "      <td>1000</td>\n",
       "      <td>12.0</td>\n",
       "      <td>ultimate</td>\n",
       "      <td>7.750000</td>\n",
       "      <td>1901.47</td>\n",
       "      <td>11.0</td>\n",
       "      <td>124.0</td>\n",
       "      <td>2.0</td>\n",
       "      <td>0.0</td>\n",
       "      <td>0.0</td>\n",
       "      <td>0.0</td>\n",
       "      <td>70</td>\n",
       "      <td>70.0</td>\n",
       "    </tr>\n",
       "    <tr>\n",
       "      <th>19</th>\n",
       "      <td>1006</td>\n",
       "      <td>11.0</td>\n",
       "      <td>ultimate</td>\n",
       "      <td>5.000000</td>\n",
       "      <td>2068.37</td>\n",
       "      <td>15.0</td>\n",
       "      <td>10.0</td>\n",
       "      <td>3.0</td>\n",
       "      <td>0.0</td>\n",
       "      <td>0.0</td>\n",
       "      <td>0.0</td>\n",
       "      <td>70</td>\n",
       "      <td>70.0</td>\n",
       "    </tr>\n",
       "    <tr>\n",
       "      <th>20</th>\n",
       "      <td>1006</td>\n",
       "      <td>12.0</td>\n",
       "      <td>ultimate</td>\n",
       "      <td>6.555556</td>\n",
       "      <td>32118.82</td>\n",
       "      <td>139.0</td>\n",
       "      <td>59.0</td>\n",
       "      <td>32.0</td>\n",
       "      <td>0.0</td>\n",
       "      <td>14.0</td>\n",
       "      <td>0.0</td>\n",
       "      <td>70</td>\n",
       "      <td>84.0</td>\n",
       "    </tr>\n",
       "    <tr>\n",
       "      <th>26</th>\n",
       "      <td>1008</td>\n",
       "      <td>10.0</td>\n",
       "      <td>ultimate</td>\n",
       "      <td>6.704225</td>\n",
       "      <td>17106.99</td>\n",
       "      <td>21.0</td>\n",
       "      <td>476.0</td>\n",
       "      <td>17.0</td>\n",
       "      <td>0.0</td>\n",
       "      <td>0.0</td>\n",
       "      <td>0.0</td>\n",
       "      <td>70</td>\n",
       "      <td>70.0</td>\n",
       "    </tr>\n",
       "    <tr>\n",
       "      <th>27</th>\n",
       "      <td>1008</td>\n",
       "      <td>11.0</td>\n",
       "      <td>ultimate</td>\n",
       "      <td>7.079365</td>\n",
       "      <td>23676.72</td>\n",
       "      <td>37.0</td>\n",
       "      <td>446.0</td>\n",
       "      <td>24.0</td>\n",
       "      <td>0.0</td>\n",
       "      <td>0.0</td>\n",
       "      <td>0.0</td>\n",
       "      <td>70</td>\n",
       "      <td>70.0</td>\n",
       "    </tr>\n",
       "    <tr>\n",
       "      <th>...</th>\n",
       "      <td>...</td>\n",
       "      <td>...</td>\n",
       "      <td>...</td>\n",
       "      <td>...</td>\n",
       "      <td>...</td>\n",
       "      <td>...</td>\n",
       "      <td>...</td>\n",
       "      <td>...</td>\n",
       "      <td>...</td>\n",
       "      <td>...</td>\n",
       "      <td>...</td>\n",
       "      <td>...</td>\n",
       "      <td>...</td>\n",
       "    </tr>\n",
       "    <tr>\n",
       "      <th>2258</th>\n",
       "      <td>1493</td>\n",
       "      <td>9.0</td>\n",
       "      <td>ultimate</td>\n",
       "      <td>8.015152</td>\n",
       "      <td>14991.17</td>\n",
       "      <td>0.0</td>\n",
       "      <td>529.0</td>\n",
       "      <td>15.0</td>\n",
       "      <td>0.0</td>\n",
       "      <td>0.0</td>\n",
       "      <td>0.0</td>\n",
       "      <td>70</td>\n",
       "      <td>70.0</td>\n",
       "    </tr>\n",
       "    <tr>\n",
       "      <th>2259</th>\n",
       "      <td>1493</td>\n",
       "      <td>10.0</td>\n",
       "      <td>ultimate</td>\n",
       "      <td>6.818182</td>\n",
       "      <td>16329.57</td>\n",
       "      <td>0.0</td>\n",
       "      <td>450.0</td>\n",
       "      <td>16.0</td>\n",
       "      <td>0.0</td>\n",
       "      <td>0.0</td>\n",
       "      <td>0.0</td>\n",
       "      <td>70</td>\n",
       "      <td>70.0</td>\n",
       "    </tr>\n",
       "    <tr>\n",
       "      <th>2260</th>\n",
       "      <td>1493</td>\n",
       "      <td>11.0</td>\n",
       "      <td>ultimate</td>\n",
       "      <td>6.849315</td>\n",
       "      <td>15630.78</td>\n",
       "      <td>0.0</td>\n",
       "      <td>500.0</td>\n",
       "      <td>16.0</td>\n",
       "      <td>0.0</td>\n",
       "      <td>0.0</td>\n",
       "      <td>0.0</td>\n",
       "      <td>70</td>\n",
       "      <td>70.0</td>\n",
       "    </tr>\n",
       "    <tr>\n",
       "      <th>2261</th>\n",
       "      <td>1493</td>\n",
       "      <td>12.0</td>\n",
       "      <td>ultimate</td>\n",
       "      <td>7.276923</td>\n",
       "      <td>15289.09</td>\n",
       "      <td>0.0</td>\n",
       "      <td>473.0</td>\n",
       "      <td>15.0</td>\n",
       "      <td>0.0</td>\n",
       "      <td>0.0</td>\n",
       "      <td>0.0</td>\n",
       "      <td>70</td>\n",
       "      <td>70.0</td>\n",
       "    </tr>\n",
       "    <tr>\n",
       "      <th>2277</th>\n",
       "      <td>1497</td>\n",
       "      <td>12.0</td>\n",
       "      <td>ultimate</td>\n",
       "      <td>5.555556</td>\n",
       "      <td>11106.55</td>\n",
       "      <td>50.0</td>\n",
       "      <td>300.0</td>\n",
       "      <td>11.0</td>\n",
       "      <td>0.0</td>\n",
       "      <td>0.0</td>\n",
       "      <td>0.0</td>\n",
       "      <td>70</td>\n",
       "      <td>70.0</td>\n",
       "    </tr>\n",
       "  </tbody>\n",
       "</table>\n",
       "<p>720 rows × 13 columns</p>\n",
       "</div>"
      ],
      "text/plain": [
       "      user_id  month      plan  avg_call_duration  data_usage_mb  \\\n",
       "0        1000   12.0  ultimate           7.750000        1901.47   \n",
       "19       1006   11.0  ultimate           5.000000        2068.37   \n",
       "20       1006   12.0  ultimate           6.555556       32118.82   \n",
       "26       1008   10.0  ultimate           6.704225       17106.99   \n",
       "27       1008   11.0  ultimate           7.079365       23676.72   \n",
       "...       ...    ...       ...                ...            ...   \n",
       "2258     1493    9.0  ultimate           8.015152       14991.17   \n",
       "2259     1493   10.0  ultimate           6.818182       16329.57   \n",
       "2260     1493   11.0  ultimate           6.849315       15630.78   \n",
       "2261     1493   12.0  ultimate           7.276923       15289.09   \n",
       "2277     1497   12.0  ultimate           5.555556       11106.55   \n",
       "\n",
       "      message_count  total_minutes  data_usage_gb  message_cost  data_cost  \\\n",
       "0              11.0          124.0            2.0           0.0        0.0   \n",
       "19             15.0           10.0            3.0           0.0        0.0   \n",
       "20            139.0           59.0           32.0           0.0       14.0   \n",
       "26             21.0          476.0           17.0           0.0        0.0   \n",
       "27             37.0          446.0           24.0           0.0        0.0   \n",
       "...             ...            ...            ...           ...        ...   \n",
       "2258            0.0          529.0           15.0           0.0        0.0   \n",
       "2259            0.0          450.0           16.0           0.0        0.0   \n",
       "2260            0.0          500.0           16.0           0.0        0.0   \n",
       "2261            0.0          473.0           15.0           0.0        0.0   \n",
       "2277           50.0          300.0           11.0           0.0        0.0   \n",
       "\n",
       "      minute_cost  plan_cost  total_cost  \n",
       "0             0.0         70        70.0  \n",
       "19            0.0         70        70.0  \n",
       "20            0.0         70        84.0  \n",
       "26            0.0         70        70.0  \n",
       "27            0.0         70        70.0  \n",
       "...           ...        ...         ...  \n",
       "2258          0.0         70        70.0  \n",
       "2259          0.0         70        70.0  \n",
       "2260          0.0         70        70.0  \n",
       "2261          0.0         70        70.0  \n",
       "2277          0.0         70        70.0  \n",
       "\n",
       "[720 rows x 13 columns]"
      ]
     },
     "execution_count": 41,
     "metadata": {},
     "output_type": "execute_result"
    }
   ],
   "source": [
    "ultimate_table=ultimate_table.eval('total_cost= message_cost+data_cost+minute_cost+plan_cost')\n",
    "ultimate_table"
   ]
  },
  {
   "cell_type": "code",
   "execution_count": 42,
   "metadata": {},
   "outputs": [
    {
     "data": {
      "text/html": [
       "<div>\n",
       "<style scoped>\n",
       "    .dataframe tbody tr th:only-of-type {\n",
       "        vertical-align: middle;\n",
       "    }\n",
       "\n",
       "    .dataframe tbody tr th {\n",
       "        vertical-align: top;\n",
       "    }\n",
       "\n",
       "    .dataframe thead th {\n",
       "        text-align: right;\n",
       "    }\n",
       "</style>\n",
       "<table border=\"1\" class=\"dataframe\">\n",
       "  <thead>\n",
       "    <tr style=\"text-align: right;\">\n",
       "      <th></th>\n",
       "      <th>messages_included</th>\n",
       "      <th>mb_per_month_included</th>\n",
       "      <th>minutes_included</th>\n",
       "      <th>usd_monthly_pay</th>\n",
       "      <th>usd_per_gb</th>\n",
       "      <th>usd_per_message</th>\n",
       "      <th>usd_per_minute</th>\n",
       "      <th>plan_name</th>\n",
       "    </tr>\n",
       "  </thead>\n",
       "  <tbody>\n",
       "    <tr>\n",
       "      <th>0</th>\n",
       "      <td>50</td>\n",
       "      <td>15360</td>\n",
       "      <td>500</td>\n",
       "      <td>20</td>\n",
       "      <td>10</td>\n",
       "      <td>0.03</td>\n",
       "      <td>0.03</td>\n",
       "      <td>surf</td>\n",
       "    </tr>\n",
       "    <tr>\n",
       "      <th>1</th>\n",
       "      <td>1000</td>\n",
       "      <td>30720</td>\n",
       "      <td>3000</td>\n",
       "      <td>70</td>\n",
       "      <td>7</td>\n",
       "      <td>0.01</td>\n",
       "      <td>0.01</td>\n",
       "      <td>ultimate</td>\n",
       "    </tr>\n",
       "  </tbody>\n",
       "</table>\n",
       "</div>"
      ],
      "text/plain": [
       "   messages_included  mb_per_month_included  minutes_included  \\\n",
       "0                 50                  15360               500   \n",
       "1               1000                  30720              3000   \n",
       "\n",
       "   usd_monthly_pay  usd_per_gb  usd_per_message  usd_per_minute plan_name  \n",
       "0               20          10             0.03            0.03      surf  \n",
       "1               70           7             0.01            0.01  ultimate  "
      ]
     },
     "execution_count": 42,
     "metadata": {},
     "output_type": "execute_result"
    }
   ],
   "source": [
    "plans_data\n"
   ]
  },
  {
   "cell_type": "code",
   "execution_count": 43,
   "metadata": {},
   "outputs": [
    {
     "data": {
      "text/html": [
       "<div>\n",
       "<style scoped>\n",
       "    .dataframe tbody tr th:only-of-type {\n",
       "        vertical-align: middle;\n",
       "    }\n",
       "\n",
       "    .dataframe tbody tr th {\n",
       "        vertical-align: top;\n",
       "    }\n",
       "\n",
       "    .dataframe thead th {\n",
       "        text-align: right;\n",
       "    }\n",
       "</style>\n",
       "<table border=\"1\" class=\"dataframe\">\n",
       "  <thead>\n",
       "    <tr style=\"text-align: right;\">\n",
       "      <th></th>\n",
       "      <th>user_id</th>\n",
       "      <th>month</th>\n",
       "      <th>plan</th>\n",
       "      <th>avg_call_duration</th>\n",
       "      <th>data_usage_mb</th>\n",
       "      <th>message_count</th>\n",
       "      <th>total_minutes</th>\n",
       "      <th>data_usage_gb</th>\n",
       "      <th>message_cost</th>\n",
       "    </tr>\n",
       "  </thead>\n",
       "  <tbody>\n",
       "    <tr>\n",
       "      <th>1</th>\n",
       "      <td>1001</td>\n",
       "      <td>8.0</td>\n",
       "      <td>surf</td>\n",
       "      <td>6.740741</td>\n",
       "      <td>6919.15</td>\n",
       "      <td>30.0</td>\n",
       "      <td>182.0</td>\n",
       "      <td>7.0</td>\n",
       "      <td>-20.0</td>\n",
       "    </tr>\n",
       "    <tr>\n",
       "      <th>2</th>\n",
       "      <td>1001</td>\n",
       "      <td>9.0</td>\n",
       "      <td>surf</td>\n",
       "      <td>6.428571</td>\n",
       "      <td>13314.82</td>\n",
       "      <td>44.0</td>\n",
       "      <td>315.0</td>\n",
       "      <td>14.0</td>\n",
       "      <td>-6.0</td>\n",
       "    </tr>\n",
       "    <tr>\n",
       "      <th>3</th>\n",
       "      <td>1001</td>\n",
       "      <td>10.0</td>\n",
       "      <td>surf</td>\n",
       "      <td>6.046154</td>\n",
       "      <td>22330.49</td>\n",
       "      <td>53.0</td>\n",
       "      <td>393.0</td>\n",
       "      <td>22.0</td>\n",
       "      <td>3.0</td>\n",
       "    </tr>\n",
       "    <tr>\n",
       "      <th>4</th>\n",
       "      <td>1001</td>\n",
       "      <td>11.0</td>\n",
       "      <td>surf</td>\n",
       "      <td>6.656250</td>\n",
       "      <td>18504.30</td>\n",
       "      <td>36.0</td>\n",
       "      <td>426.0</td>\n",
       "      <td>19.0</td>\n",
       "      <td>-14.0</td>\n",
       "    </tr>\n",
       "    <tr>\n",
       "      <th>5</th>\n",
       "      <td>1001</td>\n",
       "      <td>12.0</td>\n",
       "      <td>surf</td>\n",
       "      <td>7.357143</td>\n",
       "      <td>19369.18</td>\n",
       "      <td>44.0</td>\n",
       "      <td>412.0</td>\n",
       "      <td>19.0</td>\n",
       "      <td>-6.0</td>\n",
       "    </tr>\n",
       "    <tr>\n",
       "      <th>...</th>\n",
       "      <td>...</td>\n",
       "      <td>...</td>\n",
       "      <td>...</td>\n",
       "      <td>...</td>\n",
       "      <td>...</td>\n",
       "      <td>...</td>\n",
       "      <td>...</td>\n",
       "      <td>...</td>\n",
       "      <td>...</td>\n",
       "    </tr>\n",
       "    <tr>\n",
       "      <th>2288</th>\n",
       "      <td>1498</td>\n",
       "      <td>12.0</td>\n",
       "      <td>surf</td>\n",
       "      <td>8.692308</td>\n",
       "      <td>23137.69</td>\n",
       "      <td>0.0</td>\n",
       "      <td>339.0</td>\n",
       "      <td>23.0</td>\n",
       "      <td>-50.0</td>\n",
       "    </tr>\n",
       "    <tr>\n",
       "      <th>2289</th>\n",
       "      <td>1499</td>\n",
       "      <td>9.0</td>\n",
       "      <td>surf</td>\n",
       "      <td>8.439024</td>\n",
       "      <td>12984.76</td>\n",
       "      <td>0.0</td>\n",
       "      <td>346.0</td>\n",
       "      <td>13.0</td>\n",
       "      <td>-50.0</td>\n",
       "    </tr>\n",
       "    <tr>\n",
       "      <th>2290</th>\n",
       "      <td>1499</td>\n",
       "      <td>10.0</td>\n",
       "      <td>surf</td>\n",
       "      <td>7.264151</td>\n",
       "      <td>19492.43</td>\n",
       "      <td>0.0</td>\n",
       "      <td>385.0</td>\n",
       "      <td>20.0</td>\n",
       "      <td>-50.0</td>\n",
       "    </tr>\n",
       "    <tr>\n",
       "      <th>2291</th>\n",
       "      <td>1499</td>\n",
       "      <td>11.0</td>\n",
       "      <td>surf</td>\n",
       "      <td>6.844444</td>\n",
       "      <td>16813.83</td>\n",
       "      <td>0.0</td>\n",
       "      <td>308.0</td>\n",
       "      <td>17.0</td>\n",
       "      <td>-50.0</td>\n",
       "    </tr>\n",
       "    <tr>\n",
       "      <th>2292</th>\n",
       "      <td>1499</td>\n",
       "      <td>12.0</td>\n",
       "      <td>surf</td>\n",
       "      <td>7.630769</td>\n",
       "      <td>22059.21</td>\n",
       "      <td>0.0</td>\n",
       "      <td>496.0</td>\n",
       "      <td>22.0</td>\n",
       "      <td>-50.0</td>\n",
       "    </tr>\n",
       "  </tbody>\n",
       "</table>\n",
       "<p>1573 rows × 9 columns</p>\n",
       "</div>"
      ],
      "text/plain": [
       "      user_id  month  plan  avg_call_duration  data_usage_mb  message_count  \\\n",
       "1        1001    8.0  surf           6.740741        6919.15           30.0   \n",
       "2        1001    9.0  surf           6.428571       13314.82           44.0   \n",
       "3        1001   10.0  surf           6.046154       22330.49           53.0   \n",
       "4        1001   11.0  surf           6.656250       18504.30           36.0   \n",
       "5        1001   12.0  surf           7.357143       19369.18           44.0   \n",
       "...       ...    ...   ...                ...            ...            ...   \n",
       "2288     1498   12.0  surf           8.692308       23137.69            0.0   \n",
       "2289     1499    9.0  surf           8.439024       12984.76            0.0   \n",
       "2290     1499   10.0  surf           7.264151       19492.43            0.0   \n",
       "2291     1499   11.0  surf           6.844444       16813.83            0.0   \n",
       "2292     1499   12.0  surf           7.630769       22059.21            0.0   \n",
       "\n",
       "      total_minutes  data_usage_gb  message_cost  \n",
       "1             182.0            7.0         -20.0  \n",
       "2             315.0           14.0          -6.0  \n",
       "3             393.0           22.0           3.0  \n",
       "4             426.0           19.0         -14.0  \n",
       "5             412.0           19.0          -6.0  \n",
       "...             ...            ...           ...  \n",
       "2288          339.0           23.0         -50.0  \n",
       "2289          346.0           13.0         -50.0  \n",
       "2290          385.0           20.0         -50.0  \n",
       "2291          308.0           17.0         -50.0  \n",
       "2292          496.0           22.0         -50.0  \n",
       "\n",
       "[1573 rows x 9 columns]"
      ]
     },
     "execution_count": 43,
     "metadata": {},
     "output_type": "execute_result"
    }
   ],
   "source": [
    "surf_table= surf_table.eval(\"message_cost = message_count - 50\")\n",
    "surf_table"
   ]
  },
  {
   "cell_type": "code",
   "execution_count": 44,
   "metadata": {},
   "outputs": [
    {
     "data": {
      "text/html": [
       "<div>\n",
       "<style scoped>\n",
       "    .dataframe tbody tr th:only-of-type {\n",
       "        vertical-align: middle;\n",
       "    }\n",
       "\n",
       "    .dataframe tbody tr th {\n",
       "        vertical-align: top;\n",
       "    }\n",
       "\n",
       "    .dataframe thead th {\n",
       "        text-align: right;\n",
       "    }\n",
       "</style>\n",
       "<table border=\"1\" class=\"dataframe\">\n",
       "  <thead>\n",
       "    <tr style=\"text-align: right;\">\n",
       "      <th></th>\n",
       "      <th>user_id</th>\n",
       "      <th>month</th>\n",
       "      <th>plan</th>\n",
       "      <th>avg_call_duration</th>\n",
       "      <th>data_usage_mb</th>\n",
       "      <th>message_count</th>\n",
       "      <th>total_minutes</th>\n",
       "      <th>data_usage_gb</th>\n",
       "      <th>message_cost</th>\n",
       "      <th>data_cost</th>\n",
       "    </tr>\n",
       "  </thead>\n",
       "  <tbody>\n",
       "    <tr>\n",
       "      <th>1</th>\n",
       "      <td>1001</td>\n",
       "      <td>8.0</td>\n",
       "      <td>surf</td>\n",
       "      <td>6.740741</td>\n",
       "      <td>6919.15</td>\n",
       "      <td>30.0</td>\n",
       "      <td>182.0</td>\n",
       "      <td>7.0</td>\n",
       "      <td>-20.0</td>\n",
       "      <td>-8.0</td>\n",
       "    </tr>\n",
       "    <tr>\n",
       "      <th>2</th>\n",
       "      <td>1001</td>\n",
       "      <td>9.0</td>\n",
       "      <td>surf</td>\n",
       "      <td>6.428571</td>\n",
       "      <td>13314.82</td>\n",
       "      <td>44.0</td>\n",
       "      <td>315.0</td>\n",
       "      <td>14.0</td>\n",
       "      <td>-6.0</td>\n",
       "      <td>-1.0</td>\n",
       "    </tr>\n",
       "    <tr>\n",
       "      <th>3</th>\n",
       "      <td>1001</td>\n",
       "      <td>10.0</td>\n",
       "      <td>surf</td>\n",
       "      <td>6.046154</td>\n",
       "      <td>22330.49</td>\n",
       "      <td>53.0</td>\n",
       "      <td>393.0</td>\n",
       "      <td>22.0</td>\n",
       "      <td>3.0</td>\n",
       "      <td>7.0</td>\n",
       "    </tr>\n",
       "    <tr>\n",
       "      <th>4</th>\n",
       "      <td>1001</td>\n",
       "      <td>11.0</td>\n",
       "      <td>surf</td>\n",
       "      <td>6.656250</td>\n",
       "      <td>18504.30</td>\n",
       "      <td>36.0</td>\n",
       "      <td>426.0</td>\n",
       "      <td>19.0</td>\n",
       "      <td>-14.0</td>\n",
       "      <td>4.0</td>\n",
       "    </tr>\n",
       "    <tr>\n",
       "      <th>5</th>\n",
       "      <td>1001</td>\n",
       "      <td>12.0</td>\n",
       "      <td>surf</td>\n",
       "      <td>7.357143</td>\n",
       "      <td>19369.18</td>\n",
       "      <td>44.0</td>\n",
       "      <td>412.0</td>\n",
       "      <td>19.0</td>\n",
       "      <td>-6.0</td>\n",
       "      <td>4.0</td>\n",
       "    </tr>\n",
       "    <tr>\n",
       "      <th>...</th>\n",
       "      <td>...</td>\n",
       "      <td>...</td>\n",
       "      <td>...</td>\n",
       "      <td>...</td>\n",
       "      <td>...</td>\n",
       "      <td>...</td>\n",
       "      <td>...</td>\n",
       "      <td>...</td>\n",
       "      <td>...</td>\n",
       "      <td>...</td>\n",
       "    </tr>\n",
       "    <tr>\n",
       "      <th>2288</th>\n",
       "      <td>1498</td>\n",
       "      <td>12.0</td>\n",
       "      <td>surf</td>\n",
       "      <td>8.692308</td>\n",
       "      <td>23137.69</td>\n",
       "      <td>0.0</td>\n",
       "      <td>339.0</td>\n",
       "      <td>23.0</td>\n",
       "      <td>-50.0</td>\n",
       "      <td>8.0</td>\n",
       "    </tr>\n",
       "    <tr>\n",
       "      <th>2289</th>\n",
       "      <td>1499</td>\n",
       "      <td>9.0</td>\n",
       "      <td>surf</td>\n",
       "      <td>8.439024</td>\n",
       "      <td>12984.76</td>\n",
       "      <td>0.0</td>\n",
       "      <td>346.0</td>\n",
       "      <td>13.0</td>\n",
       "      <td>-50.0</td>\n",
       "      <td>-2.0</td>\n",
       "    </tr>\n",
       "    <tr>\n",
       "      <th>2290</th>\n",
       "      <td>1499</td>\n",
       "      <td>10.0</td>\n",
       "      <td>surf</td>\n",
       "      <td>7.264151</td>\n",
       "      <td>19492.43</td>\n",
       "      <td>0.0</td>\n",
       "      <td>385.0</td>\n",
       "      <td>20.0</td>\n",
       "      <td>-50.0</td>\n",
       "      <td>5.0</td>\n",
       "    </tr>\n",
       "    <tr>\n",
       "      <th>2291</th>\n",
       "      <td>1499</td>\n",
       "      <td>11.0</td>\n",
       "      <td>surf</td>\n",
       "      <td>6.844444</td>\n",
       "      <td>16813.83</td>\n",
       "      <td>0.0</td>\n",
       "      <td>308.0</td>\n",
       "      <td>17.0</td>\n",
       "      <td>-50.0</td>\n",
       "      <td>2.0</td>\n",
       "    </tr>\n",
       "    <tr>\n",
       "      <th>2292</th>\n",
       "      <td>1499</td>\n",
       "      <td>12.0</td>\n",
       "      <td>surf</td>\n",
       "      <td>7.630769</td>\n",
       "      <td>22059.21</td>\n",
       "      <td>0.0</td>\n",
       "      <td>496.0</td>\n",
       "      <td>22.0</td>\n",
       "      <td>-50.0</td>\n",
       "      <td>7.0</td>\n",
       "    </tr>\n",
       "  </tbody>\n",
       "</table>\n",
       "<p>1573 rows × 10 columns</p>\n",
       "</div>"
      ],
      "text/plain": [
       "      user_id  month  plan  avg_call_duration  data_usage_mb  message_count  \\\n",
       "1        1001    8.0  surf           6.740741        6919.15           30.0   \n",
       "2        1001    9.0  surf           6.428571       13314.82           44.0   \n",
       "3        1001   10.0  surf           6.046154       22330.49           53.0   \n",
       "4        1001   11.0  surf           6.656250       18504.30           36.0   \n",
       "5        1001   12.0  surf           7.357143       19369.18           44.0   \n",
       "...       ...    ...   ...                ...            ...            ...   \n",
       "2288     1498   12.0  surf           8.692308       23137.69            0.0   \n",
       "2289     1499    9.0  surf           8.439024       12984.76            0.0   \n",
       "2290     1499   10.0  surf           7.264151       19492.43            0.0   \n",
       "2291     1499   11.0  surf           6.844444       16813.83            0.0   \n",
       "2292     1499   12.0  surf           7.630769       22059.21            0.0   \n",
       "\n",
       "      total_minutes  data_usage_gb  message_cost  data_cost  \n",
       "1             182.0            7.0         -20.0       -8.0  \n",
       "2             315.0           14.0          -6.0       -1.0  \n",
       "3             393.0           22.0           3.0        7.0  \n",
       "4             426.0           19.0         -14.0        4.0  \n",
       "5             412.0           19.0          -6.0        4.0  \n",
       "...             ...            ...           ...        ...  \n",
       "2288          339.0           23.0         -50.0        8.0  \n",
       "2289          346.0           13.0         -50.0       -2.0  \n",
       "2290          385.0           20.0         -50.0        5.0  \n",
       "2291          308.0           17.0         -50.0        2.0  \n",
       "2292          496.0           22.0         -50.0        7.0  \n",
       "\n",
       "[1573 rows x 10 columns]"
      ]
     },
     "execution_count": 44,
     "metadata": {},
     "output_type": "execute_result"
    }
   ],
   "source": [
    "surf_table= surf_table.eval('data_cost = data_usage_mb - 15360')\n",
    "surf_table= surf_table.eval('data_cost = data_cost/1024')\n",
    "surf_table['data_cost']=np.ceil(surf_table['data_cost'])\n",
    "surf_table\n",
    "                            "
   ]
  },
  {
   "cell_type": "code",
   "execution_count": 45,
   "metadata": {},
   "outputs": [
    {
     "data": {
      "text/html": [
       "<div>\n",
       "<style scoped>\n",
       "    .dataframe tbody tr th:only-of-type {\n",
       "        vertical-align: middle;\n",
       "    }\n",
       "\n",
       "    .dataframe tbody tr th {\n",
       "        vertical-align: top;\n",
       "    }\n",
       "\n",
       "    .dataframe thead th {\n",
       "        text-align: right;\n",
       "    }\n",
       "</style>\n",
       "<table border=\"1\" class=\"dataframe\">\n",
       "  <thead>\n",
       "    <tr style=\"text-align: right;\">\n",
       "      <th></th>\n",
       "      <th>user_id</th>\n",
       "      <th>month</th>\n",
       "      <th>plan</th>\n",
       "      <th>avg_call_duration</th>\n",
       "      <th>data_usage_mb</th>\n",
       "      <th>message_count</th>\n",
       "      <th>total_minutes</th>\n",
       "      <th>data_usage_gb</th>\n",
       "      <th>message_cost</th>\n",
       "      <th>data_cost</th>\n",
       "      <th>minute_cost</th>\n",
       "    </tr>\n",
       "  </thead>\n",
       "  <tbody>\n",
       "    <tr>\n",
       "      <th>1</th>\n",
       "      <td>1001</td>\n",
       "      <td>8.0</td>\n",
       "      <td>surf</td>\n",
       "      <td>6.740741</td>\n",
       "      <td>6919.15</td>\n",
       "      <td>30.0</td>\n",
       "      <td>182.0</td>\n",
       "      <td>7.0</td>\n",
       "      <td>-20.0</td>\n",
       "      <td>-8.0</td>\n",
       "      <td>-318.0</td>\n",
       "    </tr>\n",
       "    <tr>\n",
       "      <th>2</th>\n",
       "      <td>1001</td>\n",
       "      <td>9.0</td>\n",
       "      <td>surf</td>\n",
       "      <td>6.428571</td>\n",
       "      <td>13314.82</td>\n",
       "      <td>44.0</td>\n",
       "      <td>315.0</td>\n",
       "      <td>14.0</td>\n",
       "      <td>-6.0</td>\n",
       "      <td>-1.0</td>\n",
       "      <td>-185.0</td>\n",
       "    </tr>\n",
       "    <tr>\n",
       "      <th>3</th>\n",
       "      <td>1001</td>\n",
       "      <td>10.0</td>\n",
       "      <td>surf</td>\n",
       "      <td>6.046154</td>\n",
       "      <td>22330.49</td>\n",
       "      <td>53.0</td>\n",
       "      <td>393.0</td>\n",
       "      <td>22.0</td>\n",
       "      <td>3.0</td>\n",
       "      <td>7.0</td>\n",
       "      <td>-107.0</td>\n",
       "    </tr>\n",
       "    <tr>\n",
       "      <th>4</th>\n",
       "      <td>1001</td>\n",
       "      <td>11.0</td>\n",
       "      <td>surf</td>\n",
       "      <td>6.656250</td>\n",
       "      <td>18504.30</td>\n",
       "      <td>36.0</td>\n",
       "      <td>426.0</td>\n",
       "      <td>19.0</td>\n",
       "      <td>-14.0</td>\n",
       "      <td>4.0</td>\n",
       "      <td>-74.0</td>\n",
       "    </tr>\n",
       "    <tr>\n",
       "      <th>5</th>\n",
       "      <td>1001</td>\n",
       "      <td>12.0</td>\n",
       "      <td>surf</td>\n",
       "      <td>7.357143</td>\n",
       "      <td>19369.18</td>\n",
       "      <td>44.0</td>\n",
       "      <td>412.0</td>\n",
       "      <td>19.0</td>\n",
       "      <td>-6.0</td>\n",
       "      <td>4.0</td>\n",
       "      <td>-88.0</td>\n",
       "    </tr>\n",
       "  </tbody>\n",
       "</table>\n",
       "</div>"
      ],
      "text/plain": [
       "   user_id  month  plan  avg_call_duration  data_usage_mb  message_count  \\\n",
       "1     1001    8.0  surf           6.740741        6919.15           30.0   \n",
       "2     1001    9.0  surf           6.428571       13314.82           44.0   \n",
       "3     1001   10.0  surf           6.046154       22330.49           53.0   \n",
       "4     1001   11.0  surf           6.656250       18504.30           36.0   \n",
       "5     1001   12.0  surf           7.357143       19369.18           44.0   \n",
       "\n",
       "   total_minutes  data_usage_gb  message_cost  data_cost  minute_cost  \n",
       "1          182.0            7.0         -20.0       -8.0       -318.0  \n",
       "2          315.0           14.0          -6.0       -1.0       -185.0  \n",
       "3          393.0           22.0           3.0        7.0       -107.0  \n",
       "4          426.0           19.0         -14.0        4.0        -74.0  \n",
       "5          412.0           19.0          -6.0        4.0        -88.0  "
      ]
     },
     "execution_count": 45,
     "metadata": {},
     "output_type": "execute_result"
    }
   ],
   "source": [
    "surf_table= surf_table.eval('minute_cost = total_minutes-500')\n",
    "surf_table.head()"
   ]
  },
  {
   "cell_type": "code",
   "execution_count": 46,
   "metadata": {},
   "outputs": [
    {
     "data": {
      "text/html": [
       "<div>\n",
       "<style scoped>\n",
       "    .dataframe tbody tr th:only-of-type {\n",
       "        vertical-align: middle;\n",
       "    }\n",
       "\n",
       "    .dataframe tbody tr th {\n",
       "        vertical-align: top;\n",
       "    }\n",
       "\n",
       "    .dataframe thead th {\n",
       "        text-align: right;\n",
       "    }\n",
       "</style>\n",
       "<table border=\"1\" class=\"dataframe\">\n",
       "  <thead>\n",
       "    <tr style=\"text-align: right;\">\n",
       "      <th></th>\n",
       "      <th>user_id</th>\n",
       "      <th>month</th>\n",
       "      <th>plan</th>\n",
       "      <th>avg_call_duration</th>\n",
       "      <th>data_usage_mb</th>\n",
       "      <th>message_count</th>\n",
       "      <th>total_minutes</th>\n",
       "      <th>data_usage_gb</th>\n",
       "      <th>message_cost</th>\n",
       "      <th>data_cost</th>\n",
       "      <th>minute_cost</th>\n",
       "    </tr>\n",
       "  </thead>\n",
       "  <tbody>\n",
       "    <tr>\n",
       "      <th>1</th>\n",
       "      <td>1001</td>\n",
       "      <td>8.0</td>\n",
       "      <td>surf</td>\n",
       "      <td>6.740741</td>\n",
       "      <td>6919.15</td>\n",
       "      <td>30.0</td>\n",
       "      <td>182.0</td>\n",
       "      <td>7.0</td>\n",
       "      <td>0.0</td>\n",
       "      <td>0.0</td>\n",
       "      <td>0.0</td>\n",
       "    </tr>\n",
       "    <tr>\n",
       "      <th>2</th>\n",
       "      <td>1001</td>\n",
       "      <td>9.0</td>\n",
       "      <td>surf</td>\n",
       "      <td>6.428571</td>\n",
       "      <td>13314.82</td>\n",
       "      <td>44.0</td>\n",
       "      <td>315.0</td>\n",
       "      <td>14.0</td>\n",
       "      <td>0.0</td>\n",
       "      <td>0.0</td>\n",
       "      <td>0.0</td>\n",
       "    </tr>\n",
       "    <tr>\n",
       "      <th>3</th>\n",
       "      <td>1001</td>\n",
       "      <td>10.0</td>\n",
       "      <td>surf</td>\n",
       "      <td>6.046154</td>\n",
       "      <td>22330.49</td>\n",
       "      <td>53.0</td>\n",
       "      <td>393.0</td>\n",
       "      <td>22.0</td>\n",
       "      <td>3.0</td>\n",
       "      <td>7.0</td>\n",
       "      <td>0.0</td>\n",
       "    </tr>\n",
       "    <tr>\n",
       "      <th>4</th>\n",
       "      <td>1001</td>\n",
       "      <td>11.0</td>\n",
       "      <td>surf</td>\n",
       "      <td>6.656250</td>\n",
       "      <td>18504.30</td>\n",
       "      <td>36.0</td>\n",
       "      <td>426.0</td>\n",
       "      <td>19.0</td>\n",
       "      <td>0.0</td>\n",
       "      <td>4.0</td>\n",
       "      <td>0.0</td>\n",
       "    </tr>\n",
       "    <tr>\n",
       "      <th>5</th>\n",
       "      <td>1001</td>\n",
       "      <td>12.0</td>\n",
       "      <td>surf</td>\n",
       "      <td>7.357143</td>\n",
       "      <td>19369.18</td>\n",
       "      <td>44.0</td>\n",
       "      <td>412.0</td>\n",
       "      <td>19.0</td>\n",
       "      <td>0.0</td>\n",
       "      <td>4.0</td>\n",
       "      <td>0.0</td>\n",
       "    </tr>\n",
       "    <tr>\n",
       "      <th>...</th>\n",
       "      <td>...</td>\n",
       "      <td>...</td>\n",
       "      <td>...</td>\n",
       "      <td>...</td>\n",
       "      <td>...</td>\n",
       "      <td>...</td>\n",
       "      <td>...</td>\n",
       "      <td>...</td>\n",
       "      <td>...</td>\n",
       "      <td>...</td>\n",
       "      <td>...</td>\n",
       "    </tr>\n",
       "    <tr>\n",
       "      <th>2288</th>\n",
       "      <td>1498</td>\n",
       "      <td>12.0</td>\n",
       "      <td>surf</td>\n",
       "      <td>8.692308</td>\n",
       "      <td>23137.69</td>\n",
       "      <td>0.0</td>\n",
       "      <td>339.0</td>\n",
       "      <td>23.0</td>\n",
       "      <td>0.0</td>\n",
       "      <td>8.0</td>\n",
       "      <td>0.0</td>\n",
       "    </tr>\n",
       "    <tr>\n",
       "      <th>2289</th>\n",
       "      <td>1499</td>\n",
       "      <td>9.0</td>\n",
       "      <td>surf</td>\n",
       "      <td>8.439024</td>\n",
       "      <td>12984.76</td>\n",
       "      <td>0.0</td>\n",
       "      <td>346.0</td>\n",
       "      <td>13.0</td>\n",
       "      <td>0.0</td>\n",
       "      <td>0.0</td>\n",
       "      <td>0.0</td>\n",
       "    </tr>\n",
       "    <tr>\n",
       "      <th>2290</th>\n",
       "      <td>1499</td>\n",
       "      <td>10.0</td>\n",
       "      <td>surf</td>\n",
       "      <td>7.264151</td>\n",
       "      <td>19492.43</td>\n",
       "      <td>0.0</td>\n",
       "      <td>385.0</td>\n",
       "      <td>20.0</td>\n",
       "      <td>0.0</td>\n",
       "      <td>5.0</td>\n",
       "      <td>0.0</td>\n",
       "    </tr>\n",
       "    <tr>\n",
       "      <th>2291</th>\n",
       "      <td>1499</td>\n",
       "      <td>11.0</td>\n",
       "      <td>surf</td>\n",
       "      <td>6.844444</td>\n",
       "      <td>16813.83</td>\n",
       "      <td>0.0</td>\n",
       "      <td>308.0</td>\n",
       "      <td>17.0</td>\n",
       "      <td>0.0</td>\n",
       "      <td>2.0</td>\n",
       "      <td>0.0</td>\n",
       "    </tr>\n",
       "    <tr>\n",
       "      <th>2292</th>\n",
       "      <td>1499</td>\n",
       "      <td>12.0</td>\n",
       "      <td>surf</td>\n",
       "      <td>7.630769</td>\n",
       "      <td>22059.21</td>\n",
       "      <td>0.0</td>\n",
       "      <td>496.0</td>\n",
       "      <td>22.0</td>\n",
       "      <td>0.0</td>\n",
       "      <td>7.0</td>\n",
       "      <td>0.0</td>\n",
       "    </tr>\n",
       "  </tbody>\n",
       "</table>\n",
       "<p>1573 rows × 11 columns</p>\n",
       "</div>"
      ],
      "text/plain": [
       "      user_id  month  plan  avg_call_duration  data_usage_mb  message_count  \\\n",
       "1        1001    8.0  surf           6.740741        6919.15           30.0   \n",
       "2        1001    9.0  surf           6.428571       13314.82           44.0   \n",
       "3        1001   10.0  surf           6.046154       22330.49           53.0   \n",
       "4        1001   11.0  surf           6.656250       18504.30           36.0   \n",
       "5        1001   12.0  surf           7.357143       19369.18           44.0   \n",
       "...       ...    ...   ...                ...            ...            ...   \n",
       "2288     1498   12.0  surf           8.692308       23137.69            0.0   \n",
       "2289     1499    9.0  surf           8.439024       12984.76            0.0   \n",
       "2290     1499   10.0  surf           7.264151       19492.43            0.0   \n",
       "2291     1499   11.0  surf           6.844444       16813.83            0.0   \n",
       "2292     1499   12.0  surf           7.630769       22059.21            0.0   \n",
       "\n",
       "      total_minutes  data_usage_gb  message_cost  data_cost  minute_cost  \n",
       "1             182.0            7.0           0.0        0.0          0.0  \n",
       "2             315.0           14.0           0.0        0.0          0.0  \n",
       "3             393.0           22.0           3.0        7.0          0.0  \n",
       "4             426.0           19.0           0.0        4.0          0.0  \n",
       "5             412.0           19.0           0.0        4.0          0.0  \n",
       "...             ...            ...           ...        ...          ...  \n",
       "2288          339.0           23.0           0.0        8.0          0.0  \n",
       "2289          346.0           13.0           0.0        0.0          0.0  \n",
       "2290          385.0           20.0           0.0        5.0          0.0  \n",
       "2291          308.0           17.0           0.0        2.0          0.0  \n",
       "2292          496.0           22.0           0.0        7.0          0.0  \n",
       "\n",
       "[1573 rows x 11 columns]"
      ]
     },
     "execution_count": 46,
     "metadata": {},
     "output_type": "execute_result"
    }
   ],
   "source": [
    "surf_table['message_cost']=surf_table['message_cost'].clip(lower=0)\n",
    "surf_table['data_cost']=surf_table['data_cost'].clip(lower=0)\n",
    "surf_table['minute_cost']=surf_table['minute_cost'].clip(lower=0)\n",
    "surf_table"
   ]
  },
  {
   "cell_type": "code",
   "execution_count": 47,
   "metadata": {},
   "outputs": [
    {
     "data": {
      "text/html": [
       "<div>\n",
       "<style scoped>\n",
       "    .dataframe tbody tr th:only-of-type {\n",
       "        vertical-align: middle;\n",
       "    }\n",
       "\n",
       "    .dataframe tbody tr th {\n",
       "        vertical-align: top;\n",
       "    }\n",
       "\n",
       "    .dataframe thead th {\n",
       "        text-align: right;\n",
       "    }\n",
       "</style>\n",
       "<table border=\"1\" class=\"dataframe\">\n",
       "  <thead>\n",
       "    <tr style=\"text-align: right;\">\n",
       "      <th></th>\n",
       "      <th>user_id</th>\n",
       "      <th>month</th>\n",
       "      <th>plan</th>\n",
       "      <th>avg_call_duration</th>\n",
       "      <th>data_usage_mb</th>\n",
       "      <th>message_count</th>\n",
       "      <th>total_minutes</th>\n",
       "      <th>data_usage_gb</th>\n",
       "      <th>message_cost</th>\n",
       "      <th>data_cost</th>\n",
       "      <th>minute_cost</th>\n",
       "      <th>plan_cost</th>\n",
       "    </tr>\n",
       "  </thead>\n",
       "  <tbody>\n",
       "    <tr>\n",
       "      <th>1</th>\n",
       "      <td>1001</td>\n",
       "      <td>8.0</td>\n",
       "      <td>surf</td>\n",
       "      <td>6.740741</td>\n",
       "      <td>6919.15</td>\n",
       "      <td>30.0</td>\n",
       "      <td>182.0</td>\n",
       "      <td>7.0</td>\n",
       "      <td>0.00</td>\n",
       "      <td>0.0</td>\n",
       "      <td>0.0</td>\n",
       "      <td>20</td>\n",
       "    </tr>\n",
       "    <tr>\n",
       "      <th>2</th>\n",
       "      <td>1001</td>\n",
       "      <td>9.0</td>\n",
       "      <td>surf</td>\n",
       "      <td>6.428571</td>\n",
       "      <td>13314.82</td>\n",
       "      <td>44.0</td>\n",
       "      <td>315.0</td>\n",
       "      <td>14.0</td>\n",
       "      <td>0.00</td>\n",
       "      <td>0.0</td>\n",
       "      <td>0.0</td>\n",
       "      <td>20</td>\n",
       "    </tr>\n",
       "    <tr>\n",
       "      <th>3</th>\n",
       "      <td>1001</td>\n",
       "      <td>10.0</td>\n",
       "      <td>surf</td>\n",
       "      <td>6.046154</td>\n",
       "      <td>22330.49</td>\n",
       "      <td>53.0</td>\n",
       "      <td>393.0</td>\n",
       "      <td>22.0</td>\n",
       "      <td>0.09</td>\n",
       "      <td>70.0</td>\n",
       "      <td>0.0</td>\n",
       "      <td>20</td>\n",
       "    </tr>\n",
       "    <tr>\n",
       "      <th>4</th>\n",
       "      <td>1001</td>\n",
       "      <td>11.0</td>\n",
       "      <td>surf</td>\n",
       "      <td>6.656250</td>\n",
       "      <td>18504.30</td>\n",
       "      <td>36.0</td>\n",
       "      <td>426.0</td>\n",
       "      <td>19.0</td>\n",
       "      <td>0.00</td>\n",
       "      <td>40.0</td>\n",
       "      <td>0.0</td>\n",
       "      <td>20</td>\n",
       "    </tr>\n",
       "    <tr>\n",
       "      <th>5</th>\n",
       "      <td>1001</td>\n",
       "      <td>12.0</td>\n",
       "      <td>surf</td>\n",
       "      <td>7.357143</td>\n",
       "      <td>19369.18</td>\n",
       "      <td>44.0</td>\n",
       "      <td>412.0</td>\n",
       "      <td>19.0</td>\n",
       "      <td>0.00</td>\n",
       "      <td>40.0</td>\n",
       "      <td>0.0</td>\n",
       "      <td>20</td>\n",
       "    </tr>\n",
       "    <tr>\n",
       "      <th>...</th>\n",
       "      <td>...</td>\n",
       "      <td>...</td>\n",
       "      <td>...</td>\n",
       "      <td>...</td>\n",
       "      <td>...</td>\n",
       "      <td>...</td>\n",
       "      <td>...</td>\n",
       "      <td>...</td>\n",
       "      <td>...</td>\n",
       "      <td>...</td>\n",
       "      <td>...</td>\n",
       "      <td>...</td>\n",
       "    </tr>\n",
       "    <tr>\n",
       "      <th>2288</th>\n",
       "      <td>1498</td>\n",
       "      <td>12.0</td>\n",
       "      <td>surf</td>\n",
       "      <td>8.692308</td>\n",
       "      <td>23137.69</td>\n",
       "      <td>0.0</td>\n",
       "      <td>339.0</td>\n",
       "      <td>23.0</td>\n",
       "      <td>0.00</td>\n",
       "      <td>80.0</td>\n",
       "      <td>0.0</td>\n",
       "      <td>20</td>\n",
       "    </tr>\n",
       "    <tr>\n",
       "      <th>2289</th>\n",
       "      <td>1499</td>\n",
       "      <td>9.0</td>\n",
       "      <td>surf</td>\n",
       "      <td>8.439024</td>\n",
       "      <td>12984.76</td>\n",
       "      <td>0.0</td>\n",
       "      <td>346.0</td>\n",
       "      <td>13.0</td>\n",
       "      <td>0.00</td>\n",
       "      <td>0.0</td>\n",
       "      <td>0.0</td>\n",
       "      <td>20</td>\n",
       "    </tr>\n",
       "    <tr>\n",
       "      <th>2290</th>\n",
       "      <td>1499</td>\n",
       "      <td>10.0</td>\n",
       "      <td>surf</td>\n",
       "      <td>7.264151</td>\n",
       "      <td>19492.43</td>\n",
       "      <td>0.0</td>\n",
       "      <td>385.0</td>\n",
       "      <td>20.0</td>\n",
       "      <td>0.00</td>\n",
       "      <td>50.0</td>\n",
       "      <td>0.0</td>\n",
       "      <td>20</td>\n",
       "    </tr>\n",
       "    <tr>\n",
       "      <th>2291</th>\n",
       "      <td>1499</td>\n",
       "      <td>11.0</td>\n",
       "      <td>surf</td>\n",
       "      <td>6.844444</td>\n",
       "      <td>16813.83</td>\n",
       "      <td>0.0</td>\n",
       "      <td>308.0</td>\n",
       "      <td>17.0</td>\n",
       "      <td>0.00</td>\n",
       "      <td>20.0</td>\n",
       "      <td>0.0</td>\n",
       "      <td>20</td>\n",
       "    </tr>\n",
       "    <tr>\n",
       "      <th>2292</th>\n",
       "      <td>1499</td>\n",
       "      <td>12.0</td>\n",
       "      <td>surf</td>\n",
       "      <td>7.630769</td>\n",
       "      <td>22059.21</td>\n",
       "      <td>0.0</td>\n",
       "      <td>496.0</td>\n",
       "      <td>22.0</td>\n",
       "      <td>0.00</td>\n",
       "      <td>70.0</td>\n",
       "      <td>0.0</td>\n",
       "      <td>20</td>\n",
       "    </tr>\n",
       "  </tbody>\n",
       "</table>\n",
       "<p>1573 rows × 12 columns</p>\n",
       "</div>"
      ],
      "text/plain": [
       "      user_id  month  plan  avg_call_duration  data_usage_mb  message_count  \\\n",
       "1        1001    8.0  surf           6.740741        6919.15           30.0   \n",
       "2        1001    9.0  surf           6.428571       13314.82           44.0   \n",
       "3        1001   10.0  surf           6.046154       22330.49           53.0   \n",
       "4        1001   11.0  surf           6.656250       18504.30           36.0   \n",
       "5        1001   12.0  surf           7.357143       19369.18           44.0   \n",
       "...       ...    ...   ...                ...            ...            ...   \n",
       "2288     1498   12.0  surf           8.692308       23137.69            0.0   \n",
       "2289     1499    9.0  surf           8.439024       12984.76            0.0   \n",
       "2290     1499   10.0  surf           7.264151       19492.43            0.0   \n",
       "2291     1499   11.0  surf           6.844444       16813.83            0.0   \n",
       "2292     1499   12.0  surf           7.630769       22059.21            0.0   \n",
       "\n",
       "      total_minutes  data_usage_gb  message_cost  data_cost  minute_cost  \\\n",
       "1             182.0            7.0          0.00        0.0          0.0   \n",
       "2             315.0           14.0          0.00        0.0          0.0   \n",
       "3             393.0           22.0          0.09       70.0          0.0   \n",
       "4             426.0           19.0          0.00       40.0          0.0   \n",
       "5             412.0           19.0          0.00       40.0          0.0   \n",
       "...             ...            ...           ...        ...          ...   \n",
       "2288          339.0           23.0          0.00       80.0          0.0   \n",
       "2289          346.0           13.0          0.00        0.0          0.0   \n",
       "2290          385.0           20.0          0.00       50.0          0.0   \n",
       "2291          308.0           17.0          0.00       20.0          0.0   \n",
       "2292          496.0           22.0          0.00       70.0          0.0   \n",
       "\n",
       "      plan_cost  \n",
       "1            20  \n",
       "2            20  \n",
       "3            20  \n",
       "4            20  \n",
       "5            20  \n",
       "...         ...  \n",
       "2288         20  \n",
       "2289         20  \n",
       "2290         20  \n",
       "2291         20  \n",
       "2292         20  \n",
       "\n",
       "[1573 rows x 12 columns]"
      ]
     },
     "execution_count": 47,
     "metadata": {},
     "output_type": "execute_result"
    }
   ],
   "source": [
    "surf_table=surf_table.eval('minute_cost = minute_cost*0.03')\n",
    "surf_table=surf_table.eval('message_cost = message_cost*0.03')\n",
    "surf_table=surf_table.eval('data_cost = data_cost*10')\n",
    "surf_table=surf_table.eval('plan_cost = 20')\n",
    "surf_table"
   ]
  },
  {
   "cell_type": "code",
   "execution_count": 48,
   "metadata": {},
   "outputs": [
    {
     "data": {
      "text/html": [
       "<div>\n",
       "<style scoped>\n",
       "    .dataframe tbody tr th:only-of-type {\n",
       "        vertical-align: middle;\n",
       "    }\n",
       "\n",
       "    .dataframe tbody tr th {\n",
       "        vertical-align: top;\n",
       "    }\n",
       "\n",
       "    .dataframe thead th {\n",
       "        text-align: right;\n",
       "    }\n",
       "</style>\n",
       "<table border=\"1\" class=\"dataframe\">\n",
       "  <thead>\n",
       "    <tr style=\"text-align: right;\">\n",
       "      <th></th>\n",
       "      <th>user_id</th>\n",
       "      <th>month</th>\n",
       "      <th>plan</th>\n",
       "      <th>avg_call_duration</th>\n",
       "      <th>data_usage_mb</th>\n",
       "      <th>message_count</th>\n",
       "      <th>total_minutes</th>\n",
       "      <th>data_usage_gb</th>\n",
       "      <th>message_cost</th>\n",
       "      <th>data_cost</th>\n",
       "      <th>minute_cost</th>\n",
       "      <th>plan_cost</th>\n",
       "      <th>total_cost</th>\n",
       "    </tr>\n",
       "  </thead>\n",
       "  <tbody>\n",
       "    <tr>\n",
       "      <th>1676</th>\n",
       "      <td>1362</td>\n",
       "      <td>1.0</td>\n",
       "      <td>surf</td>\n",
       "      <td>6.952381</td>\n",
       "      <td>7894.79</td>\n",
       "      <td>21.0</td>\n",
       "      <td>292.0</td>\n",
       "      <td>8.0</td>\n",
       "      <td>0.00</td>\n",
       "      <td>0.0</td>\n",
       "      <td>0.00</td>\n",
       "      <td>20</td>\n",
       "      <td>20.00</td>\n",
       "    </tr>\n",
       "    <tr>\n",
       "      <th>156</th>\n",
       "      <td>1042</td>\n",
       "      <td>1.0</td>\n",
       "      <td>surf</td>\n",
       "      <td>6.333333</td>\n",
       "      <td>1854.93</td>\n",
       "      <td>0.0</td>\n",
       "      <td>114.0</td>\n",
       "      <td>2.0</td>\n",
       "      <td>0.00</td>\n",
       "      <td>0.0</td>\n",
       "      <td>0.00</td>\n",
       "      <td>20</td>\n",
       "      <td>20.00</td>\n",
       "    </tr>\n",
       "    <tr>\n",
       "      <th>1656</th>\n",
       "      <td>1359</td>\n",
       "      <td>2.0</td>\n",
       "      <td>surf</td>\n",
       "      <td>6.820513</td>\n",
       "      <td>20389.87</td>\n",
       "      <td>0.0</td>\n",
       "      <td>266.0</td>\n",
       "      <td>20.0</td>\n",
       "      <td>0.00</td>\n",
       "      <td>50.0</td>\n",
       "      <td>0.00</td>\n",
       "      <td>20</td>\n",
       "      <td>70.00</td>\n",
       "    </tr>\n",
       "    <tr>\n",
       "      <th>462</th>\n",
       "      <td>1099</td>\n",
       "      <td>2.0</td>\n",
       "      <td>surf</td>\n",
       "      <td>5.571429</td>\n",
       "      <td>599.78</td>\n",
       "      <td>3.0</td>\n",
       "      <td>39.0</td>\n",
       "      <td>1.0</td>\n",
       "      <td>0.00</td>\n",
       "      <td>0.0</td>\n",
       "      <td>0.00</td>\n",
       "      <td>20</td>\n",
       "      <td>20.00</td>\n",
       "    </tr>\n",
       "    <tr>\n",
       "      <th>1677</th>\n",
       "      <td>1362</td>\n",
       "      <td>2.0</td>\n",
       "      <td>surf</td>\n",
       "      <td>7.650943</td>\n",
       "      <td>10761.20</td>\n",
       "      <td>58.0</td>\n",
       "      <td>811.0</td>\n",
       "      <td>11.0</td>\n",
       "      <td>0.24</td>\n",
       "      <td>0.0</td>\n",
       "      <td>9.33</td>\n",
       "      <td>20</td>\n",
       "      <td>29.57</td>\n",
       "    </tr>\n",
       "  </tbody>\n",
       "</table>\n",
       "</div>"
      ],
      "text/plain": [
       "      user_id  month  plan  avg_call_duration  data_usage_mb  message_count  \\\n",
       "1676     1362    1.0  surf           6.952381        7894.79           21.0   \n",
       "156      1042    1.0  surf           6.333333        1854.93            0.0   \n",
       "1656     1359    2.0  surf           6.820513       20389.87            0.0   \n",
       "462      1099    2.0  surf           5.571429         599.78            3.0   \n",
       "1677     1362    2.0  surf           7.650943       10761.20           58.0   \n",
       "\n",
       "      total_minutes  data_usage_gb  message_cost  data_cost  minute_cost  \\\n",
       "1676          292.0            8.0          0.00        0.0         0.00   \n",
       "156           114.0            2.0          0.00        0.0         0.00   \n",
       "1656          266.0           20.0          0.00       50.0         0.00   \n",
       "462            39.0            1.0          0.00        0.0         0.00   \n",
       "1677          811.0           11.0          0.24        0.0         9.33   \n",
       "\n",
       "      plan_cost  total_cost  \n",
       "1676         20       20.00  \n",
       "156          20       20.00  \n",
       "1656         20       70.00  \n",
       "462          20       20.00  \n",
       "1677         20       29.57  "
      ]
     },
     "execution_count": 48,
     "metadata": {},
     "output_type": "execute_result"
    }
   ],
   "source": [
    "surf_table=surf_table.eval('total_cost= message_cost+data_cost+minute_cost+plan_cost')\n",
    "surf_table.sort_values(by='month').head()\n",
    "\n",
    "                           "
   ]
  },
  {
   "cell_type": "markdown",
   "metadata": {},
   "source": [
    "<div class=\"alert alert-success\">\n",
    "<b>Reviewer's comment v1:</b>\n",
    "    \n",
    "Everything is correct here. Additionally, it could also be nice to create a function for the revenue calculation.\n",
    "\n",
    "The great thing about python is that there are so many libraries and ready-to-use functions. For example, this task can also be solved using np.where - [https://numpy.org/doc/stable/reference/generated/numpy.where.html](https://numpy.org/doc/stable/reference/generated/numpy.where.html)\n",
    "\n",
    "```\n",
    "  np.where ('condition: if exceeding the package limit', 'multiply the difference by the price of additional services', '0')\n",
    "```"
   ]
  },
  {
   "cell_type": "markdown",
   "metadata": {},
   "source": [
    "<div class=\"alert alert-warning\">\n",
    "<b>Reviewer's comment v1:</b>\n",
    "    \n",
    "Also, it is better to avoid hard-coding in your functions of all values from the data plans. These values could be frequently updated and it will be annoyingly inconvenient to update them once again in the function. I would recommend using an actual table with values or create a separate data dictionary - https://towardsdatascience.com/12-examples-to-master-python-dictionaries-5a8bcd688c6d"
   ]
  },
  {
   "cell_type": "markdown",
   "metadata": {},
   "source": [
    "## Study user behaviour"
   ]
  },
  {
   "cell_type": "markdown",
   "metadata": {},
   "source": [
    "I am going to continue by calculating some useful descriptive statistics for the aggregated and merged data, on a per plan basis, which will reveal an overall picture captured by the data and aid in comparing the plans. "
   ]
  },
  {
   "cell_type": "markdown",
   "metadata": {},
   "source": [
    "### Calls"
   ]
  },
  {
   "cell_type": "code",
   "execution_count": 49,
   "metadata": {},
   "outputs": [
    {
     "data": {
      "text/html": [
       "<div>\n",
       "<style scoped>\n",
       "    .dataframe tbody tr th:only-of-type {\n",
       "        vertical-align: middle;\n",
       "    }\n",
       "\n",
       "    .dataframe tbody tr th {\n",
       "        vertical-align: top;\n",
       "    }\n",
       "\n",
       "    .dataframe thead th {\n",
       "        text-align: right;\n",
       "    }\n",
       "</style>\n",
       "<table border=\"1\" class=\"dataframe\">\n",
       "  <thead>\n",
       "    <tr style=\"text-align: right;\">\n",
       "      <th></th>\n",
       "      <th>month</th>\n",
       "      <th>avg_call_duration</th>\n",
       "    </tr>\n",
       "  </thead>\n",
       "  <tbody>\n",
       "    <tr>\n",
       "      <th>0</th>\n",
       "      <td>1.0</td>\n",
       "      <td>6.201915</td>\n",
       "    </tr>\n",
       "    <tr>\n",
       "      <th>1</th>\n",
       "      <td>2.0</td>\n",
       "      <td>6.053403</td>\n",
       "    </tr>\n",
       "    <tr>\n",
       "      <th>2</th>\n",
       "      <td>3.0</td>\n",
       "      <td>6.393757</td>\n",
       "    </tr>\n",
       "    <tr>\n",
       "      <th>3</th>\n",
       "      <td>4.0</td>\n",
       "      <td>7.215266</td>\n",
       "    </tr>\n",
       "    <tr>\n",
       "      <th>4</th>\n",
       "      <td>5.0</td>\n",
       "      <td>7.121973</td>\n",
       "    </tr>\n",
       "    <tr>\n",
       "      <th>5</th>\n",
       "      <td>6.0</td>\n",
       "      <td>6.807941</td>\n",
       "    </tr>\n",
       "    <tr>\n",
       "      <th>6</th>\n",
       "      <td>7.0</td>\n",
       "      <td>7.324718</td>\n",
       "    </tr>\n",
       "    <tr>\n",
       "      <th>7</th>\n",
       "      <td>8.0</td>\n",
       "      <td>7.018966</td>\n",
       "    </tr>\n",
       "    <tr>\n",
       "      <th>8</th>\n",
       "      <td>9.0</td>\n",
       "      <td>7.117788</td>\n",
       "    </tr>\n",
       "    <tr>\n",
       "      <th>9</th>\n",
       "      <td>10.0</td>\n",
       "      <td>7.024169</td>\n",
       "    </tr>\n",
       "    <tr>\n",
       "      <th>10</th>\n",
       "      <td>11.0</td>\n",
       "      <td>6.969518</td>\n",
       "    </tr>\n",
       "    <tr>\n",
       "      <th>11</th>\n",
       "      <td>12.0</td>\n",
       "      <td>6.971843</td>\n",
       "    </tr>\n",
       "  </tbody>\n",
       "</table>\n",
       "</div>"
      ],
      "text/plain": [
       "    month  avg_call_duration\n",
       "0     1.0           6.201915\n",
       "1     2.0           6.053403\n",
       "2     3.0           6.393757\n",
       "3     4.0           7.215266\n",
       "4     5.0           7.121973\n",
       "5     6.0           6.807941\n",
       "6     7.0           7.324718\n",
       "7     8.0           7.018966\n",
       "8     9.0           7.117788\n",
       "9    10.0           7.024169\n",
       "10   11.0           6.969518\n",
       "11   12.0           6.971843"
      ]
     },
     "execution_count": 49,
     "metadata": {},
     "output_type": "execute_result"
    }
   ],
   "source": [
    "avg_min_ult=pd.pivot_table(ultimate_table, values='avg_call_duration', index='month', aggfunc='mean')\n",
    "avg_min_ult=avg_min_ult.reset_index()\n",
    "avg_min_ult"
   ]
  },
  {
   "cell_type": "code",
   "execution_count": 50,
   "metadata": {},
   "outputs": [
    {
     "data": {
      "text/html": [
       "<div>\n",
       "<style scoped>\n",
       "    .dataframe tbody tr th:only-of-type {\n",
       "        vertical-align: middle;\n",
       "    }\n",
       "\n",
       "    .dataframe tbody tr th {\n",
       "        vertical-align: top;\n",
       "    }\n",
       "\n",
       "    .dataframe thead th {\n",
       "        text-align: right;\n",
       "    }\n",
       "</style>\n",
       "<table border=\"1\" class=\"dataframe\">\n",
       "  <thead>\n",
       "    <tr style=\"text-align: right;\">\n",
       "      <th></th>\n",
       "      <th>month</th>\n",
       "      <th>avg_call_duration</th>\n",
       "    </tr>\n",
       "  </thead>\n",
       "  <tbody>\n",
       "    <tr>\n",
       "      <th>0</th>\n",
       "      <td>1.0</td>\n",
       "      <td>6.642857</td>\n",
       "    </tr>\n",
       "    <tr>\n",
       "      <th>1</th>\n",
       "      <td>2.0</td>\n",
       "      <td>6.814628</td>\n",
       "    </tr>\n",
       "    <tr>\n",
       "      <th>2</th>\n",
       "      <td>3.0</td>\n",
       "      <td>7.199957</td>\n",
       "    </tr>\n",
       "    <tr>\n",
       "      <th>3</th>\n",
       "      <td>4.0</td>\n",
       "      <td>7.040349</td>\n",
       "    </tr>\n",
       "    <tr>\n",
       "      <th>4</th>\n",
       "      <td>5.0</td>\n",
       "      <td>6.996065</td>\n",
       "    </tr>\n",
       "    <tr>\n",
       "      <th>5</th>\n",
       "      <td>6.0</td>\n",
       "      <td>7.141114</td>\n",
       "    </tr>\n",
       "    <tr>\n",
       "      <th>6</th>\n",
       "      <td>7.0</td>\n",
       "      <td>6.969665</td>\n",
       "    </tr>\n",
       "    <tr>\n",
       "      <th>7</th>\n",
       "      <td>8.0</td>\n",
       "      <td>6.995927</td>\n",
       "    </tr>\n",
       "    <tr>\n",
       "      <th>8</th>\n",
       "      <td>9.0</td>\n",
       "      <td>7.017420</td>\n",
       "    </tr>\n",
       "    <tr>\n",
       "      <th>9</th>\n",
       "      <td>10.0</td>\n",
       "      <td>6.953572</td>\n",
       "    </tr>\n",
       "    <tr>\n",
       "      <th>10</th>\n",
       "      <td>11.0</td>\n",
       "      <td>7.083883</td>\n",
       "    </tr>\n",
       "    <tr>\n",
       "      <th>11</th>\n",
       "      <td>12.0</td>\n",
       "      <td>7.059456</td>\n",
       "    </tr>\n",
       "  </tbody>\n",
       "</table>\n",
       "</div>"
      ],
      "text/plain": [
       "    month  avg_call_duration\n",
       "0     1.0           6.642857\n",
       "1     2.0           6.814628\n",
       "2     3.0           7.199957\n",
       "3     4.0           7.040349\n",
       "4     5.0           6.996065\n",
       "5     6.0           7.141114\n",
       "6     7.0           6.969665\n",
       "7     8.0           6.995927\n",
       "8     9.0           7.017420\n",
       "9    10.0           6.953572\n",
       "10   11.0           7.083883\n",
       "11   12.0           7.059456"
      ]
     },
     "execution_count": 50,
     "metadata": {},
     "output_type": "execute_result"
    }
   ],
   "source": [
    "# Compare average duration of calls per each plan per each distinct month. Plot a bar plat to visualize it.\n",
    "\n",
    "avg_min_surf=pd.pivot_table(surf_table, values='avg_call_duration', index='month', aggfunc='mean')\n",
    "\n",
    "avg_min_surf=avg_min_surf.reset_index()\n",
    "avg_min_surf"
   ]
  },
  {
   "cell_type": "code",
   "execution_count": 51,
   "metadata": {},
   "outputs": [
    {
     "data": {
      "image/png": "[encoded data removed]",
      "text/plain": [
       "<Figure size 432x288 with 1 Axes>"
      ]
     },
     "metadata": {
      "needs_background": "light"
     },
     "output_type": "display_data"
    }
   ],
   "source": [
    "fig, ax = plt.subplots()\n",
    "\n",
    "index = np.arange(len(avg_min_surf['month']))\n",
    "bar_width = 0.35\n",
    "opacity = 0.8\n",
    "\n",
    "ax.bar(index, avg_min_ult['avg_call_duration'], color='r', align='edge', width=bar_width, label = 'Ultimate')\n",
    "ax.bar(index, avg_min_surf['avg_call_duration'], color='b', align='edge', width=-bar_width,label = 'Surf')\n",
    "\n",
    "# Assign the tick labels\n",
    "ax.set_xticks(index)\n",
    "ax.set_xticklabels(avg_min_ult['month'], rotation=90)\n",
    "\n",
    "plt.xlabel('Month')\n",
    "plt.ylabel('avg_call_duration')\n",
    "plt.legend()\n",
    "plt.show()"
   ]
  },
  {
   "cell_type": "code",
   "execution_count": 52,
   "metadata": {},
   "outputs": [
    {
     "data": {
      "text/html": [
       "<div>\n",
       "<style scoped>\n",
       "    .dataframe tbody tr th:only-of-type {\n",
       "        vertical-align: middle;\n",
       "    }\n",
       "\n",
       "    .dataframe tbody tr th {\n",
       "        vertical-align: top;\n",
       "    }\n",
       "\n",
       "    .dataframe thead th {\n",
       "        text-align: right;\n",
       "    }\n",
       "</style>\n",
       "<table border=\"1\" class=\"dataframe\">\n",
       "  <thead>\n",
       "    <tr style=\"text-align: right;\">\n",
       "      <th></th>\n",
       "      <th>user_id</th>\n",
       "      <th>plan</th>\n",
       "      <th>city</th>\n",
       "      <th>month</th>\n",
       "      <th>calls_count</th>\n",
       "      <th>total_minutes</th>\n",
       "      <th>message_count</th>\n",
       "      <th>data_usage_mb</th>\n",
       "      <th>avg_call_duration</th>\n",
       "    </tr>\n",
       "  </thead>\n",
       "  <tbody>\n",
       "    <tr>\n",
       "      <th>0</th>\n",
       "      <td>1000</td>\n",
       "      <td>ultimate</td>\n",
       "      <td>Atlanta-Sandy Springs-Roswell, GA MSA</td>\n",
       "      <td>12.0</td>\n",
       "      <td>16.0</td>\n",
       "      <td>124.0</td>\n",
       "      <td>11.0</td>\n",
       "      <td>1901.47</td>\n",
       "      <td>7.750000</td>\n",
       "    </tr>\n",
       "    <tr>\n",
       "      <th>1</th>\n",
       "      <td>1001</td>\n",
       "      <td>surf</td>\n",
       "      <td>Seattle-Tacoma-Bellevue, WA MSA</td>\n",
       "      <td>8.0</td>\n",
       "      <td>27.0</td>\n",
       "      <td>182.0</td>\n",
       "      <td>30.0</td>\n",
       "      <td>6919.15</td>\n",
       "      <td>6.740741</td>\n",
       "    </tr>\n",
       "    <tr>\n",
       "      <th>2</th>\n",
       "      <td>1001</td>\n",
       "      <td>surf</td>\n",
       "      <td>Seattle-Tacoma-Bellevue, WA MSA</td>\n",
       "      <td>9.0</td>\n",
       "      <td>49.0</td>\n",
       "      <td>315.0</td>\n",
       "      <td>44.0</td>\n",
       "      <td>13314.82</td>\n",
       "      <td>6.428571</td>\n",
       "    </tr>\n",
       "    <tr>\n",
       "      <th>3</th>\n",
       "      <td>1001</td>\n",
       "      <td>surf</td>\n",
       "      <td>Seattle-Tacoma-Bellevue, WA MSA</td>\n",
       "      <td>10.0</td>\n",
       "      <td>65.0</td>\n",
       "      <td>393.0</td>\n",
       "      <td>53.0</td>\n",
       "      <td>22330.49</td>\n",
       "      <td>6.046154</td>\n",
       "    </tr>\n",
       "    <tr>\n",
       "      <th>4</th>\n",
       "      <td>1001</td>\n",
       "      <td>surf</td>\n",
       "      <td>Seattle-Tacoma-Bellevue, WA MSA</td>\n",
       "      <td>11.0</td>\n",
       "      <td>64.0</td>\n",
       "      <td>426.0</td>\n",
       "      <td>36.0</td>\n",
       "      <td>18504.30</td>\n",
       "      <td>6.656250</td>\n",
       "    </tr>\n",
       "    <tr>\n",
       "      <th>...</th>\n",
       "      <td>...</td>\n",
       "      <td>...</td>\n",
       "      <td>...</td>\n",
       "      <td>...</td>\n",
       "      <td>...</td>\n",
       "      <td>...</td>\n",
       "      <td>...</td>\n",
       "      <td>...</td>\n",
       "      <td>...</td>\n",
       "    </tr>\n",
       "    <tr>\n",
       "      <th>2298</th>\n",
       "      <td>1498</td>\n",
       "      <td>surf</td>\n",
       "      <td>New York-Newark-Jersey City, NY-NJ-PA MSA</td>\n",
       "      <td>12.0</td>\n",
       "      <td>39.0</td>\n",
       "      <td>339.0</td>\n",
       "      <td>NaN</td>\n",
       "      <td>23137.69</td>\n",
       "      <td>8.692308</td>\n",
       "    </tr>\n",
       "    <tr>\n",
       "      <th>2299</th>\n",
       "      <td>1499</td>\n",
       "      <td>surf</td>\n",
       "      <td>Orlando-Kissimmee-Sanford, FL MSA</td>\n",
       "      <td>9.0</td>\n",
       "      <td>41.0</td>\n",
       "      <td>346.0</td>\n",
       "      <td>NaN</td>\n",
       "      <td>12984.76</td>\n",
       "      <td>8.439024</td>\n",
       "    </tr>\n",
       "    <tr>\n",
       "      <th>2300</th>\n",
       "      <td>1499</td>\n",
       "      <td>surf</td>\n",
       "      <td>Orlando-Kissimmee-Sanford, FL MSA</td>\n",
       "      <td>10.0</td>\n",
       "      <td>53.0</td>\n",
       "      <td>385.0</td>\n",
       "      <td>NaN</td>\n",
       "      <td>19492.43</td>\n",
       "      <td>7.264151</td>\n",
       "    </tr>\n",
       "    <tr>\n",
       "      <th>2301</th>\n",
       "      <td>1499</td>\n",
       "      <td>surf</td>\n",
       "      <td>Orlando-Kissimmee-Sanford, FL MSA</td>\n",
       "      <td>11.0</td>\n",
       "      <td>45.0</td>\n",
       "      <td>308.0</td>\n",
       "      <td>NaN</td>\n",
       "      <td>16813.83</td>\n",
       "      <td>6.844444</td>\n",
       "    </tr>\n",
       "    <tr>\n",
       "      <th>2302</th>\n",
       "      <td>1499</td>\n",
       "      <td>surf</td>\n",
       "      <td>Orlando-Kissimmee-Sanford, FL MSA</td>\n",
       "      <td>12.0</td>\n",
       "      <td>65.0</td>\n",
       "      <td>496.0</td>\n",
       "      <td>NaN</td>\n",
       "      <td>22059.21</td>\n",
       "      <td>7.630769</td>\n",
       "    </tr>\n",
       "  </tbody>\n",
       "</table>\n",
       "<p>2303 rows × 9 columns</p>\n",
       "</div>"
      ],
      "text/plain": [
       "      user_id      plan                                       city  month  \\\n",
       "0        1000  ultimate      Atlanta-Sandy Springs-Roswell, GA MSA   12.0   \n",
       "1        1001      surf            Seattle-Tacoma-Bellevue, WA MSA    8.0   \n",
       "2        1001      surf            Seattle-Tacoma-Bellevue, WA MSA    9.0   \n",
       "3        1001      surf            Seattle-Tacoma-Bellevue, WA MSA   10.0   \n",
       "4        1001      surf            Seattle-Tacoma-Bellevue, WA MSA   11.0   \n",
       "...       ...       ...                                        ...    ...   \n",
       "2298     1498      surf  New York-Newark-Jersey City, NY-NJ-PA MSA   12.0   \n",
       "2299     1499      surf          Orlando-Kissimmee-Sanford, FL MSA    9.0   \n",
       "2300     1499      surf          Orlando-Kissimmee-Sanford, FL MSA   10.0   \n",
       "2301     1499      surf          Orlando-Kissimmee-Sanford, FL MSA   11.0   \n",
       "2302     1499      surf          Orlando-Kissimmee-Sanford, FL MSA   12.0   \n",
       "\n",
       "      calls_count  total_minutes  message_count  data_usage_mb  \\\n",
       "0            16.0          124.0           11.0        1901.47   \n",
       "1            27.0          182.0           30.0        6919.15   \n",
       "2            49.0          315.0           44.0       13314.82   \n",
       "3            65.0          393.0           53.0       22330.49   \n",
       "4            64.0          426.0           36.0       18504.30   \n",
       "...           ...            ...            ...            ...   \n",
       "2298         39.0          339.0            NaN       23137.69   \n",
       "2299         41.0          346.0            NaN       12984.76   \n",
       "2300         53.0          385.0            NaN       19492.43   \n",
       "2301         45.0          308.0            NaN       16813.83   \n",
       "2302         65.0          496.0            NaN       22059.21   \n",
       "\n",
       "      avg_call_duration  \n",
       "0              7.750000  \n",
       "1              6.740741  \n",
       "2              6.428571  \n",
       "3              6.046154  \n",
       "4              6.656250  \n",
       "...                 ...  \n",
       "2298           8.692308  \n",
       "2299           8.439024  \n",
       "2300           7.264151  \n",
       "2301           6.844444  \n",
       "2302           7.630769  \n",
       "\n",
       "[2303 rows x 9 columns]"
      ]
     },
     "execution_count": 52,
     "metadata": {},
     "output_type": "execute_result"
    }
   ],
   "source": [
    "users_complete"
   ]
  },
  {
   "cell_type": "markdown",
   "metadata": {},
   "source": [
    "<div class=\"alert alert-warning\">\n",
    "<b>Reviewer's comment v1:</b>\n",
    "    \n",
    "I can advise to always use .head/.tail/.sample to limit the output from the table, as some tools could try to print all rows in your data."
   ]
  },
  {
   "cell_type": "code",
   "execution_count": 53,
   "metadata": {},
   "outputs": [
    {
     "data": {
      "image/png": "[encoded data removed]",
      "text/plain": [
       "<Figure size 432x288 with 1 Axes>"
      ]
     },
     "metadata": {
      "needs_background": "light"
     },
     "output_type": "display_data"
    }
   ],
   "source": [
    "# Compare the number of minutes users of each plan require each month. Plot a histogram.\n",
    "ultimate=users_complete.loc[users_complete['plan'] == 'ultimate']\n",
    "ultimate.hist('total_minutes', bins=50, label= 'ultimate')\n",
    "plt.legend();"
   ]
  },
  {
   "cell_type": "code",
   "execution_count": 54,
   "metadata": {},
   "outputs": [
    {
     "data": {
      "image/png": "[encoded data removed]",
      "text/plain": [
       "<Figure size 432x288 with 1 Axes>"
      ]
     },
     "metadata": {
      "needs_background": "light"
     },
     "output_type": "display_data"
    }
   ],
   "source": [
    "surf=users_complete.loc[users_complete['plan'] == 'surf']\n",
    "surf.hist('total_minutes', bins=50, label= 'surf')\n",
    "plt.legend();"
   ]
  },
  {
   "cell_type": "markdown",
   "metadata": {},
   "source": [
    "<div class=\"alert alert-warning\">\n",
    "<b>Reviewer's comment v1:</b>\n",
    "    \n",
    "Can you please add axis labels to your graphs? "
   ]
  },
  {
   "cell_type": "markdown",
   "metadata": {},
   "source": [
    "Now I will calculate the variance and the means for the average call duration to give me an idea of user behavior between plans. "
   ]
  },
  {
   "cell_type": "code",
   "execution_count": 55,
   "metadata": {},
   "outputs": [
    {
     "data": {
      "text/plain": [
       "7.158129850659148"
      ]
     },
     "execution_count": 55,
     "metadata": {},
     "output_type": "execute_result"
    }
   ],
   "source": [
    "surf['avg_call_duration'].mean()"
   ]
  },
  {
   "cell_type": "code",
   "execution_count": 56,
   "metadata": {},
   "outputs": [
    {
     "data": {
      "text/plain": [
       "1.2267282557007997"
      ]
     },
     "execution_count": 56,
     "metadata": {},
     "output_type": "execute_result"
    }
   ],
   "source": [
    "np.var(surf['avg_call_duration'])"
   ]
  },
  {
   "cell_type": "code",
   "execution_count": 57,
   "metadata": {},
   "outputs": [
    {
     "data": {
      "text/plain": [
       "7.078557173137358"
      ]
     },
     "execution_count": 57,
     "metadata": {},
     "output_type": "execute_result"
    }
   ],
   "source": [
    "ultimate['avg_call_duration'].mean()"
   ]
  },
  {
   "cell_type": "code",
   "execution_count": 58,
   "metadata": {},
   "outputs": [
    {
     "data": {
      "text/plain": [
       "0.9141908573365181"
      ]
     },
     "execution_count": 58,
     "metadata": {},
     "output_type": "execute_result"
    }
   ],
   "source": [
    "np.var(ultimate['avg_call_duration'])"
   ]
  },
  {
   "cell_type": "markdown",
   "metadata": {},
   "source": [
    "<div class=\"alert alert-block alert-success\">\n",
    "<b>Reviewer's comment v1</b>\n",
    " \n",
    "It's great that you managed to calculate all the necessary metrics and display them.\n",
    "\n",
    "There is also a way to display all statistical metrics in one table (you can pass all metrics to aggfunc at once.), using, for example, pivot_table:\n",
    "\n",
    "`data.pivot_table(index= 'tariff', values= '...', aggfunc= ['mean', 'var','std', 'median'])`"
   ]
  },
  {
   "cell_type": "code",
   "execution_count": 59,
   "metadata": {},
   "outputs": [
    {
     "data": {
      "image/png": "[encoded data removed]",
      "text/plain": [
       "<Figure size 432x288 with 1 Axes>"
      ]
     },
     "metadata": {
      "needs_background": "light"
     },
     "output_type": "display_data"
    }
   ],
   "source": [
    "sns.boxplot(y=surf['avg_call_duration'])\n",
    "\n",
    "plt.show()\n"
   ]
  },
  {
   "cell_type": "code",
   "execution_count": 60,
   "metadata": {},
   "outputs": [
    {
     "data": {
      "image/png": "[encoded data removed]",
      "text/plain": [
       "<Figure size 432x288 with 1 Axes>"
      ]
     },
     "metadata": {
      "needs_background": "light"
     },
     "output_type": "display_data"
    }
   ],
   "source": [
    "sns.boxplot(y=ultimate['avg_call_duration'])\n",
    "\n",
    "plt.show()\n"
   ]
  },
  {
   "cell_type": "markdown",
   "metadata": {},
   "source": [
    "Based on these graphs and the descriptive statistics I do not see any significant difference between user behavior on each plan. "
   ]
  },
  {
   "cell_type": "markdown",
   "metadata": {},
   "source": [
    " "
   ]
  },
  {
   "cell_type": "markdown",
   "metadata": {},
   "source": [
    "### Messages"
   ]
  },
  {
   "cell_type": "code",
   "execution_count": 61,
   "metadata": {},
   "outputs": [
    {
     "data": {
      "text/plain": [
       "40.10965630114566"
      ]
     },
     "execution_count": 61,
     "metadata": {},
     "output_type": "execute_result"
    }
   ],
   "source": [
    "surf['message_count'].mean()\n"
   ]
  },
  {
   "cell_type": "code",
   "execution_count": 62,
   "metadata": {},
   "outputs": [
    {
     "data": {
      "text/plain": [
       "1090.4511506183685"
      ]
     },
     "execution_count": 62,
     "metadata": {},
     "output_type": "execute_result"
    }
   ],
   "source": [
    "np.var(surf['message_count'])"
   ]
  },
  {
   "cell_type": "code",
   "execution_count": 63,
   "metadata": {},
   "outputs": [
    {
     "data": {
      "text/plain": [
       "46.29623287671233"
      ]
     },
     "execution_count": 63,
     "metadata": {},
     "output_type": "execute_result"
    }
   ],
   "source": [
    "ultimate['message_count'].mean()"
   ]
  },
  {
   "cell_type": "code",
   "execution_count": 64,
   "metadata": {},
   "outputs": [
    {
     "data": {
      "text/plain": [
       "1083.3249173156314"
      ]
     },
     "execution_count": 64,
     "metadata": {},
     "output_type": "execute_result"
    }
   ],
   "source": [
    "np.var(ultimate['message_count'])\n"
   ]
  },
  {
   "cell_type": "code",
   "execution_count": 65,
   "metadata": {},
   "outputs": [
    {
     "data": {
      "image/png": "[encoded data removed]",
      "text/plain": [
       "<Figure size 432x288 with 1 Axes>"
      ]
     },
     "metadata": {
      "needs_background": "light"
     },
     "output_type": "display_data"
    }
   ],
   "source": [
    "sns.boxplot(y=surf['message_count'])\n",
    "\n",
    "plt.show()\n"
   ]
  },
  {
   "cell_type": "code",
   "execution_count": 66,
   "metadata": {},
   "outputs": [
    {
     "data": {
      "image/png": "[encoded data removed]",
      "text/plain": [
       "<Figure size 432x288 with 1 Axes>"
      ]
     },
     "metadata": {
      "needs_background": "light"
     },
     "output_type": "display_data"
    }
   ],
   "source": [
    "sns.boxplot(y=ultimate['message_count'])\n",
    "\n",
    "plt.show()\n"
   ]
  },
  {
   "cell_type": "markdown",
   "metadata": {},
   "source": [
    "people with the ultimate plan seem to send a more text messages than surf users. "
   ]
  },
  {
   "cell_type": "markdown",
   "metadata": {},
   "source": [
    " "
   ]
  },
  {
   "cell_type": "markdown",
   "metadata": {},
   "source": [
    "### Internet"
   ]
  },
  {
   "cell_type": "code",
   "execution_count": 67,
   "metadata": {},
   "outputs": [
    {
     "data": {
      "text/plain": [
       "16717.702137355584"
      ]
     },
     "execution_count": 67,
     "metadata": {},
     "output_type": "execute_result"
    }
   ],
   "source": [
    "surf['data_usage_mb'].mean()"
   ]
  },
  {
   "cell_type": "code",
   "execution_count": 68,
   "metadata": {},
   "outputs": [
    {
     "data": {
      "text/plain": [
       "62128323.16300871"
      ]
     },
     "execution_count": 68,
     "metadata": {},
     "output_type": "execute_result"
    }
   ],
   "source": [
    "np.var(surf['data_usage_mb'])"
   ]
  },
  {
   "cell_type": "code",
   "execution_count": 69,
   "metadata": {},
   "outputs": [
    {
     "data": {
      "text/plain": [
       "17238.642253129346"
      ]
     },
     "execution_count": 69,
     "metadata": {},
     "output_type": "execute_result"
    }
   ],
   "source": [
    "ultimate['data_usage_mb'].mean()"
   ]
  },
  {
   "cell_type": "code",
   "execution_count": 70,
   "metadata": {},
   "outputs": [
    {
     "data": {
      "text/plain": [
       "61239556.12006475"
      ]
     },
     "execution_count": 70,
     "metadata": {},
     "output_type": "execute_result"
    }
   ],
   "source": [
    "np.var(ultimate['data_usage_mb'])"
   ]
  },
  {
   "cell_type": "code",
   "execution_count": 71,
   "metadata": {},
   "outputs": [
    {
     "data": {
      "image/png": "[encoded data removed]",
      "text/plain": [
       "<Figure size 432x288 with 1 Axes>"
      ]
     },
     "metadata": {
      "needs_background": "light"
     },
     "output_type": "display_data"
    }
   ],
   "source": [
    "sns.boxplot(y=ultimate['data_usage_mb'])\n",
    "\n",
    "plt.show()\n"
   ]
  },
  {
   "cell_type": "code",
   "execution_count": 72,
   "metadata": {},
   "outputs": [
    {
     "data": {
      "image/png": "[encoded data removed]",
      "text/plain": [
       "<Figure size 432x288 with 1 Axes>"
      ]
     },
     "metadata": {
      "needs_background": "light"
     },
     "output_type": "display_data"
    }
   ],
   "source": [
    "sns.boxplot(y=surf['data_usage_mb'])\n",
    "\n",
    "plt.show()\n"
   ]
  },
  {
   "cell_type": "markdown",
   "metadata": {},
   "source": [
    "The behavior between plans is pretty similar for data usage. "
   ]
  },
  {
   "cell_type": "markdown",
   "metadata": {},
   "source": [
    " "
   ]
  },
  {
   "cell_type": "markdown",
   "metadata": {},
   "source": [
    "## Revenue"
   ]
  },
  {
   "cell_type": "code",
   "execution_count": 73,
   "metadata": {},
   "outputs": [
    {
     "data": {
      "text/html": [
       "<div>\n",
       "<style scoped>\n",
       "    .dataframe tbody tr th:only-of-type {\n",
       "        vertical-align: middle;\n",
       "    }\n",
       "\n",
       "    .dataframe tbody tr th {\n",
       "        vertical-align: top;\n",
       "    }\n",
       "\n",
       "    .dataframe thead th {\n",
       "        text-align: right;\n",
       "    }\n",
       "</style>\n",
       "<table border=\"1\" class=\"dataframe\">\n",
       "  <thead>\n",
       "    <tr style=\"text-align: right;\">\n",
       "      <th></th>\n",
       "      <th>total_cost</th>\n",
       "    </tr>\n",
       "    <tr>\n",
       "      <th>month</th>\n",
       "      <th></th>\n",
       "    </tr>\n",
       "  </thead>\n",
       "  <tbody>\n",
       "    <tr>\n",
       "      <th>1.0</th>\n",
       "      <td>20.000000</td>\n",
       "    </tr>\n",
       "    <tr>\n",
       "      <th>2.0</th>\n",
       "      <td>34.396667</td>\n",
       "    </tr>\n",
       "    <tr>\n",
       "      <th>3.0</th>\n",
       "      <td>45.941304</td>\n",
       "    </tr>\n",
       "    <tr>\n",
       "      <th>4.0</th>\n",
       "      <td>40.710600</td>\n",
       "    </tr>\n",
       "    <tr>\n",
       "      <th>5.0</th>\n",
       "      <td>47.628182</td>\n",
       "    </tr>\n",
       "    <tr>\n",
       "      <th>6.0</th>\n",
       "      <td>49.276289</td>\n",
       "    </tr>\n",
       "    <tr>\n",
       "      <th>7.0</th>\n",
       "      <td>62.674050</td>\n",
       "    </tr>\n",
       "    <tr>\n",
       "      <th>8.0</th>\n",
       "      <td>63.931173</td>\n",
       "    </tr>\n",
       "    <tr>\n",
       "      <th>9.0</th>\n",
       "      <td>58.271495</td>\n",
       "    </tr>\n",
       "    <tr>\n",
       "      <th>10.0</th>\n",
       "      <td>65.421224</td>\n",
       "    </tr>\n",
       "    <tr>\n",
       "      <th>11.0</th>\n",
       "      <td>58.004276</td>\n",
       "    </tr>\n",
       "    <tr>\n",
       "      <th>12.0</th>\n",
       "      <td>70.557044</td>\n",
       "    </tr>\n",
       "  </tbody>\n",
       "</table>\n",
       "</div>"
      ],
      "text/plain": [
       "       total_cost\n",
       "month            \n",
       "1.0     20.000000\n",
       "2.0     34.396667\n",
       "3.0     45.941304\n",
       "4.0     40.710600\n",
       "5.0     47.628182\n",
       "6.0     49.276289\n",
       "7.0     62.674050\n",
       "8.0     63.931173\n",
       "9.0     58.271495\n",
       "10.0    65.421224\n",
       "11.0    58.004276\n",
       "12.0    70.557044"
      ]
     },
     "execution_count": 73,
     "metadata": {},
     "output_type": "execute_result"
    }
   ],
   "source": [
    "monthly_revenue_surf= pd.pivot_table(surf_table, values='total_cost', index='month', aggfunc='mean')\n",
    "monthly_revenue_surf"
   ]
  },
  {
   "cell_type": "code",
   "execution_count": 74,
   "metadata": {},
   "outputs": [
    {
     "data": {
      "text/html": [
       "<div>\n",
       "<style scoped>\n",
       "    .dataframe tbody tr th:only-of-type {\n",
       "        vertical-align: middle;\n",
       "    }\n",
       "\n",
       "    .dataframe tbody tr th {\n",
       "        vertical-align: top;\n",
       "    }\n",
       "\n",
       "    .dataframe thead th {\n",
       "        text-align: right;\n",
       "    }\n",
       "</style>\n",
       "<table border=\"1\" class=\"dataframe\">\n",
       "  <thead>\n",
       "    <tr style=\"text-align: right;\">\n",
       "      <th></th>\n",
       "      <th>total_cost</th>\n",
       "    </tr>\n",
       "    <tr>\n",
       "      <th>month</th>\n",
       "      <th></th>\n",
       "    </tr>\n",
       "  </thead>\n",
       "  <tbody>\n",
       "    <tr>\n",
       "      <th>1.0</th>\n",
       "      <td>70.000000</td>\n",
       "    </tr>\n",
       "    <tr>\n",
       "      <th>2.0</th>\n",
       "      <td>70.000000</td>\n",
       "    </tr>\n",
       "    <tr>\n",
       "      <th>3.0</th>\n",
       "      <td>74.666667</td>\n",
       "    </tr>\n",
       "    <tr>\n",
       "      <th>4.0</th>\n",
       "      <td>73.000000</td>\n",
       "    </tr>\n",
       "    <tr>\n",
       "      <th>5.0</th>\n",
       "      <td>70.724138</td>\n",
       "    </tr>\n",
       "    <tr>\n",
       "      <th>6.0</th>\n",
       "      <td>71.638298</td>\n",
       "    </tr>\n",
       "    <tr>\n",
       "      <th>7.0</th>\n",
       "      <td>71.898305</td>\n",
       "    </tr>\n",
       "    <tr>\n",
       "      <th>8.0</th>\n",
       "      <td>72.859155</td>\n",
       "    </tr>\n",
       "    <tr>\n",
       "      <th>9.0</th>\n",
       "      <td>72.034884</td>\n",
       "    </tr>\n",
       "    <tr>\n",
       "      <th>10.0</th>\n",
       "      <td>72.311321</td>\n",
       "    </tr>\n",
       "    <tr>\n",
       "      <th>11.0</th>\n",
       "      <td>71.708661</td>\n",
       "    </tr>\n",
       "    <tr>\n",
       "      <th>12.0</th>\n",
       "      <td>73.291391</td>\n",
       "    </tr>\n",
       "  </tbody>\n",
       "</table>\n",
       "</div>"
      ],
      "text/plain": [
       "       total_cost\n",
       "month            \n",
       "1.0     70.000000\n",
       "2.0     70.000000\n",
       "3.0     74.666667\n",
       "4.0     73.000000\n",
       "5.0     70.724138\n",
       "6.0     71.638298\n",
       "7.0     71.898305\n",
       "8.0     72.859155\n",
       "9.0     72.034884\n",
       "10.0    72.311321\n",
       "11.0    71.708661\n",
       "12.0    73.291391"
      ]
     },
     "execution_count": 74,
     "metadata": {},
     "output_type": "execute_result"
    }
   ],
   "source": [
    "monthly_revenue_ult= pd.pivot_table(ultimate_table, values='total_cost', index='month', aggfunc='mean')\n",
    "monthly_revenue_ult"
   ]
  },
  {
   "cell_type": "code",
   "execution_count": 75,
   "metadata": {},
   "outputs": [
    {
     "data": {
      "text/plain": [
       "60.706408137317226"
      ]
     },
     "execution_count": 75,
     "metadata": {},
     "output_type": "execute_result"
    }
   ],
   "source": [
    "surf_table['total_cost'].mean()"
   ]
  },
  {
   "cell_type": "code",
   "execution_count": 76,
   "metadata": {},
   "outputs": [
    {
     "data": {
      "text/plain": [
       "72.31388888888888"
      ]
     },
     "execution_count": 76,
     "metadata": {},
     "output_type": "execute_result"
    }
   ],
   "source": [
    "ultimate_table['total_cost'].mean()"
   ]
  },
  {
   "cell_type": "code",
   "execution_count": 77,
   "metadata": {},
   "outputs": [
    {
     "data": {
      "text/plain": [
       "129.66814043209877"
      ]
     },
     "execution_count": 77,
     "metadata": {},
     "output_type": "execute_result"
    }
   ],
   "source": [
    "np.var(ultimate_table['total_cost'])"
   ]
  },
  {
   "cell_type": "code",
   "execution_count": 78,
   "metadata": {},
   "outputs": [
    {
     "data": {
      "text/plain": [
       "3065.8848438690247"
      ]
     },
     "execution_count": 78,
     "metadata": {},
     "output_type": "execute_result"
    }
   ],
   "source": [
    "np.var(surf_table['total_cost'])"
   ]
  },
  {
   "cell_type": "code",
   "execution_count": 79,
   "metadata": {},
   "outputs": [
    {
     "data": {
      "image/png": "[encoded data removed]",
      "text/plain": [
       "<Figure size 432x288 with 1 Axes>"
      ]
     },
     "metadata": {
      "needs_background": "light"
     },
     "output_type": "display_data"
    }
   ],
   "source": [
    "sns.boxplot(y=surf_table['total_cost'])\n",
    "\n",
    "plt.show()\n"
   ]
  },
  {
   "cell_type": "code",
   "execution_count": 80,
   "metadata": {},
   "outputs": [
    {
     "data": {
      "image/png": "[encoded data removed]",
      "text/plain": [
       "<Figure size 432x288 with 1 Axes>"
      ]
     },
     "metadata": {
      "needs_background": "light"
     },
     "output_type": "display_data"
    }
   ],
   "source": [
    "sns.boxplot(y=ultimate_table['total_cost'])\n",
    "\n",
    "plt.show()"
   ]
  },
  {
   "cell_type": "code",
   "execution_count": 81,
   "metadata": {},
   "outputs": [
    {
     "data": {
      "image/png": "[encoded data removed]",
      "text/plain": [
       "<Figure size 432x288 with 1 Axes>"
      ]
     },
     "metadata": {
      "needs_background": "light"
     },
     "output_type": "display_data"
    }
   ],
   "source": [
    "sns.boxplot(y=monthly_revenue_surf['total_cost'])\n",
    "\n",
    "plt.show()\n"
   ]
  },
  {
   "cell_type": "code",
   "execution_count": 82,
   "metadata": {},
   "outputs": [
    {
     "data": {
      "image/png": "[encoded data removed]",
      "text/plain": [
       "<Figure size 432x288 with 1 Axes>"
      ]
     },
     "metadata": {
      "needs_background": "light"
     },
     "output_type": "display_data"
    }
   ],
   "source": [
    "sns.boxplot(y=monthly_revenue_ult['total_cost'])\n",
    "\n",
    "plt.show()"
   ]
  },
  {
   "cell_type": "markdown",
   "metadata": {},
   "source": [
    "Based on the average monthly revenue between plans: The Ultimate plan is bringing in significantly more revenue. "
   ]
  },
  {
   "cell_type": "markdown",
   "metadata": {},
   "source": [
    "<div class=\"alert alert-success\">\n",
    "<b>Reviewer's comment v1:</b>\n",
    "    \n",
    "- I will write overall thoughts about the data analysis section:\n",
    "- Very nice visualization of the data. Great that you used different graph types to check available data.\n"
   ]
  },
  {
   "cell_type": "markdown",
   "metadata": {},
   "source": [
    "<div class=\"alert alert-warning\">\n",
    "<b>Reviewer's comment v1:</b>\n",
    "    \n",
    "- Additionally could be interesting to add both plans on one graph.\n",
    "- If you have time and willing to practice, you can display two charts (histogram and a box plot) using a two-column subplot.\n",
    "\n",
    "```\n",
    "    # Create one row with 2 columns\n",
    "\t  fig, axes = plt.subplots(1, 2, figsize=(16, 5))\n",
    "\n",
    "\t  # Create a histogram for the surf plan\n",
    "\t  sns.distplot(... ax=axes[0])\n",
    "\t  # Create a histogram for the second plan\n",
    "\t  sns.distplot(... ax=axes[0])\n",
    "\t\n",
    "\t  # Create a boxplot for both plans\n",
    "\t  sns.boxplot(... ax=axes[1])\n",
    "```"
   ]
  },
  {
   "cell_type": "markdown",
   "metadata": {},
   "source": [
    " "
   ]
  },
  {
   "cell_type": "markdown",
   "metadata": {},
   "source": [
    "## Test statistical hypotheses"
   ]
  },
  {
   "cell_type": "markdown",
   "metadata": {},
   "source": [
    " First I will test the hypothesis that the average revenue from users of the Ultimate and Surf calling plans differs."
   ]
  },
  {
   "cell_type": "markdown",
   "metadata": {},
   "source": [
    "H₀= there is no difference between the average revenue of the Ultimate plan and the average revenue of the Surf plan.\n",
    "\n",
    "H₁=there is a difference between the average revenues in the plans\n",
    "\n",
    "I will use the independent ttest to test these hypothesis.\n",
    "\n",
    "The alpha value will be 0.05."
   ]
  },
  {
   "cell_type": "code",
   "execution_count": 83,
   "metadata": {},
   "outputs": [],
   "source": [
    "master_table=pd.concat([surf_table,ultimate_table], ignore_index=True, sort=False)"
   ]
  },
  {
   "cell_type": "code",
   "execution_count": 84,
   "metadata": {},
   "outputs": [
    {
     "name": "stdout",
     "output_type": "stream",
     "text": [
      "<class 'pandas.core.frame.DataFrame'>\n",
      "Int64Index: 2293 entries, 0 to 2292\n",
      "Data columns (total 19 columns):\n",
      " #   Column             Non-Null Count  Dtype         \n",
      "---  ------             --------------  -----         \n",
      " 0   user_id            2293 non-null   int64         \n",
      " 1   month              2293 non-null   float64       \n",
      " 2   plan               2293 non-null   object        \n",
      " 3   avg_call_duration  2293 non-null   float64       \n",
      " 4   data_usage_mb      2293 non-null   float64       \n",
      " 5   message_count      2293 non-null   float64       \n",
      " 6   total_minutes      2293 non-null   float64       \n",
      " 7   data_usage_gb      2293 non-null   float64       \n",
      " 8   message_cost       2293 non-null   float64       \n",
      " 9   data_cost          2293 non-null   float64       \n",
      " 10  minute_cost        2293 non-null   float64       \n",
      " 11  plan_cost          2293 non-null   int64         \n",
      " 12  total_cost         2293 non-null   float64       \n",
      " 13  first_name         2293 non-null   object        \n",
      " 14  last_name          2293 non-null   object        \n",
      " 15  age                2293 non-null   int64         \n",
      " 16  city               2293 non-null   object        \n",
      " 17  reg_date           2293 non-null   datetime64[ns]\n",
      " 18  churn_date         2293 non-null   object        \n",
      "dtypes: datetime64[ns](1), float64(10), int64(3), object(5)\n",
      "memory usage: 358.3+ KB\n"
     ]
    }
   ],
   "source": [
    "master_table=master_table.merge(users_data)\n",
    "master_table.info()"
   ]
  },
  {
   "cell_type": "code",
   "execution_count": 85,
   "metadata": {},
   "outputs": [
    {
     "data": {
      "text/html": [
       "<div>\n",
       "<style scoped>\n",
       "    .dataframe tbody tr th:only-of-type {\n",
       "        vertical-align: middle;\n",
       "    }\n",
       "\n",
       "    .dataframe tbody tr th {\n",
       "        vertical-align: top;\n",
       "    }\n",
       "\n",
       "    .dataframe thead th {\n",
       "        text-align: right;\n",
       "    }\n",
       "</style>\n",
       "<table border=\"1\" class=\"dataframe\">\n",
       "  <thead>\n",
       "    <tr style=\"text-align: right;\">\n",
       "      <th></th>\n",
       "      <th>user_id</th>\n",
       "      <th>month</th>\n",
       "      <th>plan</th>\n",
       "      <th>avg_call_duration</th>\n",
       "      <th>data_usage_mb</th>\n",
       "      <th>message_count</th>\n",
       "      <th>total_minutes</th>\n",
       "      <th>data_usage_gb</th>\n",
       "      <th>message_cost</th>\n",
       "      <th>data_cost</th>\n",
       "      <th>minute_cost</th>\n",
       "      <th>plan_cost</th>\n",
       "      <th>total_cost</th>\n",
       "      <th>first_name</th>\n",
       "      <th>last_name</th>\n",
       "      <th>age</th>\n",
       "      <th>city</th>\n",
       "      <th>reg_date</th>\n",
       "      <th>churn_date</th>\n",
       "    </tr>\n",
       "  </thead>\n",
       "  <tbody>\n",
       "    <tr>\n",
       "      <th>0</th>\n",
       "      <td>1001</td>\n",
       "      <td>8.0</td>\n",
       "      <td>surf</td>\n",
       "      <td>6.740741</td>\n",
       "      <td>6919.15</td>\n",
       "      <td>30.0</td>\n",
       "      <td>182.0</td>\n",
       "      <td>7.0</td>\n",
       "      <td>0.00</td>\n",
       "      <td>0.0</td>\n",
       "      <td>0.0</td>\n",
       "      <td>20</td>\n",
       "      <td>20.00</td>\n",
       "      <td>Mickey</td>\n",
       "      <td>Wilkerson</td>\n",
       "      <td>28</td>\n",
       "      <td>Seattle-Tacoma-Bellevue, WA MSA</td>\n",
       "      <td>2018-08-13</td>\n",
       "      <td>0</td>\n",
       "    </tr>\n",
       "    <tr>\n",
       "      <th>1</th>\n",
       "      <td>1001</td>\n",
       "      <td>9.0</td>\n",
       "      <td>surf</td>\n",
       "      <td>6.428571</td>\n",
       "      <td>13314.82</td>\n",
       "      <td>44.0</td>\n",
       "      <td>315.0</td>\n",
       "      <td>14.0</td>\n",
       "      <td>0.00</td>\n",
       "      <td>0.0</td>\n",
       "      <td>0.0</td>\n",
       "      <td>20</td>\n",
       "      <td>20.00</td>\n",
       "      <td>Mickey</td>\n",
       "      <td>Wilkerson</td>\n",
       "      <td>28</td>\n",
       "      <td>Seattle-Tacoma-Bellevue, WA MSA</td>\n",
       "      <td>2018-08-13</td>\n",
       "      <td>0</td>\n",
       "    </tr>\n",
       "    <tr>\n",
       "      <th>2</th>\n",
       "      <td>1001</td>\n",
       "      <td>10.0</td>\n",
       "      <td>surf</td>\n",
       "      <td>6.046154</td>\n",
       "      <td>22330.49</td>\n",
       "      <td>53.0</td>\n",
       "      <td>393.0</td>\n",
       "      <td>22.0</td>\n",
       "      <td>0.09</td>\n",
       "      <td>70.0</td>\n",
       "      <td>0.0</td>\n",
       "      <td>20</td>\n",
       "      <td>90.09</td>\n",
       "      <td>Mickey</td>\n",
       "      <td>Wilkerson</td>\n",
       "      <td>28</td>\n",
       "      <td>Seattle-Tacoma-Bellevue, WA MSA</td>\n",
       "      <td>2018-08-13</td>\n",
       "      <td>0</td>\n",
       "    </tr>\n",
       "    <tr>\n",
       "      <th>3</th>\n",
       "      <td>1001</td>\n",
       "      <td>11.0</td>\n",
       "      <td>surf</td>\n",
       "      <td>6.656250</td>\n",
       "      <td>18504.30</td>\n",
       "      <td>36.0</td>\n",
       "      <td>426.0</td>\n",
       "      <td>19.0</td>\n",
       "      <td>0.00</td>\n",
       "      <td>40.0</td>\n",
       "      <td>0.0</td>\n",
       "      <td>20</td>\n",
       "      <td>60.00</td>\n",
       "      <td>Mickey</td>\n",
       "      <td>Wilkerson</td>\n",
       "      <td>28</td>\n",
       "      <td>Seattle-Tacoma-Bellevue, WA MSA</td>\n",
       "      <td>2018-08-13</td>\n",
       "      <td>0</td>\n",
       "    </tr>\n",
       "    <tr>\n",
       "      <th>4</th>\n",
       "      <td>1001</td>\n",
       "      <td>12.0</td>\n",
       "      <td>surf</td>\n",
       "      <td>7.357143</td>\n",
       "      <td>19369.18</td>\n",
       "      <td>44.0</td>\n",
       "      <td>412.0</td>\n",
       "      <td>19.0</td>\n",
       "      <td>0.00</td>\n",
       "      <td>40.0</td>\n",
       "      <td>0.0</td>\n",
       "      <td>20</td>\n",
       "      <td>60.00</td>\n",
       "      <td>Mickey</td>\n",
       "      <td>Wilkerson</td>\n",
       "      <td>28</td>\n",
       "      <td>Seattle-Tacoma-Bellevue, WA MSA</td>\n",
       "      <td>2018-08-13</td>\n",
       "      <td>0</td>\n",
       "    </tr>\n",
       "  </tbody>\n",
       "</table>\n",
       "</div>"
      ],
      "text/plain": [
       "   user_id  month  plan  avg_call_duration  data_usage_mb  message_count  \\\n",
       "0     1001    8.0  surf           6.740741        6919.15           30.0   \n",
       "1     1001    9.0  surf           6.428571       13314.82           44.0   \n",
       "2     1001   10.0  surf           6.046154       22330.49           53.0   \n",
       "3     1001   11.0  surf           6.656250       18504.30           36.0   \n",
       "4     1001   12.0  surf           7.357143       19369.18           44.0   \n",
       "\n",
       "   total_minutes  data_usage_gb  message_cost  data_cost  minute_cost  \\\n",
       "0          182.0            7.0          0.00        0.0          0.0   \n",
       "1          315.0           14.0          0.00        0.0          0.0   \n",
       "2          393.0           22.0          0.09       70.0          0.0   \n",
       "3          426.0           19.0          0.00       40.0          0.0   \n",
       "4          412.0           19.0          0.00       40.0          0.0   \n",
       "\n",
       "   plan_cost  total_cost first_name  last_name  age  \\\n",
       "0         20       20.00     Mickey  Wilkerson   28   \n",
       "1         20       20.00     Mickey  Wilkerson   28   \n",
       "2         20       90.09     Mickey  Wilkerson   28   \n",
       "3         20       60.00     Mickey  Wilkerson   28   \n",
       "4         20       60.00     Mickey  Wilkerson   28   \n",
       "\n",
       "                              city   reg_date churn_date  \n",
       "0  Seattle-Tacoma-Bellevue, WA MSA 2018-08-13          0  \n",
       "1  Seattle-Tacoma-Bellevue, WA MSA 2018-08-13          0  \n",
       "2  Seattle-Tacoma-Bellevue, WA MSA 2018-08-13          0  \n",
       "3  Seattle-Tacoma-Bellevue, WA MSA 2018-08-13          0  \n",
       "4  Seattle-Tacoma-Bellevue, WA MSA 2018-08-13          0  "
      ]
     },
     "execution_count": 85,
     "metadata": {},
     "output_type": "execute_result"
    }
   ],
   "source": [
    "master_table.head()"
   ]
  },
  {
   "cell_type": "code",
   "execution_count": 86,
   "metadata": {},
   "outputs": [
    {
     "data": {
      "text/plain": [
       "70.0"
      ]
     },
     "execution_count": 86,
     "metadata": {},
     "output_type": "execute_result"
    }
   ],
   "source": [
    "total_avg_revenue= master_table['total_cost'].mean()\n",
    "master_table['total_cost'].median()"
   ]
  },
  {
   "cell_type": "code",
   "execution_count": 87,
   "metadata": {},
   "outputs": [],
   "source": [
    "surf_avg_revenue= master_table[master_table['plan']== 'surf']['total_cost'].mean()\n"
   ]
  },
  {
   "cell_type": "code",
   "execution_count": 88,
   "metadata": {},
   "outputs": [],
   "source": [
    "ult_avg_revenue=master_table[master_table['plan']== 'ultimate']['total_cost'].mean()\n"
   ]
  },
  {
   "cell_type": "code",
   "execution_count": 89,
   "metadata": {},
   "outputs": [
    {
     "name": "stdout",
     "output_type": "stream",
     "text": [
      "p-value: 7.83119144714113e-05\n",
      "We reject the null hypothesis\n"
     ]
    }
   ],
   "source": [
    "surf = monthly_revenue_surf['total_cost']\n",
    "\n",
    "ultimate = monthly_revenue_ult['total_cost']\n",
    "\n",
    "alpha= 0.05\n",
    "\n",
    "results = st.ttest_ind(surf,ultimate)\n",
    "\n",
    "print('p-value:', results.pvalue)\n",
    "\n",
    "if results.pvalue < alpha:\n",
    "    print('We reject the null hypothesis')\n",
    "else:\n",
    "    print('We cant reject the null hypothesis')"
   ]
  },
  {
   "cell_type": "markdown",
   "metadata": {},
   "source": [
    "<div class=\"alert alert-warning\">\n",
    "<b>Reviewer's comment v1:</b>\n",
    "    \n",
    "Additionally, could be interesting to show/visualize selected samples with mean values."
   ]
  },
  {
   "cell_type": "markdown",
   "metadata": {},
   "source": [
    " We can reject the null hypothesis that the average revenue is the same. Therefore we can accept that the alternative hypothesis is true, there is a significant difference in revenue between the ultimate and surf plans. "
   ]
  },
  {
   "cell_type": "markdown",
   "metadata": {},
   "source": [
    "Now I will test the hypothesis that the average revenue from users in the NY-NJ area is different from that of the users from the other regions\n",
    "H₀= there is no difference between the average revenue of users in the NY-NJ area and that of the users from the other regions\n",
    "\n",
    "H₁=there is a difference between the average revenues of users in the NY-NJ area and that of the users from the other regions\n",
    "\n",
    "I will use the independent ttest to test these hypothesis.\n",
    "\n",
    "The alpha value will be 0.05."
   ]
  },
  {
   "cell_type": "markdown",
   "metadata": {},
   "source": [
    "<div class=\"alert alert-success\">\n",
    "<b>Reviewer's comment v1:</b>\n",
    "    \n",
    "Overall great job! Hypotheses have been formulated and tested correctly. "
   ]
  },
  {
   "cell_type": "code",
   "execution_count": 90,
   "metadata": {},
   "outputs": [
    {
     "data": {
      "text/html": [
       "<div>\n",
       "<style scoped>\n",
       "    .dataframe tbody tr th:only-of-type {\n",
       "        vertical-align: middle;\n",
       "    }\n",
       "\n",
       "    .dataframe tbody tr th {\n",
       "        vertical-align: top;\n",
       "    }\n",
       "\n",
       "    .dataframe thead th {\n",
       "        text-align: right;\n",
       "    }\n",
       "</style>\n",
       "<table border=\"1\" class=\"dataframe\">\n",
       "  <thead>\n",
       "    <tr style=\"text-align: right;\">\n",
       "      <th></th>\n",
       "      <th>total_cost</th>\n",
       "    </tr>\n",
       "    <tr>\n",
       "      <th>month</th>\n",
       "      <th></th>\n",
       "    </tr>\n",
       "  </thead>\n",
       "  <tbody>\n",
       "    <tr>\n",
       "      <th>2.0</th>\n",
       "      <td>45.000000</td>\n",
       "    </tr>\n",
       "    <tr>\n",
       "      <th>3.0</th>\n",
       "      <td>41.140000</td>\n",
       "    </tr>\n",
       "    <tr>\n",
       "      <th>4.0</th>\n",
       "      <td>41.119286</td>\n",
       "    </tr>\n",
       "    <tr>\n",
       "      <th>5.0</th>\n",
       "      <td>47.965000</td>\n",
       "    </tr>\n",
       "    <tr>\n",
       "      <th>6.0</th>\n",
       "      <td>45.941600</td>\n",
       "    </tr>\n",
       "    <tr>\n",
       "      <th>7.0</th>\n",
       "      <td>53.747879</td>\n",
       "    </tr>\n",
       "    <tr>\n",
       "      <th>8.0</th>\n",
       "      <td>58.053171</td>\n",
       "    </tr>\n",
       "    <tr>\n",
       "      <th>9.0</th>\n",
       "      <td>60.115745</td>\n",
       "    </tr>\n",
       "    <tr>\n",
       "      <th>10.0</th>\n",
       "      <td>69.107170</td>\n",
       "    </tr>\n",
       "    <tr>\n",
       "      <th>11.0</th>\n",
       "      <td>66.402419</td>\n",
       "    </tr>\n",
       "    <tr>\n",
       "      <th>12.0</th>\n",
       "      <td>64.565789</td>\n",
       "    </tr>\n",
       "  </tbody>\n",
       "</table>\n",
       "</div>"
      ],
      "text/plain": [
       "       total_cost\n",
       "month            \n",
       "2.0     45.000000\n",
       "3.0     41.140000\n",
       "4.0     41.119286\n",
       "5.0     47.965000\n",
       "6.0     45.941600\n",
       "7.0     53.747879\n",
       "8.0     58.053171\n",
       "9.0     60.115745\n",
       "10.0    69.107170\n",
       "11.0    66.402419\n",
       "12.0    64.565789"
      ]
     },
     "execution_count": 90,
     "metadata": {},
     "output_type": "execute_result"
    }
   ],
   "source": [
    "NY_NJ=master_table.loc[master_table['city'].str.contains('NY-NJ')]\n",
    "NY_NJ_avg_revenue = pd.pivot_table(NY_NJ, values='total_cost', index='month')\n",
    "NY_NJ_avg_revenue"
   ]
  },
  {
   "cell_type": "code",
   "execution_count": 91,
   "metadata": {},
   "outputs": [
    {
     "data": {
      "text/html": [
       "<div>\n",
       "<style scoped>\n",
       "    .dataframe tbody tr th:only-of-type {\n",
       "        vertical-align: middle;\n",
       "    }\n",
       "\n",
       "    .dataframe tbody tr th {\n",
       "        vertical-align: top;\n",
       "    }\n",
       "\n",
       "    .dataframe thead th {\n",
       "        text-align: right;\n",
       "    }\n",
       "</style>\n",
       "<table border=\"1\" class=\"dataframe\">\n",
       "  <thead>\n",
       "    <tr style=\"text-align: right;\">\n",
       "      <th></th>\n",
       "      <th>total_cost</th>\n",
       "    </tr>\n",
       "    <tr>\n",
       "      <th>month</th>\n",
       "      <th></th>\n",
       "    </tr>\n",
       "  </thead>\n",
       "  <tbody>\n",
       "    <tr>\n",
       "      <th>1.0</th>\n",
       "      <td>53.333333</td>\n",
       "    </tr>\n",
       "    <tr>\n",
       "      <th>2.0</th>\n",
       "      <td>49.973125</td>\n",
       "    </tr>\n",
       "    <tr>\n",
       "      <th>3.0</th>\n",
       "      <td>55.790000</td>\n",
       "    </tr>\n",
       "    <tr>\n",
       "      <th>4.0</th>\n",
       "      <td>50.260986</td>\n",
       "    </tr>\n",
       "    <tr>\n",
       "      <th>5.0</th>\n",
       "      <td>53.946887</td>\n",
       "    </tr>\n",
       "    <tr>\n",
       "      <th>6.0</th>\n",
       "      <td>56.575000</td>\n",
       "    </tr>\n",
       "    <tr>\n",
       "      <th>7.0</th>\n",
       "      <td>65.697556</td>\n",
       "    </tr>\n",
       "    <tr>\n",
       "      <th>8.0</th>\n",
       "      <td>66.651717</td>\n",
       "    </tr>\n",
       "    <tr>\n",
       "      <th>9.0</th>\n",
       "      <td>62.498821</td>\n",
       "    </tr>\n",
       "    <tr>\n",
       "      <th>10.0</th>\n",
       "      <td>67.550525</td>\n",
       "    </tr>\n",
       "    <tr>\n",
       "      <th>11.0</th>\n",
       "      <td>62.249293</td>\n",
       "    </tr>\n",
       "    <tr>\n",
       "      <th>12.0</th>\n",
       "      <td>71.437399</td>\n",
       "    </tr>\n",
       "  </tbody>\n",
       "</table>\n",
       "</div>"
      ],
      "text/plain": [
       "       total_cost\n",
       "month            \n",
       "1.0     53.333333\n",
       "2.0     49.973125\n",
       "3.0     55.790000\n",
       "4.0     50.260986\n",
       "5.0     53.946887\n",
       "6.0     56.575000\n",
       "7.0     65.697556\n",
       "8.0     66.651717\n",
       "9.0     62.498821\n",
       "10.0    67.550525\n",
       "11.0    62.249293\n",
       "12.0    71.437399"
      ]
     },
     "execution_count": 91,
     "metadata": {},
     "output_type": "execute_result"
    }
   ],
   "source": [
    "avg_revenue_master= pd.pivot_table(master_table, values='total_cost', index='month')\n",
    "avg_revenue_master"
   ]
  },
  {
   "cell_type": "code",
   "execution_count": 92,
   "metadata": {},
   "outputs": [
    {
     "name": "stdout",
     "output_type": "stream",
     "text": [
      "p-value: 0.13479967352645303\n",
      "We cant reject the null hypothesis\n"
     ]
    }
   ],
   "source": [
    "other = avg_revenue_master['total_cost']\n",
    "\n",
    "NYNJ =NY_NJ_avg_revenue['total_cost']\n",
    "\n",
    "alpha= 0.05\n",
    "\n",
    "results = st.ttest_ind(other,NYNJ)\n",
    "\n",
    "print('p-value:', results.pvalue)\n",
    "\n",
    "if results.pvalue < alpha:\n",
    "    print('We reject the null hypothesis')\n",
    "else:\n",
    "    print('We cant reject the null hypothesis')"
   ]
  },
  {
   "cell_type": "markdown",
   "metadata": {},
   "source": [
    "<div class=\"alert alert-success\">\n",
    "<b>Reviewer's comment v1:</b>\n",
    "    \n",
    "This is also correct.\n",
    "    \n",
    "You can also additionally compare the variances of the samples before testing hypotheses in order to understand with which equal_var parameter to use the ttest_ind test method (by default, True). Here you can manually calculate variances, or use Levene's statistic test (https://docs.scipy.org/doc/scipy/reference/generated/scipy.stats.levene.html) or Barlett's test (https: //docs.scipy .org / doc / scipy / reference / generated / scipy.stats.bartlett.html # scipy.stats.bartlett)"
   ]
  },
  {
   "cell_type": "markdown",
   "metadata": {},
   "source": [
    "## General conclusion\n",
    "\n",
    "I have cleaned, enriched, and examined these data. I am confident in concluding based on my statisitical tests, descriptive statistics and data visualizations I was able to generate, that the Ultimate plan generated significantly more revenue in 2018 than did the Surf plan. Additionally, there is no significant difference in revenue between users in the NY-NJ area and the users in the other areas of use. \n",
    "\n",
    "Thank you again for your time reviewing my project :)"
   ]
  },
  {
   "cell_type": "markdown",
   "metadata": {},
   "source": [
    "<div class=\"alert alert-warning\" role=\"alert\">\n",
    "<b>Reviewer's comment v1:</b>\n",
    "    \n",
    "- Overall you conducted great research with correct interim findings, clean code and nice visualisation.\n",
    "- Nevertheless, general conclusions represent the overall work progress that you achieved. On a real project, this is probably the only thing the business stakeholders will read. Therefore, it is crucial to indicate in a structured way all conclusions that you made on each step in the project. It is also important to provide explanations and interpretations that will be interesting for business based on your analysis (a detailed description of the average user per each plan, which client group brings more additional revenue, which group brings more revenue in the total revenue)."
   ]
  }
 ],
 "metadata": {
  "ExecuteTimeLog": [
   {
    "duration": 828,
    "start_time": "2021-11-16T09:21:11.304Z"
   },
   {
    "duration": 893,
    "start_time": "2021-11-16T09:21:17.728Z"
   },
   {
    "duration": 1150,
    "start_time": "2021-11-16T09:21:29.568Z"
   },
   {
    "duration": 3,
    "start_time": "2021-11-16T09:24:14.495Z"
   },
   {
    "duration": 120,
    "start_time": "2021-11-16T09:24:46.630Z"
   },
   {
    "duration": 3,
    "start_time": "2021-11-16T09:28:27.882Z"
   },
   {
    "duration": 4,
    "start_time": "2021-11-16T09:29:54.281Z"
   },
   {
    "duration": 3,
    "start_time": "2021-11-16T09:30:45.936Z"
   },
   {
    "duration": 4,
    "start_time": "2021-11-16T09:31:06.300Z"
   },
   {
    "duration": 113,
    "start_time": "2021-11-16T09:31:37.208Z"
   },
   {
    "duration": 143,
    "start_time": "2021-11-16T09:31:48.656Z"
   },
   {
    "duration": 98,
    "start_time": "2021-11-16T09:31:55.678Z"
   },
   {
    "duration": 3,
    "start_time": "2021-11-16T09:32:08.535Z"
   },
   {
    "duration": 111,
    "start_time": "2021-11-16T09:32:10.120Z"
   },
   {
    "duration": 3,
    "start_time": "2021-11-16T09:32:15.732Z"
   },
   {
    "duration": 4,
    "start_time": "2021-11-16T09:32:29.423Z"
   },
   {
    "duration": 3,
    "start_time": "2021-11-16T10:03:03.074Z"
   },
   {
    "duration": 3,
    "start_time": "2021-11-16T10:10:01.288Z"
   },
   {
    "duration": 3,
    "start_time": "2021-11-16T10:10:46.923Z"
   },
   {
    "duration": 121,
    "start_time": "2021-11-16T10:37:46.494Z"
   },
   {
    "duration": 125,
    "start_time": "2021-11-16T10:38:20.632Z"
   },
   {
    "duration": 112,
    "start_time": "2021-11-16T10:46:53.001Z"
   },
   {
    "duration": 110,
    "start_time": "2021-11-16T10:48:25.775Z"
   },
   {
    "duration": 3,
    "start_time": "2021-11-16T10:50:18.720Z"
   },
   {
    "duration": 4,
    "start_time": "2021-11-16T10:50:37.649Z"
   },
   {
    "duration": 2,
    "start_time": "2021-11-16T10:50:51.884Z"
   },
   {
    "duration": 3,
    "start_time": "2021-11-16T10:51:56.237Z"
   },
   {
    "duration": 101,
    "start_time": "2021-11-16T10:53:13.791Z"
   },
   {
    "duration": 3,
    "start_time": "2021-11-16T10:55:59.186Z"
   },
   {
    "duration": 3,
    "start_time": "2021-11-16T10:56:10.751Z"
   },
   {
    "duration": 3,
    "start_time": "2021-11-16T10:56:49.038Z"
   },
   {
    "duration": 3,
    "start_time": "2021-11-16T10:56:49.174Z"
   },
   {
    "duration": 4,
    "start_time": "2021-11-16T10:56:49.414Z"
   },
   {
    "duration": 3,
    "start_time": "2021-11-16T10:56:49.680Z"
   },
   {
    "duration": 3,
    "start_time": "2021-11-16T10:56:50.370Z"
   },
   {
    "duration": 114,
    "start_time": "2021-11-16T10:59:34.518Z"
   },
   {
    "duration": 3,
    "start_time": "2021-11-16T11:01:41.201Z"
   },
   {
    "duration": 116,
    "start_time": "2021-11-16T11:01:48.754Z"
   },
   {
    "duration": 3,
    "start_time": "2021-11-16T11:02:16.685Z"
   },
   {
    "duration": 3,
    "start_time": "2021-11-16T11:02:19.479Z"
   },
   {
    "duration": 3,
    "start_time": "2021-11-16T11:02:47.067Z"
   },
   {
    "duration": 3,
    "start_time": "2021-11-16T11:02:49.353Z"
   },
   {
    "duration": 3,
    "start_time": "2021-11-16T11:03:07.835Z"
   },
   {
    "duration": 3,
    "start_time": "2021-11-16T11:03:07.953Z"
   },
   {
    "duration": 112,
    "start_time": "2021-11-16T11:07:52.072Z"
   },
   {
    "duration": 187,
    "start_time": "2021-11-16T11:09:23.468Z"
   },
   {
    "duration": 4,
    "start_time": "2021-11-16T11:10:01.455Z"
   },
   {
    "duration": 3,
    "start_time": "2021-11-16T11:10:05.069Z"
   },
   {
    "duration": 4,
    "start_time": "2021-11-16T11:10:13.376Z"
   },
   {
    "duration": 3,
    "start_time": "2021-11-16T11:10:14.434Z"
   },
   {
    "duration": 3,
    "start_time": "2021-11-16T11:10:22.853Z"
   },
   {
    "duration": 4,
    "start_time": "2021-11-16T11:27:29.279Z"
   },
   {
    "duration": 4,
    "start_time": "2021-11-16T11:29:08.919Z"
   },
   {
    "duration": 118,
    "start_time": "2021-11-16T11:29:46.703Z"
   },
   {
    "duration": 437,
    "start_time": "2021-11-16T11:36:02.181Z"
   },
   {
    "duration": 157,
    "start_time": "2021-11-16T11:36:14.388Z"
   },
   {
    "duration": 207,
    "start_time": "2021-11-16T11:47:15.898Z"
   },
   {
    "duration": 3,
    "start_time": "2021-11-16T11:53:52.092Z"
   },
   {
    "duration": 3,
    "start_time": "2021-11-16T11:53:52.236Z"
   },
   {
    "duration": 3,
    "start_time": "2021-11-16T11:59:12.005Z"
   },
   {
    "duration": 112,
    "start_time": "2021-11-16T12:00:33.446Z"
   },
   {
    "duration": 3,
    "start_time": "2021-11-16T12:02:14.453Z"
   },
   {
    "duration": 3,
    "start_time": "2021-11-16T12:02:39.512Z"
   },
   {
    "duration": 106,
    "start_time": "2021-11-16T12:03:03.460Z"
   },
   {
    "duration": 3,
    "start_time": "2021-11-17T20:37:21.139Z"
   },
   {
    "duration": 3,
    "start_time": "2021-11-17T20:37:22.229Z"
   },
   {
    "duration": 3,
    "start_time": "2021-11-17T20:38:38.806Z"
   },
   {
    "duration": 3,
    "start_time": "2021-11-17T20:38:41.958Z"
   },
   {
    "duration": 3,
    "start_time": "2021-11-17T20:43:46.551Z"
   },
   {
    "duration": 4,
    "start_time": "2021-11-17T20:58:21.835Z"
   },
   {
    "duration": 3,
    "start_time": "2021-11-17T20:59:21.872Z"
   },
   {
    "duration": 4,
    "start_time": "2021-11-17T20:59:45.352Z"
   },
   {
    "duration": 4,
    "start_time": "2021-11-17T20:59:49.646Z"
   },
   {
    "duration": 159,
    "start_time": "2021-11-17T21:02:26.949Z"
   },
   {
    "duration": 3,
    "start_time": "2021-11-17T21:03:53.461Z"
   },
   {
    "duration": 3,
    "start_time": "2021-11-17T21:03:53.694Z"
   },
   {
    "duration": 3,
    "start_time": "2021-11-17T21:05:28.145Z"
   },
   {
    "duration": 116,
    "start_time": "2021-11-17T21:05:57.787Z"
   },
   {
    "duration": 3,
    "start_time": "2021-11-17T21:06:37.993Z"
   },
   {
    "duration": 3,
    "start_time": "2021-11-17T21:06:38.261Z"
   },
   {
    "duration": 3,
    "start_time": "2021-11-17T21:11:54.358Z"
   },
   {
    "duration": 3,
    "start_time": "2021-11-17T21:12:43.846Z"
   },
   {
    "duration": 4,
    "start_time": "2021-11-17T21:13:08.773Z"
   },
   {
    "duration": 3,
    "start_time": "2021-11-17T21:14:44.441Z"
   },
   {
    "duration": 3,
    "start_time": "2021-11-17T21:15:42.059Z"
   },
   {
    "duration": 4,
    "start_time": "2021-11-17T21:15:51.995Z"
   },
   {
    "duration": 3,
    "start_time": "2021-11-17T21:15:53.923Z"
   },
   {
    "duration": 3,
    "start_time": "2021-11-17T21:15:55.282Z"
   },
   {
    "duration": 3,
    "start_time": "2021-11-17T21:16:28.492Z"
   },
   {
    "duration": 3,
    "start_time": "2021-11-17T21:16:32.603Z"
   },
   {
    "duration": 3,
    "start_time": "2021-11-17T21:17:06.941Z"
   },
   {
    "duration": 98,
    "start_time": "2021-11-17T21:18:05.733Z"
   },
   {
    "duration": 4,
    "start_time": "2021-11-17T21:21:35.255Z"
   },
   {
    "duration": 3,
    "start_time": "2021-11-17T21:21:37.804Z"
   },
   {
    "duration": 4,
    "start_time": "2021-11-17T21:23:06.071Z"
   },
   {
    "duration": 3,
    "start_time": "2021-11-17T21:23:24.799Z"
   },
   {
    "duration": 3,
    "start_time": "2021-11-17T21:23:32.591Z"
   },
   {
    "duration": 98,
    "start_time": "2021-11-17T21:28:31.559Z"
   },
   {
    "duration": 3,
    "start_time": "2021-11-17T21:28:45.448Z"
   },
   {
    "duration": 3,
    "start_time": "2021-11-17T21:29:17.303Z"
   },
   {
    "duration": 3,
    "start_time": "2021-11-17T21:29:29.617Z"
   },
   {
    "duration": 3,
    "start_time": "2021-11-17T21:29:32.681Z"
   },
   {
    "duration": 3,
    "start_time": "2021-11-17T21:36:11.474Z"
   },
   {
    "duration": 3,
    "start_time": "2021-11-17T21:36:14.791Z"
   },
   {
    "duration": 3,
    "start_time": "2021-11-17T21:36:53.943Z"
   },
   {
    "duration": 3,
    "start_time": "2021-11-17T21:36:56.165Z"
   },
   {
    "duration": 4,
    "start_time": "2021-11-17T21:37:16.590Z"
   },
   {
    "duration": 3,
    "start_time": "2021-11-17T21:37:22.702Z"
   },
   {
    "duration": 4,
    "start_time": "2021-11-17T21:38:03.479Z"
   },
   {
    "duration": 3,
    "start_time": "2021-11-17T21:38:08.601Z"
   },
   {
    "duration": 3,
    "start_time": "2021-11-17T21:38:12.928Z"
   },
   {
    "duration": 3,
    "start_time": "2021-11-17T21:38:48.896Z"
   },
   {
    "duration": 2,
    "start_time": "2021-11-17T21:38:49.171Z"
   },
   {
    "duration": 4,
    "start_time": "2021-11-17T21:39:57.889Z"
   },
   {
    "duration": 3,
    "start_time": "2021-11-17T21:39:58.057Z"
   },
   {
    "duration": 3,
    "start_time": "2021-11-17T21:41:20.108Z"
   },
   {
    "duration": 3,
    "start_time": "2021-11-17T21:41:20.629Z"
   },
   {
    "duration": 3,
    "start_time": "2021-11-17T21:42:49.136Z"
   },
   {
    "duration": 3,
    "start_time": "2021-11-17T21:43:15.137Z"
   },
   {
    "duration": 4,
    "start_time": "2021-11-17T21:43:16.766Z"
   },
   {
    "duration": 4,
    "start_time": "2021-11-17T21:43:31.711Z"
   },
   {
    "duration": 3,
    "start_time": "2021-11-17T21:43:36.312Z"
   },
   {
    "duration": 4,
    "start_time": "2021-11-17T21:45:08.825Z"
   },
   {
    "duration": 4,
    "start_time": "2021-11-17T21:45:10.119Z"
   },
   {
    "duration": 4,
    "start_time": "2021-11-17T21:45:13.748Z"
   },
   {
    "duration": 3,
    "start_time": "2021-11-17T21:45:22.219Z"
   },
   {
    "duration": 3,
    "start_time": "2021-11-17T21:45:33.412Z"
   },
   {
    "duration": 2,
    "start_time": "2021-11-17T21:46:01.885Z"
   },
   {
    "duration": 3,
    "start_time": "2021-11-17T21:46:03.628Z"
   },
   {
    "duration": 107,
    "start_time": "2021-11-17T21:47:32.512Z"
   },
   {
    "duration": 103,
    "start_time": "2021-11-17T21:50:36.243Z"
   },
   {
    "duration": 3,
    "start_time": "2021-11-18T06:28:31.440Z"
   },
   {
    "duration": 3,
    "start_time": "2021-11-18T06:29:00.168Z"
   },
   {
    "duration": 3,
    "start_time": "2021-11-18T06:31:27.008Z"
   },
   {
    "duration": 2,
    "start_time": "2021-11-18T06:35:34.288Z"
   },
   {
    "duration": 2,
    "start_time": "2021-11-18T06:38:04.527Z"
   },
   {
    "duration": 879,
    "start_time": "2022-07-05T23:11:38.022Z"
   },
   {
    "duration": 584,
    "start_time": "2022-07-05T23:12:24.172Z"
   },
   {
    "duration": 3,
    "start_time": "2022-07-05T23:12:28.222Z"
   },
   {
    "duration": 52,
    "start_time": "2022-07-06T18:46:37.157Z"
   },
   {
    "duration": 842,
    "start_time": "2022-07-06T18:46:43.110Z"
   },
   {
    "duration": 1405,
    "start_time": "2022-07-06T18:46:43.954Z"
   },
   {
    "duration": 13,
    "start_time": "2022-07-06T18:46:45.360Z"
   },
   {
    "duration": 10,
    "start_time": "2022-07-06T18:46:45.375Z"
   },
   {
    "duration": 5,
    "start_time": "2022-07-06T18:46:45.386Z"
   },
   {
    "duration": 6,
    "start_time": "2022-07-06T18:46:45.392Z"
   },
   {
    "duration": 4,
    "start_time": "2022-07-06T18:46:45.400Z"
   },
   {
    "duration": 9,
    "start_time": "2022-07-06T18:46:45.406Z"
   },
   {
    "duration": 6,
    "start_time": "2022-07-06T18:46:45.416Z"
   },
   {
    "duration": 8,
    "start_time": "2022-07-06T18:46:45.425Z"
   },
   {
    "duration": 6,
    "start_time": "2022-07-06T18:46:45.435Z"
   },
   {
    "duration": 6,
    "start_time": "2022-07-06T18:46:45.443Z"
   },
   {
    "duration": 6,
    "start_time": "2022-07-06T18:46:45.451Z"
   },
   {
    "duration": 8,
    "start_time": "2022-07-06T18:46:45.459Z"
   },
   {
    "duration": 6,
    "start_time": "2022-07-06T18:46:45.470Z"
   },
   {
    "duration": 6,
    "start_time": "2022-07-06T18:46:45.478Z"
   },
   {
    "duration": 7,
    "start_time": "2022-07-06T18:46:45.485Z"
   },
   {
    "duration": 8,
    "start_time": "2022-07-06T18:46:45.494Z"
   },
   {
    "duration": 5,
    "start_time": "2022-07-06T18:46:45.504Z"
   },
   {
    "duration": 5,
    "start_time": "2022-07-06T18:46:45.510Z"
   },
   {
    "duration": 6,
    "start_time": "2022-07-06T18:46:45.516Z"
   },
   {
    "duration": 7,
    "start_time": "2022-07-06T18:46:45.524Z"
   },
   {
    "duration": 5,
    "start_time": "2022-07-06T18:46:45.533Z"
   },
   {
    "duration": 4,
    "start_time": "2022-07-06T18:46:45.540Z"
   },
   {
    "duration": 6,
    "start_time": "2022-07-06T18:46:45.546Z"
   },
   {
    "duration": 5,
    "start_time": "2022-07-06T18:46:45.554Z"
   },
   {
    "duration": 10,
    "start_time": "2022-07-06T18:46:45.560Z"
   },
   {
    "duration": 7,
    "start_time": "2022-07-06T18:46:45.573Z"
   },
   {
    "duration": 18,
    "start_time": "2022-07-06T18:47:03.517Z"
   },
   {
    "duration": 12,
    "start_time": "2022-07-06T18:48:41.588Z"
   },
   {
    "duration": 12,
    "start_time": "2022-07-06T18:48:48.268Z"
   },
   {
    "duration": 11,
    "start_time": "2022-07-06T18:49:02.413Z"
   },
   {
    "duration": 22,
    "start_time": "2022-07-06T18:53:58.197Z"
   },
   {
    "duration": 10,
    "start_time": "2022-07-06T18:54:08.413Z"
   },
   {
    "duration": 17,
    "start_time": "2022-07-06T18:56:18.563Z"
   },
   {
    "duration": 8,
    "start_time": "2022-07-06T18:56:32.182Z"
   },
   {
    "duration": 9,
    "start_time": "2022-07-06T18:57:01.181Z"
   },
   {
    "duration": 22,
    "start_time": "2022-07-06T18:59:23.624Z"
   },
   {
    "duration": 89,
    "start_time": "2022-07-06T19:00:31.464Z"
   },
   {
    "duration": 10,
    "start_time": "2022-07-06T19:00:38.169Z"
   },
   {
    "duration": 14,
    "start_time": "2022-07-06T19:01:34.792Z"
   },
   {
    "duration": 8,
    "start_time": "2022-07-06T19:01:57.090Z"
   },
   {
    "duration": 5,
    "start_time": "2022-07-06T19:02:12.080Z"
   },
   {
    "duration": 117,
    "start_time": "2022-07-06T19:02:33.809Z"
   },
   {
    "duration": 3,
    "start_time": "2022-07-06T19:02:41.512Z"
   },
   {
    "duration": 4,
    "start_time": "2022-07-06T19:02:49.912Z"
   },
   {
    "duration": 11,
    "start_time": "2022-07-06T19:03:43.480Z"
   },
   {
    "duration": 28,
    "start_time": "2022-07-06T19:04:06.807Z"
   },
   {
    "duration": 30,
    "start_time": "2022-07-06T19:04:15.665Z"
   },
   {
    "duration": 27,
    "start_time": "2022-07-06T19:06:05.417Z"
   },
   {
    "duration": 29,
    "start_time": "2022-07-06T19:07:34.759Z"
   },
   {
    "duration": 28,
    "start_time": "2022-07-06T19:08:00.159Z"
   },
   {
    "duration": 28,
    "start_time": "2022-07-06T19:08:18.555Z"
   },
   {
    "duration": 14,
    "start_time": "2022-07-06T19:11:17.417Z"
   },
   {
    "duration": 17,
    "start_time": "2022-07-06T19:11:26.593Z"
   },
   {
    "duration": 8,
    "start_time": "2022-07-06T19:11:40.355Z"
   },
   {
    "duration": 11,
    "start_time": "2022-07-06T19:11:56.577Z"
   },
   {
    "duration": 10,
    "start_time": "2022-07-06T19:12:04.386Z"
   },
   {
    "duration": 11,
    "start_time": "2022-07-06T19:13:25.073Z"
   },
   {
    "duration": 10,
    "start_time": "2022-07-06T19:15:14.662Z"
   },
   {
    "duration": 10,
    "start_time": "2022-07-06T19:17:20.816Z"
   },
   {
    "duration": 8,
    "start_time": "2022-07-06T19:17:34.962Z"
   },
   {
    "duration": 8,
    "start_time": "2022-07-06T19:22:10.567Z"
   },
   {
    "duration": 8,
    "start_time": "2022-07-06T19:47:05.334Z"
   },
   {
    "duration": 24,
    "start_time": "2022-07-06T19:47:16.419Z"
   },
   {
    "duration": 30,
    "start_time": "2022-07-06T19:47:28.346Z"
   },
   {
    "duration": 9,
    "start_time": "2022-07-06T19:51:19.958Z"
   },
   {
    "duration": 17,
    "start_time": "2022-07-06T19:51:29.685Z"
   },
   {
    "duration": 39,
    "start_time": "2022-07-06T19:51:46.623Z"
   },
   {
    "duration": 30,
    "start_time": "2022-07-06T19:51:55.509Z"
   },
   {
    "duration": 27,
    "start_time": "2022-07-06T19:53:00.295Z"
   },
   {
    "duration": 18,
    "start_time": "2022-07-06T19:53:47.086Z"
   },
   {
    "duration": 32,
    "start_time": "2022-07-06T19:55:04.784Z"
   },
   {
    "duration": 28,
    "start_time": "2022-07-06T19:56:34.267Z"
   },
   {
    "duration": 20,
    "start_time": "2022-07-06T19:57:04.874Z"
   },
   {
    "duration": 888,
    "start_time": "2022-07-06T19:57:46.263Z"
   },
   {
    "duration": 325,
    "start_time": "2022-07-06T19:57:47.153Z"
   },
   {
    "duration": 14,
    "start_time": "2022-07-06T19:57:47.480Z"
   },
   {
    "duration": 27,
    "start_time": "2022-07-06T19:57:47.496Z"
   },
   {
    "duration": 11,
    "start_time": "2022-07-06T19:57:47.525Z"
   },
   {
    "duration": 10,
    "start_time": "2022-07-06T19:57:47.538Z"
   },
   {
    "duration": 20,
    "start_time": "2022-07-06T19:57:47.550Z"
   },
   {
    "duration": 32,
    "start_time": "2022-07-06T19:57:47.571Z"
   },
   {
    "duration": 41,
    "start_time": "2022-07-06T19:57:47.605Z"
   },
   {
    "duration": 24,
    "start_time": "2022-07-06T19:57:47.649Z"
   },
   {
    "duration": 36,
    "start_time": "2022-07-06T19:57:47.675Z"
   },
   {
    "duration": 8,
    "start_time": "2022-07-06T19:57:47.713Z"
   },
   {
    "duration": 27,
    "start_time": "2022-07-06T19:57:47.723Z"
   },
   {
    "duration": 47,
    "start_time": "2022-07-06T19:57:47.751Z"
   },
   {
    "duration": 19,
    "start_time": "2022-07-06T19:57:47.800Z"
   },
   {
    "duration": 10,
    "start_time": "2022-07-06T19:57:47.820Z"
   },
   {
    "duration": 31,
    "start_time": "2022-07-06T19:57:47.832Z"
   },
   {
    "duration": 46,
    "start_time": "2022-07-06T19:57:47.866Z"
   },
   {
    "duration": 9,
    "start_time": "2022-07-06T19:57:47.914Z"
   },
   {
    "duration": 110,
    "start_time": "2022-07-06T19:57:47.925Z"
   },
   {
    "duration": 0,
    "start_time": "2022-07-06T19:57:48.037Z"
   },
   {
    "duration": 1,
    "start_time": "2022-07-06T19:57:48.038Z"
   },
   {
    "duration": 0,
    "start_time": "2022-07-06T19:57:48.040Z"
   },
   {
    "duration": 0,
    "start_time": "2022-07-06T19:57:48.041Z"
   },
   {
    "duration": 0,
    "start_time": "2022-07-06T19:57:48.043Z"
   },
   {
    "duration": 0,
    "start_time": "2022-07-06T19:57:48.044Z"
   },
   {
    "duration": 0,
    "start_time": "2022-07-06T19:57:48.046Z"
   },
   {
    "duration": 0,
    "start_time": "2022-07-06T19:57:48.047Z"
   },
   {
    "duration": 0,
    "start_time": "2022-07-06T19:57:48.048Z"
   },
   {
    "duration": 0,
    "start_time": "2022-07-06T19:57:48.049Z"
   },
   {
    "duration": 0,
    "start_time": "2022-07-06T19:57:48.051Z"
   },
   {
    "duration": 0,
    "start_time": "2022-07-06T19:57:48.053Z"
   },
   {
    "duration": 0,
    "start_time": "2022-07-06T19:57:48.054Z"
   },
   {
    "duration": 0,
    "start_time": "2022-07-06T19:57:48.055Z"
   },
   {
    "duration": 24,
    "start_time": "2022-07-06T19:58:28.908Z"
   },
   {
    "duration": 39,
    "start_time": "2022-07-06T19:58:43.108Z"
   },
   {
    "duration": 19,
    "start_time": "2022-07-06T20:00:55.823Z"
   },
   {
    "duration": 21,
    "start_time": "2022-07-06T20:01:25.910Z"
   },
   {
    "duration": 15,
    "start_time": "2022-07-06T20:02:09.413Z"
   },
   {
    "duration": 17,
    "start_time": "2022-07-06T20:02:12.789Z"
   },
   {
    "duration": 9,
    "start_time": "2022-07-06T20:07:24.023Z"
   },
   {
    "duration": 8,
    "start_time": "2022-07-06T20:08:04.245Z"
   },
   {
    "duration": 13,
    "start_time": "2022-07-06T20:52:44.459Z"
   },
   {
    "duration": 9,
    "start_time": "2022-07-06T20:58:22.787Z"
   },
   {
    "duration": 16,
    "start_time": "2022-07-06T20:58:48.619Z"
   },
   {
    "duration": 24,
    "start_time": "2022-07-06T21:02:41.483Z"
   },
   {
    "duration": 24,
    "start_time": "2022-07-06T21:02:54.643Z"
   },
   {
    "duration": 23,
    "start_time": "2022-07-06T21:03:16.524Z"
   },
   {
    "duration": 20,
    "start_time": "2022-07-06T21:03:39.363Z"
   },
   {
    "duration": 30,
    "start_time": "2022-07-06T21:03:56.954Z"
   },
   {
    "duration": 26,
    "start_time": "2022-07-06T21:04:35.013Z"
   },
   {
    "duration": 14,
    "start_time": "2022-07-06T21:04:44.996Z"
   },
   {
    "duration": 13,
    "start_time": "2022-07-06T21:05:15.989Z"
   },
   {
    "duration": 14,
    "start_time": "2022-07-06T21:06:03.268Z"
   },
   {
    "duration": 9,
    "start_time": "2022-07-06T21:08:11.837Z"
   },
   {
    "duration": 14,
    "start_time": "2022-07-06T21:08:20.076Z"
   },
   {
    "duration": 20,
    "start_time": "2022-07-06T21:08:41.940Z"
   },
   {
    "duration": 23,
    "start_time": "2022-07-06T21:09:28.997Z"
   },
   {
    "duration": 20,
    "start_time": "2022-07-06T21:09:32.971Z"
   },
   {
    "duration": 14,
    "start_time": "2022-07-06T21:10:12.596Z"
   },
   {
    "duration": 9,
    "start_time": "2022-07-06T21:10:23.916Z"
   },
   {
    "duration": 20,
    "start_time": "2022-07-06T21:10:33.638Z"
   },
   {
    "duration": 18,
    "start_time": "2022-07-06T21:10:47.964Z"
   },
   {
    "duration": 16,
    "start_time": "2022-07-06T21:12:16.174Z"
   },
   {
    "duration": 19,
    "start_time": "2022-07-06T21:12:23.445Z"
   },
   {
    "duration": 15,
    "start_time": "2022-07-06T21:13:19.117Z"
   },
   {
    "duration": 24,
    "start_time": "2022-07-06T21:13:36.930Z"
   },
   {
    "duration": 19,
    "start_time": "2022-07-06T21:15:33.285Z"
   },
   {
    "duration": 31,
    "start_time": "2022-07-06T21:15:43.334Z"
   },
   {
    "duration": 29,
    "start_time": "2022-07-06T21:15:57.950Z"
   },
   {
    "duration": 8,
    "start_time": "2022-07-06T21:23:56.094Z"
   },
   {
    "duration": 23,
    "start_time": "2022-07-06T21:24:05.175Z"
   },
   {
    "duration": 23,
    "start_time": "2022-07-06T21:24:22.662Z"
   },
   {
    "duration": 22,
    "start_time": "2022-07-06T21:24:28.488Z"
   },
   {
    "duration": 106,
    "start_time": "2022-07-06T21:24:49.568Z"
   },
   {
    "duration": 125,
    "start_time": "2022-07-06T21:25:20.568Z"
   },
   {
    "duration": 182,
    "start_time": "2022-07-06T21:25:38.806Z"
   },
   {
    "duration": 4,
    "start_time": "2022-07-06T21:25:47.370Z"
   },
   {
    "duration": 32,
    "start_time": "2022-07-06T21:25:51.303Z"
   },
   {
    "duration": 14,
    "start_time": "2022-07-06T21:26:59.487Z"
   },
   {
    "duration": 13,
    "start_time": "2022-07-06T21:27:27.391Z"
   },
   {
    "duration": 12,
    "start_time": "2022-07-06T21:27:45.351Z"
   },
   {
    "duration": 12,
    "start_time": "2022-07-06T21:27:52.456Z"
   },
   {
    "duration": 9,
    "start_time": "2022-07-06T21:30:42.840Z"
   },
   {
    "duration": 29,
    "start_time": "2022-07-06T21:30:59.770Z"
   },
   {
    "duration": 21,
    "start_time": "2022-07-06T21:32:22.929Z"
   },
   {
    "duration": 25,
    "start_time": "2022-07-06T21:32:56.834Z"
   },
   {
    "duration": 22,
    "start_time": "2022-07-06T21:33:12.209Z"
   },
   {
    "duration": 18,
    "start_time": "2022-07-06T21:33:24.562Z"
   },
   {
    "duration": 9,
    "start_time": "2022-07-06T21:33:35.560Z"
   },
   {
    "duration": 28,
    "start_time": "2022-07-06T21:33:46.316Z"
   },
   {
    "duration": 15,
    "start_time": "2022-07-06T21:34:18.891Z"
   },
   {
    "duration": 25,
    "start_time": "2022-07-06T21:34:31.266Z"
   },
   {
    "duration": 83,
    "start_time": "2022-07-06T21:35:33.354Z"
   },
   {
    "duration": 79,
    "start_time": "2022-07-06T21:37:19.387Z"
   },
   {
    "duration": 9,
    "start_time": "2022-07-06T21:37:28.690Z"
   },
   {
    "duration": 6,
    "start_time": "2022-07-06T21:37:45.307Z"
   },
   {
    "duration": 8,
    "start_time": "2022-07-06T21:38:05.963Z"
   },
   {
    "duration": 4,
    "start_time": "2022-07-06T21:38:21.906Z"
   },
   {
    "duration": 5,
    "start_time": "2022-07-06T21:38:35.522Z"
   },
   {
    "duration": 6,
    "start_time": "2022-07-06T21:38:46.154Z"
   },
   {
    "duration": 7,
    "start_time": "2022-07-06T21:38:59.403Z"
   },
   {
    "duration": 11,
    "start_time": "2022-07-06T21:39:08.788Z"
   },
   {
    "duration": 11,
    "start_time": "2022-07-06T21:41:16.171Z"
   },
   {
    "duration": 12,
    "start_time": "2022-07-06T21:42:25.193Z"
   },
   {
    "duration": 33,
    "start_time": "2022-07-06T21:42:35.564Z"
   },
   {
    "duration": 870,
    "start_time": "2022-07-06T21:42:52.068Z"
   },
   {
    "duration": 315,
    "start_time": "2022-07-06T21:42:52.940Z"
   },
   {
    "duration": 13,
    "start_time": "2022-07-06T21:42:53.257Z"
   },
   {
    "duration": 18,
    "start_time": "2022-07-06T21:42:53.272Z"
   },
   {
    "duration": 11,
    "start_time": "2022-07-06T21:42:53.292Z"
   },
   {
    "duration": 15,
    "start_time": "2022-07-06T21:42:53.304Z"
   },
   {
    "duration": 20,
    "start_time": "2022-07-06T21:42:53.321Z"
   },
   {
    "duration": 10,
    "start_time": "2022-07-06T21:42:53.343Z"
   },
   {
    "duration": 58,
    "start_time": "2022-07-06T21:42:53.354Z"
   },
   {
    "duration": 25,
    "start_time": "2022-07-06T21:42:53.414Z"
   },
   {
    "duration": 15,
    "start_time": "2022-07-06T21:42:53.441Z"
   },
   {
    "duration": 7,
    "start_time": "2022-07-06T21:42:53.458Z"
   },
   {
    "duration": 52,
    "start_time": "2022-07-06T21:42:53.467Z"
   },
   {
    "duration": 19,
    "start_time": "2022-07-06T21:42:53.521Z"
   },
   {
    "duration": 18,
    "start_time": "2022-07-06T21:42:53.542Z"
   },
   {
    "duration": 8,
    "start_time": "2022-07-06T21:42:53.562Z"
   },
   {
    "duration": 61,
    "start_time": "2022-07-06T21:42:53.571Z"
   },
   {
    "duration": 23,
    "start_time": "2022-07-06T21:42:53.634Z"
   },
   {
    "duration": 9,
    "start_time": "2022-07-06T21:42:53.659Z"
   },
   {
    "duration": 30,
    "start_time": "2022-07-06T21:42:53.699Z"
   },
   {
    "duration": 32,
    "start_time": "2022-07-06T21:42:53.730Z"
   },
   {
    "duration": 41,
    "start_time": "2022-07-06T21:42:53.764Z"
   },
   {
    "duration": 23,
    "start_time": "2022-07-06T21:42:53.807Z"
   },
   {
    "duration": 31,
    "start_time": "2022-07-06T21:42:53.832Z"
   },
   {
    "duration": 47,
    "start_time": "2022-07-06T21:42:53.865Z"
   },
   {
    "duration": 2,
    "start_time": "2022-07-06T21:42:53.914Z"
   },
   {
    "duration": 6,
    "start_time": "2022-07-06T21:42:53.918Z"
   },
   {
    "duration": 3,
    "start_time": "2022-07-06T21:42:53.927Z"
   },
   {
    "duration": 6,
    "start_time": "2022-07-06T21:42:53.932Z"
   },
   {
    "duration": 6,
    "start_time": "2022-07-06T21:42:53.940Z"
   },
   {
    "duration": 5,
    "start_time": "2022-07-06T21:42:53.948Z"
   },
   {
    "duration": 6,
    "start_time": "2022-07-06T21:42:53.955Z"
   },
   {
    "duration": 5,
    "start_time": "2022-07-06T21:42:53.963Z"
   },
   {
    "duration": 5,
    "start_time": "2022-07-06T21:42:53.970Z"
   },
   {
    "duration": 95,
    "start_time": "2022-07-06T21:43:44.537Z"
   },
   {
    "duration": 23,
    "start_time": "2022-07-06T21:44:11.121Z"
   },
   {
    "duration": 806,
    "start_time": "2022-07-06T21:44:48.350Z"
   },
   {
    "duration": 318,
    "start_time": "2022-07-06T21:44:49.158Z"
   },
   {
    "duration": 12,
    "start_time": "2022-07-06T21:44:49.478Z"
   },
   {
    "duration": 20,
    "start_time": "2022-07-06T21:44:49.492Z"
   },
   {
    "duration": 11,
    "start_time": "2022-07-06T21:44:49.514Z"
   },
   {
    "duration": 20,
    "start_time": "2022-07-06T21:44:49.526Z"
   },
   {
    "duration": 24,
    "start_time": "2022-07-06T21:44:49.547Z"
   },
   {
    "duration": 10,
    "start_time": "2022-07-06T21:44:49.573Z"
   },
   {
    "duration": 45,
    "start_time": "2022-07-06T21:44:49.599Z"
   },
   {
    "duration": 29,
    "start_time": "2022-07-06T21:44:49.648Z"
   },
   {
    "duration": 34,
    "start_time": "2022-07-06T21:44:49.679Z"
   },
   {
    "duration": 7,
    "start_time": "2022-07-06T21:44:49.715Z"
   },
   {
    "duration": 27,
    "start_time": "2022-07-06T21:44:49.724Z"
   },
   {
    "duration": 52,
    "start_time": "2022-07-06T21:44:49.753Z"
   },
   {
    "duration": 17,
    "start_time": "2022-07-06T21:44:49.807Z"
   },
   {
    "duration": 9,
    "start_time": "2022-07-06T21:44:49.826Z"
   },
   {
    "duration": 32,
    "start_time": "2022-07-06T21:44:49.837Z"
   },
   {
    "duration": 45,
    "start_time": "2022-07-06T21:44:49.871Z"
   },
   {
    "duration": 9,
    "start_time": "2022-07-06T21:44:49.918Z"
   },
   {
    "duration": 28,
    "start_time": "2022-07-06T21:44:49.929Z"
   },
   {
    "duration": 53,
    "start_time": "2022-07-06T21:44:49.959Z"
   },
   {
    "duration": 21,
    "start_time": "2022-07-06T21:44:50.014Z"
   },
   {
    "duration": 25,
    "start_time": "2022-07-06T21:44:50.036Z"
   },
   {
    "duration": 58,
    "start_time": "2022-07-06T21:44:50.063Z"
   },
   {
    "duration": 20,
    "start_time": "2022-07-06T21:44:50.123Z"
   },
   {
    "duration": 3,
    "start_time": "2022-07-06T21:44:50.145Z"
   },
   {
    "duration": 10,
    "start_time": "2022-07-06T21:44:50.150Z"
   },
   {
    "duration": 3,
    "start_time": "2022-07-06T21:44:50.164Z"
   },
   {
    "duration": 29,
    "start_time": "2022-07-06T21:44:50.169Z"
   },
   {
    "duration": 6,
    "start_time": "2022-07-06T21:44:50.200Z"
   },
   {
    "duration": 5,
    "start_time": "2022-07-06T21:44:50.208Z"
   },
   {
    "duration": 5,
    "start_time": "2022-07-06T21:44:50.215Z"
   },
   {
    "duration": 6,
    "start_time": "2022-07-06T21:44:50.221Z"
   },
   {
    "duration": 5,
    "start_time": "2022-07-06T21:44:50.229Z"
   },
   {
    "duration": 21,
    "start_time": "2022-07-06T21:49:43.614Z"
   },
   {
    "duration": 809,
    "start_time": "2022-07-07T18:07:41.779Z"
   },
   {
    "duration": 741,
    "start_time": "2022-07-07T18:07:42.590Z"
   },
   {
    "duration": 12,
    "start_time": "2022-07-07T18:07:43.333Z"
   },
   {
    "duration": 72,
    "start_time": "2022-07-07T18:07:43.347Z"
   },
   {
    "duration": 20,
    "start_time": "2022-07-07T18:07:43.421Z"
   },
   {
    "duration": 50,
    "start_time": "2022-07-07T18:07:43.443Z"
   },
   {
    "duration": 40,
    "start_time": "2022-07-07T18:07:43.495Z"
   },
   {
    "duration": 55,
    "start_time": "2022-07-07T18:07:43.536Z"
   },
   {
    "duration": 78,
    "start_time": "2022-07-07T18:07:43.594Z"
   },
   {
    "duration": 25,
    "start_time": "2022-07-07T18:07:43.674Z"
   },
   {
    "duration": 22,
    "start_time": "2022-07-07T18:07:43.700Z"
   },
   {
    "duration": 19,
    "start_time": "2022-07-07T18:07:43.724Z"
   },
   {
    "duration": 63,
    "start_time": "2022-07-07T18:07:43.744Z"
   },
   {
    "duration": 25,
    "start_time": "2022-07-07T18:07:43.810Z"
   },
   {
    "duration": 20,
    "start_time": "2022-07-07T18:07:43.837Z"
   },
   {
    "duration": 50,
    "start_time": "2022-07-07T18:07:43.859Z"
   },
   {
    "duration": 50,
    "start_time": "2022-07-07T18:07:43.910Z"
   },
   {
    "duration": 42,
    "start_time": "2022-07-07T18:07:43.962Z"
   },
   {
    "duration": 23,
    "start_time": "2022-07-07T18:07:44.007Z"
   },
   {
    "duration": 54,
    "start_time": "2022-07-07T18:07:44.032Z"
   },
   {
    "duration": 58,
    "start_time": "2022-07-07T18:07:44.088Z"
   },
   {
    "duration": 33,
    "start_time": "2022-07-07T18:07:44.148Z"
   },
   {
    "duration": 43,
    "start_time": "2022-07-07T18:07:44.184Z"
   },
   {
    "duration": 50,
    "start_time": "2022-07-07T18:07:44.229Z"
   },
   {
    "duration": 101,
    "start_time": "2022-07-07T18:07:44.282Z"
   },
   {
    "duration": 0,
    "start_time": "2022-07-07T18:07:44.385Z"
   },
   {
    "duration": 0,
    "start_time": "2022-07-07T18:07:44.387Z"
   },
   {
    "duration": 0,
    "start_time": "2022-07-07T18:07:44.388Z"
   },
   {
    "duration": 0,
    "start_time": "2022-07-07T18:07:44.389Z"
   },
   {
    "duration": 0,
    "start_time": "2022-07-07T18:07:44.390Z"
   },
   {
    "duration": 0,
    "start_time": "2022-07-07T18:07:44.391Z"
   },
   {
    "duration": 0,
    "start_time": "2022-07-07T18:07:44.392Z"
   },
   {
    "duration": 0,
    "start_time": "2022-07-07T18:07:44.393Z"
   },
   {
    "duration": 0,
    "start_time": "2022-07-07T18:07:44.394Z"
   },
   {
    "duration": 12,
    "start_time": "2022-07-07T18:09:02.475Z"
   },
   {
    "duration": 14,
    "start_time": "2022-07-07T18:09:41.351Z"
   },
   {
    "duration": 20,
    "start_time": "2022-07-07T18:09:47.598Z"
   },
   {
    "duration": 6,
    "start_time": "2022-07-07T18:30:48.463Z"
   },
   {
    "duration": 65,
    "start_time": "2022-07-07T18:30:52.961Z"
   },
   {
    "duration": 10,
    "start_time": "2022-07-07T18:30:57.840Z"
   },
   {
    "duration": 10,
    "start_time": "2022-07-07T18:31:12.810Z"
   },
   {
    "duration": 10,
    "start_time": "2022-07-07T18:31:22.178Z"
   },
   {
    "duration": 33,
    "start_time": "2022-07-07T18:33:15.745Z"
   },
   {
    "duration": 40,
    "start_time": "2022-07-07T18:33:36.262Z"
   },
   {
    "duration": 26,
    "start_time": "2022-07-07T18:33:58.146Z"
   },
   {
    "duration": 28,
    "start_time": "2022-07-07T18:34:07.776Z"
   },
   {
    "duration": 35,
    "start_time": "2022-07-07T18:34:24.704Z"
   },
   {
    "duration": 34,
    "start_time": "2022-07-07T18:36:42.948Z"
   },
   {
    "duration": 27,
    "start_time": "2022-07-07T18:37:04.251Z"
   },
   {
    "duration": 20,
    "start_time": "2022-07-07T18:37:29.427Z"
   },
   {
    "duration": 16,
    "start_time": "2022-07-07T18:38:19.507Z"
   },
   {
    "duration": 15,
    "start_time": "2022-07-07T18:38:25.434Z"
   },
   {
    "duration": 20,
    "start_time": "2022-07-07T18:38:37.189Z"
   },
   {
    "duration": 873,
    "start_time": "2022-07-07T18:38:45.082Z"
   },
   {
    "duration": 344,
    "start_time": "2022-07-07T18:38:45.957Z"
   },
   {
    "duration": 19,
    "start_time": "2022-07-07T18:38:46.304Z"
   },
   {
    "duration": 75,
    "start_time": "2022-07-07T18:38:46.328Z"
   },
   {
    "duration": 40,
    "start_time": "2022-07-07T18:38:46.406Z"
   },
   {
    "duration": 71,
    "start_time": "2022-07-07T18:38:46.448Z"
   },
   {
    "duration": 52,
    "start_time": "2022-07-07T18:38:46.521Z"
   },
   {
    "duration": 36,
    "start_time": "2022-07-07T18:38:46.576Z"
   },
   {
    "duration": 87,
    "start_time": "2022-07-07T18:38:46.614Z"
   },
   {
    "duration": 24,
    "start_time": "2022-07-07T18:38:46.704Z"
   },
   {
    "duration": 15,
    "start_time": "2022-07-07T18:38:46.731Z"
   },
   {
    "duration": 28,
    "start_time": "2022-07-07T18:38:46.748Z"
   },
   {
    "duration": 44,
    "start_time": "2022-07-07T18:38:46.780Z"
   },
   {
    "duration": 20,
    "start_time": "2022-07-07T18:38:46.827Z"
   },
   {
    "duration": 34,
    "start_time": "2022-07-07T18:38:46.849Z"
   },
   {
    "duration": 26,
    "start_time": "2022-07-07T18:38:46.885Z"
   },
   {
    "duration": 30,
    "start_time": "2022-07-07T18:38:46.913Z"
   },
   {
    "duration": 28,
    "start_time": "2022-07-07T18:38:46.945Z"
   },
   {
    "duration": 25,
    "start_time": "2022-07-07T18:38:46.978Z"
   },
   {
    "duration": 36,
    "start_time": "2022-07-07T18:38:47.005Z"
   },
   {
    "duration": 34,
    "start_time": "2022-07-07T18:38:47.044Z"
   },
   {
    "duration": 24,
    "start_time": "2022-07-07T18:38:47.080Z"
   },
   {
    "duration": 28,
    "start_time": "2022-07-07T18:38:47.106Z"
   },
   {
    "duration": 61,
    "start_time": "2022-07-07T18:38:47.136Z"
   },
   {
    "duration": 20,
    "start_time": "2022-07-07T18:38:47.199Z"
   },
   {
    "duration": 33,
    "start_time": "2022-07-07T18:38:47.221Z"
   },
   {
    "duration": 64,
    "start_time": "2022-07-07T18:38:47.256Z"
   },
   {
    "duration": 25,
    "start_time": "2022-07-07T18:38:47.324Z"
   },
   {
    "duration": 37,
    "start_time": "2022-07-07T18:38:47.351Z"
   },
   {
    "duration": 27,
    "start_time": "2022-07-07T18:38:47.391Z"
   },
   {
    "duration": 25,
    "start_time": "2022-07-07T18:38:47.420Z"
   },
   {
    "duration": 63,
    "start_time": "2022-07-07T18:38:47.446Z"
   },
   {
    "duration": 22,
    "start_time": "2022-07-07T18:38:47.511Z"
   },
   {
    "duration": 18,
    "start_time": "2022-07-07T18:38:47.535Z"
   },
   {
    "duration": 104,
    "start_time": "2022-07-07T20:57:08.557Z"
   },
   {
    "duration": 1071,
    "start_time": "2022-07-07T20:57:15.793Z"
   },
   {
    "duration": 1462,
    "start_time": "2022-07-07T20:57:16.876Z"
   },
   {
    "duration": 27,
    "start_time": "2022-07-07T20:57:18.345Z"
   },
   {
    "duration": 55,
    "start_time": "2022-07-07T20:57:18.379Z"
   },
   {
    "duration": 23,
    "start_time": "2022-07-07T20:57:18.438Z"
   },
   {
    "duration": 57,
    "start_time": "2022-07-07T20:57:18.473Z"
   },
   {
    "duration": 53,
    "start_time": "2022-07-07T20:57:18.533Z"
   },
   {
    "duration": 38,
    "start_time": "2022-07-07T20:57:18.589Z"
   },
   {
    "duration": 83,
    "start_time": "2022-07-07T20:57:18.629Z"
   },
   {
    "duration": 35,
    "start_time": "2022-07-07T20:57:18.716Z"
   },
   {
    "duration": 54,
    "start_time": "2022-07-07T20:57:18.754Z"
   },
   {
    "duration": 22,
    "start_time": "2022-07-07T20:57:18.810Z"
   },
   {
    "duration": 50,
    "start_time": "2022-07-07T20:57:18.835Z"
   },
   {
    "duration": 42,
    "start_time": "2022-07-07T20:57:18.891Z"
   },
   {
    "duration": 43,
    "start_time": "2022-07-07T20:57:18.936Z"
   },
   {
    "duration": 50,
    "start_time": "2022-07-07T20:57:18.983Z"
   },
   {
    "duration": 65,
    "start_time": "2022-07-07T20:57:19.036Z"
   },
   {
    "duration": 40,
    "start_time": "2022-07-07T20:57:19.103Z"
   },
   {
    "duration": 1114,
    "start_time": "2022-07-07T20:57:40.989Z"
   },
   {
    "duration": 414,
    "start_time": "2022-07-07T20:57:42.107Z"
   },
   {
    "duration": 17,
    "start_time": "2022-07-07T20:57:42.524Z"
   },
   {
    "duration": 36,
    "start_time": "2022-07-07T20:57:42.544Z"
   },
   {
    "duration": 66,
    "start_time": "2022-07-07T20:57:42.583Z"
   },
   {
    "duration": 92,
    "start_time": "2022-07-07T20:57:42.652Z"
   },
   {
    "duration": 44,
    "start_time": "2022-07-07T20:57:42.746Z"
   },
   {
    "duration": 58,
    "start_time": "2022-07-07T20:57:42.792Z"
   },
   {
    "duration": 130,
    "start_time": "2022-07-07T20:57:42.852Z"
   },
   {
    "duration": 38,
    "start_time": "2022-07-07T20:57:42.984Z"
   },
   {
    "duration": 21,
    "start_time": "2022-07-07T20:57:43.028Z"
   },
   {
    "duration": 21,
    "start_time": "2022-07-07T20:57:43.051Z"
   },
   {
    "duration": 74,
    "start_time": "2022-07-07T20:57:43.078Z"
   },
   {
    "duration": 28,
    "start_time": "2022-07-07T20:57:43.157Z"
   },
   {
    "duration": 65,
    "start_time": "2022-07-07T20:57:43.188Z"
   },
   {
    "duration": 26,
    "start_time": "2022-07-07T20:57:43.256Z"
   },
   {
    "duration": 110,
    "start_time": "2022-07-07T20:57:43.286Z"
   },
   {
    "duration": 30,
    "start_time": "2022-07-07T20:57:43.401Z"
   },
   {
    "duration": 17,
    "start_time": "2022-07-07T20:57:43.434Z"
   },
   {
    "duration": 47,
    "start_time": "2022-07-07T20:57:43.454Z"
   },
   {
    "duration": 72,
    "start_time": "2022-07-07T20:57:43.503Z"
   },
   {
    "duration": 32,
    "start_time": "2022-07-07T20:57:43.578Z"
   },
   {
    "duration": 46,
    "start_time": "2022-07-07T20:57:43.612Z"
   },
   {
    "duration": 24,
    "start_time": "2022-07-07T20:57:43.666Z"
   },
   {
    "duration": 207,
    "start_time": "2022-07-07T20:57:43.697Z"
   },
   {
    "duration": 0,
    "start_time": "2022-07-07T20:57:43.907Z"
   },
   {
    "duration": 0,
    "start_time": "2022-07-07T20:57:43.909Z"
   },
   {
    "duration": 0,
    "start_time": "2022-07-07T20:57:43.910Z"
   },
   {
    "duration": 0,
    "start_time": "2022-07-07T20:57:43.911Z"
   },
   {
    "duration": 0,
    "start_time": "2022-07-07T20:57:43.912Z"
   },
   {
    "duration": 0,
    "start_time": "2022-07-07T20:57:43.914Z"
   },
   {
    "duration": 0,
    "start_time": "2022-07-07T20:57:43.916Z"
   },
   {
    "duration": 0,
    "start_time": "2022-07-07T20:57:43.918Z"
   },
   {
    "duration": 0,
    "start_time": "2022-07-07T20:57:43.919Z"
   },
   {
    "duration": 1,
    "start_time": "2022-07-07T20:57:43.920Z"
   },
   {
    "duration": 14,
    "start_time": "2022-07-07T20:57:55.088Z"
   },
   {
    "duration": 33,
    "start_time": "2022-07-07T20:58:06.915Z"
   },
   {
    "duration": 16,
    "start_time": "2022-07-07T20:59:38.317Z"
   },
   {
    "duration": 24,
    "start_time": "2022-07-07T21:00:41.692Z"
   },
   {
    "duration": 86,
    "start_time": "2022-07-07T21:02:23.757Z"
   },
   {
    "duration": 27,
    "start_time": "2022-07-07T21:02:38.847Z"
   },
   {
    "duration": 47,
    "start_time": "2022-07-07T21:09:04.448Z"
   },
   {
    "duration": 6,
    "start_time": "2022-07-07T21:14:53.307Z"
   },
   {
    "duration": 22,
    "start_time": "2022-07-07T21:15:04.992Z"
   },
   {
    "duration": 27,
    "start_time": "2022-07-07T21:23:03.755Z"
   },
   {
    "duration": 4,
    "start_time": "2022-07-07T21:23:44.924Z"
   },
   {
    "duration": 16,
    "start_time": "2022-07-07T21:23:54.013Z"
   },
   {
    "duration": 3,
    "start_time": "2022-07-07T21:24:53.453Z"
   },
   {
    "duration": 15,
    "start_time": "2022-07-07T21:24:59.228Z"
   },
   {
    "duration": 20,
    "start_time": "2022-07-07T21:26:11.598Z"
   },
   {
    "duration": 6,
    "start_time": "2022-07-07T21:27:02.984Z"
   },
   {
    "duration": 8,
    "start_time": "2022-07-07T21:27:10.595Z"
   },
   {
    "duration": 899,
    "start_time": "2022-07-07T21:27:37.541Z"
   },
   {
    "duration": 332,
    "start_time": "2022-07-07T21:27:38.443Z"
   },
   {
    "duration": 21,
    "start_time": "2022-07-07T21:27:38.781Z"
   },
   {
    "duration": 26,
    "start_time": "2022-07-07T21:27:38.805Z"
   },
   {
    "duration": 12,
    "start_time": "2022-07-07T21:27:38.833Z"
   },
   {
    "duration": 27,
    "start_time": "2022-07-07T21:27:38.846Z"
   },
   {
    "duration": 43,
    "start_time": "2022-07-07T21:27:38.875Z"
   },
   {
    "duration": 20,
    "start_time": "2022-07-07T21:27:38.921Z"
   },
   {
    "duration": 79,
    "start_time": "2022-07-07T21:27:38.944Z"
   },
   {
    "duration": 23,
    "start_time": "2022-07-07T21:27:39.026Z"
   },
   {
    "duration": 39,
    "start_time": "2022-07-07T21:27:39.051Z"
   },
   {
    "duration": 17,
    "start_time": "2022-07-07T21:27:39.092Z"
   },
   {
    "duration": 26,
    "start_time": "2022-07-07T21:27:39.111Z"
   },
   {
    "duration": 27,
    "start_time": "2022-07-07T21:27:39.139Z"
   },
   {
    "duration": 35,
    "start_time": "2022-07-07T21:27:39.167Z"
   },
   {
    "duration": 9,
    "start_time": "2022-07-07T21:27:39.203Z"
   },
   {
    "duration": 32,
    "start_time": "2022-07-07T21:27:39.214Z"
   },
   {
    "duration": 36,
    "start_time": "2022-07-07T21:27:39.248Z"
   },
   {
    "duration": 21,
    "start_time": "2022-07-07T21:27:39.289Z"
   },
   {
    "duration": 33,
    "start_time": "2022-07-07T21:27:39.312Z"
   },
   {
    "duration": 42,
    "start_time": "2022-07-07T21:27:39.347Z"
   },
   {
    "duration": 20,
    "start_time": "2022-07-07T21:27:39.393Z"
   },
   {
    "duration": 20,
    "start_time": "2022-07-07T21:27:39.414Z"
   },
   {
    "duration": 3,
    "start_time": "2022-07-07T21:27:39.436Z"
   },
   {
    "duration": 40,
    "start_time": "2022-07-07T21:27:39.465Z"
   },
   {
    "duration": 2,
    "start_time": "2022-07-07T21:27:39.507Z"
   },
   {
    "duration": 7,
    "start_time": "2022-07-07T21:27:39.511Z"
   },
   {
    "duration": 4,
    "start_time": "2022-07-07T21:27:39.523Z"
   },
   {
    "duration": 9,
    "start_time": "2022-07-07T21:27:39.529Z"
   },
   {
    "duration": 19,
    "start_time": "2022-07-07T21:27:39.541Z"
   },
   {
    "duration": 36,
    "start_time": "2022-07-07T21:27:39.562Z"
   },
   {
    "duration": 11,
    "start_time": "2022-07-07T21:27:39.600Z"
   },
   {
    "duration": 4,
    "start_time": "2022-07-07T21:27:39.613Z"
   },
   {
    "duration": 7,
    "start_time": "2022-07-07T21:27:39.618Z"
   },
   {
    "duration": 5,
    "start_time": "2022-07-07T21:27:39.627Z"
   },
   {
    "duration": 9,
    "start_time": "2022-07-07T21:27:39.633Z"
   },
   {
    "duration": 19,
    "start_time": "2022-07-07T21:29:04.524Z"
   },
   {
    "duration": 4,
    "start_time": "2022-07-07T21:29:22.283Z"
   },
   {
    "duration": 3,
    "start_time": "2022-07-07T21:29:32.955Z"
   },
   {
    "duration": 2,
    "start_time": "2022-07-07T21:29:34.130Z"
   },
   {
    "duration": 146,
    "start_time": "2022-07-07T21:30:42.060Z"
   },
   {
    "duration": 13,
    "start_time": "2022-07-07T21:30:55.819Z"
   },
   {
    "duration": 18,
    "start_time": "2022-07-07T21:32:42.983Z"
   },
   {
    "duration": 60,
    "start_time": "2022-07-07T21:48:45.263Z"
   },
   {
    "duration": 11,
    "start_time": "2022-07-07T21:50:25.743Z"
   },
   {
    "duration": 10,
    "start_time": "2022-07-07T21:51:59.632Z"
   },
   {
    "duration": 30,
    "start_time": "2022-07-07T21:52:07.704Z"
   },
   {
    "duration": 13,
    "start_time": "2022-07-07T21:52:33.033Z"
   },
   {
    "duration": 21,
    "start_time": "2022-07-07T21:52:41.979Z"
   },
   {
    "duration": 21,
    "start_time": "2022-07-07T21:53:07.929Z"
   },
   {
    "duration": 41,
    "start_time": "2022-07-07T21:53:16.937Z"
   },
   {
    "duration": 858,
    "start_time": "2022-07-11T16:16:16.510Z"
   },
   {
    "duration": 614,
    "start_time": "2022-07-11T16:16:17.371Z"
   },
   {
    "duration": 12,
    "start_time": "2022-07-11T16:16:17.986Z"
   },
   {
    "duration": 20,
    "start_time": "2022-07-11T16:16:18.000Z"
   },
   {
    "duration": 11,
    "start_time": "2022-07-11T16:16:18.021Z"
   },
   {
    "duration": 14,
    "start_time": "2022-07-11T16:16:18.034Z"
   },
   {
    "duration": 25,
    "start_time": "2022-07-11T16:16:18.050Z"
   },
   {
    "duration": 9,
    "start_time": "2022-07-11T16:16:18.077Z"
   },
   {
    "duration": 59,
    "start_time": "2022-07-11T16:16:18.088Z"
   },
   {
    "duration": 22,
    "start_time": "2022-07-11T16:16:18.150Z"
   },
   {
    "duration": 15,
    "start_time": "2022-07-11T16:16:18.174Z"
   },
   {
    "duration": 8,
    "start_time": "2022-07-11T16:16:18.191Z"
   },
   {
    "duration": 36,
    "start_time": "2022-07-11T16:16:18.224Z"
   },
   {
    "duration": 16,
    "start_time": "2022-07-11T16:16:18.262Z"
   },
   {
    "duration": 30,
    "start_time": "2022-07-11T16:16:18.280Z"
   },
   {
    "duration": 20,
    "start_time": "2022-07-11T16:16:18.312Z"
   },
   {
    "duration": 55,
    "start_time": "2022-07-11T16:16:18.334Z"
   },
   {
    "duration": 36,
    "start_time": "2022-07-11T16:16:18.391Z"
   },
   {
    "duration": 12,
    "start_time": "2022-07-11T16:16:18.429Z"
   },
   {
    "duration": 34,
    "start_time": "2022-07-11T16:16:18.443Z"
   },
   {
    "duration": 26,
    "start_time": "2022-07-11T16:16:18.478Z"
   },
   {
    "duration": 41,
    "start_time": "2022-07-11T16:16:18.505Z"
   },
   {
    "duration": 21,
    "start_time": "2022-07-11T16:16:18.548Z"
   },
   {
    "duration": 3,
    "start_time": "2022-07-11T16:16:18.571Z"
   },
   {
    "duration": 7,
    "start_time": "2022-07-11T16:16:18.576Z"
   },
   {
    "duration": 62,
    "start_time": "2022-07-11T16:16:18.585Z"
   },
   {
    "duration": 18,
    "start_time": "2022-07-11T16:16:18.648Z"
   },
   {
    "duration": 3,
    "start_time": "2022-07-11T16:16:18.669Z"
   },
   {
    "duration": 8,
    "start_time": "2022-07-11T16:16:18.674Z"
   },
   {
    "duration": 6,
    "start_time": "2022-07-11T16:16:18.684Z"
   },
   {
    "duration": 7,
    "start_time": "2022-07-11T16:16:18.692Z"
   },
   {
    "duration": 5,
    "start_time": "2022-07-11T16:16:18.723Z"
   },
   {
    "duration": 8,
    "start_time": "2022-07-11T16:16:18.729Z"
   },
   {
    "duration": 6,
    "start_time": "2022-07-11T16:16:18.739Z"
   },
   {
    "duration": 6,
    "start_time": "2022-07-11T16:16:18.746Z"
   },
   {
    "duration": 8,
    "start_time": "2022-07-11T16:16:18.753Z"
   },
   {
    "duration": 4,
    "start_time": "2022-07-11T16:23:46.136Z"
   },
   {
    "duration": 18,
    "start_time": "2022-07-11T16:23:58.304Z"
   },
   {
    "duration": 88,
    "start_time": "2022-07-11T16:25:01.010Z"
   },
   {
    "duration": 11,
    "start_time": "2022-07-11T16:26:03.196Z"
   },
   {
    "duration": 853,
    "start_time": "2022-07-11T16:26:18.205Z"
   },
   {
    "duration": 287,
    "start_time": "2022-07-11T16:26:19.060Z"
   },
   {
    "duration": 12,
    "start_time": "2022-07-11T16:26:19.349Z"
   },
   {
    "duration": 21,
    "start_time": "2022-07-11T16:26:19.363Z"
   },
   {
    "duration": 16,
    "start_time": "2022-07-11T16:26:19.387Z"
   },
   {
    "duration": 29,
    "start_time": "2022-07-11T16:26:19.405Z"
   },
   {
    "duration": 32,
    "start_time": "2022-07-11T16:26:19.436Z"
   },
   {
    "duration": 10,
    "start_time": "2022-07-11T16:26:19.469Z"
   },
   {
    "duration": 51,
    "start_time": "2022-07-11T16:26:19.481Z"
   },
   {
    "duration": 24,
    "start_time": "2022-07-11T16:26:19.535Z"
   },
   {
    "duration": 15,
    "start_time": "2022-07-11T16:26:19.561Z"
   },
   {
    "duration": 11,
    "start_time": "2022-07-11T16:26:19.578Z"
   },
   {
    "duration": 58,
    "start_time": "2022-07-11T16:26:19.591Z"
   },
   {
    "duration": 18,
    "start_time": "2022-07-11T16:26:19.651Z"
   },
   {
    "duration": 18,
    "start_time": "2022-07-11T16:26:19.671Z"
   },
   {
    "duration": 9,
    "start_time": "2022-07-11T16:26:19.690Z"
   },
   {
    "duration": 30,
    "start_time": "2022-07-11T16:26:19.725Z"
   },
   {
    "duration": 20,
    "start_time": "2022-07-11T16:26:19.757Z"
   },
   {
    "duration": 9,
    "start_time": "2022-07-11T16:26:19.779Z"
   },
   {
    "duration": 53,
    "start_time": "2022-07-11T16:26:19.790Z"
   },
   {
    "duration": 25,
    "start_time": "2022-07-11T16:26:19.844Z"
   },
   {
    "duration": 16,
    "start_time": "2022-07-11T16:26:19.871Z"
   },
   {
    "duration": 43,
    "start_time": "2022-07-11T16:26:19.889Z"
   },
   {
    "duration": 2,
    "start_time": "2022-07-11T16:26:19.934Z"
   },
   {
    "duration": 9,
    "start_time": "2022-07-11T16:26:19.937Z"
   },
   {
    "duration": 34,
    "start_time": "2022-07-11T16:26:19.947Z"
   },
   {
    "duration": 2,
    "start_time": "2022-07-11T16:26:19.983Z"
   },
   {
    "duration": 5,
    "start_time": "2022-07-11T16:26:19.988Z"
   },
   {
    "duration": 16,
    "start_time": "2022-07-11T16:26:19.995Z"
   },
   {
    "duration": 6,
    "start_time": "2022-07-11T16:26:20.013Z"
   },
   {
    "duration": 11,
    "start_time": "2022-07-11T16:26:20.024Z"
   },
   {
    "duration": 17,
    "start_time": "2022-07-11T16:26:20.036Z"
   },
   {
    "duration": 8,
    "start_time": "2022-07-11T16:26:20.055Z"
   },
   {
    "duration": 16,
    "start_time": "2022-07-11T16:26:20.064Z"
   },
   {
    "duration": 14,
    "start_time": "2022-07-11T16:26:20.082Z"
   },
   {
    "duration": 15,
    "start_time": "2022-07-11T16:27:44.004Z"
   },
   {
    "duration": 12,
    "start_time": "2022-07-11T16:29:56.015Z"
   },
   {
    "duration": 8,
    "start_time": "2022-07-11T16:30:32.696Z"
   },
   {
    "duration": 16,
    "start_time": "2022-07-11T16:30:51.481Z"
   },
   {
    "duration": 9,
    "start_time": "2022-07-11T16:34:01.345Z"
   },
   {
    "duration": 18,
    "start_time": "2022-07-11T17:09:18.840Z"
   },
   {
    "duration": 15,
    "start_time": "2022-07-11T17:44:52.854Z"
   },
   {
    "duration": 20,
    "start_time": "2022-07-11T17:45:44.522Z"
   },
   {
    "duration": 17,
    "start_time": "2022-07-11T17:47:51.435Z"
   },
   {
    "duration": 23,
    "start_time": "2022-07-11T17:48:05.003Z"
   },
   {
    "duration": 12,
    "start_time": "2022-07-11T17:55:30.477Z"
   },
   {
    "duration": 27,
    "start_time": "2022-07-11T17:55:41.989Z"
   },
   {
    "duration": 12,
    "start_time": "2022-07-11T20:28:46.746Z"
   },
   {
    "duration": 20,
    "start_time": "2022-07-11T20:29:09.064Z"
   },
   {
    "duration": 117,
    "start_time": "2022-07-11T20:31:43.608Z"
   },
   {
    "duration": 45,
    "start_time": "2022-07-11T20:32:07.082Z"
   },
   {
    "duration": 51,
    "start_time": "2022-07-11T20:32:14.233Z"
   },
   {
    "duration": 48,
    "start_time": "2022-07-11T20:32:26.113Z"
   },
   {
    "duration": 52,
    "start_time": "2022-07-11T20:33:16.359Z"
   },
   {
    "duration": 830,
    "start_time": "2022-07-11T20:33:21.281Z"
   },
   {
    "duration": 11,
    "start_time": "2022-07-11T20:34:39.593Z"
   },
   {
    "duration": 9,
    "start_time": "2022-07-11T20:34:58.846Z"
   },
   {
    "duration": 4,
    "start_time": "2022-07-11T20:36:09.113Z"
   },
   {
    "duration": 16,
    "start_time": "2022-07-11T20:41:37.630Z"
   },
   {
    "duration": 5,
    "start_time": "2022-07-11T20:42:33.490Z"
   },
   {
    "duration": 26,
    "start_time": "2022-07-11T20:42:55.258Z"
   },
   {
    "duration": 5,
    "start_time": "2022-07-11T20:43:11.050Z"
   },
   {
    "duration": 13,
    "start_time": "2022-07-11T20:43:26.427Z"
   },
   {
    "duration": 4,
    "start_time": "2022-07-11T20:44:19.995Z"
   },
   {
    "duration": 12,
    "start_time": "2022-07-11T20:44:34.330Z"
   },
   {
    "duration": 14,
    "start_time": "2022-07-11T20:45:30.128Z"
   },
   {
    "duration": 11,
    "start_time": "2022-07-11T20:48:30.796Z"
   },
   {
    "duration": 6,
    "start_time": "2022-07-11T20:54:24.955Z"
   },
   {
    "duration": 4,
    "start_time": "2022-07-11T20:54:54.773Z"
   },
   {
    "duration": 731,
    "start_time": "2022-07-11T20:56:07.197Z"
   },
   {
    "duration": 8,
    "start_time": "2022-07-11T20:56:43.948Z"
   },
   {
    "duration": 2,
    "start_time": "2022-07-11T20:57:45.319Z"
   },
   {
    "duration": 10,
    "start_time": "2022-07-11T20:58:15.715Z"
   },
   {
    "duration": 11,
    "start_time": "2022-07-11T20:58:21.422Z"
   },
   {
    "duration": 81,
    "start_time": "2022-07-11T21:01:50.126Z"
   },
   {
    "duration": 20,
    "start_time": "2022-07-11T21:04:58.360Z"
   },
   {
    "duration": 2,
    "start_time": "2022-07-11T21:05:11.529Z"
   },
   {
    "duration": 18,
    "start_time": "2022-07-11T21:05:13.160Z"
   },
   {
    "duration": 785,
    "start_time": "2022-07-11T21:05:20.164Z"
   },
   {
    "duration": 308,
    "start_time": "2022-07-11T21:05:20.951Z"
   },
   {
    "duration": 11,
    "start_time": "2022-07-11T21:05:21.261Z"
   },
   {
    "duration": 18,
    "start_time": "2022-07-11T21:05:21.274Z"
   },
   {
    "duration": 11,
    "start_time": "2022-07-11T21:05:21.294Z"
   },
   {
    "duration": 11,
    "start_time": "2022-07-11T21:05:21.307Z"
   },
   {
    "duration": 24,
    "start_time": "2022-07-11T21:05:21.324Z"
   },
   {
    "duration": 15,
    "start_time": "2022-07-11T21:05:21.350Z"
   },
   {
    "duration": 39,
    "start_time": "2022-07-11T21:05:21.367Z"
   },
   {
    "duration": 23,
    "start_time": "2022-07-11T21:05:21.425Z"
   },
   {
    "duration": 15,
    "start_time": "2022-07-11T21:05:21.450Z"
   },
   {
    "duration": 9,
    "start_time": "2022-07-11T21:05:21.467Z"
   },
   {
    "duration": 47,
    "start_time": "2022-07-11T21:05:21.478Z"
   },
   {
    "duration": 16,
    "start_time": "2022-07-11T21:05:21.527Z"
   },
   {
    "duration": 18,
    "start_time": "2022-07-11T21:05:21.545Z"
   },
   {
    "duration": 8,
    "start_time": "2022-07-11T21:05:21.565Z"
   },
   {
    "duration": 59,
    "start_time": "2022-07-11T21:05:21.575Z"
   },
   {
    "duration": 20,
    "start_time": "2022-07-11T21:05:21.636Z"
   },
   {
    "duration": 8,
    "start_time": "2022-07-11T21:05:21.657Z"
   },
   {
    "duration": 29,
    "start_time": "2022-07-11T21:05:21.666Z"
   },
   {
    "duration": 46,
    "start_time": "2022-07-11T21:05:21.697Z"
   },
   {
    "duration": 18,
    "start_time": "2022-07-11T21:05:21.745Z"
   },
   {
    "duration": 20,
    "start_time": "2022-07-11T21:05:21.765Z"
   },
   {
    "duration": 2,
    "start_time": "2022-07-11T21:05:21.787Z"
   },
   {
    "duration": 6,
    "start_time": "2022-07-11T21:05:21.790Z"
   },
   {
    "duration": 52,
    "start_time": "2022-07-11T21:05:21.798Z"
   },
   {
    "duration": 15,
    "start_time": "2022-07-11T21:05:21.852Z"
   },
   {
    "duration": 10,
    "start_time": "2022-07-11T21:05:21.870Z"
   },
   {
    "duration": 11,
    "start_time": "2022-07-11T21:05:21.881Z"
   },
   {
    "duration": 34,
    "start_time": "2022-07-11T21:05:21.893Z"
   },
   {
    "duration": 11,
    "start_time": "2022-07-11T21:05:21.929Z"
   },
   {
    "duration": 22,
    "start_time": "2022-07-11T21:05:21.942Z"
   },
   {
    "duration": 4,
    "start_time": "2022-07-11T21:05:21.966Z"
   },
   {
    "duration": 13,
    "start_time": "2022-07-11T21:05:21.972Z"
   },
   {
    "duration": 38,
    "start_time": "2022-07-11T21:05:21.987Z"
   },
   {
    "duration": 11,
    "start_time": "2022-07-11T21:05:22.027Z"
   },
   {
    "duration": 22,
    "start_time": "2022-07-11T21:05:22.039Z"
   },
   {
    "duration": 11,
    "start_time": "2022-07-11T21:05:22.063Z"
   },
   {
    "duration": 5,
    "start_time": "2022-07-11T21:05:22.076Z"
   },
   {
    "duration": 5,
    "start_time": "2022-07-11T21:05:22.083Z"
   },
   {
    "duration": 7,
    "start_time": "2022-07-11T21:05:22.090Z"
   },
   {
    "duration": 6,
    "start_time": "2022-07-11T21:05:22.098Z"
   },
   {
    "duration": 7,
    "start_time": "2022-07-11T21:05:22.105Z"
   },
   {
    "duration": 8,
    "start_time": "2022-07-11T21:05:22.124Z"
   },
   {
    "duration": 5,
    "start_time": "2022-07-11T21:05:22.133Z"
   },
   {
    "duration": 6,
    "start_time": "2022-07-11T21:05:22.139Z"
   },
   {
    "duration": 5,
    "start_time": "2022-07-11T21:07:32.103Z"
   },
   {
    "duration": 18,
    "start_time": "2022-07-11T21:07:38.118Z"
   },
   {
    "duration": 20,
    "start_time": "2022-07-11T21:11:28.080Z"
   },
   {
    "duration": 6,
    "start_time": "2022-07-11T21:15:32.819Z"
   },
   {
    "duration": 31,
    "start_time": "2022-07-11T21:15:40.249Z"
   },
   {
    "duration": 29,
    "start_time": "2022-07-11T21:16:58.617Z"
   },
   {
    "duration": 29,
    "start_time": "2022-07-11T21:28:14.812Z"
   },
   {
    "duration": 21,
    "start_time": "2022-07-11T21:32:57.609Z"
   },
   {
    "duration": 16,
    "start_time": "2022-07-11T21:37:22.450Z"
   },
   {
    "duration": 852,
    "start_time": "2022-07-11T21:37:36.646Z"
   },
   {
    "duration": 311,
    "start_time": "2022-07-11T21:37:37.500Z"
   },
   {
    "duration": 17,
    "start_time": "2022-07-11T21:37:37.813Z"
   },
   {
    "duration": 27,
    "start_time": "2022-07-11T21:37:37.833Z"
   },
   {
    "duration": 11,
    "start_time": "2022-07-11T21:37:37.862Z"
   },
   {
    "duration": 10,
    "start_time": "2022-07-11T21:37:37.874Z"
   },
   {
    "duration": 18,
    "start_time": "2022-07-11T21:37:37.886Z"
   },
   {
    "duration": 38,
    "start_time": "2022-07-11T21:37:37.906Z"
   },
   {
    "duration": 55,
    "start_time": "2022-07-11T21:37:37.946Z"
   },
   {
    "duration": 32,
    "start_time": "2022-07-11T21:37:38.004Z"
   },
   {
    "duration": 14,
    "start_time": "2022-07-11T21:37:38.038Z"
   },
   {
    "duration": 26,
    "start_time": "2022-07-11T21:37:38.054Z"
   },
   {
    "duration": 8,
    "start_time": "2022-07-11T21:37:38.081Z"
   },
   {
    "duration": 66,
    "start_time": "2022-07-11T21:37:38.090Z"
   },
   {
    "duration": 23,
    "start_time": "2022-07-11T21:37:38.158Z"
   },
   {
    "duration": 55,
    "start_time": "2022-07-11T21:37:38.183Z"
   },
   {
    "duration": 9,
    "start_time": "2022-07-11T21:37:38.241Z"
   },
   {
    "duration": 31,
    "start_time": "2022-07-11T21:37:38.252Z"
   },
   {
    "duration": 19,
    "start_time": "2022-07-11T21:37:38.284Z"
   },
   {
    "duration": 32,
    "start_time": "2022-07-11T21:37:38.305Z"
   },
   {
    "duration": 48,
    "start_time": "2022-07-11T21:37:38.341Z"
   },
   {
    "duration": 49,
    "start_time": "2022-07-11T21:37:38.391Z"
   },
   {
    "duration": 21,
    "start_time": "2022-07-11T21:37:38.445Z"
   },
   {
    "duration": 21,
    "start_time": "2022-07-11T21:37:38.468Z"
   },
   {
    "duration": 2,
    "start_time": "2022-07-11T21:37:38.491Z"
   },
   {
    "duration": 6,
    "start_time": "2022-07-11T21:37:38.495Z"
   },
   {
    "duration": 46,
    "start_time": "2022-07-11T21:37:38.503Z"
   },
   {
    "duration": 16,
    "start_time": "2022-07-11T21:37:38.553Z"
   },
   {
    "duration": 22,
    "start_time": "2022-07-11T21:37:38.570Z"
   },
   {
    "duration": 6,
    "start_time": "2022-07-11T21:37:38.594Z"
   },
   {
    "duration": 32,
    "start_time": "2022-07-11T21:37:38.601Z"
   },
   {
    "duration": 25,
    "start_time": "2022-07-11T21:37:38.634Z"
   },
   {
    "duration": 33,
    "start_time": "2022-07-11T21:37:38.661Z"
   },
   {
    "duration": 39,
    "start_time": "2022-07-11T21:37:38.696Z"
   },
   {
    "duration": 15,
    "start_time": "2022-07-11T21:37:38.740Z"
   },
   {
    "duration": 17,
    "start_time": "2022-07-11T21:37:38.757Z"
   },
   {
    "duration": 17,
    "start_time": "2022-07-11T21:37:38.776Z"
   },
   {
    "duration": 10,
    "start_time": "2022-07-11T21:37:38.795Z"
   },
   {
    "duration": 31,
    "start_time": "2022-07-11T21:37:38.806Z"
   },
   {
    "duration": 52,
    "start_time": "2022-07-11T21:37:38.839Z"
   },
   {
    "duration": 26,
    "start_time": "2022-07-11T21:37:38.892Z"
   },
   {
    "duration": 48,
    "start_time": "2022-07-11T21:37:38.920Z"
   },
   {
    "duration": 13,
    "start_time": "2022-07-11T21:37:38.970Z"
   },
   {
    "duration": 7,
    "start_time": "2022-07-11T21:37:38.985Z"
   },
   {
    "duration": 10,
    "start_time": "2022-07-11T21:37:38.994Z"
   },
   {
    "duration": 12,
    "start_time": "2022-07-11T21:37:39.006Z"
   },
   {
    "duration": 38,
    "start_time": "2022-07-11T21:37:39.020Z"
   },
   {
    "duration": 5,
    "start_time": "2022-07-11T21:37:39.060Z"
   },
   {
    "duration": 5,
    "start_time": "2022-07-11T21:37:39.067Z"
   },
   {
    "duration": 7,
    "start_time": "2022-07-11T21:37:39.074Z"
   },
   {
    "duration": 29,
    "start_time": "2022-07-11T21:39:34.982Z"
   },
   {
    "duration": 8,
    "start_time": "2022-07-11T21:40:33.364Z"
   },
   {
    "duration": 26,
    "start_time": "2022-07-11T21:40:47.039Z"
   },
   {
    "duration": 99,
    "start_time": "2022-07-11T21:43:21.197Z"
   },
   {
    "duration": 11,
    "start_time": "2022-07-11T21:43:57.015Z"
   },
   {
    "duration": 23,
    "start_time": "2022-07-11T21:44:20.414Z"
   },
   {
    "duration": 8,
    "start_time": "2022-07-11T21:46:26.846Z"
   },
   {
    "duration": 3,
    "start_time": "2022-07-11T21:46:45.248Z"
   },
   {
    "duration": 22,
    "start_time": "2022-07-11T21:48:05.783Z"
   },
   {
    "duration": 13,
    "start_time": "2022-07-11T21:54:55.394Z"
   },
   {
    "duration": 38,
    "start_time": "2022-07-11T21:57:22.572Z"
   },
   {
    "duration": 29,
    "start_time": "2022-07-11T21:58:52.891Z"
   },
   {
    "duration": 813,
    "start_time": "2022-07-11T21:59:13.466Z"
   },
   {
    "duration": 405,
    "start_time": "2022-07-11T21:59:14.282Z"
   },
   {
    "duration": 13,
    "start_time": "2022-07-11T21:59:14.690Z"
   },
   {
    "duration": 29,
    "start_time": "2022-07-11T21:59:14.705Z"
   },
   {
    "duration": 21,
    "start_time": "2022-07-11T21:59:14.736Z"
   },
   {
    "duration": 19,
    "start_time": "2022-07-11T21:59:14.758Z"
   },
   {
    "duration": 21,
    "start_time": "2022-07-11T21:59:14.779Z"
   },
   {
    "duration": 9,
    "start_time": "2022-07-11T21:59:14.801Z"
   },
   {
    "duration": 62,
    "start_time": "2022-07-11T21:59:14.814Z"
   },
   {
    "duration": 21,
    "start_time": "2022-07-11T21:59:14.879Z"
   },
   {
    "duration": 39,
    "start_time": "2022-07-11T21:59:14.901Z"
   },
   {
    "duration": 16,
    "start_time": "2022-07-11T21:59:14.942Z"
   },
   {
    "duration": 8,
    "start_time": "2022-07-11T21:59:14.960Z"
   },
   {
    "duration": 24,
    "start_time": "2022-07-11T21:59:14.969Z"
   },
   {
    "duration": 50,
    "start_time": "2022-07-11T21:59:14.995Z"
   },
   {
    "duration": 20,
    "start_time": "2022-07-11T21:59:15.046Z"
   },
   {
    "duration": 9,
    "start_time": "2022-07-11T21:59:15.068Z"
   },
   {
    "duration": 54,
    "start_time": "2022-07-11T21:59:15.079Z"
   },
   {
    "duration": 19,
    "start_time": "2022-07-11T21:59:15.141Z"
   },
   {
    "duration": 8,
    "start_time": "2022-07-11T21:59:15.161Z"
   },
   {
    "duration": 40,
    "start_time": "2022-07-11T21:59:15.171Z"
   },
   {
    "duration": 37,
    "start_time": "2022-07-11T21:59:15.223Z"
   },
   {
    "duration": 16,
    "start_time": "2022-07-11T21:59:15.263Z"
   },
   {
    "duration": 48,
    "start_time": "2022-07-11T21:59:15.281Z"
   },
   {
    "duration": 5,
    "start_time": "2022-07-11T21:59:15.330Z"
   },
   {
    "duration": 13,
    "start_time": "2022-07-11T21:59:15.336Z"
   },
   {
    "duration": 35,
    "start_time": "2022-07-11T21:59:15.351Z"
   },
   {
    "duration": 15,
    "start_time": "2022-07-11T21:59:15.389Z"
   },
   {
    "duration": 18,
    "start_time": "2022-07-11T21:59:15.406Z"
   },
   {
    "duration": 28,
    "start_time": "2022-07-11T21:59:15.425Z"
   },
   {
    "duration": 17,
    "start_time": "2022-07-11T21:59:15.455Z"
   },
   {
    "duration": 12,
    "start_time": "2022-07-11T21:59:15.474Z"
   },
   {
    "duration": 31,
    "start_time": "2022-07-11T21:59:15.488Z"
   },
   {
    "duration": 25,
    "start_time": "2022-07-11T21:59:15.525Z"
   },
   {
    "duration": 7,
    "start_time": "2022-07-11T21:59:15.553Z"
   },
   {
    "duration": 22,
    "start_time": "2022-07-11T21:59:15.562Z"
   },
   {
    "duration": 16,
    "start_time": "2022-07-11T21:59:15.586Z"
   },
   {
    "duration": 8,
    "start_time": "2022-07-11T21:59:15.624Z"
   },
   {
    "duration": 48,
    "start_time": "2022-07-11T21:59:15.633Z"
   },
   {
    "duration": 23,
    "start_time": "2022-07-11T21:59:15.684Z"
   },
   {
    "duration": 31,
    "start_time": "2022-07-11T21:59:15.709Z"
   },
   {
    "duration": 23,
    "start_time": "2022-07-11T21:59:15.742Z"
   },
   {
    "duration": 26,
    "start_time": "2022-07-11T21:59:15.767Z"
   },
   {
    "duration": 8,
    "start_time": "2022-07-11T21:59:15.794Z"
   },
   {
    "duration": 24,
    "start_time": "2022-07-11T21:59:15.804Z"
   },
   {
    "duration": 18,
    "start_time": "2022-07-11T21:59:15.830Z"
   },
   {
    "duration": 5,
    "start_time": "2022-07-11T21:59:15.850Z"
   },
   {
    "duration": 11,
    "start_time": "2022-07-11T21:59:15.856Z"
   },
   {
    "duration": 5,
    "start_time": "2022-07-11T21:59:15.868Z"
   },
   {
    "duration": 13,
    "start_time": "2022-07-11T21:59:15.875Z"
   },
   {
    "duration": 6,
    "start_time": "2022-07-11T21:59:15.890Z"
   },
   {
    "duration": 7,
    "start_time": "2022-07-11T21:59:15.898Z"
   },
   {
    "duration": 40,
    "start_time": "2022-07-11T22:02:29.950Z"
   },
   {
    "duration": 43,
    "start_time": "2022-07-11T22:10:32.912Z"
   },
   {
    "duration": 32,
    "start_time": "2022-07-11T22:11:07.807Z"
   },
   {
    "duration": 35,
    "start_time": "2022-07-11T22:13:19.835Z"
   },
   {
    "duration": 26,
    "start_time": "2022-07-11T22:15:00.176Z"
   },
   {
    "duration": 26,
    "start_time": "2022-07-11T22:15:26.968Z"
   },
   {
    "duration": 11,
    "start_time": "2022-07-11T22:42:01.551Z"
   },
   {
    "duration": 14,
    "start_time": "2022-07-11T22:42:10.856Z"
   },
   {
    "duration": 16,
    "start_time": "2022-07-11T22:42:24.904Z"
   },
   {
    "duration": 767,
    "start_time": "2022-07-11T22:42:37.677Z"
   },
   {
    "duration": 258,
    "start_time": "2022-07-11T22:42:38.446Z"
   },
   {
    "duration": 11,
    "start_time": "2022-07-11T22:42:38.705Z"
   },
   {
    "duration": 19,
    "start_time": "2022-07-11T22:42:38.717Z"
   },
   {
    "duration": 10,
    "start_time": "2022-07-11T22:42:38.738Z"
   },
   {
    "duration": 12,
    "start_time": "2022-07-11T22:42:38.750Z"
   },
   {
    "duration": 22,
    "start_time": "2022-07-11T22:42:38.763Z"
   },
   {
    "duration": 10,
    "start_time": "2022-07-11T22:42:38.786Z"
   },
   {
    "duration": 64,
    "start_time": "2022-07-11T22:42:38.798Z"
   },
   {
    "duration": 25,
    "start_time": "2022-07-11T22:42:38.865Z"
   },
   {
    "duration": 32,
    "start_time": "2022-07-11T22:42:38.891Z"
   },
   {
    "duration": 14,
    "start_time": "2022-07-11T22:42:38.925Z"
   },
   {
    "duration": 7,
    "start_time": "2022-07-11T22:42:38.940Z"
   },
   {
    "duration": 25,
    "start_time": "2022-07-11T22:42:38.949Z"
   },
   {
    "duration": 14,
    "start_time": "2022-07-11T22:42:38.976Z"
   },
   {
    "duration": 41,
    "start_time": "2022-07-11T22:42:38.991Z"
   },
   {
    "duration": 9,
    "start_time": "2022-07-11T22:42:39.033Z"
   },
   {
    "duration": 37,
    "start_time": "2022-07-11T22:42:39.044Z"
   },
   {
    "duration": 18,
    "start_time": "2022-07-11T22:42:39.082Z"
   },
   {
    "duration": 22,
    "start_time": "2022-07-11T22:42:39.101Z"
   },
   {
    "duration": 25,
    "start_time": "2022-07-11T22:42:39.125Z"
   },
   {
    "duration": 24,
    "start_time": "2022-07-11T22:42:39.152Z"
   },
   {
    "duration": 16,
    "start_time": "2022-07-11T22:42:39.177Z"
   },
   {
    "duration": 47,
    "start_time": "2022-07-11T22:42:39.195Z"
   },
   {
    "duration": 2,
    "start_time": "2022-07-11T22:42:39.243Z"
   },
   {
    "duration": 19,
    "start_time": "2022-07-11T22:42:39.246Z"
   },
   {
    "duration": 36,
    "start_time": "2022-07-11T22:42:39.266Z"
   },
   {
    "duration": 15,
    "start_time": "2022-07-11T22:42:39.305Z"
   },
   {
    "duration": 10,
    "start_time": "2022-07-11T22:42:39.323Z"
   },
   {
    "duration": 8,
    "start_time": "2022-07-11T22:42:39.334Z"
   },
   {
    "duration": 25,
    "start_time": "2022-07-11T22:42:39.344Z"
   },
   {
    "duration": 35,
    "start_time": "2022-07-11T22:42:39.371Z"
   },
   {
    "duration": 22,
    "start_time": "2022-07-11T22:42:39.407Z"
   },
   {
    "duration": 4,
    "start_time": "2022-07-11T22:42:39.430Z"
   },
   {
    "duration": 20,
    "start_time": "2022-07-11T22:42:39.435Z"
   },
   {
    "duration": 20,
    "start_time": "2022-07-11T22:42:39.456Z"
   },
   {
    "duration": 47,
    "start_time": "2022-07-11T22:42:39.477Z"
   },
   {
    "duration": 32,
    "start_time": "2022-07-11T22:42:39.526Z"
   },
   {
    "duration": 39,
    "start_time": "2022-07-11T22:42:39.560Z"
   },
   {
    "duration": 23,
    "start_time": "2022-07-11T22:42:39.601Z"
   },
   {
    "duration": 7,
    "start_time": "2022-07-11T22:42:39.626Z"
   },
   {
    "duration": 24,
    "start_time": "2022-07-11T22:42:39.635Z"
   },
   {
    "duration": 33,
    "start_time": "2022-07-11T22:42:39.660Z"
   },
   {
    "duration": 15,
    "start_time": "2022-07-11T22:42:39.694Z"
   },
   {
    "duration": 31,
    "start_time": "2022-07-11T22:42:39.710Z"
   },
   {
    "duration": 27,
    "start_time": "2022-07-11T22:42:39.743Z"
   },
   {
    "duration": 24,
    "start_time": "2022-07-11T22:42:39.772Z"
   },
   {
    "duration": 39,
    "start_time": "2022-07-11T22:42:39.798Z"
   },
   {
    "duration": 4,
    "start_time": "2022-07-11T22:42:39.838Z"
   },
   {
    "duration": 6,
    "start_time": "2022-07-11T22:42:39.844Z"
   },
   {
    "duration": 4,
    "start_time": "2022-07-11T22:42:39.851Z"
   },
   {
    "duration": 4,
    "start_time": "2022-07-11T22:42:39.857Z"
   },
   {
    "duration": 4,
    "start_time": "2022-07-11T22:42:39.863Z"
   },
   {
    "duration": 12,
    "start_time": "2022-07-11T22:42:39.869Z"
   },
   {
    "duration": 5,
    "start_time": "2022-07-11T22:42:39.882Z"
   },
   {
    "duration": 10,
    "start_time": "2022-07-11T22:42:39.888Z"
   },
   {
    "duration": 3,
    "start_time": "2022-07-11T22:44:10.635Z"
   },
   {
    "duration": 13,
    "start_time": "2022-07-11T22:47:03.391Z"
   },
   {
    "duration": 18,
    "start_time": "2022-07-11T22:47:44.590Z"
   },
   {
    "duration": 13,
    "start_time": "2022-07-11T22:48:59.095Z"
   },
   {
    "duration": 12,
    "start_time": "2022-07-11T22:50:07.424Z"
   },
   {
    "duration": 589,
    "start_time": "2022-07-11T22:51:57.649Z"
   },
   {
    "duration": 9,
    "start_time": "2022-07-11T22:52:29.768Z"
   },
   {
    "duration": 295,
    "start_time": "2022-07-11T22:52:47.825Z"
   },
   {
    "duration": 3,
    "start_time": "2022-07-11T22:56:52.186Z"
   },
   {
    "duration": 17,
    "start_time": "2022-07-11T23:03:57.435Z"
   },
   {
    "duration": 972,
    "start_time": "2022-07-11T23:07:27.663Z"
   },
   {
    "duration": 321,
    "start_time": "2022-07-11T23:07:28.637Z"
   },
   {
    "duration": 12,
    "start_time": "2022-07-11T23:07:28.960Z"
   },
   {
    "duration": 39,
    "start_time": "2022-07-11T23:07:28.974Z"
   },
   {
    "duration": 21,
    "start_time": "2022-07-11T23:07:29.015Z"
   },
   {
    "duration": 34,
    "start_time": "2022-07-11T23:07:29.038Z"
   },
   {
    "duration": 24,
    "start_time": "2022-07-11T23:07:29.073Z"
   },
   {
    "duration": 31,
    "start_time": "2022-07-11T23:07:29.098Z"
   },
   {
    "duration": 55,
    "start_time": "2022-07-11T23:07:29.131Z"
   },
   {
    "duration": 30,
    "start_time": "2022-07-11T23:07:29.189Z"
   },
   {
    "duration": 15,
    "start_time": "2022-07-11T23:07:29.220Z"
   },
   {
    "duration": 15,
    "start_time": "2022-07-11T23:07:29.237Z"
   },
   {
    "duration": 17,
    "start_time": "2022-07-11T23:07:29.254Z"
   },
   {
    "duration": 35,
    "start_time": "2022-07-11T23:07:29.273Z"
   },
   {
    "duration": 15,
    "start_time": "2022-07-11T23:07:29.309Z"
   },
   {
    "duration": 21,
    "start_time": "2022-07-11T23:07:29.326Z"
   },
   {
    "duration": 26,
    "start_time": "2022-07-11T23:07:29.349Z"
   },
   {
    "duration": 54,
    "start_time": "2022-07-11T23:07:29.376Z"
   },
   {
    "duration": 19,
    "start_time": "2022-07-11T23:07:29.432Z"
   },
   {
    "duration": 16,
    "start_time": "2022-07-11T23:07:29.452Z"
   },
   {
    "duration": 49,
    "start_time": "2022-07-11T23:07:29.470Z"
   },
   {
    "duration": 26,
    "start_time": "2022-07-11T23:07:29.520Z"
   },
   {
    "duration": 17,
    "start_time": "2022-07-11T23:07:29.548Z"
   },
   {
    "duration": 18,
    "start_time": "2022-07-11T23:07:29.567Z"
   },
   {
    "duration": 3,
    "start_time": "2022-07-11T23:07:29.586Z"
   },
   {
    "duration": 14,
    "start_time": "2022-07-11T23:07:29.590Z"
   },
   {
    "duration": 47,
    "start_time": "2022-07-11T23:07:29.605Z"
   },
   {
    "duration": 15,
    "start_time": "2022-07-11T23:07:29.656Z"
   },
   {
    "duration": 12,
    "start_time": "2022-07-11T23:07:29.672Z"
   },
   {
    "duration": 31,
    "start_time": "2022-07-11T23:07:29.685Z"
   },
   {
    "duration": 18,
    "start_time": "2022-07-11T23:07:29.717Z"
   },
   {
    "duration": 26,
    "start_time": "2022-07-11T23:07:29.736Z"
   },
   {
    "duration": 35,
    "start_time": "2022-07-11T23:07:29.763Z"
   },
   {
    "duration": 5,
    "start_time": "2022-07-11T23:07:29.799Z"
   },
   {
    "duration": 34,
    "start_time": "2022-07-11T23:07:29.806Z"
   },
   {
    "duration": 20,
    "start_time": "2022-07-11T23:07:29.842Z"
   },
   {
    "duration": 44,
    "start_time": "2022-07-11T23:07:29.864Z"
   },
   {
    "duration": 22,
    "start_time": "2022-07-11T23:07:29.910Z"
   },
   {
    "duration": 44,
    "start_time": "2022-07-11T23:07:29.934Z"
   },
   {
    "duration": 26,
    "start_time": "2022-07-11T23:07:29.979Z"
   },
   {
    "duration": 28,
    "start_time": "2022-07-11T23:07:30.006Z"
   },
   {
    "duration": 71,
    "start_time": "2022-07-11T23:07:30.035Z"
   },
   {
    "duration": 31,
    "start_time": "2022-07-11T23:07:30.108Z"
   },
   {
    "duration": 23,
    "start_time": "2022-07-11T23:07:30.140Z"
   },
   {
    "duration": 39,
    "start_time": "2022-07-11T23:07:30.164Z"
   },
   {
    "duration": 35,
    "start_time": "2022-07-11T23:07:30.204Z"
   },
   {
    "duration": 24,
    "start_time": "2022-07-11T23:07:30.241Z"
   },
   {
    "duration": 17,
    "start_time": "2022-07-11T23:07:30.267Z"
   },
   {
    "duration": 282,
    "start_time": "2022-07-11T23:07:30.286Z"
   },
   {
    "duration": 0,
    "start_time": "2022-07-11T23:07:30.570Z"
   },
   {
    "duration": 0,
    "start_time": "2022-07-11T23:07:30.572Z"
   },
   {
    "duration": 0,
    "start_time": "2022-07-11T23:07:30.573Z"
   },
   {
    "duration": 0,
    "start_time": "2022-07-11T23:07:30.574Z"
   },
   {
    "duration": 0,
    "start_time": "2022-07-11T23:07:30.576Z"
   },
   {
    "duration": 0,
    "start_time": "2022-07-11T23:07:30.577Z"
   },
   {
    "duration": 0,
    "start_time": "2022-07-11T23:07:30.578Z"
   },
   {
    "duration": 0,
    "start_time": "2022-07-11T23:07:30.580Z"
   },
   {
    "duration": 9,
    "start_time": "2022-07-11T23:35:09.102Z"
   },
   {
    "duration": 285,
    "start_time": "2022-07-11T23:35:10.688Z"
   },
   {
    "duration": 17,
    "start_time": "2022-07-11T23:36:18.500Z"
   },
   {
    "duration": 13,
    "start_time": "2022-07-11T23:41:47.727Z"
   },
   {
    "duration": 9,
    "start_time": "2022-07-11T23:42:10.790Z"
   },
   {
    "duration": 11,
    "start_time": "2022-07-11T23:47:36.854Z"
   },
   {
    "duration": 1008,
    "start_time": "2022-07-11T23:50:32.542Z"
   },
   {
    "duration": 13,
    "start_time": "2022-07-11T23:51:06.534Z"
   },
   {
    "duration": 1051,
    "start_time": "2022-07-11T23:51:17.534Z"
   },
   {
    "duration": 94,
    "start_time": "2022-07-11T23:52:20.912Z"
   },
   {
    "duration": 104,
    "start_time": "2022-07-11T23:54:04.121Z"
   },
   {
    "duration": 933,
    "start_time": "2022-07-11T23:54:23.600Z"
   },
   {
    "duration": 9,
    "start_time": "2022-07-11T23:56:39.655Z"
   },
   {
    "duration": 1018,
    "start_time": "2022-07-11T23:56:46.431Z"
   },
   {
    "duration": 388,
    "start_time": "2022-07-11T23:57:21.270Z"
   },
   {
    "duration": 9,
    "start_time": "2022-07-11T23:57:41.687Z"
   },
   {
    "duration": 169,
    "start_time": "2022-07-11T23:57:45.702Z"
   },
   {
    "duration": 118,
    "start_time": "2022-07-12T17:27:13.976Z"
   },
   {
    "duration": 1981,
    "start_time": "2022-07-12T17:27:34.592Z"
   },
   {
    "duration": 920,
    "start_time": "2022-07-12T17:27:36.576Z"
   },
   {
    "duration": 14,
    "start_time": "2022-07-12T17:27:37.499Z"
   },
   {
    "duration": 20,
    "start_time": "2022-07-12T17:27:37.515Z"
   },
   {
    "duration": 17,
    "start_time": "2022-07-12T17:27:37.538Z"
   },
   {
    "duration": 30,
    "start_time": "2022-07-12T17:27:37.557Z"
   },
   {
    "duration": 29,
    "start_time": "2022-07-12T17:27:37.590Z"
   },
   {
    "duration": 15,
    "start_time": "2022-07-12T17:27:37.622Z"
   },
   {
    "duration": 56,
    "start_time": "2022-07-12T17:27:37.647Z"
   },
   {
    "duration": 57,
    "start_time": "2022-07-12T17:27:37.707Z"
   },
   {
    "duration": 28,
    "start_time": "2022-07-12T17:27:37.766Z"
   },
   {
    "duration": 25,
    "start_time": "2022-07-12T17:27:37.797Z"
   },
   {
    "duration": 29,
    "start_time": "2022-07-12T17:27:37.824Z"
   },
   {
    "duration": 38,
    "start_time": "2022-07-12T17:27:37.855Z"
   },
   {
    "duration": 19,
    "start_time": "2022-07-12T17:27:37.895Z"
   },
   {
    "duration": 44,
    "start_time": "2022-07-12T17:27:37.916Z"
   },
   {
    "duration": 27,
    "start_time": "2022-07-12T17:27:37.963Z"
   },
   {
    "duration": 39,
    "start_time": "2022-07-12T17:27:37.993Z"
   },
   {
    "duration": 32,
    "start_time": "2022-07-12T17:27:38.033Z"
   },
   {
    "duration": 12,
    "start_time": "2022-07-12T17:27:38.068Z"
   },
   {
    "duration": 75,
    "start_time": "2022-07-12T17:27:38.082Z"
   },
   {
    "duration": 43,
    "start_time": "2022-07-12T17:27:38.159Z"
   },
   {
    "duration": 19,
    "start_time": "2022-07-12T17:27:38.204Z"
   },
   {
    "duration": 30,
    "start_time": "2022-07-12T17:27:38.246Z"
   },
   {
    "duration": 4,
    "start_time": "2022-07-12T17:27:38.278Z"
   },
   {
    "duration": 20,
    "start_time": "2022-07-12T17:27:38.284Z"
   },
   {
    "duration": 39,
    "start_time": "2022-07-12T17:27:38.306Z"
   },
   {
    "duration": 18,
    "start_time": "2022-07-12T17:27:38.351Z"
   },
   {
    "duration": 20,
    "start_time": "2022-07-12T17:27:38.371Z"
   },
   {
    "duration": 10,
    "start_time": "2022-07-12T17:27:38.393Z"
   },
   {
    "duration": 43,
    "start_time": "2022-07-12T17:27:38.405Z"
   },
   {
    "duration": 58,
    "start_time": "2022-07-12T17:27:38.451Z"
   },
   {
    "duration": 26,
    "start_time": "2022-07-12T17:27:38.510Z"
   },
   {
    "duration": 7,
    "start_time": "2022-07-12T17:27:38.545Z"
   },
   {
    "duration": 25,
    "start_time": "2022-07-12T17:27:38.554Z"
   },
   {
    "duration": 18,
    "start_time": "2022-07-12T17:27:38.580Z"
   },
   {
    "duration": 50,
    "start_time": "2022-07-12T17:27:38.600Z"
   },
   {
    "duration": 29,
    "start_time": "2022-07-12T17:27:38.652Z"
   },
   {
    "duration": 35,
    "start_time": "2022-07-12T17:27:38.683Z"
   },
   {
    "duration": 63,
    "start_time": "2022-07-12T17:27:38.721Z"
   },
   {
    "duration": 15,
    "start_time": "2022-07-12T17:27:38.786Z"
   },
   {
    "duration": 48,
    "start_time": "2022-07-12T17:27:38.803Z"
   },
   {
    "duration": 42,
    "start_time": "2022-07-12T17:27:38.855Z"
   },
   {
    "duration": 49,
    "start_time": "2022-07-12T17:27:38.900Z"
   },
   {
    "duration": 41,
    "start_time": "2022-07-12T17:27:38.951Z"
   },
   {
    "duration": 60,
    "start_time": "2022-07-12T17:27:38.995Z"
   },
   {
    "duration": 45,
    "start_time": "2022-07-12T17:27:39.057Z"
   },
   {
    "duration": 15,
    "start_time": "2022-07-12T17:27:39.104Z"
   },
   {
    "duration": 34,
    "start_time": "2022-07-12T17:27:39.121Z"
   },
   {
    "duration": 389,
    "start_time": "2022-07-12T17:27:39.158Z"
   },
   {
    "duration": 229,
    "start_time": "2022-07-12T17:27:39.552Z"
   },
   {
    "duration": 4,
    "start_time": "2022-07-12T17:27:39.783Z"
   },
   {
    "duration": 12,
    "start_time": "2022-07-12T17:27:39.789Z"
   },
   {
    "duration": 5,
    "start_time": "2022-07-12T17:27:39.803Z"
   },
   {
    "duration": 11,
    "start_time": "2022-07-12T17:27:39.810Z"
   },
   {
    "duration": 6,
    "start_time": "2022-07-12T17:27:39.822Z"
   },
   {
    "duration": 6,
    "start_time": "2022-07-12T17:27:39.829Z"
   },
   {
    "duration": 111,
    "start_time": "2022-07-12T17:41:41.676Z"
   },
   {
    "duration": 21,
    "start_time": "2022-07-12T17:41:48.464Z"
   },
   {
    "duration": 27,
    "start_time": "2022-07-12T17:49:51.969Z"
   },
   {
    "duration": 1204,
    "start_time": "2022-07-12T17:50:00.694Z"
   },
   {
    "duration": 396,
    "start_time": "2022-07-12T17:50:01.900Z"
   },
   {
    "duration": 13,
    "start_time": "2022-07-12T17:50:02.298Z"
   },
   {
    "duration": 26,
    "start_time": "2022-07-12T17:50:02.313Z"
   },
   {
    "duration": 33,
    "start_time": "2022-07-12T17:50:02.341Z"
   },
   {
    "duration": 34,
    "start_time": "2022-07-12T17:50:02.376Z"
   },
   {
    "duration": 48,
    "start_time": "2022-07-12T17:50:02.412Z"
   },
   {
    "duration": 27,
    "start_time": "2022-07-12T17:50:02.462Z"
   },
   {
    "duration": 49,
    "start_time": "2022-07-12T17:50:02.492Z"
   },
   {
    "duration": 37,
    "start_time": "2022-07-12T17:50:02.545Z"
   },
   {
    "duration": 20,
    "start_time": "2022-07-12T17:50:02.584Z"
   },
   {
    "duration": 16,
    "start_time": "2022-07-12T17:50:02.606Z"
   },
   {
    "duration": 55,
    "start_time": "2022-07-12T17:50:02.623Z"
   },
   {
    "duration": 34,
    "start_time": "2022-07-12T17:50:02.680Z"
   },
   {
    "duration": 19,
    "start_time": "2022-07-12T17:50:02.716Z"
   },
   {
    "duration": 25,
    "start_time": "2022-07-12T17:50:02.737Z"
   },
   {
    "duration": 25,
    "start_time": "2022-07-12T17:50:02.768Z"
   },
   {
    "duration": 45,
    "start_time": "2022-07-12T17:50:02.795Z"
   },
   {
    "duration": 32,
    "start_time": "2022-07-12T17:50:02.841Z"
   },
   {
    "duration": 11,
    "start_time": "2022-07-12T17:50:02.875Z"
   },
   {
    "duration": 37,
    "start_time": "2022-07-12T17:50:02.888Z"
   },
   {
    "duration": 48,
    "start_time": "2022-07-12T17:50:02.927Z"
   },
   {
    "duration": 18,
    "start_time": "2022-07-12T17:50:02.977Z"
   },
   {
    "duration": 21,
    "start_time": "2022-07-12T17:50:02.997Z"
   },
   {
    "duration": 2,
    "start_time": "2022-07-12T17:50:03.020Z"
   },
   {
    "duration": 28,
    "start_time": "2022-07-12T17:50:03.024Z"
   },
   {
    "duration": 71,
    "start_time": "2022-07-12T17:50:03.054Z"
   },
   {
    "duration": 15,
    "start_time": "2022-07-12T17:50:03.130Z"
   },
   {
    "duration": 45,
    "start_time": "2022-07-12T17:50:03.147Z"
   },
   {
    "duration": 27,
    "start_time": "2022-07-12T17:50:03.194Z"
   },
   {
    "duration": 64,
    "start_time": "2022-07-12T17:50:03.223Z"
   },
   {
    "duration": 122,
    "start_time": "2022-07-12T17:50:03.289Z"
   },
   {
    "duration": 0,
    "start_time": "2022-07-12T17:50:03.412Z"
   },
   {
    "duration": 0,
    "start_time": "2022-07-12T17:50:03.413Z"
   },
   {
    "duration": 0,
    "start_time": "2022-07-12T17:50:03.415Z"
   },
   {
    "duration": 0,
    "start_time": "2022-07-12T17:50:03.416Z"
   },
   {
    "duration": 0,
    "start_time": "2022-07-12T17:50:03.417Z"
   },
   {
    "duration": 0,
    "start_time": "2022-07-12T17:50:03.418Z"
   },
   {
    "duration": 0,
    "start_time": "2022-07-12T17:50:03.419Z"
   },
   {
    "duration": 0,
    "start_time": "2022-07-12T17:50:03.421Z"
   },
   {
    "duration": 0,
    "start_time": "2022-07-12T17:50:03.421Z"
   },
   {
    "duration": 0,
    "start_time": "2022-07-12T17:50:03.423Z"
   },
   {
    "duration": 0,
    "start_time": "2022-07-12T17:50:03.451Z"
   },
   {
    "duration": 0,
    "start_time": "2022-07-12T17:50:03.452Z"
   },
   {
    "duration": 0,
    "start_time": "2022-07-12T17:50:03.455Z"
   },
   {
    "duration": 0,
    "start_time": "2022-07-12T17:50:03.459Z"
   },
   {
    "duration": 0,
    "start_time": "2022-07-12T17:50:03.461Z"
   },
   {
    "duration": 0,
    "start_time": "2022-07-12T17:50:03.462Z"
   },
   {
    "duration": 0,
    "start_time": "2022-07-12T17:50:03.463Z"
   },
   {
    "duration": 0,
    "start_time": "2022-07-12T17:50:03.467Z"
   },
   {
    "duration": 0,
    "start_time": "2022-07-12T17:50:03.472Z"
   },
   {
    "duration": 0,
    "start_time": "2022-07-12T17:50:03.473Z"
   },
   {
    "duration": 0,
    "start_time": "2022-07-12T17:50:03.474Z"
   },
   {
    "duration": 0,
    "start_time": "2022-07-12T17:50:03.476Z"
   },
   {
    "duration": 0,
    "start_time": "2022-07-12T17:50:03.477Z"
   },
   {
    "duration": 0,
    "start_time": "2022-07-12T17:50:03.478Z"
   },
   {
    "duration": 0,
    "start_time": "2022-07-12T17:50:03.480Z"
   },
   {
    "duration": 8,
    "start_time": "2022-07-12T17:54:28.169Z"
   },
   {
    "duration": 27,
    "start_time": "2022-07-12T17:54:43.038Z"
   },
   {
    "duration": 1204,
    "start_time": "2022-07-12T17:54:54.476Z"
   },
   {
    "duration": 396,
    "start_time": "2022-07-12T17:54:55.682Z"
   },
   {
    "duration": 13,
    "start_time": "2022-07-12T17:54:56.080Z"
   },
   {
    "duration": 17,
    "start_time": "2022-07-12T17:54:56.095Z"
   },
   {
    "duration": 11,
    "start_time": "2022-07-12T17:54:56.113Z"
   },
   {
    "duration": 17,
    "start_time": "2022-07-12T17:54:56.126Z"
   },
   {
    "duration": 63,
    "start_time": "2022-07-12T17:54:56.145Z"
   },
   {
    "duration": 16,
    "start_time": "2022-07-12T17:54:56.211Z"
   },
   {
    "duration": 71,
    "start_time": "2022-07-12T17:54:56.229Z"
   },
   {
    "duration": 25,
    "start_time": "2022-07-12T17:54:56.304Z"
   },
   {
    "duration": 30,
    "start_time": "2022-07-12T17:54:56.331Z"
   },
   {
    "duration": 23,
    "start_time": "2022-07-12T17:54:56.363Z"
   },
   {
    "duration": 11,
    "start_time": "2022-07-12T17:54:56.388Z"
   },
   {
    "duration": 65,
    "start_time": "2022-07-12T17:54:56.402Z"
   },
   {
    "duration": 26,
    "start_time": "2022-07-12T17:54:56.468Z"
   },
   {
    "duration": 23,
    "start_time": "2022-07-12T17:54:56.496Z"
   },
   {
    "duration": 10,
    "start_time": "2022-07-12T17:54:56.521Z"
   },
   {
    "duration": 43,
    "start_time": "2022-07-12T17:54:56.550Z"
   },
   {
    "duration": 20,
    "start_time": "2022-07-12T17:54:56.595Z"
   },
   {
    "duration": 8,
    "start_time": "2022-07-12T17:54:56.617Z"
   },
   {
    "duration": 34,
    "start_time": "2022-07-12T17:54:56.651Z"
   },
   {
    "duration": 27,
    "start_time": "2022-07-12T17:54:56.687Z"
   },
   {
    "duration": 46,
    "start_time": "2022-07-12T17:54:56.716Z"
   },
   {
    "duration": 24,
    "start_time": "2022-07-12T17:54:56.764Z"
   },
   {
    "duration": 2,
    "start_time": "2022-07-12T17:54:56.790Z"
   },
   {
    "duration": 8,
    "start_time": "2022-07-12T17:54:56.794Z"
   },
   {
    "duration": 48,
    "start_time": "2022-07-12T17:54:56.804Z"
   },
   {
    "duration": 28,
    "start_time": "2022-07-12T17:54:56.857Z"
   },
   {
    "duration": 20,
    "start_time": "2022-07-12T17:54:56.888Z"
   },
   {
    "duration": 42,
    "start_time": "2022-07-12T17:54:56.911Z"
   },
   {
    "duration": 31,
    "start_time": "2022-07-12T17:54:56.957Z"
   },
   {
    "duration": 18,
    "start_time": "2022-07-12T17:54:56.990Z"
   },
   {
    "duration": 114,
    "start_time": "2022-07-12T17:54:57.010Z"
   },
   {
    "duration": 0,
    "start_time": "2022-07-12T17:54:57.126Z"
   },
   {
    "duration": 0,
    "start_time": "2022-07-12T17:54:57.127Z"
   },
   {
    "duration": 0,
    "start_time": "2022-07-12T17:54:57.128Z"
   },
   {
    "duration": 1,
    "start_time": "2022-07-12T17:54:57.129Z"
   },
   {
    "duration": 0,
    "start_time": "2022-07-12T17:54:57.131Z"
   },
   {
    "duration": 0,
    "start_time": "2022-07-12T17:54:57.145Z"
   },
   {
    "duration": 0,
    "start_time": "2022-07-12T17:54:57.145Z"
   },
   {
    "duration": 0,
    "start_time": "2022-07-12T17:54:57.146Z"
   },
   {
    "duration": 0,
    "start_time": "2022-07-12T17:54:57.152Z"
   },
   {
    "duration": 0,
    "start_time": "2022-07-12T17:54:57.153Z"
   },
   {
    "duration": 0,
    "start_time": "2022-07-12T17:54:57.154Z"
   },
   {
    "duration": 0,
    "start_time": "2022-07-12T17:54:57.155Z"
   },
   {
    "duration": 0,
    "start_time": "2022-07-12T17:54:57.156Z"
   },
   {
    "duration": 0,
    "start_time": "2022-07-12T17:54:57.157Z"
   },
   {
    "duration": 0,
    "start_time": "2022-07-12T17:54:57.159Z"
   },
   {
    "duration": 0,
    "start_time": "2022-07-12T17:54:57.160Z"
   },
   {
    "duration": 0,
    "start_time": "2022-07-12T17:54:57.161Z"
   },
   {
    "duration": 0,
    "start_time": "2022-07-12T17:54:57.163Z"
   },
   {
    "duration": 0,
    "start_time": "2022-07-12T17:54:57.164Z"
   },
   {
    "duration": 0,
    "start_time": "2022-07-12T17:54:57.165Z"
   },
   {
    "duration": 0,
    "start_time": "2022-07-12T17:54:57.167Z"
   },
   {
    "duration": 0,
    "start_time": "2022-07-12T17:54:57.168Z"
   },
   {
    "duration": 0,
    "start_time": "2022-07-12T17:54:57.169Z"
   },
   {
    "duration": 0,
    "start_time": "2022-07-12T17:54:57.170Z"
   },
   {
    "duration": 0,
    "start_time": "2022-07-12T17:54:57.171Z"
   },
   {
    "duration": 19,
    "start_time": "2022-07-12T17:55:27.801Z"
   },
   {
    "duration": 1090,
    "start_time": "2022-07-12T17:55:54.900Z"
   },
   {
    "duration": 403,
    "start_time": "2022-07-12T17:55:55.992Z"
   },
   {
    "duration": 14,
    "start_time": "2022-07-12T17:55:56.397Z"
   },
   {
    "duration": 15,
    "start_time": "2022-07-12T17:55:56.414Z"
   },
   {
    "duration": 11,
    "start_time": "2022-07-12T17:55:56.431Z"
   },
   {
    "duration": 41,
    "start_time": "2022-07-12T17:55:56.445Z"
   },
   {
    "duration": 30,
    "start_time": "2022-07-12T17:55:56.488Z"
   },
   {
    "duration": 11,
    "start_time": "2022-07-12T17:55:56.520Z"
   },
   {
    "duration": 51,
    "start_time": "2022-07-12T17:55:56.533Z"
   },
   {
    "duration": 23,
    "start_time": "2022-07-12T17:55:56.587Z"
   },
   {
    "duration": 14,
    "start_time": "2022-07-12T17:55:56.612Z"
   },
   {
    "duration": 22,
    "start_time": "2022-07-12T17:55:56.652Z"
   },
   {
    "duration": 11,
    "start_time": "2022-07-12T17:55:56.676Z"
   },
   {
    "duration": 37,
    "start_time": "2022-07-12T17:55:56.689Z"
   },
   {
    "duration": 25,
    "start_time": "2022-07-12T17:55:56.728Z"
   },
   {
    "duration": 32,
    "start_time": "2022-07-12T17:55:56.754Z"
   },
   {
    "duration": 11,
    "start_time": "2022-07-12T17:55:56.788Z"
   },
   {
    "duration": 41,
    "start_time": "2022-07-12T17:55:56.801Z"
   },
   {
    "duration": 28,
    "start_time": "2022-07-12T17:55:56.852Z"
   },
   {
    "duration": 10,
    "start_time": "2022-07-12T17:55:56.882Z"
   },
   {
    "duration": 38,
    "start_time": "2022-07-12T17:55:56.894Z"
   },
   {
    "duration": 43,
    "start_time": "2022-07-12T17:55:56.933Z"
   },
   {
    "duration": 18,
    "start_time": "2022-07-12T17:55:56.979Z"
   },
   {
    "duration": 18,
    "start_time": "2022-07-12T17:55:56.999Z"
   },
   {
    "duration": 3,
    "start_time": "2022-07-12T17:55:57.019Z"
   },
   {
    "duration": 7,
    "start_time": "2022-07-12T17:55:57.046Z"
   },
   {
    "duration": 51,
    "start_time": "2022-07-12T17:55:57.055Z"
   },
   {
    "duration": 21,
    "start_time": "2022-07-12T17:55:57.110Z"
   },
   {
    "duration": 15,
    "start_time": "2022-07-12T17:55:57.133Z"
   },
   {
    "duration": 27,
    "start_time": "2022-07-12T17:55:57.155Z"
   },
   {
    "duration": 17,
    "start_time": "2022-07-12T17:55:57.184Z"
   },
   {
    "duration": 21,
    "start_time": "2022-07-12T17:55:57.203Z"
   },
   {
    "duration": 111,
    "start_time": "2022-07-12T17:55:57.226Z"
   },
   {
    "duration": 0,
    "start_time": "2022-07-12T17:55:57.338Z"
   },
   {
    "duration": 0,
    "start_time": "2022-07-12T17:55:57.339Z"
   },
   {
    "duration": 0,
    "start_time": "2022-07-12T17:55:57.340Z"
   },
   {
    "duration": 0,
    "start_time": "2022-07-12T17:55:57.341Z"
   },
   {
    "duration": 0,
    "start_time": "2022-07-12T17:55:57.342Z"
   },
   {
    "duration": 1,
    "start_time": "2022-07-12T17:55:57.345Z"
   },
   {
    "duration": 0,
    "start_time": "2022-07-12T17:55:57.347Z"
   },
   {
    "duration": 0,
    "start_time": "2022-07-12T17:55:57.348Z"
   },
   {
    "duration": 0,
    "start_time": "2022-07-12T17:55:57.348Z"
   },
   {
    "duration": 0,
    "start_time": "2022-07-12T17:55:57.349Z"
   },
   {
    "duration": 0,
    "start_time": "2022-07-12T17:55:57.350Z"
   },
   {
    "duration": 0,
    "start_time": "2022-07-12T17:55:57.350Z"
   },
   {
    "duration": 0,
    "start_time": "2022-07-12T17:55:57.351Z"
   },
   {
    "duration": 0,
    "start_time": "2022-07-12T17:55:57.353Z"
   },
   {
    "duration": 0,
    "start_time": "2022-07-12T17:55:57.354Z"
   },
   {
    "duration": 0,
    "start_time": "2022-07-12T17:55:57.355Z"
   },
   {
    "duration": 0,
    "start_time": "2022-07-12T17:55:57.357Z"
   },
   {
    "duration": 0,
    "start_time": "2022-07-12T17:55:57.358Z"
   },
   {
    "duration": 0,
    "start_time": "2022-07-12T17:55:57.359Z"
   },
   {
    "duration": 0,
    "start_time": "2022-07-12T17:55:57.361Z"
   },
   {
    "duration": 0,
    "start_time": "2022-07-12T17:55:57.362Z"
   },
   {
    "duration": 0,
    "start_time": "2022-07-12T17:55:57.363Z"
   },
   {
    "duration": 0,
    "start_time": "2022-07-12T17:55:57.365Z"
   },
   {
    "duration": 0,
    "start_time": "2022-07-12T17:55:57.366Z"
   },
   {
    "duration": 0,
    "start_time": "2022-07-12T17:55:57.367Z"
   },
   {
    "duration": 1040,
    "start_time": "2022-07-12T17:57:01.978Z"
   },
   {
    "duration": 369,
    "start_time": "2022-07-12T17:57:03.020Z"
   },
   {
    "duration": 13,
    "start_time": "2022-07-12T17:57:03.391Z"
   },
   {
    "duration": 14,
    "start_time": "2022-07-12T17:57:03.407Z"
   },
   {
    "duration": 10,
    "start_time": "2022-07-12T17:57:03.423Z"
   },
   {
    "duration": 14,
    "start_time": "2022-07-12T17:57:03.435Z"
   },
   {
    "duration": 46,
    "start_time": "2022-07-12T17:57:03.451Z"
   },
   {
    "duration": 10,
    "start_time": "2022-07-12T17:57:03.499Z"
   },
   {
    "duration": 62,
    "start_time": "2022-07-12T17:57:03.510Z"
   },
   {
    "duration": 25,
    "start_time": "2022-07-12T17:57:03.575Z"
   },
   {
    "duration": 16,
    "start_time": "2022-07-12T17:57:03.602Z"
   },
   {
    "duration": 47,
    "start_time": "2022-07-12T17:57:03.619Z"
   },
   {
    "duration": 14,
    "start_time": "2022-07-12T17:57:03.668Z"
   },
   {
    "duration": 26,
    "start_time": "2022-07-12T17:57:03.684Z"
   },
   {
    "duration": 17,
    "start_time": "2022-07-12T17:57:03.713Z"
   },
   {
    "duration": 33,
    "start_time": "2022-07-12T17:57:03.748Z"
   },
   {
    "duration": 8,
    "start_time": "2022-07-12T17:57:03.783Z"
   },
   {
    "duration": 35,
    "start_time": "2022-07-12T17:57:03.792Z"
   },
   {
    "duration": 38,
    "start_time": "2022-07-12T17:57:03.829Z"
   },
   {
    "duration": 8,
    "start_time": "2022-07-12T17:57:03.869Z"
   },
   {
    "duration": 42,
    "start_time": "2022-07-12T17:57:03.880Z"
   },
   {
    "duration": 45,
    "start_time": "2022-07-12T17:57:03.924Z"
   },
   {
    "duration": 24,
    "start_time": "2022-07-12T17:57:03.971Z"
   },
   {
    "duration": 21,
    "start_time": "2022-07-12T17:57:03.997Z"
   },
   {
    "duration": 3,
    "start_time": "2022-07-12T17:57:04.019Z"
   },
   {
    "duration": 28,
    "start_time": "2022-07-12T17:57:04.023Z"
   },
   {
    "duration": 53,
    "start_time": "2022-07-12T17:57:04.053Z"
   },
   {
    "duration": 21,
    "start_time": "2022-07-12T17:57:04.109Z"
   },
   {
    "duration": 18,
    "start_time": "2022-07-12T17:57:04.132Z"
   },
   {
    "duration": 15,
    "start_time": "2022-07-12T17:57:04.162Z"
   },
   {
    "duration": 10,
    "start_time": "2022-07-12T17:57:04.179Z"
   },
   {
    "duration": 18,
    "start_time": "2022-07-12T17:57:04.190Z"
   },
   {
    "duration": 114,
    "start_time": "2022-07-12T17:57:04.210Z"
   },
   {
    "duration": 0,
    "start_time": "2022-07-12T17:57:04.325Z"
   },
   {
    "duration": 0,
    "start_time": "2022-07-12T17:57:04.326Z"
   },
   {
    "duration": 0,
    "start_time": "2022-07-12T17:57:04.327Z"
   },
   {
    "duration": 0,
    "start_time": "2022-07-12T17:57:04.328Z"
   },
   {
    "duration": 0,
    "start_time": "2022-07-12T17:57:04.329Z"
   },
   {
    "duration": 0,
    "start_time": "2022-07-12T17:57:04.331Z"
   },
   {
    "duration": 0,
    "start_time": "2022-07-12T17:57:04.331Z"
   },
   {
    "duration": 0,
    "start_time": "2022-07-12T17:57:04.332Z"
   },
   {
    "duration": 0,
    "start_time": "2022-07-12T17:57:04.334Z"
   },
   {
    "duration": 0,
    "start_time": "2022-07-12T17:57:04.334Z"
   },
   {
    "duration": 0,
    "start_time": "2022-07-12T17:57:04.347Z"
   },
   {
    "duration": 0,
    "start_time": "2022-07-12T17:57:04.348Z"
   },
   {
    "duration": 0,
    "start_time": "2022-07-12T17:57:04.349Z"
   },
   {
    "duration": 0,
    "start_time": "2022-07-12T17:57:04.350Z"
   },
   {
    "duration": 0,
    "start_time": "2022-07-12T17:57:04.351Z"
   },
   {
    "duration": 0,
    "start_time": "2022-07-12T17:57:04.351Z"
   },
   {
    "duration": 0,
    "start_time": "2022-07-12T17:57:04.352Z"
   },
   {
    "duration": 0,
    "start_time": "2022-07-12T17:57:04.353Z"
   },
   {
    "duration": 0,
    "start_time": "2022-07-12T17:57:04.353Z"
   },
   {
    "duration": 0,
    "start_time": "2022-07-12T17:57:04.354Z"
   },
   {
    "duration": 0,
    "start_time": "2022-07-12T17:57:04.355Z"
   },
   {
    "duration": 0,
    "start_time": "2022-07-12T17:57:04.356Z"
   },
   {
    "duration": 0,
    "start_time": "2022-07-12T17:57:04.356Z"
   },
   {
    "duration": 0,
    "start_time": "2022-07-12T17:57:04.357Z"
   },
   {
    "duration": 0,
    "start_time": "2022-07-12T17:57:04.358Z"
   },
   {
    "duration": 1084,
    "start_time": "2022-07-12T17:59:04.381Z"
   },
   {
    "duration": 421,
    "start_time": "2022-07-12T17:59:05.470Z"
   },
   {
    "duration": 14,
    "start_time": "2022-07-12T17:59:05.892Z"
   },
   {
    "duration": 32,
    "start_time": "2022-07-12T17:59:05.908Z"
   },
   {
    "duration": 16,
    "start_time": "2022-07-12T17:59:05.943Z"
   },
   {
    "duration": 34,
    "start_time": "2022-07-12T17:59:05.961Z"
   },
   {
    "duration": 24,
    "start_time": "2022-07-12T17:59:05.997Z"
   },
   {
    "duration": 13,
    "start_time": "2022-07-12T17:59:06.023Z"
   },
   {
    "duration": 60,
    "start_time": "2022-07-12T17:59:06.038Z"
   },
   {
    "duration": 25,
    "start_time": "2022-07-12T17:59:06.099Z"
   },
   {
    "duration": 30,
    "start_time": "2022-07-12T17:59:06.125Z"
   },
   {
    "duration": 30,
    "start_time": "2022-07-12T17:59:06.157Z"
   },
   {
    "duration": 11,
    "start_time": "2022-07-12T17:59:06.189Z"
   },
   {
    "duration": 44,
    "start_time": "2022-07-12T17:59:06.203Z"
   },
   {
    "duration": 25,
    "start_time": "2022-07-12T17:59:06.252Z"
   },
   {
    "duration": 18,
    "start_time": "2022-07-12T17:59:06.281Z"
   },
   {
    "duration": 8,
    "start_time": "2022-07-12T17:59:06.300Z"
   },
   {
    "duration": 47,
    "start_time": "2022-07-12T17:59:06.310Z"
   },
   {
    "duration": 29,
    "start_time": "2022-07-12T17:59:06.361Z"
   },
   {
    "duration": 12,
    "start_time": "2022-07-12T17:59:06.391Z"
   },
   {
    "duration": 50,
    "start_time": "2022-07-12T17:59:06.404Z"
   },
   {
    "duration": 38,
    "start_time": "2022-07-12T17:59:06.457Z"
   },
   {
    "duration": 19,
    "start_time": "2022-07-12T17:59:06.496Z"
   },
   {
    "duration": 37,
    "start_time": "2022-07-12T17:59:06.516Z"
   },
   {
    "duration": 3,
    "start_time": "2022-07-12T17:59:06.555Z"
   },
   {
    "duration": 25,
    "start_time": "2022-07-12T17:59:06.560Z"
   },
   {
    "duration": 27,
    "start_time": "2022-07-12T17:59:06.587Z"
   },
   {
    "duration": 18,
    "start_time": "2022-07-12T17:59:06.615Z"
   },
   {
    "duration": 16,
    "start_time": "2022-07-12T17:59:06.635Z"
   },
   {
    "duration": 26,
    "start_time": "2022-07-12T17:59:06.655Z"
   },
   {
    "duration": 12,
    "start_time": "2022-07-12T17:59:06.683Z"
   },
   {
    "duration": 17,
    "start_time": "2022-07-12T17:59:06.696Z"
   },
   {
    "duration": 20,
    "start_time": "2022-07-12T17:59:06.715Z"
   },
   {
    "duration": 40,
    "start_time": "2022-07-12T17:59:06.737Z"
   },
   {
    "duration": 10,
    "start_time": "2022-07-12T17:59:06.778Z"
   },
   {
    "duration": 16,
    "start_time": "2022-07-12T17:59:06.789Z"
   },
   {
    "duration": 11,
    "start_time": "2022-07-12T17:59:06.806Z"
   },
   {
    "duration": 169,
    "start_time": "2022-07-12T17:59:06.819Z"
   },
   {
    "duration": 0,
    "start_time": "2022-07-12T17:59:06.990Z"
   },
   {
    "duration": 0,
    "start_time": "2022-07-12T17:59:06.992Z"
   },
   {
    "duration": 0,
    "start_time": "2022-07-12T17:59:06.993Z"
   },
   {
    "duration": 0,
    "start_time": "2022-07-12T17:59:06.994Z"
   },
   {
    "duration": 0,
    "start_time": "2022-07-12T17:59:06.995Z"
   },
   {
    "duration": 0,
    "start_time": "2022-07-12T17:59:06.996Z"
   },
   {
    "duration": 0,
    "start_time": "2022-07-12T17:59:06.997Z"
   },
   {
    "duration": 0,
    "start_time": "2022-07-12T17:59:06.998Z"
   },
   {
    "duration": 0,
    "start_time": "2022-07-12T17:59:06.999Z"
   },
   {
    "duration": 0,
    "start_time": "2022-07-12T17:59:07.000Z"
   },
   {
    "duration": 0,
    "start_time": "2022-07-12T17:59:07.001Z"
   },
   {
    "duration": 0,
    "start_time": "2022-07-12T17:59:07.002Z"
   },
   {
    "duration": 0,
    "start_time": "2022-07-12T17:59:07.003Z"
   },
   {
    "duration": 0,
    "start_time": "2022-07-12T17:59:07.004Z"
   },
   {
    "duration": 1,
    "start_time": "2022-07-12T17:59:07.005Z"
   },
   {
    "duration": 0,
    "start_time": "2022-07-12T17:59:07.006Z"
   },
   {
    "duration": 0,
    "start_time": "2022-07-12T17:59:07.007Z"
   },
   {
    "duration": 0,
    "start_time": "2022-07-12T17:59:07.008Z"
   },
   {
    "duration": 0,
    "start_time": "2022-07-12T17:59:07.009Z"
   },
   {
    "duration": 0,
    "start_time": "2022-07-12T17:59:07.010Z"
   },
   {
    "duration": 1106,
    "start_time": "2022-07-12T17:59:36.198Z"
   },
   {
    "duration": 363,
    "start_time": "2022-07-12T17:59:37.306Z"
   },
   {
    "duration": 13,
    "start_time": "2022-07-12T17:59:37.670Z"
   },
   {
    "duration": 25,
    "start_time": "2022-07-12T17:59:37.685Z"
   },
   {
    "duration": 10,
    "start_time": "2022-07-12T17:59:37.712Z"
   },
   {
    "duration": 14,
    "start_time": "2022-07-12T17:59:37.724Z"
   },
   {
    "duration": 37,
    "start_time": "2022-07-12T17:59:37.740Z"
   },
   {
    "duration": 10,
    "start_time": "2022-07-12T17:59:37.779Z"
   },
   {
    "duration": 42,
    "start_time": "2022-07-12T17:59:37.791Z"
   },
   {
    "duration": 32,
    "start_time": "2022-07-12T17:59:37.835Z"
   },
   {
    "duration": 26,
    "start_time": "2022-07-12T17:59:37.868Z"
   },
   {
    "duration": 18,
    "start_time": "2022-07-12T17:59:37.896Z"
   },
   {
    "duration": 7,
    "start_time": "2022-07-12T17:59:37.916Z"
   },
   {
    "duration": 30,
    "start_time": "2022-07-12T17:59:37.948Z"
   },
   {
    "duration": 23,
    "start_time": "2022-07-12T17:59:37.981Z"
   },
   {
    "duration": 18,
    "start_time": "2022-07-12T17:59:38.006Z"
   },
   {
    "duration": 16,
    "start_time": "2022-07-12T17:59:38.049Z"
   },
   {
    "duration": 44,
    "start_time": "2022-07-12T17:59:38.067Z"
   },
   {
    "duration": 21,
    "start_time": "2022-07-12T17:59:38.113Z"
   },
   {
    "duration": 26,
    "start_time": "2022-07-12T17:59:38.136Z"
   },
   {
    "duration": 35,
    "start_time": "2022-07-12T17:59:38.164Z"
   },
   {
    "duration": 22,
    "start_time": "2022-07-12T17:59:38.200Z"
   },
   {
    "duration": 31,
    "start_time": "2022-07-12T17:59:38.224Z"
   },
   {
    "duration": 22,
    "start_time": "2022-07-12T17:59:38.257Z"
   },
   {
    "duration": 3,
    "start_time": "2022-07-12T17:59:38.281Z"
   },
   {
    "duration": 11,
    "start_time": "2022-07-12T17:59:38.285Z"
   },
   {
    "duration": 33,
    "start_time": "2022-07-12T17:59:38.297Z"
   },
   {
    "duration": 35,
    "start_time": "2022-07-12T17:59:38.334Z"
   },
   {
    "duration": 15,
    "start_time": "2022-07-12T17:59:38.371Z"
   },
   {
    "duration": 9,
    "start_time": "2022-07-12T17:59:38.388Z"
   },
   {
    "duration": 9,
    "start_time": "2022-07-12T17:59:38.399Z"
   },
   {
    "duration": 40,
    "start_time": "2022-07-12T17:59:38.410Z"
   },
   {
    "duration": 32,
    "start_time": "2022-07-12T17:59:38.451Z"
   },
   {
    "duration": 24,
    "start_time": "2022-07-12T17:59:38.484Z"
   },
   {
    "duration": 6,
    "start_time": "2022-07-12T17:59:38.510Z"
   },
   {
    "duration": 39,
    "start_time": "2022-07-12T17:59:38.518Z"
   },
   {
    "duration": 18,
    "start_time": "2022-07-12T17:59:38.559Z"
   },
   {
    "duration": 46,
    "start_time": "2022-07-12T17:59:38.579Z"
   },
   {
    "duration": 32,
    "start_time": "2022-07-12T17:59:38.626Z"
   },
   {
    "duration": 49,
    "start_time": "2022-07-12T17:59:38.660Z"
   },
   {
    "duration": 26,
    "start_time": "2022-07-12T17:59:38.711Z"
   },
   {
    "duration": 10,
    "start_time": "2022-07-12T17:59:38.738Z"
   },
   {
    "duration": 48,
    "start_time": "2022-07-12T17:59:38.749Z"
   },
   {
    "duration": 30,
    "start_time": "2022-07-12T17:59:38.799Z"
   },
   {
    "duration": 25,
    "start_time": "2022-07-12T17:59:38.831Z"
   },
   {
    "duration": 49,
    "start_time": "2022-07-12T17:59:38.858Z"
   },
   {
    "duration": 44,
    "start_time": "2022-07-12T17:59:38.909Z"
   },
   {
    "duration": 34,
    "start_time": "2022-07-12T17:59:38.955Z"
   },
   {
    "duration": 141,
    "start_time": "2022-07-12T17:59:38.991Z"
   },
   {
    "duration": 0,
    "start_time": "2022-07-12T17:59:39.135Z"
   },
   {
    "duration": 0,
    "start_time": "2022-07-12T17:59:39.136Z"
   },
   {
    "duration": 0,
    "start_time": "2022-07-12T17:59:39.137Z"
   },
   {
    "duration": 0,
    "start_time": "2022-07-12T17:59:39.145Z"
   },
   {
    "duration": 0,
    "start_time": "2022-07-12T17:59:39.146Z"
   },
   {
    "duration": 0,
    "start_time": "2022-07-12T17:59:39.149Z"
   },
   {
    "duration": 0,
    "start_time": "2022-07-12T17:59:39.150Z"
   },
   {
    "duration": 1,
    "start_time": "2022-07-12T17:59:39.151Z"
   },
   {
    "duration": 0,
    "start_time": "2022-07-12T17:59:39.153Z"
   },
   {
    "duration": 1019,
    "start_time": "2022-07-12T18:00:12.386Z"
   },
   {
    "duration": 373,
    "start_time": "2022-07-12T18:00:13.406Z"
   },
   {
    "duration": 12,
    "start_time": "2022-07-12T18:00:13.781Z"
   },
   {
    "duration": 16,
    "start_time": "2022-07-12T18:00:13.795Z"
   },
   {
    "duration": 11,
    "start_time": "2022-07-12T18:00:13.813Z"
   },
   {
    "duration": 26,
    "start_time": "2022-07-12T18:00:13.826Z"
   },
   {
    "duration": 32,
    "start_time": "2022-07-12T18:00:13.856Z"
   },
   {
    "duration": 10,
    "start_time": "2022-07-12T18:00:13.890Z"
   },
   {
    "duration": 59,
    "start_time": "2022-07-12T18:00:13.901Z"
   },
   {
    "duration": 28,
    "start_time": "2022-07-12T18:00:13.962Z"
   },
   {
    "duration": 17,
    "start_time": "2022-07-12T18:00:13.992Z"
   },
   {
    "duration": 46,
    "start_time": "2022-07-12T18:00:14.011Z"
   },
   {
    "duration": 9,
    "start_time": "2022-07-12T18:00:14.059Z"
   },
   {
    "duration": 28,
    "start_time": "2022-07-12T18:00:14.073Z"
   },
   {
    "duration": 18,
    "start_time": "2022-07-12T18:00:14.103Z"
   },
   {
    "duration": 50,
    "start_time": "2022-07-12T18:00:14.123Z"
   },
   {
    "duration": 10,
    "start_time": "2022-07-12T18:00:14.175Z"
   },
   {
    "duration": 35,
    "start_time": "2022-07-12T18:00:14.187Z"
   },
   {
    "duration": 44,
    "start_time": "2022-07-12T18:00:14.223Z"
   },
   {
    "duration": 9,
    "start_time": "2022-07-12T18:00:14.269Z"
   },
   {
    "duration": 27,
    "start_time": "2022-07-12T18:00:14.280Z"
   },
   {
    "duration": 52,
    "start_time": "2022-07-12T18:00:14.309Z"
   },
   {
    "duration": 20,
    "start_time": "2022-07-12T18:00:14.363Z"
   },
   {
    "duration": 18,
    "start_time": "2022-07-12T18:00:14.384Z"
   },
   {
    "duration": 2,
    "start_time": "2022-07-12T18:00:14.404Z"
   },
   {
    "duration": 6,
    "start_time": "2022-07-12T18:00:14.407Z"
   },
   {
    "duration": 61,
    "start_time": "2022-07-12T18:00:14.415Z"
   },
   {
    "duration": 20,
    "start_time": "2022-07-12T18:00:14.478Z"
   },
   {
    "duration": 12,
    "start_time": "2022-07-12T18:00:14.499Z"
   },
   {
    "duration": 13,
    "start_time": "2022-07-12T18:00:14.512Z"
   },
   {
    "duration": 12,
    "start_time": "2022-07-12T18:00:14.551Z"
   },
   {
    "duration": 18,
    "start_time": "2022-07-12T18:00:14.565Z"
   },
   {
    "duration": 21,
    "start_time": "2022-07-12T18:00:14.585Z"
   },
   {
    "duration": 47,
    "start_time": "2022-07-12T18:00:14.608Z"
   },
   {
    "duration": 7,
    "start_time": "2022-07-12T18:00:14.657Z"
   },
   {
    "duration": 22,
    "start_time": "2022-07-12T18:00:14.665Z"
   },
   {
    "duration": 12,
    "start_time": "2022-07-12T18:00:14.689Z"
   },
   {
    "duration": 48,
    "start_time": "2022-07-12T18:00:14.703Z"
   },
   {
    "duration": 35,
    "start_time": "2022-07-12T18:00:14.752Z"
   },
   {
    "duration": 30,
    "start_time": "2022-07-12T18:00:14.788Z"
   },
   {
    "duration": 44,
    "start_time": "2022-07-12T18:00:14.822Z"
   },
   {
    "duration": 8,
    "start_time": "2022-07-12T18:00:14.868Z"
   },
   {
    "duration": 24,
    "start_time": "2022-07-12T18:00:14.878Z"
   },
   {
    "duration": 25,
    "start_time": "2022-07-12T18:00:14.904Z"
   },
   {
    "duration": 18,
    "start_time": "2022-07-12T18:00:14.955Z"
   },
   {
    "duration": 25,
    "start_time": "2022-07-12T18:00:14.975Z"
   },
   {
    "duration": 34,
    "start_time": "2022-07-12T18:00:15.002Z"
   },
   {
    "duration": 26,
    "start_time": "2022-07-12T18:00:15.055Z"
   },
   {
    "duration": 14,
    "start_time": "2022-07-12T18:00:15.082Z"
   },
   {
    "duration": 10,
    "start_time": "2022-07-12T18:00:15.098Z"
   },
   {
    "duration": 1667,
    "start_time": "2022-07-12T18:00:15.109Z"
   },
   {
    "duration": 0,
    "start_time": "2022-07-12T18:00:16.778Z"
   },
   {
    "duration": 0,
    "start_time": "2022-07-12T18:00:16.779Z"
   },
   {
    "duration": 0,
    "start_time": "2022-07-12T18:00:16.780Z"
   },
   {
    "duration": 0,
    "start_time": "2022-07-12T18:00:16.781Z"
   },
   {
    "duration": 0,
    "start_time": "2022-07-12T18:00:16.782Z"
   },
   {
    "duration": 0,
    "start_time": "2022-07-12T18:00:16.783Z"
   },
   {
    "duration": 0,
    "start_time": "2022-07-12T18:00:16.784Z"
   },
   {
    "duration": 1187,
    "start_time": "2022-07-12T18:01:14.895Z"
   },
   {
    "duration": 411,
    "start_time": "2022-07-12T18:01:16.085Z"
   },
   {
    "duration": 12,
    "start_time": "2022-07-12T18:01:16.498Z"
   },
   {
    "duration": 18,
    "start_time": "2022-07-12T18:01:16.513Z"
   },
   {
    "duration": 11,
    "start_time": "2022-07-12T18:01:16.532Z"
   },
   {
    "duration": 40,
    "start_time": "2022-07-12T18:01:16.549Z"
   },
   {
    "duration": 26,
    "start_time": "2022-07-12T18:01:16.591Z"
   },
   {
    "duration": 12,
    "start_time": "2022-07-12T18:01:16.619Z"
   },
   {
    "duration": 60,
    "start_time": "2022-07-12T18:01:16.632Z"
   },
   {
    "duration": 25,
    "start_time": "2022-07-12T18:01:16.694Z"
   },
   {
    "duration": 35,
    "start_time": "2022-07-12T18:01:16.720Z"
   },
   {
    "duration": 26,
    "start_time": "2022-07-12T18:01:16.757Z"
   },
   {
    "duration": 8,
    "start_time": "2022-07-12T18:01:16.785Z"
   },
   {
    "duration": 34,
    "start_time": "2022-07-12T18:01:16.794Z"
   },
   {
    "duration": 27,
    "start_time": "2022-07-12T18:01:16.846Z"
   },
   {
    "duration": 25,
    "start_time": "2022-07-12T18:01:16.875Z"
   },
   {
    "duration": 10,
    "start_time": "2022-07-12T18:01:16.901Z"
   },
   {
    "duration": 62,
    "start_time": "2022-07-12T18:01:16.912Z"
   },
   {
    "duration": 20,
    "start_time": "2022-07-12T18:01:16.976Z"
   },
   {
    "duration": 9,
    "start_time": "2022-07-12T18:01:16.998Z"
   },
   {
    "duration": 58,
    "start_time": "2022-07-12T18:01:17.009Z"
   },
   {
    "duration": 28,
    "start_time": "2022-07-12T18:01:17.070Z"
   },
   {
    "duration": 18,
    "start_time": "2022-07-12T18:01:17.100Z"
   },
   {
    "duration": 34,
    "start_time": "2022-07-12T18:01:17.121Z"
   },
   {
    "duration": 13,
    "start_time": "2022-07-12T18:01:17.159Z"
   },
   {
    "duration": 11,
    "start_time": "2022-07-12T18:01:17.176Z"
   },
   {
    "duration": 28,
    "start_time": "2022-07-12T18:01:17.188Z"
   },
   {
    "duration": 18,
    "start_time": "2022-07-12T18:01:17.220Z"
   },
   {
    "duration": 25,
    "start_time": "2022-07-12T18:01:17.240Z"
   },
   {
    "duration": 15,
    "start_time": "2022-07-12T18:01:17.267Z"
   },
   {
    "duration": 10,
    "start_time": "2022-07-12T18:01:17.284Z"
   },
   {
    "duration": 16,
    "start_time": "2022-07-12T18:01:17.295Z"
   },
   {
    "duration": 43,
    "start_time": "2022-07-12T18:01:17.313Z"
   },
   {
    "duration": 29,
    "start_time": "2022-07-12T18:01:17.360Z"
   },
   {
    "duration": 6,
    "start_time": "2022-07-12T18:01:17.391Z"
   },
   {
    "duration": 20,
    "start_time": "2022-07-12T18:01:17.398Z"
   },
   {
    "duration": 14,
    "start_time": "2022-07-12T18:01:17.421Z"
   },
   {
    "duration": 66,
    "start_time": "2022-07-12T18:01:17.437Z"
   },
   {
    "duration": 27,
    "start_time": "2022-07-12T18:01:17.505Z"
   },
   {
    "duration": 44,
    "start_time": "2022-07-12T18:01:17.533Z"
   },
   {
    "duration": 29,
    "start_time": "2022-07-12T18:01:17.578Z"
   },
   {
    "duration": 8,
    "start_time": "2022-07-12T18:01:17.609Z"
   },
   {
    "duration": 40,
    "start_time": "2022-07-12T18:01:17.619Z"
   },
   {
    "duration": 32,
    "start_time": "2022-07-12T18:01:17.660Z"
   },
   {
    "duration": 16,
    "start_time": "2022-07-12T18:01:17.694Z"
   },
   {
    "duration": 40,
    "start_time": "2022-07-12T18:01:17.711Z"
   },
   {
    "duration": 39,
    "start_time": "2022-07-12T18:01:17.752Z"
   },
   {
    "duration": 25,
    "start_time": "2022-07-12T18:01:17.792Z"
   },
   {
    "duration": 14,
    "start_time": "2022-07-12T18:01:17.819Z"
   },
   {
    "duration": 15,
    "start_time": "2022-07-12T18:01:17.848Z"
   },
   {
    "duration": 230,
    "start_time": "2022-07-12T18:01:17.865Z"
   },
   {
    "duration": 1228,
    "start_time": "2022-07-12T18:01:18.097Z"
   },
   {
    "duration": 0,
    "start_time": "2022-07-12T18:01:19.327Z"
   },
   {
    "duration": 0,
    "start_time": "2022-07-12T18:01:19.329Z"
   },
   {
    "duration": 0,
    "start_time": "2022-07-12T18:01:19.330Z"
   },
   {
    "duration": 0,
    "start_time": "2022-07-12T18:01:19.331Z"
   },
   {
    "duration": 0,
    "start_time": "2022-07-12T18:01:19.332Z"
   },
   {
    "duration": 0,
    "start_time": "2022-07-12T18:01:19.334Z"
   },
   {
    "duration": 1335,
    "start_time": "2022-07-12T22:07:50.452Z"
   },
   {
    "duration": 1489,
    "start_time": "2022-07-12T22:07:51.789Z"
   },
   {
    "duration": 19,
    "start_time": "2022-07-12T22:07:53.280Z"
   },
   {
    "duration": 19,
    "start_time": "2022-07-12T22:07:53.302Z"
   },
   {
    "duration": 16,
    "start_time": "2022-07-12T22:07:53.322Z"
   },
   {
    "duration": 15,
    "start_time": "2022-07-12T22:07:53.341Z"
   },
   {
    "duration": 50,
    "start_time": "2022-07-12T22:07:53.358Z"
   },
   {
    "duration": 15,
    "start_time": "2022-07-12T22:07:53.410Z"
   },
   {
    "duration": 49,
    "start_time": "2022-07-12T22:07:53.427Z"
   },
   {
    "duration": 44,
    "start_time": "2022-07-12T22:07:53.478Z"
   },
   {
    "duration": 18,
    "start_time": "2022-07-12T22:07:53.523Z"
   },
   {
    "duration": 18,
    "start_time": "2022-07-12T22:07:53.543Z"
   },
   {
    "duration": 41,
    "start_time": "2022-07-12T22:07:53.563Z"
   },
   {
    "duration": 51,
    "start_time": "2022-07-12T22:07:53.606Z"
   },
   {
    "duration": 20,
    "start_time": "2022-07-12T22:07:53.659Z"
   },
   {
    "duration": 39,
    "start_time": "2022-07-12T22:07:53.681Z"
   },
   {
    "duration": 10,
    "start_time": "2022-07-12T22:07:53.722Z"
   },
   {
    "duration": 34,
    "start_time": "2022-07-12T22:07:53.734Z"
   },
   {
    "duration": 22,
    "start_time": "2022-07-12T22:07:53.798Z"
   },
   {
    "duration": 10,
    "start_time": "2022-07-12T22:07:53.822Z"
   },
   {
    "duration": 65,
    "start_time": "2022-07-12T22:07:53.835Z"
   },
   {
    "duration": 41,
    "start_time": "2022-07-12T22:07:53.903Z"
   },
   {
    "duration": 54,
    "start_time": "2022-07-12T22:07:53.946Z"
   },
   {
    "duration": 33,
    "start_time": "2022-07-12T22:07:54.002Z"
   },
   {
    "duration": 3,
    "start_time": "2022-07-12T22:07:54.037Z"
   },
   {
    "duration": 10,
    "start_time": "2022-07-12T22:07:54.042Z"
   },
   {
    "duration": 73,
    "start_time": "2022-07-12T22:07:54.056Z"
   },
   {
    "duration": 37,
    "start_time": "2022-07-12T22:07:54.136Z"
   },
   {
    "duration": 41,
    "start_time": "2022-07-12T22:07:54.175Z"
   },
   {
    "duration": 14,
    "start_time": "2022-07-12T22:07:54.218Z"
   },
   {
    "duration": 15,
    "start_time": "2022-07-12T22:07:54.236Z"
   },
   {
    "duration": 50,
    "start_time": "2022-07-12T22:07:54.253Z"
   },
   {
    "duration": 25,
    "start_time": "2022-07-12T22:07:54.306Z"
   },
   {
    "duration": 64,
    "start_time": "2022-07-12T22:07:54.334Z"
   },
   {
    "duration": 8,
    "start_time": "2022-07-12T22:07:54.400Z"
   },
   {
    "duration": 32,
    "start_time": "2022-07-12T22:07:54.410Z"
   },
   {
    "duration": 21,
    "start_time": "2022-07-12T22:07:54.444Z"
   },
   {
    "duration": 57,
    "start_time": "2022-07-12T22:07:54.467Z"
   },
   {
    "duration": 27,
    "start_time": "2022-07-12T22:07:54.526Z"
   },
   {
    "duration": 56,
    "start_time": "2022-07-12T22:07:54.555Z"
   },
   {
    "duration": 31,
    "start_time": "2022-07-12T22:07:54.613Z"
   },
   {
    "duration": 11,
    "start_time": "2022-07-12T22:07:54.646Z"
   },
   {
    "duration": 63,
    "start_time": "2022-07-12T22:07:54.660Z"
   },
   {
    "duration": 41,
    "start_time": "2022-07-12T22:07:54.726Z"
   },
   {
    "duration": 38,
    "start_time": "2022-07-12T22:07:54.770Z"
   },
   {
    "duration": 45,
    "start_time": "2022-07-12T22:07:54.811Z"
   },
   {
    "duration": 68,
    "start_time": "2022-07-12T22:07:54.858Z"
   },
   {
    "duration": 47,
    "start_time": "2022-07-12T22:07:54.928Z"
   },
   {
    "duration": 43,
    "start_time": "2022-07-12T22:07:54.977Z"
   },
   {
    "duration": 18,
    "start_time": "2022-07-12T22:07:55.023Z"
   },
   {
    "duration": 268,
    "start_time": "2022-07-12T22:07:55.043Z"
   },
   {
    "duration": 1477,
    "start_time": "2022-07-12T22:07:55.315Z"
   },
   {
    "duration": 0,
    "start_time": "2022-07-12T22:07:56.796Z"
   },
   {
    "duration": 0,
    "start_time": "2022-07-12T22:07:56.798Z"
   },
   {
    "duration": 0,
    "start_time": "2022-07-12T22:07:56.799Z"
   },
   {
    "duration": 0,
    "start_time": "2022-07-12T22:07:56.800Z"
   },
   {
    "duration": 0,
    "start_time": "2022-07-12T22:07:56.802Z"
   },
   {
    "duration": 0,
    "start_time": "2022-07-12T22:07:56.803Z"
   },
   {
    "duration": 27,
    "start_time": "2022-07-12T22:14:30.426Z"
   },
   {
    "duration": 1618,
    "start_time": "2022-07-12T22:14:53.340Z"
   },
   {
    "duration": 396,
    "start_time": "2022-07-12T22:14:54.961Z"
   },
   {
    "duration": 16,
    "start_time": "2022-07-12T22:14:55.359Z"
   },
   {
    "duration": 22,
    "start_time": "2022-07-12T22:14:55.377Z"
   },
   {
    "duration": 11,
    "start_time": "2022-07-12T22:14:55.401Z"
   },
   {
    "duration": 19,
    "start_time": "2022-07-12T22:14:55.414Z"
   },
   {
    "duration": 20,
    "start_time": "2022-07-12T22:14:55.435Z"
   },
   {
    "duration": 12,
    "start_time": "2022-07-12T22:14:55.457Z"
   },
   {
    "duration": 63,
    "start_time": "2022-07-12T22:14:55.471Z"
   },
   {
    "duration": 24,
    "start_time": "2022-07-12T22:14:55.538Z"
   },
   {
    "duration": 37,
    "start_time": "2022-07-12T22:14:55.564Z"
   },
   {
    "duration": 20,
    "start_time": "2022-07-12T22:14:55.603Z"
   },
   {
    "duration": 10,
    "start_time": "2022-07-12T22:14:55.626Z"
   },
   {
    "duration": 28,
    "start_time": "2022-07-12T22:14:55.638Z"
   },
   {
    "duration": 48,
    "start_time": "2022-07-12T22:14:55.668Z"
   },
   {
    "duration": 18,
    "start_time": "2022-07-12T22:14:55.718Z"
   },
   {
    "duration": 10,
    "start_time": "2022-07-12T22:14:55.737Z"
   },
   {
    "duration": 73,
    "start_time": "2022-07-12T22:14:55.749Z"
   },
   {
    "duration": 24,
    "start_time": "2022-07-12T22:14:55.824Z"
   },
   {
    "duration": 9,
    "start_time": "2022-07-12T22:14:55.849Z"
   },
   {
    "duration": 49,
    "start_time": "2022-07-12T22:14:55.860Z"
   },
   {
    "duration": 28,
    "start_time": "2022-07-12T22:14:55.911Z"
   },
   {
    "duration": 19,
    "start_time": "2022-07-12T22:14:55.941Z"
   },
   {
    "duration": 50,
    "start_time": "2022-07-12T22:14:55.961Z"
   },
   {
    "duration": 2,
    "start_time": "2022-07-12T22:14:56.013Z"
   },
   {
    "duration": 4,
    "start_time": "2022-07-12T22:14:56.018Z"
   },
   {
    "duration": 30,
    "start_time": "2022-07-12T22:14:56.024Z"
   },
   {
    "duration": 42,
    "start_time": "2022-07-12T22:14:56.058Z"
   },
   {
    "duration": 14,
    "start_time": "2022-07-12T22:14:56.102Z"
   },
   {
    "duration": 11,
    "start_time": "2022-07-12T22:14:56.118Z"
   },
   {
    "duration": 10,
    "start_time": "2022-07-12T22:14:56.132Z"
   },
   {
    "duration": 55,
    "start_time": "2022-07-12T22:14:56.144Z"
   },
   {
    "duration": 26,
    "start_time": "2022-07-12T22:14:56.201Z"
   },
   {
    "duration": 27,
    "start_time": "2022-07-12T22:14:56.229Z"
   },
   {
    "duration": 6,
    "start_time": "2022-07-12T22:14:56.258Z"
   },
   {
    "duration": 43,
    "start_time": "2022-07-12T22:14:56.266Z"
   },
   {
    "duration": 19,
    "start_time": "2022-07-12T22:14:56.311Z"
   },
   {
    "duration": 41,
    "start_time": "2022-07-12T22:14:56.332Z"
   },
   {
    "duration": 27,
    "start_time": "2022-07-12T22:14:56.399Z"
   },
   {
    "duration": 34,
    "start_time": "2022-07-12T22:14:56.428Z"
   },
   {
    "duration": 61,
    "start_time": "2022-07-12T22:14:56.464Z"
   },
   {
    "duration": 12,
    "start_time": "2022-07-12T22:14:56.527Z"
   },
   {
    "duration": 34,
    "start_time": "2022-07-12T22:14:56.541Z"
   },
   {
    "duration": 45,
    "start_time": "2022-07-12T22:14:56.577Z"
   },
   {
    "duration": 24,
    "start_time": "2022-07-12T22:14:56.625Z"
   },
   {
    "duration": 55,
    "start_time": "2022-07-12T22:14:56.651Z"
   },
   {
    "duration": 47,
    "start_time": "2022-07-12T22:14:56.708Z"
   },
   {
    "duration": 56,
    "start_time": "2022-07-12T22:14:56.758Z"
   },
   {
    "duration": 22,
    "start_time": "2022-07-12T22:14:56.817Z"
   },
   {
    "duration": 21,
    "start_time": "2022-07-12T22:14:56.841Z"
   },
   {
    "duration": 253,
    "start_time": "2022-07-12T22:14:56.864Z"
   },
   {
    "duration": 1333,
    "start_time": "2022-07-12T22:14:57.119Z"
   },
   {
    "duration": 0,
    "start_time": "2022-07-12T22:14:58.454Z"
   },
   {
    "duration": 0,
    "start_time": "2022-07-12T22:14:58.455Z"
   },
   {
    "duration": 0,
    "start_time": "2022-07-12T22:14:58.456Z"
   },
   {
    "duration": 0,
    "start_time": "2022-07-12T22:14:58.458Z"
   },
   {
    "duration": 0,
    "start_time": "2022-07-12T22:14:58.459Z"
   },
   {
    "duration": 0,
    "start_time": "2022-07-12T22:14:58.460Z"
   },
   {
    "duration": 24,
    "start_time": "2022-07-12T22:18:09.038Z"
   },
   {
    "duration": 18,
    "start_time": "2022-07-12T22:18:24.077Z"
   },
   {
    "duration": 218,
    "start_time": "2022-07-12T22:19:17.195Z"
   },
   {
    "duration": 225,
    "start_time": "2022-07-12T22:21:39.899Z"
   },
   {
    "duration": 223,
    "start_time": "2022-07-12T22:21:49.445Z"
   },
   {
    "duration": 223,
    "start_time": "2022-07-12T22:22:29.445Z"
   },
   {
    "duration": 222,
    "start_time": "2022-07-12T22:22:36.214Z"
   },
   {
    "duration": 240,
    "start_time": "2022-07-12T22:24:33.406Z"
   },
   {
    "duration": 229,
    "start_time": "2022-07-12T22:24:44.872Z"
   },
   {
    "duration": 316,
    "start_time": "2022-07-12T22:24:50.036Z"
   },
   {
    "duration": 231,
    "start_time": "2022-07-12T22:25:09.585Z"
   },
   {
    "duration": 4,
    "start_time": "2022-07-12T22:27:46.214Z"
   },
   {
    "duration": 13,
    "start_time": "2022-07-12T22:31:04.321Z"
   },
   {
    "duration": 89,
    "start_time": "2022-07-12T22:31:54.831Z"
   },
   {
    "duration": 1367,
    "start_time": "2022-07-12T22:32:00.701Z"
   },
   {
    "duration": 1283,
    "start_time": "2022-07-12T22:34:49.948Z"
   },
   {
    "duration": 23,
    "start_time": "2022-07-12T22:35:01.565Z"
   },
   {
    "duration": 18,
    "start_time": "2022-07-12T22:35:37.652Z"
   },
   {
    "duration": 15,
    "start_time": "2022-07-12T22:36:59.881Z"
   },
   {
    "duration": 19,
    "start_time": "2022-07-12T22:37:13.110Z"
   },
   {
    "duration": 71,
    "start_time": "2022-07-12T22:37:35.511Z"
   },
   {
    "duration": 19,
    "start_time": "2022-07-12T22:38:04.568Z"
   },
   {
    "duration": 72,
    "start_time": "2022-07-12T22:38:20.000Z"
   },
   {
    "duration": 166,
    "start_time": "2022-07-12T22:38:24.077Z"
   },
   {
    "duration": 158,
    "start_time": "2022-07-12T22:38:34.143Z"
   },
   {
    "duration": 24,
    "start_time": "2022-07-12T22:40:13.568Z"
   },
   {
    "duration": 29,
    "start_time": "2022-07-12T22:40:33.929Z"
   },
   {
    "duration": 30,
    "start_time": "2022-07-12T22:40:47.768Z"
   },
   {
    "duration": 23,
    "start_time": "2022-07-12T22:41:31.530Z"
   },
   {
    "duration": 157,
    "start_time": "2022-07-12T22:41:37.138Z"
   },
   {
    "duration": 319,
    "start_time": "2022-07-12T22:43:45.179Z"
   },
   {
    "duration": 469,
    "start_time": "2022-07-12T22:45:35.747Z"
   },
   {
    "duration": 31,
    "start_time": "2022-07-12T22:45:54.323Z"
   },
   {
    "duration": 426,
    "start_time": "2022-07-12T22:46:13.091Z"
   },
   {
    "duration": 445,
    "start_time": "2022-07-12T22:47:01.315Z"
   },
   {
    "duration": 311,
    "start_time": "2022-07-12T23:00:10.322Z"
   },
   {
    "duration": 20,
    "start_time": "2022-07-12T23:06:47.292Z"
   },
   {
    "duration": 18,
    "start_time": "2022-07-12T23:09:09.611Z"
   },
   {
    "duration": 23,
    "start_time": "2022-07-12T23:09:22.955Z"
   },
   {
    "duration": 280,
    "start_time": "2022-07-12T23:10:59.052Z"
   },
   {
    "duration": 15,
    "start_time": "2022-07-12T23:11:42.235Z"
   },
   {
    "duration": 272,
    "start_time": "2022-07-12T23:12:02.995Z"
   },
   {
    "duration": 210,
    "start_time": "2022-07-12T23:12:11.179Z"
   },
   {
    "duration": 17,
    "start_time": "2022-07-12T23:12:17.363Z"
   },
   {
    "duration": 21,
    "start_time": "2022-07-12T23:12:37.819Z"
   },
   {
    "duration": 166,
    "start_time": "2022-07-12T23:12:52.921Z"
   },
   {
    "duration": 1151,
    "start_time": "2022-07-13T18:18:09.705Z"
   },
   {
    "duration": 571,
    "start_time": "2022-07-13T18:18:10.859Z"
   },
   {
    "duration": 11,
    "start_time": "2022-07-13T18:18:11.432Z"
   },
   {
    "duration": 19,
    "start_time": "2022-07-13T18:18:11.445Z"
   },
   {
    "duration": 11,
    "start_time": "2022-07-13T18:18:11.467Z"
   },
   {
    "duration": 13,
    "start_time": "2022-07-13T18:18:11.479Z"
   },
   {
    "duration": 36,
    "start_time": "2022-07-13T18:18:11.494Z"
   },
   {
    "duration": 9,
    "start_time": "2022-07-13T18:18:11.532Z"
   },
   {
    "duration": 38,
    "start_time": "2022-07-13T18:18:11.543Z"
   },
   {
    "duration": 42,
    "start_time": "2022-07-13T18:18:11.583Z"
   },
   {
    "duration": 15,
    "start_time": "2022-07-13T18:18:11.627Z"
   },
   {
    "duration": 14,
    "start_time": "2022-07-13T18:18:11.643Z"
   },
   {
    "duration": 7,
    "start_time": "2022-07-13T18:18:11.658Z"
   },
   {
    "duration": 21,
    "start_time": "2022-07-13T18:18:11.668Z"
   },
   {
    "duration": 42,
    "start_time": "2022-07-13T18:18:11.690Z"
   },
   {
    "duration": 16,
    "start_time": "2022-07-13T18:18:11.734Z"
   },
   {
    "duration": 17,
    "start_time": "2022-07-13T18:18:11.751Z"
   },
   {
    "duration": 41,
    "start_time": "2022-07-13T18:18:11.770Z"
   },
   {
    "duration": 25,
    "start_time": "2022-07-13T18:18:11.813Z"
   },
   {
    "duration": 7,
    "start_time": "2022-07-13T18:18:11.839Z"
   },
   {
    "duration": 26,
    "start_time": "2022-07-13T18:18:11.848Z"
   },
   {
    "duration": 49,
    "start_time": "2022-07-13T18:18:11.875Z"
   },
   {
    "duration": 17,
    "start_time": "2022-07-13T18:18:11.926Z"
   },
   {
    "duration": 17,
    "start_time": "2022-07-13T18:18:11.944Z"
   },
   {
    "duration": 3,
    "start_time": "2022-07-13T18:18:11.962Z"
   },
   {
    "duration": 5,
    "start_time": "2022-07-13T18:18:11.966Z"
   },
   {
    "duration": 31,
    "start_time": "2022-07-13T18:18:11.973Z"
   },
   {
    "duration": 19,
    "start_time": "2022-07-13T18:18:12.024Z"
   },
   {
    "duration": 13,
    "start_time": "2022-07-13T18:18:12.044Z"
   },
   {
    "duration": 9,
    "start_time": "2022-07-13T18:18:12.059Z"
   },
   {
    "duration": 10,
    "start_time": "2022-07-13T18:18:12.070Z"
   },
   {
    "duration": 44,
    "start_time": "2022-07-13T18:18:12.082Z"
   },
   {
    "duration": 22,
    "start_time": "2022-07-13T18:18:12.128Z"
   },
   {
    "duration": 22,
    "start_time": "2022-07-13T18:18:12.152Z"
   },
   {
    "duration": 6,
    "start_time": "2022-07-13T18:18:12.175Z"
   },
   {
    "duration": 42,
    "start_time": "2022-07-13T18:18:12.183Z"
   },
   {
    "duration": 12,
    "start_time": "2022-07-13T18:18:12.227Z"
   },
   {
    "duration": 30,
    "start_time": "2022-07-13T18:18:12.241Z"
   },
   {
    "duration": 26,
    "start_time": "2022-07-13T18:18:12.273Z"
   },
   {
    "duration": 55,
    "start_time": "2022-07-13T18:18:12.301Z"
   },
   {
    "duration": 26,
    "start_time": "2022-07-13T18:18:12.360Z"
   },
   {
    "duration": 7,
    "start_time": "2022-07-13T18:18:12.388Z"
   },
   {
    "duration": 36,
    "start_time": "2022-07-13T18:18:12.397Z"
   },
   {
    "duration": 24,
    "start_time": "2022-07-13T18:18:12.435Z"
   },
   {
    "duration": 16,
    "start_time": "2022-07-13T18:18:12.460Z"
   },
   {
    "duration": 46,
    "start_time": "2022-07-13T18:18:12.478Z"
   },
   {
    "duration": 27,
    "start_time": "2022-07-13T18:18:12.526Z"
   },
   {
    "duration": 27,
    "start_time": "2022-07-13T18:18:12.554Z"
   },
   {
    "duration": 14,
    "start_time": "2022-07-13T18:18:12.583Z"
   },
   {
    "duration": 35,
    "start_time": "2022-07-13T18:18:12.599Z"
   },
   {
    "duration": 194,
    "start_time": "2022-07-13T18:18:12.636Z"
   },
   {
    "duration": 1082,
    "start_time": "2022-07-13T18:18:12.831Z"
   },
   {
    "duration": 0,
    "start_time": "2022-07-13T18:18:13.915Z"
   },
   {
    "duration": 0,
    "start_time": "2022-07-13T18:18:13.916Z"
   },
   {
    "duration": 0,
    "start_time": "2022-07-13T18:18:13.917Z"
   },
   {
    "duration": 0,
    "start_time": "2022-07-13T18:18:13.918Z"
   },
   {
    "duration": 0,
    "start_time": "2022-07-13T18:18:13.919Z"
   },
   {
    "duration": 0,
    "start_time": "2022-07-13T18:18:13.923Z"
   },
   {
    "duration": 0,
    "start_time": "2022-07-13T18:18:13.925Z"
   },
   {
    "duration": 0,
    "start_time": "2022-07-13T18:18:13.926Z"
   },
   {
    "duration": 1276,
    "start_time": "2022-07-13T21:30:51.026Z"
   },
   {
    "duration": 482,
    "start_time": "2022-07-13T21:30:52.305Z"
   },
   {
    "duration": 12,
    "start_time": "2022-07-13T21:30:52.788Z"
   },
   {
    "duration": 17,
    "start_time": "2022-07-13T21:30:52.802Z"
   },
   {
    "duration": 54,
    "start_time": "2022-07-13T21:30:52.820Z"
   },
   {
    "duration": 12,
    "start_time": "2022-07-13T21:30:52.880Z"
   },
   {
    "duration": 22,
    "start_time": "2022-07-13T21:30:52.894Z"
   },
   {
    "duration": 42,
    "start_time": "2022-07-13T21:30:52.917Z"
   },
   {
    "duration": 50,
    "start_time": "2022-07-13T21:30:52.965Z"
   },
   {
    "duration": 55,
    "start_time": "2022-07-13T21:30:53.018Z"
   },
   {
    "duration": 23,
    "start_time": "2022-07-13T21:30:53.077Z"
   },
   {
    "duration": 15,
    "start_time": "2022-07-13T21:30:53.102Z"
   },
   {
    "duration": 34,
    "start_time": "2022-07-13T21:30:53.119Z"
   },
   {
    "duration": 50,
    "start_time": "2022-07-13T21:30:53.158Z"
   },
   {
    "duration": 33,
    "start_time": "2022-07-13T21:30:53.210Z"
   },
   {
    "duration": 67,
    "start_time": "2022-07-13T21:30:53.245Z"
   },
   {
    "duration": 28,
    "start_time": "2022-07-13T21:30:53.314Z"
   },
   {
    "duration": 53,
    "start_time": "2022-07-13T21:30:53.344Z"
   },
   {
    "duration": 18,
    "start_time": "2022-07-13T21:30:53.399Z"
   },
   {
    "duration": 32,
    "start_time": "2022-07-13T21:30:53.419Z"
   },
   {
    "duration": 43,
    "start_time": "2022-07-13T21:30:53.463Z"
   },
   {
    "duration": 50,
    "start_time": "2022-07-13T21:30:53.507Z"
   },
   {
    "duration": 20,
    "start_time": "2022-07-13T21:30:53.564Z"
   },
   {
    "duration": 21,
    "start_time": "2022-07-13T21:30:53.586Z"
   },
   {
    "duration": 2,
    "start_time": "2022-07-13T21:30:53.609Z"
   },
   {
    "duration": 8,
    "start_time": "2022-07-13T21:30:53.613Z"
   },
   {
    "duration": 79,
    "start_time": "2022-07-13T21:30:53.622Z"
   },
   {
    "duration": 34,
    "start_time": "2022-07-13T21:30:53.705Z"
   },
   {
    "duration": 48,
    "start_time": "2022-07-13T21:30:53.741Z"
   },
   {
    "duration": 10,
    "start_time": "2022-07-13T21:30:53.790Z"
   },
   {
    "duration": 14,
    "start_time": "2022-07-13T21:30:53.801Z"
   },
   {
    "duration": 74,
    "start_time": "2022-07-13T21:30:53.816Z"
   },
   {
    "duration": 34,
    "start_time": "2022-07-13T21:30:53.892Z"
   },
   {
    "duration": 40,
    "start_time": "2022-07-13T21:30:53.937Z"
   },
   {
    "duration": 12,
    "start_time": "2022-07-13T21:30:53.979Z"
   },
   {
    "duration": 40,
    "start_time": "2022-07-13T21:30:53.992Z"
   },
   {
    "duration": 41,
    "start_time": "2022-07-13T21:30:54.044Z"
   },
   {
    "duration": 33,
    "start_time": "2022-07-13T21:30:54.086Z"
   },
   {
    "duration": 62,
    "start_time": "2022-07-13T21:30:54.121Z"
   },
   {
    "duration": 30,
    "start_time": "2022-07-13T21:30:54.185Z"
   },
   {
    "duration": 59,
    "start_time": "2022-07-13T21:30:54.217Z"
   },
   {
    "duration": 8,
    "start_time": "2022-07-13T21:30:54.278Z"
   },
   {
    "duration": 27,
    "start_time": "2022-07-13T21:30:54.288Z"
   },
   {
    "duration": 44,
    "start_time": "2022-07-13T21:30:54.316Z"
   },
   {
    "duration": 41,
    "start_time": "2022-07-13T21:30:54.364Z"
   },
   {
    "duration": 54,
    "start_time": "2022-07-13T21:30:54.407Z"
   },
   {
    "duration": 39,
    "start_time": "2022-07-13T21:30:54.463Z"
   },
   {
    "duration": 53,
    "start_time": "2022-07-13T21:30:54.503Z"
   },
   {
    "duration": 26,
    "start_time": "2022-07-13T21:30:54.565Z"
   },
   {
    "duration": 22,
    "start_time": "2022-07-13T21:30:54.593Z"
   },
   {
    "duration": 337,
    "start_time": "2022-07-13T21:30:54.617Z"
   },
   {
    "duration": 1761,
    "start_time": "2022-07-13T21:30:54.961Z"
   },
   {
    "duration": 0,
    "start_time": "2022-07-13T21:30:56.723Z"
   },
   {
    "duration": 0,
    "start_time": "2022-07-13T21:30:56.724Z"
   },
   {
    "duration": 0,
    "start_time": "2022-07-13T21:30:56.725Z"
   },
   {
    "duration": 0,
    "start_time": "2022-07-13T21:30:56.725Z"
   },
   {
    "duration": 0,
    "start_time": "2022-07-13T21:30:56.726Z"
   },
   {
    "duration": 0,
    "start_time": "2022-07-13T21:30:56.726Z"
   },
   {
    "duration": 0,
    "start_time": "2022-07-13T21:30:56.727Z"
   },
   {
    "duration": 0,
    "start_time": "2022-07-13T21:30:56.728Z"
   },
   {
    "duration": 2176,
    "start_time": "2022-07-13T21:32:30.593Z"
   },
   {
    "duration": 25,
    "start_time": "2022-07-13T21:36:02.710Z"
   },
   {
    "duration": 14,
    "start_time": "2022-07-13T21:36:52.094Z"
   },
   {
    "duration": 1997,
    "start_time": "2022-07-13T21:36:55.698Z"
   },
   {
    "duration": 187,
    "start_time": "2022-07-13T21:37:44.309Z"
   },
   {
    "duration": 214,
    "start_time": "2022-07-13T21:38:05.746Z"
   },
   {
    "duration": 145,
    "start_time": "2022-07-13T21:38:39.664Z"
   },
   {
    "duration": 170,
    "start_time": "2022-07-13T21:38:47.491Z"
   },
   {
    "duration": 254,
    "start_time": "2022-07-13T21:39:15.368Z"
   },
   {
    "duration": 239,
    "start_time": "2022-07-13T21:40:47.468Z"
   },
   {
    "duration": 126,
    "start_time": "2022-07-13T21:41:06.655Z"
   },
   {
    "duration": 112,
    "start_time": "2022-07-13T21:41:11.062Z"
   },
   {
    "duration": 118,
    "start_time": "2022-07-13T21:41:20.069Z"
   },
   {
    "duration": 6,
    "start_time": "2022-07-13T21:42:36.623Z"
   },
   {
    "duration": 312,
    "start_time": "2022-07-13T21:46:48.616Z"
   },
   {
    "duration": 169,
    "start_time": "2022-07-13T21:47:13.919Z"
   },
   {
    "duration": 265,
    "start_time": "2022-07-13T21:48:00.681Z"
   },
   {
    "duration": 208,
    "start_time": "2022-07-13T21:51:03.462Z"
   },
   {
    "duration": 274,
    "start_time": "2022-07-13T21:51:35.063Z"
   },
   {
    "duration": 153,
    "start_time": "2022-07-13T21:51:46.337Z"
   },
   {
    "duration": 162,
    "start_time": "2022-07-13T21:52:14.420Z"
   },
   {
    "duration": 129,
    "start_time": "2022-07-13T21:52:27.162Z"
   },
   {
    "duration": 147,
    "start_time": "2022-07-13T21:52:43.422Z"
   },
   {
    "duration": 131,
    "start_time": "2022-07-13T21:52:46.561Z"
   },
   {
    "duration": 118,
    "start_time": "2022-07-13T21:53:15.899Z"
   },
   {
    "duration": 116,
    "start_time": "2022-07-13T21:53:29.180Z"
   },
   {
    "duration": 141,
    "start_time": "2022-07-13T21:53:59.934Z"
   },
   {
    "duration": 161,
    "start_time": "2022-07-13T21:54:24.491Z"
   },
   {
    "duration": 157,
    "start_time": "2022-07-13T21:54:30.596Z"
   },
   {
    "duration": 215,
    "start_time": "2022-07-13T21:54:51.548Z"
   },
   {
    "duration": 133,
    "start_time": "2022-07-13T21:55:15.660Z"
   },
   {
    "duration": 220,
    "start_time": "2022-07-13T21:56:24.460Z"
   },
   {
    "duration": 152,
    "start_time": "2022-07-13T21:57:16.003Z"
   },
   {
    "duration": 4578,
    "start_time": "2022-07-13T21:57:36.888Z"
   },
   {
    "duration": 811,
    "start_time": "2022-07-13T21:57:47.892Z"
   },
   {
    "duration": 1152,
    "start_time": "2022-07-13T21:58:02.049Z"
   },
   {
    "duration": 275,
    "start_time": "2022-07-13T21:59:48.787Z"
   },
   {
    "duration": 402,
    "start_time": "2022-07-13T22:00:00.204Z"
   },
   {
    "duration": 264,
    "start_time": "2022-07-13T22:00:35.250Z"
   },
   {
    "duration": 1207,
    "start_time": "2022-07-14T18:14:36.264Z"
   },
   {
    "duration": 829,
    "start_time": "2022-07-14T18:14:37.473Z"
   },
   {
    "duration": 20,
    "start_time": "2022-07-14T18:14:38.306Z"
   },
   {
    "duration": 14,
    "start_time": "2022-07-14T18:14:38.328Z"
   },
   {
    "duration": 14,
    "start_time": "2022-07-14T18:14:38.344Z"
   },
   {
    "duration": 32,
    "start_time": "2022-07-14T18:14:38.359Z"
   },
   {
    "duration": 34,
    "start_time": "2022-07-14T18:14:38.392Z"
   },
   {
    "duration": 8,
    "start_time": "2022-07-14T18:14:38.428Z"
   },
   {
    "duration": 46,
    "start_time": "2022-07-14T18:14:38.438Z"
   },
   {
    "duration": 26,
    "start_time": "2022-07-14T18:14:38.486Z"
   },
   {
    "duration": 18,
    "start_time": "2022-07-14T18:14:38.514Z"
   },
   {
    "duration": 21,
    "start_time": "2022-07-14T18:14:38.533Z"
   },
   {
    "duration": 11,
    "start_time": "2022-07-14T18:14:38.555Z"
   },
   {
    "duration": 22,
    "start_time": "2022-07-14T18:14:38.567Z"
   },
   {
    "duration": 20,
    "start_time": "2022-07-14T18:14:38.604Z"
   },
   {
    "duration": 18,
    "start_time": "2022-07-14T18:14:38.625Z"
   },
   {
    "duration": 8,
    "start_time": "2022-07-14T18:14:38.645Z"
   },
   {
    "duration": 66,
    "start_time": "2022-07-14T18:14:38.655Z"
   },
   {
    "duration": 19,
    "start_time": "2022-07-14T18:14:38.723Z"
   },
   {
    "duration": 9,
    "start_time": "2022-07-14T18:14:38.744Z"
   },
   {
    "duration": 26,
    "start_time": "2022-07-14T18:14:38.754Z"
   },
   {
    "duration": 44,
    "start_time": "2022-07-14T18:14:38.782Z"
   },
   {
    "duration": 20,
    "start_time": "2022-07-14T18:14:38.828Z"
   },
   {
    "duration": 19,
    "start_time": "2022-07-14T18:14:38.850Z"
   },
   {
    "duration": 30,
    "start_time": "2022-07-14T18:14:38.871Z"
   },
   {
    "duration": 3,
    "start_time": "2022-07-14T18:14:38.905Z"
   },
   {
    "duration": 39,
    "start_time": "2022-07-14T18:14:38.910Z"
   },
   {
    "duration": 18,
    "start_time": "2022-07-14T18:14:38.952Z"
   },
   {
    "duration": 11,
    "start_time": "2022-07-14T18:14:38.971Z"
   },
   {
    "duration": 23,
    "start_time": "2022-07-14T18:14:38.983Z"
   },
   {
    "duration": 11,
    "start_time": "2022-07-14T18:14:39.014Z"
   },
   {
    "duration": 15,
    "start_time": "2022-07-14T18:14:39.028Z"
   },
   {
    "duration": 22,
    "start_time": "2022-07-14T18:14:39.044Z"
   },
   {
    "duration": 46,
    "start_time": "2022-07-14T18:14:39.068Z"
   },
   {
    "duration": 9,
    "start_time": "2022-07-14T18:14:39.116Z"
   },
   {
    "duration": 17,
    "start_time": "2022-07-14T18:14:39.127Z"
   },
   {
    "duration": 13,
    "start_time": "2022-07-14T18:14:39.145Z"
   },
   {
    "duration": 45,
    "start_time": "2022-07-14T18:14:39.159Z"
   },
   {
    "duration": 23,
    "start_time": "2022-07-14T18:14:39.209Z"
   },
   {
    "duration": 31,
    "start_time": "2022-07-14T18:14:39.234Z"
   },
   {
    "duration": 49,
    "start_time": "2022-07-14T18:14:39.267Z"
   },
   {
    "duration": 9,
    "start_time": "2022-07-14T18:14:39.317Z"
   },
   {
    "duration": 21,
    "start_time": "2022-07-14T18:14:39.327Z"
   },
   {
    "duration": 23,
    "start_time": "2022-07-14T18:14:39.350Z"
   },
   {
    "duration": 40,
    "start_time": "2022-07-14T18:14:39.374Z"
   },
   {
    "duration": 23,
    "start_time": "2022-07-14T18:14:39.416Z"
   },
   {
    "duration": 29,
    "start_time": "2022-07-14T18:14:39.441Z"
   },
   {
    "duration": 48,
    "start_time": "2022-07-14T18:14:39.472Z"
   },
   {
    "duration": 13,
    "start_time": "2022-07-14T18:14:39.522Z"
   },
   {
    "duration": 16,
    "start_time": "2022-07-14T18:14:39.536Z"
   },
   {
    "duration": 195,
    "start_time": "2022-07-14T18:14:39.554Z"
   },
   {
    "duration": 13,
    "start_time": "2022-07-14T18:14:39.751Z"
   },
   {
    "duration": 206,
    "start_time": "2022-07-14T18:14:39.765Z"
   },
   {
    "duration": 15,
    "start_time": "2022-07-14T18:14:39.972Z"
   },
   {
    "duration": 148,
    "start_time": "2022-07-14T18:14:39.988Z"
   },
   {
    "duration": 183,
    "start_time": "2022-07-14T18:14:40.137Z"
   },
   {
    "duration": 0,
    "start_time": "2022-07-14T18:14:40.321Z"
   },
   {
    "duration": 0,
    "start_time": "2022-07-14T18:14:40.323Z"
   },
   {
    "duration": 0,
    "start_time": "2022-07-14T18:14:40.323Z"
   },
   {
    "duration": 0,
    "start_time": "2022-07-14T18:14:40.324Z"
   },
   {
    "duration": 0,
    "start_time": "2022-07-14T18:14:40.326Z"
   },
   {
    "duration": 0,
    "start_time": "2022-07-14T18:14:40.327Z"
   },
   {
    "duration": 0,
    "start_time": "2022-07-14T18:14:40.328Z"
   },
   {
    "duration": 2,
    "start_time": "2022-07-14T18:42:27.838Z"
   },
   {
    "duration": 393,
    "start_time": "2022-07-14T18:44:21.914Z"
   },
   {
    "duration": 77,
    "start_time": "2022-07-14T18:44:41.595Z"
   },
   {
    "duration": 494,
    "start_time": "2022-07-14T18:44:47.490Z"
   },
   {
    "duration": 89,
    "start_time": "2022-07-14T19:02:38.211Z"
   },
   {
    "duration": 18,
    "start_time": "2022-07-14T19:02:51.391Z"
   },
   {
    "duration": 213,
    "start_time": "2022-07-14T19:04:15.052Z"
   },
   {
    "duration": 195,
    "start_time": "2022-07-14T19:04:21.329Z"
   },
   {
    "duration": 202,
    "start_time": "2022-07-14T19:05:15.939Z"
   },
   {
    "duration": 428,
    "start_time": "2022-07-14T19:10:04.953Z"
   },
   {
    "duration": 548,
    "start_time": "2022-07-14T19:13:45.484Z"
   },
   {
    "duration": 17,
    "start_time": "2022-07-14T19:39:18.024Z"
   },
   {
    "duration": 19,
    "start_time": "2022-07-14T19:39:23.503Z"
   },
   {
    "duration": 920,
    "start_time": "2022-07-14T19:39:41.452Z"
   },
   {
    "duration": 14,
    "start_time": "2022-07-14T19:40:37.922Z"
   },
   {
    "duration": 16,
    "start_time": "2022-07-14T19:40:59.451Z"
   },
   {
    "duration": 6,
    "start_time": "2022-07-14T19:44:49.371Z"
   },
   {
    "duration": 1186,
    "start_time": "2022-07-16T17:44:09.260Z"
   },
   {
    "duration": 849,
    "start_time": "2022-07-16T17:44:10.448Z"
   },
   {
    "duration": 14,
    "start_time": "2022-07-16T17:44:11.299Z"
   },
   {
    "duration": 15,
    "start_time": "2022-07-16T17:44:11.314Z"
   },
   {
    "duration": 11,
    "start_time": "2022-07-16T17:44:11.331Z"
   },
   {
    "duration": 21,
    "start_time": "2022-07-16T17:44:11.344Z"
   },
   {
    "duration": 25,
    "start_time": "2022-07-16T17:44:11.367Z"
   },
   {
    "duration": 11,
    "start_time": "2022-07-16T17:44:11.395Z"
   },
   {
    "duration": 63,
    "start_time": "2022-07-16T17:44:11.408Z"
   },
   {
    "duration": 27,
    "start_time": "2022-07-16T17:44:11.473Z"
   },
   {
    "duration": 17,
    "start_time": "2022-07-16T17:44:11.502Z"
   },
   {
    "duration": 39,
    "start_time": "2022-07-16T17:44:11.521Z"
   },
   {
    "duration": 9,
    "start_time": "2022-07-16T17:44:11.562Z"
   },
   {
    "duration": 29,
    "start_time": "2022-07-16T17:44:11.575Z"
   },
   {
    "duration": 48,
    "start_time": "2022-07-16T17:44:11.606Z"
   },
   {
    "duration": 19,
    "start_time": "2022-07-16T17:44:11.655Z"
   },
   {
    "duration": 9,
    "start_time": "2022-07-16T17:44:11.676Z"
   },
   {
    "duration": 32,
    "start_time": "2022-07-16T17:44:11.687Z"
   },
   {
    "duration": 43,
    "start_time": "2022-07-16T17:44:11.721Z"
   },
   {
    "duration": 10,
    "start_time": "2022-07-16T17:44:11.766Z"
   },
   {
    "duration": 31,
    "start_time": "2022-07-16T17:44:11.778Z"
   },
   {
    "duration": 55,
    "start_time": "2022-07-16T17:44:11.811Z"
   },
   {
    "duration": 20,
    "start_time": "2022-07-16T17:44:11.868Z"
   },
   {
    "duration": 22,
    "start_time": "2022-07-16T17:44:11.891Z"
   },
   {
    "duration": 3,
    "start_time": "2022-07-16T17:44:11.915Z"
   },
   {
    "duration": 6,
    "start_time": "2022-07-16T17:44:11.919Z"
   },
   {
    "duration": 29,
    "start_time": "2022-07-16T17:44:11.953Z"
   },
   {
    "duration": 23,
    "start_time": "2022-07-16T17:44:11.984Z"
   },
   {
    "duration": 43,
    "start_time": "2022-07-16T17:44:12.009Z"
   },
   {
    "duration": 14,
    "start_time": "2022-07-16T17:44:12.054Z"
   },
   {
    "duration": 8,
    "start_time": "2022-07-16T17:44:12.070Z"
   },
   {
    "duration": 19,
    "start_time": "2022-07-16T17:44:12.080Z"
   },
   {
    "duration": 57,
    "start_time": "2022-07-16T17:44:12.100Z"
   },
   {
    "duration": 29,
    "start_time": "2022-07-16T17:44:12.159Z"
   },
   {
    "duration": 6,
    "start_time": "2022-07-16T17:44:12.190Z"
   },
   {
    "duration": 17,
    "start_time": "2022-07-16T17:44:12.199Z"
   },
   {
    "duration": 45,
    "start_time": "2022-07-16T17:44:12.218Z"
   },
   {
    "duration": 38,
    "start_time": "2022-07-16T17:44:12.265Z"
   },
   {
    "duration": 51,
    "start_time": "2022-07-16T17:44:12.305Z"
   },
   {
    "duration": 32,
    "start_time": "2022-07-16T17:44:12.359Z"
   },
   {
    "duration": 31,
    "start_time": "2022-07-16T17:44:12.395Z"
   },
   {
    "duration": 32,
    "start_time": "2022-07-16T17:44:12.428Z"
   },
   {
    "duration": 25,
    "start_time": "2022-07-16T17:44:12.462Z"
   },
   {
    "duration": 29,
    "start_time": "2022-07-16T17:44:12.489Z"
   },
   {
    "duration": 46,
    "start_time": "2022-07-16T17:44:12.519Z"
   },
   {
    "duration": 28,
    "start_time": "2022-07-16T17:44:12.567Z"
   },
   {
    "duration": 31,
    "start_time": "2022-07-16T17:44:12.596Z"
   },
   {
    "duration": 48,
    "start_time": "2022-07-16T17:44:12.629Z"
   },
   {
    "duration": 16,
    "start_time": "2022-07-16T17:44:12.678Z"
   },
   {
    "duration": 14,
    "start_time": "2022-07-16T17:44:12.695Z"
   },
   {
    "duration": 241,
    "start_time": "2022-07-16T17:44:12.711Z"
   },
   {
    "duration": 15,
    "start_time": "2022-07-16T17:44:12.954Z"
   },
   {
    "duration": 224,
    "start_time": "2022-07-16T17:44:12.971Z"
   },
   {
    "duration": 16,
    "start_time": "2022-07-16T17:44:13.197Z"
   },
   {
    "duration": 6,
    "start_time": "2022-07-16T17:44:13.215Z"
   },
   {
    "duration": 36,
    "start_time": "2022-07-16T17:44:13.222Z"
   },
   {
    "duration": 2,
    "start_time": "2022-07-16T17:44:13.260Z"
   },
   {
    "duration": 17,
    "start_time": "2022-07-16T17:44:13.264Z"
   },
   {
    "duration": 13,
    "start_time": "2022-07-16T17:44:13.283Z"
   },
   {
    "duration": 5,
    "start_time": "2022-07-16T17:44:13.298Z"
   },
   {
    "duration": 4,
    "start_time": "2022-07-16T17:44:13.305Z"
   },
   {
    "duration": 8,
    "start_time": "2022-07-16T17:44:13.311Z"
   },
   {
    "duration": 3,
    "start_time": "2022-07-16T17:47:50.817Z"
   },
   {
    "duration": 11,
    "start_time": "2022-07-16T17:48:09.201Z"
   },
   {
    "duration": 12,
    "start_time": "2022-07-16T17:48:21.071Z"
   },
   {
    "duration": 12,
    "start_time": "2022-07-16T17:53:16.543Z"
   },
   {
    "duration": 12,
    "start_time": "2022-07-16T17:53:38.263Z"
   },
   {
    "duration": 1006,
    "start_time": "2022-07-16T17:53:56.194Z"
   },
   {
    "duration": 357,
    "start_time": "2022-07-16T17:53:57.202Z"
   },
   {
    "duration": 12,
    "start_time": "2022-07-16T17:53:57.561Z"
   },
   {
    "duration": 13,
    "start_time": "2022-07-16T17:53:57.575Z"
   },
   {
    "duration": 10,
    "start_time": "2022-07-16T17:53:57.590Z"
   },
   {
    "duration": 12,
    "start_time": "2022-07-16T17:53:57.602Z"
   },
   {
    "duration": 37,
    "start_time": "2022-07-16T17:53:57.616Z"
   },
   {
    "duration": 9,
    "start_time": "2022-07-16T17:53:57.655Z"
   },
   {
    "duration": 34,
    "start_time": "2022-07-16T17:53:57.666Z"
   },
   {
    "duration": 21,
    "start_time": "2022-07-16T17:53:57.703Z"
   },
   {
    "duration": 36,
    "start_time": "2022-07-16T17:53:57.725Z"
   },
   {
    "duration": 13,
    "start_time": "2022-07-16T17:53:57.763Z"
   },
   {
    "duration": 7,
    "start_time": "2022-07-16T17:53:57.778Z"
   },
   {
    "duration": 22,
    "start_time": "2022-07-16T17:53:57.786Z"
   },
   {
    "duration": 43,
    "start_time": "2022-07-16T17:53:57.810Z"
   },
   {
    "duration": 16,
    "start_time": "2022-07-16T17:53:57.854Z"
   },
   {
    "duration": 8,
    "start_time": "2022-07-16T17:53:57.872Z"
   },
   {
    "duration": 28,
    "start_time": "2022-07-16T17:53:57.881Z"
   },
   {
    "duration": 43,
    "start_time": "2022-07-16T17:53:57.910Z"
   },
   {
    "duration": 8,
    "start_time": "2022-07-16T17:53:57.954Z"
   },
   {
    "duration": 27,
    "start_time": "2022-07-16T17:53:57.963Z"
   },
   {
    "duration": 26,
    "start_time": "2022-07-16T17:53:57.992Z"
   },
   {
    "duration": 34,
    "start_time": "2022-07-16T17:53:58.019Z"
   },
   {
    "duration": 17,
    "start_time": "2022-07-16T17:53:58.055Z"
   },
   {
    "duration": 2,
    "start_time": "2022-07-16T17:53:58.073Z"
   },
   {
    "duration": 5,
    "start_time": "2022-07-16T17:53:58.076Z"
   },
   {
    "duration": 27,
    "start_time": "2022-07-16T17:53:58.082Z"
   },
   {
    "duration": 53,
    "start_time": "2022-07-16T17:53:58.112Z"
   },
   {
    "duration": 12,
    "start_time": "2022-07-16T17:53:58.167Z"
   },
   {
    "duration": 13,
    "start_time": "2022-07-16T17:53:58.181Z"
   },
   {
    "duration": 9,
    "start_time": "2022-07-16T17:53:58.196Z"
   },
   {
    "duration": 20,
    "start_time": "2022-07-16T17:53:58.206Z"
   },
   {
    "duration": 37,
    "start_time": "2022-07-16T17:53:58.227Z"
   },
   {
    "duration": 25,
    "start_time": "2022-07-16T17:53:58.266Z"
   },
   {
    "duration": 5,
    "start_time": "2022-07-16T17:53:58.293Z"
   },
   {
    "duration": 20,
    "start_time": "2022-07-16T17:53:58.299Z"
   },
   {
    "duration": 37,
    "start_time": "2022-07-16T17:53:58.321Z"
   },
   {
    "duration": 31,
    "start_time": "2022-07-16T17:53:58.360Z"
   },
   {
    "duration": 23,
    "start_time": "2022-07-16T17:53:58.393Z"
   },
   {
    "duration": 52,
    "start_time": "2022-07-16T17:53:58.418Z"
   },
   {
    "duration": 29,
    "start_time": "2022-07-16T17:53:58.472Z"
   },
   {
    "duration": 8,
    "start_time": "2022-07-16T17:53:58.502Z"
   },
   {
    "duration": 41,
    "start_time": "2022-07-16T17:53:58.512Z"
   },
   {
    "duration": 25,
    "start_time": "2022-07-16T17:53:58.555Z"
   },
   {
    "duration": 16,
    "start_time": "2022-07-16T17:53:58.582Z"
   },
   {
    "duration": 25,
    "start_time": "2022-07-16T17:53:58.599Z"
   },
   {
    "duration": 30,
    "start_time": "2022-07-16T17:53:58.652Z"
   },
   {
    "duration": 25,
    "start_time": "2022-07-16T17:53:58.684Z"
   },
   {
    "duration": 14,
    "start_time": "2022-07-16T17:53:58.710Z"
   },
   {
    "duration": 40,
    "start_time": "2022-07-16T17:53:58.725Z"
   },
   {
    "duration": 221,
    "start_time": "2022-07-16T17:53:58.766Z"
   },
   {
    "duration": 16,
    "start_time": "2022-07-16T17:53:58.989Z"
   },
   {
    "duration": 210,
    "start_time": "2022-07-16T17:53:59.007Z"
   },
   {
    "duration": 16,
    "start_time": "2022-07-16T17:53:59.219Z"
   },
   {
    "duration": 21,
    "start_time": "2022-07-16T17:53:59.237Z"
   },
   {
    "duration": 18,
    "start_time": "2022-07-16T17:53:59.260Z"
   },
   {
    "duration": 5,
    "start_time": "2022-07-16T17:53:59.280Z"
   },
   {
    "duration": 6,
    "start_time": "2022-07-16T17:53:59.287Z"
   },
   {
    "duration": 7,
    "start_time": "2022-07-16T17:53:59.294Z"
   },
   {
    "duration": 6,
    "start_time": "2022-07-16T17:53:59.302Z"
   },
   {
    "duration": 5,
    "start_time": "2022-07-16T17:53:59.310Z"
   },
   {
    "duration": 5,
    "start_time": "2022-07-16T17:53:59.317Z"
   },
   {
    "duration": 12,
    "start_time": "2022-07-16T17:54:13.462Z"
   },
   {
    "duration": 10,
    "start_time": "2022-07-16T17:55:36.629Z"
   },
   {
    "duration": 11,
    "start_time": "2022-07-16T17:58:20.301Z"
   },
   {
    "duration": 12,
    "start_time": "2022-07-16T17:58:34.887Z"
   },
   {
    "duration": 15,
    "start_time": "2022-07-16T17:59:26.387Z"
   },
   {
    "duration": 22,
    "start_time": "2022-07-16T17:59:39.663Z"
   },
   {
    "duration": 31,
    "start_time": "2022-07-16T18:00:08.050Z"
   },
   {
    "duration": 1067,
    "start_time": "2022-07-16T18:00:14.866Z"
   },
   {
    "duration": 399,
    "start_time": "2022-07-16T18:00:15.935Z"
   },
   {
    "duration": 13,
    "start_time": "2022-07-16T18:00:16.336Z"
   },
   {
    "duration": 15,
    "start_time": "2022-07-16T18:00:16.351Z"
   },
   {
    "duration": 12,
    "start_time": "2022-07-16T18:00:16.368Z"
   },
   {
    "duration": 13,
    "start_time": "2022-07-16T18:00:16.382Z"
   },
   {
    "duration": 12,
    "start_time": "2022-07-16T18:00:16.397Z"
   },
   {
    "duration": 55,
    "start_time": "2022-07-16T18:00:16.411Z"
   },
   {
    "duration": 25,
    "start_time": "2022-07-16T18:00:16.468Z"
   },
   {
    "duration": 11,
    "start_time": "2022-07-16T18:00:16.496Z"
   },
   {
    "duration": 60,
    "start_time": "2022-07-16T18:00:16.509Z"
   },
   {
    "duration": 26,
    "start_time": "2022-07-16T18:00:16.571Z"
   },
   {
    "duration": 18,
    "start_time": "2022-07-16T18:00:16.599Z"
   },
   {
    "duration": 43,
    "start_time": "2022-07-16T18:00:16.619Z"
   },
   {
    "duration": 8,
    "start_time": "2022-07-16T18:00:16.664Z"
   },
   {
    "duration": 32,
    "start_time": "2022-07-16T18:00:16.674Z"
   },
   {
    "duration": 47,
    "start_time": "2022-07-16T18:00:16.707Z"
   },
   {
    "duration": 21,
    "start_time": "2022-07-16T18:00:16.755Z"
   },
   {
    "duration": 9,
    "start_time": "2022-07-16T18:00:16.777Z"
   },
   {
    "duration": 32,
    "start_time": "2022-07-16T18:00:16.788Z"
   },
   {
    "duration": 48,
    "start_time": "2022-07-16T18:00:16.822Z"
   },
   {
    "duration": 9,
    "start_time": "2022-07-16T18:00:16.872Z"
   },
   {
    "duration": 33,
    "start_time": "2022-07-16T18:00:16.883Z"
   },
   {
    "duration": 47,
    "start_time": "2022-07-16T18:00:16.918Z"
   },
   {
    "duration": 23,
    "start_time": "2022-07-16T18:00:16.967Z"
   },
   {
    "duration": 21,
    "start_time": "2022-07-16T18:00:16.992Z"
   },
   {
    "duration": 3,
    "start_time": "2022-07-16T18:00:17.015Z"
   },
   {
    "duration": 3,
    "start_time": "2022-07-16T18:00:17.052Z"
   },
   {
    "duration": 30,
    "start_time": "2022-07-16T18:00:17.057Z"
   },
   {
    "duration": 32,
    "start_time": "2022-07-16T18:00:17.089Z"
   },
   {
    "duration": 40,
    "start_time": "2022-07-16T18:00:17.123Z"
   },
   {
    "duration": 11,
    "start_time": "2022-07-16T18:00:17.165Z"
   },
   {
    "duration": 8,
    "start_time": "2022-07-16T18:00:17.178Z"
   },
   {
    "duration": 18,
    "start_time": "2022-07-16T18:00:17.188Z"
   },
   {
    "duration": 53,
    "start_time": "2022-07-16T18:00:17.207Z"
   },
   {
    "duration": 24,
    "start_time": "2022-07-16T18:00:17.262Z"
   },
   {
    "duration": 5,
    "start_time": "2022-07-16T18:00:17.288Z"
   },
   {
    "duration": 16,
    "start_time": "2022-07-16T18:00:17.294Z"
   },
   {
    "duration": 46,
    "start_time": "2022-07-16T18:00:17.312Z"
   },
   {
    "duration": 39,
    "start_time": "2022-07-16T18:00:17.360Z"
   },
   {
    "duration": 29,
    "start_time": "2022-07-16T18:00:17.400Z"
   },
   {
    "duration": 56,
    "start_time": "2022-07-16T18:00:17.431Z"
   },
   {
    "duration": 28,
    "start_time": "2022-07-16T18:00:17.488Z"
   },
   {
    "duration": 8,
    "start_time": "2022-07-16T18:00:17.518Z"
   },
   {
    "duration": 36,
    "start_time": "2022-07-16T18:00:17.527Z"
   },
   {
    "duration": 32,
    "start_time": "2022-07-16T18:00:17.565Z"
   },
   {
    "duration": 26,
    "start_time": "2022-07-16T18:00:17.599Z"
   },
   {
    "duration": 60,
    "start_time": "2022-07-16T18:00:17.627Z"
   },
   {
    "duration": 42,
    "start_time": "2022-07-16T18:00:17.689Z"
   },
   {
    "duration": 56,
    "start_time": "2022-07-16T18:00:17.733Z"
   },
   {
    "duration": 19,
    "start_time": "2022-07-16T18:00:17.791Z"
   },
   {
    "duration": 40,
    "start_time": "2022-07-16T18:00:17.812Z"
   },
   {
    "duration": 215,
    "start_time": "2022-07-16T18:00:17.854Z"
   },
   {
    "duration": 16,
    "start_time": "2022-07-16T18:00:18.071Z"
   },
   {
    "duration": 241,
    "start_time": "2022-07-16T18:00:18.089Z"
   },
   {
    "duration": 23,
    "start_time": "2022-07-16T18:00:18.332Z"
   },
   {
    "duration": 8,
    "start_time": "2022-07-16T18:00:18.357Z"
   },
   {
    "duration": 25,
    "start_time": "2022-07-16T18:00:18.366Z"
   },
   {
    "duration": 2,
    "start_time": "2022-07-16T18:00:18.393Z"
   },
   {
    "duration": 5,
    "start_time": "2022-07-16T18:00:18.396Z"
   },
   {
    "duration": 4,
    "start_time": "2022-07-16T18:00:18.403Z"
   },
   {
    "duration": 6,
    "start_time": "2022-07-16T18:00:18.408Z"
   },
   {
    "duration": 6,
    "start_time": "2022-07-16T18:00:18.415Z"
   },
   {
    "duration": 6,
    "start_time": "2022-07-16T18:00:18.422Z"
   },
   {
    "duration": 190,
    "start_time": "2022-07-16T18:04:46.711Z"
   },
   {
    "duration": 183,
    "start_time": "2022-07-16T18:05:02.364Z"
   },
   {
    "duration": 200,
    "start_time": "2022-07-16T18:05:14.060Z"
   },
   {
    "duration": 169,
    "start_time": "2022-07-16T18:05:18.571Z"
   },
   {
    "duration": 199,
    "start_time": "2022-07-16T18:05:36.703Z"
   },
   {
    "duration": 195,
    "start_time": "2022-07-16T18:05:53.170Z"
   },
   {
    "duration": 267,
    "start_time": "2022-07-16T18:06:31.541Z"
   },
   {
    "duration": 236,
    "start_time": "2022-07-16T18:06:48.182Z"
   },
   {
    "duration": 25,
    "start_time": "2022-07-16T18:07:32.139Z"
   },
   {
    "duration": 15,
    "start_time": "2022-07-16T18:08:18.176Z"
   },
   {
    "duration": 4,
    "start_time": "2022-07-16T18:08:49.816Z"
   },
   {
    "duration": 4,
    "start_time": "2022-07-16T18:09:20.799Z"
   },
   {
    "duration": 5,
    "start_time": "2022-07-16T18:12:30.706Z"
   },
   {
    "duration": 5,
    "start_time": "2022-07-16T18:13:13.772Z"
   },
   {
    "duration": 101,
    "start_time": "2022-07-16T18:17:25.231Z"
   },
   {
    "duration": 1126,
    "start_time": "2022-07-16T18:30:18.416Z"
   },
   {
    "duration": 322,
    "start_time": "2022-07-16T18:30:19.544Z"
   },
   {
    "duration": 12,
    "start_time": "2022-07-16T18:30:19.868Z"
   },
   {
    "duration": 16,
    "start_time": "2022-07-16T18:30:19.883Z"
   },
   {
    "duration": 10,
    "start_time": "2022-07-16T18:30:19.901Z"
   },
   {
    "duration": 15,
    "start_time": "2022-07-16T18:30:19.913Z"
   },
   {
    "duration": 30,
    "start_time": "2022-07-16T18:30:19.930Z"
   },
   {
    "duration": 23,
    "start_time": "2022-07-16T18:30:19.962Z"
   },
   {
    "duration": 26,
    "start_time": "2022-07-16T18:30:19.987Z"
   },
   {
    "duration": 11,
    "start_time": "2022-07-16T18:30:20.017Z"
   },
   {
    "duration": 59,
    "start_time": "2022-07-16T18:30:20.030Z"
   },
   {
    "duration": 28,
    "start_time": "2022-07-16T18:30:20.091Z"
   },
   {
    "duration": 34,
    "start_time": "2022-07-16T18:30:20.121Z"
   },
   {
    "duration": 15,
    "start_time": "2022-07-16T18:30:20.156Z"
   },
   {
    "duration": 8,
    "start_time": "2022-07-16T18:30:20.172Z"
   },
   {
    "duration": 24,
    "start_time": "2022-07-16T18:30:20.181Z"
   },
   {
    "duration": 52,
    "start_time": "2022-07-16T18:30:20.207Z"
   },
   {
    "duration": 22,
    "start_time": "2022-07-16T18:30:20.261Z"
   },
   {
    "duration": 12,
    "start_time": "2022-07-16T18:30:20.285Z"
   },
   {
    "duration": 53,
    "start_time": "2022-07-16T18:30:20.299Z"
   },
   {
    "duration": 23,
    "start_time": "2022-07-16T18:30:20.355Z"
   },
   {
    "duration": 12,
    "start_time": "2022-07-16T18:30:20.380Z"
   },
   {
    "duration": 36,
    "start_time": "2022-07-16T18:30:20.394Z"
   },
   {
    "duration": 29,
    "start_time": "2022-07-16T18:30:20.453Z"
   },
   {
    "duration": 19,
    "start_time": "2022-07-16T18:30:20.484Z"
   },
   {
    "duration": 22,
    "start_time": "2022-07-16T18:30:20.505Z"
   },
   {
    "duration": 2,
    "start_time": "2022-07-16T18:30:20.553Z"
   },
   {
    "duration": 6,
    "start_time": "2022-07-16T18:30:20.559Z"
   },
   {
    "duration": 37,
    "start_time": "2022-07-16T18:30:20.567Z"
   },
   {
    "duration": 24,
    "start_time": "2022-07-16T18:30:20.607Z"
   },
   {
    "duration": 32,
    "start_time": "2022-07-16T18:30:20.633Z"
   },
   {
    "duration": 10,
    "start_time": "2022-07-16T18:30:20.667Z"
   },
   {
    "duration": 9,
    "start_time": "2022-07-16T18:30:20.679Z"
   },
   {
    "duration": 18,
    "start_time": "2022-07-16T18:30:20.690Z"
   },
   {
    "duration": 60,
    "start_time": "2022-07-16T18:30:20.710Z"
   },
   {
    "duration": 25,
    "start_time": "2022-07-16T18:30:20.771Z"
   },
   {
    "duration": 5,
    "start_time": "2022-07-16T18:30:20.798Z"
   },
   {
    "duration": 15,
    "start_time": "2022-07-16T18:30:20.804Z"
   },
   {
    "duration": 36,
    "start_time": "2022-07-16T18:30:20.821Z"
   },
   {
    "duration": 39,
    "start_time": "2022-07-16T18:30:20.859Z"
   },
   {
    "duration": 25,
    "start_time": "2022-07-16T18:30:20.899Z"
   },
   {
    "duration": 50,
    "start_time": "2022-07-16T18:30:20.926Z"
   },
   {
    "duration": 29,
    "start_time": "2022-07-16T18:30:20.978Z"
   },
   {
    "duration": 11,
    "start_time": "2022-07-16T18:30:21.008Z"
   },
   {
    "duration": 48,
    "start_time": "2022-07-16T18:30:21.021Z"
   },
   {
    "duration": 30,
    "start_time": "2022-07-16T18:30:21.072Z"
   },
   {
    "duration": 49,
    "start_time": "2022-07-16T18:30:21.105Z"
   },
   {
    "duration": 38,
    "start_time": "2022-07-16T18:30:21.156Z"
   },
   {
    "duration": 33,
    "start_time": "2022-07-16T18:30:21.196Z"
   },
   {
    "duration": 45,
    "start_time": "2022-07-16T18:30:21.230Z"
   },
   {
    "duration": 17,
    "start_time": "2022-07-16T18:30:21.276Z"
   },
   {
    "duration": 20,
    "start_time": "2022-07-16T18:30:21.294Z"
   },
   {
    "duration": 246,
    "start_time": "2022-07-16T18:30:21.315Z"
   },
   {
    "duration": 17,
    "start_time": "2022-07-16T18:30:21.563Z"
   },
   {
    "duration": 251,
    "start_time": "2022-07-16T18:30:21.582Z"
   },
   {
    "duration": 235,
    "start_time": "2022-07-16T18:30:21.835Z"
   },
   {
    "duration": 5,
    "start_time": "2022-07-16T18:30:22.072Z"
   },
   {
    "duration": 7,
    "start_time": "2022-07-16T18:30:22.079Z"
   },
   {
    "duration": 6,
    "start_time": "2022-07-16T18:30:22.087Z"
   },
   {
    "duration": 7,
    "start_time": "2022-07-16T18:30:22.095Z"
   },
   {
    "duration": 104,
    "start_time": "2022-07-16T18:30:22.103Z"
   },
   {
    "duration": 0,
    "start_time": "2022-07-16T18:30:22.209Z"
   },
   {
    "duration": 0,
    "start_time": "2022-07-16T18:30:22.210Z"
   },
   {
    "duration": 0,
    "start_time": "2022-07-16T18:30:22.211Z"
   },
   {
    "duration": 0,
    "start_time": "2022-07-16T18:30:22.213Z"
   },
   {
    "duration": 1133,
    "start_time": "2022-07-16T18:30:44.114Z"
   },
   {
    "duration": 319,
    "start_time": "2022-07-16T18:30:45.248Z"
   },
   {
    "duration": 11,
    "start_time": "2022-07-16T18:30:45.569Z"
   },
   {
    "duration": 13,
    "start_time": "2022-07-16T18:30:45.583Z"
   },
   {
    "duration": 10,
    "start_time": "2022-07-16T18:30:45.598Z"
   },
   {
    "duration": 11,
    "start_time": "2022-07-16T18:30:45.610Z"
   },
   {
    "duration": 12,
    "start_time": "2022-07-16T18:30:45.623Z"
   },
   {
    "duration": 20,
    "start_time": "2022-07-16T18:30:45.653Z"
   },
   {
    "duration": 21,
    "start_time": "2022-07-16T18:30:45.675Z"
   },
   {
    "duration": 11,
    "start_time": "2022-07-16T18:30:45.700Z"
   },
   {
    "duration": 67,
    "start_time": "2022-07-16T18:30:45.713Z"
   },
   {
    "duration": 24,
    "start_time": "2022-07-16T18:30:45.782Z"
   },
   {
    "duration": 16,
    "start_time": "2022-07-16T18:30:45.808Z"
   },
   {
    "duration": 39,
    "start_time": "2022-07-16T18:30:45.826Z"
   },
   {
    "duration": 7,
    "start_time": "2022-07-16T18:30:45.867Z"
   },
   {
    "duration": 26,
    "start_time": "2022-07-16T18:30:45.876Z"
   },
   {
    "duration": 17,
    "start_time": "2022-07-16T18:30:45.903Z"
   },
   {
    "duration": 47,
    "start_time": "2022-07-16T18:30:45.922Z"
   },
   {
    "duration": 10,
    "start_time": "2022-07-16T18:30:45.971Z"
   },
   {
    "duration": 33,
    "start_time": "2022-07-16T18:30:45.983Z"
   },
   {
    "duration": 46,
    "start_time": "2022-07-16T18:30:46.018Z"
   },
   {
    "duration": 11,
    "start_time": "2022-07-16T18:30:46.066Z"
   },
   {
    "duration": 35,
    "start_time": "2022-07-16T18:30:46.079Z"
   },
   {
    "duration": 59,
    "start_time": "2022-07-16T18:30:46.117Z"
   },
   {
    "duration": 23,
    "start_time": "2022-07-16T18:30:46.178Z"
   },
   {
    "duration": 53,
    "start_time": "2022-07-16T18:30:46.203Z"
   },
   {
    "duration": 3,
    "start_time": "2022-07-16T18:30:46.258Z"
   },
   {
    "duration": 8,
    "start_time": "2022-07-16T18:30:46.266Z"
   },
   {
    "duration": 41,
    "start_time": "2022-07-16T18:30:46.277Z"
   },
   {
    "duration": 39,
    "start_time": "2022-07-16T18:30:46.319Z"
   },
   {
    "duration": 14,
    "start_time": "2022-07-16T18:30:46.359Z"
   },
   {
    "duration": 11,
    "start_time": "2022-07-16T18:30:46.375Z"
   },
   {
    "duration": 10,
    "start_time": "2022-07-16T18:30:46.387Z"
   },
   {
    "duration": 19,
    "start_time": "2022-07-16T18:30:46.399Z"
   },
   {
    "duration": 25,
    "start_time": "2022-07-16T18:30:46.451Z"
   },
   {
    "duration": 29,
    "start_time": "2022-07-16T18:30:46.478Z"
   },
   {
    "duration": 7,
    "start_time": "2022-07-16T18:30:46.509Z"
   },
   {
    "duration": 46,
    "start_time": "2022-07-16T18:30:46.517Z"
   },
   {
    "duration": 13,
    "start_time": "2022-07-16T18:30:46.564Z"
   },
   {
    "duration": 35,
    "start_time": "2022-07-16T18:30:46.578Z"
   },
   {
    "duration": 46,
    "start_time": "2022-07-16T18:30:46.614Z"
   },
   {
    "duration": 30,
    "start_time": "2022-07-16T18:30:46.661Z"
   },
   {
    "duration": 26,
    "start_time": "2022-07-16T18:30:46.692Z"
   },
   {
    "duration": 8,
    "start_time": "2022-07-16T18:30:46.719Z"
   },
   {
    "duration": 20,
    "start_time": "2022-07-16T18:30:46.753Z"
   },
   {
    "duration": 25,
    "start_time": "2022-07-16T18:30:46.775Z"
   },
   {
    "duration": 17,
    "start_time": "2022-07-16T18:30:46.802Z"
   },
   {
    "duration": 54,
    "start_time": "2022-07-16T18:30:46.821Z"
   },
   {
    "duration": 30,
    "start_time": "2022-07-16T18:30:46.877Z"
   },
   {
    "duration": 45,
    "start_time": "2022-07-16T18:30:46.908Z"
   },
   {
    "duration": 15,
    "start_time": "2022-07-16T18:30:46.954Z"
   },
   {
    "duration": 14,
    "start_time": "2022-07-16T18:30:46.970Z"
   },
   {
    "duration": 212,
    "start_time": "2022-07-16T18:30:46.985Z"
   },
   {
    "duration": 16,
    "start_time": "2022-07-16T18:30:47.199Z"
   },
   {
    "duration": 238,
    "start_time": "2022-07-16T18:30:47.217Z"
   },
   {
    "duration": 223,
    "start_time": "2022-07-16T18:30:47.456Z"
   },
   {
    "duration": 5,
    "start_time": "2022-07-16T18:30:47.681Z"
   },
   {
    "duration": 7,
    "start_time": "2022-07-16T18:30:47.687Z"
   },
   {
    "duration": 6,
    "start_time": "2022-07-16T18:30:47.696Z"
   },
   {
    "duration": 4,
    "start_time": "2022-07-16T18:30:47.704Z"
   },
   {
    "duration": 32143,
    "start_time": "2022-07-16T18:30:47.710Z"
   },
   {
    "duration": 3,
    "start_time": "2022-07-16T18:31:19.855Z"
   },
   {
    "duration": 8,
    "start_time": "2022-07-16T18:31:19.859Z"
   },
   {
    "duration": 7,
    "start_time": "2022-07-16T18:31:19.869Z"
   },
   {
    "duration": 6,
    "start_time": "2022-07-16T18:31:19.878Z"
   },
   {
    "duration": 109,
    "start_time": "2022-07-16T18:33:32.483Z"
   },
   {
    "duration": 180,
    "start_time": "2022-07-16T18:34:03.765Z"
   },
   {
    "duration": 103,
    "start_time": "2022-07-16T18:35:44.589Z"
   },
   {
    "duration": 96,
    "start_time": "2022-07-16T18:36:04.933Z"
   },
   {
    "duration": 90,
    "start_time": "2022-07-16T18:36:36.822Z"
   },
   {
    "duration": 5,
    "start_time": "2022-07-16T18:38:15.989Z"
   },
   {
    "duration": 45,
    "start_time": "2022-07-18T19:31:33.857Z"
   },
   {
    "duration": 1441,
    "start_time": "2022-07-18T19:31:39.269Z"
   },
   {
    "duration": 690,
    "start_time": "2022-07-18T19:31:40.712Z"
   },
   {
    "duration": 14,
    "start_time": "2022-07-18T19:31:41.404Z"
   },
   {
    "duration": 18,
    "start_time": "2022-07-18T19:31:41.420Z"
   },
   {
    "duration": 11,
    "start_time": "2022-07-18T19:31:41.439Z"
   },
   {
    "duration": 13,
    "start_time": "2022-07-18T19:31:41.452Z"
   },
   {
    "duration": 39,
    "start_time": "2022-07-18T19:31:41.467Z"
   },
   {
    "duration": 26,
    "start_time": "2022-07-18T19:31:41.508Z"
   },
   {
    "duration": 23,
    "start_time": "2022-07-18T19:31:41.537Z"
   },
   {
    "duration": 12,
    "start_time": "2022-07-18T19:31:41.563Z"
   },
   {
    "duration": 41,
    "start_time": "2022-07-18T19:31:41.598Z"
   },
   {
    "duration": 27,
    "start_time": "2022-07-18T19:31:41.641Z"
   },
   {
    "duration": 38,
    "start_time": "2022-07-18T19:31:41.669Z"
   },
   {
    "duration": 16,
    "start_time": "2022-07-18T19:31:41.709Z"
   },
   {
    "duration": 8,
    "start_time": "2022-07-18T19:31:41.727Z"
   },
   {
    "duration": 28,
    "start_time": "2022-07-18T19:31:41.737Z"
   },
   {
    "duration": 44,
    "start_time": "2022-07-18T19:31:41.766Z"
   },
   {
    "duration": 20,
    "start_time": "2022-07-18T19:31:41.812Z"
   },
   {
    "duration": 11,
    "start_time": "2022-07-18T19:31:41.834Z"
   },
   {
    "duration": 64,
    "start_time": "2022-07-18T19:31:41.847Z"
   },
   {
    "duration": 22,
    "start_time": "2022-07-18T19:31:41.913Z"
   },
   {
    "duration": 10,
    "start_time": "2022-07-18T19:31:41.937Z"
   },
   {
    "duration": 49,
    "start_time": "2022-07-18T19:31:41.949Z"
   },
   {
    "duration": 26,
    "start_time": "2022-07-18T19:31:42.000Z"
   },
   {
    "duration": 20,
    "start_time": "2022-07-18T19:31:42.028Z"
   },
   {
    "duration": 49,
    "start_time": "2022-07-18T19:31:42.050Z"
   },
   {
    "duration": 3,
    "start_time": "2022-07-18T19:31:42.101Z"
   },
   {
    "duration": 2,
    "start_time": "2022-07-18T19:31:42.109Z"
   },
   {
    "duration": 33,
    "start_time": "2022-07-18T19:31:42.113Z"
   },
   {
    "duration": 23,
    "start_time": "2022-07-18T19:31:42.147Z"
   },
   {
    "duration": 38,
    "start_time": "2022-07-18T19:31:42.171Z"
   },
   {
    "duration": 11,
    "start_time": "2022-07-18T19:31:42.210Z"
   },
   {
    "duration": 13,
    "start_time": "2022-07-18T19:31:42.222Z"
   },
   {
    "duration": 16,
    "start_time": "2022-07-18T19:31:42.237Z"
   },
   {
    "duration": 50,
    "start_time": "2022-07-18T19:31:42.255Z"
   },
   {
    "duration": 26,
    "start_time": "2022-07-18T19:31:42.306Z"
   },
   {
    "duration": 5,
    "start_time": "2022-07-18T19:31:42.334Z"
   },
   {
    "duration": 16,
    "start_time": "2022-07-18T19:31:42.341Z"
   },
   {
    "duration": 43,
    "start_time": "2022-07-18T19:31:42.360Z"
   },
   {
    "duration": 36,
    "start_time": "2022-07-18T19:31:42.405Z"
   },
   {
    "duration": 27,
    "start_time": "2022-07-18T19:31:42.443Z"
   },
   {
    "duration": 55,
    "start_time": "2022-07-18T19:31:42.472Z"
   },
   {
    "duration": 30,
    "start_time": "2022-07-18T19:31:42.529Z"
   },
   {
    "duration": 9,
    "start_time": "2022-07-18T19:31:42.560Z"
   },
   {
    "duration": 46,
    "start_time": "2022-07-18T19:31:42.571Z"
   },
   {
    "duration": 29,
    "start_time": "2022-07-18T19:31:42.619Z"
   },
   {
    "duration": 21,
    "start_time": "2022-07-18T19:31:42.650Z"
   },
   {
    "duration": 46,
    "start_time": "2022-07-18T19:31:42.673Z"
   },
   {
    "duration": 34,
    "start_time": "2022-07-18T19:31:42.721Z"
   },
   {
    "duration": 52,
    "start_time": "2022-07-18T19:31:42.757Z"
   },
   {
    "duration": 16,
    "start_time": "2022-07-18T19:31:42.811Z"
   },
   {
    "duration": 19,
    "start_time": "2022-07-18T19:31:42.829Z"
   },
   {
    "duration": 257,
    "start_time": "2022-07-18T19:31:42.849Z"
   },
   {
    "duration": 19,
    "start_time": "2022-07-18T19:31:43.107Z"
   },
   {
    "duration": 246,
    "start_time": "2022-07-18T19:31:43.127Z"
   },
   {
    "duration": 248,
    "start_time": "2022-07-18T19:31:43.374Z"
   },
   {
    "duration": 6,
    "start_time": "2022-07-18T19:31:43.625Z"
   },
   {
    "duration": 8,
    "start_time": "2022-07-18T19:31:43.633Z"
   },
   {
    "duration": 9,
    "start_time": "2022-07-18T19:31:43.644Z"
   },
   {
    "duration": 9,
    "start_time": "2022-07-18T19:31:43.655Z"
   },
   {
    "duration": 144,
    "start_time": "2022-07-18T19:31:43.666Z"
   },
   {
    "duration": 100,
    "start_time": "2022-07-18T19:31:43.812Z"
   },
   {
    "duration": 4,
    "start_time": "2022-07-18T19:31:43.914Z"
   },
   {
    "duration": 10,
    "start_time": "2022-07-18T19:31:43.920Z"
   },
   {
    "duration": 7,
    "start_time": "2022-07-18T19:31:43.932Z"
   },
   {
    "duration": 5,
    "start_time": "2022-07-18T19:31:43.941Z"
   },
   {
    "duration": 5,
    "start_time": "2022-07-18T19:31:43.948Z"
   },
   {
    "duration": 1321,
    "start_time": "2022-07-18T21:20:00.768Z"
   },
   {
    "duration": 854,
    "start_time": "2022-07-18T21:20:02.091Z"
   },
   {
    "duration": 12,
    "start_time": "2022-07-18T21:20:02.947Z"
   },
   {
    "duration": 15,
    "start_time": "2022-07-18T21:20:02.961Z"
   },
   {
    "duration": 11,
    "start_time": "2022-07-18T21:20:02.978Z"
   },
   {
    "duration": 15,
    "start_time": "2022-07-18T21:20:02.991Z"
   },
   {
    "duration": 14,
    "start_time": "2022-07-18T21:20:03.008Z"
   },
   {
    "duration": 21,
    "start_time": "2022-07-18T21:20:03.047Z"
   },
   {
    "duration": 25,
    "start_time": "2022-07-18T21:20:03.070Z"
   },
   {
    "duration": 9,
    "start_time": "2022-07-18T21:20:03.099Z"
   },
   {
    "duration": 60,
    "start_time": "2022-07-18T21:20:03.110Z"
   },
   {
    "duration": 22,
    "start_time": "2022-07-18T21:20:03.172Z"
   },
   {
    "duration": 14,
    "start_time": "2022-07-18T21:20:03.196Z"
   },
   {
    "duration": 38,
    "start_time": "2022-07-18T21:20:03.212Z"
   },
   {
    "duration": 7,
    "start_time": "2022-07-18T21:20:03.252Z"
   },
   {
    "duration": 28,
    "start_time": "2022-07-18T21:20:03.261Z"
   },
   {
    "duration": 15,
    "start_time": "2022-07-18T21:20:03.291Z"
   },
   {
    "duration": 39,
    "start_time": "2022-07-18T21:20:03.307Z"
   },
   {
    "duration": 9,
    "start_time": "2022-07-18T21:20:03.348Z"
   },
   {
    "duration": 39,
    "start_time": "2022-07-18T21:20:03.358Z"
   },
   {
    "duration": 19,
    "start_time": "2022-07-18T21:20:03.399Z"
   },
   {
    "duration": 26,
    "start_time": "2022-07-18T21:20:03.420Z"
   },
   {
    "duration": 29,
    "start_time": "2022-07-18T21:20:03.448Z"
   },
   {
    "duration": 29,
    "start_time": "2022-07-18T21:20:03.478Z"
   },
   {
    "duration": 43,
    "start_time": "2022-07-18T21:20:03.509Z"
   },
   {
    "duration": 21,
    "start_time": "2022-07-18T21:20:03.553Z"
   },
   {
    "duration": 3,
    "start_time": "2022-07-18T21:20:03.575Z"
   },
   {
    "duration": 5,
    "start_time": "2022-07-18T21:20:03.581Z"
   },
   {
    "duration": 28,
    "start_time": "2022-07-18T21:20:03.588Z"
   },
   {
    "duration": 40,
    "start_time": "2022-07-18T21:20:03.617Z"
   },
   {
    "duration": 12,
    "start_time": "2022-07-18T21:20:03.659Z"
   },
   {
    "duration": 11,
    "start_time": "2022-07-18T21:20:03.673Z"
   },
   {
    "duration": 13,
    "start_time": "2022-07-18T21:20:03.686Z"
   },
   {
    "duration": 48,
    "start_time": "2022-07-18T21:20:03.700Z"
   },
   {
    "duration": 25,
    "start_time": "2022-07-18T21:20:03.749Z"
   },
   {
    "duration": 23,
    "start_time": "2022-07-18T21:20:03.776Z"
   },
   {
    "duration": 4,
    "start_time": "2022-07-18T21:20:03.801Z"
   },
   {
    "duration": 15,
    "start_time": "2022-07-18T21:20:03.806Z"
   },
   {
    "duration": 33,
    "start_time": "2022-07-18T21:20:03.822Z"
   },
   {
    "duration": 32,
    "start_time": "2022-07-18T21:20:03.857Z"
   },
   {
    "duration": 28,
    "start_time": "2022-07-18T21:20:03.891Z"
   },
   {
    "duration": 65,
    "start_time": "2022-07-18T21:20:03.920Z"
   },
   {
    "duration": 30,
    "start_time": "2022-07-18T21:20:03.987Z"
   },
   {
    "duration": 28,
    "start_time": "2022-07-18T21:20:04.018Z"
   },
   {
    "duration": 25,
    "start_time": "2022-07-18T21:20:04.048Z"
   },
   {
    "duration": 23,
    "start_time": "2022-07-18T21:20:04.075Z"
   },
   {
    "duration": 15,
    "start_time": "2022-07-18T21:20:04.100Z"
   },
   {
    "duration": 25,
    "start_time": "2022-07-18T21:20:04.146Z"
   },
   {
    "duration": 30,
    "start_time": "2022-07-18T21:20:04.173Z"
   },
   {
    "duration": 48,
    "start_time": "2022-07-18T21:20:04.205Z"
   },
   {
    "duration": 14,
    "start_time": "2022-07-18T21:20:04.255Z"
   },
   {
    "duration": 13,
    "start_time": "2022-07-18T21:20:04.271Z"
   },
   {
    "duration": 218,
    "start_time": "2022-07-18T21:20:04.285Z"
   },
   {
    "duration": 15,
    "start_time": "2022-07-18T21:20:04.504Z"
   },
   {
    "duration": 226,
    "start_time": "2022-07-18T21:20:04.521Z"
   },
   {
    "duration": 203,
    "start_time": "2022-07-18T21:20:04.748Z"
   },
   {
    "duration": 4,
    "start_time": "2022-07-18T21:20:04.953Z"
   },
   {
    "duration": 17,
    "start_time": "2022-07-18T21:20:04.958Z"
   },
   {
    "duration": 13,
    "start_time": "2022-07-18T21:20:04.977Z"
   },
   {
    "duration": 9,
    "start_time": "2022-07-18T21:20:04.991Z"
   },
   {
    "duration": 108,
    "start_time": "2022-07-18T21:20:05.001Z"
   },
   {
    "duration": 86,
    "start_time": "2022-07-18T21:20:05.111Z"
   },
   {
    "duration": 4,
    "start_time": "2022-07-18T21:20:05.199Z"
   },
   {
    "duration": 10,
    "start_time": "2022-07-18T21:20:05.204Z"
   },
   {
    "duration": 26,
    "start_time": "2022-07-18T21:20:05.216Z"
   },
   {
    "duration": 14,
    "start_time": "2022-07-18T21:20:05.244Z"
   },
   {
    "duration": 17,
    "start_time": "2022-07-18T21:20:05.259Z"
   },
   {
    "duration": 7,
    "start_time": "2022-07-18T21:20:33.654Z"
   },
   {
    "duration": 5,
    "start_time": "2022-07-18T21:22:30.708Z"
   },
   {
    "duration": 4,
    "start_time": "2022-07-18T21:22:33.813Z"
   },
   {
    "duration": 83,
    "start_time": "2022-07-18T21:23:04.957Z"
   },
   {
    "duration": 82,
    "start_time": "2022-07-18T21:23:17.901Z"
   },
   {
    "duration": 172,
    "start_time": "2022-07-18T21:23:35.308Z"
   },
   {
    "duration": 6,
    "start_time": "2022-07-18T21:26:30.437Z"
   },
   {
    "duration": 5,
    "start_time": "2022-07-18T21:26:31.271Z"
   },
   {
    "duration": 5,
    "start_time": "2022-07-18T21:26:31.928Z"
   },
   {
    "duration": 5,
    "start_time": "2022-07-18T21:26:32.599Z"
   },
   {
    "duration": 85,
    "start_time": "2022-07-18T21:27:04.325Z"
   },
   {
    "duration": 94,
    "start_time": "2022-07-18T21:27:18.390Z"
   },
   {
    "duration": 5,
    "start_time": "2022-07-18T21:28:17.110Z"
   },
   {
    "duration": 97,
    "start_time": "2022-07-18T21:28:37.391Z"
   },
   {
    "duration": 6,
    "start_time": "2022-07-18T21:28:43.884Z"
   },
   {
    "duration": 5,
    "start_time": "2022-07-18T21:29:15.952Z"
   },
   {
    "duration": 5,
    "start_time": "2022-07-18T21:29:51.287Z"
   },
   {
    "duration": 5,
    "start_time": "2022-07-18T21:29:52.734Z"
   },
   {
    "duration": 6,
    "start_time": "2022-07-18T21:30:01.375Z"
   },
   {
    "duration": 6,
    "start_time": "2022-07-18T21:30:14.783Z"
   },
   {
    "duration": 86,
    "start_time": "2022-07-18T21:31:35.096Z"
   },
   {
    "duration": 102,
    "start_time": "2022-07-18T21:32:02.103Z"
   },
   {
    "duration": 23,
    "start_time": "2022-07-18T22:34:34.505Z"
   },
   {
    "duration": 23,
    "start_time": "2022-07-18T22:34:49.580Z"
   },
   {
    "duration": 6,
    "start_time": "2022-07-18T22:40:45.678Z"
   },
   {
    "duration": 6,
    "start_time": "2022-07-18T22:50:30.559Z"
   },
   {
    "duration": 8,
    "start_time": "2022-07-18T22:52:18.031Z"
   },
   {
    "duration": 46,
    "start_time": "2022-07-19T21:34:16.159Z"
   },
   {
    "duration": 1379,
    "start_time": "2022-07-19T21:34:23.265Z"
   },
   {
    "duration": 1113,
    "start_time": "2022-07-19T21:34:24.647Z"
   },
   {
    "duration": 13,
    "start_time": "2022-07-19T21:34:25.762Z"
   },
   {
    "duration": 17,
    "start_time": "2022-07-19T21:34:25.777Z"
   },
   {
    "duration": 11,
    "start_time": "2022-07-19T21:34:25.796Z"
   },
   {
    "duration": 46,
    "start_time": "2022-07-19T21:34:25.808Z"
   },
   {
    "duration": 14,
    "start_time": "2022-07-19T21:34:25.856Z"
   },
   {
    "duration": 23,
    "start_time": "2022-07-19T21:34:25.871Z"
   },
   {
    "duration": 28,
    "start_time": "2022-07-19T21:34:25.896Z"
   },
   {
    "duration": 33,
    "start_time": "2022-07-19T21:34:25.929Z"
   },
   {
    "duration": 42,
    "start_time": "2022-07-19T21:34:25.964Z"
   },
   {
    "duration": 34,
    "start_time": "2022-07-19T21:34:26.008Z"
   },
   {
    "duration": 15,
    "start_time": "2022-07-19T21:34:26.044Z"
   },
   {
    "duration": 16,
    "start_time": "2022-07-19T21:34:26.061Z"
   },
   {
    "duration": 7,
    "start_time": "2022-07-19T21:34:26.079Z"
   },
   {
    "duration": 40,
    "start_time": "2022-07-19T21:34:26.111Z"
   },
   {
    "duration": 21,
    "start_time": "2022-07-19T21:34:26.153Z"
   },
   {
    "duration": 17,
    "start_time": "2022-07-19T21:34:26.175Z"
   },
   {
    "duration": 30,
    "start_time": "2022-07-19T21:34:26.194Z"
   },
   {
    "duration": 43,
    "start_time": "2022-07-19T21:34:26.228Z"
   },
   {
    "duration": 18,
    "start_time": "2022-07-19T21:34:26.273Z"
   },
   {
    "duration": 7,
    "start_time": "2022-07-19T21:34:26.293Z"
   },
   {
    "duration": 44,
    "start_time": "2022-07-19T21:34:26.301Z"
   },
   {
    "duration": 33,
    "start_time": "2022-07-19T21:34:26.347Z"
   },
   {
    "duration": 18,
    "start_time": "2022-07-19T21:34:26.381Z"
   },
   {
    "duration": 35,
    "start_time": "2022-07-19T21:34:26.401Z"
   },
   {
    "duration": 3,
    "start_time": "2022-07-19T21:34:26.441Z"
   },
   {
    "duration": 2,
    "start_time": "2022-07-19T21:34:26.449Z"
   },
   {
    "duration": 28,
    "start_time": "2022-07-19T21:34:26.453Z"
   },
   {
    "duration": 45,
    "start_time": "2022-07-19T21:34:26.483Z"
   },
   {
    "duration": 15,
    "start_time": "2022-07-19T21:34:26.529Z"
   },
   {
    "duration": 11,
    "start_time": "2022-07-19T21:34:26.546Z"
   },
   {
    "duration": 11,
    "start_time": "2022-07-19T21:34:26.559Z"
   },
   {
    "duration": 25,
    "start_time": "2022-07-19T21:34:26.572Z"
   },
   {
    "duration": 34,
    "start_time": "2022-07-19T21:34:26.598Z"
   },
   {
    "duration": 30,
    "start_time": "2022-07-19T21:34:26.635Z"
   },
   {
    "duration": 4,
    "start_time": "2022-07-19T21:34:26.667Z"
   },
   {
    "duration": 18,
    "start_time": "2022-07-19T21:34:26.672Z"
   },
   {
    "duration": 47,
    "start_time": "2022-07-19T21:34:26.691Z"
   },
   {
    "duration": 30,
    "start_time": "2022-07-19T21:34:26.740Z"
   },
   {
    "duration": 33,
    "start_time": "2022-07-19T21:34:26.772Z"
   },
   {
    "duration": 46,
    "start_time": "2022-07-19T21:34:26.806Z"
   },
   {
    "duration": 26,
    "start_time": "2022-07-19T21:34:26.853Z"
   },
   {
    "duration": 8,
    "start_time": "2022-07-19T21:34:26.881Z"
   },
   {
    "duration": 38,
    "start_time": "2022-07-19T21:34:26.890Z"
   },
   {
    "duration": 31,
    "start_time": "2022-07-19T21:34:26.934Z"
   },
   {
    "duration": 17,
    "start_time": "2022-07-19T21:34:26.966Z"
   },
   {
    "duration": 36,
    "start_time": "2022-07-19T21:34:26.984Z"
   },
   {
    "duration": 36,
    "start_time": "2022-07-19T21:34:27.021Z"
   },
   {
    "duration": 25,
    "start_time": "2022-07-19T21:34:27.058Z"
   },
   {
    "duration": 14,
    "start_time": "2022-07-19T21:34:27.084Z"
   },
   {
    "duration": 24,
    "start_time": "2022-07-19T21:34:27.100Z"
   },
   {
    "duration": 277,
    "start_time": "2022-07-19T21:34:27.127Z"
   },
   {
    "duration": 33,
    "start_time": "2022-07-19T21:34:27.406Z"
   },
   {
    "duration": 224,
    "start_time": "2022-07-19T21:34:27.441Z"
   },
   {
    "duration": 226,
    "start_time": "2022-07-19T21:34:27.667Z"
   },
   {
    "duration": 5,
    "start_time": "2022-07-19T21:34:27.895Z"
   },
   {
    "duration": 38,
    "start_time": "2022-07-19T21:34:27.901Z"
   },
   {
    "duration": 19,
    "start_time": "2022-07-19T21:34:27.941Z"
   },
   {
    "duration": 7,
    "start_time": "2022-07-19T21:34:27.962Z"
   },
   {
    "duration": 106,
    "start_time": "2022-07-19T21:34:27.971Z"
   },
   {
    "duration": 104,
    "start_time": "2022-07-19T21:34:28.078Z"
   },
   {
    "duration": 4,
    "start_time": "2022-07-19T21:34:28.183Z"
   },
   {
    "duration": 7,
    "start_time": "2022-07-19T21:34:28.189Z"
   },
   {
    "duration": 18,
    "start_time": "2022-07-19T21:34:28.198Z"
   },
   {
    "duration": 28,
    "start_time": "2022-07-19T21:34:28.219Z"
   },
   {
    "duration": 94,
    "start_time": "2022-07-19T21:34:28.249Z"
   },
   {
    "duration": 106,
    "start_time": "2022-07-19T21:34:28.345Z"
   },
   {
    "duration": 4,
    "start_time": "2022-07-19T21:34:28.453Z"
   },
   {
    "duration": 9,
    "start_time": "2022-07-19T21:34:28.459Z"
   },
   {
    "duration": 9,
    "start_time": "2022-07-19T21:34:28.469Z"
   },
   {
    "duration": 8,
    "start_time": "2022-07-19T21:34:28.479Z"
   },
   {
    "duration": 184,
    "start_time": "2022-07-19T21:34:28.489Z"
   },
   {
    "duration": 109,
    "start_time": "2022-07-19T21:34:28.675Z"
   },
   {
    "duration": 5,
    "start_time": "2022-07-19T21:34:28.786Z"
   },
   {
    "duration": 11,
    "start_time": "2022-07-19T21:34:28.792Z"
   },
   {
    "duration": 5,
    "start_time": "2022-07-19T21:34:28.809Z"
   },
   {
    "duration": 23,
    "start_time": "2022-07-19T21:34:28.824Z"
   },
   {
    "duration": 105,
    "start_time": "2022-07-19T21:34:28.849Z"
   },
   {
    "duration": 7,
    "start_time": "2022-07-19T21:34:28.956Z"
   },
   {
    "duration": 99,
    "start_time": "2022-07-19T21:34:28.964Z"
   },
   {
    "duration": 6,
    "start_time": "2022-07-19T21:34:29.068Z"
   },
   {
    "duration": 21,
    "start_time": "2022-07-19T21:34:29.075Z"
   },
   {
    "duration": 10,
    "start_time": "2022-07-19T21:34:29.111Z"
   },
   {
    "duration": 32,
    "start_time": "2022-07-19T21:35:09.790Z"
   },
   {
    "duration": 31,
    "start_time": "2022-07-19T21:37:47.142Z"
   },
   {
    "duration": 1315,
    "start_time": "2022-07-19T21:38:00.989Z"
   },
   {
    "duration": 358,
    "start_time": "2022-07-19T21:38:02.306Z"
   },
   {
    "duration": 12,
    "start_time": "2022-07-19T21:38:02.666Z"
   },
   {
    "duration": 22,
    "start_time": "2022-07-19T21:38:02.680Z"
   },
   {
    "duration": 23,
    "start_time": "2022-07-19T21:38:02.703Z"
   },
   {
    "duration": 37,
    "start_time": "2022-07-19T21:38:02.730Z"
   },
   {
    "duration": 15,
    "start_time": "2022-07-19T21:38:02.769Z"
   },
   {
    "duration": 43,
    "start_time": "2022-07-19T21:38:02.786Z"
   },
   {
    "duration": 39,
    "start_time": "2022-07-19T21:38:02.835Z"
   },
   {
    "duration": 10,
    "start_time": "2022-07-19T21:38:02.877Z"
   },
   {
    "duration": 53,
    "start_time": "2022-07-19T21:38:02.888Z"
   },
   {
    "duration": 28,
    "start_time": "2022-07-19T21:38:02.945Z"
   },
   {
    "duration": 14,
    "start_time": "2022-07-19T21:38:02.975Z"
   },
   {
    "duration": 31,
    "start_time": "2022-07-19T21:38:02.991Z"
   },
   {
    "duration": 48,
    "start_time": "2022-07-19T21:38:03.023Z"
   },
   {
    "duration": 27,
    "start_time": "2022-07-19T21:38:03.073Z"
   },
   {
    "duration": 27,
    "start_time": "2022-07-19T21:38:03.102Z"
   },
   {
    "duration": 24,
    "start_time": "2022-07-19T21:38:03.138Z"
   },
   {
    "duration": 9,
    "start_time": "2022-07-19T21:38:03.164Z"
   },
   {
    "duration": 47,
    "start_time": "2022-07-19T21:38:03.175Z"
   },
   {
    "duration": 22,
    "start_time": "2022-07-19T21:38:03.231Z"
   },
   {
    "duration": 8,
    "start_time": "2022-07-19T21:38:03.255Z"
   },
   {
    "duration": 35,
    "start_time": "2022-07-19T21:38:03.265Z"
   },
   {
    "duration": 37,
    "start_time": "2022-07-19T21:38:03.302Z"
   },
   {
    "duration": 20,
    "start_time": "2022-07-19T21:38:03.344Z"
   },
   {
    "duration": 20,
    "start_time": "2022-07-19T21:38:03.366Z"
   },
   {
    "duration": 23,
    "start_time": "2022-07-19T21:38:03.388Z"
   },
   {
    "duration": 6,
    "start_time": "2022-07-19T21:38:03.416Z"
   },
   {
    "duration": 66,
    "start_time": "2022-07-19T21:38:03.431Z"
   },
   {
    "duration": 36,
    "start_time": "2022-07-19T21:38:03.499Z"
   },
   {
    "duration": 19,
    "start_time": "2022-07-19T21:38:03.541Z"
   },
   {
    "duration": 40,
    "start_time": "2022-07-19T21:38:03.562Z"
   },
   {
    "duration": 35,
    "start_time": "2022-07-19T21:38:03.604Z"
   },
   {
    "duration": 26,
    "start_time": "2022-07-19T21:38:03.641Z"
   },
   {
    "duration": 35,
    "start_time": "2022-07-19T21:38:03.669Z"
   },
   {
    "duration": 32,
    "start_time": "2022-07-19T21:38:03.705Z"
   },
   {
    "duration": 32,
    "start_time": "2022-07-19T21:38:03.739Z"
   },
   {
    "duration": 27,
    "start_time": "2022-07-19T21:38:03.773Z"
   },
   {
    "duration": 22,
    "start_time": "2022-07-19T21:38:03.802Z"
   },
   {
    "duration": 56,
    "start_time": "2022-07-19T21:38:03.826Z"
   },
   {
    "duration": 21,
    "start_time": "2022-07-19T21:38:03.883Z"
   },
   {
    "duration": 38,
    "start_time": "2022-07-19T21:38:03.906Z"
   },
   {
    "duration": 30,
    "start_time": "2022-07-19T21:38:03.946Z"
   },
   {
    "duration": 8,
    "start_time": "2022-07-19T21:38:03.978Z"
   },
   {
    "duration": 34,
    "start_time": "2022-07-19T21:38:03.988Z"
   },
   {
    "duration": 54,
    "start_time": "2022-07-19T21:38:04.027Z"
   },
   {
    "duration": 17,
    "start_time": "2022-07-19T21:38:04.083Z"
   },
   {
    "duration": 44,
    "start_time": "2022-07-19T21:38:04.101Z"
   },
   {
    "duration": 46,
    "start_time": "2022-07-19T21:38:04.147Z"
   },
   {
    "duration": 41,
    "start_time": "2022-07-19T21:38:04.195Z"
   },
   {
    "duration": 24,
    "start_time": "2022-07-19T21:38:04.239Z"
   },
   {
    "duration": 14,
    "start_time": "2022-07-19T21:38:04.265Z"
   },
   {
    "duration": 211,
    "start_time": "2022-07-19T21:38:04.281Z"
   },
   {
    "duration": 37,
    "start_time": "2022-07-19T21:38:04.494Z"
   },
   {
    "duration": 233,
    "start_time": "2022-07-19T21:38:04.537Z"
   },
   {
    "duration": 227,
    "start_time": "2022-07-19T21:38:04.772Z"
   },
   {
    "duration": 27,
    "start_time": "2022-07-19T21:38:05.002Z"
   },
   {
    "duration": 16,
    "start_time": "2022-07-19T21:38:05.035Z"
   },
   {
    "duration": 13,
    "start_time": "2022-07-19T21:38:05.052Z"
   },
   {
    "duration": 8,
    "start_time": "2022-07-19T21:38:05.067Z"
   },
   {
    "duration": 104,
    "start_time": "2022-07-19T21:38:05.077Z"
   },
   {
    "duration": 111,
    "start_time": "2022-07-19T21:38:05.183Z"
   },
   {
    "duration": 6,
    "start_time": "2022-07-19T21:38:05.295Z"
   },
   {
    "duration": 43,
    "start_time": "2022-07-19T21:38:05.302Z"
   },
   {
    "duration": 10,
    "start_time": "2022-07-19T21:38:05.347Z"
   },
   {
    "duration": 43,
    "start_time": "2022-07-19T21:38:05.359Z"
   },
   {
    "duration": 140,
    "start_time": "2022-07-19T21:38:05.404Z"
   },
   {
    "duration": 98,
    "start_time": "2022-07-19T21:38:05.546Z"
   },
   {
    "duration": 5,
    "start_time": "2022-07-19T21:38:05.646Z"
   },
   {
    "duration": 8,
    "start_time": "2022-07-19T21:38:05.653Z"
   },
   {
    "duration": 15,
    "start_time": "2022-07-19T21:38:05.663Z"
   },
   {
    "duration": 6,
    "start_time": "2022-07-19T21:38:05.680Z"
   },
   {
    "duration": 187,
    "start_time": "2022-07-19T21:38:05.688Z"
   },
   {
    "duration": 128,
    "start_time": "2022-07-19T21:38:05.876Z"
   },
   {
    "duration": 22,
    "start_time": "2022-07-19T21:38:06.006Z"
   },
   {
    "duration": 15,
    "start_time": "2022-07-19T21:38:06.032Z"
   },
   {
    "duration": 7,
    "start_time": "2022-07-19T21:38:06.049Z"
   },
   {
    "duration": 6,
    "start_time": "2022-07-19T21:38:06.058Z"
   },
   {
    "duration": 102,
    "start_time": "2022-07-19T21:38:06.065Z"
   },
   {
    "duration": 7,
    "start_time": "2022-07-19T21:38:06.169Z"
   },
   {
    "duration": 109,
    "start_time": "2022-07-19T21:38:06.178Z"
   },
   {
    "duration": 6,
    "start_time": "2022-07-19T21:38:06.292Z"
   },
   {
    "duration": 42,
    "start_time": "2022-07-19T21:38:06.300Z"
   },
   {
    "duration": 9,
    "start_time": "2022-07-19T21:38:06.344Z"
   },
   {
    "duration": 3,
    "start_time": "2022-07-19T21:38:25.282Z"
   },
   {
    "duration": 33,
    "start_time": "2022-07-19T21:38:29.282Z"
   },
   {
    "duration": 1190,
    "start_time": "2022-07-19T21:38:52.136Z"
   },
   {
    "duration": 355,
    "start_time": "2022-07-19T21:38:53.338Z"
   },
   {
    "duration": 13,
    "start_time": "2022-07-19T21:38:53.695Z"
   },
   {
    "duration": 40,
    "start_time": "2022-07-19T21:38:53.712Z"
   },
   {
    "duration": 11,
    "start_time": "2022-07-19T21:38:53.753Z"
   },
   {
    "duration": 12,
    "start_time": "2022-07-19T21:38:53.765Z"
   },
   {
    "duration": 13,
    "start_time": "2022-07-19T21:38:53.779Z"
   },
   {
    "duration": 30,
    "start_time": "2022-07-19T21:38:53.794Z"
   },
   {
    "duration": 46,
    "start_time": "2022-07-19T21:38:53.825Z"
   },
   {
    "duration": 9,
    "start_time": "2022-07-19T21:38:53.874Z"
   },
   {
    "duration": 43,
    "start_time": "2022-07-19T21:38:53.884Z"
   },
   {
    "duration": 25,
    "start_time": "2022-07-19T21:38:53.929Z"
   },
   {
    "duration": 14,
    "start_time": "2022-07-19T21:38:53.956Z"
   },
   {
    "duration": 15,
    "start_time": "2022-07-19T21:38:53.971Z"
   },
   {
    "duration": 28,
    "start_time": "2022-07-19T21:38:53.988Z"
   },
   {
    "duration": 52,
    "start_time": "2022-07-19T21:38:54.018Z"
   },
   {
    "duration": 18,
    "start_time": "2022-07-19T21:38:54.072Z"
   },
   {
    "duration": 28,
    "start_time": "2022-07-19T21:38:54.092Z"
   },
   {
    "duration": 56,
    "start_time": "2022-07-19T21:38:54.125Z"
   },
   {
    "duration": 38,
    "start_time": "2022-07-19T21:38:54.183Z"
   },
   {
    "duration": 22,
    "start_time": "2022-07-19T21:38:54.223Z"
   },
   {
    "duration": 12,
    "start_time": "2022-07-19T21:38:54.248Z"
   },
   {
    "duration": 32,
    "start_time": "2022-07-19T21:38:54.262Z"
   },
   {
    "duration": 45,
    "start_time": "2022-07-19T21:38:54.295Z"
   },
   {
    "duration": 19,
    "start_time": "2022-07-19T21:38:54.343Z"
   },
   {
    "duration": 22,
    "start_time": "2022-07-19T21:38:54.363Z"
   },
   {
    "duration": 2,
    "start_time": "2022-07-19T21:38:54.387Z"
   },
   {
    "duration": 14,
    "start_time": "2022-07-19T21:38:54.414Z"
   },
   {
    "duration": 49,
    "start_time": "2022-07-19T21:38:54.429Z"
   },
   {
    "duration": 25,
    "start_time": "2022-07-19T21:38:54.480Z"
   },
   {
    "duration": 22,
    "start_time": "2022-07-19T21:38:54.507Z"
   },
   {
    "duration": 47,
    "start_time": "2022-07-19T21:38:54.534Z"
   },
   {
    "duration": 13,
    "start_time": "2022-07-19T21:38:54.582Z"
   },
   {
    "duration": 55,
    "start_time": "2022-07-19T21:38:54.597Z"
   },
   {
    "duration": 29,
    "start_time": "2022-07-19T21:38:54.654Z"
   },
   {
    "duration": 33,
    "start_time": "2022-07-19T21:38:54.685Z"
   },
   {
    "duration": 13,
    "start_time": "2022-07-19T21:38:54.723Z"
   },
   {
    "duration": 42,
    "start_time": "2022-07-19T21:38:54.744Z"
   },
   {
    "duration": 18,
    "start_time": "2022-07-19T21:38:54.788Z"
   },
   {
    "duration": 69,
    "start_time": "2022-07-19T21:38:54.808Z"
   },
   {
    "duration": 22,
    "start_time": "2022-07-19T21:38:54.879Z"
   },
   {
    "duration": 40,
    "start_time": "2022-07-19T21:38:54.903Z"
   },
   {
    "duration": 50,
    "start_time": "2022-07-19T21:38:54.944Z"
   },
   {
    "duration": 65,
    "start_time": "2022-07-19T21:38:54.996Z"
   },
   {
    "duration": 63,
    "start_time": "2022-07-19T21:38:55.063Z"
   },
   {
    "duration": 60,
    "start_time": "2022-07-19T21:38:55.134Z"
   },
   {
    "duration": 61,
    "start_time": "2022-07-19T21:38:55.196Z"
   },
   {
    "duration": 77,
    "start_time": "2022-07-19T21:38:55.259Z"
   },
   {
    "duration": 65,
    "start_time": "2022-07-19T21:38:55.340Z"
   },
   {
    "duration": 63,
    "start_time": "2022-07-19T21:38:55.407Z"
   },
   {
    "duration": 37,
    "start_time": "2022-07-19T21:38:55.471Z"
   },
   {
    "duration": 50,
    "start_time": "2022-07-19T21:38:55.509Z"
   },
   {
    "duration": 239,
    "start_time": "2022-07-19T21:38:55.561Z"
   },
   {
    "duration": 26,
    "start_time": "2022-07-19T21:38:55.802Z"
   },
   {
    "duration": 269,
    "start_time": "2022-07-19T21:38:55.830Z"
   },
   {
    "duration": 240,
    "start_time": "2022-07-19T21:38:56.100Z"
   },
   {
    "duration": 5,
    "start_time": "2022-07-19T21:38:56.344Z"
   },
   {
    "duration": 39,
    "start_time": "2022-07-19T21:38:56.351Z"
   },
   {
    "duration": 68,
    "start_time": "2022-07-19T21:38:56.392Z"
   },
   {
    "duration": 42,
    "start_time": "2022-07-19T21:38:56.461Z"
   },
   {
    "duration": 144,
    "start_time": "2022-07-19T21:38:56.505Z"
   },
   {
    "duration": 98,
    "start_time": "2022-07-19T21:38:56.651Z"
   },
   {
    "duration": 5,
    "start_time": "2022-07-19T21:38:56.751Z"
   },
   {
    "duration": 36,
    "start_time": "2022-07-19T21:38:56.757Z"
   },
   {
    "duration": 78,
    "start_time": "2022-07-19T21:38:56.795Z"
   },
   {
    "duration": 45,
    "start_time": "2022-07-19T21:38:56.875Z"
   },
   {
    "duration": 136,
    "start_time": "2022-07-19T21:38:56.927Z"
   },
   {
    "duration": 116,
    "start_time": "2022-07-19T21:38:57.064Z"
   },
   {
    "duration": 5,
    "start_time": "2022-07-19T21:38:57.182Z"
   },
   {
    "duration": 80,
    "start_time": "2022-07-19T21:38:57.188Z"
   },
   {
    "duration": 71,
    "start_time": "2022-07-19T21:38:57.270Z"
   },
   {
    "duration": 42,
    "start_time": "2022-07-19T21:38:57.342Z"
   },
   {
    "duration": 214,
    "start_time": "2022-07-19T21:38:57.386Z"
   },
   {
    "duration": 131,
    "start_time": "2022-07-19T21:38:57.602Z"
   },
   {
    "duration": 5,
    "start_time": "2022-07-19T21:38:57.735Z"
   },
   {
    "duration": 30,
    "start_time": "2022-07-19T21:38:57.742Z"
   },
   {
    "duration": 75,
    "start_time": "2022-07-19T21:38:57.774Z"
   },
   {
    "duration": 10,
    "start_time": "2022-07-19T21:38:57.851Z"
   },
   {
    "duration": 126,
    "start_time": "2022-07-19T21:38:57.862Z"
   },
   {
    "duration": 7,
    "start_time": "2022-07-19T21:38:57.989Z"
   },
   {
    "duration": 146,
    "start_time": "2022-07-19T21:38:57.998Z"
   },
   {
    "duration": 6,
    "start_time": "2022-07-19T21:38:58.153Z"
   },
   {
    "duration": 38,
    "start_time": "2022-07-19T21:38:58.161Z"
   },
   {
    "duration": 56,
    "start_time": "2022-07-19T21:38:58.201Z"
   },
   {
    "duration": 32,
    "start_time": "2022-07-19T21:39:05.084Z"
   },
   {
    "duration": 2,
    "start_time": "2022-07-19T21:39:58.059Z"
   },
   {
    "duration": 1187,
    "start_time": "2022-07-19T21:40:38.350Z"
   },
   {
    "duration": 392,
    "start_time": "2022-07-19T21:40:39.540Z"
   },
   {
    "duration": 12,
    "start_time": "2022-07-19T21:40:39.934Z"
   },
   {
    "duration": 24,
    "start_time": "2022-07-19T21:40:39.949Z"
   },
   {
    "duration": 14,
    "start_time": "2022-07-19T21:40:39.975Z"
   },
   {
    "duration": 49,
    "start_time": "2022-07-19T21:40:39.991Z"
   },
   {
    "duration": 23,
    "start_time": "2022-07-19T21:40:40.041Z"
   },
   {
    "duration": 54,
    "start_time": "2022-07-19T21:40:40.067Z"
   },
   {
    "duration": 48,
    "start_time": "2022-07-19T21:40:40.123Z"
   },
   {
    "duration": 14,
    "start_time": "2022-07-19T21:40:40.175Z"
   },
   {
    "duration": 58,
    "start_time": "2022-07-19T21:40:40.191Z"
   },
   {
    "duration": 33,
    "start_time": "2022-07-19T21:40:40.251Z"
   },
   {
    "duration": 25,
    "start_time": "2022-07-19T21:40:40.286Z"
   },
   {
    "duration": 28,
    "start_time": "2022-07-19T21:40:40.314Z"
   },
   {
    "duration": 13,
    "start_time": "2022-07-19T21:40:40.344Z"
   },
   {
    "duration": 37,
    "start_time": "2022-07-19T21:40:40.358Z"
   },
   {
    "duration": 25,
    "start_time": "2022-07-19T21:40:40.397Z"
   },
   {
    "duration": 32,
    "start_time": "2022-07-19T21:40:40.424Z"
   },
   {
    "duration": 10,
    "start_time": "2022-07-19T21:40:40.458Z"
   },
   {
    "duration": 57,
    "start_time": "2022-07-19T21:40:40.470Z"
   },
   {
    "duration": 20,
    "start_time": "2022-07-19T21:40:40.529Z"
   },
   {
    "duration": 7,
    "start_time": "2022-07-19T21:40:40.551Z"
   },
   {
    "duration": 34,
    "start_time": "2022-07-19T21:40:40.560Z"
   },
   {
    "duration": 51,
    "start_time": "2022-07-19T21:40:40.596Z"
   },
   {
    "duration": 24,
    "start_time": "2022-07-19T21:40:40.649Z"
   },
   {
    "duration": 19,
    "start_time": "2022-07-19T21:40:40.676Z"
   },
   {
    "duration": 3,
    "start_time": "2022-07-19T21:40:40.709Z"
   },
   {
    "duration": 18,
    "start_time": "2022-07-19T21:40:40.719Z"
   },
   {
    "duration": 43,
    "start_time": "2022-07-19T21:40:40.739Z"
   },
   {
    "duration": 31,
    "start_time": "2022-07-19T21:40:40.784Z"
   },
   {
    "duration": 14,
    "start_time": "2022-07-19T21:40:40.822Z"
   },
   {
    "duration": 19,
    "start_time": "2022-07-19T21:40:40.838Z"
   },
   {
    "duration": 17,
    "start_time": "2022-07-19T21:40:40.859Z"
   },
   {
    "duration": 18,
    "start_time": "2022-07-19T21:40:40.878Z"
   },
   {
    "duration": 31,
    "start_time": "2022-07-19T21:40:40.898Z"
   },
   {
    "duration": 45,
    "start_time": "2022-07-19T21:40:40.930Z"
   },
   {
    "duration": 18,
    "start_time": "2022-07-19T21:40:40.978Z"
   },
   {
    "duration": 48,
    "start_time": "2022-07-19T21:40:40.998Z"
   },
   {
    "duration": 24,
    "start_time": "2022-07-19T21:40:41.048Z"
   },
   {
    "duration": 47,
    "start_time": "2022-07-19T21:40:41.075Z"
   },
   {
    "duration": 37,
    "start_time": "2022-07-19T21:40:41.124Z"
   },
   {
    "duration": 57,
    "start_time": "2022-07-19T21:40:41.163Z"
   },
   {
    "duration": 42,
    "start_time": "2022-07-19T21:40:41.227Z"
   },
   {
    "duration": 13,
    "start_time": "2022-07-19T21:40:41.271Z"
   },
   {
    "duration": 32,
    "start_time": "2022-07-19T21:40:41.285Z"
   },
   {
    "duration": 32,
    "start_time": "2022-07-19T21:40:41.319Z"
   },
   {
    "duration": 24,
    "start_time": "2022-07-19T21:40:41.352Z"
   },
   {
    "duration": 56,
    "start_time": "2022-07-19T21:40:41.378Z"
   },
   {
    "duration": 48,
    "start_time": "2022-07-19T21:40:41.440Z"
   },
   {
    "duration": 35,
    "start_time": "2022-07-19T21:40:41.491Z"
   },
   {
    "duration": 50,
    "start_time": "2022-07-19T21:40:41.528Z"
   },
   {
    "duration": 20,
    "start_time": "2022-07-19T21:40:41.587Z"
   },
   {
    "duration": 265,
    "start_time": "2022-07-19T21:40:41.609Z"
   },
   {
    "duration": 16,
    "start_time": "2022-07-19T21:40:41.876Z"
   },
   {
    "duration": 248,
    "start_time": "2022-07-19T21:40:41.893Z"
   },
   {
    "duration": 254,
    "start_time": "2022-07-19T21:40:42.142Z"
   },
   {
    "duration": 15,
    "start_time": "2022-07-19T21:40:42.398Z"
   },
   {
    "duration": 21,
    "start_time": "2022-07-19T21:40:42.418Z"
   },
   {
    "duration": 17,
    "start_time": "2022-07-19T21:40:42.441Z"
   },
   {
    "duration": 18,
    "start_time": "2022-07-19T21:40:42.460Z"
   },
   {
    "duration": 139,
    "start_time": "2022-07-19T21:40:42.480Z"
   },
   {
    "duration": 95,
    "start_time": "2022-07-19T21:40:42.626Z"
   },
   {
    "duration": 7,
    "start_time": "2022-07-19T21:40:42.727Z"
   },
   {
    "duration": 24,
    "start_time": "2022-07-19T21:40:42.736Z"
   },
   {
    "duration": 37,
    "start_time": "2022-07-19T21:40:42.762Z"
   },
   {
    "duration": 40,
    "start_time": "2022-07-19T21:40:42.801Z"
   },
   {
    "duration": 143,
    "start_time": "2022-07-19T21:40:42.843Z"
   },
   {
    "duration": 106,
    "start_time": "2022-07-19T21:40:42.988Z"
   },
   {
    "duration": 4,
    "start_time": "2022-07-19T21:40:43.096Z"
   },
   {
    "duration": 32,
    "start_time": "2022-07-19T21:40:43.102Z"
   },
   {
    "duration": 11,
    "start_time": "2022-07-19T21:40:43.136Z"
   },
   {
    "duration": 36,
    "start_time": "2022-07-19T21:40:43.149Z"
   },
   {
    "duration": 185,
    "start_time": "2022-07-19T21:40:43.187Z"
   },
   {
    "duration": 118,
    "start_time": "2022-07-19T21:40:43.373Z"
   },
   {
    "duration": 5,
    "start_time": "2022-07-19T21:40:43.493Z"
   },
   {
    "duration": 24,
    "start_time": "2022-07-19T21:40:43.510Z"
   },
   {
    "duration": 23,
    "start_time": "2022-07-19T21:40:43.536Z"
   },
   {
    "duration": 11,
    "start_time": "2022-07-19T21:40:43.562Z"
   },
   {
    "duration": 146,
    "start_time": "2022-07-19T21:40:43.575Z"
   },
   {
    "duration": 10,
    "start_time": "2022-07-19T21:40:43.727Z"
   },
   {
    "duration": 118,
    "start_time": "2022-07-19T21:40:43.739Z"
   },
   {
    "duration": 9,
    "start_time": "2022-07-19T21:40:43.865Z"
   },
   {
    "duration": 21,
    "start_time": "2022-07-19T21:40:43.876Z"
   },
   {
    "duration": 9,
    "start_time": "2022-07-19T21:40:43.899Z"
   },
   {
    "duration": 8,
    "start_time": "2022-07-19T21:41:19.742Z"
   },
   {
    "duration": 32,
    "start_time": "2022-07-19T21:41:29.978Z"
   },
   {
    "duration": 111,
    "start_time": "2022-07-19T21:42:04.662Z"
   },
   {
    "duration": 13,
    "start_time": "2022-07-19T21:42:14.262Z"
   },
   {
    "duration": 23,
    "start_time": "2022-07-19T21:42:16.340Z"
   },
   {
    "duration": 29,
    "start_time": "2022-07-19T21:42:38.507Z"
   },
   {
    "duration": 10,
    "start_time": "2022-07-19T21:43:43.973Z"
   },
   {
    "duration": 12,
    "start_time": "2022-07-19T21:43:49.531Z"
   },
   {
    "duration": 6,
    "start_time": "2022-07-19T21:44:35.044Z"
   },
   {
    "duration": 18,
    "start_time": "2022-07-19T21:44:50.403Z"
   },
   {
    "duration": 30,
    "start_time": "2022-07-19T21:45:01.210Z"
   },
   {
    "duration": 51,
    "start_time": "2022-07-19T21:45:23.816Z"
   },
   {
    "duration": 9,
    "start_time": "2022-07-19T21:45:30.692Z"
   },
   {
    "duration": 32,
    "start_time": "2022-07-19T21:45:33.817Z"
   },
   {
    "duration": 76,
    "start_time": "2022-07-19T21:48:13.341Z"
   },
   {
    "duration": 9,
    "start_time": "2022-07-19T21:48:21.637Z"
   },
   {
    "duration": 32,
    "start_time": "2022-07-19T21:48:23.235Z"
   },
   {
    "duration": 5,
    "start_time": "2022-07-19T21:49:59.380Z"
   },
   {
    "duration": 1097,
    "start_time": "2022-07-19T21:54:36.844Z"
   },
   {
    "duration": 10,
    "start_time": "2022-07-19T21:54:54.396Z"
   },
   {
    "duration": 33,
    "start_time": "2022-07-19T21:55:07.165Z"
   },
   {
    "duration": 12,
    "start_time": "2022-07-19T21:55:29.406Z"
   },
   {
    "duration": 6,
    "start_time": "2022-07-19T21:56:06.597Z"
   },
   {
    "duration": 6,
    "start_time": "2022-07-19T21:56:36.431Z"
   },
   {
    "duration": 92,
    "start_time": "2022-07-19T21:57:19.789Z"
   },
   {
    "duration": 5,
    "start_time": "2022-07-19T21:57:59.360Z"
   },
   {
    "duration": 7,
    "start_time": "2022-07-19T21:58:05.661Z"
   },
   {
    "duration": 8,
    "start_time": "2022-07-19T21:58:49.261Z"
   },
   {
    "duration": 73,
    "start_time": "2022-07-19T21:59:03.909Z"
   },
   {
    "duration": 78,
    "start_time": "2022-07-19T21:59:07.869Z"
   },
   {
    "duration": 78,
    "start_time": "2022-07-19T21:59:13.004Z"
   },
   {
    "duration": 8,
    "start_time": "2022-07-19T21:59:16.277Z"
   },
   {
    "duration": 75,
    "start_time": "2022-07-19T21:59:24.493Z"
   },
   {
    "duration": 6,
    "start_time": "2022-07-19T21:59:27.548Z"
   },
   {
    "duration": 281,
    "start_time": "2022-07-19T22:00:12.669Z"
   },
   {
    "duration": 8,
    "start_time": "2022-07-19T22:00:19.245Z"
   },
   {
    "duration": 9,
    "start_time": "2022-07-19T22:01:09.339Z"
   },
   {
    "duration": 4,
    "start_time": "2022-07-19T22:02:11.055Z"
   },
   {
    "duration": 14,
    "start_time": "2022-07-19T22:02:14.336Z"
   },
   {
    "duration": 14,
    "start_time": "2022-07-19T22:06:33.981Z"
   },
   {
    "duration": 17,
    "start_time": "2022-07-19T22:06:48.707Z"
   },
   {
    "duration": 27,
    "start_time": "2022-07-19T22:06:54.505Z"
   },
   {
    "duration": 1334,
    "start_time": "2022-07-19T22:07:00.062Z"
   },
   {
    "duration": 476,
    "start_time": "2022-07-19T22:07:01.398Z"
   },
   {
    "duration": 18,
    "start_time": "2022-07-19T22:07:01.876Z"
   },
   {
    "duration": 89,
    "start_time": "2022-07-19T22:07:01.897Z"
   },
   {
    "duration": 72,
    "start_time": "2022-07-19T22:07:01.989Z"
   },
   {
    "duration": 45,
    "start_time": "2022-07-19T22:07:02.063Z"
   },
   {
    "duration": 63,
    "start_time": "2022-07-19T22:07:02.110Z"
   },
   {
    "duration": 82,
    "start_time": "2022-07-19T22:07:02.175Z"
   },
   {
    "duration": 35,
    "start_time": "2022-07-19T22:07:02.258Z"
   },
   {
    "duration": 9,
    "start_time": "2022-07-19T22:07:02.299Z"
   },
   {
    "duration": 103,
    "start_time": "2022-07-19T22:07:02.315Z"
   },
   {
    "duration": 27,
    "start_time": "2022-07-19T22:07:02.420Z"
   },
   {
    "duration": 26,
    "start_time": "2022-07-19T22:07:02.449Z"
   },
   {
    "duration": 17,
    "start_time": "2022-07-19T22:07:02.477Z"
   },
   {
    "duration": 40,
    "start_time": "2022-07-19T22:07:02.496Z"
   },
   {
    "duration": 48,
    "start_time": "2022-07-19T22:07:02.537Z"
   },
   {
    "duration": 16,
    "start_time": "2022-07-19T22:07:02.587Z"
   },
   {
    "duration": 58,
    "start_time": "2022-07-19T22:07:02.604Z"
   },
   {
    "duration": 8,
    "start_time": "2022-07-19T22:07:02.664Z"
   },
   {
    "duration": 48,
    "start_time": "2022-07-19T22:07:02.675Z"
   },
   {
    "duration": 34,
    "start_time": "2022-07-19T22:07:02.725Z"
   },
   {
    "duration": 9,
    "start_time": "2022-07-19T22:07:02.760Z"
   },
   {
    "duration": 54,
    "start_time": "2022-07-19T22:07:02.771Z"
   },
   {
    "duration": 34,
    "start_time": "2022-07-19T22:07:02.827Z"
   },
   {
    "duration": 21,
    "start_time": "2022-07-19T22:07:02.863Z"
   },
   {
    "duration": 35,
    "start_time": "2022-07-19T22:07:02.886Z"
   },
   {
    "duration": 41,
    "start_time": "2022-07-19T22:07:02.922Z"
   },
   {
    "duration": 27,
    "start_time": "2022-07-19T22:07:02.967Z"
   },
   {
    "duration": 77,
    "start_time": "2022-07-19T22:07:02.996Z"
   },
   {
    "duration": 24,
    "start_time": "2022-07-19T22:07:03.075Z"
   },
   {
    "duration": 49,
    "start_time": "2022-07-19T22:07:03.101Z"
   },
   {
    "duration": 31,
    "start_time": "2022-07-19T22:07:03.152Z"
   },
   {
    "duration": 27,
    "start_time": "2022-07-19T22:07:03.184Z"
   },
   {
    "duration": 63,
    "start_time": "2022-07-19T22:07:03.223Z"
   },
   {
    "duration": 48,
    "start_time": "2022-07-19T22:07:03.289Z"
   },
   {
    "duration": 40,
    "start_time": "2022-07-19T22:07:03.339Z"
   },
   {
    "duration": 60,
    "start_time": "2022-07-19T22:07:03.380Z"
   },
   {
    "duration": 20,
    "start_time": "2022-07-19T22:07:03.441Z"
   },
   {
    "duration": 39,
    "start_time": "2022-07-19T22:07:03.463Z"
   },
   {
    "duration": 87,
    "start_time": "2022-07-19T22:07:03.503Z"
   },
   {
    "duration": 59,
    "start_time": "2022-07-19T22:07:03.592Z"
   },
   {
    "duration": 46,
    "start_time": "2022-07-19T22:07:03.653Z"
   },
   {
    "duration": 61,
    "start_time": "2022-07-19T22:07:03.701Z"
   },
   {
    "duration": 17,
    "start_time": "2022-07-19T22:07:03.764Z"
   },
   {
    "duration": 81,
    "start_time": "2022-07-19T22:07:03.783Z"
   },
   {
    "duration": 37,
    "start_time": "2022-07-19T22:07:03.866Z"
   },
   {
    "duration": 54,
    "start_time": "2022-07-19T22:07:03.904Z"
   },
   {
    "duration": 35,
    "start_time": "2022-07-19T22:07:03.960Z"
   },
   {
    "duration": 39,
    "start_time": "2022-07-19T22:07:03.997Z"
   },
   {
    "duration": 33,
    "start_time": "2022-07-19T22:07:04.038Z"
   },
   {
    "duration": 27,
    "start_time": "2022-07-19T22:07:04.073Z"
   },
   {
    "duration": 61,
    "start_time": "2022-07-19T22:07:04.102Z"
   },
   {
    "duration": 231,
    "start_time": "2022-07-19T22:07:04.167Z"
   },
   {
    "duration": 24,
    "start_time": "2022-07-19T22:07:04.400Z"
   },
   {
    "duration": 271,
    "start_time": "2022-07-19T22:07:04.425Z"
   },
   {
    "duration": 251,
    "start_time": "2022-07-19T22:07:04.699Z"
   },
   {
    "duration": 5,
    "start_time": "2022-07-19T22:07:04.952Z"
   },
   {
    "duration": 17,
    "start_time": "2022-07-19T22:07:04.958Z"
   },
   {
    "duration": 31,
    "start_time": "2022-07-19T22:07:04.976Z"
   },
   {
    "duration": 47,
    "start_time": "2022-07-19T22:07:05.009Z"
   },
   {
    "duration": 158,
    "start_time": "2022-07-19T22:07:05.058Z"
   },
   {
    "duration": 90,
    "start_time": "2022-07-19T22:07:05.219Z"
   },
   {
    "duration": 9,
    "start_time": "2022-07-19T22:07:05.311Z"
   },
   {
    "duration": 44,
    "start_time": "2022-07-19T22:07:05.322Z"
   },
   {
    "duration": 20,
    "start_time": "2022-07-19T22:07:05.368Z"
   },
   {
    "duration": 57,
    "start_time": "2022-07-19T22:07:05.390Z"
   },
   {
    "duration": 114,
    "start_time": "2022-07-19T22:07:05.448Z"
   },
   {
    "duration": 111,
    "start_time": "2022-07-19T22:07:05.564Z"
   },
   {
    "duration": 5,
    "start_time": "2022-07-19T22:07:05.676Z"
   },
   {
    "duration": 16,
    "start_time": "2022-07-19T22:07:05.683Z"
   },
   {
    "duration": 44,
    "start_time": "2022-07-19T22:07:05.709Z"
   },
   {
    "duration": 23,
    "start_time": "2022-07-19T22:07:05.755Z"
   },
   {
    "duration": 223,
    "start_time": "2022-07-19T22:07:05.780Z"
   },
   {
    "duration": 129,
    "start_time": "2022-07-19T22:07:06.005Z"
   },
   {
    "duration": 9,
    "start_time": "2022-07-19T22:07:06.135Z"
   },
   {
    "duration": 21,
    "start_time": "2022-07-19T22:07:06.151Z"
   },
   {
    "duration": 81,
    "start_time": "2022-07-19T22:07:06.174Z"
   },
   {
    "duration": 11,
    "start_time": "2022-07-19T22:07:06.256Z"
   },
   {
    "duration": 123,
    "start_time": "2022-07-19T22:07:06.269Z"
   },
   {
    "duration": 18,
    "start_time": "2022-07-19T22:07:06.395Z"
   },
   {
    "duration": 91,
    "start_time": "2022-07-19T22:07:06.421Z"
   },
   {
    "duration": 16,
    "start_time": "2022-07-19T22:07:06.520Z"
   },
   {
    "duration": 18,
    "start_time": "2022-07-19T22:07:06.537Z"
   },
   {
    "duration": 29,
    "start_time": "2022-07-19T22:07:06.557Z"
   },
   {
    "duration": 5,
    "start_time": "2022-07-19T22:07:06.588Z"
   },
   {
    "duration": 12,
    "start_time": "2022-07-19T22:07:06.594Z"
   },
   {
    "duration": 25,
    "start_time": "2022-07-19T22:07:06.608Z"
   },
   {
    "duration": 28,
    "start_time": "2022-07-19T22:07:06.637Z"
   },
   {
    "duration": 1374,
    "start_time": "2022-07-20T22:27:42.310Z"
   },
   {
    "duration": 947,
    "start_time": "2022-07-20T22:27:43.686Z"
   },
   {
    "duration": 12,
    "start_time": "2022-07-20T22:27:44.634Z"
   },
   {
    "duration": 26,
    "start_time": "2022-07-20T22:27:44.648Z"
   },
   {
    "duration": 12,
    "start_time": "2022-07-20T22:27:44.676Z"
   },
   {
    "duration": 14,
    "start_time": "2022-07-20T22:27:44.690Z"
   },
   {
    "duration": 25,
    "start_time": "2022-07-20T22:27:44.705Z"
   },
   {
    "duration": 24,
    "start_time": "2022-07-20T22:27:44.732Z"
   },
   {
    "duration": 46,
    "start_time": "2022-07-20T22:27:44.757Z"
   },
   {
    "duration": 11,
    "start_time": "2022-07-20T22:27:44.807Z"
   },
   {
    "duration": 55,
    "start_time": "2022-07-20T22:27:44.820Z"
   },
   {
    "duration": 23,
    "start_time": "2022-07-20T22:27:44.879Z"
   },
   {
    "duration": 15,
    "start_time": "2022-07-20T22:27:44.904Z"
   },
   {
    "duration": 14,
    "start_time": "2022-07-20T22:27:44.920Z"
   },
   {
    "duration": 8,
    "start_time": "2022-07-20T22:27:44.935Z"
   },
   {
    "duration": 44,
    "start_time": "2022-07-20T22:27:44.944Z"
   },
   {
    "duration": 17,
    "start_time": "2022-07-20T22:27:44.990Z"
   },
   {
    "duration": 34,
    "start_time": "2022-07-20T22:27:45.009Z"
   },
   {
    "duration": 21,
    "start_time": "2022-07-20T22:27:45.044Z"
   },
   {
    "duration": 45,
    "start_time": "2022-07-20T22:27:45.067Z"
   },
   {
    "duration": 18,
    "start_time": "2022-07-20T22:27:45.113Z"
   },
   {
    "duration": 9,
    "start_time": "2022-07-20T22:27:45.132Z"
   },
   {
    "duration": 37,
    "start_time": "2022-07-20T22:27:45.142Z"
   },
   {
    "duration": 26,
    "start_time": "2022-07-20T22:27:45.181Z"
   },
   {
    "duration": 17,
    "start_time": "2022-07-20T22:27:45.209Z"
   },
   {
    "duration": 51,
    "start_time": "2022-07-20T22:27:45.228Z"
   },
   {
    "duration": 3,
    "start_time": "2022-07-20T22:27:45.281Z"
   },
   {
    "duration": 7,
    "start_time": "2022-07-20T22:27:45.289Z"
   },
   {
    "duration": 38,
    "start_time": "2022-07-20T22:27:45.298Z"
   },
   {
    "duration": 47,
    "start_time": "2022-07-20T22:27:45.338Z"
   },
   {
    "duration": 12,
    "start_time": "2022-07-20T22:27:45.386Z"
   },
   {
    "duration": 10,
    "start_time": "2022-07-20T22:27:45.399Z"
   },
   {
    "duration": 7,
    "start_time": "2022-07-20T22:27:45.411Z"
   },
   {
    "duration": 19,
    "start_time": "2022-07-20T22:27:45.419Z"
   },
   {
    "duration": 40,
    "start_time": "2022-07-20T22:27:45.439Z"
   },
   {
    "duration": 22,
    "start_time": "2022-07-20T22:27:45.481Z"
   },
   {
    "duration": 5,
    "start_time": "2022-07-20T22:27:45.505Z"
   },
   {
    "duration": 14,
    "start_time": "2022-07-20T22:27:45.511Z"
   },
   {
    "duration": 35,
    "start_time": "2022-07-20T22:27:45.527Z"
   },
   {
    "duration": 30,
    "start_time": "2022-07-20T22:27:45.571Z"
   },
   {
    "duration": 23,
    "start_time": "2022-07-20T22:27:45.602Z"
   },
   {
    "duration": 55,
    "start_time": "2022-07-20T22:27:45.627Z"
   },
   {
    "duration": 39,
    "start_time": "2022-07-20T22:27:45.684Z"
   },
   {
    "duration": 11,
    "start_time": "2022-07-20T22:27:45.725Z"
   },
   {
    "duration": 46,
    "start_time": "2022-07-20T22:27:45.738Z"
   },
   {
    "duration": 33,
    "start_time": "2022-07-20T22:27:45.787Z"
   },
   {
    "duration": 18,
    "start_time": "2022-07-20T22:27:45.822Z"
   },
   {
    "duration": 26,
    "start_time": "2022-07-20T22:27:45.862Z"
   },
   {
    "duration": 33,
    "start_time": "2022-07-20T22:27:45.890Z"
   },
   {
    "duration": 42,
    "start_time": "2022-07-20T22:27:45.925Z"
   },
   {
    "duration": 20,
    "start_time": "2022-07-20T22:27:45.968Z"
   },
   {
    "duration": 17,
    "start_time": "2022-07-20T22:27:45.989Z"
   },
   {
    "duration": 248,
    "start_time": "2022-07-20T22:27:46.008Z"
   },
   {
    "duration": 22,
    "start_time": "2022-07-20T22:27:46.258Z"
   },
   {
    "duration": 260,
    "start_time": "2022-07-20T22:27:46.285Z"
   },
   {
    "duration": 235,
    "start_time": "2022-07-20T22:27:46.548Z"
   },
   {
    "duration": 5,
    "start_time": "2022-07-20T22:27:46.784Z"
   },
   {
    "duration": 10,
    "start_time": "2022-07-20T22:27:46.790Z"
   },
   {
    "duration": 5,
    "start_time": "2022-07-20T22:27:46.801Z"
   },
   {
    "duration": 6,
    "start_time": "2022-07-20T22:27:46.808Z"
   },
   {
    "duration": 112,
    "start_time": "2022-07-20T22:27:46.815Z"
   },
   {
    "duration": 90,
    "start_time": "2022-07-20T22:27:46.929Z"
   },
   {
    "duration": 4,
    "start_time": "2022-07-20T22:27:47.021Z"
   },
   {
    "duration": 9,
    "start_time": "2022-07-20T22:27:47.026Z"
   },
   {
    "duration": 6,
    "start_time": "2022-07-20T22:27:47.037Z"
   },
   {
    "duration": 31,
    "start_time": "2022-07-20T22:27:47.045Z"
   },
   {
    "duration": 80,
    "start_time": "2022-07-20T22:27:47.078Z"
   },
   {
    "duration": 100,
    "start_time": "2022-07-20T22:27:47.160Z"
   },
   {
    "duration": 8,
    "start_time": "2022-07-20T22:27:47.264Z"
   },
   {
    "duration": 19,
    "start_time": "2022-07-20T22:27:47.275Z"
   },
   {
    "duration": 6,
    "start_time": "2022-07-20T22:27:47.295Z"
   },
   {
    "duration": 7,
    "start_time": "2022-07-20T22:27:47.303Z"
   },
   {
    "duration": 165,
    "start_time": "2022-07-20T22:27:47.312Z"
   },
   {
    "duration": 99,
    "start_time": "2022-07-20T22:27:47.479Z"
   },
   {
    "duration": 4,
    "start_time": "2022-07-20T22:27:47.580Z"
   },
   {
    "duration": 7,
    "start_time": "2022-07-20T22:27:47.586Z"
   },
   {
    "duration": 10,
    "start_time": "2022-07-20T22:27:47.595Z"
   },
   {
    "duration": 6,
    "start_time": "2022-07-20T22:27:47.607Z"
   },
   {
    "duration": 108,
    "start_time": "2022-07-20T22:27:47.615Z"
   },
   {
    "duration": 6,
    "start_time": "2022-07-20T22:27:47.725Z"
   },
   {
    "duration": 104,
    "start_time": "2022-07-20T22:27:47.733Z"
   },
   {
    "duration": 5,
    "start_time": "2022-07-20T22:27:47.842Z"
   },
   {
    "duration": 28,
    "start_time": "2022-07-20T22:27:47.849Z"
   },
   {
    "duration": 37,
    "start_time": "2022-07-20T22:27:47.879Z"
   },
   {
    "duration": 4,
    "start_time": "2022-07-20T22:27:47.918Z"
   },
   {
    "duration": 14,
    "start_time": "2022-07-20T22:27:47.924Z"
   },
   {
    "duration": 8,
    "start_time": "2022-07-20T22:27:47.940Z"
   },
   {
    "duration": 4,
    "start_time": "2022-07-20T22:27:47.949Z"
   },
   {
    "duration": 10,
    "start_time": "2022-07-20T22:49:06.906Z"
   },
   {
    "duration": 12,
    "start_time": "2022-07-20T22:49:08.458Z"
   },
   {
    "duration": 12,
    "start_time": "2022-07-20T22:49:22.337Z"
   },
   {
    "duration": 14,
    "start_time": "2022-07-20T22:49:34.643Z"
   },
   {
    "duration": 14,
    "start_time": "2022-07-20T22:50:39.636Z"
   },
   {
    "duration": 27,
    "start_time": "2022-07-20T22:51:57.732Z"
   },
   {
    "duration": 29,
    "start_time": "2022-07-20T22:52:22.900Z"
   },
   {
    "duration": 5,
    "start_time": "2022-07-20T22:57:47.803Z"
   },
   {
    "duration": 10,
    "start_time": "2022-07-20T23:05:58.773Z"
   },
   {
    "duration": 11,
    "start_time": "2022-07-20T23:07:38.944Z"
   },
   {
    "duration": 15,
    "start_time": "2022-07-20T23:07:45.304Z"
   },
   {
    "duration": 13,
    "start_time": "2022-07-20T23:07:53.077Z"
   },
   {
    "duration": 1144,
    "start_time": "2022-07-20T23:07:58.482Z"
   },
   {
    "duration": 327,
    "start_time": "2022-07-20T23:07:59.628Z"
   },
   {
    "duration": 18,
    "start_time": "2022-07-20T23:07:59.956Z"
   },
   {
    "duration": 15,
    "start_time": "2022-07-20T23:07:59.977Z"
   },
   {
    "duration": 9,
    "start_time": "2022-07-20T23:07:59.994Z"
   },
   {
    "duration": 28,
    "start_time": "2022-07-20T23:08:00.005Z"
   },
   {
    "duration": 70,
    "start_time": "2022-07-20T23:08:00.035Z"
   },
   {
    "duration": 41,
    "start_time": "2022-07-20T23:08:00.106Z"
   },
   {
    "duration": 51,
    "start_time": "2022-07-20T23:08:00.148Z"
   },
   {
    "duration": 31,
    "start_time": "2022-07-20T23:08:00.202Z"
   },
   {
    "duration": 79,
    "start_time": "2022-07-20T23:08:00.234Z"
   },
   {
    "duration": 23,
    "start_time": "2022-07-20T23:08:00.314Z"
   },
   {
    "duration": 24,
    "start_time": "2022-07-20T23:08:00.338Z"
   },
   {
    "duration": 39,
    "start_time": "2022-07-20T23:08:00.369Z"
   },
   {
    "duration": 22,
    "start_time": "2022-07-20T23:08:00.410Z"
   },
   {
    "duration": 62,
    "start_time": "2022-07-20T23:08:00.434Z"
   },
   {
    "duration": 32,
    "start_time": "2022-07-20T23:08:00.497Z"
   },
   {
    "duration": 61,
    "start_time": "2022-07-20T23:08:00.530Z"
   },
   {
    "duration": 23,
    "start_time": "2022-07-20T23:08:00.592Z"
   },
   {
    "duration": 96,
    "start_time": "2022-07-20T23:08:00.617Z"
   },
   {
    "duration": 22,
    "start_time": "2022-07-20T23:08:00.715Z"
   },
   {
    "duration": 36,
    "start_time": "2022-07-20T23:08:00.739Z"
   },
   {
    "duration": 58,
    "start_time": "2022-07-20T23:08:00.777Z"
   },
   {
    "duration": 46,
    "start_time": "2022-07-20T23:08:00.837Z"
   },
   {
    "duration": 23,
    "start_time": "2022-07-20T23:08:00.885Z"
   },
   {
    "duration": 32,
    "start_time": "2022-07-20T23:08:00.909Z"
   },
   {
    "duration": 5,
    "start_time": "2022-07-20T23:08:00.943Z"
   },
   {
    "duration": 3,
    "start_time": "2022-07-20T23:08:00.962Z"
   },
   {
    "duration": 37,
    "start_time": "2022-07-20T23:08:00.970Z"
   },
   {
    "duration": 19,
    "start_time": "2022-07-20T23:08:01.009Z"
   },
   {
    "duration": 12,
    "start_time": "2022-07-20T23:08:01.029Z"
   },
   {
    "duration": 32,
    "start_time": "2022-07-20T23:08:01.042Z"
   },
   {
    "duration": 13,
    "start_time": "2022-07-20T23:08:01.076Z"
   },
   {
    "duration": 15,
    "start_time": "2022-07-20T23:08:01.091Z"
   },
   {
    "duration": 26,
    "start_time": "2022-07-20T23:08:01.108Z"
   },
   {
    "duration": 35,
    "start_time": "2022-07-20T23:08:01.136Z"
   },
   {
    "duration": 5,
    "start_time": "2022-07-20T23:08:01.172Z"
   },
   {
    "duration": 35,
    "start_time": "2022-07-20T23:08:01.178Z"
   },
   {
    "duration": 12,
    "start_time": "2022-07-20T23:08:01.215Z"
   },
   {
    "duration": 39,
    "start_time": "2022-07-20T23:08:01.229Z"
   },
   {
    "duration": 35,
    "start_time": "2022-07-20T23:08:01.270Z"
   },
   {
    "duration": 38,
    "start_time": "2022-07-20T23:08:01.306Z"
   },
   {
    "duration": 53,
    "start_time": "2022-07-20T23:08:01.346Z"
   },
   {
    "duration": 26,
    "start_time": "2022-07-20T23:08:01.401Z"
   },
   {
    "duration": 35,
    "start_time": "2022-07-20T23:08:01.429Z"
   },
   {
    "duration": 38,
    "start_time": "2022-07-20T23:08:01.476Z"
   },
   {
    "duration": 16,
    "start_time": "2022-07-20T23:08:01.516Z"
   },
   {
    "duration": 26,
    "start_time": "2022-07-20T23:08:01.533Z"
   },
   {
    "duration": 31,
    "start_time": "2022-07-20T23:08:01.560Z"
   },
   {
    "duration": 27,
    "start_time": "2022-07-20T23:08:01.593Z"
   },
   {
    "duration": 13,
    "start_time": "2022-07-20T23:08:01.622Z"
   },
   {
    "duration": 37,
    "start_time": "2022-07-20T23:08:01.637Z"
   },
   {
    "duration": 210,
    "start_time": "2022-07-20T23:08:01.677Z"
   },
   {
    "duration": 16,
    "start_time": "2022-07-20T23:08:01.889Z"
   },
   {
    "duration": 231,
    "start_time": "2022-07-20T23:08:01.907Z"
   },
   {
    "duration": 215,
    "start_time": "2022-07-20T23:08:02.140Z"
   },
   {
    "duration": 19,
    "start_time": "2022-07-20T23:08:02.356Z"
   },
   {
    "duration": 23,
    "start_time": "2022-07-20T23:08:02.377Z"
   },
   {
    "duration": 16,
    "start_time": "2022-07-20T23:08:02.402Z"
   },
   {
    "duration": 18,
    "start_time": "2022-07-20T23:08:02.420Z"
   },
   {
    "duration": 116,
    "start_time": "2022-07-20T23:08:02.439Z"
   },
   {
    "duration": 90,
    "start_time": "2022-07-20T23:08:02.557Z"
   },
   {
    "duration": 19,
    "start_time": "2022-07-20T23:08:02.649Z"
   },
   {
    "duration": 38,
    "start_time": "2022-07-20T23:08:02.673Z"
   },
   {
    "duration": 18,
    "start_time": "2022-07-20T23:08:02.713Z"
   },
   {
    "duration": 9,
    "start_time": "2022-07-20T23:08:02.733Z"
   },
   {
    "duration": 99,
    "start_time": "2022-07-20T23:08:02.744Z"
   },
   {
    "duration": 96,
    "start_time": "2022-07-20T23:08:02.845Z"
   },
   {
    "duration": 5,
    "start_time": "2022-07-20T23:08:02.943Z"
   },
   {
    "duration": 27,
    "start_time": "2022-07-20T23:08:02.949Z"
   },
   {
    "duration": 8,
    "start_time": "2022-07-20T23:08:02.978Z"
   },
   {
    "duration": 9,
    "start_time": "2022-07-20T23:08:02.987Z"
   },
   {
    "duration": 159,
    "start_time": "2022-07-20T23:08:02.997Z"
   },
   {
    "duration": 100,
    "start_time": "2022-07-20T23:08:03.160Z"
   },
   {
    "duration": 24,
    "start_time": "2022-07-20T23:08:03.264Z"
   },
   {
    "duration": 19,
    "start_time": "2022-07-20T23:08:03.290Z"
   },
   {
    "duration": 5,
    "start_time": "2022-07-20T23:08:03.311Z"
   },
   {
    "duration": 6,
    "start_time": "2022-07-20T23:08:03.317Z"
   },
   {
    "duration": 7,
    "start_time": "2022-07-20T23:08:03.325Z"
   },
   {
    "duration": 7,
    "start_time": "2022-07-20T23:08:03.333Z"
   },
   {
    "duration": 103,
    "start_time": "2022-07-20T23:08:03.341Z"
   },
   {
    "duration": 7,
    "start_time": "2022-07-20T23:08:03.461Z"
   },
   {
    "duration": 102,
    "start_time": "2022-07-20T23:08:03.475Z"
   },
   {
    "duration": 7,
    "start_time": "2022-07-20T23:08:03.580Z"
   },
   {
    "duration": 20,
    "start_time": "2022-07-20T23:08:03.589Z"
   },
   {
    "duration": 36,
    "start_time": "2022-07-20T23:08:03.611Z"
   },
   {
    "duration": 6,
    "start_time": "2022-07-20T23:08:03.649Z"
   },
   {
    "duration": 29,
    "start_time": "2022-07-20T23:08:03.656Z"
   },
   {
    "duration": 12,
    "start_time": "2022-07-20T23:08:03.687Z"
   },
   {
    "duration": 20,
    "start_time": "2022-07-20T23:08:03.701Z"
   },
   {
    "duration": 119,
    "start_time": "2022-07-20T23:23:50.613Z"
   },
   {
    "duration": 111,
    "start_time": "2022-07-20T23:24:17.756Z"
   },
   {
    "duration": 11,
    "start_time": "2022-07-20T23:27:38.473Z"
   },
   {
    "duration": 113,
    "start_time": "2022-07-20T23:28:16.446Z"
   },
   {
    "duration": 94,
    "start_time": "2022-07-20T23:28:57.883Z"
   },
   {
    "duration": 1284,
    "start_time": "2022-07-21T19:56:18.547Z"
   },
   {
    "duration": 903,
    "start_time": "2022-07-21T19:56:19.833Z"
   },
   {
    "duration": 11,
    "start_time": "2022-07-21T19:56:20.738Z"
   },
   {
    "duration": 17,
    "start_time": "2022-07-21T19:56:20.751Z"
   },
   {
    "duration": 10,
    "start_time": "2022-07-21T19:56:20.769Z"
   },
   {
    "duration": 12,
    "start_time": "2022-07-21T19:56:20.780Z"
   },
   {
    "duration": 29,
    "start_time": "2022-07-21T19:56:20.794Z"
   },
   {
    "duration": 26,
    "start_time": "2022-07-21T19:56:20.825Z"
   },
   {
    "duration": 24,
    "start_time": "2022-07-21T19:56:20.853Z"
   },
   {
    "duration": 9,
    "start_time": "2022-07-21T19:56:20.881Z"
   },
   {
    "duration": 46,
    "start_time": "2022-07-21T19:56:20.891Z"
   },
   {
    "duration": 22,
    "start_time": "2022-07-21T19:56:20.939Z"
   },
   {
    "duration": 42,
    "start_time": "2022-07-21T19:56:20.963Z"
   },
   {
    "duration": 15,
    "start_time": "2022-07-21T19:56:21.011Z"
   },
   {
    "duration": 7,
    "start_time": "2022-07-21T19:56:21.028Z"
   },
   {
    "duration": 23,
    "start_time": "2022-07-21T19:56:21.037Z"
   },
   {
    "duration": 16,
    "start_time": "2022-07-21T19:56:21.062Z"
   },
   {
    "duration": 40,
    "start_time": "2022-07-21T19:56:21.079Z"
   },
   {
    "duration": 14,
    "start_time": "2022-07-21T19:56:21.121Z"
   },
   {
    "duration": 34,
    "start_time": "2022-07-21T19:56:21.137Z"
   },
   {
    "duration": 18,
    "start_time": "2022-07-21T19:56:21.172Z"
   },
   {
    "duration": 9,
    "start_time": "2022-07-21T19:56:21.205Z"
   },
   {
    "duration": 26,
    "start_time": "2022-07-21T19:56:21.215Z"
   },
   {
    "duration": 25,
    "start_time": "2022-07-21T19:56:21.242Z"
   },
   {
    "duration": 37,
    "start_time": "2022-07-21T19:56:21.268Z"
   },
   {
    "duration": 21,
    "start_time": "2022-07-21T19:56:21.318Z"
   },
   {
    "duration": 2,
    "start_time": "2022-07-21T19:56:21.341Z"
   },
   {
    "duration": 5,
    "start_time": "2022-07-21T19:56:21.347Z"
   },
   {
    "duration": 33,
    "start_time": "2022-07-21T19:56:21.353Z"
   },
   {
    "duration": 30,
    "start_time": "2022-07-21T19:56:21.387Z"
   },
   {
    "duration": 11,
    "start_time": "2022-07-21T19:56:21.419Z"
   },
   {
    "duration": 21,
    "start_time": "2022-07-21T19:56:21.432Z"
   },
   {
    "duration": 11,
    "start_time": "2022-07-21T19:56:21.455Z"
   },
   {
    "duration": 21,
    "start_time": "2022-07-21T19:56:21.467Z"
   },
   {
    "duration": 49,
    "start_time": "2022-07-21T19:56:21.490Z"
   },
   {
    "duration": 33,
    "start_time": "2022-07-21T19:56:21.541Z"
   },
   {
    "duration": 6,
    "start_time": "2022-07-21T19:56:21.576Z"
   },
   {
    "duration": 34,
    "start_time": "2022-07-21T19:56:21.583Z"
   },
   {
    "duration": 17,
    "start_time": "2022-07-21T19:56:21.619Z"
   },
   {
    "duration": 31,
    "start_time": "2022-07-21T19:56:21.638Z"
   },
   {
    "duration": 54,
    "start_time": "2022-07-21T19:56:21.671Z"
   },
   {
    "duration": 29,
    "start_time": "2022-07-21T19:56:21.727Z"
   },
   {
    "duration": 29,
    "start_time": "2022-07-21T19:56:21.757Z"
   },
   {
    "duration": 30,
    "start_time": "2022-07-21T19:56:21.787Z"
   },
   {
    "duration": 21,
    "start_time": "2022-07-21T19:56:21.818Z"
   },
   {
    "duration": 23,
    "start_time": "2022-07-21T19:56:21.841Z"
   },
   {
    "duration": 16,
    "start_time": "2022-07-21T19:56:21.866Z"
   },
   {
    "duration": 43,
    "start_time": "2022-07-21T19:56:21.883Z"
   },
   {
    "duration": 28,
    "start_time": "2022-07-21T19:56:21.928Z"
   },
   {
    "duration": 27,
    "start_time": "2022-07-21T19:56:21.957Z"
   },
   {
    "duration": 32,
    "start_time": "2022-07-21T19:56:21.986Z"
   },
   {
    "duration": 15,
    "start_time": "2022-07-21T19:56:22.020Z"
   },
   {
    "duration": 213,
    "start_time": "2022-07-21T19:56:22.037Z"
   },
   {
    "duration": 16,
    "start_time": "2022-07-21T19:56:22.252Z"
   },
   {
    "duration": 222,
    "start_time": "2022-07-21T19:56:22.269Z"
   },
   {
    "duration": 209,
    "start_time": "2022-07-21T19:56:22.493Z"
   },
   {
    "duration": 21,
    "start_time": "2022-07-21T19:56:22.709Z"
   },
   {
    "duration": 10,
    "start_time": "2022-07-21T19:56:22.732Z"
   },
   {
    "duration": 9,
    "start_time": "2022-07-21T19:56:22.743Z"
   },
   {
    "duration": 7,
    "start_time": "2022-07-21T19:56:22.753Z"
   },
   {
    "duration": 96,
    "start_time": "2022-07-21T19:56:22.762Z"
   },
   {
    "duration": 90,
    "start_time": "2022-07-21T19:56:22.860Z"
   },
   {
    "duration": 4,
    "start_time": "2022-07-21T19:56:22.951Z"
   },
   {
    "duration": 6,
    "start_time": "2022-07-21T19:56:22.957Z"
   },
   {
    "duration": 9,
    "start_time": "2022-07-21T19:56:22.965Z"
   },
   {
    "duration": 30,
    "start_time": "2022-07-21T19:56:22.975Z"
   },
   {
    "duration": 87,
    "start_time": "2022-07-21T19:56:23.006Z"
   },
   {
    "duration": 94,
    "start_time": "2022-07-21T19:56:23.095Z"
   },
   {
    "duration": 19,
    "start_time": "2022-07-21T19:56:23.191Z"
   },
   {
    "duration": 10,
    "start_time": "2022-07-21T19:56:23.212Z"
   },
   {
    "duration": 6,
    "start_time": "2022-07-21T19:56:23.223Z"
   },
   {
    "duration": 10,
    "start_time": "2022-07-21T19:56:23.231Z"
   },
   {
    "duration": 151,
    "start_time": "2022-07-21T19:56:23.242Z"
   },
   {
    "duration": 113,
    "start_time": "2022-07-21T19:56:23.395Z"
   },
   {
    "duration": 13,
    "start_time": "2022-07-21T19:56:23.519Z"
   },
   {
    "duration": 15,
    "start_time": "2022-07-21T19:56:23.533Z"
   },
   {
    "duration": 8,
    "start_time": "2022-07-21T19:56:23.549Z"
   },
   {
    "duration": 7,
    "start_time": "2022-07-21T19:56:23.558Z"
   },
   {
    "duration": 6,
    "start_time": "2022-07-21T19:56:23.567Z"
   },
   {
    "duration": 8,
    "start_time": "2022-07-21T19:56:23.575Z"
   },
   {
    "duration": 100,
    "start_time": "2022-07-21T19:56:23.585Z"
   },
   {
    "duration": 13,
    "start_time": "2022-07-21T19:56:23.691Z"
   },
   {
    "duration": 86,
    "start_time": "2022-07-21T19:56:23.708Z"
   },
   {
    "duration": 91,
    "start_time": "2022-07-21T19:56:23.802Z"
   },
   {
    "duration": 106,
    "start_time": "2022-07-21T19:56:23.901Z"
   },
   {
    "duration": 9,
    "start_time": "2022-07-21T19:56:24.013Z"
   },
   {
    "duration": 10,
    "start_time": "2022-07-21T19:56:24.023Z"
   },
   {
    "duration": 25,
    "start_time": "2022-07-21T19:56:24.034Z"
   },
   {
    "duration": 5,
    "start_time": "2022-07-21T19:56:24.060Z"
   },
   {
    "duration": 13,
    "start_time": "2022-07-21T19:56:24.067Z"
   },
   {
    "duration": 7,
    "start_time": "2022-07-21T19:56:24.081Z"
   },
   {
    "duration": 25,
    "start_time": "2022-07-21T19:56:24.090Z"
   },
   {
    "duration": 4,
    "start_time": "2022-07-21T20:23:40.921Z"
   },
   {
    "duration": 97,
    "start_time": "2022-07-21T20:23:44.078Z"
   },
   {
    "duration": 11,
    "start_time": "2022-07-21T20:24:10.688Z"
   },
   {
    "duration": 10,
    "start_time": "2022-07-21T20:24:43.627Z"
   },
   {
    "duration": 38,
    "start_time": "2022-07-21T20:24:56.547Z"
   },
   {
    "duration": 1242,
    "start_time": "2022-07-21T20:25:12.546Z"
   },
   {
    "duration": 409,
    "start_time": "2022-07-21T20:25:13.790Z"
   },
   {
    "duration": 17,
    "start_time": "2022-07-21T20:25:14.202Z"
   },
   {
    "duration": 31,
    "start_time": "2022-07-21T20:25:14.222Z"
   },
   {
    "duration": 13,
    "start_time": "2022-07-21T20:25:14.255Z"
   },
   {
    "duration": 14,
    "start_time": "2022-07-21T20:25:14.270Z"
   },
   {
    "duration": 35,
    "start_time": "2022-07-21T20:25:14.286Z"
   },
   {
    "duration": 23,
    "start_time": "2022-07-21T20:25:14.323Z"
   },
   {
    "duration": 21,
    "start_time": "2022-07-21T20:25:14.348Z"
   },
   {
    "duration": 13,
    "start_time": "2022-07-21T20:25:14.373Z"
   },
   {
    "duration": 42,
    "start_time": "2022-07-21T20:25:14.400Z"
   },
   {
    "duration": 22,
    "start_time": "2022-07-21T20:25:14.444Z"
   },
   {
    "duration": 42,
    "start_time": "2022-07-21T20:25:14.468Z"
   },
   {
    "duration": 20,
    "start_time": "2022-07-21T20:25:14.512Z"
   },
   {
    "duration": 9,
    "start_time": "2022-07-21T20:25:14.534Z"
   },
   {
    "duration": 31,
    "start_time": "2022-07-21T20:25:14.545Z"
   },
   {
    "duration": 24,
    "start_time": "2022-07-21T20:25:14.605Z"
   },
   {
    "duration": 18,
    "start_time": "2022-07-21T20:25:14.630Z"
   },
   {
    "duration": 9,
    "start_time": "2022-07-21T20:25:14.649Z"
   },
   {
    "duration": 65,
    "start_time": "2022-07-21T20:25:14.660Z"
   },
   {
    "duration": 20,
    "start_time": "2022-07-21T20:25:14.726Z"
   },
   {
    "duration": 8,
    "start_time": "2022-07-21T20:25:14.748Z"
   },
   {
    "duration": 55,
    "start_time": "2022-07-21T20:25:14.758Z"
   },
   {
    "duration": 40,
    "start_time": "2022-07-21T20:25:14.815Z"
   },
   {
    "duration": 18,
    "start_time": "2022-07-21T20:25:14.857Z"
   },
   {
    "duration": 62,
    "start_time": "2022-07-21T20:25:14.876Z"
   },
   {
    "duration": 7,
    "start_time": "2022-07-21T20:25:14.940Z"
   },
   {
    "duration": 8,
    "start_time": "2022-07-21T20:25:14.953Z"
   },
   {
    "duration": 30,
    "start_time": "2022-07-21T20:25:14.963Z"
   },
   {
    "duration": 39,
    "start_time": "2022-07-21T20:25:14.995Z"
   },
   {
    "duration": 28,
    "start_time": "2022-07-21T20:25:15.036Z"
   },
   {
    "duration": 46,
    "start_time": "2022-07-21T20:25:15.066Z"
   },
   {
    "duration": 16,
    "start_time": "2022-07-21T20:25:15.115Z"
   },
   {
    "duration": 18,
    "start_time": "2022-07-21T20:25:15.132Z"
   },
   {
    "duration": 28,
    "start_time": "2022-07-21T20:25:15.152Z"
   },
   {
    "duration": 178,
    "start_time": "2022-07-21T20:25:15.201Z"
   },
   {
    "duration": 0,
    "start_time": "2022-07-21T20:25:15.383Z"
   },
   {
    "duration": 0,
    "start_time": "2022-07-21T20:25:15.384Z"
   },
   {
    "duration": 0,
    "start_time": "2022-07-21T20:25:15.386Z"
   },
   {
    "duration": 0,
    "start_time": "2022-07-21T20:25:15.387Z"
   },
   {
    "duration": 0,
    "start_time": "2022-07-21T20:25:15.388Z"
   },
   {
    "duration": 0,
    "start_time": "2022-07-21T20:25:15.390Z"
   },
   {
    "duration": 0,
    "start_time": "2022-07-21T20:25:15.391Z"
   },
   {
    "duration": 0,
    "start_time": "2022-07-21T20:25:15.400Z"
   },
   {
    "duration": 0,
    "start_time": "2022-07-21T20:25:15.401Z"
   },
   {
    "duration": 0,
    "start_time": "2022-07-21T20:25:15.402Z"
   },
   {
    "duration": 0,
    "start_time": "2022-07-21T20:25:15.403Z"
   },
   {
    "duration": 0,
    "start_time": "2022-07-21T20:25:15.404Z"
   },
   {
    "duration": 0,
    "start_time": "2022-07-21T20:25:15.405Z"
   },
   {
    "duration": 0,
    "start_time": "2022-07-21T20:25:15.405Z"
   },
   {
    "duration": 0,
    "start_time": "2022-07-21T20:25:15.406Z"
   },
   {
    "duration": 0,
    "start_time": "2022-07-21T20:25:15.407Z"
   },
   {
    "duration": 0,
    "start_time": "2022-07-21T20:25:15.408Z"
   },
   {
    "duration": 0,
    "start_time": "2022-07-21T20:25:15.409Z"
   },
   {
    "duration": 0,
    "start_time": "2022-07-21T20:25:15.409Z"
   },
   {
    "duration": 0,
    "start_time": "2022-07-21T20:25:15.410Z"
   },
   {
    "duration": 0,
    "start_time": "2022-07-21T20:25:15.411Z"
   },
   {
    "duration": 0,
    "start_time": "2022-07-21T20:25:15.412Z"
   },
   {
    "duration": 0,
    "start_time": "2022-07-21T20:25:15.413Z"
   },
   {
    "duration": 0,
    "start_time": "2022-07-21T20:25:15.413Z"
   },
   {
    "duration": 0,
    "start_time": "2022-07-21T20:25:15.418Z"
   },
   {
    "duration": 0,
    "start_time": "2022-07-21T20:25:15.419Z"
   },
   {
    "duration": 0,
    "start_time": "2022-07-21T20:25:15.420Z"
   },
   {
    "duration": 0,
    "start_time": "2022-07-21T20:25:15.422Z"
   },
   {
    "duration": 0,
    "start_time": "2022-07-21T20:25:15.423Z"
   },
   {
    "duration": 0,
    "start_time": "2022-07-21T20:25:15.424Z"
   },
   {
    "duration": 0,
    "start_time": "2022-07-21T20:25:15.425Z"
   },
   {
    "duration": 0,
    "start_time": "2022-07-21T20:25:15.427Z"
   },
   {
    "duration": 0,
    "start_time": "2022-07-21T20:25:15.428Z"
   },
   {
    "duration": 0,
    "start_time": "2022-07-21T20:25:15.429Z"
   },
   {
    "duration": 0,
    "start_time": "2022-07-21T20:25:15.431Z"
   },
   {
    "duration": 0,
    "start_time": "2022-07-21T20:25:15.432Z"
   },
   {
    "duration": 0,
    "start_time": "2022-07-21T20:25:15.434Z"
   },
   {
    "duration": 0,
    "start_time": "2022-07-21T20:25:15.435Z"
   },
   {
    "duration": 0,
    "start_time": "2022-07-21T20:25:15.439Z"
   },
   {
    "duration": 0,
    "start_time": "2022-07-21T20:25:15.440Z"
   },
   {
    "duration": 0,
    "start_time": "2022-07-21T20:25:15.441Z"
   },
   {
    "duration": 0,
    "start_time": "2022-07-21T20:25:15.442Z"
   },
   {
    "duration": 0,
    "start_time": "2022-07-21T20:25:15.445Z"
   },
   {
    "duration": 0,
    "start_time": "2022-07-21T20:25:15.446Z"
   },
   {
    "duration": 0,
    "start_time": "2022-07-21T20:25:15.447Z"
   },
   {
    "duration": 0,
    "start_time": "2022-07-21T20:25:15.515Z"
   },
   {
    "duration": 0,
    "start_time": "2022-07-21T20:25:15.516Z"
   },
   {
    "duration": 0,
    "start_time": "2022-07-21T20:25:15.517Z"
   },
   {
    "duration": 0,
    "start_time": "2022-07-21T20:25:15.518Z"
   },
   {
    "duration": 0,
    "start_time": "2022-07-21T20:25:15.519Z"
   },
   {
    "duration": 0,
    "start_time": "2022-07-21T20:25:15.520Z"
   },
   {
    "duration": 0,
    "start_time": "2022-07-21T20:25:15.521Z"
   },
   {
    "duration": 1,
    "start_time": "2022-07-21T20:25:15.521Z"
   },
   {
    "duration": 0,
    "start_time": "2022-07-21T20:25:15.523Z"
   },
   {
    "duration": 0,
    "start_time": "2022-07-21T20:25:15.524Z"
   },
   {
    "duration": 0,
    "start_time": "2022-07-21T20:25:15.526Z"
   },
   {
    "duration": 0,
    "start_time": "2022-07-21T20:25:15.532Z"
   },
   {
    "duration": 25,
    "start_time": "2022-07-21T20:26:17.363Z"
   },
   {
    "duration": 1293,
    "start_time": "2022-07-21T20:26:24.634Z"
   },
   {
    "duration": 336,
    "start_time": "2022-07-21T20:26:25.929Z"
   },
   {
    "duration": 13,
    "start_time": "2022-07-21T20:26:26.267Z"
   },
   {
    "duration": 18,
    "start_time": "2022-07-21T20:26:26.282Z"
   },
   {
    "duration": 23,
    "start_time": "2022-07-21T20:26:26.301Z"
   },
   {
    "duration": 14,
    "start_time": "2022-07-21T20:26:26.326Z"
   },
   {
    "duration": 15,
    "start_time": "2022-07-21T20:26:26.342Z"
   },
   {
    "duration": 24,
    "start_time": "2022-07-21T20:26:26.359Z"
   },
   {
    "duration": 30,
    "start_time": "2022-07-21T20:26:26.407Z"
   },
   {
    "duration": 20,
    "start_time": "2022-07-21T20:26:26.442Z"
   },
   {
    "duration": 62,
    "start_time": "2022-07-21T20:26:26.464Z"
   },
   {
    "duration": 23,
    "start_time": "2022-07-21T20:26:26.528Z"
   },
   {
    "duration": 15,
    "start_time": "2022-07-21T20:26:26.553Z"
   },
   {
    "duration": 42,
    "start_time": "2022-07-21T20:26:26.569Z"
   },
   {
    "duration": 12,
    "start_time": "2022-07-21T20:26:26.613Z"
   },
   {
    "duration": 39,
    "start_time": "2022-07-21T20:26:26.627Z"
   },
   {
    "duration": 43,
    "start_time": "2022-07-21T20:26:26.668Z"
   },
   {
    "duration": 26,
    "start_time": "2022-07-21T20:26:26.713Z"
   },
   {
    "duration": 9,
    "start_time": "2022-07-21T20:26:26.741Z"
   },
   {
    "duration": 51,
    "start_time": "2022-07-21T20:26:26.751Z"
   },
   {
    "duration": 27,
    "start_time": "2022-07-21T20:26:26.805Z"
   },
   {
    "duration": 12,
    "start_time": "2022-07-21T20:26:26.834Z"
   },
   {
    "duration": 28,
    "start_time": "2022-07-21T20:26:26.848Z"
   },
   {
    "duration": 54,
    "start_time": "2022-07-21T20:26:26.878Z"
   },
   {
    "duration": 19,
    "start_time": "2022-07-21T20:26:26.934Z"
   },
   {
    "duration": 21,
    "start_time": "2022-07-21T20:26:26.954Z"
   },
   {
    "duration": 30,
    "start_time": "2022-07-21T20:26:26.977Z"
   },
   {
    "duration": 7,
    "start_time": "2022-07-21T20:26:27.016Z"
   },
   {
    "duration": 31,
    "start_time": "2022-07-21T20:26:27.025Z"
   },
   {
    "duration": 20,
    "start_time": "2022-07-21T20:26:27.058Z"
   },
   {
    "duration": 37,
    "start_time": "2022-07-21T20:26:27.080Z"
   },
   {
    "duration": 15,
    "start_time": "2022-07-21T20:26:27.119Z"
   },
   {
    "duration": 12,
    "start_time": "2022-07-21T20:26:27.136Z"
   },
   {
    "duration": 16,
    "start_time": "2022-07-21T20:26:27.150Z"
   },
   {
    "duration": 49,
    "start_time": "2022-07-21T20:26:27.167Z"
   },
   {
    "duration": 26,
    "start_time": "2022-07-21T20:26:27.218Z"
   },
   {
    "duration": 6,
    "start_time": "2022-07-21T20:26:27.246Z"
   },
   {
    "duration": 14,
    "start_time": "2022-07-21T20:26:27.254Z"
   },
   {
    "duration": 49,
    "start_time": "2022-07-21T20:26:27.270Z"
   },
   {
    "duration": 38,
    "start_time": "2022-07-21T20:26:27.321Z"
   },
   {
    "duration": 47,
    "start_time": "2022-07-21T20:26:27.360Z"
   },
   {
    "duration": 35,
    "start_time": "2022-07-21T20:26:27.409Z"
   },
   {
    "duration": 63,
    "start_time": "2022-07-21T20:26:27.446Z"
   },
   {
    "duration": 16,
    "start_time": "2022-07-21T20:26:27.510Z"
   },
   {
    "duration": 31,
    "start_time": "2022-07-21T20:26:27.528Z"
   },
   {
    "duration": 26,
    "start_time": "2022-07-21T20:26:27.561Z"
   },
   {
    "duration": 23,
    "start_time": "2022-07-21T20:26:27.590Z"
   },
   {
    "duration": 30,
    "start_time": "2022-07-21T20:26:27.615Z"
   },
   {
    "duration": 37,
    "start_time": "2022-07-21T20:26:27.646Z"
   },
   {
    "duration": 54,
    "start_time": "2022-07-21T20:26:27.685Z"
   },
   {
    "duration": 15,
    "start_time": "2022-07-21T20:26:27.741Z"
   },
   {
    "duration": 15,
    "start_time": "2022-07-21T20:26:27.758Z"
   },
   {
    "duration": 258,
    "start_time": "2022-07-21T20:26:27.775Z"
   },
   {
    "duration": 24,
    "start_time": "2022-07-21T20:26:28.035Z"
   },
   {
    "duration": 300,
    "start_time": "2022-07-21T20:26:28.061Z"
   },
   {
    "duration": 241,
    "start_time": "2022-07-21T20:26:28.363Z"
   },
   {
    "duration": 7,
    "start_time": "2022-07-21T20:26:28.607Z"
   },
   {
    "duration": 19,
    "start_time": "2022-07-21T20:26:28.615Z"
   },
   {
    "duration": 6,
    "start_time": "2022-07-21T20:26:28.636Z"
   },
   {
    "duration": 6,
    "start_time": "2022-07-21T20:26:28.644Z"
   },
   {
    "duration": 118,
    "start_time": "2022-07-21T20:26:28.652Z"
   },
   {
    "duration": 103,
    "start_time": "2022-07-21T20:26:28.772Z"
   },
   {
    "duration": 5,
    "start_time": "2022-07-21T20:26:28.877Z"
   },
   {
    "duration": 28,
    "start_time": "2022-07-21T20:26:28.884Z"
   },
   {
    "duration": 15,
    "start_time": "2022-07-21T20:26:28.916Z"
   },
   {
    "duration": 7,
    "start_time": "2022-07-21T20:26:28.933Z"
   },
   {
    "duration": 101,
    "start_time": "2022-07-21T20:26:28.941Z"
   },
   {
    "duration": 107,
    "start_time": "2022-07-21T20:26:29.044Z"
   },
   {
    "duration": 4,
    "start_time": "2022-07-21T20:26:29.153Z"
   },
   {
    "duration": 8,
    "start_time": "2022-07-21T20:26:29.159Z"
   },
   {
    "duration": 8,
    "start_time": "2022-07-21T20:26:29.169Z"
   },
   {
    "duration": 25,
    "start_time": "2022-07-21T20:26:29.179Z"
   },
   {
    "duration": 180,
    "start_time": "2022-07-21T20:26:29.206Z"
   },
   {
    "duration": 140,
    "start_time": "2022-07-21T20:26:29.388Z"
   },
   {
    "duration": 18,
    "start_time": "2022-07-21T20:26:29.530Z"
   },
   {
    "duration": 24,
    "start_time": "2022-07-21T20:26:29.550Z"
   },
   {
    "duration": 7,
    "start_time": "2022-07-21T20:26:29.576Z"
   },
   {
    "duration": 46,
    "start_time": "2022-07-21T20:26:29.584Z"
   },
   {
    "duration": 18,
    "start_time": "2022-07-21T20:26:29.632Z"
   },
   {
    "duration": 19,
    "start_time": "2022-07-21T20:26:29.652Z"
   },
   {
    "duration": 105,
    "start_time": "2022-07-21T20:26:29.673Z"
   },
   {
    "duration": 28,
    "start_time": "2022-07-21T20:26:29.784Z"
   },
   {
    "duration": 123,
    "start_time": "2022-07-21T20:26:29.814Z"
   },
   {
    "duration": 105,
    "start_time": "2022-07-21T20:26:29.940Z"
   },
   {
    "duration": 107,
    "start_time": "2022-07-21T20:26:30.047Z"
   },
   {
    "duration": 7,
    "start_time": "2022-07-21T20:26:30.156Z"
   },
   {
    "duration": 48,
    "start_time": "2022-07-21T20:26:30.164Z"
   },
   {
    "duration": 58,
    "start_time": "2022-07-21T20:26:30.214Z"
   },
   {
    "duration": 6,
    "start_time": "2022-07-21T20:26:30.275Z"
   },
   {
    "duration": 17,
    "start_time": "2022-07-21T20:26:30.283Z"
   },
   {
    "duration": 29,
    "start_time": "2022-07-21T20:26:30.303Z"
   },
   {
    "duration": 7,
    "start_time": "2022-07-21T20:26:30.335Z"
   },
   {
    "duration": 13,
    "start_time": "2022-07-21T20:30:46.743Z"
   },
   {
    "duration": 50,
    "start_time": "2022-07-21T20:30:58.635Z"
   },
   {
    "duration": 23,
    "start_time": "2022-07-21T20:31:13.009Z"
   },
   {
    "duration": 1195,
    "start_time": "2022-07-21T20:33:32.440Z"
   },
   {
    "duration": 326,
    "start_time": "2022-07-21T20:33:33.637Z"
   },
   {
    "duration": 15,
    "start_time": "2022-07-21T20:33:33.968Z"
   },
   {
    "duration": 25,
    "start_time": "2022-07-21T20:33:33.985Z"
   },
   {
    "duration": 13,
    "start_time": "2022-07-21T20:33:34.012Z"
   },
   {
    "duration": 16,
    "start_time": "2022-07-21T20:33:34.026Z"
   },
   {
    "duration": 26,
    "start_time": "2022-07-21T20:33:34.044Z"
   },
   {
    "duration": 30,
    "start_time": "2022-07-21T20:33:34.071Z"
   },
   {
    "duration": 17,
    "start_time": "2022-07-21T20:33:34.103Z"
   },
   {
    "duration": 12,
    "start_time": "2022-07-21T20:33:34.124Z"
   },
   {
    "duration": 36,
    "start_time": "2022-07-21T20:33:34.138Z"
   },
   {
    "duration": 43,
    "start_time": "2022-07-21T20:33:34.176Z"
   },
   {
    "duration": 23,
    "start_time": "2022-07-21T20:33:34.221Z"
   },
   {
    "duration": 20,
    "start_time": "2022-07-21T20:33:34.246Z"
   },
   {
    "duration": 7,
    "start_time": "2022-07-21T20:33:34.268Z"
   },
   {
    "duration": 44,
    "start_time": "2022-07-21T20:33:34.277Z"
   },
   {
    "duration": 21,
    "start_time": "2022-07-21T20:33:34.324Z"
   },
   {
    "duration": 23,
    "start_time": "2022-07-21T20:33:34.347Z"
   },
   {
    "duration": 35,
    "start_time": "2022-07-21T20:33:34.372Z"
   },
   {
    "duration": 35,
    "start_time": "2022-07-21T20:33:34.409Z"
   },
   {
    "duration": 29,
    "start_time": "2022-07-21T20:33:34.446Z"
   },
   {
    "duration": 27,
    "start_time": "2022-07-21T20:33:34.478Z"
   },
   {
    "duration": 30,
    "start_time": "2022-07-21T20:33:34.507Z"
   },
   {
    "duration": 36,
    "start_time": "2022-07-21T20:33:34.539Z"
   },
   {
    "duration": 40,
    "start_time": "2022-07-21T20:33:34.577Z"
   },
   {
    "duration": 27,
    "start_time": "2022-07-21T20:33:34.619Z"
   },
   {
    "duration": 2,
    "start_time": "2022-07-21T20:33:34.649Z"
   },
   {
    "duration": 6,
    "start_time": "2022-07-21T20:33:34.657Z"
   },
   {
    "duration": 67,
    "start_time": "2022-07-21T20:33:34.665Z"
   },
   {
    "duration": 22,
    "start_time": "2022-07-21T20:33:34.734Z"
   },
   {
    "duration": 12,
    "start_time": "2022-07-21T20:33:34.758Z"
   },
   {
    "duration": 37,
    "start_time": "2022-07-21T20:33:34.772Z"
   },
   {
    "duration": 7,
    "start_time": "2022-07-21T20:33:34.811Z"
   },
   {
    "duration": 22,
    "start_time": "2022-07-21T20:33:34.820Z"
   },
   {
    "duration": 25,
    "start_time": "2022-07-21T20:33:34.844Z"
   },
   {
    "duration": 60,
    "start_time": "2022-07-21T20:33:34.871Z"
   },
   {
    "duration": 5,
    "start_time": "2022-07-21T20:33:34.935Z"
   },
   {
    "duration": 20,
    "start_time": "2022-07-21T20:33:34.942Z"
   },
   {
    "duration": 16,
    "start_time": "2022-07-21T20:33:34.964Z"
   },
   {
    "duration": 38,
    "start_time": "2022-07-21T20:33:35.001Z"
   },
   {
    "duration": 34,
    "start_time": "2022-07-21T20:33:35.041Z"
   },
   {
    "duration": 51,
    "start_time": "2022-07-21T20:33:35.077Z"
   },
   {
    "duration": 29,
    "start_time": "2022-07-21T20:33:35.130Z"
   },
   {
    "duration": 12,
    "start_time": "2022-07-21T20:33:35.162Z"
   },
   {
    "duration": 40,
    "start_time": "2022-07-21T20:33:35.200Z"
   },
   {
    "duration": 45,
    "start_time": "2022-07-21T20:33:35.242Z"
   },
   {
    "duration": 72,
    "start_time": "2022-07-21T20:33:35.289Z"
   },
   {
    "duration": 35,
    "start_time": "2022-07-21T20:33:35.363Z"
   },
   {
    "duration": 50,
    "start_time": "2022-07-21T20:33:35.401Z"
   },
   {
    "duration": 54,
    "start_time": "2022-07-21T20:33:35.453Z"
   },
   {
    "duration": 27,
    "start_time": "2022-07-21T20:33:35.509Z"
   },
   {
    "duration": 28,
    "start_time": "2022-07-21T20:33:35.538Z"
   },
   {
    "duration": 244,
    "start_time": "2022-07-21T20:33:35.569Z"
   },
   {
    "duration": 19,
    "start_time": "2022-07-21T20:33:35.814Z"
   },
   {
    "duration": 258,
    "start_time": "2022-07-21T20:33:35.834Z"
   },
   {
    "duration": 210,
    "start_time": "2022-07-21T20:33:36.094Z"
   },
   {
    "duration": 5,
    "start_time": "2022-07-21T20:33:36.305Z"
   },
   {
    "duration": 13,
    "start_time": "2022-07-21T20:33:36.312Z"
   },
   {
    "duration": 14,
    "start_time": "2022-07-21T20:33:36.328Z"
   },
   {
    "duration": 10,
    "start_time": "2022-07-21T20:33:36.344Z"
   },
   {
    "duration": 123,
    "start_time": "2022-07-21T20:33:36.356Z"
   },
   {
    "duration": 104,
    "start_time": "2022-07-21T20:33:36.481Z"
   },
   {
    "duration": 18,
    "start_time": "2022-07-21T20:33:36.586Z"
   },
   {
    "duration": 11,
    "start_time": "2022-07-21T20:33:36.606Z"
   },
   {
    "duration": 7,
    "start_time": "2022-07-21T20:33:36.619Z"
   },
   {
    "duration": 6,
    "start_time": "2022-07-21T20:33:36.628Z"
   },
   {
    "duration": 111,
    "start_time": "2022-07-21T20:33:36.636Z"
   },
   {
    "duration": 125,
    "start_time": "2022-07-21T20:33:36.750Z"
   },
   {
    "duration": 5,
    "start_time": "2022-07-21T20:33:36.877Z"
   },
   {
    "duration": 19,
    "start_time": "2022-07-21T20:33:36.883Z"
   },
   {
    "duration": 10,
    "start_time": "2022-07-21T20:33:36.903Z"
   },
   {
    "duration": 9,
    "start_time": "2022-07-21T20:33:36.914Z"
   },
   {
    "duration": 176,
    "start_time": "2022-07-21T20:33:36.925Z"
   },
   {
    "duration": 117,
    "start_time": "2022-07-21T20:33:37.102Z"
   },
   {
    "duration": 16,
    "start_time": "2022-07-21T20:33:37.220Z"
   },
   {
    "duration": 27,
    "start_time": "2022-07-21T20:33:37.238Z"
   },
   {
    "duration": 13,
    "start_time": "2022-07-21T20:33:37.267Z"
   },
   {
    "duration": 19,
    "start_time": "2022-07-21T20:33:37.282Z"
   },
   {
    "duration": 10,
    "start_time": "2022-07-21T20:33:37.303Z"
   },
   {
    "duration": 13,
    "start_time": "2022-07-21T20:33:37.315Z"
   },
   {
    "duration": 136,
    "start_time": "2022-07-21T20:33:37.330Z"
   },
   {
    "duration": 9,
    "start_time": "2022-07-21T20:33:37.476Z"
   },
   {
    "duration": 106,
    "start_time": "2022-07-21T20:33:37.487Z"
   },
   {
    "duration": 89,
    "start_time": "2022-07-21T20:33:37.601Z"
   },
   {
    "duration": 118,
    "start_time": "2022-07-21T20:33:37.701Z"
   },
   {
    "duration": 8,
    "start_time": "2022-07-21T20:33:37.821Z"
   },
   {
    "duration": 9,
    "start_time": "2022-07-21T20:33:37.831Z"
   },
   {
    "duration": 28,
    "start_time": "2022-07-21T20:33:37.842Z"
   },
   {
    "duration": 30,
    "start_time": "2022-07-21T20:33:37.872Z"
   },
   {
    "duration": 17,
    "start_time": "2022-07-21T20:33:37.904Z"
   },
   {
    "duration": 13,
    "start_time": "2022-07-21T20:33:37.923Z"
   },
   {
    "duration": 9,
    "start_time": "2022-07-21T20:33:37.938Z"
   },
   {
    "duration": 8,
    "start_time": "2022-07-21T20:33:37.949Z"
   },
   {
    "duration": 21,
    "start_time": "2022-07-21T20:40:25.943Z"
   },
   {
    "duration": 31,
    "start_time": "2022-07-21T20:42:43.665Z"
   },
   {
    "duration": 71,
    "start_time": "2022-07-21T20:44:35.324Z"
   },
   {
    "duration": 6,
    "start_time": "2022-07-21T20:44:41.849Z"
   },
   {
    "duration": 36,
    "start_time": "2022-07-21T22:06:05.641Z"
   },
   {
    "duration": 13,
    "start_time": "2022-07-21T22:09:45.265Z"
   },
   {
    "duration": 14,
    "start_time": "2022-07-21T22:09:54.417Z"
   },
   {
    "duration": 15,
    "start_time": "2022-07-21T22:10:03.629Z"
   },
   {
    "duration": 8,
    "start_time": "2022-07-21T22:10:50.317Z"
   },
   {
    "duration": 13,
    "start_time": "2022-07-21T22:11:01.351Z"
   },
   {
    "duration": 5,
    "start_time": "2022-07-21T22:14:21.829Z"
   },
   {
    "duration": 1127,
    "start_time": "2022-07-21T23:29:54.316Z"
   },
   {
    "duration": 302,
    "start_time": "2022-07-21T23:29:55.444Z"
   },
   {
    "duration": 13,
    "start_time": "2022-07-21T23:29:55.748Z"
   },
   {
    "duration": 28,
    "start_time": "2022-07-21T23:29:55.763Z"
   },
   {
    "duration": 11,
    "start_time": "2022-07-21T23:29:55.792Z"
   },
   {
    "duration": 24,
    "start_time": "2022-07-21T23:29:55.804Z"
   },
   {
    "duration": 27,
    "start_time": "2022-07-21T23:29:55.830Z"
   },
   {
    "duration": 22,
    "start_time": "2022-07-21T23:29:55.859Z"
   },
   {
    "duration": 32,
    "start_time": "2022-07-21T23:29:55.883Z"
   },
   {
    "duration": 8,
    "start_time": "2022-07-21T23:29:55.919Z"
   },
   {
    "duration": 48,
    "start_time": "2022-07-21T23:29:55.928Z"
   },
   {
    "duration": 27,
    "start_time": "2022-07-21T23:29:55.978Z"
   },
   {
    "duration": 14,
    "start_time": "2022-07-21T23:29:56.007Z"
   },
   {
    "duration": 16,
    "start_time": "2022-07-21T23:29:56.022Z"
   },
   {
    "duration": 6,
    "start_time": "2022-07-21T23:29:56.040Z"
   },
   {
    "duration": 38,
    "start_time": "2022-07-21T23:29:56.048Z"
   },
   {
    "duration": 24,
    "start_time": "2022-07-21T23:29:56.087Z"
   },
   {
    "duration": 15,
    "start_time": "2022-07-21T23:29:56.112Z"
   },
   {
    "duration": 43,
    "start_time": "2022-07-21T23:29:56.129Z"
   },
   {
    "duration": 47,
    "start_time": "2022-07-21T23:29:56.174Z"
   },
   {
    "duration": 19,
    "start_time": "2022-07-21T23:29:56.222Z"
   },
   {
    "duration": 12,
    "start_time": "2022-07-21T23:29:56.242Z"
   },
   {
    "duration": 43,
    "start_time": "2022-07-21T23:29:56.256Z"
   },
   {
    "duration": 24,
    "start_time": "2022-07-21T23:29:56.300Z"
   },
   {
    "duration": 15,
    "start_time": "2022-07-21T23:29:56.326Z"
   },
   {
    "duration": 27,
    "start_time": "2022-07-21T23:29:56.343Z"
   },
   {
    "duration": 2,
    "start_time": "2022-07-21T23:29:56.371Z"
   },
   {
    "duration": 25,
    "start_time": "2022-07-21T23:29:56.377Z"
   },
   {
    "duration": 32,
    "start_time": "2022-07-21T23:29:56.403Z"
   },
   {
    "duration": 19,
    "start_time": "2022-07-21T23:29:56.436Z"
   },
   {
    "duration": 25,
    "start_time": "2022-07-21T23:29:56.456Z"
   },
   {
    "duration": 21,
    "start_time": "2022-07-21T23:29:56.483Z"
   },
   {
    "duration": 29,
    "start_time": "2022-07-21T23:29:56.505Z"
   },
   {
    "duration": 23,
    "start_time": "2022-07-21T23:29:56.536Z"
   },
   {
    "duration": 23,
    "start_time": "2022-07-21T23:29:56.561Z"
   },
   {
    "duration": 24,
    "start_time": "2022-07-21T23:29:56.585Z"
   },
   {
    "duration": 10,
    "start_time": "2022-07-21T23:29:56.610Z"
   },
   {
    "duration": 25,
    "start_time": "2022-07-21T23:29:56.622Z"
   },
   {
    "duration": 19,
    "start_time": "2022-07-21T23:29:56.649Z"
   },
   {
    "duration": 48,
    "start_time": "2022-07-21T23:29:56.669Z"
   },
   {
    "duration": 28,
    "start_time": "2022-07-21T23:29:56.719Z"
   },
   {
    "duration": 35,
    "start_time": "2022-07-21T23:29:56.748Z"
   },
   {
    "duration": 29,
    "start_time": "2022-07-21T23:29:56.784Z"
   },
   {
    "duration": 8,
    "start_time": "2022-07-21T23:29:56.814Z"
   },
   {
    "duration": 50,
    "start_time": "2022-07-21T23:29:56.823Z"
   },
   {
    "duration": 25,
    "start_time": "2022-07-21T23:29:56.875Z"
   },
   {
    "duration": 15,
    "start_time": "2022-07-21T23:29:56.902Z"
   },
   {
    "duration": 22,
    "start_time": "2022-07-21T23:29:56.918Z"
   },
   {
    "duration": 26,
    "start_time": "2022-07-21T23:29:56.942Z"
   },
   {
    "duration": 51,
    "start_time": "2022-07-21T23:29:56.970Z"
   },
   {
    "duration": 15,
    "start_time": "2022-07-21T23:29:57.022Z"
   },
   {
    "duration": 13,
    "start_time": "2022-07-21T23:29:57.038Z"
   },
   {
    "duration": 221,
    "start_time": "2022-07-21T23:29:57.052Z"
   },
   {
    "duration": 29,
    "start_time": "2022-07-21T23:29:57.275Z"
   },
   {
    "duration": 222,
    "start_time": "2022-07-21T23:29:57.306Z"
   },
   {
    "duration": 195,
    "start_time": "2022-07-21T23:29:57.530Z"
   },
   {
    "duration": 5,
    "start_time": "2022-07-21T23:29:57.726Z"
   },
   {
    "duration": 7,
    "start_time": "2022-07-21T23:29:57.732Z"
   },
   {
    "duration": 6,
    "start_time": "2022-07-21T23:29:57.741Z"
   },
   {
    "duration": 6,
    "start_time": "2022-07-21T23:29:57.749Z"
   },
   {
    "duration": 108,
    "start_time": "2022-07-21T23:29:57.756Z"
   },
   {
    "duration": 88,
    "start_time": "2022-07-21T23:29:57.865Z"
   },
   {
    "duration": 4,
    "start_time": "2022-07-21T23:29:57.954Z"
   },
   {
    "duration": 6,
    "start_time": "2022-07-21T23:29:57.960Z"
   },
   {
    "duration": 5,
    "start_time": "2022-07-21T23:29:57.968Z"
   },
   {
    "duration": 6,
    "start_time": "2022-07-21T23:29:57.975Z"
   },
   {
    "duration": 96,
    "start_time": "2022-07-21T23:29:57.982Z"
   },
   {
    "duration": 97,
    "start_time": "2022-07-21T23:29:58.079Z"
   },
   {
    "duration": 5,
    "start_time": "2022-07-21T23:29:58.177Z"
   },
   {
    "duration": 19,
    "start_time": "2022-07-21T23:29:58.183Z"
   },
   {
    "duration": 4,
    "start_time": "2022-07-21T23:29:58.203Z"
   },
   {
    "duration": 10,
    "start_time": "2022-07-21T23:29:58.208Z"
   },
   {
    "duration": 164,
    "start_time": "2022-07-21T23:29:58.219Z"
   },
   {
    "duration": 97,
    "start_time": "2022-07-21T23:29:58.385Z"
   },
   {
    "duration": 22,
    "start_time": "2022-07-21T23:29:58.484Z"
   },
   {
    "duration": 13,
    "start_time": "2022-07-21T23:29:58.508Z"
   },
   {
    "duration": 8,
    "start_time": "2022-07-21T23:29:58.522Z"
   },
   {
    "duration": 8,
    "start_time": "2022-07-21T23:29:58.531Z"
   },
   {
    "duration": 10,
    "start_time": "2022-07-21T23:29:58.540Z"
   },
   {
    "duration": 8,
    "start_time": "2022-07-21T23:29:58.551Z"
   },
   {
    "duration": 105,
    "start_time": "2022-07-21T23:29:58.561Z"
   },
   {
    "duration": 9,
    "start_time": "2022-07-21T23:29:58.671Z"
   },
   {
    "duration": 91,
    "start_time": "2022-07-21T23:29:58.681Z"
   },
   {
    "duration": 97,
    "start_time": "2022-07-21T23:29:58.774Z"
   },
   {
    "duration": 84,
    "start_time": "2022-07-21T23:29:58.873Z"
   },
   {
    "duration": 6,
    "start_time": "2022-07-21T23:29:58.959Z"
   },
   {
    "duration": 8,
    "start_time": "2022-07-21T23:29:58.966Z"
   },
   {
    "duration": 35,
    "start_time": "2022-07-21T23:29:58.975Z"
   },
   {
    "duration": 18,
    "start_time": "2022-07-21T23:29:59.011Z"
   },
   {
    "duration": 6,
    "start_time": "2022-07-21T23:29:59.031Z"
   },
   {
    "duration": 12,
    "start_time": "2022-07-21T23:29:59.038Z"
   },
   {
    "duration": 8,
    "start_time": "2022-07-21T23:29:59.051Z"
   },
   {
    "duration": 5,
    "start_time": "2022-07-21T23:29:59.060Z"
   },
   {
    "duration": 46,
    "start_time": "2022-07-21T23:29:59.066Z"
   },
   {
    "duration": 13,
    "start_time": "2022-07-21T23:29:59.113Z"
   },
   {
    "duration": 6,
    "start_time": "2022-07-21T23:29:59.127Z"
   },
   {
    "duration": 4,
    "start_time": "2022-07-22T00:07:01.514Z"
   },
   {
    "duration": 5,
    "start_time": "2022-07-22T00:07:13.915Z"
   },
   {
    "duration": 80,
    "start_time": "2022-07-22T00:08:32.692Z"
   },
   {
    "duration": 1029,
    "start_time": "2022-07-22T00:32:15.846Z"
   },
   {
    "duration": 287,
    "start_time": "2022-07-22T00:32:16.877Z"
   },
   {
    "duration": 12,
    "start_time": "2022-07-22T00:32:17.166Z"
   },
   {
    "duration": 14,
    "start_time": "2022-07-22T00:32:17.180Z"
   },
   {
    "duration": 13,
    "start_time": "2022-07-22T00:32:17.196Z"
   },
   {
    "duration": 14,
    "start_time": "2022-07-22T00:32:17.210Z"
   },
   {
    "duration": 11,
    "start_time": "2022-07-22T00:32:17.226Z"
   },
   {
    "duration": 21,
    "start_time": "2022-07-22T00:32:17.239Z"
   },
   {
    "duration": 17,
    "start_time": "2022-07-22T00:32:17.262Z"
   },
   {
    "duration": 9,
    "start_time": "2022-07-22T00:32:17.300Z"
   },
   {
    "duration": 34,
    "start_time": "2022-07-22T00:32:17.310Z"
   },
   {
    "duration": 21,
    "start_time": "2022-07-22T00:32:17.345Z"
   },
   {
    "duration": 34,
    "start_time": "2022-07-22T00:32:17.367Z"
   },
   {
    "duration": 13,
    "start_time": "2022-07-22T00:32:17.403Z"
   },
   {
    "duration": 9,
    "start_time": "2022-07-22T00:32:17.417Z"
   },
   {
    "duration": 21,
    "start_time": "2022-07-22T00:32:17.427Z"
   },
   {
    "duration": 14,
    "start_time": "2022-07-22T00:32:17.450Z"
   },
   {
    "duration": 43,
    "start_time": "2022-07-22T00:32:17.465Z"
   },
   {
    "duration": 8,
    "start_time": "2022-07-22T00:32:17.509Z"
   },
   {
    "duration": 28,
    "start_time": "2022-07-22T00:32:17.519Z"
   },
   {
    "duration": 18,
    "start_time": "2022-07-22T00:32:17.548Z"
   },
   {
    "duration": 8,
    "start_time": "2022-07-22T00:32:17.567Z"
   },
   {
    "duration": 25,
    "start_time": "2022-07-22T00:32:17.601Z"
   },
   {
    "duration": 25,
    "start_time": "2022-07-22T00:32:17.628Z"
   },
   {
    "duration": 17,
    "start_time": "2022-07-22T00:32:17.654Z"
   },
   {
    "duration": 44,
    "start_time": "2022-07-22T00:32:17.673Z"
   },
   {
    "duration": 24,
    "start_time": "2022-07-22T00:32:17.719Z"
   },
   {
    "duration": 18,
    "start_time": "2022-07-22T00:32:17.747Z"
   },
   {
    "duration": 38,
    "start_time": "2022-07-22T00:32:17.766Z"
   },
   {
    "duration": 10,
    "start_time": "2022-07-22T00:32:17.806Z"
   },
   {
    "duration": 9,
    "start_time": "2022-07-22T00:32:17.817Z"
   },
   {
    "duration": 16,
    "start_time": "2022-07-22T00:32:17.828Z"
   },
   {
    "duration": 22,
    "start_time": "2022-07-22T00:32:17.845Z"
   },
   {
    "duration": 47,
    "start_time": "2022-07-22T00:32:17.869Z"
   },
   {
    "duration": 5,
    "start_time": "2022-07-22T00:32:17.917Z"
   },
   {
    "duration": 13,
    "start_time": "2022-07-22T00:32:17.923Z"
   },
   {
    "duration": 11,
    "start_time": "2022-07-22T00:32:17.938Z"
   },
   {
    "duration": 53,
    "start_time": "2022-07-22T00:32:17.951Z"
   },
   {
    "duration": 23,
    "start_time": "2022-07-22T00:32:18.005Z"
   },
   {
    "duration": 30,
    "start_time": "2022-07-22T00:32:18.030Z"
   },
   {
    "duration": 51,
    "start_time": "2022-07-22T00:32:18.061Z"
   },
   {
    "duration": 7,
    "start_time": "2022-07-22T00:32:18.114Z"
   },
   {
    "duration": 27,
    "start_time": "2022-07-22T00:32:18.122Z"
   },
   {
    "duration": 24,
    "start_time": "2022-07-22T00:32:18.151Z"
   },
   {
    "duration": 33,
    "start_time": "2022-07-22T00:32:18.177Z"
   },
   {
    "duration": 22,
    "start_time": "2022-07-22T00:32:18.211Z"
   },
   {
    "duration": 29,
    "start_time": "2022-07-22T00:32:18.234Z"
   },
   {
    "duration": 38,
    "start_time": "2022-07-22T00:32:18.264Z"
   },
   {
    "duration": 13,
    "start_time": "2022-07-22T00:32:18.303Z"
   },
   {
    "duration": 13,
    "start_time": "2022-07-22T00:32:18.318Z"
   },
   {
    "duration": 194,
    "start_time": "2022-07-22T00:32:18.333Z"
   },
   {
    "duration": 15,
    "start_time": "2022-07-22T00:32:18.528Z"
   },
   {
    "duration": 208,
    "start_time": "2022-07-22T00:32:18.545Z"
   },
   {
    "duration": 195,
    "start_time": "2022-07-22T00:32:18.755Z"
   },
   {
    "duration": 5,
    "start_time": "2022-07-22T00:32:18.952Z"
   },
   {
    "duration": 5,
    "start_time": "2022-07-22T00:32:18.959Z"
   },
   {
    "duration": 4,
    "start_time": "2022-07-22T00:32:18.966Z"
   },
   {
    "duration": 30,
    "start_time": "2022-07-22T00:32:18.972Z"
   },
   {
    "duration": 104,
    "start_time": "2022-07-22T00:32:19.004Z"
   },
   {
    "duration": 98,
    "start_time": "2022-07-22T00:32:19.110Z"
   },
   {
    "duration": 5,
    "start_time": "2022-07-22T00:32:19.210Z"
   },
   {
    "duration": 15,
    "start_time": "2022-07-22T00:32:19.216Z"
   },
   {
    "duration": 8,
    "start_time": "2022-07-22T00:32:19.232Z"
   },
   {
    "duration": 7,
    "start_time": "2022-07-22T00:32:19.241Z"
   },
   {
    "duration": 88,
    "start_time": "2022-07-22T00:32:19.249Z"
   },
   {
    "duration": 93,
    "start_time": "2022-07-22T00:32:19.339Z"
   },
   {
    "duration": 5,
    "start_time": "2022-07-22T00:32:19.434Z"
   },
   {
    "duration": 10,
    "start_time": "2022-07-22T00:32:19.440Z"
   },
   {
    "duration": 7,
    "start_time": "2022-07-22T00:32:19.452Z"
   },
   {
    "duration": 7,
    "start_time": "2022-07-22T00:32:19.460Z"
   },
   {
    "duration": 162,
    "start_time": "2022-07-22T00:32:19.468Z"
   },
   {
    "duration": 94,
    "start_time": "2022-07-22T00:32:19.631Z"
   },
   {
    "duration": 12,
    "start_time": "2022-07-22T00:32:19.726Z"
   },
   {
    "duration": 16,
    "start_time": "2022-07-22T00:32:19.740Z"
   },
   {
    "duration": 4,
    "start_time": "2022-07-22T00:32:19.758Z"
   },
   {
    "duration": 12,
    "start_time": "2022-07-22T00:32:19.763Z"
   },
   {
    "duration": 24,
    "start_time": "2022-07-22T00:32:19.777Z"
   },
   {
    "duration": 5,
    "start_time": "2022-07-22T00:32:19.803Z"
   },
   {
    "duration": 91,
    "start_time": "2022-07-22T00:32:19.810Z"
   },
   {
    "duration": 73,
    "start_time": "2022-07-22T00:32:19.902Z"
   },
   {
    "duration": 91,
    "start_time": "2022-07-22T00:32:19.976Z"
   },
   {
    "duration": 80,
    "start_time": "2022-07-22T00:32:20.072Z"
   },
   {
    "duration": 5,
    "start_time": "2022-07-22T00:32:20.154Z"
   },
   {
    "duration": 23,
    "start_time": "2022-07-22T00:32:20.160Z"
   },
   {
    "duration": 27,
    "start_time": "2022-07-22T00:32:20.184Z"
   },
   {
    "duration": 13,
    "start_time": "2022-07-22T00:32:20.212Z"
   },
   {
    "duration": 10,
    "start_time": "2022-07-22T00:32:20.226Z"
   },
   {
    "duration": 7,
    "start_time": "2022-07-22T00:32:20.237Z"
   },
   {
    "duration": 6,
    "start_time": "2022-07-22T00:32:20.246Z"
   },
   {
    "duration": 18,
    "start_time": "2022-07-22T00:32:20.254Z"
   },
   {
    "duration": 13,
    "start_time": "2022-07-22T00:32:20.273Z"
   },
   {
    "duration": 16,
    "start_time": "2022-07-22T00:32:20.288Z"
   },
   {
    "duration": 1024,
    "start_time": "2022-07-22T00:33:43.836Z"
   },
   {
    "duration": 281,
    "start_time": "2022-07-22T00:33:44.862Z"
   },
   {
    "duration": 12,
    "start_time": "2022-07-22T00:33:45.144Z"
   },
   {
    "duration": 11,
    "start_time": "2022-07-22T00:33:45.158Z"
   },
   {
    "duration": 10,
    "start_time": "2022-07-22T00:33:45.170Z"
   },
   {
    "duration": 12,
    "start_time": "2022-07-22T00:33:45.182Z"
   },
   {
    "duration": 14,
    "start_time": "2022-07-22T00:33:45.195Z"
   },
   {
    "duration": 31,
    "start_time": "2022-07-22T00:33:45.210Z"
   },
   {
    "duration": 18,
    "start_time": "2022-07-22T00:33:45.243Z"
   },
   {
    "duration": 9,
    "start_time": "2022-07-22T00:33:45.264Z"
   },
   {
    "duration": 58,
    "start_time": "2022-07-22T00:33:45.275Z"
   },
   {
    "duration": 26,
    "start_time": "2022-07-22T00:33:45.335Z"
   },
   {
    "duration": 14,
    "start_time": "2022-07-22T00:33:45.362Z"
   },
   {
    "duration": 30,
    "start_time": "2022-07-22T00:33:45.377Z"
   },
   {
    "duration": 6,
    "start_time": "2022-07-22T00:33:45.409Z"
   },
   {
    "duration": 23,
    "start_time": "2022-07-22T00:33:45.417Z"
   },
   {
    "duration": 14,
    "start_time": "2022-07-22T00:33:45.442Z"
   },
   {
    "duration": 17,
    "start_time": "2022-07-22T00:33:45.457Z"
   },
   {
    "duration": 8,
    "start_time": "2022-07-22T00:33:45.501Z"
   },
   {
    "duration": 29,
    "start_time": "2022-07-22T00:33:45.510Z"
   },
   {
    "duration": 18,
    "start_time": "2022-07-22T00:33:45.540Z"
   },
   {
    "duration": 8,
    "start_time": "2022-07-22T00:33:45.559Z"
   },
   {
    "duration": 49,
    "start_time": "2022-07-22T00:33:45.568Z"
   },
   {
    "duration": 25,
    "start_time": "2022-07-22T00:33:45.618Z"
   },
   {
    "duration": 17,
    "start_time": "2022-07-22T00:33:45.644Z"
   },
   {
    "duration": 41,
    "start_time": "2022-07-22T00:33:45.663Z"
   },
   {
    "duration": 25,
    "start_time": "2022-07-22T00:33:45.705Z"
   },
   {
    "duration": 18,
    "start_time": "2022-07-22T00:33:45.734Z"
   },
   {
    "duration": 11,
    "start_time": "2022-07-22T00:33:45.754Z"
   },
   {
    "duration": 39,
    "start_time": "2022-07-22T00:33:45.766Z"
   },
   {
    "duration": 9,
    "start_time": "2022-07-22T00:33:45.807Z"
   },
   {
    "duration": 16,
    "start_time": "2022-07-22T00:33:45.817Z"
   },
   {
    "duration": 21,
    "start_time": "2022-07-22T00:33:45.835Z"
   },
   {
    "duration": 22,
    "start_time": "2022-07-22T00:33:45.857Z"
   },
   {
    "duration": 6,
    "start_time": "2022-07-22T00:33:45.901Z"
   },
   {
    "duration": 23,
    "start_time": "2022-07-22T00:33:45.908Z"
   },
   {
    "duration": 12,
    "start_time": "2022-07-22T00:33:45.932Z"
   },
   {
    "duration": 30,
    "start_time": "2022-07-22T00:33:45.946Z"
   },
   {
    "duration": 39,
    "start_time": "2022-07-22T00:33:45.978Z"
   },
   {
    "duration": 31,
    "start_time": "2022-07-22T00:33:46.019Z"
   },
   {
    "duration": 23,
    "start_time": "2022-07-22T00:33:46.051Z"
   },
   {
    "duration": 27,
    "start_time": "2022-07-22T00:33:46.075Z"
   },
   {
    "duration": 23,
    "start_time": "2022-07-22T00:33:46.103Z"
   },
   {
    "duration": 21,
    "start_time": "2022-07-22T00:33:46.127Z"
   },
   {
    "duration": 23,
    "start_time": "2022-07-22T00:33:46.149Z"
   },
   {
    "duration": 31,
    "start_time": "2022-07-22T00:33:46.174Z"
   },
   {
    "duration": 26,
    "start_time": "2022-07-22T00:33:46.206Z"
   },
   {
    "duration": 18,
    "start_time": "2022-07-22T00:33:46.233Z"
   },
   {
    "duration": 13,
    "start_time": "2022-07-22T00:33:46.253Z"
   },
   {
    "duration": 41,
    "start_time": "2022-07-22T00:33:46.267Z"
   },
   {
    "duration": 193,
    "start_time": "2022-07-22T00:33:46.310Z"
   },
   {
    "duration": 17,
    "start_time": "2022-07-22T00:33:46.504Z"
   },
   {
    "duration": 213,
    "start_time": "2022-07-22T00:33:46.523Z"
   },
   {
    "duration": 197,
    "start_time": "2022-07-22T00:33:46.738Z"
   },
   {
    "duration": 4,
    "start_time": "2022-07-22T00:33:46.937Z"
   },
   {
    "duration": 18,
    "start_time": "2022-07-22T00:33:46.943Z"
   },
   {
    "duration": 29,
    "start_time": "2022-07-22T00:33:46.963Z"
   },
   {
    "duration": 20,
    "start_time": "2022-07-22T00:33:46.994Z"
   },
   {
    "duration": 93,
    "start_time": "2022-07-22T00:33:47.016Z"
   },
   {
    "duration": 89,
    "start_time": "2022-07-22T00:33:47.111Z"
   },
   {
    "duration": 4,
    "start_time": "2022-07-22T00:33:47.202Z"
   },
   {
    "duration": 26,
    "start_time": "2022-07-22T00:33:47.207Z"
   },
   {
    "duration": 15,
    "start_time": "2022-07-22T00:33:47.235Z"
   },
   {
    "duration": 22,
    "start_time": "2022-07-22T00:33:47.251Z"
   },
   {
    "duration": 103,
    "start_time": "2022-07-22T00:33:47.275Z"
   },
   {
    "duration": 81,
    "start_time": "2022-07-22T00:33:47.380Z"
   },
   {
    "duration": 5,
    "start_time": "2022-07-22T00:33:47.462Z"
   },
   {
    "duration": 9,
    "start_time": "2022-07-22T00:33:47.468Z"
   },
   {
    "duration": 10,
    "start_time": "2022-07-22T00:33:47.478Z"
   },
   {
    "duration": 4,
    "start_time": "2022-07-22T00:33:47.501Z"
   },
   {
    "duration": 152,
    "start_time": "2022-07-22T00:33:47.506Z"
   },
   {
    "duration": 90,
    "start_time": "2022-07-22T00:33:47.659Z"
   },
   {
    "duration": 12,
    "start_time": "2022-07-22T00:33:47.751Z"
   },
   {
    "duration": 13,
    "start_time": "2022-07-22T00:33:47.764Z"
   },
   {
    "duration": 22,
    "start_time": "2022-07-22T00:33:47.778Z"
   },
   {
    "duration": 4,
    "start_time": "2022-07-22T00:33:47.802Z"
   },
   {
    "duration": 9,
    "start_time": "2022-07-22T00:33:47.807Z"
   },
   {
    "duration": 9,
    "start_time": "2022-07-22T00:33:47.818Z"
   },
   {
    "duration": 93,
    "start_time": "2022-07-22T00:33:47.829Z"
   },
   {
    "duration": 90,
    "start_time": "2022-07-22T00:33:47.923Z"
   },
   {
    "duration": 85,
    "start_time": "2022-07-22T00:33:48.015Z"
   },
   {
    "duration": 79,
    "start_time": "2022-07-22T00:33:48.106Z"
   },
   {
    "duration": 17,
    "start_time": "2022-07-22T00:33:48.187Z"
   },
   {
    "duration": 19,
    "start_time": "2022-07-22T00:33:48.205Z"
   },
   {
    "duration": 17,
    "start_time": "2022-07-22T00:33:48.226Z"
   },
   {
    "duration": 5,
    "start_time": "2022-07-22T00:33:48.245Z"
   },
   {
    "duration": 24,
    "start_time": "2022-07-22T00:33:48.252Z"
   },
   {
    "duration": 6,
    "start_time": "2022-07-22T00:33:48.278Z"
   },
   {
    "duration": 18,
    "start_time": "2022-07-22T00:33:48.285Z"
   },
   {
    "duration": 20,
    "start_time": "2022-07-22T00:33:48.304Z"
   },
   {
    "duration": 13,
    "start_time": "2022-07-22T00:33:48.326Z"
   },
   {
    "duration": 4,
    "start_time": "2022-07-22T00:33:48.341Z"
   },
   {
    "duration": 1350,
    "start_time": "2022-07-22T12:29:08.543Z"
   },
   {
    "duration": 892,
    "start_time": "2022-07-22T12:29:09.896Z"
   },
   {
    "duration": 13,
    "start_time": "2022-07-22T12:29:10.790Z"
   },
   {
    "duration": 16,
    "start_time": "2022-07-22T12:29:10.805Z"
   },
   {
    "duration": 11,
    "start_time": "2022-07-22T12:29:10.823Z"
   },
   {
    "duration": 14,
    "start_time": "2022-07-22T12:29:10.836Z"
   },
   {
    "duration": 13,
    "start_time": "2022-07-22T12:29:10.852Z"
   },
   {
    "duration": 22,
    "start_time": "2022-07-22T12:29:10.866Z"
   },
   {
    "duration": 44,
    "start_time": "2022-07-22T12:29:10.889Z"
   },
   {
    "duration": 10,
    "start_time": "2022-07-22T12:29:10.936Z"
   },
   {
    "duration": 37,
    "start_time": "2022-07-22T12:29:10.947Z"
   },
   {
    "duration": 47,
    "start_time": "2022-07-22T12:29:10.985Z"
   },
   {
    "duration": 15,
    "start_time": "2022-07-22T12:29:11.034Z"
   },
   {
    "duration": 15,
    "start_time": "2022-07-22T12:29:11.051Z"
   },
   {
    "duration": 8,
    "start_time": "2022-07-22T12:29:11.068Z"
   },
   {
    "duration": 53,
    "start_time": "2022-07-22T12:29:11.078Z"
   },
   {
    "duration": 16,
    "start_time": "2022-07-22T12:29:11.132Z"
   },
   {
    "duration": 16,
    "start_time": "2022-07-22T12:29:11.150Z"
   },
   {
    "duration": 23,
    "start_time": "2022-07-22T12:29:11.167Z"
   },
   {
    "duration": 46,
    "start_time": "2022-07-22T12:29:11.192Z"
   },
   {
    "duration": 21,
    "start_time": "2022-07-22T12:29:11.240Z"
   },
   {
    "duration": 15,
    "start_time": "2022-07-22T12:29:11.263Z"
   },
   {
    "duration": 47,
    "start_time": "2022-07-22T12:29:11.280Z"
   },
   {
    "duration": 33,
    "start_time": "2022-07-22T12:29:11.329Z"
   },
   {
    "duration": 24,
    "start_time": "2022-07-22T12:29:11.364Z"
   },
   {
    "duration": 45,
    "start_time": "2022-07-22T12:29:11.390Z"
   },
   {
    "duration": 27,
    "start_time": "2022-07-22T12:29:11.438Z"
   },
   {
    "duration": 33,
    "start_time": "2022-07-22T12:29:11.471Z"
   },
   {
    "duration": 29,
    "start_time": "2022-07-22T12:29:11.505Z"
   },
   {
    "duration": 32,
    "start_time": "2022-07-22T12:29:11.535Z"
   },
   {
    "duration": 33,
    "start_time": "2022-07-22T12:29:11.569Z"
   },
   {
    "duration": 42,
    "start_time": "2022-07-22T12:29:11.605Z"
   },
   {
    "duration": 36,
    "start_time": "2022-07-22T12:29:11.649Z"
   },
   {
    "duration": 31,
    "start_time": "2022-07-22T12:29:11.687Z"
   },
   {
    "duration": 13,
    "start_time": "2022-07-22T12:29:11.720Z"
   },
   {
    "duration": 35,
    "start_time": "2022-07-22T12:29:11.735Z"
   },
   {
    "duration": 32,
    "start_time": "2022-07-22T12:29:11.771Z"
   },
   {
    "duration": 54,
    "start_time": "2022-07-22T12:29:11.805Z"
   },
   {
    "duration": 27,
    "start_time": "2022-07-22T12:29:11.861Z"
   },
   {
    "duration": 51,
    "start_time": "2022-07-22T12:29:11.889Z"
   },
   {
    "duration": 28,
    "start_time": "2022-07-22T12:29:11.942Z"
   },
   {
    "duration": 9,
    "start_time": "2022-07-22T12:29:11.972Z"
   },
   {
    "duration": 44,
    "start_time": "2022-07-22T12:29:11.983Z"
   },
   {
    "duration": 31,
    "start_time": "2022-07-22T12:29:12.030Z"
   },
   {
    "duration": 25,
    "start_time": "2022-07-22T12:29:12.063Z"
   },
   {
    "duration": 50,
    "start_time": "2022-07-22T12:29:12.090Z"
   },
   {
    "duration": 30,
    "start_time": "2022-07-22T12:29:12.142Z"
   },
   {
    "duration": 28,
    "start_time": "2022-07-22T12:29:12.173Z"
   },
   {
    "duration": 25,
    "start_time": "2022-07-22T12:29:12.203Z"
   },
   {
    "duration": 27,
    "start_time": "2022-07-22T12:29:12.230Z"
   },
   {
    "duration": 232,
    "start_time": "2022-07-22T12:29:12.258Z"
   },
   {
    "duration": 15,
    "start_time": "2022-07-22T12:29:12.492Z"
   },
   {
    "duration": 222,
    "start_time": "2022-07-22T12:29:12.509Z"
   },
   {
    "duration": 208,
    "start_time": "2022-07-22T12:29:12.732Z"
   },
   {
    "duration": 5,
    "start_time": "2022-07-22T12:29:12.941Z"
   },
   {
    "duration": 19,
    "start_time": "2022-07-22T12:29:12.948Z"
   },
   {
    "duration": 26,
    "start_time": "2022-07-22T12:29:12.969Z"
   },
   {
    "duration": 19,
    "start_time": "2022-07-22T12:29:12.997Z"
   },
   {
    "duration": 120,
    "start_time": "2022-07-22T12:29:13.018Z"
   },
   {
    "duration": 100,
    "start_time": "2022-07-22T12:29:13.139Z"
   },
   {
    "duration": 4,
    "start_time": "2022-07-22T12:29:13.241Z"
   },
   {
    "duration": 35,
    "start_time": "2022-07-22T12:29:13.247Z"
   },
   {
    "duration": 24,
    "start_time": "2022-07-22T12:29:13.284Z"
   },
   {
    "duration": 36,
    "start_time": "2022-07-22T12:29:13.309Z"
   },
   {
    "duration": 107,
    "start_time": "2022-07-22T12:29:13.348Z"
   },
   {
    "duration": 112,
    "start_time": "2022-07-22T12:29:13.457Z"
   },
   {
    "duration": 6,
    "start_time": "2022-07-22T12:29:13.571Z"
   },
   {
    "duration": 31,
    "start_time": "2022-07-22T12:29:13.578Z"
   },
   {
    "duration": 17,
    "start_time": "2022-07-22T12:29:13.611Z"
   },
   {
    "duration": 26,
    "start_time": "2022-07-22T12:29:13.629Z"
   },
   {
    "duration": 185,
    "start_time": "2022-07-22T12:29:13.657Z"
   },
   {
    "duration": 102,
    "start_time": "2022-07-22T12:29:13.844Z"
   },
   {
    "duration": 13,
    "start_time": "2022-07-22T12:29:13.948Z"
   },
   {
    "duration": 24,
    "start_time": "2022-07-22T12:29:13.963Z"
   },
   {
    "duration": 26,
    "start_time": "2022-07-22T12:29:13.988Z"
   },
   {
    "duration": 21,
    "start_time": "2022-07-22T12:29:14.015Z"
   },
   {
    "duration": 25,
    "start_time": "2022-07-22T12:29:14.038Z"
   },
   {
    "duration": 37,
    "start_time": "2022-07-22T12:29:14.064Z"
   },
   {
    "duration": 121,
    "start_time": "2022-07-22T12:29:14.102Z"
   },
   {
    "duration": 82,
    "start_time": "2022-07-22T12:29:14.225Z"
   },
   {
    "duration": 98,
    "start_time": "2022-07-22T12:29:14.308Z"
   },
   {
    "duration": 88,
    "start_time": "2022-07-22T12:29:14.411Z"
   },
   {
    "duration": 6,
    "start_time": "2022-07-22T12:29:14.500Z"
   },
   {
    "duration": 29,
    "start_time": "2022-07-22T12:29:14.508Z"
   },
   {
    "duration": 21,
    "start_time": "2022-07-22T12:29:14.538Z"
   },
   {
    "duration": 8,
    "start_time": "2022-07-22T12:29:14.560Z"
   },
   {
    "duration": 6,
    "start_time": "2022-07-22T12:29:14.569Z"
   },
   {
    "duration": 4,
    "start_time": "2022-07-22T12:29:14.577Z"
   },
   {
    "duration": 7,
    "start_time": "2022-07-22T12:29:14.582Z"
   },
   {
    "duration": 44,
    "start_time": "2022-07-22T12:29:14.591Z"
   },
   {
    "duration": 15,
    "start_time": "2022-07-22T12:29:14.637Z"
   },
   {
    "duration": 5,
    "start_time": "2022-07-22T12:29:14.654Z"
   },
   {
    "duration": 1331,
    "start_time": "2022-07-22T15:17:42.381Z"
   },
   {
    "duration": 806,
    "start_time": "2022-07-22T15:17:43.714Z"
   },
   {
    "duration": 15,
    "start_time": "2022-07-22T15:17:44.522Z"
   },
   {
    "duration": 18,
    "start_time": "2022-07-22T15:17:44.540Z"
   },
   {
    "duration": 13,
    "start_time": "2022-07-22T15:17:44.560Z"
   },
   {
    "duration": 24,
    "start_time": "2022-07-22T15:17:44.575Z"
   },
   {
    "duration": 14,
    "start_time": "2022-07-22T15:17:44.602Z"
   },
   {
    "duration": 45,
    "start_time": "2022-07-22T15:17:44.618Z"
   },
   {
    "duration": 24,
    "start_time": "2022-07-22T15:17:44.664Z"
   },
   {
    "duration": 12,
    "start_time": "2022-07-22T15:17:44.690Z"
   },
   {
    "duration": 61,
    "start_time": "2022-07-22T15:17:44.704Z"
   },
   {
    "duration": 25,
    "start_time": "2022-07-22T15:17:44.766Z"
   },
   {
    "duration": 17,
    "start_time": "2022-07-22T15:17:44.793Z"
   },
   {
    "duration": 39,
    "start_time": "2022-07-22T15:17:44.813Z"
   },
   {
    "duration": 9,
    "start_time": "2022-07-22T15:17:44.854Z"
   },
   {
    "duration": 28,
    "start_time": "2022-07-22T15:17:44.865Z"
   },
   {
    "duration": 17,
    "start_time": "2022-07-22T15:17:44.895Z"
   },
   {
    "duration": 45,
    "start_time": "2022-07-22T15:17:44.913Z"
   },
   {
    "duration": 9,
    "start_time": "2022-07-22T15:17:44.960Z"
   },
   {
    "duration": 34,
    "start_time": "2022-07-22T15:17:44.971Z"
   },
   {
    "duration": 51,
    "start_time": "2022-07-22T15:17:45.007Z"
   },
   {
    "duration": 12,
    "start_time": "2022-07-22T15:17:45.061Z"
   },
   {
    "duration": 29,
    "start_time": "2022-07-22T15:17:45.075Z"
   },
   {
    "duration": 54,
    "start_time": "2022-07-22T15:17:45.106Z"
   },
   {
    "duration": 19,
    "start_time": "2022-07-22T15:17:45.162Z"
   },
   {
    "duration": 21,
    "start_time": "2022-07-22T15:17:45.183Z"
   },
   {
    "duration": 53,
    "start_time": "2022-07-22T15:17:45.205Z"
   },
   {
    "duration": 22,
    "start_time": "2022-07-22T15:17:45.260Z"
   },
   {
    "duration": 14,
    "start_time": "2022-07-22T15:17:45.283Z"
   },
   {
    "duration": 13,
    "start_time": "2022-07-22T15:17:45.299Z"
   },
   {
    "duration": 9,
    "start_time": "2022-07-22T15:17:45.314Z"
   },
   {
    "duration": 48,
    "start_time": "2022-07-22T15:17:45.325Z"
   },
   {
    "duration": 25,
    "start_time": "2022-07-22T15:17:45.374Z"
   },
   {
    "duration": 53,
    "start_time": "2022-07-22T15:17:45.400Z"
   },
   {
    "duration": 6,
    "start_time": "2022-07-22T15:17:45.455Z"
   },
   {
    "duration": 15,
    "start_time": "2022-07-22T15:17:45.463Z"
   },
   {
    "duration": 14,
    "start_time": "2022-07-22T15:17:45.479Z"
   },
   {
    "duration": 60,
    "start_time": "2022-07-22T15:17:45.495Z"
   },
   {
    "duration": 28,
    "start_time": "2022-07-22T15:17:45.557Z"
   },
   {
    "duration": 33,
    "start_time": "2022-07-22T15:17:45.587Z"
   },
   {
    "duration": 32,
    "start_time": "2022-07-22T15:17:45.651Z"
   },
   {
    "duration": 10,
    "start_time": "2022-07-22T15:17:45.685Z"
   },
   {
    "duration": 25,
    "start_time": "2022-07-22T15:17:45.696Z"
   },
   {
    "duration": 51,
    "start_time": "2022-07-22T15:17:45.723Z"
   },
   {
    "duration": 18,
    "start_time": "2022-07-22T15:17:45.776Z"
   },
   {
    "duration": 25,
    "start_time": "2022-07-22T15:17:45.795Z"
   },
   {
    "duration": 59,
    "start_time": "2022-07-22T15:17:45.822Z"
   },
   {
    "duration": 21,
    "start_time": "2022-07-22T15:17:45.883Z"
   },
   {
    "duration": 16,
    "start_time": "2022-07-22T15:17:45.907Z"
   },
   {
    "duration": 16,
    "start_time": "2022-07-22T15:17:45.951Z"
   },
   {
    "duration": 295,
    "start_time": "2022-07-22T15:17:45.969Z"
   },
   {
    "duration": 22,
    "start_time": "2022-07-22T15:17:46.266Z"
   },
   {
    "duration": 236,
    "start_time": "2022-07-22T15:17:46.290Z"
   },
   {
    "duration": 224,
    "start_time": "2022-07-22T15:17:46.528Z"
   },
   {
    "duration": 5,
    "start_time": "2022-07-22T15:17:46.754Z"
   },
   {
    "duration": 10,
    "start_time": "2022-07-22T15:17:46.761Z"
   },
   {
    "duration": 6,
    "start_time": "2022-07-22T15:17:46.772Z"
   },
   {
    "duration": 12,
    "start_time": "2022-07-22T15:17:46.779Z"
   },
   {
    "duration": 119,
    "start_time": "2022-07-22T15:17:46.793Z"
   },
   {
    "duration": 102,
    "start_time": "2022-07-22T15:17:46.914Z"
   },
   {
    "duration": 4,
    "start_time": "2022-07-22T15:17:47.018Z"
   },
   {
    "duration": 10,
    "start_time": "2022-07-22T15:17:47.024Z"
   },
   {
    "duration": 17,
    "start_time": "2022-07-22T15:17:47.036Z"
   },
   {
    "duration": 7,
    "start_time": "2022-07-22T15:17:47.055Z"
   },
   {
    "duration": 98,
    "start_time": "2022-07-22T15:17:47.064Z"
   },
   {
    "duration": 101,
    "start_time": "2022-07-22T15:17:47.164Z"
   },
   {
    "duration": 5,
    "start_time": "2022-07-22T15:17:47.267Z"
   },
   {
    "duration": 8,
    "start_time": "2022-07-22T15:17:47.274Z"
   },
   {
    "duration": 5,
    "start_time": "2022-07-22T15:17:47.284Z"
   },
   {
    "duration": 5,
    "start_time": "2022-07-22T15:17:47.291Z"
   },
   {
    "duration": 181,
    "start_time": "2022-07-22T15:17:47.297Z"
   },
   {
    "duration": 105,
    "start_time": "2022-07-22T15:17:47.480Z"
   },
   {
    "duration": 14,
    "start_time": "2022-07-22T15:17:47.587Z"
   },
   {
    "duration": 13,
    "start_time": "2022-07-22T15:17:47.603Z"
   },
   {
    "duration": 8,
    "start_time": "2022-07-22T15:17:47.617Z"
   },
   {
    "duration": 28,
    "start_time": "2022-07-22T15:17:47.626Z"
   },
   {
    "duration": 6,
    "start_time": "2022-07-22T15:17:47.656Z"
   },
   {
    "duration": 11,
    "start_time": "2022-07-22T15:17:47.664Z"
   },
   {
    "duration": 102,
    "start_time": "2022-07-22T15:17:47.676Z"
   },
   {
    "duration": 93,
    "start_time": "2022-07-22T15:17:47.780Z"
   },
   {
    "duration": 90,
    "start_time": "2022-07-22T15:17:47.875Z"
   },
   {
    "duration": 92,
    "start_time": "2022-07-22T15:17:47.967Z"
   },
   {
    "duration": 5,
    "start_time": "2022-07-22T15:17:48.062Z"
   },
   {
    "duration": 21,
    "start_time": "2022-07-22T15:17:48.068Z"
   },
   {
    "duration": 18,
    "start_time": "2022-07-22T15:17:48.091Z"
   },
   {
    "duration": 7,
    "start_time": "2022-07-22T15:17:48.111Z"
   },
   {
    "duration": 6,
    "start_time": "2022-07-22T15:17:48.119Z"
   },
   {
    "duration": 10,
    "start_time": "2022-07-22T15:17:48.152Z"
   },
   {
    "duration": 5,
    "start_time": "2022-07-22T15:17:48.164Z"
   },
   {
    "duration": 16,
    "start_time": "2022-07-22T15:17:48.170Z"
   },
   {
    "duration": 12,
    "start_time": "2022-07-22T15:17:48.187Z"
   },
   {
    "duration": 6,
    "start_time": "2022-07-22T15:17:48.201Z"
   },
   {
    "duration": 15,
    "start_time": "2022-07-22T15:27:34.513Z"
   },
   {
    "duration": 21,
    "start_time": "2022-07-22T15:28:14.184Z"
   },
   {
    "duration": 31,
    "start_time": "2022-07-22T15:29:26.087Z"
   }
  ],
  "kernelspec": {
   "display_name": "Python 3 (ipykernel)",
   "language": "python",
   "name": "python3"
  },
  "language_info": {
   "codemirror_mode": {
    "name": "ipython",
    "version": 3
   },
   "file_extension": ".py",
   "mimetype": "text/x-python",
   "name": "python",
   "nbconvert_exporter": "python",
   "pygments_lexer": "ipython3",
   "version": "3.9.5"
  },
  "toc": {
   "base_numbering": 1,
   "nav_menu": {},
   "number_sections": true,
   "sideBar": true,
   "skip_h1_title": false,
   "title_cell": "Table of Contents",
   "title_sidebar": "Contents",
   "toc_cell": false,
   "toc_position": {
    "height": "712px",
    "left": "73px",
    "top": "182.125px",
    "width": "165px"
   },
   "toc_section_display": true,
   "toc_window_display": false
  }
 },
 "nbformat": 4,
 "nbformat_minor": 2
}
