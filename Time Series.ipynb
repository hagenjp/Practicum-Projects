{
 "cells": [
  {
   "cell_type": "markdown",
   "metadata": {},
   "source": [
    "<div class=\"alert alert-success\">\n",
    "<b>Reviewer's comment V3</b>\n",
    "\n",
    "Thanks for taking the time to improve the project! It is accepted, and you can move on to the next sprint! Keep up the good work! :)\n",
    "\n",
    "</div>"
   ]
  },
  {
   "cell_type": "markdown",
   "metadata": {},
   "source": [
    "**Review**\n",
    "\n",
    "Hi, my name is Dmitry and I will be reviewing your project.\n",
    "  \n",
    "You can find my comments in colored markdown cells:\n",
    "  \n",
    "<div class=\"alert alert-success\">\n",
    "  If everything is done successfully.\n",
    "</div>\n",
    "  \n",
    "<div class=\"alert alert-warning\">\n",
    "  If I have some (optional) suggestions, or questions to think about, or general comments.\n",
    "</div>\n",
    "  \n",
    "<div class=\"alert alert-danger\">\n",
    "  If a section requires some corrections. Work can't be accepted with red comments.\n",
    "</div>\n",
    "  \n",
    "Please don't remove my comments, as it will make further review iterations much harder for me.\n",
    "  \n",
    "Feel free to reply to my comments or ask questions using the following template:\n",
    "  \n",
    "<div class=\"alert alert-info\">\n",
    "  For your comments and questions.\n",
    "</div>\n",
    "  \n",
    "First of all, thank you for turning in the project! You did a pretty good job overall, but there are a couple of problems that need to be fixed before the project is accepted. Let me know if you have any questions!\n"
   ]
  },
  {
   "cell_type": "markdown",
   "metadata": {},
   "source": [
    "# Project description\n",
    "\n",
    "Sweet Lift Taxi company has collected historical data on taxi orders at airports. To attract more drivers during peak hours, we need to predict the amount of taxi orders for the next hour. Build a model for such a prediction.\n",
    "\n",
    "The RMSE metric on the test set should not be more than 48.\n",
    "\n",
    "## Project instructions\n",
    "\n",
    "1. Download the data and resample it by one hour.\n",
    "2. Analyze the data.\n",
    "3. Train different models with different hyperparameters. The test sample should be 10% of the initial dataset. \n",
    "4. Test the data using the test sample and provide a conclusion.\n",
    "\n",
    "## Data description\n",
    "\n",
    "The data is stored in file `taxi.csv`. The number of orders is in the '*num_orders*' column."
   ]
  },
  {
   "cell_type": "markdown",
   "metadata": {},
   "source": [
    "## Preparation\n",
    "Initially I will import the necessary libraries and do preliminary observations of the condition of the data. "
   ]
  },
  {
   "cell_type": "code",
   "execution_count": 1,
   "metadata": {},
   "outputs": [],
   "source": [
    "import pandas as pd\n",
    "\n",
    "from statsmodels.tsa.seasonal import seasonal_decompose\n",
    "\n",
    "import matplotlib.pyplot as plt\n",
    "\n",
    "from sklearn.linear_model import LinearRegression\n",
    "from sklearn.ensemble import RandomForestRegressor\n",
    "from sklearn.metrics import mean_squared_error\n",
    "from sklearn.model_selection import GridSearchCV\n",
    "from sklearn.model_selection import train_test_split\n",
    "from sklearn.model_selection import TimeSeriesSplit\n",
    "\n",
    "\n",
    "from lightgbm import LGBMRegressor\n",
    "from xgboost import XGBRegressor\n",
    "\n",
    "import warnings\n",
    "warnings.filterwarnings('ignore')"
   ]
  },
  {
   "cell_type": "code",
   "execution_count": 2,
   "metadata": {},
   "outputs": [
    {
     "name": "stdout",
     "output_type": "stream",
     "text": [
      "True\n",
      "\n",
      "<class 'pandas.core.frame.DataFrame'>\n",
      "DatetimeIndex: 26496 entries, 2018-03-01 00:00:00 to 2018-08-31 23:50:00\n",
      "Data columns (total 1 columns):\n",
      " #   Column      Non-Null Count  Dtype\n",
      "---  ------      --------------  -----\n",
      " 0   num_orders  26496 non-null  int64\n",
      "dtypes: int64(1)\n",
      "memory usage: 414.0 KB\n",
      "\n"
     ]
    },
    {
     "data": {
      "text/html": [
       "<div>\n",
       "<style scoped>\n",
       "    .dataframe tbody tr th:only-of-type {\n",
       "        vertical-align: middle;\n",
       "    }\n",
       "\n",
       "    .dataframe tbody tr th {\n",
       "        vertical-align: top;\n",
       "    }\n",
       "\n",
       "    .dataframe thead th {\n",
       "        text-align: right;\n",
       "    }\n",
       "</style>\n",
       "<table border=\"1\" class=\"dataframe\">\n",
       "  <thead>\n",
       "    <tr style=\"text-align: right;\">\n",
       "      <th></th>\n",
       "      <th>num_orders</th>\n",
       "    </tr>\n",
       "    <tr>\n",
       "      <th>datetime</th>\n",
       "      <th></th>\n",
       "    </tr>\n",
       "  </thead>\n",
       "  <tbody>\n",
       "    <tr>\n",
       "      <th>2018-03-01 00:00:00</th>\n",
       "      <td>9</td>\n",
       "    </tr>\n",
       "    <tr>\n",
       "      <th>2018-03-01 00:10:00</th>\n",
       "      <td>14</td>\n",
       "    </tr>\n",
       "    <tr>\n",
       "      <th>2018-03-01 00:20:00</th>\n",
       "      <td>28</td>\n",
       "    </tr>\n",
       "    <tr>\n",
       "      <th>2018-03-01 00:30:00</th>\n",
       "      <td>20</td>\n",
       "    </tr>\n",
       "    <tr>\n",
       "      <th>2018-03-01 00:40:00</th>\n",
       "      <td>32</td>\n",
       "    </tr>\n",
       "  </tbody>\n",
       "</table>\n",
       "</div>"
      ],
      "text/plain": [
       "                     num_orders\n",
       "datetime                       \n",
       "2018-03-01 00:00:00           9\n",
       "2018-03-01 00:10:00          14\n",
       "2018-03-01 00:20:00          28\n",
       "2018-03-01 00:30:00          20\n",
       "2018-03-01 00:40:00          32"
      ]
     },
     "execution_count": 2,
     "metadata": {},
     "output_type": "execute_result"
    }
   ],
   "source": [
    "#check data, assign datetime column as index, convert to datetime object\n",
    "data = pd.read_csv('/datasets/taxi.csv', index_col=[0], parse_dates=True)\n",
    "\n",
    "#check if data is sorted\n",
    "print(data.index.is_monotonic)\n",
    "print()\n",
    "\n",
    "#check info\n",
    "data.info()\n",
    "print()\n",
    "\n",
    "#check first few rows\n",
    "data.head()"
   ]
  },
  {
   "cell_type": "markdown",
   "metadata": {},
   "source": [
    "<div class=\"alert alert-success\">\n",
    "<b>Reviewer's comment</b>\n",
    "\n",
    "Good idea to check that the time series is in correct order!\n",
    "\n",
    "</div>"
   ]
  },
  {
   "cell_type": "code",
   "execution_count": 3,
   "metadata": {},
   "outputs": [
    {
     "data": {
      "text/plain": [
       "num_orders    0\n",
       "dtype: int64"
      ]
     },
     "execution_count": 3,
     "metadata": {},
     "output_type": "execute_result"
    }
   ],
   "source": [
    "# check for NaN\n",
    "data.isna().sum()"
   ]
  },
  {
   "cell_type": "code",
   "execution_count": 4,
   "metadata": {},
   "outputs": [
    {
     "name": "stdout",
     "output_type": "stream",
     "text": [
      "<class 'pandas.core.frame.DataFrame'>\n",
      "DatetimeIndex: 26496 entries, 2018-03-01 00:00:00 to 2018-08-31 23:50:00\n",
      "Data columns (total 1 columns):\n",
      " #   Column      Non-Null Count  Dtype\n",
      "---  ------      --------------  -----\n",
      " 0   num_orders  26496 non-null  int64\n",
      "dtypes: int64(1)\n",
      "memory usage: 414.0 KB\n"
     ]
    }
   ],
   "source": [
    "data.info()"
   ]
  },
  {
   "cell_type": "markdown",
   "metadata": {},
   "source": [
    "I see no null values, the datatype is appropriate. The data is ready for analysis. Now I will resample the data by the hour "
   ]
  },
  {
   "cell_type": "code",
   "execution_count": 5,
   "metadata": {},
   "outputs": [
    {
     "data": {
      "text/html": [
       "<div>\n",
       "<style scoped>\n",
       "    .dataframe tbody tr th:only-of-type {\n",
       "        vertical-align: middle;\n",
       "    }\n",
       "\n",
       "    .dataframe tbody tr th {\n",
       "        vertical-align: top;\n",
       "    }\n",
       "\n",
       "    .dataframe thead th {\n",
       "        text-align: right;\n",
       "    }\n",
       "</style>\n",
       "<table border=\"1\" class=\"dataframe\">\n",
       "  <thead>\n",
       "    <tr style=\"text-align: right;\">\n",
       "      <th></th>\n",
       "      <th>num_orders</th>\n",
       "    </tr>\n",
       "    <tr>\n",
       "      <th>datetime</th>\n",
       "      <th></th>\n",
       "    </tr>\n",
       "  </thead>\n",
       "  <tbody>\n",
       "    <tr>\n",
       "      <th>2018-03-01 00:00:00</th>\n",
       "      <td>124</td>\n",
       "    </tr>\n",
       "    <tr>\n",
       "      <th>2018-03-01 01:00:00</th>\n",
       "      <td>85</td>\n",
       "    </tr>\n",
       "    <tr>\n",
       "      <th>2018-03-01 02:00:00</th>\n",
       "      <td>71</td>\n",
       "    </tr>\n",
       "    <tr>\n",
       "      <th>2018-03-01 03:00:00</th>\n",
       "      <td>66</td>\n",
       "    </tr>\n",
       "    <tr>\n",
       "      <th>2018-03-01 04:00:00</th>\n",
       "      <td>43</td>\n",
       "    </tr>\n",
       "  </tbody>\n",
       "</table>\n",
       "</div>"
      ],
      "text/plain": [
       "                     num_orders\n",
       "datetime                       \n",
       "2018-03-01 00:00:00         124\n",
       "2018-03-01 01:00:00          85\n",
       "2018-03-01 02:00:00          71\n",
       "2018-03-01 03:00:00          66\n",
       "2018-03-01 04:00:00          43"
      ]
     },
     "execution_count": 5,
     "metadata": {},
     "output_type": "execute_result"
    }
   ],
   "source": [
    "#resample by hour, aggregation = sum\n",
    "data = data.resample('1H').sum()\n",
    "data.head()"
   ]
  },
  {
   "cell_type": "markdown",
   "metadata": {},
   "source": [
    "<div class=\"alert alert-success\">\n",
    "<b>Reviewer's comment</b>\n",
    "\n",
    "The data was resampled correctly\n",
    "\n",
    "</div>"
   ]
  },
  {
   "cell_type": "code",
   "execution_count": 6,
   "metadata": {},
   "outputs": [
    {
     "name": "stdout",
     "output_type": "stream",
     "text": [
      "<class 'pandas.core.frame.DataFrame'>\n",
      "DatetimeIndex: 4416 entries, 2018-03-01 00:00:00 to 2018-08-31 23:00:00\n",
      "Freq: H\n",
      "Data columns (total 1 columns):\n",
      " #   Column      Non-Null Count  Dtype\n",
      "---  ------      --------------  -----\n",
      " 0   num_orders  4416 non-null   int64\n",
      "dtypes: int64(1)\n",
      "memory usage: 69.0 KB\n"
     ]
    }
   ],
   "source": [
    "data.info()"
   ]
  },
  {
   "cell_type": "markdown",
   "metadata": {},
   "source": [
    "## Analysis\n",
    "Now I will look into the seasonality and any trends present "
   ]
  },
  {
   "cell_type": "code",
   "execution_count": 7,
   "metadata": {
    "scrolled": false
   },
   "outputs": [
    {
     "data": {
      "image/png": "[encoded data removed]",
      "text/plain": [
       "<Figure size 720x1080 with 3 Axes>"
      ]
     },
     "metadata": {
      "needs_background": "light"
     },
     "output_type": "display_data"
    }
   ],
   "source": [
    "#get different attributes of our time series\n",
    "decomposed = seasonal_decompose(data)\n",
    "\n",
    "#specify fig size for all plots\n",
    "plt.figure(figsize=(10,15))\n",
    "\n",
    "#3 rows, 1 column, image 1\n",
    "plt.subplot(311)\n",
    "decomposed.trend.plot(ax=plt.gca()) #specifying axis to display graph correctly\n",
    "plt.title('Trend')\n",
    "plt.xlabel('Month')\n",
    "plt.ylabel('Number of Orders')\n",
    "\n",
    "#subplot configuration to prevent overlap\n",
    "plt.tight_layout(h_pad=7)\n",
    "\n",
    "#image 2\n",
    "plt.subplot(312)\n",
    "decomposed.seasonal.plot(ax=plt.gca())\n",
    "plt.title('Seasonality')\n",
    "plt.xlabel('Month')\n",
    "plt.ylabel('Number of Orders')\n",
    "\n",
    "#image 3\n",
    "plt.subplot(313)\n",
    "decomposed.seasonal['2018-03-01 00:00:00': '2018-03-05 00:00:00'].plot(ax=plt.gca())\n",
    "plt.title('Seasonal')\n",
    "plt.xlabel('Month')\n",
    "plt.ylabel('Number of Orders')\n",
    "plt.show()\n"
   ]
  },
  {
   "cell_type": "markdown",
   "metadata": {},
   "source": [
    "<div class=\"alert alert-warning\">\n",
    "<b>Reviewer's comment</b>\n",
    "\n",
    "The x axis label of the last plot is incorrect\n",
    "\n",
    "</div>"
   ]
  },
  {
   "cell_type": "markdown",
   "metadata": {},
   "source": [
    "From these plots we can see that there is a positive trend moving into the summer months, and at the start of the day there is a peak in taxi orders, followed by a drop and then an increase into the end of the day "
   ]
  },
  {
   "cell_type": "markdown",
   "metadata": {},
   "source": [
    "<div class=\"alert alert-success\">\n",
    "<b>Reviewer's comment</b>\n",
    "\n",
    "Alright, you did a seasonal decompostition and noted some patterns!\n",
    "\n",
    "</div>"
   ]
  },
  {
   "cell_type": "markdown",
   "metadata": {},
   "source": [
    "## Training"
   ]
  },
  {
   "cell_type": "markdown",
   "metadata": {},
   "source": [
    "To start I will design a funtion for feature engineering. This extraction the day of the week, month, day, and year. As well as the previous days cycle and a series of 3 lags. These features will be very useful in training our model to predict the number of orders "
   ]
  },
  {
   "cell_type": "code",
   "execution_count": 8,
   "metadata": {},
   "outputs": [
    {
     "data": {
      "text/html": [
       "<div>\n",
       "<style scoped>\n",
       "    .dataframe tbody tr th:only-of-type {\n",
       "        vertical-align: middle;\n",
       "    }\n",
       "\n",
       "    .dataframe tbody tr th {\n",
       "        vertical-align: top;\n",
       "    }\n",
       "\n",
       "    .dataframe thead th {\n",
       "        text-align: right;\n",
       "    }\n",
       "</style>\n",
       "<table border=\"1\" class=\"dataframe\">\n",
       "  <thead>\n",
       "    <tr style=\"text-align: right;\">\n",
       "      <th></th>\n",
       "      <th>num_orders</th>\n",
       "      <th>hour</th>\n",
       "      <th>month</th>\n",
       "      <th>day</th>\n",
       "      <th>dayofweek</th>\n",
       "      <th>previous_day</th>\n",
       "      <th>lag_1</th>\n",
       "      <th>lag_2</th>\n",
       "      <th>lag_3</th>\n",
       "      <th>lag_4</th>\n",
       "      <th>lag_5</th>\n",
       "      <th>lag_6</th>\n",
       "      <th>rolling_mean</th>\n",
       "    </tr>\n",
       "    <tr>\n",
       "      <th>datetime</th>\n",
       "      <th></th>\n",
       "      <th></th>\n",
       "      <th></th>\n",
       "      <th></th>\n",
       "      <th></th>\n",
       "      <th></th>\n",
       "      <th></th>\n",
       "      <th></th>\n",
       "      <th></th>\n",
       "      <th></th>\n",
       "      <th></th>\n",
       "      <th></th>\n",
       "      <th></th>\n",
       "    </tr>\n",
       "  </thead>\n",
       "  <tbody>\n",
       "    <tr>\n",
       "      <th>2018-03-02 00:00:00</th>\n",
       "      <td>90</td>\n",
       "      <td>0</td>\n",
       "      <td>3</td>\n",
       "      <td>2</td>\n",
       "      <td>4</td>\n",
       "      <td>124.0</td>\n",
       "      <td>58.0</td>\n",
       "      <td>113.0</td>\n",
       "      <td>66.0</td>\n",
       "      <td>61.0</td>\n",
       "      <td>45.0</td>\n",
       "      <td>73.0</td>\n",
       "      <td>65.714286</td>\n",
       "    </tr>\n",
       "    <tr>\n",
       "      <th>2018-03-02 01:00:00</th>\n",
       "      <td>120</td>\n",
       "      <td>1</td>\n",
       "      <td>3</td>\n",
       "      <td>2</td>\n",
       "      <td>4</td>\n",
       "      <td>85.0</td>\n",
       "      <td>90.0</td>\n",
       "      <td>58.0</td>\n",
       "      <td>113.0</td>\n",
       "      <td>66.0</td>\n",
       "      <td>61.0</td>\n",
       "      <td>45.0</td>\n",
       "      <td>72.285714</td>\n",
       "    </tr>\n",
       "    <tr>\n",
       "      <th>2018-03-02 02:00:00</th>\n",
       "      <td>75</td>\n",
       "      <td>2</td>\n",
       "      <td>3</td>\n",
       "      <td>2</td>\n",
       "      <td>4</td>\n",
       "      <td>71.0</td>\n",
       "      <td>120.0</td>\n",
       "      <td>90.0</td>\n",
       "      <td>58.0</td>\n",
       "      <td>113.0</td>\n",
       "      <td>66.0</td>\n",
       "      <td>61.0</td>\n",
       "      <td>79.000000</td>\n",
       "    </tr>\n",
       "    <tr>\n",
       "      <th>2018-03-02 03:00:00</th>\n",
       "      <td>64</td>\n",
       "      <td>3</td>\n",
       "      <td>3</td>\n",
       "      <td>2</td>\n",
       "      <td>4</td>\n",
       "      <td>66.0</td>\n",
       "      <td>75.0</td>\n",
       "      <td>120.0</td>\n",
       "      <td>90.0</td>\n",
       "      <td>58.0</td>\n",
       "      <td>113.0</td>\n",
       "      <td>66.0</td>\n",
       "      <td>83.285714</td>\n",
       "    </tr>\n",
       "    <tr>\n",
       "      <th>2018-03-02 04:00:00</th>\n",
       "      <td>20</td>\n",
       "      <td>4</td>\n",
       "      <td>3</td>\n",
       "      <td>2</td>\n",
       "      <td>4</td>\n",
       "      <td>43.0</td>\n",
       "      <td>64.0</td>\n",
       "      <td>75.0</td>\n",
       "      <td>120.0</td>\n",
       "      <td>90.0</td>\n",
       "      <td>58.0</td>\n",
       "      <td>113.0</td>\n",
       "      <td>83.714286</td>\n",
       "    </tr>\n",
       "  </tbody>\n",
       "</table>\n",
       "</div>"
      ],
      "text/plain": [
       "                     num_orders  hour  month  day  dayofweek  previous_day  \\\n",
       "datetime                                                                     \n",
       "2018-03-02 00:00:00          90     0      3    2          4         124.0   \n",
       "2018-03-02 01:00:00         120     1      3    2          4          85.0   \n",
       "2018-03-02 02:00:00          75     2      3    2          4          71.0   \n",
       "2018-03-02 03:00:00          64     3      3    2          4          66.0   \n",
       "2018-03-02 04:00:00          20     4      3    2          4          43.0   \n",
       "\n",
       "                     lag_1  lag_2  lag_3  lag_4  lag_5  lag_6  rolling_mean  \n",
       "datetime                                                                     \n",
       "2018-03-02 00:00:00   58.0  113.0   66.0   61.0   45.0   73.0     65.714286  \n",
       "2018-03-02 01:00:00   90.0   58.0  113.0   66.0   61.0   45.0     72.285714  \n",
       "2018-03-02 02:00:00  120.0   90.0   58.0  113.0   66.0   61.0     79.000000  \n",
       "2018-03-02 03:00:00   75.0  120.0   90.0   58.0  113.0   66.0     83.285714  \n",
       "2018-03-02 04:00:00   64.0   75.0  120.0   90.0   58.0  113.0     83.714286  "
      ]
     },
     "execution_count": 8,
     "metadata": {},
     "output_type": "execute_result"
    }
   ],
   "source": [
    "def make_features(data, max_lag):\n",
    "    data = data.copy(deep=True)\n",
    "    data['hour'] = data.index.hour\n",
    "    data['month'] = data.index.month\n",
    "    data['day'] = data.index.day\n",
    "    data['dayofweek'] = data.index.dayofweek\n",
    "    \n",
    "    #seasons last 1 day, so we'll create a column that utilizes the previous cycle\n",
    "    data['previous_day'] = data['num_orders'].shift(24)\n",
    "    \n",
    "    for lag in range(1, max_lag + 1):\n",
    "        data['lag_{}'.format(lag)] = data['num_orders'].shift(lag)\n",
    "    \n",
    "    data['rolling_mean'] = data['num_orders'].shift().rolling(7).mean()\n",
    "    \n",
    "    \n",
    "    data = data.dropna()\n",
    "    return data\n",
    "\n",
    "full_data = make_features(data, 6)\n",
    "full_data.head()"
   ]
  },
  {
   "cell_type": "markdown",
   "metadata": {},
   "source": [
    "<div class=\"alert alert-warning\">\n",
    "<b>Reviewer's comment</b>\n",
    "\n",
    "Feature extraction looks good: there are calendar features and lag features. One omission is an hour feature. On the other hand, year is not useful as it is constant in our data.\n",
    "\n",
    "</div>"
   ]
  },
  {
   "cell_type": "markdown",
   "metadata": {},
   "source": [
    "<div class=\"alert alert-danger\">\n",
    "<s><b>Reviewer's comment</b>\n",
    "\n",
    "Next hour's number of orders can't be used as a feature: this is data from the future :)\n",
    "\n",
    "</div>"
   ]
  },
  {
   "cell_type": "markdown",
   "metadata": {},
   "source": [
    "<div class=\"alert alert-success\">\n",
    "<b>Reviewer's comment V2</b>\n",
    "\n",
    "Ok, great! Now there is an hour feature, and next hour was removed\n",
    "\n",
    "</div>"
   ]
  },
  {
   "cell_type": "code",
   "execution_count": 9,
   "metadata": {},
   "outputs": [
    {
     "name": "stdout",
     "output_type": "stream",
     "text": [
      "<class 'pandas.core.frame.DataFrame'>\n",
      "DatetimeIndex: 4392 entries, 2018-03-02 00:00:00 to 2018-08-31 23:00:00\n",
      "Freq: H\n",
      "Data columns (total 13 columns):\n",
      " #   Column        Non-Null Count  Dtype  \n",
      "---  ------        --------------  -----  \n",
      " 0   num_orders    4392 non-null   int64  \n",
      " 1   hour          4392 non-null   int64  \n",
      " 2   month         4392 non-null   int64  \n",
      " 3   day           4392 non-null   int64  \n",
      " 4   dayofweek     4392 non-null   int64  \n",
      " 5   previous_day  4392 non-null   float64\n",
      " 6   lag_1         4392 non-null   float64\n",
      " 7   lag_2         4392 non-null   float64\n",
      " 8   lag_3         4392 non-null   float64\n",
      " 9   lag_4         4392 non-null   float64\n",
      " 10  lag_5         4392 non-null   float64\n",
      " 11  lag_6         4392 non-null   float64\n",
      " 12  rolling_mean  4392 non-null   float64\n",
      "dtypes: float64(8), int64(5)\n",
      "memory usage: 480.4 KB\n"
     ]
    }
   ],
   "source": [
    "full_data.info()"
   ]
  },
  {
   "cell_type": "markdown",
   "metadata": {},
   "source": [
    "Now that we have our features we are ready to split our data and make a function for our evaluation metric."
   ]
  },
  {
   "cell_type": "code",
   "execution_count": 10,
   "metadata": {},
   "outputs": [],
   "source": [
    "# function to define metric\n",
    "def rmse(true, pred):\n",
    "    return mean_squared_error(true, pred)**0.5"
   ]
  },
  {
   "cell_type": "code",
   "execution_count": 11,
   "metadata": {},
   "outputs": [
    {
     "name": "stdout",
     "output_type": "stream",
     "text": [
      "features_train size: 3556\n",
      "features_valid size: 396\n",
      "features_test size: 440\n",
      "target_train size: 3556\n",
      "target_valid size: 396\n",
      "target_test size: 440\n"
     ]
    }
   ],
   "source": [
    "#get train and test sets\n",
    "train, test = train_test_split(full_data, shuffle = False, test_size = 0.1)\n",
    "train, valid = train_test_split(train, shuffle = False, test_size = 0.1)\n",
    "\n",
    "features_train = train.drop('num_orders', axis = 1)\n",
    "features_valid = valid.drop('num_orders', axis = 1)\n",
    "target_train = train['num_orders']\n",
    "target_valid = valid['num_orders']\n",
    "features_test = test.drop('num_orders', axis = 1)\n",
    "target_test = test['num_orders']\n",
    "\n",
    "#check size\n",
    "print('features_train size:', features_train.shape[0])\n",
    "print('features_valid size:', features_valid.shape[0])\n",
    "print('features_test size:', features_test.shape[0])\n",
    "print('target_train size:', target_train.shape[0])\n",
    "print('target_valid size:', target_valid.shape[0])\n",
    "print('target_test size:', target_test.shape[0])"
   ]
  },
  {
   "cell_type": "markdown",
   "metadata": {},
   "source": [
    "<div class=\"alert alert-success\">\n",
    "<b>Reviewer's comment</b>\n",
    "\n",
    "The data was split into train and test without shuffling\n",
    "\n",
    "</div>"
   ]
  },
  {
   "cell_type": "markdown",
   "metadata": {},
   "source": [
    "## Testing"
   ]
  },
  {
   "cell_type": "code",
   "execution_count": 12,
   "metadata": {},
   "outputs": [
    {
     "name": "stdout",
     "output_type": "stream",
     "text": [
      "TimeSeriesSplit(gap=0, max_train_size=None, n_splits=5, test_size=None)\n"
     ]
    }
   ],
   "source": [
    "# time series split\n",
    "tscv = TimeSeriesSplit(n_splits=5)\n",
    "print(tscv)"
   ]
  },
  {
   "cell_type": "markdown",
   "metadata": {},
   "source": [
    "### Linear Regression"
   ]
  },
  {
   "cell_type": "code",
   "execution_count": 13,
   "metadata": {},
   "outputs": [
    {
     "name": "stdout",
     "output_type": "stream",
     "text": [
      "RMSE for the training set: 35.56636943399032\n"
     ]
    }
   ],
   "source": [
    "lr_model = LinearRegression()\n",
    "\n",
    "lr_model.fit(features_train, target_train)\n",
    "\n",
    "lr_train_prediction = lr_model.predict(features_valid)\n",
    "print(\"RMSE for the training set:\",  rmse(target_valid, lr_train_prediction) )"
   ]
  },
  {
   "cell_type": "markdown",
   "metadata": {},
   "source": [
    "<div class=\"alert alert-danger\">\n",
    "<s><b>Reviewer's comment V2</b>\n",
    "\n",
    "The test set should not be used here.\n",
    "    \n",
    "The first RMSE value is actually for the validation set, not the train set, right?\n",
    "\n",
    "</div>"
   ]
  },
  {
   "cell_type": "markdown",
   "metadata": {},
   "source": [
    "### Random Forest"
   ]
  },
  {
   "cell_type": "code",
   "execution_count": 14,
   "metadata": {},
   "outputs": [
    {
     "name": "stdout",
     "output_type": "stream",
     "text": [
      "Random Forest Regressor RMSE :  32.73761218793571\n"
     ]
    }
   ],
   "source": [
    "rf = RandomForestRegressor()\n",
    "\n",
    "rf_model = rf.fit(features_train,target_train)\n",
    "\n",
    "rf_prediction = rf_model.predict(features_valid)\n",
    "print(\"Random Forest Regressor RMSE : \", rmse(target_valid, rf_prediction))"
   ]
  },
  {
   "cell_type": "markdown",
   "metadata": {},
   "source": [
    "### Random Forest with hyperparameter tuning"
   ]
  },
  {
   "cell_type": "code",
   "execution_count": 15,
   "metadata": {},
   "outputs": [
    {
     "name": "stdout",
     "output_type": "stream",
     "text": [
      "The best hyperparameters are: {'max_depth': None, 'min_samples_leaf': 4, 'n_estimators': 100}\n"
     ]
    }
   ],
   "source": [
    "grid = {\n",
    "    \"n_estimators\" : [100, 200],\n",
    "    \"max_depth\" : [None, 2, 4, 6],\n",
    "    \"min_samples_leaf\" : [2, 4]\n",
    "}\n",
    "# define the model \n",
    "regressor = RandomForestRegressor(random_state = 12345)\n",
    "# define the grid search\n",
    "grid_search_rf = GridSearchCV(estimator = regressor, \n",
    "                              param_grid = grid, \n",
    "                              scoring=\"neg_mean_squared_error\", \n",
    "                              cv=tscv)\n",
    "# execute search\n",
    "grid_search_rf.fit(features_train, target_train)\n",
    "# summarize result\n",
    "print('The best hyperparameters are: {}'.format(grid_search_rf.best_params_))"
   ]
  },
  {
   "cell_type": "code",
   "execution_count": 16,
   "metadata": {},
   "outputs": [],
   "source": [
    "rf_model = RandomForestRegressor(**grid_search_rf.best_params_)\n",
    "\n",
    "rf_model.fit(features_train, target_train)\n",
    "\n",
    "rf_pred = rf_model.predict(features_valid)\n",
    "\n",
    "rf_rmse = rmse(target_valid, rf_pred)\n"
   ]
  },
  {
   "cell_type": "code",
   "execution_count": 17,
   "metadata": {},
   "outputs": [
    {
     "name": "stdout",
     "output_type": "stream",
     "text": [
      "Random Forest with Hyperparameters : 32.759969008171\n"
     ]
    }
   ],
   "source": [
    "print(\"Random Forest with Hyperparameters :\", rf_rmse)"
   ]
  },
  {
   "cell_type": "markdown",
   "metadata": {},
   "source": [
    "### LightGBM Regressor"
   ]
  },
  {
   "cell_type": "code",
   "execution_count": 18,
   "metadata": {},
   "outputs": [
    {
     "name": "stdout",
     "output_type": "stream",
     "text": [
      "The best hyperparameters are: {'learning_rate': 0.05, 'n_estimators': 800, 'num_leaves': 5}\n",
      "Fit time: 0.6375446319580078\n",
      "Score time: 0.038527631759643556\n",
      "RMSE: 23.79300765701394\n"
     ]
    }
   ],
   "source": [
    "lgbm_grid = {'learning_rate': [0.05, 0.1],\n",
    "             'n_estimators': [500, 800, 1000],\n",
    "             'num_leaves': [2,3,5]\n",
    "            }\n",
    "# define the model \n",
    "lgbm_regr = LGBMRegressor(random_state = 12345)\n",
    "\n",
    "# define the grid search\n",
    "grid_search_lgbm = GridSearchCV(\n",
    "    estimator = lgbm_regr, \n",
    "    param_grid = lgbm_grid, \n",
    "    scoring = \"neg_mean_squared_error\", \n",
    "    cv = tscv, \n",
    "    n_jobs = 1\n",
    ")\n",
    "# execute search\n",
    "grid_search_lgbm.fit(features_train, target_train)\n",
    "# summarize result\n",
    "print('The best hyperparameters are: {}'.format(grid_search_lgbm.best_params_))\n",
    "\n",
    "results = grid_search_lgbm.cv_results_\n",
    "#get best index\n",
    "best_index = grid_search_lgbm.best_index_\n",
    "\n",
    "#get results\n",
    "fit_time = results['mean_fit_time'][best_index]\n",
    "score_time = results['mean_score_time'][best_index]\n",
    "RMSE = (grid_search_lgbm.best_score_*-1)**0.5\n",
    "\n",
    "print('Fit time:', fit_time)\n",
    "print('Score time:', score_time)\n",
    "print('RMSE:', RMSE)"
   ]
  },
  {
   "cell_type": "code",
   "execution_count": 19,
   "metadata": {},
   "outputs": [
    {
     "name": "stdout",
     "output_type": "stream",
     "text": [
      "RMSE: 31.909\n"
     ]
    }
   ],
   "source": [
    "lgbm_model = LGBMRegressor(**grid_search_lgbm.best_params_)\n",
    "lgbm_model.fit(features_train, target_train)\n",
    "    \n",
    "lgbm_pred = lgbm_model.predict(features_valid)\n",
    "    # determine RMSE for LightGBM regressor\n",
    "lgbm_rmse = rmse(target_valid, lgbm_pred)\n",
    "    \n",
    "print('RMSE: {:.3f}'.format(lgbm_rmse))\n"
   ]
  },
  {
   "cell_type": "markdown",
   "metadata": {},
   "source": [
    "### XGBoost"
   ]
  },
  {
   "cell_type": "code",
   "execution_count": 20,
   "metadata": {},
   "outputs": [
    {
     "name": "stdout",
     "output_type": "stream",
     "text": [
      "The best hyperparameters are: {'learning_rate': 0.1, 'max_depth': 4, 'n_estimators': 100}\n"
     ]
    }
   ],
   "source": [
    "xgb_grid = {'learning_rate':  [0.01, 0.1], \n",
    "            'max_depth': [2, 4],\n",
    "            'n_estimators': [50, 100]\n",
    "           }\n",
    "# define the model \n",
    "xgb_regr = XGBRegressor(random_state = 12345)\n",
    "\n",
    "# define the grid search\n",
    "grid_search_xgb = GridSearchCV(\n",
    "    estimator = xgb_regr, \n",
    "    param_grid = xgb_grid, \n",
    "    scoring = \"neg_mean_squared_error\", \n",
    "    cv = tscv, \n",
    "    n_jobs = 1\n",
    ")\n",
    "# execute search\n",
    "grid_search_xgb.fit(features_train, target_train)\n",
    "# summarize result\n",
    "print('The best hyperparameters are: {}'.format(grid_search_xgb.best_params_))"
   ]
  },
  {
   "cell_type": "code",
   "execution_count": 21,
   "metadata": {},
   "outputs": [
    {
     "data": {
      "text/plain": [
       "XGBRegressor(base_score=0.5, booster='gbtree', colsample_bylevel=1,\n",
       "             colsample_bynode=1, colsample_bytree=1, enable_categorical=False,\n",
       "             gamma=0, gpu_id=-1, importance_type=None,\n",
       "             interaction_constraints='', learning_rate=0.1, max_delta_step=0,\n",
       "             max_depth=4, min_child_weight=1, missing=nan,\n",
       "             monotone_constraints='()', n_estimators=100, n_jobs=4,\n",
       "             num_parallel_tree=1, predictor='auto', random_state=0, reg_alpha=0,\n",
       "             reg_lambda=1, scale_pos_weight=1, subsample=1, tree_method='exact',\n",
       "             validate_parameters=1, verbosity=None)"
      ]
     },
     "execution_count": 21,
     "metadata": {},
     "output_type": "execute_result"
    }
   ],
   "source": [
    "xgb_model = XGBRegressor(**grid_search_xgb.best_params_)\n",
    "\n",
    "xgb_model.fit(features_train, target_train)"
   ]
  },
  {
   "cell_type": "code",
   "execution_count": 22,
   "metadata": {},
   "outputs": [
    {
     "name": "stdout",
     "output_type": "stream",
     "text": [
      "\u001b[1mRMSE using XGBoost Regressor\u001b[0m\n",
      "RMSE: 32.918\n"
     ]
    }
   ],
   "source": [
    "xgb_pred = xgb_model.predict(features_valid)\n",
    "    \n",
    "xgb_rmse = rmse(target_valid, xgb_pred)\n",
    "print(\"\\033[1m\" + 'RMSE using XGBoost Regressor' + \"\\033[0m\")\n",
    "print('RMSE: {:.3f}'.format(xgb_rmse))"
   ]
  },
  {
   "cell_type": "markdown",
   "metadata": {},
   "source": [
    "<div class=\"alert alert-danger\">\n",
    "<s><b>Reviewer's comment</b>\n",
    "\n",
    "Three problems:\n",
    "    \n",
    "1. The test set should only be used to evaluate the final model after we're done with model selection, hyperparameter tuning, etc. If we use the test set to make any decisions about the models, the final model's test set score will be overly optimistic.\n",
    "    \n",
    "2. Train set score is not useful to compare the models: it only tells us how well the model memorized the train set, but not how well it will generalize to new data. That's why we need to use either a separate validation set or cross-validation to compare the models and tune hyperparameters.\n",
    "\n",
    "3. The default k-fold cross-validation is not appropriate for time series models: due to mixing of train and validation data in all folds but one it causes data leakage. The solution is to use a different split: [TimeSeriesSplit](http://scikit-learn.org/stable/modules/generated/sklearn.model_selection.TimeSeriesSplit.html) (you can just pass an object of this class as the `cv` parameter to `GridSearchCV`, `cross_val_score` and so on)\n",
    "\n",
    "</div>"
   ]
  },
  {
   "cell_type": "markdown",
   "metadata": {},
   "source": [
    "<div class=\"alert alert-warning\">\n",
    "<b>Reviewer's comment V2</b>\n",
    "\n",
    "The problems were fixed!\n",
    "   \n",
    "Note that if you use cross-validation anyway, you could just take the `best_score_` of the grid search object and use it to compare the models (it contains the cross-validation score of the best model) instead of using a separate validation set. For linear regression you can use `cross_val_score` with a time series split.\n",
    "\n",
    "</div>"
   ]
  },
  {
   "cell_type": "markdown",
   "metadata": {},
   "source": [
    "## Final test\n",
    "I will perform the final test using the test dataset on the random forest regressor because it provided me with the best score in training. I will retrain the model on the concatonated training and validation datasets. "
   ]
  },
  {
   "cell_type": "code",
   "execution_count": 23,
   "metadata": {},
   "outputs": [
    {
     "name": "stdout",
     "output_type": "stream",
     "text": [
      "3952\n"
     ]
    },
    {
     "data": {
      "text/html": [
       "<div>\n",
       "<style scoped>\n",
       "    .dataframe tbody tr th:only-of-type {\n",
       "        vertical-align: middle;\n",
       "    }\n",
       "\n",
       "    .dataframe tbody tr th {\n",
       "        vertical-align: top;\n",
       "    }\n",
       "\n",
       "    .dataframe thead th {\n",
       "        text-align: right;\n",
       "    }\n",
       "</style>\n",
       "<table border=\"1\" class=\"dataframe\">\n",
       "  <thead>\n",
       "    <tr style=\"text-align: right;\">\n",
       "      <th></th>\n",
       "      <th>hour</th>\n",
       "      <th>month</th>\n",
       "      <th>day</th>\n",
       "      <th>dayofweek</th>\n",
       "      <th>previous_day</th>\n",
       "      <th>lag_1</th>\n",
       "      <th>lag_2</th>\n",
       "      <th>lag_3</th>\n",
       "      <th>lag_4</th>\n",
       "      <th>lag_5</th>\n",
       "      <th>lag_6</th>\n",
       "      <th>rolling_mean</th>\n",
       "    </tr>\n",
       "    <tr>\n",
       "      <th>datetime</th>\n",
       "      <th></th>\n",
       "      <th></th>\n",
       "      <th></th>\n",
       "      <th></th>\n",
       "      <th></th>\n",
       "      <th></th>\n",
       "      <th></th>\n",
       "      <th></th>\n",
       "      <th></th>\n",
       "      <th></th>\n",
       "      <th></th>\n",
       "      <th></th>\n",
       "    </tr>\n",
       "  </thead>\n",
       "  <tbody>\n",
       "    <tr>\n",
       "      <th>2018-07-28 04:00:00</th>\n",
       "      <td>4</td>\n",
       "      <td>7</td>\n",
       "      <td>28</td>\n",
       "      <td>5</td>\n",
       "      <td>109.0</td>\n",
       "      <td>132.0</td>\n",
       "      <td>145.0</td>\n",
       "      <td>195.0</td>\n",
       "      <td>192.0</td>\n",
       "      <td>122.0</td>\n",
       "      <td>213.0</td>\n",
       "      <td>161.714286</td>\n",
       "    </tr>\n",
       "    <tr>\n",
       "      <th>2018-07-28 05:00:00</th>\n",
       "      <td>5</td>\n",
       "      <td>7</td>\n",
       "      <td>28</td>\n",
       "      <td>5</td>\n",
       "      <td>64.0</td>\n",
       "      <td>215.0</td>\n",
       "      <td>132.0</td>\n",
       "      <td>145.0</td>\n",
       "      <td>195.0</td>\n",
       "      <td>192.0</td>\n",
       "      <td>122.0</td>\n",
       "      <td>173.428571</td>\n",
       "    </tr>\n",
       "    <tr>\n",
       "      <th>2018-07-28 06:00:00</th>\n",
       "      <td>6</td>\n",
       "      <td>7</td>\n",
       "      <td>28</td>\n",
       "      <td>5</td>\n",
       "      <td>78.0</td>\n",
       "      <td>91.0</td>\n",
       "      <td>215.0</td>\n",
       "      <td>132.0</td>\n",
       "      <td>145.0</td>\n",
       "      <td>195.0</td>\n",
       "      <td>192.0</td>\n",
       "      <td>156.000000</td>\n",
       "    </tr>\n",
       "    <tr>\n",
       "      <th>2018-07-28 07:00:00</th>\n",
       "      <td>7</td>\n",
       "      <td>7</td>\n",
       "      <td>28</td>\n",
       "      <td>5</td>\n",
       "      <td>44.0</td>\n",
       "      <td>44.0</td>\n",
       "      <td>91.0</td>\n",
       "      <td>215.0</td>\n",
       "      <td>132.0</td>\n",
       "      <td>145.0</td>\n",
       "      <td>195.0</td>\n",
       "      <td>144.857143</td>\n",
       "    </tr>\n",
       "    <tr>\n",
       "      <th>2018-07-28 08:00:00</th>\n",
       "      <td>8</td>\n",
       "      <td>7</td>\n",
       "      <td>28</td>\n",
       "      <td>5</td>\n",
       "      <td>89.0</td>\n",
       "      <td>39.0</td>\n",
       "      <td>44.0</td>\n",
       "      <td>91.0</td>\n",
       "      <td>215.0</td>\n",
       "      <td>132.0</td>\n",
       "      <td>145.0</td>\n",
       "      <td>123.000000</td>\n",
       "    </tr>\n",
       "  </tbody>\n",
       "</table>\n",
       "</div>"
      ],
      "text/plain": [
       "                     hour  month  day  dayofweek  previous_day  lag_1  lag_2  \\\n",
       "datetime                                                                       \n",
       "2018-07-28 04:00:00     4      7   28          5         109.0  132.0  145.0   \n",
       "2018-07-28 05:00:00     5      7   28          5          64.0  215.0  132.0   \n",
       "2018-07-28 06:00:00     6      7   28          5          78.0   91.0  215.0   \n",
       "2018-07-28 07:00:00     7      7   28          5          44.0   44.0   91.0   \n",
       "2018-07-28 08:00:00     8      7   28          5          89.0   39.0   44.0   \n",
       "\n",
       "                     lag_3  lag_4  lag_5  lag_6  rolling_mean  \n",
       "datetime                                                       \n",
       "2018-07-28 04:00:00  195.0  192.0  122.0  213.0    161.714286  \n",
       "2018-07-28 05:00:00  145.0  195.0  192.0  122.0    173.428571  \n",
       "2018-07-28 06:00:00  132.0  145.0  195.0  192.0    156.000000  \n",
       "2018-07-28 07:00:00  215.0  132.0  145.0  195.0    144.857143  \n",
       "2018-07-28 08:00:00   91.0  215.0  132.0  145.0    123.000000  "
      ]
     },
     "execution_count": 23,
     "metadata": {},
     "output_type": "execute_result"
    }
   ],
   "source": [
    "features_train_test=pd.concat([features_valid, features_train])\n",
    "\n",
    "print(features_train_test.shape[0])\n",
    "\n",
    "features_train_test.head()"
   ]
  },
  {
   "cell_type": "code",
   "execution_count": 24,
   "metadata": {},
   "outputs": [],
   "source": [
    "target_train_test=pd.concat([target_valid, target_train])"
   ]
  },
  {
   "cell_type": "code",
   "execution_count": 25,
   "metadata": {},
   "outputs": [
    {
     "name": "stdout",
     "output_type": "stream",
     "text": [
      "3952\n"
     ]
    },
    {
     "data": {
      "text/plain": [
       "datetime\n",
       "2018-07-28 04:00:00    215\n",
       "2018-07-28 05:00:00     91\n",
       "2018-07-28 06:00:00     44\n",
       "2018-07-28 07:00:00     39\n",
       "2018-07-28 08:00:00     73\n",
       "Name: num_orders, dtype: int64"
      ]
     },
     "execution_count": 25,
     "metadata": {},
     "output_type": "execute_result"
    }
   ],
   "source": [
    "print(target_train_test.shape[0])\n",
    "\n",
    "target_train_test.head()"
   ]
  },
  {
   "cell_type": "code",
   "execution_count": 26,
   "metadata": {},
   "outputs": [
    {
     "name": "stdout",
     "output_type": "stream",
     "text": [
      "Random Forest Regressor Final RMSE : 44.20187726877742\n"
     ]
    }
   ],
   "source": [
    "rf_model.fit(features_train_test, target_train_test)\n",
    "rf_pred_test = rf_model.predict(features_test)\n",
    "\n",
    "rf_rmse_test = rmse(target_test, rf_pred_test)\n",
    "\n",
    "print(\"Random Forest Regressor Final RMSE :\", rf_rmse_test)"
   ]
  },
  {
   "cell_type": "markdown",
   "metadata": {},
   "source": [
    "<div class=\"alert alert-success\">\n",
    "<b>Reviewer's comment</b>\n",
    "\n",
    "The final model was evaluated on the test set.\n",
    "\n",
    "</div>"
   ]
  },
  {
   "cell_type": "markdown",
   "metadata": {},
   "source": [
    "# Conclusion\n",
    "The Random Forest Regressor provided a final score of 44.2on the final test. This is above the threshold of 48 that our client has set. I tested many different models with hyperparameter tuning, however, I was unable to get a test result of 48 or below. I believe I may be able to achieve a better result with a larger test set.  "
   ]
  },
  {
   "cell_type": "markdown",
   "metadata": {},
   "source": [
    "<div class=\"alert alert-danger\">\n",
    "<s><b>Reviewer's comment V2</b>\n",
    "\n",
    "Not sure how a larget test set is supposed to help get better results :)\n",
    "    \n",
    "Getting RMSE lower than 48 is a requirement in this project though. One suggestion I have is to refit the final model on the combined train+validation data before evaluating it on the test set. Now you have a gap between train and test data which may be problematic for time series models (especially if there is a growing trend which you observed).\n",
    "\n",
    "</div>\n",
    "\n",
    "Thank you so much, I was absolutely at a loss. That worked! -Johannah "
   ]
  },
  {
   "cell_type": "markdown",
   "metadata": {},
   "source": [
    "<div class=\"alert alert-success\">\n",
    "<b>Reviewer's comment V3</b>\n",
    "\n",
    "You're welcome! :)\n",
    "\n",
    "</div>"
   ]
  },
  {
   "cell_type": "markdown",
   "metadata": {},
   "source": [
    "# Review checklist"
   ]
  },
  {
   "cell_type": "markdown",
   "metadata": {},
   "source": [
    "- [x]  Jupyter Notebook is open\n",
    "- [ ]  The code is error-free\n",
    "- [ ]  The cells with the code have been arranged in order of execution\n",
    "- [ ]  The data has been downloaded and prepared\n",
    "- [ ]  The data has been analyzed\n",
    "- [ ]  The model has been trained and hyperparameters have been selected\n",
    "- [ ]  The models have been evaluated. Conclusion has been provided\n",
    "- [ ] *RMSE* for the test set is not more than 48"
   ]
  }
 ],
 "metadata": {
  "kernelspec": {
   "display_name": "Python 3 (ipykernel)",
   "language": "python",
   "name": "python3"
  },
  "language_info": {
   "codemirror_mode": {
    "name": "ipython",
    "version": 3
   },
   "file_extension": ".py",
   "mimetype": "text/x-python",
   "name": "python",
   "nbconvert_exporter": "python",
   "pygments_lexer": "ipython3",
   "version": "3.9.5"
  },
  "toc": {
   "base_numbering": 1,
   "nav_menu": {},
   "number_sections": true,
   "sideBar": true,
   "skip_h1_title": true,
   "title_cell": "Table of Contents",
   "title_sidebar": "Contents",
   "toc_cell": false,
   "toc_position": {},
   "toc_section_display": true,
   "toc_window_display": false
  }
 },
 "nbformat": 4,
 "nbformat_minor": 2
}
