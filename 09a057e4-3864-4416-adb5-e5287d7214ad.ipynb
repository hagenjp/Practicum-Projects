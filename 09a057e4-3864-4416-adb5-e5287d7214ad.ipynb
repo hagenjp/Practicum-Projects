{
 "cells": [
  {
   "cell_type": "markdown",
   "metadata": {},
   "source": [
    "<div style=\"border:solid green 2px; padding: 20px\"> \n",
    "    \n",
    "Hello Johannah, \n",
    "    \n",
    "    \n",
    "my name is Aleksandra. I'm going to review your project! Nice to meet you! 🙌\n",
    "\n",
    "You can find my comments under the heading **«Review»**. I will categorize my comments in green, blue or red boxes like this:\n",
    "\n",
    "<div class=\"alert alert-success\">\n",
    "    <b>Success:</b> if everything is done successfully\n",
    "</div>\n",
    "<div class=\"alert alert-warning\">\n",
    "    <b>Remarks:</b> if I can give some recommendations or ways to improve the project\n",
    "</div>\n",
    "<div class=\"alert alert-danger\">\n",
    "    <b>Needs fixing:</b> if the block requires some corrections. Work can't be accepted with the red comments\n",
    "</div>\n",
    "\n",
    "Please don't remove my comments :) If you have any questions don't hesitate to respond to my comments in a different section. "
   ]
  },
  {
   "cell_type": "markdown",
   "metadata": {},
   "source": [
    "<div class=\"alert alert-block alert-success\">\n",
    "<b>Overall reviewer's comment v1</b> <a class=\"tocSkip\"></a>\n",
    "    \n",
    "    \n",
    "Johannah, thanks a lot for the project! Great job! I can see that a lot of efforts have been made, and it turned out to be very strong. You work very carefully with data and you make qualitative assumptions - like a real analyst. Let's fix some points:\n",
    "    \n",
    "- sort list of unique genres\n",
    "- work withh groupby\n",
    "    \n",
    "I left guidance comments as we went along. I would like to give your project back, so that you could ask questions if any. Will look forward to you work! "
   ]
  },
  {
   "cell_type": "markdown",
   "metadata": {},
   "source": [
    "<div class=\"alert alert-block alert-success\">\n",
    "<b>Overall reviewer's comment v2</b> <a class=\"tocSkip\"></a>\n",
    "    \n",
    "Johannah, thanks again for the project!  I see you have no questions. If you have some in the future, feel free to ask me through your tutor. Good luck at next steps! "
   ]
  },
  {
   "cell_type": "markdown",
   "metadata": {
    "id": "E0vqbgi9ay0H"
   },
   "source": [
    "# Yandex.Music"
   ]
  },
  {
   "cell_type": "markdown",
   "metadata": {
    "id": "fhq_eyov_Zcs"
   },
   "source": [
    "# Contents <a id='back'></a>\n",
    "\n",
    "* [Introduction](#intro)\n",
    "* [Stage 1. Data overview](#data_review)\n",
    "    * [Conclusions](#data_review_conclusions)\n",
    "* [Stage 2. Data preprocessing](#data_preprocessing)\n",
    "    * [2.1 Header style](#header_style)\n",
    "    * [2.2 Missing values](#missing_values)\n",
    "    * [2.3 Duplicates](#duplicates)\n",
    "    * [2.4 Conclusions](#data_preprocessing_conclusions)\n",
    "* [Stage 3. Testing the hypotheses](#hypotheses)\n",
    "    * [3.1 Hypothesis 1: user activity in the two cities](#activity)\n",
    "    * [3.2 Hypothesis 2: music preferences on Monday and Friday](#week)\n",
    "    * [3.3 Hypothesis 3: genre preferences in Springfield and Shelbyville](#genre)\n",
    "* [Findings](#end)"
   ]
  },
  {
   "cell_type": "markdown",
   "metadata": {
    "id": "VUC88oWjTJw2"
   },
   "source": [
    "## Introduction <a id='intro'></a>\n",
    "Whenever we're doing research, we need to formulate hypotheses that we can then test. Sometimes we accept these hypotheses; other times, we reject them. To make the right decisions, a business must be able to understand whether or not it's making the right assumptions.\n",
    "\n",
    "In this project, you'll compare the music preferences of the cities of Springfield and Shelbyville. You'll study real Yandex.Music data to test the hypotheses below and compare user behavior for these two cities.\n",
    "\n",
    "### Goal: \n",
    "Test three hypotheses:\n",
    "1. User activity differs depending on the day of the week and from city to city. \n",
    "2. On Monday mornings, Springfield and Shelbyville residents listen to different genres. This is also true for Friday evenings. \n",
    "3. Springfield and Shelbyville listeners have different preferences. In Springfield, they prefer pop, while Shelbyville has more rap fans.\n",
    "\n",
    "### Stages \n",
    "Data on user behavior is stored in the file `/datasets/music_project_en.csv`. There is no information about the quality of the data, so you will need to explore it before testing the hypotheses. \n",
    "\n",
    "First, you'll evaluate the quality of the data and see whether its issues are significant. Then, during data preprocessing, you will try to account for the most critical problems.\n",
    " \n",
    "Your project will consist of three stages:\n",
    " 1. Data overview\n",
    " 2. Data preprocessing\n",
    " 3. Testing the hypotheses\n",
    " \n",
    "[Back to Contents](#back)"
   ]
  },
  {
   "cell_type": "markdown",
   "metadata": {},
   "source": [
    "<div class=\"alert alert-block alert-warning\">\n",
    "<b>Reviewer's comment v1</b> Please note, it is very important to start any projet like this"
   ]
  },
  {
   "cell_type": "markdown",
   "metadata": {
    "id": "Ml1hmfXC_Zcs"
   },
   "source": [
    "## Stage 1. Data overview <a id='data_review'></a>\n",
    "\n",
    "Open the data on Yandex.Music and explore it."
   ]
  },
  {
   "cell_type": "markdown",
   "metadata": {
    "id": "57eAOGIz_Zcs"
   },
   "source": [
    "You'll need `pandas`, so import it."
   ]
  },
  {
   "cell_type": "code",
   "execution_count": 1,
   "metadata": {
    "id": "AXN7PHPN_Zcs"
   },
   "outputs": [],
   "source": [
    "import pandas as pd"
   ]
  },
  {
   "cell_type": "markdown",
   "metadata": {},
   "source": [
    "<div class=\"alert alert-block alert-success\">\n",
    "<b>Reviewer's comment v1</b>\n",
    "    \n",
    "Cool that you use the abbreviation pd for Pandas, it is a common abbreviation for this library for convenient further work. "
   ]
  },
  {
   "cell_type": "markdown",
   "metadata": {
    "id": "SG23P8tt_Zcs"
   },
   "source": [
    "Read the file `music_project_en.csv` from the `/datasets/` folder and save it in the `df` variable:"
   ]
  },
  {
   "cell_type": "code",
   "execution_count": 2,
   "metadata": {
    "id": "fFVu7vqh_Zct"
   },
   "outputs": [],
   "source": [
    "df = pd.read_csv('/datasets/music_project_en.csv')\n",
    "\n"
   ]
  },
  {
   "cell_type": "markdown",
   "metadata": {},
   "source": [
    "<div class=\"alert alert-block alert-success\">\n",
    "<b>Reviewer's comment v1</b>\n",
    "\n",
    "The correct path to the file is specified: the slash at the beginning of the path is very important because it indicates that you should search for the file in the root folder."
   ]
  },
  {
   "cell_type": "markdown",
   "metadata": {
    "id": "rDoOMd3uTqnZ"
   },
   "source": [
    "Print the first 10 table rows:"
   ]
  },
  {
   "cell_type": "code",
   "execution_count": 3,
   "metadata": {
    "id": "oWTVX3gW_Zct"
   },
   "outputs": [
    {
     "data": {
      "text/html": [
       "<div>\n",
       "<style scoped>\n",
       "    .dataframe tbody tr th:only-of-type {\n",
       "        vertical-align: middle;\n",
       "    }\n",
       "\n",
       "    .dataframe tbody tr th {\n",
       "        vertical-align: top;\n",
       "    }\n",
       "\n",
       "    .dataframe thead th {\n",
       "        text-align: right;\n",
       "    }\n",
       "</style>\n",
       "<table border=\"1\" class=\"dataframe\">\n",
       "  <thead>\n",
       "    <tr style=\"text-align: right;\">\n",
       "      <th></th>\n",
       "      <th>userID</th>\n",
       "      <th>Track</th>\n",
       "      <th>artist</th>\n",
       "      <th>genre</th>\n",
       "      <th>City</th>\n",
       "      <th>time</th>\n",
       "      <th>Day</th>\n",
       "    </tr>\n",
       "  </thead>\n",
       "  <tbody>\n",
       "    <tr>\n",
       "      <th>0</th>\n",
       "      <td>FFB692EC</td>\n",
       "      <td>Kamigata To Boots</td>\n",
       "      <td>The Mass Missile</td>\n",
       "      <td>rock</td>\n",
       "      <td>Shelbyville</td>\n",
       "      <td>20:28:33</td>\n",
       "      <td>Wednesday</td>\n",
       "    </tr>\n",
       "    <tr>\n",
       "      <th>1</th>\n",
       "      <td>55204538</td>\n",
       "      <td>Delayed Because of Accident</td>\n",
       "      <td>Andreas Rönnberg</td>\n",
       "      <td>rock</td>\n",
       "      <td>Springfield</td>\n",
       "      <td>14:07:09</td>\n",
       "      <td>Friday</td>\n",
       "    </tr>\n",
       "    <tr>\n",
       "      <th>2</th>\n",
       "      <td>20EC38</td>\n",
       "      <td>Funiculì funiculà</td>\n",
       "      <td>Mario Lanza</td>\n",
       "      <td>pop</td>\n",
       "      <td>Shelbyville</td>\n",
       "      <td>20:58:07</td>\n",
       "      <td>Wednesday</td>\n",
       "    </tr>\n",
       "    <tr>\n",
       "      <th>3</th>\n",
       "      <td>A3DD03C9</td>\n",
       "      <td>Dragons in the Sunset</td>\n",
       "      <td>Fire + Ice</td>\n",
       "      <td>folk</td>\n",
       "      <td>Shelbyville</td>\n",
       "      <td>08:37:09</td>\n",
       "      <td>Monday</td>\n",
       "    </tr>\n",
       "    <tr>\n",
       "      <th>4</th>\n",
       "      <td>E2DC1FAE</td>\n",
       "      <td>Soul People</td>\n",
       "      <td>Space Echo</td>\n",
       "      <td>dance</td>\n",
       "      <td>Springfield</td>\n",
       "      <td>08:34:34</td>\n",
       "      <td>Monday</td>\n",
       "    </tr>\n",
       "    <tr>\n",
       "      <th>5</th>\n",
       "      <td>842029A1</td>\n",
       "      <td>Chains</td>\n",
       "      <td>Obladaet</td>\n",
       "      <td>rusrap</td>\n",
       "      <td>Shelbyville</td>\n",
       "      <td>13:09:41</td>\n",
       "      <td>Friday</td>\n",
       "    </tr>\n",
       "    <tr>\n",
       "      <th>6</th>\n",
       "      <td>4CB90AA5</td>\n",
       "      <td>True</td>\n",
       "      <td>Roman Messer</td>\n",
       "      <td>dance</td>\n",
       "      <td>Springfield</td>\n",
       "      <td>13:00:07</td>\n",
       "      <td>Wednesday</td>\n",
       "    </tr>\n",
       "    <tr>\n",
       "      <th>7</th>\n",
       "      <td>F03E1C1F</td>\n",
       "      <td>Feeling This Way</td>\n",
       "      <td>Polina Griffith</td>\n",
       "      <td>dance</td>\n",
       "      <td>Springfield</td>\n",
       "      <td>20:47:49</td>\n",
       "      <td>Wednesday</td>\n",
       "    </tr>\n",
       "    <tr>\n",
       "      <th>8</th>\n",
       "      <td>8FA1D3BE</td>\n",
       "      <td>L’estate</td>\n",
       "      <td>Julia Dalia</td>\n",
       "      <td>ruspop</td>\n",
       "      <td>Springfield</td>\n",
       "      <td>09:17:40</td>\n",
       "      <td>Friday</td>\n",
       "    </tr>\n",
       "    <tr>\n",
       "      <th>9</th>\n",
       "      <td>E772D5C0</td>\n",
       "      <td>Pessimist</td>\n",
       "      <td>NaN</td>\n",
       "      <td>dance</td>\n",
       "      <td>Shelbyville</td>\n",
       "      <td>21:20:49</td>\n",
       "      <td>Wednesday</td>\n",
       "    </tr>\n",
       "  </tbody>\n",
       "</table>\n",
       "</div>"
      ],
      "text/plain": [
       "     userID                        Track            artist   genre  \\\n",
       "0  FFB692EC            Kamigata To Boots  The Mass Missile    rock   \n",
       "1  55204538  Delayed Because of Accident  Andreas Rönnberg    rock   \n",
       "2    20EC38            Funiculì funiculà       Mario Lanza     pop   \n",
       "3  A3DD03C9        Dragons in the Sunset        Fire + Ice    folk   \n",
       "4  E2DC1FAE                  Soul People        Space Echo   dance   \n",
       "5  842029A1                       Chains          Obladaet  rusrap   \n",
       "6  4CB90AA5                         True      Roman Messer   dance   \n",
       "7  F03E1C1F             Feeling This Way   Polina Griffith   dance   \n",
       "8  8FA1D3BE                     L’estate       Julia Dalia  ruspop   \n",
       "9  E772D5C0                    Pessimist               NaN   dance   \n",
       "\n",
       "        City        time        Day  \n",
       "0  Shelbyville  20:28:33  Wednesday  \n",
       "1  Springfield  14:07:09     Friday  \n",
       "2  Shelbyville  20:58:07  Wednesday  \n",
       "3  Shelbyville  08:37:09     Monday  \n",
       "4  Springfield  08:34:34     Monday  \n",
       "5  Shelbyville  13:09:41     Friday  \n",
       "6  Springfield  13:00:07  Wednesday  \n",
       "7  Springfield  20:47:49  Wednesday  \n",
       "8  Springfield  09:17:40     Friday  \n",
       "9  Shelbyville  21:20:49  Wednesday  "
      ]
     },
     "execution_count": 3,
     "metadata": {},
     "output_type": "execute_result"
    }
   ],
   "source": [
    "df.head(10)"
   ]
  },
  {
   "cell_type": "markdown",
   "metadata": {},
   "source": [
    "<div class=\"alert alert-block alert-success\">\n",
    "<b>Reviewer's comment v1</b>\n",
    "\n",
    "Good work with head(). A tail() method exists for last rows of the table."
   ]
  },
  {
   "cell_type": "markdown",
   "metadata": {
    "id": "EO73Kwic_Zct"
   },
   "source": [
    "Obtaining the general information about the table with one command:"
   ]
  },
  {
   "cell_type": "code",
   "execution_count": 4,
   "metadata": {
    "id": "DSf2kIb-_Zct"
   },
   "outputs": [
    {
     "data": {
      "text/html": [
       "<div>\n",
       "<style scoped>\n",
       "    .dataframe tbody tr th:only-of-type {\n",
       "        vertical-align: middle;\n",
       "    }\n",
       "\n",
       "    .dataframe tbody tr th {\n",
       "        vertical-align: top;\n",
       "    }\n",
       "\n",
       "    .dataframe thead th {\n",
       "        text-align: right;\n",
       "    }\n",
       "</style>\n",
       "<table border=\"1\" class=\"dataframe\">\n",
       "  <thead>\n",
       "    <tr style=\"text-align: right;\">\n",
       "      <th></th>\n",
       "      <th>userID</th>\n",
       "      <th>Track</th>\n",
       "      <th>artist</th>\n",
       "      <th>genre</th>\n",
       "      <th>City</th>\n",
       "      <th>time</th>\n",
       "      <th>Day</th>\n",
       "    </tr>\n",
       "  </thead>\n",
       "  <tbody>\n",
       "    <tr>\n",
       "      <th>count</th>\n",
       "      <td>65079</td>\n",
       "      <td>63736</td>\n",
       "      <td>57512</td>\n",
       "      <td>63881</td>\n",
       "      <td>65079</td>\n",
       "      <td>65079</td>\n",
       "      <td>65079</td>\n",
       "    </tr>\n",
       "    <tr>\n",
       "      <th>unique</th>\n",
       "      <td>41748</td>\n",
       "      <td>39666</td>\n",
       "      <td>37806</td>\n",
       "      <td>268</td>\n",
       "      <td>2</td>\n",
       "      <td>20392</td>\n",
       "      <td>3</td>\n",
       "    </tr>\n",
       "    <tr>\n",
       "      <th>top</th>\n",
       "      <td>A8AE9169</td>\n",
       "      <td>Brand</td>\n",
       "      <td>Kartvelli</td>\n",
       "      <td>pop</td>\n",
       "      <td>Springfield</td>\n",
       "      <td>08:14:07</td>\n",
       "      <td>Friday</td>\n",
       "    </tr>\n",
       "    <tr>\n",
       "      <th>freq</th>\n",
       "      <td>76</td>\n",
       "      <td>136</td>\n",
       "      <td>136</td>\n",
       "      <td>8850</td>\n",
       "      <td>45360</td>\n",
       "      <td>14</td>\n",
       "      <td>23149</td>\n",
       "    </tr>\n",
       "  </tbody>\n",
       "</table>\n",
       "</div>"
      ],
      "text/plain": [
       "          userID  Track     artist  genre       City        time     Day\n",
       "count      65079  63736      57512  63881        65079     65079   65079\n",
       "unique     41748  39666      37806    268            2     20392       3\n",
       "top     A8AE9169  Brand  Kartvelli    pop  Springfield  08:14:07  Friday\n",
       "freq          76    136        136   8850        45360        14   23149"
      ]
     },
     "execution_count": 4,
     "metadata": {},
     "output_type": "execute_result"
    }
   ],
   "source": [
    "df.describe()"
   ]
  },
  {
   "cell_type": "markdown",
   "metadata": {},
   "source": [
    "<div class=\"alert alert-block alert-success\">\n",
    "<b>Reviewer's comment v1</b>\n",
    "\n",
    "Excellent choice of method. We could also use info() - it really shows a lot of information about dataframe."
   ]
  },
  {
   "cell_type": "markdown",
   "metadata": {
    "id": "TaQ2Iwbr_Zct"
   },
   "source": [
    "The table contains seven columns. They all store the same data type: `object`.\n",
    "\n",
    "According to the documentation:\n",
    "- `'userID'` — user identifier\n",
    "- `'Track'` — track title\n",
    "- `'artist'` — artist's name\n",
    "- `'genre'`\n",
    "- `'City'` — user's city\n",
    "- `'time'` — the exact time the track was played\n",
    "- `'Day'` — day of the week\n",
    "\n",
    "We can see three issues with style in the column names:\n",
    "1. Some names are uppercase, some are lowercase.\n",
    "2. There are spaces in some names.\n",
    "3. `'Day' and 'Time' are not specific enough`.\n",
    "\n",
    "The number of column values is different. This means the data contains missing values.\n"
   ]
  },
  {
   "cell_type": "markdown",
   "metadata": {},
   "source": [
    "<div class=\"alert alert-block alert-success\">\n",
    "<b>Reviewer's comment v1</b>\n",
    "\n",
    "Correct answer to the question!  And we are also dealing with snake_case - in 'userID' column"
   ]
  },
  {
   "cell_type": "markdown",
   "metadata": {
    "id": "MCB6-dXG_Zct"
   },
   "source": [
    "### Conclusions <a id='data_review_conclusions'></a> \n",
    "\n",
    "Each row in the table stores data on a track that was played. Some columns describe the track itself: its title, artist and genre. The rest convey information about the user: the city they come from, the time they played the track. \n",
    "\n",
    "It's clear that the data is sufficient to test the hypotheses. However, there are missing values.\n",
    "\n",
    "To move forward, we need to preprocess the data."
   ]
  },
  {
   "cell_type": "markdown",
   "metadata": {
    "id": "3eL__vcwViOi"
   },
   "source": [
    "[Back to Contents](#back)"
   ]
  },
  {
   "cell_type": "markdown",
   "metadata": {
    "id": "SjYF6Ub9_Zct"
   },
   "source": [
    "## Stage 2. Data preprocessing <a id='data_preprocessing'></a>\n",
    "Correct the formatting in the column headers and deal with the missing values. Then, check whether there are duplicates in the data."
   ]
  },
  {
   "cell_type": "markdown",
   "metadata": {
    "id": "dIaKXr29_Zct"
   },
   "source": [
    "### Header style <a id='header_style'></a>\n",
    "Print the column header:"
   ]
  },
  {
   "cell_type": "code",
   "execution_count": 5,
   "metadata": {
    "id": "oKOTdF_Q_Zct"
   },
   "outputs": [
    {
     "data": {
      "text/plain": [
       "Index(['  userID', 'Track', 'artist', 'genre', '  City  ', 'time', 'Day'], dtype='object')"
      ]
     },
     "execution_count": 5,
     "metadata": {},
     "output_type": "execute_result"
    }
   ],
   "source": [
    "df.columns\n",
    "# the list of column names in the df table"
   ]
  },
  {
   "cell_type": "markdown",
   "metadata": {},
   "source": [
    "<div class=\"alert alert-block alert-success\">\n",
    "<b>Reviewer's comment v1</b>\n",
    "\n",
    "Great! To display columns on the screen, you do not need to use the print() function: the result will be displayed as it is the last line of the cell."
   ]
  },
  {
   "cell_type": "markdown",
   "metadata": {
    "id": "zj5534cv_Zct"
   },
   "source": [
    "Change column names according to the rules of good style:\n",
    "* If the name has several words, use snake_case\n",
    "* All characters must be lowercase\n",
    "* Delete spaces"
   ]
  },
  {
   "cell_type": "code",
   "execution_count": 6,
   "metadata": {
    "id": "ISlFqs5y_Zct"
   },
   "outputs": [],
   "source": [
    "# renaming columns\n",
    "df = df.rename(\n",
    "    columns={\n",
    "        '  userID':'user_id',\n",
    "        'Track':'track',\n",
    "        '  City  ':'city',\n",
    "        'time':'time',\n",
    "        'Day':'day',\n",
    "    }\n",
    ")"
   ]
  },
  {
   "cell_type": "markdown",
   "metadata": {},
   "source": [
    "<div class=\"alert alert-block alert-success\">\n",
    "<b>Reviewer's comment v1</b> \n",
    "\n",
    "A good choice of method - rename works without errors, even if the order of the columns changes."
   ]
  },
  {
   "cell_type": "markdown",
   "metadata": {
    "id": "1dqbh00J_Zct"
   },
   "source": [
    "Check the result. Print the names of the columns once more:"
   ]
  },
  {
   "cell_type": "code",
   "execution_count": 7,
   "metadata": {
    "id": "d4NOAmTW_Zct"
   },
   "outputs": [
    {
     "data": {
      "text/plain": [
       "Index(['user_id', 'track', 'artist', 'genre', 'city', 'time', 'day'], dtype='object')"
      ]
     },
     "execution_count": 7,
     "metadata": {},
     "output_type": "execute_result"
    }
   ],
   "source": [
    "# checking result: the list of column names\n",
    "df.columns"
   ]
  },
  {
   "cell_type": "markdown",
   "metadata": {
    "id": "xYJk6ksJVpOl"
   },
   "source": [
    "[Back to Contents](#back)"
   ]
  },
  {
   "cell_type": "markdown",
   "metadata": {
    "id": "5ISfbcfY_Zct"
   },
   "source": [
    "### Missing values <a id='missing_values'></a>\n",
    "First, find the number of missing values in the table. To do so, use two `pandas` methods:"
   ]
  },
  {
   "cell_type": "code",
   "execution_count": 8,
   "metadata": {
    "id": "RskX29qr_Zct",
    "scrolled": true
   },
   "outputs": [
    {
     "name": "stdout",
     "output_type": "stream",
     "text": [
      "user_id       0\n",
      "track      1343\n",
      "artist     7567\n",
      "genre      1198\n",
      "city          0\n",
      "time          0\n",
      "day           0\n",
      "dtype: int64\n"
     ]
    }
   ],
   "source": [
    "print(df.isna().sum())\n"
   ]
  },
  {
   "cell_type": "markdown",
   "metadata": {},
   "source": [
    "<div class=\"alert alert-block alert-success\">\n",
    "<b>Reviewer's comment v1</b>\n",
    "\n",
    "The isna() method is chosen to find missing values, that’s great! In fact, isnull() and isna() do the same thing, but isna() is preferred."
   ]
  },
  {
   "cell_type": "markdown",
   "metadata": {
    "id": "qubhgnlO_Zct"
   },
   "source": [
    "Not all missing values affect the research. For instance, the missing values in `track` and `artist` are not critical. You can simply replace them with clear markers.\n",
    "\n",
    "But missing values in `'genre'` can affect the comparison of music preferences in Springfield and Shelbyville. In real life, it would be useful to learn the reasons why the data is missing and try to make up for them. But we do not have that opportunity in this project. So you will have to:\n",
    "* Fill in these missing values with markers\n",
    "* Evaluate how much the missing values may affect your computations\n"
   ]
  },
  {
   "cell_type": "markdown",
   "metadata": {
    "id": "fSv2laPA_Zct"
   },
   "source": [
    "Replace the missing values in `'track'`, `'artist'`, and `'genre'` with the string `'unknown'`. To do this, create the `columns_to_replace` list, loop over it with `for`, and replace the missing values in each of the columns:"
   ]
  },
  {
   "cell_type": "code",
   "execution_count": 9,
   "metadata": {},
   "outputs": [],
   "source": [
    "columns_to_replace = ['track','artist','genre']\n",
    "\n",
    "for column in columns_to_replace:\n",
    "    df[column] = df[column].fillna('unknown')\n",
    "    \n"
   ]
  },
  {
   "cell_type": "markdown",
   "metadata": {},
   "source": [
    "<div class=\"alert alert-block alert-success\">\n",
    "<b>Reviewer's comment v1</b>\n",
    "\n",
    "Correct!"
   ]
  },
  {
   "cell_type": "markdown",
   "metadata": {
    "id": "Ilsm-MZo_Zct"
   },
   "source": [
    "\n",
    "Make sure the table contains no more missing values. Count the missing values again."
   ]
  },
  {
   "cell_type": "code",
   "execution_count": 10,
   "metadata": {
    "id": "Tq4nYRX4_Zct"
   },
   "outputs": [
    {
     "name": "stdout",
     "output_type": "stream",
     "text": [
      "user_id    0\n",
      "track      0\n",
      "artist     0\n",
      "genre      0\n",
      "city       0\n",
      "time       0\n",
      "day        0\n",
      "dtype: int64\n"
     ]
    }
   ],
   "source": [
    "# counting missing values\n",
    "print(df.isna().sum())"
   ]
  },
  {
   "cell_type": "markdown",
   "metadata": {
    "id": "74ZIBmq9VrsK"
   },
   "source": [
    "[Back to Contents](#back)"
   ]
  },
  {
   "cell_type": "markdown",
   "metadata": {
    "id": "BWKRtBJ3_Zct"
   },
   "source": [
    "### Duplicates <a id='duplicates'></a>\n",
    "Find the number of obvious duplicates in the table using one command:"
   ]
  },
  {
   "cell_type": "code",
   "execution_count": 11,
   "metadata": {
    "id": "36eES_S0_Zct"
   },
   "outputs": [
    {
     "name": "stdout",
     "output_type": "stream",
     "text": [
      "3826\n"
     ]
    }
   ],
   "source": [
    "print(df.duplicated().sum())"
   ]
  },
  {
   "cell_type": "markdown",
   "metadata": {},
   "source": [
    "<div class=\"alert alert-block alert-success\">\n",
    "<b>Reviewer's comment v1</b>\n",
    "\n",
    "Duplicates are correctly found and considered by optimal methods."
   ]
  },
  {
   "cell_type": "markdown",
   "metadata": {
    "id": "Ot25h6XR_Zct"
   },
   "source": [
    "Call the `pandas` method for getting rid of obvious duplicates:"
   ]
  },
  {
   "cell_type": "code",
   "execution_count": 12,
   "metadata": {
    "id": "exFHq6tt_Zct"
   },
   "outputs": [
    {
     "name": "stdout",
     "output_type": "stream",
     "text": [
      "    user_id                        track            artist  genre  \\\n",
      "0  FFB692EC            Kamigata To Boots  The Mass Missile   rock   \n",
      "1  55204538  Delayed Because of Accident  Andreas Rönnberg   rock   \n",
      "2    20EC38            Funiculì funiculà       Mario Lanza    pop   \n",
      "3  A3DD03C9        Dragons in the Sunset        Fire + Ice   folk   \n",
      "4  E2DC1FAE                  Soul People        Space Echo  dance   \n",
      "\n",
      "          city      time        day  \n",
      "0  Shelbyville  20:28:33  Wednesday  \n",
      "1  Springfield  14:07:09     Friday  \n",
      "2  Shelbyville  20:58:07  Wednesday  \n",
      "3  Shelbyville  08:37:09     Monday  \n",
      "4  Springfield  08:34:34     Monday  \n"
     ]
    }
   ],
   "source": [
    "# removing obvious duplicates\n",
    "df = df.drop_duplicates()\n",
    "print(df.head())"
   ]
  },
  {
   "cell_type": "markdown",
   "metadata": {
    "id": "Im2YwBEG_Zct"
   },
   "source": [
    "Count obvious duplicates once more to make sure you have removed all of them:"
   ]
  },
  {
   "cell_type": "code",
   "execution_count": 13,
   "metadata": {
    "id": "-8PuNWQ0_Zct"
   },
   "outputs": [
    {
     "name": "stdout",
     "output_type": "stream",
     "text": [
      "0\n"
     ]
    }
   ],
   "source": [
    "print(df.duplicated().sum())"
   ]
  },
  {
   "cell_type": "markdown",
   "metadata": {
    "id": "QlFBsxAr_Zct"
   },
   "source": [
    "Now get rid of implicit duplicates in the `genre` column. For example, the name of a genre can be written in different ways. Such errors will also affect the result."
   ]
  },
  {
   "cell_type": "markdown",
   "metadata": {
    "id": "eSjWwsOh_Zct"
   },
   "source": [
    "Print a list of unique genre names, sorted in alphabetical order. To do so:\n",
    "* Retrieve the intended DataFrame column \n",
    "* Apply a sorting method to it\n",
    "* For the sorted column, call the method that will return all unique column values"
   ]
  },
  {
   "cell_type": "code",
   "execution_count": 14,
   "metadata": {
    "id": "JIUcqzZN_Zct"
   },
   "outputs": [
    {
     "name": "stdout",
     "output_type": "stream",
     "text": [
      "['acid' 'acoustic' 'action' 'adult' 'africa' 'afrikaans' 'alternative'\n",
      " 'ambient' 'americana' 'animated' 'anime' 'arabesk' 'arabic' 'arena'\n",
      " 'argentinetango' 'art' 'audiobook' 'avantgarde' 'axé' 'baile' 'balkan'\n",
      " 'beats' 'bigroom' 'black' 'bluegrass' 'blues' 'bollywood' 'bossa'\n",
      " 'brazilian' 'breakbeat' 'breaks' 'broadway' 'cantautori' 'cantopop'\n",
      " 'canzone' 'caribbean' 'caucasian' 'celtic' 'chamber' 'children' 'chill'\n",
      " 'chinese' 'choral' 'christian' 'christmas' 'classical' 'classicmetal'\n",
      " 'club' 'colombian' 'comedy' 'conjazz' 'contemporary' 'country' 'cuban'\n",
      " 'dance' 'dancehall' 'dancepop' 'dark' 'death' 'deep' 'deutschrock'\n",
      " 'deutschspr' 'dirty' 'disco' 'dnb' 'documentary' 'downbeat' 'downtempo'\n",
      " 'drum' 'dub' 'dubstep' 'eastern' 'easy' 'electronic' 'electropop' 'emo'\n",
      " 'entehno' 'epicmetal' 'estrada' 'ethnic' 'eurofolk' 'european'\n",
      " 'experimental' 'extrememetal' 'fado' 'film' 'fitness' 'flamenco' 'folk'\n",
      " 'folklore' 'folkmetal' 'folkrock' 'folktronica' 'forró' 'frankreich'\n",
      " 'französisch' 'french' 'funk' 'future' 'gangsta' 'garage' 'german'\n",
      " 'ghazal' 'gitarre' 'glitch' 'gospel' 'gothic' 'grime' 'grunge' 'gypsy'\n",
      " 'handsup' \"hard'n'heavy\" 'hardcore' 'hardstyle' 'hardtechno' 'hip'\n",
      " 'hip-hop' 'hiphop' 'historisch' 'holiday' 'hop' 'horror' 'house' 'idm'\n",
      " 'independent' 'indian' 'indie' 'indipop' 'industrial' 'inspirational'\n",
      " 'instrumental' 'international' 'irish' 'jam' 'japanese' 'jazz' 'jewish'\n",
      " 'jpop' 'jungle' 'k-pop' 'karadeniz' 'karaoke' 'kayokyoku' 'korean'\n",
      " 'laiko' 'latin' 'latino' 'leftfield' 'local' 'lounge' 'loungeelectronic'\n",
      " 'lovers' 'malaysian' 'mandopop' 'marschmusik' 'meditative'\n",
      " 'mediterranean' 'melodic' 'metal' 'metalcore' 'mexican' 'middle'\n",
      " 'minimal' 'miscellaneous' 'modern' 'mood' 'mpb' 'muslim' 'native'\n",
      " 'neoklassik' 'neue' 'new' 'newage' 'newwave' 'nu' 'nujazz' 'numetal'\n",
      " 'oceania' 'old' 'opera' 'orchestral' 'other' 'piano' 'pop'\n",
      " 'popelectronic' 'popeurodance' 'post' 'posthardcore' 'postrock' 'power'\n",
      " 'progmetal' 'progressive' 'psychedelic' 'punjabi' 'punk' 'quebecois'\n",
      " 'ragga' 'ram' 'rancheras' 'rap' 'rave' 'reggae' 'reggaeton' 'regional'\n",
      " 'relax' 'religious' 'retro' 'rhythm' 'rnb' 'rnr' 'rock' 'rockabilly'\n",
      " 'romance' 'roots' 'ruspop' 'rusrap' 'rusrock' 'salsa' 'samba' 'schlager'\n",
      " 'self' 'sertanejo' 'shoegazing' 'showtunes' 'singer' 'ska' 'slow'\n",
      " 'smooth' 'soul' 'soulful' 'sound' 'soundtrack' 'southern' 'specialty'\n",
      " 'speech' 'spiritual' 'sport' 'stonerrock' 'surf' 'swing' 'synthpop'\n",
      " 'sängerportrait' 'tango' 'tanzorchester' 'taraftar' 'tech' 'techno'\n",
      " 'thrash' 'top' 'traditional' 'tradjazz' 'trance' 'tribal' 'trip'\n",
      " 'triphop' 'tropical' 'türk' 'türkçe' 'unknown' 'urban' 'uzbek' 'variété'\n",
      " 'vi' 'videogame' 'vocal' 'western' 'world' 'worldbeat' 'ïîï']\n"
     ]
    }
   ],
   "source": [
    "# viewing unique genre names\n",
    "genre_unique = df['genre'].unique()\n",
    "genre_unique.sort()\n",
    "print(genre_unique)"
   ]
  },
  {
   "cell_type": "markdown",
   "metadata": {},
   "source": [
    "<div class=\"alert alert-block alert-danger\">\n",
    "<b>Reviewer's comment v1</b>\n",
    "\n",
    "The list should also be sorted. Could you please do it?"
   ]
  },
  {
   "cell_type": "markdown",
   "metadata": {},
   "source": [
    "<div class=\"alert alert-block alert-success\">\n",
    "<b>Reviewer's comment v2</b> Well done!"
   ]
  },
  {
   "cell_type": "markdown",
   "metadata": {
    "id": "qej-Qmuo_Zct"
   },
   "source": [
    "Look through the list to find implicit duplicates of the genre `hiphop`. These could be names written incorrectly or alternative names of the same genre.\n",
    "\n",
    "You will see the following implicit duplicates:\n",
    "* `hip`\n",
    "* `hop`\n",
    "* `hip-hop`\n",
    "\n",
    "To get rid of them, declare the function `replace_wrong_genres()` with two parameters: \n",
    "* `wrong_genres=` — the list of duplicates\n",
    "* `correct_genre=` — the string with the correct value\n",
    "\n",
    "The function should correct the names in the `'genre'` column from the `df` table, i.e. replace each value from the `wrong_genres` list with the value in `correct_genre`."
   ]
  },
  {
   "cell_type": "code",
   "execution_count": 15,
   "metadata": {
    "id": "ErNDkmns_Zct"
   },
   "outputs": [],
   "source": [
    "# function for replacing implicit duplicates\n",
    "def replace_wrong_genres(wrong_genres, correct_genre):\n",
    "    for wrong_genre in wrong_genres:\n",
    "        df['genre']= df['genre'].replace(wrong_genre, correct_genre)\n",
    "        \n",
    "\n"
   ]
  },
  {
   "cell_type": "markdown",
   "metadata": {
    "id": "aDoBJxbA_Zct"
   },
   "source": [
    "Call `replace_wrong_genres()` and pass it arguments so that it clears implicit duplcates (`hip`, `hop`, and `hip-hop`) and replaces them with `hiphop`:"
   ]
  },
  {
   "cell_type": "code",
   "execution_count": 16,
   "metadata": {
    "id": "YN5i2hpmSo09"
   },
   "outputs": [],
   "source": [
    "# removing implicit duplicates\n",
    "duplicates = ['hip', 'hop', 'hip-hop']\n",
    "genre = 'hiphop'\n",
    "replace_wrong_genres(duplicates, genre)"
   ]
  },
  {
   "cell_type": "markdown",
   "metadata": {
    "id": "zQKF16_RG15m"
   },
   "source": [
    "Make sure the duplicate names were removed. Print the list of unique values from the `'genre'` column:"
   ]
  },
  {
   "cell_type": "code",
   "execution_count": 17,
   "metadata": {
    "id": "wvixALnFG15m"
   },
   "outputs": [
    {
     "name": "stdout",
     "output_type": "stream",
     "text": [
      "['acid' 'acoustic' 'action' 'adult' 'africa' 'afrikaans' 'alternative'\n",
      " 'ambient' 'americana' 'animated' 'anime' 'arabesk' 'arabic' 'arena'\n",
      " 'argentinetango' 'art' 'audiobook' 'avantgarde' 'axé' 'baile' 'balkan'\n",
      " 'beats' 'bigroom' 'black' 'bluegrass' 'blues' 'bollywood' 'bossa'\n",
      " 'brazilian' 'breakbeat' 'breaks' 'broadway' 'cantautori' 'cantopop'\n",
      " 'canzone' 'caribbean' 'caucasian' 'celtic' 'chamber' 'children' 'chill'\n",
      " 'chinese' 'choral' 'christian' 'christmas' 'classical' 'classicmetal'\n",
      " 'club' 'colombian' 'comedy' 'conjazz' 'contemporary' 'country' 'cuban'\n",
      " 'dance' 'dancehall' 'dancepop' 'dark' 'death' 'deep' 'deutschrock'\n",
      " 'deutschspr' 'dirty' 'disco' 'dnb' 'documentary' 'downbeat' 'downtempo'\n",
      " 'drum' 'dub' 'dubstep' 'eastern' 'easy' 'electronic' 'electropop' 'emo'\n",
      " 'entehno' 'epicmetal' 'estrada' 'ethnic' 'eurofolk' 'european'\n",
      " 'experimental' 'extrememetal' 'fado' 'film' 'fitness' 'flamenco' 'folk'\n",
      " 'folklore' 'folkmetal' 'folkrock' 'folktronica' 'forró' 'frankreich'\n",
      " 'französisch' 'french' 'funk' 'future' 'gangsta' 'garage' 'german'\n",
      " 'ghazal' 'gitarre' 'glitch' 'gospel' 'gothic' 'grime' 'grunge' 'gypsy'\n",
      " 'handsup' \"hard'n'heavy\" 'hardcore' 'hardstyle' 'hardtechno' 'hiphop'\n",
      " 'historisch' 'holiday' 'horror' 'house' 'idm' 'independent' 'indian'\n",
      " 'indie' 'indipop' 'industrial' 'inspirational' 'instrumental'\n",
      " 'international' 'irish' 'jam' 'japanese' 'jazz' 'jewish' 'jpop' 'jungle'\n",
      " 'k-pop' 'karadeniz' 'karaoke' 'kayokyoku' 'korean' 'laiko' 'latin'\n",
      " 'latino' 'leftfield' 'local' 'lounge' 'loungeelectronic' 'lovers'\n",
      " 'malaysian' 'mandopop' 'marschmusik' 'meditative' 'mediterranean'\n",
      " 'melodic' 'metal' 'metalcore' 'mexican' 'middle' 'minimal'\n",
      " 'miscellaneous' 'modern' 'mood' 'mpb' 'muslim' 'native' 'neoklassik'\n",
      " 'neue' 'new' 'newage' 'newwave' 'nu' 'nujazz' 'numetal' 'oceania' 'old'\n",
      " 'opera' 'orchestral' 'other' 'piano' 'pop' 'popelectronic' 'popeurodance'\n",
      " 'post' 'posthardcore' 'postrock' 'power' 'progmetal' 'progressive'\n",
      " 'psychedelic' 'punjabi' 'punk' 'quebecois' 'ragga' 'ram' 'rancheras'\n",
      " 'rap' 'rave' 'reggae' 'reggaeton' 'regional' 'relax' 'religious' 'retro'\n",
      " 'rhythm' 'rnb' 'rnr' 'rock' 'rockabilly' 'romance' 'roots' 'ruspop'\n",
      " 'rusrap' 'rusrock' 'salsa' 'samba' 'schlager' 'self' 'sertanejo'\n",
      " 'shoegazing' 'showtunes' 'singer' 'ska' 'slow' 'smooth' 'soul' 'soulful'\n",
      " 'sound' 'soundtrack' 'southern' 'specialty' 'speech' 'spiritual' 'sport'\n",
      " 'stonerrock' 'surf' 'swing' 'synthpop' 'sängerportrait' 'tango'\n",
      " 'tanzorchester' 'taraftar' 'tech' 'techno' 'thrash' 'top' 'traditional'\n",
      " 'tradjazz' 'trance' 'tribal' 'trip' 'triphop' 'tropical' 'türk' 'türkçe'\n",
      " 'unknown' 'urban' 'uzbek' 'variété' 'vi' 'videogame' 'vocal' 'western'\n",
      " 'world' 'worldbeat' 'ïîï']\n"
     ]
    }
   ],
   "source": [
    "# checking for implicit duplicates\n",
    "genre_unique = df['genre'].unique()\n",
    "genre_unique.sort()\n",
    "print(genre_unique)"
   ]
  },
  {
   "cell_type": "markdown",
   "metadata": {
    "id": "ALgNbvF3VtPA"
   },
   "source": [
    "[Back to Contents](#back)"
   ]
  },
  {
   "cell_type": "markdown",
   "metadata": {
    "id": "jz6a9-7HQUDd"
   },
   "source": [
    "### Conclusions <a id='data_preprocessing_conclusions'></a>\n",
    "We detected three issues with the data:\n",
    "\n",
    "- Incorrect header styles\n",
    "- Missing values\n",
    "- Obvious and implicit duplicates\n",
    "\n",
    "The headers have been cleaned up to make processing the table simpler.\n",
    "\n",
    "All missing values have been replaced with `'unknown'`. But we still have to see whether the missing values in `'genre'` will affect our calculations.\n",
    "\n",
    "The absence of duplicates will make the results more precise and easier to understand.\n",
    "\n",
    "Now we can move on to testing hypotheses. "
   ]
  },
  {
   "cell_type": "markdown",
   "metadata": {
    "id": "eK1es74rVujj"
   },
   "source": [
    "[Back to Contents](#back)"
   ]
  },
  {
   "cell_type": "markdown",
   "metadata": {
    "id": "WttZHXH0SqKk"
   },
   "source": [
    "## Stage 3. Testing hypotheses <a id='hypotheses'></a>"
   ]
  },
  {
   "cell_type": "markdown",
   "metadata": {
    "id": "Im936VVi_Zcu"
   },
   "source": [
    "### Hypothesis 1: comparing user behavior in two cities <a id='activity'></a>"
   ]
  },
  {
   "cell_type": "markdown",
   "metadata": {
    "id": "nwt_MuaL_Zcu"
   },
   "source": [
    "According to the first hypothesis, users from Springfield and Shelbyville listen to music differently. Test this using the data on three days of the week: Monday, Wednesday, and Friday.\n",
    "\n",
    "* Divide the users into groups by city.\n",
    "* Compare how many tracks each group played on Monday, Wednesday, and Friday.\n"
   ]
  },
  {
   "cell_type": "markdown",
   "metadata": {
    "id": "8Dw_YMmT_Zcu"
   },
   "source": [
    "For the sake of practice, perform each computation separately. \n",
    "\n",
    "Evaluate user activity in each city. Group the data by city and find the number of songs played in each group.\n",
    "\n"
   ]
  },
  {
   "cell_type": "code",
   "execution_count": 50,
   "metadata": {},
   "outputs": [
    {
     "data": {
      "text/plain": [
       "city\n",
       "Shelbyville    18512\n",
       "Name: track, dtype: int64"
      ]
     },
     "execution_count": 50,
     "metadata": {},
     "output_type": "execute_result"
    }
   ],
   "source": [
    "shelbyville_df = df.groupby('city')\n",
    "\n",
    "shelbyville_df['track'].count()"
   ]
  },
  {
   "cell_type": "markdown",
   "metadata": {},
   "source": [
    "<div class=\"alert alert-block alert-danger\">\n",
    "<b>Reviewer's comment v1</b>\n",
    "\n",
    "The results are correct. However here we should use groupby method. Could you please do it?"
   ]
  },
  {
   "cell_type": "markdown",
   "metadata": {},
   "source": [
    "<div class=\"alert alert-block alert-success\">\n",
    "<b>Reviewer's comment v2</b> Correct. This calculations could aslo be done in one string"
   ]
  },
  {
   "cell_type": "markdown",
   "metadata": {
    "id": "dzli3w8o_Zcu"
   },
   "source": [
    "Springfield has more tracks played than Shelbyville. But that does not imply that citizens of Springfield listen to music more often. This city is simply bigger, and there are more users.\n",
    "\n",
    "Now group the data by day of the week and find the number of tracks played on Monday, Wednesday, and Friday.\n"
   ]
  },
  {
   "cell_type": "code",
   "execution_count": 51,
   "metadata": {},
   "outputs": [
    {
     "data": {
      "text/plain": [
       "day\n",
       "Friday       5895\n",
       "Monday       5614\n",
       "Wednesday    7003\n",
       "Name: track, dtype: int64"
      ]
     },
     "execution_count": 51,
     "metadata": {},
     "output_type": "execute_result"
    }
   ],
   "source": [
    "days_df = df.groupby('day')\n",
    "days_df['track'].count()"
   ]
  },
  {
   "cell_type": "markdown",
   "metadata": {
    "id": "cC2tNrlL_Zcu"
   },
   "source": [
    "Wednesday is the quietest day overall. But if we consider the two cities separately, we might come to a different conclusion."
   ]
  },
  {
   "cell_type": "markdown",
   "metadata": {
    "id": "POzs8bGa_Zcu"
   },
   "source": [
    "You have seen how grouping by city or day works. Now write a function that will group by both.\n",
    "\n",
    "Create the `number_tracks()` function to calculate the number of songs played for a given day and city. It will require two parameters:\n",
    "* day of the week\n",
    "* name of the city\n",
    "\n",
    "In the function, use a variable to store the rows from the original table, where:\n",
    "  * `'day'` column value is equal to the `day` parameter\n",
    "  * `'city'` column value is equal to the `city` parameter\n",
    "\n",
    "Apply consecutive filtering with logical indexing.\n",
    "\n",
    "Then calculate the `'user_id'` column values in the resulting table. Store the result to a new variable. Return this variable from the function."
   ]
  },
  {
   "cell_type": "code",
   "execution_count": 20,
   "metadata": {
    "id": "Nz3GdQB1_Zcu"
   },
   "outputs": [],
   "source": [
    "# <creating the function number_tracks()>\n",
    "\n",
    "# We'll declare a function with two parameters: day=, city=.\n",
    "# Let the track_list variable store the df rows where\n",
    "# the value in the 'day' column is equal to the day= parameter and, at the same time, \n",
    "# the value in the 'city' column is equal to the city= parameter (apply consecutive filtering \n",
    "# with logical indexing).\n",
    "# Let the track_list_count variable store the number of 'user_id' column values in track_list\n",
    "# (found with the count() method).\n",
    "# Let the function return a number: the value of track_list_count.\n",
    "\n",
    "# The function counts tracked played for a certain city and day.\n",
    "# It first retrieves the rows with the intended day from the table,\n",
    "# then filters out the rows with the intended city from the result,\n",
    "# then finds the number of 'user_id' values in the filtered table,\n",
    "# then returns that number.\n",
    "# To see what it returns, wrap the function call in print()."
   ]
  },
  {
   "cell_type": "code",
   "execution_count": 21,
   "metadata": {},
   "outputs": [],
   "source": [
    "\n",
    "def number_tracks(city, days):\n",
    "    track_list=df[df['day']==days]\n",
    "    track_list=track_list[track_list['city']==city]\n",
    "    users = track_list['user_id'].count()\n",
    "    return users\n",
    "\n"
   ]
  },
  {
   "cell_type": "markdown",
   "metadata": {},
   "source": [
    "<div class=\"alert alert-block alert-success\">\n",
    "<b>Reviewer's comment v1</b>\n",
    "\n",
    "The function is correct!"
   ]
  },
  {
   "cell_type": "markdown",
   "metadata": {
    "id": "ytf7xFrFJQ2r"
   },
   "source": [
    "Call `number_tracks()` six times, changing the parameter values, so that you retrieve the data on both cities for each of the three days."
   ]
  },
  {
   "cell_type": "code",
   "execution_count": 22,
   "metadata": {
    "id": "rJcRATNQ_Zcu",
    "scrolled": true
   },
   "outputs": [
    {
     "name": "stdout",
     "output_type": "stream",
     "text": [
      "15740\n"
     ]
    }
   ],
   "source": [
    "# the number of songs played in Springfield on Monday\n",
    "print(number_tracks('Springfield','Monday'))\n"
   ]
  },
  {
   "cell_type": "code",
   "execution_count": 23,
   "metadata": {
    "id": "hq_ncZ5T_Zcu"
   },
   "outputs": [
    {
     "name": "stdout",
     "output_type": "stream",
     "text": [
      "5614\n"
     ]
    }
   ],
   "source": [
    "print(number_tracks('Shelbyville','Monday'))\n"
   ]
  },
  {
   "cell_type": "code",
   "execution_count": 24,
   "metadata": {
    "id": "_NTy2VPU_Zcu"
   },
   "outputs": [
    {
     "name": "stdout",
     "output_type": "stream",
     "text": [
      "11056\n"
     ]
    }
   ],
   "source": [
    "# the number of songs played in Springfield on Wednesday\n",
    "print(number_tracks('Springfield','Wednesday'))\n"
   ]
  },
  {
   "cell_type": "code",
   "execution_count": 25,
   "metadata": {
    "id": "j2y3TAwo_Zcu"
   },
   "outputs": [
    {
     "name": "stdout",
     "output_type": "stream",
     "text": [
      "7003\n"
     ]
    }
   ],
   "source": [
    "# the number of songs played in Shelbyville on Wednesday\n",
    "print(number_tracks('Shelbyville','Wednesday'))\n"
   ]
  },
  {
   "cell_type": "code",
   "execution_count": 26,
   "metadata": {
    "id": "vYDw5u_K_Zcu"
   },
   "outputs": [
    {
     "name": "stdout",
     "output_type": "stream",
     "text": [
      "15945\n"
     ]
    }
   ],
   "source": [
    "# the number of songs played in Springfield on Friday\n",
    "print(number_tracks('Springfield','Friday'))\n"
   ]
  },
  {
   "cell_type": "code",
   "execution_count": 27,
   "metadata": {
    "id": "8_yzFtW3_Zcu"
   },
   "outputs": [
    {
     "name": "stdout",
     "output_type": "stream",
     "text": [
      "5895\n"
     ]
    }
   ],
   "source": [
    "# the number of songs played in Shelbyville on Friday\n",
    "print(number_tracks('Shelbyville','Friday'))\n"
   ]
  },
  {
   "cell_type": "markdown",
   "metadata": {
    "id": "7QXffbO-_Zcu"
   },
   "source": [
    "Use `pd.DataFrame` to create a table, where\n",
    "* Column names are: `['city', 'monday', 'wednesday', 'friday']`\n",
    "* The data is the results you got from `number_tracks()`"
   ]
  },
  {
   "cell_type": "code",
   "execution_count": 36,
   "metadata": {},
   "outputs": [],
   "source": [
    "tracks_data_sp = [\n",
    "    'Springfield',\n",
    "    number_tracks('Springfield','Monday'), \n",
    "    number_tracks('Springfield','Wednesday'),\n",
    "    number_tracks('Springfield','Friday'),\n",
    "]\n",
    "tracks_data_sh = [\n",
    "    'Shelbyville',\n",
    "    number_tracks('Shelbyville','Monday'),\n",
    "    number_tracks('Shelbyville','Wednesday'),\n",
    "    number_tracks('Shelbyville','Friday')\n",
    "]"
   ]
  },
  {
   "cell_type": "code",
   "execution_count": 37,
   "metadata": {},
   "outputs": [
    {
     "data": {
      "text/html": [
       "<div>\n",
       "<style scoped>\n",
       "    .dataframe tbody tr th:only-of-type {\n",
       "        vertical-align: middle;\n",
       "    }\n",
       "\n",
       "    .dataframe tbody tr th {\n",
       "        vertical-align: top;\n",
       "    }\n",
       "\n",
       "    .dataframe thead th {\n",
       "        text-align: right;\n",
       "    }\n",
       "</style>\n",
       "<table border=\"1\" class=\"dataframe\">\n",
       "  <thead>\n",
       "    <tr style=\"text-align: right;\">\n",
       "      <th></th>\n",
       "      <th>city</th>\n",
       "      <th>monday</th>\n",
       "      <th>wednesday</th>\n",
       "      <th>friday</th>\n",
       "    </tr>\n",
       "  </thead>\n",
       "  <tbody>\n",
       "    <tr>\n",
       "      <th>0</th>\n",
       "      <td>Springfield</td>\n",
       "      <td>15740</td>\n",
       "      <td>11056</td>\n",
       "      <td>15945</td>\n",
       "    </tr>\n",
       "    <tr>\n",
       "      <th>1</th>\n",
       "      <td>Shelbyville</td>\n",
       "      <td>5614</td>\n",
       "      <td>7003</td>\n",
       "      <td>5895</td>\n",
       "    </tr>\n",
       "  </tbody>\n",
       "</table>\n",
       "</div>"
      ],
      "text/plain": [
       "          city  monday  wednesday  friday\n",
       "0  Springfield   15740      11056   15945\n",
       "1  Shelbyville    5614       7003    5895"
      ]
     },
     "execution_count": 37,
     "metadata": {},
     "output_type": "execute_result"
    }
   ],
   "source": [
    "pd.DataFrame(columns=['city', 'monday', 'wednesday', 'friday'],\n",
    "             data=[tracks_data_sp,tracks_data_sh])"
   ]
  },
  {
   "cell_type": "markdown",
   "metadata": {},
   "source": [
    "<div class=\"alert alert-block alert-warning\">\n",
    "<b>Reviewer's comment v1</b>\n",
    "\n",
    "To avoid using your hands to copypaste values in Dataframe, you could use the results of the function to create it:\n",
    "    \n",
    "            tracks_data = [['Springfield', number_tracks('Friday', 'Springfield')]]"
   ]
  },
  {
   "cell_type": "markdown",
   "metadata": {},
   "source": [
    "<div class=\"alert alert-block alert-success\">\n",
    "<b>Reviewer's comment v2</b> Great!"
   ]
  },
  {
   "cell_type": "code",
   "execution_count": null,
   "metadata": {},
   "outputs": [],
   "source": []
  },
  {
   "cell_type": "markdown",
   "metadata": {
    "id": "-EgPIHYu_Zcu"
   },
   "source": [
    "**Conclusions**\n",
    "\n",
    "The data reveals differences in user behavior:\n",
    "\n",
    "- In Springfield, the number of songs played peaks on Mondays and Fridays, while on Wednesday there is a decrease in activity.\n",
    "- In Shelbyville, on the contrary, users listen to music more on Wednesday. User activity on Monday and Friday is smaller.\n",
    "\n",
    "So the first hypothesis seems to be correct."
   ]
  },
  {
   "cell_type": "markdown",
   "metadata": {
    "id": "p7nFQajCVw5B"
   },
   "source": [
    "[Back to Contents](#back)"
   ]
  },
  {
   "cell_type": "markdown",
   "metadata": {
    "id": "atZAxtq4_Zcu"
   },
   "source": [
    "### Hypothesis 2: music at the beginning and end of the week <a id='week'></a>"
   ]
  },
  {
   "cell_type": "markdown",
   "metadata": {
    "id": "eXrQqXFH_Zcu"
   },
   "source": [
    "According to the second hypothesis, on Monday morning and Friday night, citizens of Springfield listen to genres that differ from ones users from Shelbyville enjoy."
   ]
  },
  {
   "cell_type": "markdown",
   "metadata": {
    "id": "S8UcW6Hw_Zcu"
   },
   "source": [
    "Get tables (make sure that the name of your combined table matches the DataFrame given in the two code blocks below):\n",
    "* For Springfield — `spr_general`\n",
    "* For Shelbyville — `shel_general`"
   ]
  },
  {
   "cell_type": "code",
   "execution_count": null,
   "metadata": {
    "id": "qeaFfM_P_Zcu",
    "pycharm": {
     "is_executing": true
    }
   },
   "outputs": [],
   "source": [
    "# create the spr_general table from the df rows, \n",
    "# where the value in the 'city' column is 'Springfield'\n",
    "\n",
    "df.head()"
   ]
  },
  {
   "cell_type": "code",
   "execution_count": 39,
   "metadata": {},
   "outputs": [
    {
     "data": {
      "text/html": [
       "<div>\n",
       "<style scoped>\n",
       "    .dataframe tbody tr th:only-of-type {\n",
       "        vertical-align: middle;\n",
       "    }\n",
       "\n",
       "    .dataframe tbody tr th {\n",
       "        vertical-align: top;\n",
       "    }\n",
       "\n",
       "    .dataframe thead th {\n",
       "        text-align: right;\n",
       "    }\n",
       "</style>\n",
       "<table border=\"1\" class=\"dataframe\">\n",
       "  <thead>\n",
       "    <tr style=\"text-align: right;\">\n",
       "      <th></th>\n",
       "      <th>user_id</th>\n",
       "      <th>track</th>\n",
       "      <th>artist</th>\n",
       "      <th>genre</th>\n",
       "      <th>city</th>\n",
       "      <th>time</th>\n",
       "      <th>day</th>\n",
       "    </tr>\n",
       "  </thead>\n",
       "  <tbody>\n",
       "    <tr>\n",
       "      <th>1</th>\n",
       "      <td>55204538</td>\n",
       "      <td>Delayed Because of Accident</td>\n",
       "      <td>Andreas Rönnberg</td>\n",
       "      <td>rock</td>\n",
       "      <td>Springfield</td>\n",
       "      <td>14:07:09</td>\n",
       "      <td>Friday</td>\n",
       "    </tr>\n",
       "    <tr>\n",
       "      <th>4</th>\n",
       "      <td>E2DC1FAE</td>\n",
       "      <td>Soul People</td>\n",
       "      <td>Space Echo</td>\n",
       "      <td>dance</td>\n",
       "      <td>Springfield</td>\n",
       "      <td>08:34:34</td>\n",
       "      <td>Monday</td>\n",
       "    </tr>\n",
       "    <tr>\n",
       "      <th>6</th>\n",
       "      <td>4CB90AA5</td>\n",
       "      <td>True</td>\n",
       "      <td>Roman Messer</td>\n",
       "      <td>dance</td>\n",
       "      <td>Springfield</td>\n",
       "      <td>13:00:07</td>\n",
       "      <td>Wednesday</td>\n",
       "    </tr>\n",
       "    <tr>\n",
       "      <th>7</th>\n",
       "      <td>F03E1C1F</td>\n",
       "      <td>Feeling This Way</td>\n",
       "      <td>Polina Griffith</td>\n",
       "      <td>dance</td>\n",
       "      <td>Springfield</td>\n",
       "      <td>20:47:49</td>\n",
       "      <td>Wednesday</td>\n",
       "    </tr>\n",
       "    <tr>\n",
       "      <th>8</th>\n",
       "      <td>8FA1D3BE</td>\n",
       "      <td>L’estate</td>\n",
       "      <td>Julia Dalia</td>\n",
       "      <td>ruspop</td>\n",
       "      <td>Springfield</td>\n",
       "      <td>09:17:40</td>\n",
       "      <td>Friday</td>\n",
       "    </tr>\n",
       "  </tbody>\n",
       "</table>\n",
       "</div>"
      ],
      "text/plain": [
       "    user_id                        track            artist   genre  \\\n",
       "1  55204538  Delayed Because of Accident  Andreas Rönnberg    rock   \n",
       "4  E2DC1FAE                  Soul People        Space Echo   dance   \n",
       "6  4CB90AA5                         True      Roman Messer   dance   \n",
       "7  F03E1C1F             Feeling This Way   Polina Griffith   dance   \n",
       "8  8FA1D3BE                     L’estate       Julia Dalia  ruspop   \n",
       "\n",
       "          city      time        day  \n",
       "1  Springfield  14:07:09     Friday  \n",
       "4  Springfield  08:34:34     Monday  \n",
       "6  Springfield  13:00:07  Wednesday  \n",
       "7  Springfield  20:47:49  Wednesday  \n",
       "8  Springfield  09:17:40     Friday  "
      ]
     },
     "execution_count": 39,
     "metadata": {},
     "output_type": "execute_result"
    }
   ],
   "source": [
    "spr_general=df[df['city']=='Springfield']\n",
    "spr_general.head()\n"
   ]
  },
  {
   "cell_type": "code",
   "execution_count": null,
   "metadata": {
    "id": "ORaVRKto_Zcu"
   },
   "outputs": [],
   "source": [
    "# create the shel_general from the df rows,\n",
    "# where the value in the 'city' column is 'Shelbyville'\n"
   ]
  },
  {
   "cell_type": "code",
   "execution_count": 38,
   "metadata": {},
   "outputs": [
    {
     "data": {
      "text/html": [
       "<div>\n",
       "<style scoped>\n",
       "    .dataframe tbody tr th:only-of-type {\n",
       "        vertical-align: middle;\n",
       "    }\n",
       "\n",
       "    .dataframe tbody tr th {\n",
       "        vertical-align: top;\n",
       "    }\n",
       "\n",
       "    .dataframe thead th {\n",
       "        text-align: right;\n",
       "    }\n",
       "</style>\n",
       "<table border=\"1\" class=\"dataframe\">\n",
       "  <thead>\n",
       "    <tr style=\"text-align: right;\">\n",
       "      <th></th>\n",
       "      <th>user_id</th>\n",
       "      <th>track</th>\n",
       "      <th>artist</th>\n",
       "      <th>genre</th>\n",
       "      <th>city</th>\n",
       "      <th>time</th>\n",
       "      <th>day</th>\n",
       "    </tr>\n",
       "  </thead>\n",
       "  <tbody>\n",
       "    <tr>\n",
       "      <th>0</th>\n",
       "      <td>FFB692EC</td>\n",
       "      <td>Kamigata To Boots</td>\n",
       "      <td>The Mass Missile</td>\n",
       "      <td>rock</td>\n",
       "      <td>Shelbyville</td>\n",
       "      <td>20:28:33</td>\n",
       "      <td>Wednesday</td>\n",
       "    </tr>\n",
       "    <tr>\n",
       "      <th>2</th>\n",
       "      <td>20EC38</td>\n",
       "      <td>Funiculì funiculà</td>\n",
       "      <td>Mario Lanza</td>\n",
       "      <td>pop</td>\n",
       "      <td>Shelbyville</td>\n",
       "      <td>20:58:07</td>\n",
       "      <td>Wednesday</td>\n",
       "    </tr>\n",
       "    <tr>\n",
       "      <th>3</th>\n",
       "      <td>A3DD03C9</td>\n",
       "      <td>Dragons in the Sunset</td>\n",
       "      <td>Fire + Ice</td>\n",
       "      <td>folk</td>\n",
       "      <td>Shelbyville</td>\n",
       "      <td>08:37:09</td>\n",
       "      <td>Monday</td>\n",
       "    </tr>\n",
       "    <tr>\n",
       "      <th>5</th>\n",
       "      <td>842029A1</td>\n",
       "      <td>Chains</td>\n",
       "      <td>Obladaet</td>\n",
       "      <td>rusrap</td>\n",
       "      <td>Shelbyville</td>\n",
       "      <td>13:09:41</td>\n",
       "      <td>Friday</td>\n",
       "    </tr>\n",
       "    <tr>\n",
       "      <th>9</th>\n",
       "      <td>E772D5C0</td>\n",
       "      <td>Pessimist</td>\n",
       "      <td>unknown</td>\n",
       "      <td>dance</td>\n",
       "      <td>Shelbyville</td>\n",
       "      <td>21:20:49</td>\n",
       "      <td>Wednesday</td>\n",
       "    </tr>\n",
       "  </tbody>\n",
       "</table>\n",
       "</div>"
      ],
      "text/plain": [
       "    user_id                  track            artist   genre         city  \\\n",
       "0  FFB692EC      Kamigata To Boots  The Mass Missile    rock  Shelbyville   \n",
       "2    20EC38      Funiculì funiculà       Mario Lanza     pop  Shelbyville   \n",
       "3  A3DD03C9  Dragons in the Sunset        Fire + Ice    folk  Shelbyville   \n",
       "5  842029A1                 Chains          Obladaet  rusrap  Shelbyville   \n",
       "9  E772D5C0              Pessimist           unknown   dance  Shelbyville   \n",
       "\n",
       "       time        day  \n",
       "0  20:28:33  Wednesday  \n",
       "2  20:58:07  Wednesday  \n",
       "3  08:37:09     Monday  \n",
       "5  13:09:41     Friday  \n",
       "9  21:20:49  Wednesday  "
      ]
     },
     "execution_count": 38,
     "metadata": {},
     "output_type": "execute_result"
    }
   ],
   "source": [
    "shel_general=df[df['city']=='Shelbyville']\n",
    "shel_general.head()"
   ]
  },
  {
   "cell_type": "markdown",
   "metadata": {},
   "source": [
    "<div class=\"alert alert-block alert-warning\">\n",
    "<b>Reviewer's comment v1</b>\n",
    "\n",
    "Dataframes do not need print functions. Delete it and df will be displayed in a more readable format"
   ]
  },
  {
   "cell_type": "code",
   "execution_count": 41,
   "metadata": {},
   "outputs": [],
   "source": [
    "def genre_weekday(day,time1,time2):\n",
    "    genre_df = df[(df['day'] == day) & (df['time'] > time1) & (df['time']< time2)]\n",
    "    genre_df_count = genre_df.groupby('genre')['genre'].count()\n",
    "    genre_df_sorted = genre_df_count.sort_values(ascending = False)\n",
    "    return genre_df_sorted[:15]\n"
   ]
  },
  {
   "cell_type": "markdown",
   "metadata": {
    "id": "MEJV-CX2_Zcu"
   },
   "source": [
    "Write the `genre_weekday()` function with four parameters:\n",
    "* A table for data (`df`)\n",
    "* The day of the week (`day`)\n",
    "* The first timestamp, in 'hh:mm' format (`time1`)\n",
    "* The last timestamp, in 'hh:mm' format (`time2`)\n",
    "\n",
    "The function should return info on the 15 most popular genres on a given day within the period between the two timestamps."
   ]
  },
  {
   "cell_type": "code",
   "execution_count": null,
   "metadata": {
    "id": "laJT9BYl_Zcu"
   },
   "outputs": [],
   "source": [
    "# 1) Let the genre_df variable store the rows that meet several conditions:\n",
    "#    - the value in the 'day' column is equal to the value of the day= argument\n",
    "#    - the value in the 'time' column is greater than the value of the time1= argument\n",
    "#    - the value in the 'time' column is smaller than the value of the time2= argument\n",
    "#    Use consecutive filtering with logical indexing.\n",
    "\n",
    "    \n",
    "# 2) Group genre_df by the 'genre' column, take one of its columns, \n",
    "#    and use the count() method to find the number of entries for each of \n",
    "#    the represented genres; store the resulting Series to the\n",
    "#    genre_df_count variable\n",
    "\n",
    "# 3) Sort genre_df_count in descending order of frequency and store the result\n",
    "#    to the genre_df_sorted variable\n",
    "\n",
    "# 4) Return a Series object with the first 15 genre_df_sorted value - the 15 most\n",
    "#    popular genres (on a given day, within a certain timeframe)\n",
    "\n",
    "# Write your function here\n",
    "#def genre_weekday(day,time1,time2):\n",
    "    #genre_df = df[(df['day'] == day) & (df['time'] > time1) & (df['time']< time2)]\n",
    "    # consecutive filtering\n",
    "    # Create the variable genre_df which will store only those df rows \n",
    "    #where the day is equal to day=\n",
    "    \n",
    "\n",
    "    # filter again so that genre_df will store only those rows \n",
    "    #where the time is smaller than time2=\n",
    "    #genre_df = genre_df[(genre_df.time > time1)]\n",
    "    \n",
    "    # filter once more so that genre_df will store only rows where the time is greater than time1=\n",
    "    #genre_df = genre_df[(genre_df.time > time2)]\n",
    "\n",
    "    # group the filtered DataFrame by the column with the names of genres, take the genre column, and find the number of rows for each genre with the count() method\n",
    "#genre_df_count = genre_df.groupby('genre')['genre'].count()\n",
    "\n",
    "    # sort the result in descending order (so that the most popular genres come first in the Series object)\n",
    "#genre_df_sorted =genre_df_count.sort_values(['genre'],ascending = False) # write your code here\n",
    "\n",
    "    # we will return the Series object storing the 15 most popular genres on a given day in a given timeframe\n",
    "#return genre_df_sorted[:15]\n",
    "\n",
    "#print(genre_weekday('monday','07:00:00','11:00:00'))"
   ]
  },
  {
   "cell_type": "markdown",
   "metadata": {
    "id": "la2s2_PF_Zcu"
   },
   "source": [
    "Compare the results of the `genre_weekday()` function for Springfield and Shelbyville on Monday morning (from 7AM to 11AM) and on Friday evening (from 17:00 to 23:00):"
   ]
  },
  {
   "cell_type": "code",
   "execution_count": 42,
   "metadata": {
    "id": "yz7itPUQ_Zcu"
   },
   "outputs": [
    {
     "name": "stdout",
     "output_type": "stream",
     "text": [
      "genre\n",
      "pop            781\n",
      "dance          549\n",
      "electronic     480\n",
      "rock           474\n",
      "hiphop         286\n",
      "ruspop         186\n",
      "world          181\n",
      "rusrap         175\n",
      "alternative    164\n",
      "unknown        161\n",
      "classical      157\n",
      "metal          120\n",
      "jazz           100\n",
      "folk            97\n",
      "soundtrack      95\n",
      "Name: genre, dtype: int64\n"
     ]
    }
   ],
   "source": [
    "# calling the function for Monday morning in Springfield\n",
    "#(use spr_general instead of the df table)\n",
    "df=spr_general\n",
    "print(genre_weekday('Monday','07:00','11:00'))"
   ]
  },
  {
   "cell_type": "code",
   "execution_count": 43,
   "metadata": {
    "id": "kwUcHPdy_Zcu"
   },
   "outputs": [
    {
     "name": "stdout",
     "output_type": "stream",
     "text": [
      "genre\n",
      "pop            218\n",
      "dance          182\n",
      "rock           162\n",
      "electronic     147\n",
      "hiphop          80\n",
      "ruspop          64\n",
      "alternative     58\n",
      "rusrap          55\n",
      "jazz            44\n",
      "classical       40\n",
      "world           36\n",
      "rap             32\n",
      "soundtrack      31\n",
      "rnb             27\n",
      "metal           27\n",
      "Name: genre, dtype: int64\n"
     ]
    }
   ],
   "source": [
    "# calling the function for Monday morning in Shelbyville (use shel_general instead of the df table)\n",
    "df=shel_general\n",
    "print(genre_weekday('Monday','07:00','11:00'))"
   ]
  },
  {
   "cell_type": "code",
   "execution_count": 44,
   "metadata": {
    "id": "EzXVRE1o_Zcu"
   },
   "outputs": [
    {
     "name": "stdout",
     "output_type": "stream",
     "text": [
      "genre\n",
      "pop            713\n",
      "rock           517\n",
      "dance          495\n",
      "electronic     482\n",
      "hiphop         273\n",
      "world          208\n",
      "ruspop         170\n",
      "classical      163\n",
      "alternative    163\n",
      "rusrap         142\n",
      "jazz           111\n",
      "unknown        110\n",
      "soundtrack     105\n",
      "rnb             90\n",
      "metal           88\n",
      "Name: genre, dtype: int64\n"
     ]
    }
   ],
   "source": [
    "# calling the function for Friday evening in Springfield\n",
    "df=spr_general\n",
    "print(genre_weekday('Friday','17:00','23:00'))"
   ]
  },
  {
   "cell_type": "code",
   "execution_count": 45,
   "metadata": {
    "id": "JZaEKu5v_Zcu"
   },
   "outputs": [
    {
     "name": "stdout",
     "output_type": "stream",
     "text": [
      "genre\n",
      "pop            256\n",
      "rock           216\n",
      "electronic     216\n",
      "dance          210\n",
      "hiphop          97\n",
      "alternative     63\n",
      "jazz            61\n",
      "classical       60\n",
      "rusrap          59\n",
      "world           54\n",
      "unknown         47\n",
      "ruspop          47\n",
      "soundtrack      40\n",
      "metal           39\n",
      "rap             36\n",
      "Name: genre, dtype: int64\n"
     ]
    }
   ],
   "source": [
    "# calling the function for Friday evening in Shelbyville\n",
    "df=shel_general\n",
    "print(genre_weekday('Friday','17:00','23:00'))"
   ]
  },
  {
   "cell_type": "markdown",
   "metadata": {
    "id": "wrCe4MNX_Zcu"
   },
   "source": [
    "**Conclusion**\n",
    "\n",
    "Having compared the top 15 genres on Monday morning, we can draw the following conclusions:\n",
    "\n",
    "1. Users from Springfield and Shelbyville listen to similar music. The top five genres are the same, only rock and electronic have switched places.\n",
    "\n",
    "2. In Springfield, the number of missing values turned out to be so big that the value `'unknown'` came in 10th. This means that missing values make up a considerable portion of the data, which may be a basis for questioning the reliability of our conclusions.\n",
    "\n",
    "For Friday evening, the situation is similar. Individual genres vary somewhat, but on the whole, the top 15 is similar for the two cities.\n",
    "\n",
    "Thus, the second hypothesis has been partially proven true:\n",
    "* Users listen to similar music at the beginning and end of the week.\n",
    "* There is no major difference between Springfield and Shelbyville. In both cities, pop is the most popular genre.\n",
    "\n",
    "However, the number of missing values makes this result questionable. In Springfield, there are so many that they affect our top 15. Were we not missing these values, things might look different."
   ]
  },
  {
   "cell_type": "markdown",
   "metadata": {
    "id": "jLmXgdanVyhP"
   },
   "source": [
    "[Back to Contents](#back)"
   ]
  },
  {
   "cell_type": "markdown",
   "metadata": {
    "id": "JolODAqr_Zcu"
   },
   "source": [
    "### Hypothesis 3: genre preferences in Springfield and Shelbyville <a id='genre'></a>\n",
    "\n",
    "Hypothesis: Shelbyville loves rap music. Springfield's citizens are more into pop."
   ]
  },
  {
   "cell_type": "markdown",
   "metadata": {
    "id": "DlegSvaT_Zcu"
   },
   "source": [
    "Group the `spr_general` table by genre and find the number of songs played for each genre with the `count()` method. Then sort the result in descending order and store it to `spr_genres`."
   ]
  },
  {
   "cell_type": "code",
   "execution_count": 46,
   "metadata": {
    "id": "r19lIPke_Zcu"
   },
   "outputs": [],
   "source": [
    "# on one line: group the spr_general table by the 'genre' column, \n",
    "spr_df_genre = spr_general.groupby('genre')['genre'].count()\n",
    "spr_genres = spr_df_genre.sort_values(ascending = False)\n",
    "# count the 'genre' values with count() in the grouping, \n",
    "# sort the resulting Series in descending order, and store it to spr_genres"
   ]
  },
  {
   "cell_type": "markdown",
   "metadata": {
    "id": "6kMuomxTiIr8"
   },
   "source": [
    "Print the first 10 rows from `spr_genres`:"
   ]
  },
  {
   "cell_type": "code",
   "execution_count": 47,
   "metadata": {
    "id": "WhCSooF8_Zcv"
   },
   "outputs": [
    {
     "data": {
      "text/plain": [
       "genre\n",
       "pop            5892\n",
       "dance          4435\n",
       "rock           3965\n",
       "electronic     3786\n",
       "hiphop         2096\n",
       "classical      1616\n",
       "world          1432\n",
       "alternative    1379\n",
       "ruspop         1372\n",
       "rusrap         1161\n",
       "Name: genre, dtype: int64"
      ]
     },
     "execution_count": 47,
     "metadata": {},
     "output_type": "execute_result"
    }
   ],
   "source": [
    "# printing the first 10 rows of spr_genres\n",
    "spr_genres.head(10)"
   ]
  },
  {
   "cell_type": "markdown",
   "metadata": {
    "id": "cnPG2vnN_Zcv"
   },
   "source": [
    "Now do the same with the data on Shelbyville.\n",
    "\n",
    "Group the `shel_general` table by genre and find the number of songs played for each genre. Then sort the result in descending order and store it to the `shel_genres` table:\n"
   ]
  },
  {
   "cell_type": "code",
   "execution_count": 48,
   "metadata": {
    "id": "gluLIpE7_Zcv"
   },
   "outputs": [],
   "source": [
    "# on one line: group the shel_general table by the 'genre' column, \n",
    "# count the 'genre' values in the grouping with count(), \n",
    "# sort the resulting Series in descending order and store it to shel_genres\n",
    "shel_df_genre = shel_general.groupby('genre')['genre'].count()\n",
    "shel_genres = shel_df_genre.sort_values(ascending = False)"
   ]
  },
  {
   "cell_type": "markdown",
   "metadata": {
    "id": "5Doha_ODgyQ8"
   },
   "source": [
    "Print the first 10 rows of `shel_genres`:"
   ]
  },
  {
   "cell_type": "code",
   "execution_count": 52,
   "metadata": {
    "id": "uaGJHjVU_Zcv"
   },
   "outputs": [
    {
     "data": {
      "text/plain": [
       "genre\n",
       "pop            2431\n",
       "dance          1932\n",
       "rock           1879\n",
       "electronic     1736\n",
       "hiphop          960\n",
       "alternative     649\n",
       "classical       646\n",
       "rusrap          564\n",
       "ruspop          538\n",
       "world           515\n",
       "Name: genre, dtype: int64"
      ]
     },
     "execution_count": 52,
     "metadata": {},
     "output_type": "execute_result"
    }
   ],
   "source": [
    "# printing the first 10 rows from shel_genres\n",
    "shel_genres.head(10)"
   ]
  },
  {
   "cell_type": "markdown",
   "metadata": {
    "id": "RY51YJYu_Zcv"
   },
   "source": [
    "**Conclusion**"
   ]
  },
  {
   "cell_type": "markdown",
   "metadata": {
    "id": "nVhnJEm__Zcv"
   },
   "source": [
    "The hypothesis has been partially proven true:\n",
    "* Pop music is the most popular genre in Springfield, as expected.\n",
    "* However, pop music turned out to be equally popular in Springfield and Shelbyville, and rap wasn't in the top 5 for either city.\n"
   ]
  },
  {
   "cell_type": "markdown",
   "metadata": {
    "id": "Byr0RfpPVz14"
   },
   "source": [
    "[Back to Contents](#back)"
   ]
  },
  {
   "cell_type": "markdown",
   "metadata": {
    "id": "ykKQ0N65_Zcv"
   },
   "source": [
    "# Findings <a id='end'></a>"
   ]
  },
  {
   "cell_type": "markdown",
   "metadata": {
    "id": "tjUwbHb3_Zcv"
   },
   "source": [
    "We have tested the following three hypotheses:\n",
    "\n",
    "1. User activity differs depending on the day of the week and from city to city. \n",
    "2. On Monday mornings, Springfield and Shelbyville residents listen to different genres. This is also true for Friday evenings. \n",
    "3. Springfield and Shelbyville listeners have different preferences. In both Springfield and Shelbyville, they prefer pop.\n",
    "\n",
    "After analyzing the data, we concluded:\n",
    "\n",
    "1. User activity in Springfield and Shelbyville depends on the day of the week, though the cities vary in different ways. \n",
    "\n",
    "The first hypothesis is fully accepted.\n",
    "\n",
    "2. Musical preferences do not vary significantly over the course of the week in both Springfield and Shelbyville. We can see small differences in order on Mondays, but:\n",
    "* In Springfield and Shelbyville, people listen to pop music most.\n",
    "\n",
    "So we can't accept this hypothesis. We must also keep in mind that the result could have been different if not for the missing values.\n",
    "\n",
    "3. It turns out that the musical preferences of users from Springfield and Shelbyville are quite similar.\n",
    "\n",
    "The third hypothesis is rejected. If there is any difference in preferences, it cannot be seen from this data.\n",
    "\n",
    "### Note \n",
    "In real projects, research involves statistical hypothesis testing, which is more precise and more quantitative. Also note that you cannot always draw conclusions about an entire city based on the data from just one source.\n",
    "\n",
    "You will study hypothesis testing in the sprint on statistical data analysis."
   ]
  },
  {
   "cell_type": "markdown",
   "metadata": {},
   "source": [
    "<div class=\"alert alert-success\">\n",
    "<b>Reviewer's comment v1:</b>\n",
    "    \n",
    "Thanks for the final conclusion! You conducted great research."
   ]
  },
  {
   "cell_type": "markdown",
   "metadata": {},
   "source": [
    "Aleksandra, \n",
    "Thank you for your helpful comments and critiques! I learned a lot. \n",
    "Please let me know if there is anything else to improve :)\n",
    "\n"
   ]
  },
  {
   "cell_type": "markdown",
   "metadata": {
    "id": "Ju4AHDSgV1FE"
   },
   "source": [
    "[Back to Contents](#back)"
   ]
  }
 ],
 "metadata": {
  "ExecuteTimeLog": [
   {
    "duration": 345,
    "start_time": "2022-05-02T21:53:08.572Z"
   },
   {
    "duration": 127,
    "start_time": "2022-05-02T21:54:43.123Z"
   },
   {
    "duration": 58,
    "start_time": "2022-05-02T21:55:00.747Z"
   },
   {
    "duration": 7,
    "start_time": "2022-05-02T21:55:18.971Z"
   },
   {
    "duration": 139,
    "start_time": "2022-05-02T21:55:37.077Z"
   },
   {
    "duration": 137,
    "start_time": "2022-05-02T22:02:21.037Z"
   },
   {
    "duration": 397,
    "start_time": "2022-05-02T22:06:43.145Z"
   },
   {
    "duration": 11,
    "start_time": "2022-05-02T22:07:11.370Z"
   },
   {
    "duration": 5,
    "start_time": "2022-05-02T22:10:42.572Z"
   },
   {
    "duration": 5,
    "start_time": "2022-05-02T22:14:23.100Z"
   },
   {
    "duration": 4,
    "start_time": "2022-05-02T22:16:17.893Z"
   },
   {
    "duration": 8,
    "start_time": "2022-05-02T23:10:50.572Z"
   },
   {
    "duration": 110,
    "start_time": "2022-05-02T23:11:02.252Z"
   },
   {
    "duration": 10,
    "start_time": "2022-05-02T23:16:03.804Z"
   },
   {
    "duration": 4,
    "start_time": "2022-05-02T23:16:38.349Z"
   },
   {
    "duration": 11,
    "start_time": "2022-05-02T23:21:20.213Z"
   },
   {
    "duration": 4,
    "start_time": "2022-05-02T23:21:43.247Z"
   },
   {
    "duration": 5,
    "start_time": "2022-05-02T23:22:19.724Z"
   },
   {
    "duration": 13,
    "start_time": "2022-05-02T23:22:42.230Z"
   },
   {
    "duration": 4,
    "start_time": "2022-05-02T23:22:45.310Z"
   },
   {
    "duration": 22,
    "start_time": "2022-05-02T23:25:24.399Z"
   },
   {
    "duration": 3,
    "start_time": "2022-05-02T23:31:20.032Z"
   },
   {
    "duration": 18,
    "start_time": "2022-05-02T23:32:12.799Z"
   },
   {
    "duration": 18,
    "start_time": "2022-05-02T23:32:29.736Z"
   },
   {
    "duration": 24,
    "start_time": "2022-05-02T23:32:57.815Z"
   },
   {
    "duration": 37,
    "start_time": "2022-05-02T23:33:39.431Z"
   },
   {
    "duration": 35,
    "start_time": "2022-05-02T23:34:40.392Z"
   },
   {
    "duration": 52,
    "start_time": "2022-05-03T13:20:01.768Z"
   },
   {
    "duration": 406,
    "start_time": "2022-05-03T13:20:16.843Z"
   },
   {
    "duration": 157,
    "start_time": "2022-05-03T13:20:17.753Z"
   },
   {
    "duration": 59,
    "start_time": "2022-05-03T13:28:14.913Z"
   },
   {
    "duration": 10,
    "start_time": "2022-05-03T13:28:36.532Z"
   },
   {
    "duration": 7,
    "start_time": "2022-05-03T13:29:50.139Z"
   },
   {
    "duration": 11,
    "start_time": "2022-05-03T13:30:53.965Z"
   },
   {
    "duration": 4,
    "start_time": "2022-05-03T13:30:59.153Z"
   },
   {
    "duration": 8,
    "start_time": "2022-05-03T13:31:04.521Z"
   },
   {
    "duration": 24,
    "start_time": "2022-05-03T13:31:54.213Z"
   },
   {
    "duration": 41,
    "start_time": "2022-05-03T13:39:24.632Z"
   },
   {
    "duration": 9,
    "start_time": "2022-05-03T13:39:32.371Z"
   },
   {
    "duration": 4100,
    "start_time": "2022-05-03T13:44:58.952Z"
   },
   {
    "duration": 13,
    "start_time": "2022-05-03T13:47:55.694Z"
   },
   {
    "duration": 4,
    "start_time": "2022-05-03T13:48:10.728Z"
   },
   {
    "duration": 19,
    "start_time": "2022-05-03T13:49:07.547Z"
   },
   {
    "duration": 204,
    "start_time": "2022-05-03T13:49:49.380Z"
   },
   {
    "duration": 222,
    "start_time": "2022-05-03T13:50:08.391Z"
   },
   {
    "duration": 12,
    "start_time": "2022-05-03T13:50:30.612Z"
   },
   {
    "duration": 11,
    "start_time": "2022-05-03T13:50:46.255Z"
   },
   {
    "duration": 9,
    "start_time": "2022-05-03T13:55:09.563Z"
   },
   {
    "duration": 26,
    "start_time": "2022-05-03T14:01:14.995Z"
   },
   {
    "duration": 25,
    "start_time": "2022-05-03T14:01:44.844Z"
   },
   {
    "duration": 14,
    "start_time": "2022-05-03T14:03:55.103Z"
   },
   {
    "duration": 15,
    "start_time": "2022-05-03T14:04:18.331Z"
   },
   {
    "duration": 11,
    "start_time": "2022-05-03T14:06:07.404Z"
   },
   {
    "duration": 30,
    "start_time": "2022-05-03T14:07:15.950Z"
   },
   {
    "duration": 27,
    "start_time": "2022-05-03T14:08:40.498Z"
   },
   {
    "duration": 30,
    "start_time": "2022-05-03T14:10:28.393Z"
   },
   {
    "duration": 12,
    "start_time": "2022-05-03T14:11:59.258Z"
   },
   {
    "duration": 12,
    "start_time": "2022-05-03T14:12:15.369Z"
   },
   {
    "duration": 25,
    "start_time": "2022-05-03T15:42:37.092Z"
   },
   {
    "duration": 29,
    "start_time": "2022-05-03T15:44:21.598Z"
   },
   {
    "duration": 19,
    "start_time": "2022-05-03T15:48:14.384Z"
   },
   {
    "duration": 29,
    "start_time": "2022-05-03T15:49:04.493Z"
   },
   {
    "duration": 8,
    "start_time": "2022-05-03T15:49:14.493Z"
   },
   {
    "duration": 50,
    "start_time": "2022-05-03T15:49:30.427Z"
   },
   {
    "duration": 19,
    "start_time": "2022-05-03T15:50:25.446Z"
   },
   {
    "duration": 43,
    "start_time": "2022-05-03T15:51:01.516Z"
   },
   {
    "duration": 333,
    "start_time": "2022-05-03T15:56:38.252Z"
   },
   {
    "duration": 13,
    "start_time": "2022-05-03T16:09:20.046Z"
   },
   {
    "duration": 15,
    "start_time": "2022-05-03T16:09:50.101Z"
   },
   {
    "duration": 10,
    "start_time": "2022-05-03T16:12:43.820Z"
   },
   {
    "duration": 4,
    "start_time": "2022-05-03T16:14:04.342Z"
   },
   {
    "duration": 62,
    "start_time": "2022-05-03T16:16:32.405Z"
   },
   {
    "duration": 8,
    "start_time": "2022-05-03T16:16:39.830Z"
   },
   {
    "duration": 7,
    "start_time": "2022-05-03T16:16:57.781Z"
   },
   {
    "duration": 427,
    "start_time": "2022-05-03T16:17:06.649Z"
   },
   {
    "duration": 2473,
    "start_time": "2022-05-03T16:17:09.657Z"
   },
   {
    "duration": 18,
    "start_time": "2022-05-03T16:17:12.461Z"
   },
   {
    "duration": 165,
    "start_time": "2022-05-03T16:17:16.421Z"
   },
   {
    "duration": 4,
    "start_time": "2022-05-03T16:17:20.981Z"
   },
   {
    "duration": 20,
    "start_time": "2022-05-03T16:17:25.422Z"
   },
   {
    "duration": 5,
    "start_time": "2022-05-03T16:17:28.861Z"
   },
   {
    "duration": 255,
    "start_time": "2022-05-03T16:17:32.246Z"
   },
   {
    "duration": 34,
    "start_time": "2022-05-03T16:17:38.457Z"
   },
   {
    "duration": 15,
    "start_time": "2022-05-03T16:21:47.533Z"
   },
   {
    "duration": 12,
    "start_time": "2022-05-03T16:34:16.283Z"
   },
   {
    "duration": 12,
    "start_time": "2022-05-03T16:34:29.093Z"
   },
   {
    "duration": 8,
    "start_time": "2022-05-03T16:35:43.085Z"
   },
   {
    "duration": 25,
    "start_time": "2022-05-03T16:35:52.659Z"
   },
   {
    "duration": 14,
    "start_time": "2022-05-03T16:36:36.013Z"
   },
   {
    "duration": 25,
    "start_time": "2022-05-03T16:36:39.309Z"
   },
   {
    "duration": 27,
    "start_time": "2022-05-03T16:37:27.123Z"
   },
   {
    "duration": 18,
    "start_time": "2022-05-03T16:37:34.355Z"
   },
   {
    "duration": 24,
    "start_time": "2022-05-03T16:37:38.165Z"
   },
   {
    "duration": 24,
    "start_time": "2022-05-03T16:37:56.469Z"
   },
   {
    "duration": 10,
    "start_time": "2022-05-03T16:38:39.848Z"
   },
   {
    "duration": 9,
    "start_time": "2022-05-03T16:38:51.829Z"
   },
   {
    "duration": 75,
    "start_time": "2022-05-03T16:39:51.725Z"
   },
   {
    "duration": 104,
    "start_time": "2022-05-03T16:41:00.061Z"
   },
   {
    "duration": 62,
    "start_time": "2022-05-03T16:41:34.846Z"
   },
   {
    "duration": 7,
    "start_time": "2022-05-03T16:42:26.045Z"
   },
   {
    "duration": 2,
    "start_time": "2022-05-03T16:47:23.305Z"
   },
   {
    "duration": 11,
    "start_time": "2022-05-03T16:49:35.481Z"
   },
   {
    "duration": 10,
    "start_time": "2022-05-03T16:52:06.514Z"
   },
   {
    "duration": 11,
    "start_time": "2022-05-03T16:53:31.714Z"
   },
   {
    "duration": 14,
    "start_time": "2022-05-03T16:53:58.666Z"
   },
   {
    "duration": 14,
    "start_time": "2022-05-03T16:54:13.554Z"
   },
   {
    "duration": 15,
    "start_time": "2022-05-03T16:54:28.610Z"
   },
   {
    "duration": 15,
    "start_time": "2022-05-03T16:54:41.754Z"
   },
   {
    "duration": 11,
    "start_time": "2022-05-03T16:54:47.266Z"
   },
   {
    "duration": 8,
    "start_time": "2022-05-03T16:55:40.642Z"
   },
   {
    "duration": 9,
    "start_time": "2022-05-03T16:59:09.584Z"
   },
   {
    "duration": 3,
    "start_time": "2022-05-03T16:59:16.442Z"
   },
   {
    "duration": 9,
    "start_time": "2022-05-03T16:59:19.171Z"
   },
   {
    "duration": 7,
    "start_time": "2022-05-03T16:59:23.090Z"
   },
   {
    "duration": 7,
    "start_time": "2022-05-03T17:11:05.355Z"
   },
   {
    "duration": 156,
    "start_time": "2022-05-03T17:11:35.981Z"
   },
   {
    "duration": 5,
    "start_time": "2022-05-03T17:13:26.221Z"
   },
   {
    "duration": 15,
    "start_time": "2022-05-03T17:16:04.950Z"
   },
   {
    "duration": 2866,
    "start_time": "2022-05-03T17:18:21.046Z"
   },
   {
    "duration": 36,
    "start_time": "2022-05-03T17:18:57.022Z"
   },
   {
    "duration": 245,
    "start_time": "2022-05-03T17:23:18.152Z"
   },
   {
    "duration": 35,
    "start_time": "2022-05-03T17:24:09.440Z"
   },
   {
    "duration": 24,
    "start_time": "2022-05-03T17:24:31.696Z"
   },
   {
    "duration": 25,
    "start_time": "2022-05-03T17:24:58.696Z"
   },
   {
    "duration": 6,
    "start_time": "2022-05-03T17:30:30.505Z"
   },
   {
    "duration": 3,
    "start_time": "2022-05-03T17:30:40.857Z"
   },
   {
    "duration": 5,
    "start_time": "2022-05-03T17:31:16.807Z"
   },
   {
    "duration": 162,
    "start_time": "2022-05-03T17:33:22.697Z"
   },
   {
    "duration": 10,
    "start_time": "2022-05-03T17:33:31.690Z"
   },
   {
    "duration": 11,
    "start_time": "2022-05-03T17:33:40.369Z"
   },
   {
    "duration": 15,
    "start_time": "2022-05-03T17:33:59.697Z"
   },
   {
    "duration": 16,
    "start_time": "2022-05-03T17:34:48.321Z"
   },
   {
    "duration": 13,
    "start_time": "2022-05-03T17:35:00.385Z"
   },
   {
    "duration": 21,
    "start_time": "2022-05-03T17:36:18.242Z"
   },
   {
    "duration": 32,
    "start_time": "2022-05-03T17:37:03.226Z"
   },
   {
    "duration": 416,
    "start_time": "2022-05-04T13:35:00.309Z"
   },
   {
    "duration": 211,
    "start_time": "2022-05-04T13:35:03.328Z"
   },
   {
    "duration": 18,
    "start_time": "2022-05-04T13:35:07.102Z"
   },
   {
    "duration": 124,
    "start_time": "2022-05-04T13:35:11.406Z"
   },
   {
    "duration": 4,
    "start_time": "2022-05-04T13:35:17.841Z"
   },
   {
    "duration": 10,
    "start_time": "2022-05-04T13:35:22.780Z"
   },
   {
    "duration": 3,
    "start_time": "2022-05-04T13:35:26.313Z"
   },
   {
    "duration": 24,
    "start_time": "2022-05-04T13:35:32.805Z"
   },
   {
    "duration": 26,
    "start_time": "2022-05-04T13:38:11.924Z"
   },
   {
    "duration": 19,
    "start_time": "2022-05-04T13:38:15.212Z"
   },
   {
    "duration": 35,
    "start_time": "2022-05-04T13:38:17.692Z"
   },
   {
    "duration": 10,
    "start_time": "2022-05-04T13:39:03.370Z"
   },
   {
    "duration": 67,
    "start_time": "2022-05-04T13:39:43.123Z"
   },
   {
    "duration": 68,
    "start_time": "2022-05-04T13:39:45.707Z"
   },
   {
    "duration": 73,
    "start_time": "2022-05-04T13:39:56.447Z"
   },
   {
    "duration": 9,
    "start_time": "2022-05-04T13:40:12.120Z"
   },
   {
    "duration": 3,
    "start_time": "2022-05-04T13:40:40.731Z"
   },
   {
    "duration": 11,
    "start_time": "2022-05-04T13:40:56.382Z"
   },
   {
    "duration": 8,
    "start_time": "2022-05-04T13:41:00.840Z"
   },
   {
    "duration": 3,
    "start_time": "2022-05-04T13:53:33.158Z"
   },
   {
    "duration": 46,
    "start_time": "2022-05-04T17:13:17.321Z"
   },
   {
    "duration": 432,
    "start_time": "2022-05-04T17:13:41.273Z"
   },
   {
    "duration": 160,
    "start_time": "2022-05-04T17:13:42.625Z"
   },
   {
    "duration": 23,
    "start_time": "2022-05-04T17:13:44.087Z"
   },
   {
    "duration": 255,
    "start_time": "2022-05-04T17:13:46.297Z"
   },
   {
    "duration": 5,
    "start_time": "2022-05-04T17:13:49.360Z"
   },
   {
    "duration": 11,
    "start_time": "2022-05-04T17:13:54.361Z"
   },
   {
    "duration": 4,
    "start_time": "2022-05-04T17:13:57.130Z"
   },
   {
    "duration": 24,
    "start_time": "2022-05-04T17:13:59.529Z"
   },
   {
    "duration": 22,
    "start_time": "2022-05-04T17:14:02.001Z"
   },
   {
    "duration": 10,
    "start_time": "2022-05-04T17:14:06.912Z"
   },
   {
    "duration": 136,
    "start_time": "2022-05-04T17:18:41.162Z"
   },
   {
    "duration": 129,
    "start_time": "2022-05-04T17:18:51.058Z"
   },
   {
    "duration": 187,
    "start_time": "2022-05-04T17:19:00.105Z"
   },
   {
    "duration": 154,
    "start_time": "2022-05-04T17:19:09.016Z"
   },
   {
    "duration": 167,
    "start_time": "2022-05-04T17:19:16.553Z"
   },
   {
    "duration": 39,
    "start_time": "2022-05-04T17:19:28.705Z"
   },
   {
    "duration": 16,
    "start_time": "2022-05-04T17:20:31.499Z"
   },
   {
    "duration": 18,
    "start_time": "2022-05-04T17:20:54.849Z"
   },
   {
    "duration": 20,
    "start_time": "2022-05-04T17:25:20.787Z"
   },
   {
    "duration": 25,
    "start_time": "2022-05-04T17:25:29.059Z"
   },
   {
    "duration": 62,
    "start_time": "2022-05-04T17:32:38.209Z"
   },
   {
    "duration": 62,
    "start_time": "2022-05-04T17:32:46.010Z"
   },
   {
    "duration": 8,
    "start_time": "2022-05-04T17:32:49.922Z"
   },
   {
    "duration": 3,
    "start_time": "2022-05-04T17:32:53.593Z"
   },
   {
    "duration": 12,
    "start_time": "2022-05-04T17:32:56.794Z"
   },
   {
    "duration": 8,
    "start_time": "2022-05-04T17:32:59.370Z"
   },
   {
    "duration": 7,
    "start_time": "2022-05-04T17:33:12.922Z"
   },
   {
    "duration": 375,
    "start_time": "2022-05-05T12:30:26.268Z"
   },
   {
    "duration": 166,
    "start_time": "2022-05-05T12:30:28.883Z"
   },
   {
    "duration": 17,
    "start_time": "2022-05-05T12:30:32.767Z"
   },
   {
    "duration": 130,
    "start_time": "2022-05-05T12:30:46.038Z"
   },
   {
    "duration": 5,
    "start_time": "2022-05-05T12:31:26.852Z"
   },
   {
    "duration": 13,
    "start_time": "2022-05-05T12:31:29.998Z"
   },
   {
    "duration": 4,
    "start_time": "2022-05-05T12:31:36.009Z"
   },
   {
    "duration": 24,
    "start_time": "2022-05-05T12:31:41.669Z"
   },
   {
    "duration": 21,
    "start_time": "2022-05-05T12:32:12.996Z"
   },
   {
    "duration": 25,
    "start_time": "2022-05-05T12:32:13.030Z"
   },
   {
    "duration": 20,
    "start_time": "2022-05-05T12:32:41.566Z"
   },
   {
    "duration": 24,
    "start_time": "2022-05-05T12:32:50.293Z"
   },
   {
    "duration": 15,
    "start_time": "2022-05-05T12:33:24.229Z"
   },
   {
    "duration": 24,
    "start_time": "2022-05-05T12:33:31.644Z"
   },
   {
    "duration": 67,
    "start_time": "2022-05-05T12:40:32.367Z"
   },
   {
    "duration": 12,
    "start_time": "2022-05-05T12:41:04.446Z"
   },
   {
    "duration": 9,
    "start_time": "2022-05-05T12:42:41.659Z"
   },
   {
    "duration": 198,
    "start_time": "2022-05-05T12:58:10.677Z"
   },
   {
    "duration": 22,
    "start_time": "2022-05-05T12:58:20.812Z"
   },
   {
    "duration": 24,
    "start_time": "2022-05-05T12:58:26.089Z"
   },
   {
    "duration": 26,
    "start_time": "2022-05-05T12:59:18.956Z"
   },
   {
    "duration": 19,
    "start_time": "2022-05-05T12:59:22.959Z"
   },
   {
    "duration": 25,
    "start_time": "2022-05-05T12:59:25.526Z"
   },
   {
    "duration": 25,
    "start_time": "2022-05-05T13:00:38.570Z"
   },
   {
    "duration": 6,
    "start_time": "2022-05-05T13:26:43.972Z"
   },
   {
    "duration": 3,
    "start_time": "2022-05-05T13:27:02.538Z"
   },
   {
    "duration": 11,
    "start_time": "2022-05-05T13:27:05.633Z"
   },
   {
    "duration": 7,
    "start_time": "2022-05-05T13:27:09.731Z"
   },
   {
    "duration": 25,
    "start_time": "2022-05-05T13:29:09.352Z"
   },
   {
    "duration": 12,
    "start_time": "2022-05-05T13:35:56.485Z"
   },
   {
    "duration": 25,
    "start_time": "2022-05-05T13:36:09.597Z"
   },
   {
    "duration": 14,
    "start_time": "2022-05-05T14:30:55.159Z"
   },
   {
    "duration": 11,
    "start_time": "2022-05-05T14:31:39.262Z"
   },
   {
    "duration": 49,
    "start_time": "2022-05-05T14:32:26.095Z"
   },
   {
    "duration": 25,
    "start_time": "2022-05-05T14:33:04.080Z"
   },
   {
    "duration": 33,
    "start_time": "2022-05-05T14:33:42.040Z"
   },
   {
    "duration": 93,
    "start_time": "2022-05-05T14:38:38.650Z"
   },
   {
    "duration": 59,
    "start_time": "2022-05-05T14:38:55.126Z"
   },
   {
    "duration": 70,
    "start_time": "2022-05-05T17:18:00.827Z"
   },
   {
    "duration": 10,
    "start_time": "2022-05-05T17:18:44.417Z"
   },
   {
    "duration": 10,
    "start_time": "2022-05-05T17:22:35.891Z"
   },
   {
    "duration": 10,
    "start_time": "2022-05-05T17:26:18.996Z"
   },
   {
    "duration": 462,
    "start_time": "2022-05-05T17:26:32.642Z"
   },
   {
    "duration": 953,
    "start_time": "2022-05-05T17:26:34.428Z"
   },
   {
    "duration": 34,
    "start_time": "2022-05-05T17:26:35.384Z"
   },
   {
    "duration": 169,
    "start_time": "2022-05-05T17:26:37.413Z"
   },
   {
    "duration": 6,
    "start_time": "2022-05-05T17:26:40.259Z"
   },
   {
    "duration": 13,
    "start_time": "2022-05-05T17:26:41.612Z"
   },
   {
    "duration": 6,
    "start_time": "2022-05-05T17:26:43.827Z"
   },
   {
    "duration": 36,
    "start_time": "2022-05-05T17:26:45.595Z"
   },
   {
    "duration": 25,
    "start_time": "2022-05-05T17:26:47.826Z"
   },
   {
    "duration": 34,
    "start_time": "2022-05-05T17:26:51.042Z"
   },
   {
    "duration": 90,
    "start_time": "2022-05-05T17:27:42.963Z"
   },
   {
    "duration": 104,
    "start_time": "2022-05-05T17:27:45.411Z"
   },
   {
    "duration": 86,
    "start_time": "2022-05-05T17:27:48.371Z"
   },
   {
    "duration": 10,
    "start_time": "2022-05-05T17:27:53.683Z"
   },
   {
    "duration": 4,
    "start_time": "2022-05-05T17:28:08.922Z"
   },
   {
    "duration": 14,
    "start_time": "2022-05-05T17:28:12.123Z"
   },
   {
    "duration": 11,
    "start_time": "2022-05-05T17:28:15.051Z"
   },
   {
    "duration": 31,
    "start_time": "2022-05-05T17:28:54.994Z"
   },
   {
    "duration": 38,
    "start_time": "2022-05-05T17:28:57.938Z"
   },
   {
    "duration": 48,
    "start_time": "2022-05-05T17:41:03.205Z"
   },
   {
    "duration": 76,
    "start_time": "2022-05-05T17:42:35.932Z"
   },
   {
    "duration": 13,
    "start_time": "2022-05-05T17:43:01.030Z"
   },
   {
    "duration": 203,
    "start_time": "2022-05-05T17:43:20.406Z"
   },
   {
    "duration": 4,
    "start_time": "2022-05-05T17:43:30.733Z"
   },
   {
    "duration": 239,
    "start_time": "2022-05-05T17:52:33.041Z"
   },
   {
    "duration": 6,
    "start_time": "2022-05-05T17:52:40.127Z"
   },
   {
    "duration": 15,
    "start_time": "2022-05-05T17:54:40.366Z"
   },
   {
    "duration": 6,
    "start_time": "2022-05-05T18:02:26.502Z"
   },
   {
    "duration": 293,
    "start_time": "2022-05-05T18:03:16.712Z"
   },
   {
    "duration": 211,
    "start_time": "2022-05-05T18:03:54.704Z"
   },
   {
    "duration": 12,
    "start_time": "2022-05-05T18:06:02.153Z"
   },
   {
    "duration": 14,
    "start_time": "2022-05-05T18:20:41.367Z"
   },
   {
    "duration": 226,
    "start_time": "2022-05-05T18:20:44.650Z"
   },
   {
    "duration": 235,
    "start_time": "2022-05-05T18:20:53.410Z"
   },
   {
    "duration": 4,
    "start_time": "2022-05-05T18:47:13.784Z"
   },
   {
    "duration": 13,
    "start_time": "2022-05-05T18:47:17.928Z"
   },
   {
    "duration": 5,
    "start_time": "2022-05-05T19:02:43.939Z"
   },
   {
    "duration": 4,
    "start_time": "2022-05-05T19:03:16.282Z"
   },
   {
    "duration": 215,
    "start_time": "2022-05-05T19:03:16.738Z"
   },
   {
    "duration": 19,
    "start_time": "2022-05-05T19:03:17.482Z"
   },
   {
    "duration": 279,
    "start_time": "2022-05-05T19:03:19.026Z"
   },
   {
    "duration": 5,
    "start_time": "2022-05-05T19:03:21.340Z"
   },
   {
    "duration": 11,
    "start_time": "2022-05-05T19:03:22.902Z"
   },
   {
    "duration": 6,
    "start_time": "2022-05-05T19:03:23.385Z"
   },
   {
    "duration": 63,
    "start_time": "2022-05-05T19:03:24.037Z"
   },
   {
    "duration": 28,
    "start_time": "2022-05-05T19:03:25.199Z"
   },
   {
    "duration": 31,
    "start_time": "2022-05-05T19:03:26.727Z"
   },
   {
    "duration": 96,
    "start_time": "2022-05-05T19:03:27.879Z"
   },
   {
    "duration": 101,
    "start_time": "2022-05-05T19:03:28.859Z"
   },
   {
    "duration": 88,
    "start_time": "2022-05-05T19:03:29.737Z"
   },
   {
    "duration": 10,
    "start_time": "2022-05-05T19:03:31.447Z"
   },
   {
    "duration": 4,
    "start_time": "2022-05-05T19:03:32.011Z"
   },
   {
    "duration": 13,
    "start_time": "2022-05-05T19:03:32.669Z"
   },
   {
    "duration": 10,
    "start_time": "2022-05-05T19:03:34.119Z"
   },
   {
    "duration": 40,
    "start_time": "2022-05-05T19:03:37.492Z"
   },
   {
    "duration": 50,
    "start_time": "2022-05-05T19:03:38.967Z"
   },
   {
    "duration": 4,
    "start_time": "2022-05-05T19:03:40.857Z"
   },
   {
    "duration": 6,
    "start_time": "2022-05-05T19:03:41.610Z"
   },
   {
    "duration": 13,
    "start_time": "2022-05-05T19:03:44.430Z"
   },
   {
    "duration": 4,
    "start_time": "2022-05-05T19:03:45.427Z"
   },
   {
    "duration": 8,
    "start_time": "2022-05-05T19:03:52.752Z"
   },
   {
    "duration": 3,
    "start_time": "2022-05-05T22:17:12.439Z"
   },
   {
    "duration": 200,
    "start_time": "2022-05-05T22:17:13.684Z"
   },
   {
    "duration": 16,
    "start_time": "2022-05-05T22:17:15.806Z"
   },
   {
    "duration": 161,
    "start_time": "2022-05-05T22:17:17.412Z"
   },
   {
    "duration": 6,
    "start_time": "2022-05-05T22:17:19.957Z"
   },
   {
    "duration": 11,
    "start_time": "2022-05-05T22:17:20.319Z"
   },
   {
    "duration": 6,
    "start_time": "2022-05-05T22:17:20.734Z"
   },
   {
    "duration": 31,
    "start_time": "2022-05-05T22:17:21.361Z"
   },
   {
    "duration": 21,
    "start_time": "2022-05-05T22:17:21.980Z"
   },
   {
    "duration": 31,
    "start_time": "2022-05-05T22:17:22.395Z"
   },
   {
    "duration": 89,
    "start_time": "2022-05-05T22:17:23.053Z"
   },
   {
    "duration": 95,
    "start_time": "2022-05-05T22:17:23.483Z"
   },
   {
    "duration": 84,
    "start_time": "2022-05-05T22:17:23.993Z"
   },
   {
    "duration": 10,
    "start_time": "2022-05-05T22:17:25.458Z"
   },
   {
    "duration": 4,
    "start_time": "2022-05-05T22:17:26.047Z"
   },
   {
    "duration": 13,
    "start_time": "2022-05-05T22:17:26.462Z"
   },
   {
    "duration": 10,
    "start_time": "2022-05-05T22:17:27.229Z"
   },
   {
    "duration": 34,
    "start_time": "2022-05-05T22:17:30.545Z"
   },
   {
    "duration": 42,
    "start_time": "2022-05-05T22:17:31.045Z"
   },
   {
    "duration": 4,
    "start_time": "2022-05-05T22:17:31.767Z"
   },
   {
    "duration": 4,
    "start_time": "2022-05-05T22:17:32.000Z"
   },
   {
    "duration": 13,
    "start_time": "2022-05-05T22:17:32.518Z"
   },
   {
    "duration": 4,
    "start_time": "2022-05-05T22:17:32.762Z"
   },
   {
    "duration": 4,
    "start_time": "2022-05-05T22:17:33.030Z"
   },
   {
    "duration": 3,
    "start_time": "2022-05-05T22:17:33.273Z"
   },
   {
    "duration": 4,
    "start_time": "2022-05-05T22:17:33.507Z"
   },
   {
    "duration": 3,
    "start_time": "2022-05-05T22:17:33.724Z"
   },
   {
    "duration": 4,
    "start_time": "2022-05-05T22:17:34.188Z"
   },
   {
    "duration": 3,
    "start_time": "2022-05-05T22:17:35.623Z"
   },
   {
    "duration": 7,
    "start_time": "2022-05-05T22:17:35.856Z"
   },
   {
    "duration": 4,
    "start_time": "2022-05-05T22:17:36.077Z"
   },
   {
    "duration": 191,
    "start_time": "2022-05-05T22:17:36.531Z"
   },
   {
    "duration": 187,
    "start_time": "2022-05-05T22:19:48.180Z"
   },
   {
    "duration": 13,
    "start_time": "2022-05-05T22:19:52.845Z"
   },
   {
    "duration": 188,
    "start_time": "2022-05-05T22:20:49.163Z"
   },
   {
    "duration": 193,
    "start_time": "2022-05-05T22:21:28.173Z"
   },
   {
    "duration": 3155,
    "start_time": "2022-05-05T22:21:31.700Z"
   },
   {
    "duration": 3252,
    "start_time": "2022-05-05T22:21:35.437Z"
   },
   {
    "duration": 3329,
    "start_time": "2022-05-05T22:23:25.342Z"
   },
   {
    "duration": 3445,
    "start_time": "2022-05-05T22:24:28.366Z"
   },
   {
    "duration": 3845,
    "start_time": "2022-05-05T22:30:07.375Z"
   },
   {
    "duration": 3313,
    "start_time": "2022-05-05T22:30:11.742Z"
   },
   {
    "duration": 200,
    "start_time": "2022-05-05T22:32:17.800Z"
   },
   {
    "duration": 3410,
    "start_time": "2022-05-05T22:32:43.351Z"
   },
   {
    "duration": 3411,
    "start_time": "2022-05-05T22:34:18.288Z"
   },
   {
    "duration": 3447,
    "start_time": "2022-05-05T22:36:33.607Z"
   },
   {
    "duration": 4058,
    "start_time": "2022-05-05T22:40:30.127Z"
   },
   {
    "duration": 3308,
    "start_time": "2022-05-05T22:52:26.593Z"
   },
   {
    "duration": 3423,
    "start_time": "2022-05-05T23:11:08.107Z"
   },
   {
    "duration": 3502,
    "start_time": "2022-05-05T23:31:49.401Z"
   },
   {
    "duration": 3241,
    "start_time": "2022-05-05T23:34:22.810Z"
   },
   {
    "duration": 3182,
    "start_time": "2022-05-05T23:42:14.131Z"
   },
   {
    "duration": 3292,
    "start_time": "2022-05-05T23:43:14.675Z"
   },
   {
    "duration": 3208,
    "start_time": "2022-05-05T23:55:32.638Z"
   },
   {
    "duration": 14,
    "start_time": "2022-05-05T23:56:24.277Z"
   },
   {
    "duration": 5,
    "start_time": "2022-05-05T23:56:27.317Z"
   },
   {
    "duration": 32,
    "start_time": "2022-05-05T23:56:33.744Z"
   },
   {
    "duration": 22,
    "start_time": "2022-05-05T23:56:39.332Z"
   },
   {
    "duration": 30,
    "start_time": "2022-05-05T23:56:42.180Z"
   },
   {
    "duration": 90,
    "start_time": "2022-05-05T23:56:47.053Z"
   },
   {
    "duration": 97,
    "start_time": "2022-05-05T23:56:49.661Z"
   },
   {
    "duration": 82,
    "start_time": "2022-05-05T23:56:53.949Z"
   },
   {
    "duration": 9,
    "start_time": "2022-05-05T23:56:56.877Z"
   },
   {
    "duration": 4,
    "start_time": "2022-05-05T23:57:00.301Z"
   },
   {
    "duration": 16,
    "start_time": "2022-05-05T23:57:03.413Z"
   },
   {
    "duration": 9,
    "start_time": "2022-05-05T23:57:06.301Z"
   },
   {
    "duration": 34,
    "start_time": "2022-05-05T23:57:13.709Z"
   },
   {
    "duration": 84,
    "start_time": "2022-05-05T23:57:31.334Z"
   },
   {
    "duration": 22,
    "start_time": "2022-05-05T23:57:48.461Z"
   },
   {
    "duration": 4,
    "start_time": "2022-05-05T23:58:17.030Z"
   },
   {
    "duration": 5,
    "start_time": "2022-05-06T00:02:07.998Z"
   },
   {
    "duration": 5,
    "start_time": "2022-05-06T00:03:26.406Z"
   },
   {
    "duration": 202,
    "start_time": "2022-05-06T00:03:59.486Z"
   },
   {
    "duration": 23,
    "start_time": "2022-05-06T00:04:15.566Z"
   },
   {
    "duration": 22,
    "start_time": "2022-05-06T00:06:14.439Z"
   },
   {
    "duration": 33,
    "start_time": "2022-05-06T00:07:13.391Z"
   },
   {
    "duration": 23,
    "start_time": "2022-05-06T00:09:18.975Z"
   },
   {
    "duration": 19,
    "start_time": "2022-05-06T00:10:12.231Z"
   },
   {
    "duration": 19,
    "start_time": "2022-05-06T00:10:35.575Z"
   },
   {
    "duration": 19,
    "start_time": "2022-05-06T00:14:13.489Z"
   },
   {
    "duration": 25,
    "start_time": "2022-05-06T00:15:05.744Z"
   },
   {
    "duration": 27,
    "start_time": "2022-05-06T00:15:16.584Z"
   },
   {
    "duration": 360,
    "start_time": "2022-05-06T14:31:13.451Z"
   },
   {
    "duration": 132,
    "start_time": "2022-05-06T14:31:13.813Z"
   },
   {
    "duration": 16,
    "start_time": "2022-05-06T14:31:13.946Z"
   },
   {
    "duration": 116,
    "start_time": "2022-05-06T14:31:13.964Z"
   },
   {
    "duration": 4,
    "start_time": "2022-05-06T14:31:14.082Z"
   },
   {
    "duration": 18,
    "start_time": "2022-05-06T14:31:14.087Z"
   },
   {
    "duration": 8,
    "start_time": "2022-05-06T14:31:14.106Z"
   },
   {
    "duration": 23,
    "start_time": "2022-05-06T14:31:14.116Z"
   },
   {
    "duration": 20,
    "start_time": "2022-05-06T14:31:14.141Z"
   },
   {
    "duration": 23,
    "start_time": "2022-05-06T14:31:14.163Z"
   },
   {
    "duration": 54,
    "start_time": "2022-05-06T14:31:14.200Z"
   },
   {
    "duration": 76,
    "start_time": "2022-05-06T14:31:14.255Z"
   },
   {
    "duration": 53,
    "start_time": "2022-05-06T14:31:14.333Z"
   },
   {
    "duration": 6,
    "start_time": "2022-05-06T14:31:14.399Z"
   },
   {
    "duration": 5,
    "start_time": "2022-05-06T14:31:14.407Z"
   },
   {
    "duration": 12,
    "start_time": "2022-05-06T14:31:14.414Z"
   },
   {
    "duration": 7,
    "start_time": "2022-05-06T14:31:14.427Z"
   },
   {
    "duration": 22,
    "start_time": "2022-05-06T14:31:14.435Z"
   },
   {
    "duration": 48,
    "start_time": "2022-05-06T14:31:14.458Z"
   },
   {
    "duration": 2,
    "start_time": "2022-05-06T14:31:14.508Z"
   },
   {
    "duration": 74,
    "start_time": "2022-05-06T14:31:14.512Z"
   },
   {
    "duration": 0,
    "start_time": "2022-05-06T14:31:14.587Z"
   },
   {
    "duration": 0,
    "start_time": "2022-05-06T14:31:14.600Z"
   },
   {
    "duration": 0,
    "start_time": "2022-05-06T14:31:14.601Z"
   },
   {
    "duration": 0,
    "start_time": "2022-05-06T14:31:14.602Z"
   },
   {
    "duration": 0,
    "start_time": "2022-05-06T14:31:14.603Z"
   },
   {
    "duration": 0,
    "start_time": "2022-05-06T14:31:14.604Z"
   },
   {
    "duration": 0,
    "start_time": "2022-05-06T14:31:14.606Z"
   },
   {
    "duration": 1,
    "start_time": "2022-05-06T14:31:14.606Z"
   },
   {
    "duration": 0,
    "start_time": "2022-05-06T14:31:14.608Z"
   },
   {
    "duration": 0,
    "start_time": "2022-05-06T14:31:14.609Z"
   },
   {
    "duration": 0,
    "start_time": "2022-05-06T14:31:14.610Z"
   },
   {
    "duration": 0,
    "start_time": "2022-05-06T14:31:14.611Z"
   },
   {
    "duration": 0,
    "start_time": "2022-05-06T14:31:14.611Z"
   },
   {
    "duration": 0,
    "start_time": "2022-05-06T14:31:14.612Z"
   },
   {
    "duration": 0,
    "start_time": "2022-05-06T14:31:14.613Z"
   },
   {
    "duration": 0,
    "start_time": "2022-05-06T14:31:14.614Z"
   },
   {
    "duration": 0,
    "start_time": "2022-05-06T14:31:14.615Z"
   },
   {
    "duration": 0,
    "start_time": "2022-05-06T14:31:14.616Z"
   },
   {
    "duration": 0,
    "start_time": "2022-05-06T14:31:14.618Z"
   },
   {
    "duration": 7,
    "start_time": "2022-05-06T14:33:27.140Z"
   },
   {
    "duration": 3,
    "start_time": "2022-05-06T14:33:33.712Z"
   },
   {
    "duration": 18,
    "start_time": "2022-05-06T14:33:38.496Z"
   },
   {
    "duration": 4,
    "start_time": "2022-05-06T14:38:06.197Z"
   },
   {
    "duration": 13,
    "start_time": "2022-05-06T14:38:11.796Z"
   },
   {
    "duration": 13,
    "start_time": "2022-05-06T14:38:38.282Z"
   },
   {
    "duration": 3,
    "start_time": "2022-05-06T14:39:23.999Z"
   },
   {
    "duration": 13,
    "start_time": "2022-05-06T14:39:33.004Z"
   },
   {
    "duration": 3,
    "start_time": "2022-05-06T14:42:51.630Z"
   },
   {
    "duration": 6,
    "start_time": "2022-05-06T14:42:57.564Z"
   },
   {
    "duration": 7,
    "start_time": "2022-05-06T14:43:29.513Z"
   },
   {
    "duration": 11,
    "start_time": "2022-05-06T14:43:45.905Z"
   },
   {
    "duration": 10,
    "start_time": "2022-05-06T14:44:32.377Z"
   },
   {
    "duration": 2,
    "start_time": "2022-05-06T14:46:31.686Z"
   },
   {
    "duration": 14,
    "start_time": "2022-05-06T14:46:37.116Z"
   },
   {
    "duration": 3,
    "start_time": "2022-05-06T14:47:27.959Z"
   },
   {
    "duration": 10,
    "start_time": "2022-05-06T14:47:31.429Z"
   },
   {
    "duration": 9,
    "start_time": "2022-05-06T14:47:45.439Z"
   },
   {
    "duration": 3,
    "start_time": "2022-05-06T14:49:17.310Z"
   },
   {
    "duration": 3,
    "start_time": "2022-05-06T14:50:57.066Z"
   },
   {
    "duration": 10,
    "start_time": "2022-05-06T14:50:59.530Z"
   },
   {
    "duration": 3,
    "start_time": "2022-05-06T15:47:32.631Z"
   },
   {
    "duration": 7,
    "start_time": "2022-05-06T15:47:35.790Z"
   },
   {
    "duration": 7,
    "start_time": "2022-05-06T15:47:44.175Z"
   },
   {
    "duration": 7,
    "start_time": "2022-05-06T15:47:57.157Z"
   },
   {
    "duration": 7,
    "start_time": "2022-05-06T15:48:12.755Z"
   },
   {
    "duration": 3,
    "start_time": "2022-05-06T15:50:12.979Z"
   },
   {
    "duration": 6,
    "start_time": "2022-05-06T15:50:15.049Z"
   },
   {
    "duration": 148,
    "start_time": "2022-05-06T15:54:04.316Z"
   },
   {
    "duration": 5091,
    "start_time": "2022-05-06T15:54:09.630Z"
   },
   {
    "duration": 422,
    "start_time": "2022-05-06T15:54:47.865Z"
   },
   {
    "duration": 135,
    "start_time": "2022-05-06T15:54:48.289Z"
   },
   {
    "duration": 16,
    "start_time": "2022-05-06T15:54:48.426Z"
   },
   {
    "duration": 135,
    "start_time": "2022-05-06T15:54:48.445Z"
   },
   {
    "duration": 3,
    "start_time": "2022-05-06T15:54:48.582Z"
   },
   {
    "duration": 10,
    "start_time": "2022-05-06T15:54:48.599Z"
   },
   {
    "duration": 10,
    "start_time": "2022-05-06T15:54:48.610Z"
   },
   {
    "duration": 26,
    "start_time": "2022-05-06T15:54:48.621Z"
   },
   {
    "duration": 17,
    "start_time": "2022-05-06T15:54:48.648Z"
   },
   {
    "duration": 35,
    "start_time": "2022-05-06T15:54:48.668Z"
   },
   {
    "duration": 56,
    "start_time": "2022-05-06T15:54:48.704Z"
   },
   {
    "duration": 80,
    "start_time": "2022-05-06T15:54:48.762Z"
   },
   {
    "duration": 57,
    "start_time": "2022-05-06T15:54:48.844Z"
   },
   {
    "duration": 7,
    "start_time": "2022-05-06T15:54:48.903Z"
   },
   {
    "duration": 5,
    "start_time": "2022-05-06T15:54:48.911Z"
   },
   {
    "duration": 11,
    "start_time": "2022-05-06T15:54:48.918Z"
   },
   {
    "duration": 7,
    "start_time": "2022-05-06T15:54:48.931Z"
   },
   {
    "duration": 21,
    "start_time": "2022-05-06T15:54:48.939Z"
   },
   {
    "duration": 75,
    "start_time": "2022-05-06T15:54:48.961Z"
   },
   {
    "duration": 2,
    "start_time": "2022-05-06T15:54:49.038Z"
   },
   {
    "duration": 14,
    "start_time": "2022-05-06T15:54:49.042Z"
   },
   {
    "duration": 8,
    "start_time": "2022-05-06T15:54:49.057Z"
   },
   {
    "duration": 12,
    "start_time": "2022-05-06T15:54:49.067Z"
   },
   {
    "duration": 27,
    "start_time": "2022-05-06T15:54:49.081Z"
   },
   {
    "duration": 12,
    "start_time": "2022-05-06T15:54:49.110Z"
   },
   {
    "duration": 108,
    "start_time": "2022-05-06T15:54:49.125Z"
   },
   {
    "duration": 0,
    "start_time": "2022-05-06T15:54:49.235Z"
   },
   {
    "duration": 0,
    "start_time": "2022-05-06T15:54:49.237Z"
   },
   {
    "duration": 0,
    "start_time": "2022-05-06T15:54:49.238Z"
   },
   {
    "duration": 0,
    "start_time": "2022-05-06T15:54:49.239Z"
   },
   {
    "duration": 0,
    "start_time": "2022-05-06T15:54:49.240Z"
   },
   {
    "duration": 0,
    "start_time": "2022-05-06T15:54:49.242Z"
   },
   {
    "duration": 0,
    "start_time": "2022-05-06T15:54:49.243Z"
   },
   {
    "duration": 0,
    "start_time": "2022-05-06T15:54:49.244Z"
   },
   {
    "duration": 0,
    "start_time": "2022-05-06T15:54:49.245Z"
   },
   {
    "duration": 0,
    "start_time": "2022-05-06T15:54:49.246Z"
   },
   {
    "duration": 0,
    "start_time": "2022-05-06T15:54:49.247Z"
   },
   {
    "duration": 0,
    "start_time": "2022-05-06T15:54:49.248Z"
   },
   {
    "duration": 0,
    "start_time": "2022-05-06T15:54:49.249Z"
   },
   {
    "duration": 0,
    "start_time": "2022-05-06T15:54:49.250Z"
   },
   {
    "duration": 0,
    "start_time": "2022-05-06T15:54:49.251Z"
   },
   {
    "duration": 22,
    "start_time": "2022-05-06T15:55:41.161Z"
   },
   {
    "duration": 18,
    "start_time": "2022-05-06T15:56:36.705Z"
   },
   {
    "duration": 16,
    "start_time": "2022-05-06T15:57:09.186Z"
   },
   {
    "duration": 16,
    "start_time": "2022-05-06T15:58:13.750Z"
   },
   {
    "duration": 16,
    "start_time": "2022-05-06T15:58:57.147Z"
   },
   {
    "duration": 194,
    "start_time": "2022-05-06T15:59:56.099Z"
   },
   {
    "duration": 17,
    "start_time": "2022-05-06T16:00:04.767Z"
   },
   {
    "duration": 194,
    "start_time": "2022-05-06T16:05:00.929Z"
   },
   {
    "duration": 205,
    "start_time": "2022-05-06T16:05:13.422Z"
   },
   {
    "duration": 205,
    "start_time": "2022-05-06T16:07:14.638Z"
   },
   {
    "duration": 308,
    "start_time": "2022-05-06T16:07:37.833Z"
   },
   {
    "duration": 185,
    "start_time": "2022-05-06T16:13:46.537Z"
   },
   {
    "duration": 186,
    "start_time": "2022-05-06T16:14:00.056Z"
   },
   {
    "duration": 208,
    "start_time": "2022-05-06T16:14:14.492Z"
   },
   {
    "duration": 9,
    "start_time": "2022-05-06T16:15:14.124Z"
   },
   {
    "duration": 397,
    "start_time": "2022-05-06T16:48:57.903Z"
   },
   {
    "duration": 157,
    "start_time": "2022-05-06T16:48:58.302Z"
   },
   {
    "duration": 16,
    "start_time": "2022-05-06T16:48:58.461Z"
   },
   {
    "duration": 135,
    "start_time": "2022-05-06T16:48:58.479Z"
   },
   {
    "duration": 3,
    "start_time": "2022-05-06T16:48:58.616Z"
   },
   {
    "duration": 11,
    "start_time": "2022-05-06T16:48:58.621Z"
   },
   {
    "duration": 7,
    "start_time": "2022-05-06T16:48:58.634Z"
   },
   {
    "duration": 27,
    "start_time": "2022-05-06T16:48:58.642Z"
   },
   {
    "duration": 40,
    "start_time": "2022-05-06T16:48:58.671Z"
   },
   {
    "duration": 22,
    "start_time": "2022-05-06T16:48:58.713Z"
   },
   {
    "duration": 69,
    "start_time": "2022-05-06T16:48:58.737Z"
   },
   {
    "duration": 66,
    "start_time": "2022-05-06T16:48:58.807Z"
   },
   {
    "duration": 65,
    "start_time": "2022-05-06T16:48:58.874Z"
   },
   {
    "duration": 7,
    "start_time": "2022-05-06T16:48:58.940Z"
   },
   {
    "duration": 6,
    "start_time": "2022-05-06T16:48:58.949Z"
   },
   {
    "duration": 13,
    "start_time": "2022-05-06T16:48:58.956Z"
   },
   {
    "duration": 9,
    "start_time": "2022-05-06T16:48:58.970Z"
   },
   {
    "duration": 35,
    "start_time": "2022-05-06T16:48:58.980Z"
   },
   {
    "duration": 25,
    "start_time": "2022-05-06T16:48:59.017Z"
   },
   {
    "duration": 3,
    "start_time": "2022-05-06T16:48:59.044Z"
   },
   {
    "duration": 7,
    "start_time": "2022-05-06T16:48:59.049Z"
   },
   {
    "duration": 5,
    "start_time": "2022-05-06T16:48:59.058Z"
   },
   {
    "duration": 53,
    "start_time": "2022-05-06T16:48:59.064Z"
   },
   {
    "duration": 23,
    "start_time": "2022-05-06T16:48:59.119Z"
   },
   {
    "duration": 24,
    "start_time": "2022-05-06T16:48:59.144Z"
   },
   {
    "duration": 48,
    "start_time": "2022-05-06T16:48:59.169Z"
   },
   {
    "duration": 28,
    "start_time": "2022-05-06T16:48:59.219Z"
   },
   {
    "duration": 24,
    "start_time": "2022-05-06T16:48:59.251Z"
   },
   {
    "duration": 66,
    "start_time": "2022-05-06T16:48:59.301Z"
   },
   {
    "duration": 0,
    "start_time": "2022-05-06T16:48:59.369Z"
   },
   {
    "duration": 0,
    "start_time": "2022-05-06T16:48:59.370Z"
   },
   {
    "duration": 0,
    "start_time": "2022-05-06T16:48:59.371Z"
   },
   {
    "duration": 0,
    "start_time": "2022-05-06T16:48:59.373Z"
   },
   {
    "duration": 0,
    "start_time": "2022-05-06T16:48:59.374Z"
   },
   {
    "duration": 0,
    "start_time": "2022-05-06T16:48:59.376Z"
   },
   {
    "duration": 0,
    "start_time": "2022-05-06T16:48:59.377Z"
   },
   {
    "duration": 0,
    "start_time": "2022-05-06T16:48:59.400Z"
   },
   {
    "duration": 0,
    "start_time": "2022-05-06T16:48:59.402Z"
   },
   {
    "duration": 0,
    "start_time": "2022-05-06T16:48:59.403Z"
   },
   {
    "duration": 0,
    "start_time": "2022-05-06T16:48:59.404Z"
   },
   {
    "duration": 0,
    "start_time": "2022-05-06T16:48:59.406Z"
   },
   {
    "duration": 41,
    "start_time": "2022-05-06T16:50:54.403Z"
   },
   {
    "duration": 24,
    "start_time": "2022-05-06T16:50:56.881Z"
   },
   {
    "duration": 26,
    "start_time": "2022-05-06T16:51:00.910Z"
   },
   {
    "duration": 22,
    "start_time": "2022-05-06T16:51:05.002Z"
   },
   {
    "duration": 26,
    "start_time": "2022-05-06T16:51:08.552Z"
   },
   {
    "duration": 23,
    "start_time": "2022-05-06T16:51:11.817Z"
   },
   {
    "duration": 8,
    "start_time": "2022-05-06T16:54:38.543Z"
   },
   {
    "duration": 8,
    "start_time": "2022-05-06T17:00:49.525Z"
   },
   {
    "duration": 10,
    "start_time": "2022-05-06T17:01:41.023Z"
   },
   {
    "duration": 8,
    "start_time": "2022-05-06T17:02:32.716Z"
   },
   {
    "duration": 8,
    "start_time": "2022-05-06T17:03:36.239Z"
   },
   {
    "duration": 9,
    "start_time": "2022-05-06T17:03:53.478Z"
   },
   {
    "duration": 202,
    "start_time": "2022-05-06T17:05:16.934Z"
   },
   {
    "duration": 14,
    "start_time": "2022-05-06T17:05:39.306Z"
   },
   {
    "duration": 9,
    "start_time": "2022-05-06T17:08:04.156Z"
   },
   {
    "duration": 9,
    "start_time": "2022-05-06T17:08:56.872Z"
   },
   {
    "duration": 14,
    "start_time": "2022-05-06T17:09:12.068Z"
   },
   {
    "duration": 17,
    "start_time": "2022-05-06T17:09:52.063Z"
   },
   {
    "duration": 13,
    "start_time": "2022-05-06T17:10:36.970Z"
   },
   {
    "duration": 14,
    "start_time": "2022-05-06T17:11:17.225Z"
   },
   {
    "duration": 13,
    "start_time": "2022-05-06T17:11:38.561Z"
   },
   {
    "duration": 208,
    "start_time": "2022-05-06T17:12:38.923Z"
   },
   {
    "duration": 204,
    "start_time": "2022-05-06T17:12:46.199Z"
   },
   {
    "duration": 6,
    "start_time": "2022-05-06T17:17:31.695Z"
   },
   {
    "duration": 6,
    "start_time": "2022-05-06T17:17:39.873Z"
   },
   {
    "duration": 7,
    "start_time": "2022-05-06T17:18:21.719Z"
   },
   {
    "duration": 207,
    "start_time": "2022-05-06T17:18:49.579Z"
   },
   {
    "duration": 6,
    "start_time": "2022-05-06T17:18:54.756Z"
   },
   {
    "duration": 200,
    "start_time": "2022-05-06T22:50:32.413Z"
   },
   {
    "duration": 2,
    "start_time": "2022-05-06T22:50:57.521Z"
   },
   {
    "duration": 8,
    "start_time": "2022-05-06T22:52:16.336Z"
   },
   {
    "duration": 8,
    "start_time": "2022-05-06T22:54:07.587Z"
   },
   {
    "duration": 3,
    "start_time": "2022-05-06T22:57:57.622Z"
   },
   {
    "duration": 12,
    "start_time": "2022-05-06T22:58:11.851Z"
   },
   {
    "duration": 3,
    "start_time": "2022-05-06T22:58:25.787Z"
   },
   {
    "duration": 3,
    "start_time": "2022-05-06T22:58:30.171Z"
   },
   {
    "duration": 10,
    "start_time": "2022-05-06T22:58:34.202Z"
   },
   {
    "duration": 7,
    "start_time": "2022-05-06T22:58:48.690Z"
   },
   {
    "duration": 3,
    "start_time": "2022-05-06T23:05:36.838Z"
   },
   {
    "duration": 7,
    "start_time": "2022-05-06T23:05:43.653Z"
   },
   {
    "duration": 3,
    "start_time": "2022-05-06T23:06:55.283Z"
   },
   {
    "duration": 22,
    "start_time": "2022-05-06T23:06:57.439Z"
   },
   {
    "duration": 13,
    "start_time": "2022-05-06T23:07:01.940Z"
   },
   {
    "duration": 14,
    "start_time": "2022-05-06T23:07:04.831Z"
   },
   {
    "duration": 13,
    "start_time": "2022-05-06T23:07:05.542Z"
   },
   {
    "duration": 15,
    "start_time": "2022-05-06T23:07:06.369Z"
   },
   {
    "duration": 13,
    "start_time": "2022-05-06T23:07:07.439Z"
   },
   {
    "duration": 3,
    "start_time": "2022-05-06T23:07:11.594Z"
   },
   {
    "duration": 3,
    "start_time": "2022-05-06T23:07:39.512Z"
   },
   {
    "duration": 8,
    "start_time": "2022-05-06T23:07:40.628Z"
   },
   {
    "duration": 4,
    "start_time": "2022-05-06T23:10:08.857Z"
   },
   {
    "duration": 9,
    "start_time": "2022-05-06T23:11:48.661Z"
   },
   {
    "duration": 3,
    "start_time": "2022-05-06T23:11:58.736Z"
   },
   {
    "duration": 4,
    "start_time": "2022-05-06T23:12:03.328Z"
   },
   {
    "duration": 9,
    "start_time": "2022-05-06T23:13:12.497Z"
   },
   {
    "duration": 8,
    "start_time": "2022-05-06T23:14:09.748Z"
   },
   {
    "duration": 9,
    "start_time": "2022-05-06T23:14:29.934Z"
   },
   {
    "duration": 4,
    "start_time": "2022-05-06T23:15:00.872Z"
   },
   {
    "duration": 11,
    "start_time": "2022-05-06T23:15:23.758Z"
   },
   {
    "duration": 9,
    "start_time": "2022-05-06T23:15:58.498Z"
   },
   {
    "duration": 175,
    "start_time": "2022-05-06T23:16:04.682Z"
   },
   {
    "duration": 3,
    "start_time": "2022-05-06T23:17:07.043Z"
   },
   {
    "duration": 4,
    "start_time": "2022-05-06T23:17:16.489Z"
   },
   {
    "duration": 200,
    "start_time": "2022-05-06T23:20:31.881Z"
   },
   {
    "duration": 35,
    "start_time": "2022-05-06T23:21:33.273Z"
   },
   {
    "duration": 2,
    "start_time": "2022-05-06T23:25:02.354Z"
   },
   {
    "duration": 3,
    "start_time": "2022-05-06T23:25:18.957Z"
   },
   {
    "duration": 14,
    "start_time": "2022-05-06T23:25:32.594Z"
   },
   {
    "duration": 17,
    "start_time": "2022-05-06T23:27:34.107Z"
   },
   {
    "duration": 16,
    "start_time": "2022-05-06T23:28:08.132Z"
   },
   {
    "duration": 16,
    "start_time": "2022-05-06T23:28:17.257Z"
   },
   {
    "duration": 15,
    "start_time": "2022-05-06T23:28:26.747Z"
   },
   {
    "duration": 10,
    "start_time": "2022-05-06T23:31:31.750Z"
   },
   {
    "duration": 4,
    "start_time": "2022-05-06T23:32:24.410Z"
   },
   {
    "duration": 6,
    "start_time": "2022-05-06T23:34:54.135Z"
   },
   {
    "duration": 4,
    "start_time": "2022-05-06T23:35:03.773Z"
   },
   {
    "duration": 4,
    "start_time": "2022-05-06T23:37:36.486Z"
   },
   {
    "duration": 10,
    "start_time": "2022-05-06T23:40:38.643Z"
   },
   {
    "duration": 12,
    "start_time": "2022-05-06T23:40:50.914Z"
   },
   {
    "duration": 11,
    "start_time": "2022-05-06T23:40:56.952Z"
   },
   {
    "duration": 11,
    "start_time": "2022-05-06T23:41:00.709Z"
   },
   {
    "duration": 4,
    "start_time": "2022-05-06T23:43:35.375Z"
   },
   {
    "duration": 4,
    "start_time": "2022-05-06T23:44:33.351Z"
   },
   {
    "duration": 11,
    "start_time": "2022-05-06T23:44:44.132Z"
   },
   {
    "duration": 29,
    "start_time": "2022-05-06T23:47:27.117Z"
   },
   {
    "duration": 10,
    "start_time": "2022-05-06T23:52:06.171Z"
   },
   {
    "duration": 15,
    "start_time": "2022-05-06T23:52:24.600Z"
   },
   {
    "duration": 13,
    "start_time": "2022-05-06T23:53:28.419Z"
   },
   {
    "duration": 13,
    "start_time": "2022-05-06T23:53:35.143Z"
   },
   {
    "duration": 415,
    "start_time": "2022-05-07T13:02:55.171Z"
   },
   {
    "duration": 585,
    "start_time": "2022-05-07T13:02:55.588Z"
   },
   {
    "duration": 16,
    "start_time": "2022-05-07T13:02:56.174Z"
   },
   {
    "duration": 125,
    "start_time": "2022-05-07T13:02:56.192Z"
   },
   {
    "duration": 3,
    "start_time": "2022-05-07T13:02:56.319Z"
   },
   {
    "duration": 12,
    "start_time": "2022-05-07T13:02:56.323Z"
   },
   {
    "duration": 5,
    "start_time": "2022-05-07T13:02:56.337Z"
   },
   {
    "duration": 23,
    "start_time": "2022-05-07T13:02:56.343Z"
   },
   {
    "duration": 36,
    "start_time": "2022-05-07T13:02:56.368Z"
   },
   {
    "duration": 22,
    "start_time": "2022-05-07T13:02:56.408Z"
   },
   {
    "duration": 74,
    "start_time": "2022-05-07T13:02:56.432Z"
   },
   {
    "duration": 65,
    "start_time": "2022-05-07T13:02:56.508Z"
   },
   {
    "duration": 61,
    "start_time": "2022-05-07T13:02:56.574Z"
   },
   {
    "duration": 6,
    "start_time": "2022-05-07T13:02:56.636Z"
   },
   {
    "duration": 5,
    "start_time": "2022-05-07T13:02:56.643Z"
   },
   {
    "duration": 14,
    "start_time": "2022-05-07T13:02:56.650Z"
   },
   {
    "duration": 11,
    "start_time": "2022-05-07T13:02:56.665Z"
   },
   {
    "duration": 39,
    "start_time": "2022-05-07T13:02:56.678Z"
   },
   {
    "duration": 24,
    "start_time": "2022-05-07T13:02:56.718Z"
   },
   {
    "duration": 2,
    "start_time": "2022-05-07T13:02:56.744Z"
   },
   {
    "duration": 5,
    "start_time": "2022-05-07T13:02:56.747Z"
   },
   {
    "duration": 17,
    "start_time": "2022-05-07T13:02:56.754Z"
   },
   {
    "duration": 36,
    "start_time": "2022-05-07T13:02:56.772Z"
   },
   {
    "duration": 12,
    "start_time": "2022-05-07T13:02:56.810Z"
   },
   {
    "duration": 10,
    "start_time": "2022-05-07T13:02:56.823Z"
   },
   {
    "duration": 13,
    "start_time": "2022-05-07T13:02:56.835Z"
   },
   {
    "duration": 13,
    "start_time": "2022-05-07T13:02:56.849Z"
   },
   {
    "duration": 3,
    "start_time": "2022-05-07T13:02:56.865Z"
   },
   {
    "duration": 9,
    "start_time": "2022-05-07T13:02:56.901Z"
   },
   {
    "duration": 14,
    "start_time": "2022-05-07T13:02:56.912Z"
   },
   {
    "duration": 22,
    "start_time": "2022-05-07T13:02:56.928Z"
   },
   {
    "duration": 2,
    "start_time": "2022-05-07T13:02:56.952Z"
   },
   {
    "duration": 18,
    "start_time": "2022-05-07T13:02:56.956Z"
   },
   {
    "duration": 188,
    "start_time": "2022-05-07T13:02:56.976Z"
   },
   {
    "duration": 0,
    "start_time": "2022-05-07T13:02:57.166Z"
   },
   {
    "duration": 0,
    "start_time": "2022-05-07T13:02:57.167Z"
   },
   {
    "duration": 0,
    "start_time": "2022-05-07T13:02:57.168Z"
   },
   {
    "duration": 0,
    "start_time": "2022-05-07T13:02:57.169Z"
   },
   {
    "duration": 0,
    "start_time": "2022-05-07T13:02:57.171Z"
   },
   {
    "duration": 0,
    "start_time": "2022-05-07T13:02:57.172Z"
   },
   {
    "duration": 0,
    "start_time": "2022-05-07T13:02:57.173Z"
   },
   {
    "duration": 0,
    "start_time": "2022-05-07T13:02:57.174Z"
   },
   {
    "duration": 936,
    "start_time": "2022-05-07T13:42:30.237Z"
   },
   {
    "duration": 252,
    "start_time": "2022-05-07T13:45:06.645Z"
   },
   {
    "duration": 190,
    "start_time": "2022-05-07T13:46:10.925Z"
   },
   {
    "duration": 184,
    "start_time": "2022-05-07T13:51:35.942Z"
   },
   {
    "duration": 180,
    "start_time": "2022-05-07T13:51:58.085Z"
   },
   {
    "duration": 380,
    "start_time": "2022-05-07T13:52:22.008Z"
   },
   {
    "duration": 140,
    "start_time": "2022-05-07T13:52:22.389Z"
   },
   {
    "duration": 16,
    "start_time": "2022-05-07T13:52:22.530Z"
   },
   {
    "duration": 117,
    "start_time": "2022-05-07T13:52:22.548Z"
   },
   {
    "duration": 3,
    "start_time": "2022-05-07T13:52:22.667Z"
   },
   {
    "duration": 11,
    "start_time": "2022-05-07T13:52:22.672Z"
   },
   {
    "duration": 16,
    "start_time": "2022-05-07T13:52:22.685Z"
   },
   {
    "duration": 21,
    "start_time": "2022-05-07T13:52:22.702Z"
   },
   {
    "duration": 21,
    "start_time": "2022-05-07T13:52:22.724Z"
   },
   {
    "duration": 22,
    "start_time": "2022-05-07T13:52:22.747Z"
   },
   {
    "duration": 70,
    "start_time": "2022-05-07T13:52:22.770Z"
   },
   {
    "duration": 77,
    "start_time": "2022-05-07T13:52:22.841Z"
   },
   {
    "duration": 48,
    "start_time": "2022-05-07T13:52:22.920Z"
   },
   {
    "duration": 6,
    "start_time": "2022-05-07T13:52:22.970Z"
   },
   {
    "duration": 23,
    "start_time": "2022-05-07T13:52:22.977Z"
   },
   {
    "duration": 12,
    "start_time": "2022-05-07T13:52:23.001Z"
   },
   {
    "duration": 6,
    "start_time": "2022-05-07T13:52:23.014Z"
   },
   {
    "duration": 21,
    "start_time": "2022-05-07T13:52:23.021Z"
   },
   {
    "duration": 23,
    "start_time": "2022-05-07T13:52:23.044Z"
   },
   {
    "duration": 2,
    "start_time": "2022-05-07T13:52:23.069Z"
   },
   {
    "duration": 28,
    "start_time": "2022-05-07T13:52:23.072Z"
   },
   {
    "duration": 15,
    "start_time": "2022-05-07T13:52:23.101Z"
   },
   {
    "duration": 11,
    "start_time": "2022-05-07T13:52:23.118Z"
   },
   {
    "duration": 12,
    "start_time": "2022-05-07T13:52:23.130Z"
   },
   {
    "duration": 11,
    "start_time": "2022-05-07T13:52:23.143Z"
   },
   {
    "duration": 13,
    "start_time": "2022-05-07T13:52:23.155Z"
   },
   {
    "duration": 42,
    "start_time": "2022-05-07T13:52:23.169Z"
   },
   {
    "duration": 3,
    "start_time": "2022-05-07T13:52:23.214Z"
   },
   {
    "duration": 10,
    "start_time": "2022-05-07T13:52:23.218Z"
   },
   {
    "duration": 16,
    "start_time": "2022-05-07T13:52:23.230Z"
   },
   {
    "duration": 15,
    "start_time": "2022-05-07T13:52:23.248Z"
   },
   {
    "duration": 3,
    "start_time": "2022-05-07T13:52:23.264Z"
   },
   {
    "duration": 38,
    "start_time": "2022-05-07T13:52:23.269Z"
   },
   {
    "duration": 263,
    "start_time": "2022-05-07T13:52:23.309Z"
   },
   {
    "duration": 0,
    "start_time": "2022-05-07T13:52:23.573Z"
   },
   {
    "duration": 0,
    "start_time": "2022-05-07T13:52:23.575Z"
   },
   {
    "duration": 0,
    "start_time": "2022-05-07T13:52:23.576Z"
   },
   {
    "duration": 0,
    "start_time": "2022-05-07T13:52:23.577Z"
   },
   {
    "duration": 0,
    "start_time": "2022-05-07T13:52:23.578Z"
   },
   {
    "duration": 0,
    "start_time": "2022-05-07T13:52:23.579Z"
   },
   {
    "duration": 0,
    "start_time": "2022-05-07T13:52:23.580Z"
   },
   {
    "duration": 0,
    "start_time": "2022-05-07T13:52:23.581Z"
   },
   {
    "duration": 198,
    "start_time": "2022-05-07T13:54:00.764Z"
   },
   {
    "duration": 201,
    "start_time": "2022-05-07T13:55:07.533Z"
   },
   {
    "duration": 206,
    "start_time": "2022-05-07T13:55:37.769Z"
   },
   {
    "duration": 198,
    "start_time": "2022-05-07T13:56:02.308Z"
   },
   {
    "duration": 255,
    "start_time": "2022-05-07T13:56:22.968Z"
   },
   {
    "duration": 198,
    "start_time": "2022-05-07T13:57:16.033Z"
   },
   {
    "duration": 173,
    "start_time": "2022-05-07T14:01:12.303Z"
   },
   {
    "duration": 179,
    "start_time": "2022-05-07T14:01:37.975Z"
   },
   {
    "duration": 198,
    "start_time": "2022-05-07T14:04:55.371Z"
   },
   {
    "duration": 216,
    "start_time": "2022-05-07T14:05:04.153Z"
   },
   {
    "duration": 194,
    "start_time": "2022-05-07T14:07:20.981Z"
   },
   {
    "duration": 2,
    "start_time": "2022-05-07T14:08:25.265Z"
   },
   {
    "duration": 210,
    "start_time": "2022-05-07T14:10:41.679Z"
   },
   {
    "duration": 26,
    "start_time": "2022-05-07T14:11:50.053Z"
   },
   {
    "duration": 23,
    "start_time": "2022-05-07T14:12:20.896Z"
   },
   {
    "duration": 22,
    "start_time": "2022-05-07T14:12:54.572Z"
   },
   {
    "duration": 196,
    "start_time": "2022-05-07T14:14:48.256Z"
   },
   {
    "duration": 22,
    "start_time": "2022-05-07T14:15:11.812Z"
   },
   {
    "duration": 3,
    "start_time": "2022-05-07T14:15:29.022Z"
   },
   {
    "duration": 192,
    "start_time": "2022-05-07T14:15:49.464Z"
   },
   {
    "duration": 196,
    "start_time": "2022-05-07T14:16:34.381Z"
   },
   {
    "duration": 25,
    "start_time": "2022-05-07T14:16:53.147Z"
   },
   {
    "duration": 23,
    "start_time": "2022-05-07T14:17:27.424Z"
   },
   {
    "duration": 25,
    "start_time": "2022-05-07T14:19:02.084Z"
   },
   {
    "duration": 24,
    "start_time": "2022-05-07T14:19:23.944Z"
   },
   {
    "duration": 26,
    "start_time": "2022-05-07T14:19:38.461Z"
   },
   {
    "duration": 24,
    "start_time": "2022-05-07T14:20:39.136Z"
   },
   {
    "duration": 24,
    "start_time": "2022-05-07T14:22:24.826Z"
   },
   {
    "duration": 23,
    "start_time": "2022-05-07T14:22:46.457Z"
   },
   {
    "duration": 22,
    "start_time": "2022-05-07T14:25:50.131Z"
   },
   {
    "duration": 182,
    "start_time": "2022-05-07T14:26:06.708Z"
   },
   {
    "duration": 178,
    "start_time": "2022-05-07T14:26:19.008Z"
   },
   {
    "duration": 25,
    "start_time": "2022-05-07T14:28:11.998Z"
   },
   {
    "duration": 486,
    "start_time": "2022-05-07T14:28:24.277Z"
   },
   {
    "duration": 75,
    "start_time": "2022-05-08T01:22:45.569Z"
   },
   {
    "duration": 49,
    "start_time": "2022-05-08T01:23:02.319Z"
   },
   {
    "duration": 401,
    "start_time": "2022-05-08T01:23:15.246Z"
   },
   {
    "duration": 164,
    "start_time": "2022-05-08T01:23:15.649Z"
   },
   {
    "duration": 17,
    "start_time": "2022-05-08T01:23:15.815Z"
   },
   {
    "duration": 147,
    "start_time": "2022-05-08T01:23:15.834Z"
   },
   {
    "duration": 4,
    "start_time": "2022-05-08T01:23:15.983Z"
   },
   {
    "duration": 26,
    "start_time": "2022-05-08T01:23:15.988Z"
   },
   {
    "duration": 7,
    "start_time": "2022-05-08T01:23:16.015Z"
   },
   {
    "duration": 25,
    "start_time": "2022-05-08T01:23:16.024Z"
   },
   {
    "duration": 18,
    "start_time": "2022-05-08T01:23:16.051Z"
   },
   {
    "duration": 46,
    "start_time": "2022-05-08T01:23:16.072Z"
   },
   {
    "duration": 67,
    "start_time": "2022-05-08T01:23:16.120Z"
   },
   {
    "duration": 94,
    "start_time": "2022-05-08T01:23:16.188Z"
   },
   {
    "duration": 74,
    "start_time": "2022-05-08T01:23:16.284Z"
   },
   {
    "duration": 7,
    "start_time": "2022-05-08T01:23:16.360Z"
   },
   {
    "duration": 3,
    "start_time": "2022-05-08T01:23:16.369Z"
   },
   {
    "duration": 37,
    "start_time": "2022-05-08T01:23:16.373Z"
   },
   {
    "duration": 7,
    "start_time": "2022-05-08T01:23:16.412Z"
   },
   {
    "duration": 24,
    "start_time": "2022-05-08T01:23:16.421Z"
   },
   {
    "duration": 32,
    "start_time": "2022-05-08T01:23:16.447Z"
   },
   {
    "duration": 27,
    "start_time": "2022-05-08T01:23:16.481Z"
   },
   {
    "duration": 4,
    "start_time": "2022-05-08T01:23:16.510Z"
   },
   {
    "duration": 20,
    "start_time": "2022-05-08T01:23:16.516Z"
   },
   {
    "duration": 15,
    "start_time": "2022-05-08T01:23:16.538Z"
   },
   {
    "duration": 15,
    "start_time": "2022-05-08T01:23:16.555Z"
   },
   {
    "duration": 45,
    "start_time": "2022-05-08T01:23:16.571Z"
   },
   {
    "duration": 18,
    "start_time": "2022-05-08T01:23:16.618Z"
   },
   {
    "duration": 15,
    "start_time": "2022-05-08T01:23:16.637Z"
   },
   {
    "duration": 3,
    "start_time": "2022-05-08T01:23:16.655Z"
   },
   {
    "duration": 10,
    "start_time": "2022-05-08T01:23:16.660Z"
   },
   {
    "duration": 41,
    "start_time": "2022-05-08T01:23:16.671Z"
   },
   {
    "duration": 17,
    "start_time": "2022-05-08T01:23:16.713Z"
   },
   {
    "duration": 2,
    "start_time": "2022-05-08T01:23:16.732Z"
   },
   {
    "duration": 16,
    "start_time": "2022-05-08T01:23:16.736Z"
   },
   {
    "duration": 123,
    "start_time": "2022-05-08T01:23:16.754Z"
   },
   {
    "duration": 0,
    "start_time": "2022-05-08T01:23:16.880Z"
   },
   {
    "duration": 0,
    "start_time": "2022-05-08T01:23:16.881Z"
   },
   {
    "duration": 0,
    "start_time": "2022-05-08T01:23:16.882Z"
   },
   {
    "duration": 0,
    "start_time": "2022-05-08T01:23:16.884Z"
   },
   {
    "duration": 0,
    "start_time": "2022-05-08T01:23:16.886Z"
   },
   {
    "duration": 0,
    "start_time": "2022-05-08T01:23:16.887Z"
   },
   {
    "duration": 0,
    "start_time": "2022-05-08T01:23:16.908Z"
   },
   {
    "duration": 0,
    "start_time": "2022-05-08T01:23:16.909Z"
   },
   {
    "duration": 0,
    "start_time": "2022-05-08T01:23:16.911Z"
   },
   {
    "duration": 0,
    "start_time": "2022-05-08T01:23:16.912Z"
   },
   {
    "duration": 29,
    "start_time": "2022-05-08T01:25:20.752Z"
   },
   {
    "duration": 3,
    "start_time": "2022-05-08T01:25:49.792Z"
   },
   {
    "duration": 23,
    "start_time": "2022-05-08T01:28:32.001Z"
   },
   {
    "duration": 21,
    "start_time": "2022-05-08T01:29:50.485Z"
   },
   {
    "duration": 4,
    "start_time": "2022-05-08T01:31:38.648Z"
   },
   {
    "duration": 21,
    "start_time": "2022-05-08T01:31:51.538Z"
   },
   {
    "duration": 4,
    "start_time": "2022-05-08T01:35:07.305Z"
   },
   {
    "duration": 1139,
    "start_time": "2022-05-08T01:35:19.970Z"
   },
   {
    "duration": 3,
    "start_time": "2022-05-08T01:36:25.289Z"
   },
   {
    "duration": 4,
    "start_time": "2022-05-08T01:37:59.067Z"
   },
   {
    "duration": 16,
    "start_time": "2022-05-08T01:38:07.465Z"
   },
   {
    "duration": 11,
    "start_time": "2022-05-08T01:40:56.159Z"
   },
   {
    "duration": 16,
    "start_time": "2022-05-08T01:42:08.736Z"
   },
   {
    "duration": 11,
    "start_time": "2022-05-08T01:42:34.499Z"
   },
   {
    "duration": 4,
    "start_time": "2022-05-08T01:44:56.013Z"
   },
   {
    "duration": 3,
    "start_time": "2022-05-08T01:45:16.914Z"
   },
   {
    "duration": 15,
    "start_time": "2022-05-08T01:45:33.799Z"
   },
   {
    "duration": 13,
    "start_time": "2022-05-08T01:57:32.678Z"
   },
   {
    "duration": 13,
    "start_time": "2022-05-08T01:58:18.825Z"
   },
   {
    "duration": 67,
    "start_time": "2022-05-08T02:02:10.284Z"
   },
   {
    "duration": 29,
    "start_time": "2022-05-08T02:02:30.134Z"
   },
   {
    "duration": 50,
    "start_time": "2022-05-08T02:08:19.185Z"
   },
   {
    "duration": 42,
    "start_time": "2022-05-08T02:08:59.442Z"
   },
   {
    "duration": 29,
    "start_time": "2022-05-08T02:11:09.415Z"
   },
   {
    "duration": 9,
    "start_time": "2022-05-08T02:12:43.958Z"
   },
   {
    "duration": 4,
    "start_time": "2022-05-08T02:16:04.973Z"
   },
   {
    "duration": 10,
    "start_time": "2022-05-08T02:17:22.184Z"
   },
   {
    "duration": 4,
    "start_time": "2022-05-08T02:17:24.574Z"
   },
   {
    "duration": 11,
    "start_time": "2022-05-08T02:19:37.757Z"
   },
   {
    "duration": 4,
    "start_time": "2022-05-08T02:19:39.900Z"
   },
   {
    "duration": 39,
    "start_time": "2022-05-08T02:19:58.540Z"
   },
   {
    "duration": 4,
    "start_time": "2022-05-08T02:20:01.374Z"
   },
   {
    "duration": 7,
    "start_time": "2022-05-08T02:20:29.534Z"
   },
   {
    "duration": 10,
    "start_time": "2022-05-08T02:20:53.763Z"
   },
   {
    "duration": 4,
    "start_time": "2022-05-08T02:24:19.449Z"
   },
   {
    "duration": 10,
    "start_time": "2022-05-08T02:24:39.840Z"
   },
   {
    "duration": 4,
    "start_time": "2022-05-08T02:24:45.084Z"
   },
   {
    "duration": 7,
    "start_time": "2022-05-08T02:26:10.155Z"
   },
   {
    "duration": 7,
    "start_time": "2022-05-08T02:26:41.243Z"
   },
   {
    "duration": 4,
    "start_time": "2022-05-08T02:26:43.461Z"
   },
   {
    "duration": 9,
    "start_time": "2022-05-08T02:28:56.065Z"
   },
   {
    "duration": 383,
    "start_time": "2022-05-08T02:36:00.646Z"
   },
   {
    "duration": 160,
    "start_time": "2022-05-08T02:36:01.031Z"
   },
   {
    "duration": 24,
    "start_time": "2022-05-08T02:36:01.193Z"
   },
   {
    "duration": 140,
    "start_time": "2022-05-08T02:36:01.220Z"
   },
   {
    "duration": 3,
    "start_time": "2022-05-08T02:36:01.362Z"
   },
   {
    "duration": 13,
    "start_time": "2022-05-08T02:36:01.367Z"
   },
   {
    "duration": 17,
    "start_time": "2022-05-08T02:36:01.382Z"
   },
   {
    "duration": 30,
    "start_time": "2022-05-08T02:36:01.400Z"
   },
   {
    "duration": 20,
    "start_time": "2022-05-08T02:36:01.432Z"
   },
   {
    "duration": 24,
    "start_time": "2022-05-08T02:36:01.455Z"
   },
   {
    "duration": 86,
    "start_time": "2022-05-08T02:36:01.481Z"
   },
   {
    "duration": 81,
    "start_time": "2022-05-08T02:36:01.569Z"
   },
   {
    "duration": 66,
    "start_time": "2022-05-08T02:36:01.652Z"
   },
   {
    "duration": 6,
    "start_time": "2022-05-08T02:36:01.720Z"
   },
   {
    "duration": 3,
    "start_time": "2022-05-08T02:36:01.728Z"
   },
   {
    "duration": 12,
    "start_time": "2022-05-08T02:36:01.733Z"
   },
   {
    "duration": 10,
    "start_time": "2022-05-08T02:36:01.747Z"
   },
   {
    "duration": 49,
    "start_time": "2022-05-08T02:36:01.758Z"
   },
   {
    "duration": 32,
    "start_time": "2022-05-08T02:36:01.810Z"
   },
   {
    "duration": 3,
    "start_time": "2022-05-08T02:36:01.845Z"
   },
   {
    "duration": 6,
    "start_time": "2022-05-08T02:36:01.850Z"
   },
   {
    "duration": 25,
    "start_time": "2022-05-08T02:36:01.857Z"
   },
   {
    "duration": 37,
    "start_time": "2022-05-08T02:36:01.883Z"
   },
   {
    "duration": 14,
    "start_time": "2022-05-08T02:36:01.922Z"
   },
   {
    "duration": 14,
    "start_time": "2022-05-08T02:36:01.937Z"
   },
   {
    "duration": 16,
    "start_time": "2022-05-08T02:36:01.953Z"
   },
   {
    "duration": 46,
    "start_time": "2022-05-08T02:36:01.971Z"
   },
   {
    "duration": 3,
    "start_time": "2022-05-08T02:36:02.021Z"
   },
   {
    "duration": 16,
    "start_time": "2022-05-08T02:36:02.026Z"
   },
   {
    "duration": 16,
    "start_time": "2022-05-08T02:36:02.044Z"
   },
   {
    "duration": 22,
    "start_time": "2022-05-08T02:36:02.062Z"
   },
   {
    "duration": 2,
    "start_time": "2022-05-08T02:36:02.086Z"
   },
   {
    "duration": 14,
    "start_time": "2022-05-08T02:36:02.107Z"
   },
   {
    "duration": 3,
    "start_time": "2022-05-08T02:36:02.123Z"
   },
   {
    "duration": 4,
    "start_time": "2022-05-08T02:36:02.128Z"
   },
   {
    "duration": 21,
    "start_time": "2022-05-08T02:36:02.134Z"
   },
   {
    "duration": 11,
    "start_time": "2022-05-08T02:36:02.157Z"
   },
   {
    "duration": 42,
    "start_time": "2022-05-08T02:36:02.170Z"
   },
   {
    "duration": 12,
    "start_time": "2022-05-08T02:36:02.213Z"
   },
   {
    "duration": 10,
    "start_time": "2022-05-08T02:36:02.227Z"
   },
   {
    "duration": 3,
    "start_time": "2022-05-08T02:36:02.239Z"
   },
   {
    "duration": 8,
    "start_time": "2022-05-08T02:36:02.244Z"
   },
   {
    "duration": 9,
    "start_time": "2022-05-08T02:36:02.254Z"
   },
   {
    "duration": 3,
    "start_time": "2022-05-08T02:42:44.836Z"
   },
   {
    "duration": 6,
    "start_time": "2022-05-08T02:42:57.429Z"
   },
   {
    "duration": 5,
    "start_time": "2022-05-08T02:43:01.966Z"
   },
   {
    "duration": 13,
    "start_time": "2022-05-08T02:43:27.111Z"
   },
   {
    "duration": 412,
    "start_time": "2022-05-08T02:44:45.109Z"
   },
   {
    "duration": 146,
    "start_time": "2022-05-08T02:44:45.523Z"
   },
   {
    "duration": 17,
    "start_time": "2022-05-08T02:44:45.671Z"
   },
   {
    "duration": 141,
    "start_time": "2022-05-08T02:44:45.690Z"
   },
   {
    "duration": 4,
    "start_time": "2022-05-08T02:44:45.834Z"
   },
   {
    "duration": 18,
    "start_time": "2022-05-08T02:44:45.839Z"
   },
   {
    "duration": 8,
    "start_time": "2022-05-08T02:44:45.859Z"
   },
   {
    "duration": 38,
    "start_time": "2022-05-08T02:44:45.869Z"
   },
   {
    "duration": 17,
    "start_time": "2022-05-08T02:44:45.909Z"
   },
   {
    "duration": 24,
    "start_time": "2022-05-08T02:44:45.928Z"
   },
   {
    "duration": 86,
    "start_time": "2022-05-08T02:44:45.954Z"
   },
   {
    "duration": 77,
    "start_time": "2022-05-08T02:44:46.042Z"
   },
   {
    "duration": 57,
    "start_time": "2022-05-08T02:44:46.120Z"
   },
   {
    "duration": 7,
    "start_time": "2022-05-08T02:44:46.180Z"
   },
   {
    "duration": 19,
    "start_time": "2022-05-08T02:44:46.188Z"
   },
   {
    "duration": 10,
    "start_time": "2022-05-08T02:44:46.209Z"
   },
   {
    "duration": 6,
    "start_time": "2022-05-08T02:44:46.221Z"
   },
   {
    "duration": 21,
    "start_time": "2022-05-08T02:44:46.228Z"
   },
   {
    "duration": 56,
    "start_time": "2022-05-08T02:44:46.251Z"
   },
   {
    "duration": 2,
    "start_time": "2022-05-08T02:44:46.309Z"
   },
   {
    "duration": 7,
    "start_time": "2022-05-08T02:44:46.313Z"
   },
   {
    "duration": 18,
    "start_time": "2022-05-08T02:44:46.321Z"
   },
   {
    "duration": 13,
    "start_time": "2022-05-08T02:44:46.341Z"
   },
   {
    "duration": 14,
    "start_time": "2022-05-08T02:44:46.355Z"
   },
   {
    "duration": 47,
    "start_time": "2022-05-08T02:44:46.370Z"
   },
   {
    "duration": 15,
    "start_time": "2022-05-08T02:44:46.418Z"
   },
   {
    "duration": 12,
    "start_time": "2022-05-08T02:44:46.435Z"
   },
   {
    "duration": 2,
    "start_time": "2022-05-08T02:44:46.449Z"
   },
   {
    "duration": 9,
    "start_time": "2022-05-08T02:44:46.453Z"
   },
   {
    "duration": 13,
    "start_time": "2022-05-08T02:44:46.463Z"
   },
   {
    "duration": 15,
    "start_time": "2022-05-08T02:44:46.506Z"
   },
   {
    "duration": 2,
    "start_time": "2022-05-08T02:44:46.522Z"
   },
   {
    "duration": 14,
    "start_time": "2022-05-08T02:44:46.526Z"
   },
   {
    "duration": 4,
    "start_time": "2022-05-08T02:44:46.541Z"
   },
   {
    "duration": 5,
    "start_time": "2022-05-08T02:44:46.546Z"
   },
   {
    "duration": 20,
    "start_time": "2022-05-08T02:44:46.553Z"
   },
   {
    "duration": 38,
    "start_time": "2022-05-08T02:44:46.574Z"
   },
   {
    "duration": 16,
    "start_time": "2022-05-08T02:44:46.614Z"
   },
   {
    "duration": 10,
    "start_time": "2022-05-08T02:44:46.632Z"
   },
   {
    "duration": 9,
    "start_time": "2022-05-08T02:44:46.643Z"
   },
   {
    "duration": 4,
    "start_time": "2022-05-08T02:44:46.656Z"
   },
   {
    "duration": 9,
    "start_time": "2022-05-08T02:44:46.661Z"
   },
   {
    "duration": 4,
    "start_time": "2022-05-08T02:44:46.707Z"
   },
   {
    "duration": 109,
    "start_time": "2022-05-08T05:58:25.443Z"
   },
   {
    "duration": 54,
    "start_time": "2022-05-08T17:11:09.272Z"
   },
   {
    "duration": 420,
    "start_time": "2022-05-08T17:11:17.329Z"
   },
   {
    "duration": 152,
    "start_time": "2022-05-08T17:11:17.751Z"
   },
   {
    "duration": 18,
    "start_time": "2022-05-08T17:11:17.907Z"
   },
   {
    "duration": 145,
    "start_time": "2022-05-08T17:11:17.928Z"
   },
   {
    "duration": 4,
    "start_time": "2022-05-08T17:11:18.074Z"
   },
   {
    "duration": 29,
    "start_time": "2022-05-08T17:11:18.080Z"
   },
   {
    "duration": 6,
    "start_time": "2022-05-08T17:11:18.110Z"
   },
   {
    "duration": 25,
    "start_time": "2022-05-08T17:11:18.118Z"
   },
   {
    "duration": 18,
    "start_time": "2022-05-08T17:11:18.145Z"
   },
   {
    "duration": 45,
    "start_time": "2022-05-08T17:11:18.166Z"
   },
   {
    "duration": 63,
    "start_time": "2022-05-08T17:11:18.212Z"
   },
   {
    "duration": 91,
    "start_time": "2022-05-08T17:11:18.277Z"
   },
   {
    "duration": 71,
    "start_time": "2022-05-08T17:11:18.370Z"
   },
   {
    "duration": 79,
    "start_time": "2022-05-08T17:11:18.443Z"
   },
   {
    "duration": 0,
    "start_time": "2022-05-08T17:11:18.524Z"
   },
   {
    "duration": 0,
    "start_time": "2022-05-08T17:11:18.526Z"
   },
   {
    "duration": 0,
    "start_time": "2022-05-08T17:11:18.527Z"
   },
   {
    "duration": 0,
    "start_time": "2022-05-08T17:11:18.528Z"
   },
   {
    "duration": 0,
    "start_time": "2022-05-08T17:11:18.530Z"
   },
   {
    "duration": 0,
    "start_time": "2022-05-08T17:11:18.531Z"
   },
   {
    "duration": 0,
    "start_time": "2022-05-08T17:11:18.532Z"
   },
   {
    "duration": 0,
    "start_time": "2022-05-08T17:11:18.533Z"
   },
   {
    "duration": 0,
    "start_time": "2022-05-08T17:11:18.535Z"
   },
   {
    "duration": 0,
    "start_time": "2022-05-08T17:11:18.536Z"
   },
   {
    "duration": 0,
    "start_time": "2022-05-08T17:11:18.537Z"
   },
   {
    "duration": 0,
    "start_time": "2022-05-08T17:11:18.538Z"
   },
   {
    "duration": 0,
    "start_time": "2022-05-08T17:11:18.539Z"
   },
   {
    "duration": 0,
    "start_time": "2022-05-08T17:11:18.540Z"
   },
   {
    "duration": 0,
    "start_time": "2022-05-08T17:11:18.541Z"
   },
   {
    "duration": 0,
    "start_time": "2022-05-08T17:11:18.542Z"
   },
   {
    "duration": 0,
    "start_time": "2022-05-08T17:11:18.543Z"
   },
   {
    "duration": 0,
    "start_time": "2022-05-08T17:11:18.544Z"
   },
   {
    "duration": 0,
    "start_time": "2022-05-08T17:11:18.545Z"
   },
   {
    "duration": 0,
    "start_time": "2022-05-08T17:11:18.546Z"
   },
   {
    "duration": 0,
    "start_time": "2022-05-08T17:11:18.548Z"
   },
   {
    "duration": 0,
    "start_time": "2022-05-08T17:11:18.549Z"
   },
   {
    "duration": 0,
    "start_time": "2022-05-08T17:11:18.550Z"
   },
   {
    "duration": 0,
    "start_time": "2022-05-08T17:11:18.551Z"
   },
   {
    "duration": 0,
    "start_time": "2022-05-08T17:11:18.552Z"
   },
   {
    "duration": 0,
    "start_time": "2022-05-08T17:11:18.553Z"
   },
   {
    "duration": 0,
    "start_time": "2022-05-08T17:11:18.554Z"
   },
   {
    "duration": 0,
    "start_time": "2022-05-08T17:11:18.555Z"
   },
   {
    "duration": 0,
    "start_time": "2022-05-08T17:11:18.608Z"
   },
   {
    "duration": 10,
    "start_time": "2022-05-08T17:11:46.933Z"
   },
   {
    "duration": 6,
    "start_time": "2022-05-08T17:12:16.180Z"
   },
   {
    "duration": 89,
    "start_time": "2022-05-08T17:14:57.094Z"
   },
   {
    "duration": 11,
    "start_time": "2022-05-08T17:15:01.962Z"
   },
   {
    "duration": 10,
    "start_time": "2022-05-08T17:15:08.145Z"
   },
   {
    "duration": 7,
    "start_time": "2022-05-08T17:23:46.254Z"
   },
   {
    "duration": 7,
    "start_time": "2022-05-08T17:24:45.023Z"
   },
   {
    "duration": 376,
    "start_time": "2022-05-08T17:24:57.250Z"
   },
   {
    "duration": 152,
    "start_time": "2022-05-08T17:24:57.628Z"
   },
   {
    "duration": 26,
    "start_time": "2022-05-08T17:24:57.782Z"
   },
   {
    "duration": 138,
    "start_time": "2022-05-08T17:24:57.811Z"
   },
   {
    "duration": 4,
    "start_time": "2022-05-08T17:24:57.951Z"
   },
   {
    "duration": 12,
    "start_time": "2022-05-08T17:24:57.957Z"
   },
   {
    "duration": 9,
    "start_time": "2022-05-08T17:24:57.971Z"
   },
   {
    "duration": 46,
    "start_time": "2022-05-08T17:24:57.981Z"
   },
   {
    "duration": 21,
    "start_time": "2022-05-08T17:24:58.028Z"
   },
   {
    "duration": 29,
    "start_time": "2022-05-08T17:24:58.052Z"
   },
   {
    "duration": 77,
    "start_time": "2022-05-08T17:24:58.083Z"
   },
   {
    "duration": 83,
    "start_time": "2022-05-08T17:24:58.161Z"
   },
   {
    "duration": 66,
    "start_time": "2022-05-08T17:24:58.245Z"
   },
   {
    "duration": 72,
    "start_time": "2022-05-08T17:24:58.312Z"
   },
   {
    "duration": 0,
    "start_time": "2022-05-08T17:24:58.386Z"
   },
   {
    "duration": 0,
    "start_time": "2022-05-08T17:24:58.387Z"
   },
   {
    "duration": 0,
    "start_time": "2022-05-08T17:24:58.389Z"
   },
   {
    "duration": 0,
    "start_time": "2022-05-08T17:24:58.390Z"
   },
   {
    "duration": 0,
    "start_time": "2022-05-08T17:24:58.407Z"
   },
   {
    "duration": 0,
    "start_time": "2022-05-08T17:24:58.408Z"
   },
   {
    "duration": 0,
    "start_time": "2022-05-08T17:24:58.410Z"
   },
   {
    "duration": 0,
    "start_time": "2022-05-08T17:24:58.411Z"
   },
   {
    "duration": 0,
    "start_time": "2022-05-08T17:24:58.412Z"
   },
   {
    "duration": 0,
    "start_time": "2022-05-08T17:24:58.413Z"
   },
   {
    "duration": 0,
    "start_time": "2022-05-08T17:24:58.414Z"
   },
   {
    "duration": 0,
    "start_time": "2022-05-08T17:24:58.415Z"
   },
   {
    "duration": 0,
    "start_time": "2022-05-08T17:24:58.416Z"
   },
   {
    "duration": 0,
    "start_time": "2022-05-08T17:24:58.416Z"
   },
   {
    "duration": 0,
    "start_time": "2022-05-08T17:24:58.417Z"
   },
   {
    "duration": 0,
    "start_time": "2022-05-08T17:24:58.418Z"
   },
   {
    "duration": 0,
    "start_time": "2022-05-08T17:24:58.419Z"
   },
   {
    "duration": 0,
    "start_time": "2022-05-08T17:24:58.421Z"
   },
   {
    "duration": 0,
    "start_time": "2022-05-08T17:24:58.421Z"
   },
   {
    "duration": 0,
    "start_time": "2022-05-08T17:24:58.422Z"
   },
   {
    "duration": 0,
    "start_time": "2022-05-08T17:24:58.423Z"
   },
   {
    "duration": 0,
    "start_time": "2022-05-08T17:24:58.424Z"
   },
   {
    "duration": 0,
    "start_time": "2022-05-08T17:24:58.425Z"
   },
   {
    "duration": 0,
    "start_time": "2022-05-08T17:24:58.426Z"
   },
   {
    "duration": 0,
    "start_time": "2022-05-08T17:24:58.427Z"
   },
   {
    "duration": 0,
    "start_time": "2022-05-08T17:24:58.427Z"
   },
   {
    "duration": 0,
    "start_time": "2022-05-08T17:24:58.428Z"
   },
   {
    "duration": 0,
    "start_time": "2022-05-08T17:24:58.429Z"
   },
   {
    "duration": 0,
    "start_time": "2022-05-08T17:24:58.430Z"
   },
   {
    "duration": 6,
    "start_time": "2022-05-08T17:25:19.194Z"
   },
   {
    "duration": 6,
    "start_time": "2022-05-08T17:25:29.202Z"
   },
   {
    "duration": 6,
    "start_time": "2022-05-08T17:25:46.763Z"
   },
   {
    "duration": 6,
    "start_time": "2022-05-08T17:26:24.178Z"
   },
   {
    "duration": 6,
    "start_time": "2022-05-08T17:26:41.436Z"
   },
   {
    "duration": 6,
    "start_time": "2022-05-08T17:26:50.482Z"
   },
   {
    "duration": 7,
    "start_time": "2022-05-08T17:27:30.843Z"
   },
   {
    "duration": 3,
    "start_time": "2022-05-08T17:28:18.390Z"
   },
   {
    "duration": 10,
    "start_time": "2022-05-08T17:28:20.417Z"
   },
   {
    "duration": 7,
    "start_time": "2022-05-08T17:28:31.258Z"
   },
   {
    "duration": 8,
    "start_time": "2022-05-08T17:28:59.828Z"
   },
   {
    "duration": 4,
    "start_time": "2022-05-08T17:33:52.606Z"
   },
   {
    "duration": 3,
    "start_time": "2022-05-08T17:34:08.228Z"
   },
   {
    "duration": 14,
    "start_time": "2022-05-08T17:34:15.443Z"
   },
   {
    "duration": 11,
    "start_time": "2022-05-08T17:34:36.778Z"
   },
   {
    "duration": 65,
    "start_time": "2022-05-08T17:35:08.740Z"
   },
   {
    "duration": 13,
    "start_time": "2022-05-08T17:35:13.947Z"
   },
   {
    "duration": 10,
    "start_time": "2022-05-08T17:36:30.185Z"
   },
   {
    "duration": 13,
    "start_time": "2022-05-08T17:36:35.010Z"
   },
   {
    "duration": 13,
    "start_time": "2022-05-08T17:37:19.271Z"
   },
   {
    "duration": 23,
    "start_time": "2022-05-08T17:37:34.385Z"
   },
   {
    "duration": 12,
    "start_time": "2022-05-08T17:37:43.561Z"
   },
   {
    "duration": 13,
    "start_time": "2022-05-08T17:42:04.761Z"
   },
   {
    "duration": 8,
    "start_time": "2022-05-08T17:43:37.303Z"
   },
   {
    "duration": 12,
    "start_time": "2022-05-08T17:43:50.416Z"
   },
   {
    "duration": 5,
    "start_time": "2022-05-08T17:43:57.323Z"
   },
   {
    "duration": 18,
    "start_time": "2022-05-08T17:44:00.739Z"
   },
   {
    "duration": 15,
    "start_time": "2022-05-08T17:44:02.308Z"
   },
   {
    "duration": 17,
    "start_time": "2022-05-08T17:44:03.266Z"
   },
   {
    "duration": 15,
    "start_time": "2022-05-08T17:44:05.096Z"
   },
   {
    "duration": 17,
    "start_time": "2022-05-08T17:44:06.094Z"
   },
   {
    "duration": 15,
    "start_time": "2022-05-08T17:44:07.511Z"
   },
   {
    "duration": 12,
    "start_time": "2022-05-08T17:44:16.834Z"
   },
   {
    "duration": 30,
    "start_time": "2022-05-08T17:50:11.109Z"
   },
   {
    "duration": 31,
    "start_time": "2022-05-08T17:50:27.575Z"
   },
   {
    "duration": 17,
    "start_time": "2022-05-08T17:51:36.474Z"
   },
   {
    "duration": 16,
    "start_time": "2022-05-08T17:51:45.544Z"
   },
   {
    "duration": 63,
    "start_time": "2022-05-08T17:54:22.270Z"
   },
   {
    "duration": 29,
    "start_time": "2022-05-08T17:54:31.089Z"
   },
   {
    "duration": 61,
    "start_time": "2022-05-08T17:55:29.506Z"
   },
   {
    "duration": 37,
    "start_time": "2022-05-08T17:55:41.447Z"
   },
   {
    "duration": 69,
    "start_time": "2022-05-08T18:01:19.501Z"
   },
   {
    "duration": 60,
    "start_time": "2022-05-08T18:05:51.766Z"
   },
   {
    "duration": 11,
    "start_time": "2022-05-08T18:06:33.242Z"
   },
   {
    "duration": 59,
    "start_time": "2022-05-08T18:10:49.145Z"
   },
   {
    "duration": 4,
    "start_time": "2022-05-08T18:11:24.734Z"
   },
   {
    "duration": 62,
    "start_time": "2022-05-08T18:11:36.931Z"
   },
   {
    "duration": 1059,
    "start_time": "2022-05-08T18:14:51.789Z"
   },
   {
    "duration": 69,
    "start_time": "2022-05-08T18:15:36.659Z"
   },
   {
    "duration": 58,
    "start_time": "2022-05-08T18:17:13.468Z"
   },
   {
    "duration": 58,
    "start_time": "2022-05-08T18:17:46.235Z"
   },
   {
    "duration": 4,
    "start_time": "2022-05-08T18:18:58.101Z"
   },
   {
    "duration": 65,
    "start_time": "2022-05-08T18:23:53.170Z"
   },
   {
    "duration": 12,
    "start_time": "2022-05-08T18:23:59.236Z"
   },
   {
    "duration": 103,
    "start_time": "2022-05-08T18:24:55.345Z"
   },
   {
    "duration": 9,
    "start_time": "2022-05-08T18:24:59.695Z"
   },
   {
    "duration": 50,
    "start_time": "2022-05-08T18:28:46.664Z"
   },
   {
    "duration": 71,
    "start_time": "2022-05-08T18:29:15.907Z"
   },
   {
    "duration": 10,
    "start_time": "2022-05-08T18:29:19.159Z"
   },
   {
    "duration": 130,
    "start_time": "2022-05-08T23:58:36.645Z"
   },
   {
    "duration": 66,
    "start_time": "2022-05-09T00:02:36.158Z"
   },
   {
    "duration": 4,
    "start_time": "2022-05-09T00:02:43.244Z"
   },
   {
    "duration": 10,
    "start_time": "2022-05-09T00:02:45.356Z"
   },
   {
    "duration": 491,
    "start_time": "2022-05-09T00:02:53.215Z"
   },
   {
    "duration": 200,
    "start_time": "2022-05-09T00:02:53.709Z"
   },
   {
    "duration": 27,
    "start_time": "2022-05-09T00:02:53.912Z"
   },
   {
    "duration": 198,
    "start_time": "2022-05-09T00:02:53.943Z"
   },
   {
    "duration": 6,
    "start_time": "2022-05-09T00:02:54.144Z"
   },
   {
    "duration": 37,
    "start_time": "2022-05-09T00:02:54.153Z"
   },
   {
    "duration": 7,
    "start_time": "2022-05-09T00:02:54.192Z"
   },
   {
    "duration": 32,
    "start_time": "2022-05-09T00:02:54.201Z"
   },
   {
    "duration": 56,
    "start_time": "2022-05-09T00:02:54.235Z"
   },
   {
    "duration": 33,
    "start_time": "2022-05-09T00:02:54.296Z"
   },
   {
    "duration": 128,
    "start_time": "2022-05-09T00:02:54.331Z"
   },
   {
    "duration": 122,
    "start_time": "2022-05-09T00:02:54.461Z"
   },
   {
    "duration": 107,
    "start_time": "2022-05-09T00:02:54.585Z"
   },
   {
    "duration": 10,
    "start_time": "2022-05-09T00:02:54.694Z"
   },
   {
    "duration": 5,
    "start_time": "2022-05-09T00:02:54.706Z"
   },
   {
    "duration": 18,
    "start_time": "2022-05-09T00:02:54.712Z"
   },
   {
    "duration": 11,
    "start_time": "2022-05-09T00:02:54.732Z"
   },
   {
    "duration": 50,
    "start_time": "2022-05-09T00:02:54.744Z"
   },
   {
    "duration": 16,
    "start_time": "2022-05-09T00:02:54.797Z"
   },
   {
    "duration": 4,
    "start_time": "2022-05-09T00:02:54.815Z"
   },
   {
    "duration": 6,
    "start_time": "2022-05-09T00:02:54.822Z"
   },
   {
    "duration": 68,
    "start_time": "2022-05-09T00:02:54.830Z"
   },
   {
    "duration": 22,
    "start_time": "2022-05-09T00:02:54.901Z"
   },
   {
    "duration": 19,
    "start_time": "2022-05-09T00:02:54.925Z"
   },
   {
    "duration": 49,
    "start_time": "2022-05-09T00:02:54.946Z"
   },
   {
    "duration": 22,
    "start_time": "2022-05-09T00:02:54.997Z"
   },
   {
    "duration": 19,
    "start_time": "2022-05-09T00:02:55.021Z"
   },
   {
    "duration": 4,
    "start_time": "2022-05-09T00:02:55.083Z"
   },
   {
    "duration": 20,
    "start_time": "2022-05-09T00:02:55.090Z"
   },
   {
    "duration": 98,
    "start_time": "2022-05-09T00:02:55.112Z"
   },
   {
    "duration": 0,
    "start_time": "2022-05-09T00:02:55.212Z"
   },
   {
    "duration": 0,
    "start_time": "2022-05-09T00:02:55.214Z"
   },
   {
    "duration": 0,
    "start_time": "2022-05-09T00:02:55.215Z"
   },
   {
    "duration": 0,
    "start_time": "2022-05-09T00:02:55.216Z"
   },
   {
    "duration": 0,
    "start_time": "2022-05-09T00:02:55.218Z"
   },
   {
    "duration": 0,
    "start_time": "2022-05-09T00:02:55.220Z"
   },
   {
    "duration": 0,
    "start_time": "2022-05-09T00:02:55.221Z"
   },
   {
    "duration": 0,
    "start_time": "2022-05-09T00:02:55.222Z"
   },
   {
    "duration": 0,
    "start_time": "2022-05-09T00:02:55.224Z"
   },
   {
    "duration": 0,
    "start_time": "2022-05-09T00:02:55.225Z"
   },
   {
    "duration": 0,
    "start_time": "2022-05-09T00:02:55.227Z"
   },
   {
    "duration": 0,
    "start_time": "2022-05-09T00:02:55.228Z"
   },
   {
    "duration": 0,
    "start_time": "2022-05-09T00:02:55.229Z"
   },
   {
    "duration": 0,
    "start_time": "2022-05-09T00:02:55.230Z"
   },
   {
    "duration": 0,
    "start_time": "2022-05-09T00:02:55.231Z"
   },
   {
    "duration": 96,
    "start_time": "2022-05-09T00:05:45.455Z"
   },
   {
    "duration": 105,
    "start_time": "2022-05-09T00:05:47.877Z"
   },
   {
    "duration": 127,
    "start_time": "2022-05-09T00:06:49.018Z"
   },
   {
    "duration": 92,
    "start_time": "2022-05-09T00:07:21.929Z"
   },
   {
    "duration": 15,
    "start_time": "2022-05-09T00:07:25.651Z"
   },
   {
    "duration": 91,
    "start_time": "2022-05-09T00:08:16.226Z"
   },
   {
    "duration": 12,
    "start_time": "2022-05-09T00:08:18.579Z"
   },
   {
    "duration": 25,
    "start_time": "2022-05-09T00:09:51.094Z"
   },
   {
    "duration": 27,
    "start_time": "2022-05-09T00:09:55.143Z"
   },
   {
    "duration": 10,
    "start_time": "2022-05-09T00:10:21.958Z"
   },
   {
    "duration": 5,
    "start_time": "2022-05-09T00:10:29.268Z"
   },
   {
    "duration": 25,
    "start_time": "2022-05-09T00:10:34.176Z"
   },
   {
    "duration": 16,
    "start_time": "2022-05-09T00:10:39.206Z"
   },
   {
    "duration": 24,
    "start_time": "2022-05-09T00:10:46.765Z"
   },
   {
    "duration": 14,
    "start_time": "2022-05-09T00:10:51.368Z"
   },
   {
    "duration": 12,
    "start_time": "2022-05-09T00:10:58.708Z"
   },
   {
    "duration": 7,
    "start_time": "2022-05-09T00:11:09.651Z"
   },
   {
    "duration": 9,
    "start_time": "2022-05-09T00:11:16.950Z"
   },
   {
    "duration": 5,
    "start_time": "2022-05-09T00:11:20.034Z"
   },
   {
    "duration": 12,
    "start_time": "2022-05-09T00:14:01.620Z"
   },
   {
    "duration": 15,
    "start_time": "2022-05-09T00:14:21.776Z"
   },
   {
    "duration": 6,
    "start_time": "2022-05-09T00:15:52.265Z"
   },
   {
    "duration": 3,
    "start_time": "2022-05-09T00:17:59.245Z"
   }
  ],
  "colab": {
   "collapsed_sections": [
    "E0vqbgi9ay0H",
    "VUC88oWjTJw2",
    "atZAxtq4_Zcu"
   ],
   "name": "EmptyFinalProject.ipynb\"",
   "provenance": []
  },
  "kernelspec": {
   "display_name": "Python 3 (ipykernel)",
   "language": "python",
   "name": "python3"
  },
  "language_info": {
   "codemirror_mode": {
    "name": "ipython",
    "version": 3
   },
   "file_extension": ".py",
   "mimetype": "text/x-python",
   "name": "python",
   "nbconvert_exporter": "python",
   "pygments_lexer": "ipython3",
   "version": "3.9.5"
  },
  "toc": {
   "base_numbering": 1,
   "nav_menu": {},
   "number_sections": true,
   "sideBar": true,
   "skip_h1_title": true,
   "title_cell": "Table of Contents",
   "title_sidebar": "Contents",
   "toc_cell": false,
   "toc_position": {
    "height": "calc(100% - 180px)",
    "left": "10px",
    "top": "150px",
    "width": "165px"
   },
   "toc_section_display": true,
   "toc_window_display": true
  }
 },
 "nbformat": 4,
 "nbformat_minor": 4
}
