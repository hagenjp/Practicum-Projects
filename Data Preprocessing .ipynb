{
 "cells": [
  {
   "cell_type": "markdown",
   "metadata": {},
   "source": [
    "Hello Johannah!\n",
    "\n",
    "My name is Dmitry.  I'm glad to review your work today.\n",
    "I will mark your mistakes and give you some hints how it is possible to fix them. We are getting ready for real job, where your team leader/senior colleague will do exactly the same. Don't worry and study with pleasure! \n",
    "\n",
    "Below you will find my comments - **please do not move, modify or delete them**.\n",
    "\n",
    "You can find my comments in green, yellow or red boxes like this:\n",
    "\n",
    "<div class=\"alert alert-block alert-success\">\n",
    "<b>Reviewer's comment</b> <a class=\"tocSkip\"></a>\n",
    "\n",
    "Success. Everything is done succesfully.\n",
    "</div>\n",
    "\n",
    "<div class=\"alert alert-block alert-warning\">\n",
    "<b>Reviewer's comment</b> <a class=\"tocSkip\"></a>\n",
    "\n",
    "Remarks. Some recommendations.\n",
    "</div>\n",
    "\n",
    "<div class=\"alert alert-block alert-danger\">\n",
    "\n",
    "<b>Reviewer's comment</b> <a class=\"tocSkip\"></a>\n",
    "\n",
    "Needs fixing. The block requires some corrections. Work can't be accepted with the red comments.\n",
    "</div>\n",
    "\n",
    "You can answer me by using this:\n",
    "\n",
    "<div class=\"alert alert-block alert-info\">\n",
    "<b>Student answer.</b> <a class=\"tocSkip\"></a>\n",
    "\n",
    "Text here.\n",
    "</div>"
   ]
  },
  {
   "cell_type": "markdown",
   "metadata": {},
   "source": [
    "# Analyzing borrowers’ risk of defaulting\n",
    "\n",
    "My project is to prepare a report for a bank’s loan division. I’ll need to find out if a customer’s marital status and number of children has an impact on whether they will default on a loan. The bank already has some data on customers’ credit worthiness.\n",
    "\n",
    "My report will be considered when building the **credit score** of a potential customer. The **credit score** is used to evaluate the ability of a potential borrower to repay their loan.\n",
    "\n",
    "My hypothesis is that there is a coorelation between a borrowers chance of defaulting on a loan when looking at their income, education and reason for requesting the loan. I will test my hypothesis in the following analysis \n",
    "\n"
   ]
  },
  {
   "cell_type": "markdown",
   "metadata": {},
   "source": [
    "<div class=\"alert alert-block alert-success\">\n",
    "<b>Reviewer's comment</b> <a class=\"tocSkip\"></a>\n",
    "\n",
    "Great start with an introduction!\n",
    "</div>"
   ]
  },
  {
   "cell_type": "markdown",
   "metadata": {},
   "source": [
    "## Open the data file and have a look at the general information. \n"
   ]
  },
  {
   "cell_type": "code",
   "execution_count": 1,
   "metadata": {},
   "outputs": [],
   "source": [
    "import pandas as pd\n",
    "\n",
    "\n",
    "df= pd.read_csv('/datasets/credit_scoring_eng.csv')\n"
   ]
  },
  {
   "cell_type": "markdown",
   "metadata": {},
   "source": [
    "## Task 1. Data exploration\n",
    "\n",
    "**Description of the data**\n",
    "- `children` - the number of children in the family\n",
    "- `days_employed` - work experience in days\n",
    "- `dob_years` - client's age in years\n",
    "- `education` - client's education\n",
    "- `education_id` - education identifier\n",
    "- `family_status` - marital status\n",
    "- `family_status_id` - marital status identifier\n",
    "- `gender` - gender of the client\n",
    "- `income_type` - type of employment\n",
    "- `debt` - was there any debt on loan repayment\n",
    "- `total_income` - monthly income\n",
    "- `purpose` - the purpose of obtaining a loan\n",
    "\n",
    "Now let's explore the data. I want to see how many columns and rows it has, and look at a few rows to check for potential issues."
   ]
  },
  {
   "cell_type": "code",
   "execution_count": 2,
   "metadata": {},
   "outputs": [
    {
     "data": {
      "text/html": [
       "<div>\n",
       "<style scoped>\n",
       "    .dataframe tbody tr th:only-of-type {\n",
       "        vertical-align: middle;\n",
       "    }\n",
       "\n",
       "    .dataframe tbody tr th {\n",
       "        vertical-align: top;\n",
       "    }\n",
       "\n",
       "    .dataframe thead th {\n",
       "        text-align: right;\n",
       "    }\n",
       "</style>\n",
       "<table border=\"1\" class=\"dataframe\">\n",
       "  <thead>\n",
       "    <tr style=\"text-align: right;\">\n",
       "      <th></th>\n",
       "      <th>children</th>\n",
       "      <th>days_employed</th>\n",
       "      <th>dob_years</th>\n",
       "      <th>education_id</th>\n",
       "      <th>family_status_id</th>\n",
       "      <th>debt</th>\n",
       "      <th>total_income</th>\n",
       "    </tr>\n",
       "  </thead>\n",
       "  <tbody>\n",
       "    <tr>\n",
       "      <th>count</th>\n",
       "      <td>21525.000000</td>\n",
       "      <td>19351.000000</td>\n",
       "      <td>21525.000000</td>\n",
       "      <td>21525.000000</td>\n",
       "      <td>21525.000000</td>\n",
       "      <td>21525.000000</td>\n",
       "      <td>19351.000000</td>\n",
       "    </tr>\n",
       "    <tr>\n",
       "      <th>mean</th>\n",
       "      <td>0.538908</td>\n",
       "      <td>63046.497661</td>\n",
       "      <td>43.293380</td>\n",
       "      <td>0.817236</td>\n",
       "      <td>0.972544</td>\n",
       "      <td>0.080883</td>\n",
       "      <td>26787.568355</td>\n",
       "    </tr>\n",
       "    <tr>\n",
       "      <th>std</th>\n",
       "      <td>1.381587</td>\n",
       "      <td>140827.311974</td>\n",
       "      <td>12.574584</td>\n",
       "      <td>0.548138</td>\n",
       "      <td>1.420324</td>\n",
       "      <td>0.272661</td>\n",
       "      <td>16475.450632</td>\n",
       "    </tr>\n",
       "    <tr>\n",
       "      <th>min</th>\n",
       "      <td>-1.000000</td>\n",
       "      <td>-18388.949901</td>\n",
       "      <td>0.000000</td>\n",
       "      <td>0.000000</td>\n",
       "      <td>0.000000</td>\n",
       "      <td>0.000000</td>\n",
       "      <td>3306.762000</td>\n",
       "    </tr>\n",
       "    <tr>\n",
       "      <th>25%</th>\n",
       "      <td>0.000000</td>\n",
       "      <td>-2747.423625</td>\n",
       "      <td>33.000000</td>\n",
       "      <td>1.000000</td>\n",
       "      <td>0.000000</td>\n",
       "      <td>0.000000</td>\n",
       "      <td>16488.504500</td>\n",
       "    </tr>\n",
       "    <tr>\n",
       "      <th>50%</th>\n",
       "      <td>0.000000</td>\n",
       "      <td>-1203.369529</td>\n",
       "      <td>42.000000</td>\n",
       "      <td>1.000000</td>\n",
       "      <td>0.000000</td>\n",
       "      <td>0.000000</td>\n",
       "      <td>23202.870000</td>\n",
       "    </tr>\n",
       "    <tr>\n",
       "      <th>75%</th>\n",
       "      <td>1.000000</td>\n",
       "      <td>-291.095954</td>\n",
       "      <td>53.000000</td>\n",
       "      <td>1.000000</td>\n",
       "      <td>1.000000</td>\n",
       "      <td>0.000000</td>\n",
       "      <td>32549.611000</td>\n",
       "    </tr>\n",
       "    <tr>\n",
       "      <th>max</th>\n",
       "      <td>20.000000</td>\n",
       "      <td>401755.400475</td>\n",
       "      <td>75.000000</td>\n",
       "      <td>4.000000</td>\n",
       "      <td>4.000000</td>\n",
       "      <td>1.000000</td>\n",
       "      <td>362496.645000</td>\n",
       "    </tr>\n",
       "  </tbody>\n",
       "</table>\n",
       "</div>"
      ],
      "text/plain": [
       "           children  days_employed     dob_years  education_id  \\\n",
       "count  21525.000000   19351.000000  21525.000000  21525.000000   \n",
       "mean       0.538908   63046.497661     43.293380      0.817236   \n",
       "std        1.381587  140827.311974     12.574584      0.548138   \n",
       "min       -1.000000  -18388.949901      0.000000      0.000000   \n",
       "25%        0.000000   -2747.423625     33.000000      1.000000   \n",
       "50%        0.000000   -1203.369529     42.000000      1.000000   \n",
       "75%        1.000000    -291.095954     53.000000      1.000000   \n",
       "max       20.000000  401755.400475     75.000000      4.000000   \n",
       "\n",
       "       family_status_id          debt   total_income  \n",
       "count      21525.000000  21525.000000   19351.000000  \n",
       "mean           0.972544      0.080883   26787.568355  \n",
       "std            1.420324      0.272661   16475.450632  \n",
       "min            0.000000      0.000000    3306.762000  \n",
       "25%            0.000000      0.000000   16488.504500  \n",
       "50%            0.000000      0.000000   23202.870000  \n",
       "75%            1.000000      0.000000   32549.611000  \n",
       "max            4.000000      1.000000  362496.645000  "
      ]
     },
     "execution_count": 2,
     "metadata": {},
     "output_type": "execute_result"
    }
   ],
   "source": [
    "\n",
    "df.describe()\n"
   ]
  },
  {
   "cell_type": "code",
   "execution_count": 3,
   "metadata": {
    "scrolled": true
   },
   "outputs": [
    {
     "data": {
      "text/html": [
       "<div>\n",
       "<style scoped>\n",
       "    .dataframe tbody tr th:only-of-type {\n",
       "        vertical-align: middle;\n",
       "    }\n",
       "\n",
       "    .dataframe tbody tr th {\n",
       "        vertical-align: top;\n",
       "    }\n",
       "\n",
       "    .dataframe thead th {\n",
       "        text-align: right;\n",
       "    }\n",
       "</style>\n",
       "<table border=\"1\" class=\"dataframe\">\n",
       "  <thead>\n",
       "    <tr style=\"text-align: right;\">\n",
       "      <th></th>\n",
       "      <th>children</th>\n",
       "      <th>days_employed</th>\n",
       "      <th>dob_years</th>\n",
       "      <th>education</th>\n",
       "      <th>education_id</th>\n",
       "      <th>family_status</th>\n",
       "      <th>family_status_id</th>\n",
       "      <th>gender</th>\n",
       "      <th>income_type</th>\n",
       "      <th>debt</th>\n",
       "      <th>total_income</th>\n",
       "      <th>purpose</th>\n",
       "    </tr>\n",
       "  </thead>\n",
       "  <tbody>\n",
       "    <tr>\n",
       "      <th>0</th>\n",
       "      <td>1</td>\n",
       "      <td>-8437.673028</td>\n",
       "      <td>42</td>\n",
       "      <td>bachelor's degree</td>\n",
       "      <td>0</td>\n",
       "      <td>married</td>\n",
       "      <td>0</td>\n",
       "      <td>F</td>\n",
       "      <td>employee</td>\n",
       "      <td>0</td>\n",
       "      <td>40620.102</td>\n",
       "      <td>purchase of the house</td>\n",
       "    </tr>\n",
       "    <tr>\n",
       "      <th>1</th>\n",
       "      <td>1</td>\n",
       "      <td>-4024.803754</td>\n",
       "      <td>36</td>\n",
       "      <td>secondary education</td>\n",
       "      <td>1</td>\n",
       "      <td>married</td>\n",
       "      <td>0</td>\n",
       "      <td>F</td>\n",
       "      <td>employee</td>\n",
       "      <td>0</td>\n",
       "      <td>17932.802</td>\n",
       "      <td>car purchase</td>\n",
       "    </tr>\n",
       "    <tr>\n",
       "      <th>2</th>\n",
       "      <td>0</td>\n",
       "      <td>-5623.422610</td>\n",
       "      <td>33</td>\n",
       "      <td>Secondary Education</td>\n",
       "      <td>1</td>\n",
       "      <td>married</td>\n",
       "      <td>0</td>\n",
       "      <td>M</td>\n",
       "      <td>employee</td>\n",
       "      <td>0</td>\n",
       "      <td>23341.752</td>\n",
       "      <td>purchase of the house</td>\n",
       "    </tr>\n",
       "    <tr>\n",
       "      <th>3</th>\n",
       "      <td>3</td>\n",
       "      <td>-4124.747207</td>\n",
       "      <td>32</td>\n",
       "      <td>secondary education</td>\n",
       "      <td>1</td>\n",
       "      <td>married</td>\n",
       "      <td>0</td>\n",
       "      <td>M</td>\n",
       "      <td>employee</td>\n",
       "      <td>0</td>\n",
       "      <td>42820.568</td>\n",
       "      <td>supplementary education</td>\n",
       "    </tr>\n",
       "    <tr>\n",
       "      <th>4</th>\n",
       "      <td>0</td>\n",
       "      <td>340266.072047</td>\n",
       "      <td>53</td>\n",
       "      <td>secondary education</td>\n",
       "      <td>1</td>\n",
       "      <td>civil partnership</td>\n",
       "      <td>1</td>\n",
       "      <td>F</td>\n",
       "      <td>retiree</td>\n",
       "      <td>0</td>\n",
       "      <td>25378.572</td>\n",
       "      <td>to have a wedding</td>\n",
       "    </tr>\n",
       "    <tr>\n",
       "      <th>5</th>\n",
       "      <td>0</td>\n",
       "      <td>-926.185831</td>\n",
       "      <td>27</td>\n",
       "      <td>bachelor's degree</td>\n",
       "      <td>0</td>\n",
       "      <td>civil partnership</td>\n",
       "      <td>1</td>\n",
       "      <td>M</td>\n",
       "      <td>business</td>\n",
       "      <td>0</td>\n",
       "      <td>40922.170</td>\n",
       "      <td>purchase of the house</td>\n",
       "    </tr>\n",
       "    <tr>\n",
       "      <th>6</th>\n",
       "      <td>0</td>\n",
       "      <td>-2879.202052</td>\n",
       "      <td>43</td>\n",
       "      <td>bachelor's degree</td>\n",
       "      <td>0</td>\n",
       "      <td>married</td>\n",
       "      <td>0</td>\n",
       "      <td>F</td>\n",
       "      <td>business</td>\n",
       "      <td>0</td>\n",
       "      <td>38484.156</td>\n",
       "      <td>housing transactions</td>\n",
       "    </tr>\n",
       "    <tr>\n",
       "      <th>7</th>\n",
       "      <td>0</td>\n",
       "      <td>-152.779569</td>\n",
       "      <td>50</td>\n",
       "      <td>SECONDARY EDUCATION</td>\n",
       "      <td>1</td>\n",
       "      <td>married</td>\n",
       "      <td>0</td>\n",
       "      <td>M</td>\n",
       "      <td>employee</td>\n",
       "      <td>0</td>\n",
       "      <td>21731.829</td>\n",
       "      <td>education</td>\n",
       "    </tr>\n",
       "    <tr>\n",
       "      <th>8</th>\n",
       "      <td>2</td>\n",
       "      <td>-6929.865299</td>\n",
       "      <td>35</td>\n",
       "      <td>BACHELOR'S DEGREE</td>\n",
       "      <td>0</td>\n",
       "      <td>civil partnership</td>\n",
       "      <td>1</td>\n",
       "      <td>F</td>\n",
       "      <td>employee</td>\n",
       "      <td>0</td>\n",
       "      <td>15337.093</td>\n",
       "      <td>having a wedding</td>\n",
       "    </tr>\n",
       "    <tr>\n",
       "      <th>9</th>\n",
       "      <td>0</td>\n",
       "      <td>-2188.756445</td>\n",
       "      <td>41</td>\n",
       "      <td>secondary education</td>\n",
       "      <td>1</td>\n",
       "      <td>married</td>\n",
       "      <td>0</td>\n",
       "      <td>M</td>\n",
       "      <td>employee</td>\n",
       "      <td>0</td>\n",
       "      <td>23108.150</td>\n",
       "      <td>purchase of the house for my family</td>\n",
       "    </tr>\n",
       "  </tbody>\n",
       "</table>\n",
       "</div>"
      ],
      "text/plain": [
       "   children  days_employed  dob_years            education  education_id  \\\n",
       "0         1   -8437.673028         42    bachelor's degree             0   \n",
       "1         1   -4024.803754         36  secondary education             1   \n",
       "2         0   -5623.422610         33  Secondary Education             1   \n",
       "3         3   -4124.747207         32  secondary education             1   \n",
       "4         0  340266.072047         53  secondary education             1   \n",
       "5         0    -926.185831         27    bachelor's degree             0   \n",
       "6         0   -2879.202052         43    bachelor's degree             0   \n",
       "7         0    -152.779569         50  SECONDARY EDUCATION             1   \n",
       "8         2   -6929.865299         35    BACHELOR'S DEGREE             0   \n",
       "9         0   -2188.756445         41  secondary education             1   \n",
       "\n",
       "       family_status  family_status_id gender income_type  debt  total_income  \\\n",
       "0            married                 0      F    employee     0     40620.102   \n",
       "1            married                 0      F    employee     0     17932.802   \n",
       "2            married                 0      M    employee     0     23341.752   \n",
       "3            married                 0      M    employee     0     42820.568   \n",
       "4  civil partnership                 1      F     retiree     0     25378.572   \n",
       "5  civil partnership                 1      M    business     0     40922.170   \n",
       "6            married                 0      F    business     0     38484.156   \n",
       "7            married                 0      M    employee     0     21731.829   \n",
       "8  civil partnership                 1      F    employee     0     15337.093   \n",
       "9            married                 0      M    employee     0     23108.150   \n",
       "\n",
       "                               purpose  \n",
       "0                purchase of the house  \n",
       "1                         car purchase  \n",
       "2                purchase of the house  \n",
       "3              supplementary education  \n",
       "4                    to have a wedding  \n",
       "5                purchase of the house  \n",
       "6                 housing transactions  \n",
       "7                            education  \n",
       "8                     having a wedding  \n",
       "9  purchase of the house for my family  "
      ]
     },
     "execution_count": 3,
     "metadata": {},
     "output_type": "execute_result"
    }
   ],
   "source": [
    "\n",
    "df.head(10)"
   ]
  },
  {
   "cell_type": "markdown",
   "metadata": {},
   "source": [
    "\n",
    "I am seeing that the education column has mixed upper and lower case useage, to be more uniform I will change that column to all lower case. I will also convert the float data type in the 'days_employed' ans 'total_income' columns to an integer type. The 'days_employed' column shows many negative values. I am not sure what that means and will need to investigate further."
   ]
  },
  {
   "cell_type": "code",
   "execution_count": 4,
   "metadata": {
    "scrolled": false
   },
   "outputs": [
    {
     "name": "stdout",
     "output_type": "stream",
     "text": [
      "<class 'pandas.core.frame.DataFrame'>\n",
      "RangeIndex: 21525 entries, 0 to 21524\n",
      "Data columns (total 12 columns):\n",
      " #   Column            Non-Null Count  Dtype  \n",
      "---  ------            --------------  -----  \n",
      " 0   children          21525 non-null  int64  \n",
      " 1   days_employed     19351 non-null  float64\n",
      " 2   dob_years         21525 non-null  int64  \n",
      " 3   education         21525 non-null  object \n",
      " 4   education_id      21525 non-null  int64  \n",
      " 5   family_status     21525 non-null  object \n",
      " 6   family_status_id  21525 non-null  int64  \n",
      " 7   gender            21525 non-null  object \n",
      " 8   income_type       21525 non-null  object \n",
      " 9   debt              21525 non-null  int64  \n",
      " 10  total_income      19351 non-null  float64\n",
      " 11  purpose           21525 non-null  object \n",
      "dtypes: float64(2), int64(5), object(5)\n",
      "memory usage: 2.0+ MB\n"
     ]
    }
   ],
   "source": [
    "df.info()\n",
    "\n"
   ]
  },
  {
   "cell_type": "markdown",
   "metadata": {},
   "source": [
    "\n",
    "The columns 'days_employed' and 'total_income are missing some data. The rest of the columns appear to be complete."
   ]
  },
  {
   "cell_type": "code",
   "execution_count": 5,
   "metadata": {
    "scrolled": true
   },
   "outputs": [
    {
     "name": "stdout",
     "output_type": "stream",
     "text": [
      "2174\n",
      "2174\n"
     ]
    }
   ],
   "source": [
    "\n",
    "print(df['days_employed'].isna().sum())\n",
    "print(df['total_income'].isna().sum())"
   ]
  },
  {
   "cell_type": "markdown",
   "metadata": {},
   "source": [
    " The missing data in the two columns appears to be symmetrical. In order to check this I will check all the rows with missing data to confirm the numbers are actually related. The code below indicates the missing values in the columns are also equal to the missing columns in the rows. The rows that are missing data for 'days_employed' are also missing data for 'total_income'"
   ]
  },
  {
   "cell_type": "code",
   "execution_count": 6,
   "metadata": {},
   "outputs": [
    {
     "data": {
      "text/plain": [
       "children               0\n",
       "days_employed       2174\n",
       "dob_years              0\n",
       "education              0\n",
       "education_id           0\n",
       "family_status          0\n",
       "family_status_id       0\n",
       "gender                 0\n",
       "income_type            0\n",
       "debt                   0\n",
       "total_income        2174\n",
       "purpose                0\n",
       "dtype: int64"
      ]
     },
     "execution_count": 6,
     "metadata": {},
     "output_type": "execute_result"
    }
   ],
   "source": [
    "\n",
    "df.isna().sum(axis='rows')\n"
   ]
  },
  {
   "cell_type": "code",
   "execution_count": 7,
   "metadata": {},
   "outputs": [
    {
     "name": "stdout",
     "output_type": "stream",
     "text": [
      "children            2174\n",
      "days_employed          0\n",
      "dob_years           2174\n",
      "education           2174\n",
      "education_id        2174\n",
      "family_status       2174\n",
      "family_status_id    2174\n",
      "gender              2174\n",
      "income_type         2174\n",
      "debt                2174\n",
      "total_income           0\n",
      "purpose             2174\n",
      "dtype: int64\n",
      "    children  days_employed  dob_years            education  education_id  \\\n",
      "12         0            NaN         65  secondary education             1   \n",
      "26         0            NaN         41  secondary education             1   \n",
      "29         0            NaN         63  secondary education             1   \n",
      "41         0            NaN         50  secondary education             1   \n",
      "55         0            NaN         54  secondary education             1   \n",
      "\n",
      "        family_status  family_status_id gender    income_type  debt  \\\n",
      "12  civil partnership                 1      M        retiree     0   \n",
      "26            married                 0      M  civil servant     0   \n",
      "29          unmarried                 4      F        retiree     0   \n",
      "41            married                 0      F  civil servant     0   \n",
      "55  civil partnership                 1      F        retiree     1   \n",
      "\n",
      "    total_income                   purpose  \n",
      "12           NaN         to have a wedding  \n",
      "26           NaN                 education  \n",
      "29           NaN    building a real estate  \n",
      "41           NaN  second-hand car purchase  \n",
      "55           NaN         to have a wedding  \n"
     ]
    }
   ],
   "source": [
    "# Let's apply multiple conditions for filtering data and look at the number of rows in the filtered table.\n",
    "filtered_df = df.loc[(df['days_employed'].isna())&(df['total_income'].isna())]\n",
    "\n",
    "print(filtered_df.count())\n",
    "print(filtered_df.head(5))\n"
   ]
  },
  {
   "cell_type": "markdown",
   "metadata": {},
   "source": [
    "**Intermediate conclusion**\n",
    "\n",
    "The number of rows in the filtered table matches the number of missing values. We can conclude that the missing data is missing from the same form in each entry. To determine if the missing values account for a significant piece of the data I will find the percentage of the missing values compared to the total dataset.\n",
    "\n",
    "\n",
    "\n",
    "[Explain your next steps and how they correlate with the conclusions you made so far.]"
   ]
  },
  {
   "cell_type": "markdown",
   "metadata": {},
   "source": [
    "<div class=\"alert alert-block alert-success\">\n",
    "<b>Reviewer's comment</b> <a class=\"tocSkip\"></a>\n",
    "\n",
    "Correct.\n",
    "</div>"
   ]
  },
  {
   "cell_type": "code",
   "execution_count": 8,
   "metadata": {},
   "outputs": [
    {
     "data": {
      "text/plain": [
       "children             0.000000\n",
       "days_employed       10.099884\n",
       "dob_years            0.000000\n",
       "education            0.000000\n",
       "education_id         0.000000\n",
       "family_status        0.000000\n",
       "family_status_id     0.000000\n",
       "gender               0.000000\n",
       "income_type          0.000000\n",
       "debt                 0.000000\n",
       "total_income        10.099884\n",
       "purpose              0.000000\n",
       "dtype: float64"
      ]
     },
     "execution_count": 8,
     "metadata": {},
     "output_type": "execute_result"
    }
   ],
   "source": [
    "df.isna().sum()*100/len(df)"
   ]
  },
  {
   "cell_type": "markdown",
   "metadata": {},
   "source": [
    "The missing data accounts for around 10% of the total dataset. This is significant, I will be investigating why the values are missing for these entries. I suspect employment status such as retirement and unemployment could be a reason why days employed and income would be empty.In my next steps I will look into these reasonings "
   ]
  },
  {
   "cell_type": "code",
   "execution_count": 9,
   "metadata": {},
   "outputs": [
    {
     "data": {
      "text/html": [
       "<div>\n",
       "<style scoped>\n",
       "    .dataframe tbody tr th:only-of-type {\n",
       "        vertical-align: middle;\n",
       "    }\n",
       "\n",
       "    .dataframe tbody tr th {\n",
       "        vertical-align: top;\n",
       "    }\n",
       "\n",
       "    .dataframe thead th {\n",
       "        text-align: right;\n",
       "    }\n",
       "</style>\n",
       "<table border=\"1\" class=\"dataframe\">\n",
       "  <thead>\n",
       "    <tr style=\"text-align: right;\">\n",
       "      <th></th>\n",
       "      <th>children</th>\n",
       "      <th>days_employed</th>\n",
       "      <th>dob_years</th>\n",
       "      <th>education</th>\n",
       "      <th>education_id</th>\n",
       "      <th>family_status</th>\n",
       "      <th>family_status_id</th>\n",
       "      <th>gender</th>\n",
       "      <th>income_type</th>\n",
       "      <th>debt</th>\n",
       "      <th>total_income</th>\n",
       "      <th>purpose</th>\n",
       "    </tr>\n",
       "  </thead>\n",
       "  <tbody>\n",
       "    <tr>\n",
       "      <th>12</th>\n",
       "      <td>0</td>\n",
       "      <td>NaN</td>\n",
       "      <td>65</td>\n",
       "      <td>secondary education</td>\n",
       "      <td>1</td>\n",
       "      <td>civil partnership</td>\n",
       "      <td>1</td>\n",
       "      <td>M</td>\n",
       "      <td>retiree</td>\n",
       "      <td>0</td>\n",
       "      <td>NaN</td>\n",
       "      <td>to have a wedding</td>\n",
       "    </tr>\n",
       "    <tr>\n",
       "      <th>29</th>\n",
       "      <td>0</td>\n",
       "      <td>NaN</td>\n",
       "      <td>63</td>\n",
       "      <td>secondary education</td>\n",
       "      <td>1</td>\n",
       "      <td>unmarried</td>\n",
       "      <td>4</td>\n",
       "      <td>F</td>\n",
       "      <td>retiree</td>\n",
       "      <td>0</td>\n",
       "      <td>NaN</td>\n",
       "      <td>building a real estate</td>\n",
       "    </tr>\n",
       "    <tr>\n",
       "      <th>55</th>\n",
       "      <td>0</td>\n",
       "      <td>NaN</td>\n",
       "      <td>54</td>\n",
       "      <td>secondary education</td>\n",
       "      <td>1</td>\n",
       "      <td>civil partnership</td>\n",
       "      <td>1</td>\n",
       "      <td>F</td>\n",
       "      <td>retiree</td>\n",
       "      <td>1</td>\n",
       "      <td>NaN</td>\n",
       "      <td>to have a wedding</td>\n",
       "    </tr>\n",
       "    <tr>\n",
       "      <th>67</th>\n",
       "      <td>0</td>\n",
       "      <td>NaN</td>\n",
       "      <td>52</td>\n",
       "      <td>bachelor's degree</td>\n",
       "      <td>0</td>\n",
       "      <td>married</td>\n",
       "      <td>0</td>\n",
       "      <td>F</td>\n",
       "      <td>retiree</td>\n",
       "      <td>0</td>\n",
       "      <td>NaN</td>\n",
       "      <td>purchase of the house for my family</td>\n",
       "    </tr>\n",
       "    <tr>\n",
       "      <th>145</th>\n",
       "      <td>0</td>\n",
       "      <td>NaN</td>\n",
       "      <td>62</td>\n",
       "      <td>secondary education</td>\n",
       "      <td>1</td>\n",
       "      <td>married</td>\n",
       "      <td>0</td>\n",
       "      <td>M</td>\n",
       "      <td>retiree</td>\n",
       "      <td>0</td>\n",
       "      <td>NaN</td>\n",
       "      <td>building a property</td>\n",
       "    </tr>\n",
       "    <tr>\n",
       "      <th>...</th>\n",
       "      <td>...</td>\n",
       "      <td>...</td>\n",
       "      <td>...</td>\n",
       "      <td>...</td>\n",
       "      <td>...</td>\n",
       "      <td>...</td>\n",
       "      <td>...</td>\n",
       "      <td>...</td>\n",
       "      <td>...</td>\n",
       "      <td>...</td>\n",
       "      <td>...</td>\n",
       "      <td>...</td>\n",
       "    </tr>\n",
       "    <tr>\n",
       "      <th>21311</th>\n",
       "      <td>0</td>\n",
       "      <td>NaN</td>\n",
       "      <td>49</td>\n",
       "      <td>secondary education</td>\n",
       "      <td>1</td>\n",
       "      <td>married</td>\n",
       "      <td>0</td>\n",
       "      <td>F</td>\n",
       "      <td>retiree</td>\n",
       "      <td>0</td>\n",
       "      <td>NaN</td>\n",
       "      <td>buying property for renting out</td>\n",
       "    </tr>\n",
       "    <tr>\n",
       "      <th>21321</th>\n",
       "      <td>0</td>\n",
       "      <td>NaN</td>\n",
       "      <td>56</td>\n",
       "      <td>Secondary Education</td>\n",
       "      <td>1</td>\n",
       "      <td>married</td>\n",
       "      <td>0</td>\n",
       "      <td>F</td>\n",
       "      <td>retiree</td>\n",
       "      <td>0</td>\n",
       "      <td>NaN</td>\n",
       "      <td>real estate transactions</td>\n",
       "    </tr>\n",
       "    <tr>\n",
       "      <th>21414</th>\n",
       "      <td>0</td>\n",
       "      <td>NaN</td>\n",
       "      <td>65</td>\n",
       "      <td>secondary education</td>\n",
       "      <td>1</td>\n",
       "      <td>married</td>\n",
       "      <td>0</td>\n",
       "      <td>F</td>\n",
       "      <td>retiree</td>\n",
       "      <td>0</td>\n",
       "      <td>NaN</td>\n",
       "      <td>purchase of my own house</td>\n",
       "    </tr>\n",
       "    <tr>\n",
       "      <th>21415</th>\n",
       "      <td>0</td>\n",
       "      <td>NaN</td>\n",
       "      <td>54</td>\n",
       "      <td>secondary education</td>\n",
       "      <td>1</td>\n",
       "      <td>married</td>\n",
       "      <td>0</td>\n",
       "      <td>F</td>\n",
       "      <td>retiree</td>\n",
       "      <td>0</td>\n",
       "      <td>NaN</td>\n",
       "      <td>housing transactions</td>\n",
       "    </tr>\n",
       "    <tr>\n",
       "      <th>21423</th>\n",
       "      <td>0</td>\n",
       "      <td>NaN</td>\n",
       "      <td>63</td>\n",
       "      <td>secondary education</td>\n",
       "      <td>1</td>\n",
       "      <td>married</td>\n",
       "      <td>0</td>\n",
       "      <td>M</td>\n",
       "      <td>retiree</td>\n",
       "      <td>0</td>\n",
       "      <td>NaN</td>\n",
       "      <td>purchase of a car</td>\n",
       "    </tr>\n",
       "  </tbody>\n",
       "</table>\n",
       "<p>413 rows × 12 columns</p>\n",
       "</div>"
      ],
      "text/plain": [
       "       children  days_employed  dob_years            education  education_id  \\\n",
       "12            0            NaN         65  secondary education             1   \n",
       "29            0            NaN         63  secondary education             1   \n",
       "55            0            NaN         54  secondary education             1   \n",
       "67            0            NaN         52    bachelor's degree             0   \n",
       "145           0            NaN         62  secondary education             1   \n",
       "...         ...            ...        ...                  ...           ...   \n",
       "21311         0            NaN         49  secondary education             1   \n",
       "21321         0            NaN         56  Secondary Education             1   \n",
       "21414         0            NaN         65  secondary education             1   \n",
       "21415         0            NaN         54  secondary education             1   \n",
       "21423         0            NaN         63  secondary education             1   \n",
       "\n",
       "           family_status  family_status_id gender income_type  debt  \\\n",
       "12     civil partnership                 1      M     retiree     0   \n",
       "29             unmarried                 4      F     retiree     0   \n",
       "55     civil partnership                 1      F     retiree     1   \n",
       "67               married                 0      F     retiree     0   \n",
       "145              married                 0      M     retiree     0   \n",
       "...                  ...               ...    ...         ...   ...   \n",
       "21311            married                 0      F     retiree     0   \n",
       "21321            married                 0      F     retiree     0   \n",
       "21414            married                 0      F     retiree     0   \n",
       "21415            married                 0      F     retiree     0   \n",
       "21423            married                 0      M     retiree     0   \n",
       "\n",
       "       total_income                              purpose  \n",
       "12              NaN                    to have a wedding  \n",
       "29              NaN               building a real estate  \n",
       "55              NaN                    to have a wedding  \n",
       "67              NaN  purchase of the house for my family  \n",
       "145             NaN                  building a property  \n",
       "...             ...                                  ...  \n",
       "21311           NaN      buying property for renting out  \n",
       "21321           NaN             real estate transactions  \n",
       "21414           NaN             purchase of my own house  \n",
       "21415           NaN                 housing transactions  \n",
       "21423           NaN                    purchase of a car  \n",
       "\n",
       "[413 rows x 12 columns]"
      ]
     },
     "execution_count": 9,
     "metadata": {},
     "output_type": "execute_result"
    }
   ],
   "source": [
    "\n",
    "filtered_df[filtered_df['income_type']=='retiree']\n",
    "\n"
   ]
  },
  {
   "cell_type": "code",
   "execution_count": 10,
   "metadata": {},
   "outputs": [
    {
     "data": {
      "text/html": [
       "<div>\n",
       "<style scoped>\n",
       "    .dataframe tbody tr th:only-of-type {\n",
       "        vertical-align: middle;\n",
       "    }\n",
       "\n",
       "    .dataframe tbody tr th {\n",
       "        vertical-align: top;\n",
       "    }\n",
       "\n",
       "    .dataframe thead th {\n",
       "        text-align: right;\n",
       "    }\n",
       "</style>\n",
       "<table border=\"1\" class=\"dataframe\">\n",
       "  <thead>\n",
       "    <tr style=\"text-align: right;\">\n",
       "      <th></th>\n",
       "      <th>children</th>\n",
       "      <th>days_employed</th>\n",
       "      <th>dob_years</th>\n",
       "      <th>education</th>\n",
       "      <th>education_id</th>\n",
       "      <th>family_status</th>\n",
       "      <th>family_status_id</th>\n",
       "      <th>gender</th>\n",
       "      <th>income_type</th>\n",
       "      <th>debt</th>\n",
       "      <th>total_income</th>\n",
       "      <th>purpose</th>\n",
       "    </tr>\n",
       "  </thead>\n",
       "  <tbody>\n",
       "    <tr>\n",
       "      <th>12</th>\n",
       "      <td>0</td>\n",
       "      <td>NaN</td>\n",
       "      <td>65</td>\n",
       "      <td>secondary education</td>\n",
       "      <td>1</td>\n",
       "      <td>civil partnership</td>\n",
       "      <td>1</td>\n",
       "      <td>M</td>\n",
       "      <td>retiree</td>\n",
       "      <td>0</td>\n",
       "      <td>NaN</td>\n",
       "      <td>to have a wedding</td>\n",
       "    </tr>\n",
       "    <tr>\n",
       "      <th>26</th>\n",
       "      <td>0</td>\n",
       "      <td>NaN</td>\n",
       "      <td>41</td>\n",
       "      <td>secondary education</td>\n",
       "      <td>1</td>\n",
       "      <td>married</td>\n",
       "      <td>0</td>\n",
       "      <td>M</td>\n",
       "      <td>civil servant</td>\n",
       "      <td>0</td>\n",
       "      <td>NaN</td>\n",
       "      <td>education</td>\n",
       "    </tr>\n",
       "    <tr>\n",
       "      <th>29</th>\n",
       "      <td>0</td>\n",
       "      <td>NaN</td>\n",
       "      <td>63</td>\n",
       "      <td>secondary education</td>\n",
       "      <td>1</td>\n",
       "      <td>unmarried</td>\n",
       "      <td>4</td>\n",
       "      <td>F</td>\n",
       "      <td>retiree</td>\n",
       "      <td>0</td>\n",
       "      <td>NaN</td>\n",
       "      <td>building a real estate</td>\n",
       "    </tr>\n",
       "    <tr>\n",
       "      <th>41</th>\n",
       "      <td>0</td>\n",
       "      <td>NaN</td>\n",
       "      <td>50</td>\n",
       "      <td>secondary education</td>\n",
       "      <td>1</td>\n",
       "      <td>married</td>\n",
       "      <td>0</td>\n",
       "      <td>F</td>\n",
       "      <td>civil servant</td>\n",
       "      <td>0</td>\n",
       "      <td>NaN</td>\n",
       "      <td>second-hand car purchase</td>\n",
       "    </tr>\n",
       "    <tr>\n",
       "      <th>55</th>\n",
       "      <td>0</td>\n",
       "      <td>NaN</td>\n",
       "      <td>54</td>\n",
       "      <td>secondary education</td>\n",
       "      <td>1</td>\n",
       "      <td>civil partnership</td>\n",
       "      <td>1</td>\n",
       "      <td>F</td>\n",
       "      <td>retiree</td>\n",
       "      <td>1</td>\n",
       "      <td>NaN</td>\n",
       "      <td>to have a wedding</td>\n",
       "    </tr>\n",
       "    <tr>\n",
       "      <th>...</th>\n",
       "      <td>...</td>\n",
       "      <td>...</td>\n",
       "      <td>...</td>\n",
       "      <td>...</td>\n",
       "      <td>...</td>\n",
       "      <td>...</td>\n",
       "      <td>...</td>\n",
       "      <td>...</td>\n",
       "      <td>...</td>\n",
       "      <td>...</td>\n",
       "      <td>...</td>\n",
       "      <td>...</td>\n",
       "    </tr>\n",
       "    <tr>\n",
       "      <th>21489</th>\n",
       "      <td>2</td>\n",
       "      <td>NaN</td>\n",
       "      <td>47</td>\n",
       "      <td>Secondary Education</td>\n",
       "      <td>1</td>\n",
       "      <td>married</td>\n",
       "      <td>0</td>\n",
       "      <td>M</td>\n",
       "      <td>business</td>\n",
       "      <td>0</td>\n",
       "      <td>NaN</td>\n",
       "      <td>purchase of a car</td>\n",
       "    </tr>\n",
       "    <tr>\n",
       "      <th>21495</th>\n",
       "      <td>1</td>\n",
       "      <td>NaN</td>\n",
       "      <td>50</td>\n",
       "      <td>secondary education</td>\n",
       "      <td>1</td>\n",
       "      <td>civil partnership</td>\n",
       "      <td>1</td>\n",
       "      <td>F</td>\n",
       "      <td>employee</td>\n",
       "      <td>0</td>\n",
       "      <td>NaN</td>\n",
       "      <td>wedding ceremony</td>\n",
       "    </tr>\n",
       "    <tr>\n",
       "      <th>21497</th>\n",
       "      <td>0</td>\n",
       "      <td>NaN</td>\n",
       "      <td>48</td>\n",
       "      <td>BACHELOR'S DEGREE</td>\n",
       "      <td>0</td>\n",
       "      <td>married</td>\n",
       "      <td>0</td>\n",
       "      <td>F</td>\n",
       "      <td>business</td>\n",
       "      <td>0</td>\n",
       "      <td>NaN</td>\n",
       "      <td>building a property</td>\n",
       "    </tr>\n",
       "    <tr>\n",
       "      <th>21502</th>\n",
       "      <td>1</td>\n",
       "      <td>NaN</td>\n",
       "      <td>42</td>\n",
       "      <td>secondary education</td>\n",
       "      <td>1</td>\n",
       "      <td>married</td>\n",
       "      <td>0</td>\n",
       "      <td>F</td>\n",
       "      <td>employee</td>\n",
       "      <td>0</td>\n",
       "      <td>NaN</td>\n",
       "      <td>building a real estate</td>\n",
       "    </tr>\n",
       "    <tr>\n",
       "      <th>21510</th>\n",
       "      <td>2</td>\n",
       "      <td>NaN</td>\n",
       "      <td>28</td>\n",
       "      <td>secondary education</td>\n",
       "      <td>1</td>\n",
       "      <td>married</td>\n",
       "      <td>0</td>\n",
       "      <td>F</td>\n",
       "      <td>employee</td>\n",
       "      <td>0</td>\n",
       "      <td>NaN</td>\n",
       "      <td>car purchase</td>\n",
       "    </tr>\n",
       "  </tbody>\n",
       "</table>\n",
       "<p>2174 rows × 12 columns</p>\n",
       "</div>"
      ],
      "text/plain": [
       "       children  days_employed  dob_years            education  education_id  \\\n",
       "12            0            NaN         65  secondary education             1   \n",
       "26            0            NaN         41  secondary education             1   \n",
       "29            0            NaN         63  secondary education             1   \n",
       "41            0            NaN         50  secondary education             1   \n",
       "55            0            NaN         54  secondary education             1   \n",
       "...         ...            ...        ...                  ...           ...   \n",
       "21489         2            NaN         47  Secondary Education             1   \n",
       "21495         1            NaN         50  secondary education             1   \n",
       "21497         0            NaN         48    BACHELOR'S DEGREE             0   \n",
       "21502         1            NaN         42  secondary education             1   \n",
       "21510         2            NaN         28  secondary education             1   \n",
       "\n",
       "           family_status  family_status_id gender    income_type  debt  \\\n",
       "12     civil partnership                 1      M        retiree     0   \n",
       "26               married                 0      M  civil servant     0   \n",
       "29             unmarried                 4      F        retiree     0   \n",
       "41               married                 0      F  civil servant     0   \n",
       "55     civil partnership                 1      F        retiree     1   \n",
       "...                  ...               ...    ...            ...   ...   \n",
       "21489            married                 0      M       business     0   \n",
       "21495  civil partnership                 1      F       employee     0   \n",
       "21497            married                 0      F       business     0   \n",
       "21502            married                 0      F       employee     0   \n",
       "21510            married                 0      F       employee     0   \n",
       "\n",
       "       total_income                   purpose  \n",
       "12              NaN         to have a wedding  \n",
       "26              NaN                 education  \n",
       "29              NaN    building a real estate  \n",
       "41              NaN  second-hand car purchase  \n",
       "55              NaN         to have a wedding  \n",
       "...             ...                       ...  \n",
       "21489           NaN         purchase of a car  \n",
       "21495           NaN          wedding ceremony  \n",
       "21497           NaN       building a property  \n",
       "21502           NaN    building a real estate  \n",
       "21510           NaN              car purchase  \n",
       "\n",
       "[2174 rows x 12 columns]"
      ]
     },
     "execution_count": 10,
     "metadata": {},
     "output_type": "execute_result"
    }
   ],
   "source": [
    "filtered_df[filtered_df['days_employed'].isna()]"
   ]
  },
  {
   "cell_type": "markdown",
   "metadata": {},
   "source": [
    "Based on these filters I see that there is more detail to these missing values. Some seem to be random but others could be due to retirement or unemployment.This is definitly a blind spot in this data set ( that there is no option for reporting unemployment, or there is and people dont want to report it and seem unworthy of credit).  It may be better to fill with missing values with categorized medians/means. This way the blank incomes are standardized and more accurate than leaving them blank, especially for further analysis.   "
   ]
  },
  {
   "cell_type": "markdown",
   "metadata": {},
   "source": [
    "\n",
    "**Possible reasons for missing values in data**\n",
    "\n",
    "I think the values may be missing due to random error, unemployment, and retirement. I have already seen some pattern showing retirement could be a reason for the missing data in the filtered tables bit now I will check the whole data set to see the distribution from a different angle.\n"
   ]
  },
  {
   "cell_type": "markdown",
   "metadata": {},
   "source": [
    "<div class=\"alert alert-block alert-success\">\n",
    "<b>Reviewer's comment</b> <a class=\"tocSkip\"></a>\n",
    "\n",
    "You are right!\n",
    "</div>"
   ]
  },
  {
   "cell_type": "code",
   "execution_count": 11,
   "metadata": {},
   "outputs": [
    {
     "data": {
      "text/html": [
       "<div>\n",
       "<style scoped>\n",
       "    .dataframe tbody tr th:only-of-type {\n",
       "        vertical-align: middle;\n",
       "    }\n",
       "\n",
       "    .dataframe tbody tr th {\n",
       "        vertical-align: top;\n",
       "    }\n",
       "\n",
       "    .dataframe thead th {\n",
       "        text-align: right;\n",
       "    }\n",
       "</style>\n",
       "<table border=\"1\" class=\"dataframe\">\n",
       "  <thead>\n",
       "    <tr style=\"text-align: right;\">\n",
       "      <th></th>\n",
       "      <th>children</th>\n",
       "      <th>days_employed</th>\n",
       "      <th>dob_years</th>\n",
       "      <th>education</th>\n",
       "      <th>education_id</th>\n",
       "      <th>family_status</th>\n",
       "      <th>family_status_id</th>\n",
       "      <th>gender</th>\n",
       "      <th>income_type</th>\n",
       "      <th>debt</th>\n",
       "      <th>total_income</th>\n",
       "      <th>purpose</th>\n",
       "    </tr>\n",
       "  </thead>\n",
       "  <tbody>\n",
       "    <tr>\n",
       "      <th>4</th>\n",
       "      <td>0</td>\n",
       "      <td>340266.072047</td>\n",
       "      <td>53</td>\n",
       "      <td>secondary education</td>\n",
       "      <td>1</td>\n",
       "      <td>civil partnership</td>\n",
       "      <td>1</td>\n",
       "      <td>F</td>\n",
       "      <td>retiree</td>\n",
       "      <td>0</td>\n",
       "      <td>25378.572</td>\n",
       "      <td>to have a wedding</td>\n",
       "    </tr>\n",
       "    <tr>\n",
       "      <th>12</th>\n",
       "      <td>0</td>\n",
       "      <td>NaN</td>\n",
       "      <td>65</td>\n",
       "      <td>secondary education</td>\n",
       "      <td>1</td>\n",
       "      <td>civil partnership</td>\n",
       "      <td>1</td>\n",
       "      <td>M</td>\n",
       "      <td>retiree</td>\n",
       "      <td>0</td>\n",
       "      <td>NaN</td>\n",
       "      <td>to have a wedding</td>\n",
       "    </tr>\n",
       "    <tr>\n",
       "      <th>18</th>\n",
       "      <td>0</td>\n",
       "      <td>400281.136913</td>\n",
       "      <td>53</td>\n",
       "      <td>secondary education</td>\n",
       "      <td>1</td>\n",
       "      <td>widow / widower</td>\n",
       "      <td>2</td>\n",
       "      <td>F</td>\n",
       "      <td>retiree</td>\n",
       "      <td>0</td>\n",
       "      <td>9091.804</td>\n",
       "      <td>buying a second-hand car</td>\n",
       "    </tr>\n",
       "    <tr>\n",
       "      <th>24</th>\n",
       "      <td>1</td>\n",
       "      <td>338551.952911</td>\n",
       "      <td>57</td>\n",
       "      <td>secondary education</td>\n",
       "      <td>1</td>\n",
       "      <td>unmarried</td>\n",
       "      <td>4</td>\n",
       "      <td>F</td>\n",
       "      <td>retiree</td>\n",
       "      <td>0</td>\n",
       "      <td>46487.558</td>\n",
       "      <td>transactions with commercial real estate</td>\n",
       "    </tr>\n",
       "    <tr>\n",
       "      <th>25</th>\n",
       "      <td>0</td>\n",
       "      <td>363548.489348</td>\n",
       "      <td>67</td>\n",
       "      <td>secondary education</td>\n",
       "      <td>1</td>\n",
       "      <td>married</td>\n",
       "      <td>0</td>\n",
       "      <td>M</td>\n",
       "      <td>retiree</td>\n",
       "      <td>0</td>\n",
       "      <td>8818.041</td>\n",
       "      <td>buy real estate</td>\n",
       "    </tr>\n",
       "    <tr>\n",
       "      <th>...</th>\n",
       "      <td>...</td>\n",
       "      <td>...</td>\n",
       "      <td>...</td>\n",
       "      <td>...</td>\n",
       "      <td>...</td>\n",
       "      <td>...</td>\n",
       "      <td>...</td>\n",
       "      <td>...</td>\n",
       "      <td>...</td>\n",
       "      <td>...</td>\n",
       "      <td>...</td>\n",
       "      <td>...</td>\n",
       "    </tr>\n",
       "    <tr>\n",
       "      <th>21505</th>\n",
       "      <td>0</td>\n",
       "      <td>338904.866406</td>\n",
       "      <td>53</td>\n",
       "      <td>secondary education</td>\n",
       "      <td>1</td>\n",
       "      <td>civil partnership</td>\n",
       "      <td>1</td>\n",
       "      <td>M</td>\n",
       "      <td>retiree</td>\n",
       "      <td>0</td>\n",
       "      <td>12070.399</td>\n",
       "      <td>to have a wedding</td>\n",
       "    </tr>\n",
       "    <tr>\n",
       "      <th>21508</th>\n",
       "      <td>0</td>\n",
       "      <td>386497.714078</td>\n",
       "      <td>62</td>\n",
       "      <td>secondary education</td>\n",
       "      <td>1</td>\n",
       "      <td>married</td>\n",
       "      <td>0</td>\n",
       "      <td>M</td>\n",
       "      <td>retiree</td>\n",
       "      <td>0</td>\n",
       "      <td>11622.175</td>\n",
       "      <td>property</td>\n",
       "    </tr>\n",
       "    <tr>\n",
       "      <th>21509</th>\n",
       "      <td>0</td>\n",
       "      <td>362161.054124</td>\n",
       "      <td>59</td>\n",
       "      <td>bachelor's degree</td>\n",
       "      <td>0</td>\n",
       "      <td>married</td>\n",
       "      <td>0</td>\n",
       "      <td>M</td>\n",
       "      <td>retiree</td>\n",
       "      <td>0</td>\n",
       "      <td>11684.650</td>\n",
       "      <td>real estate transactions</td>\n",
       "    </tr>\n",
       "    <tr>\n",
       "      <th>21518</th>\n",
       "      <td>0</td>\n",
       "      <td>373995.710838</td>\n",
       "      <td>59</td>\n",
       "      <td>SECONDARY EDUCATION</td>\n",
       "      <td>1</td>\n",
       "      <td>married</td>\n",
       "      <td>0</td>\n",
       "      <td>F</td>\n",
       "      <td>retiree</td>\n",
       "      <td>0</td>\n",
       "      <td>24618.344</td>\n",
       "      <td>purchase of a car</td>\n",
       "    </tr>\n",
       "    <tr>\n",
       "      <th>21521</th>\n",
       "      <td>0</td>\n",
       "      <td>343937.404131</td>\n",
       "      <td>67</td>\n",
       "      <td>secondary education</td>\n",
       "      <td>1</td>\n",
       "      <td>married</td>\n",
       "      <td>0</td>\n",
       "      <td>F</td>\n",
       "      <td>retiree</td>\n",
       "      <td>0</td>\n",
       "      <td>24959.969</td>\n",
       "      <td>purchase of a car</td>\n",
       "    </tr>\n",
       "  </tbody>\n",
       "</table>\n",
       "<p>3856 rows × 12 columns</p>\n",
       "</div>"
      ],
      "text/plain": [
       "       children  days_employed  dob_years            education  education_id  \\\n",
       "4             0  340266.072047         53  secondary education             1   \n",
       "12            0            NaN         65  secondary education             1   \n",
       "18            0  400281.136913         53  secondary education             1   \n",
       "24            1  338551.952911         57  secondary education             1   \n",
       "25            0  363548.489348         67  secondary education             1   \n",
       "...         ...            ...        ...                  ...           ...   \n",
       "21505         0  338904.866406         53  secondary education             1   \n",
       "21508         0  386497.714078         62  secondary education             1   \n",
       "21509         0  362161.054124         59    bachelor's degree             0   \n",
       "21518         0  373995.710838         59  SECONDARY EDUCATION             1   \n",
       "21521         0  343937.404131         67  secondary education             1   \n",
       "\n",
       "           family_status  family_status_id gender income_type  debt  \\\n",
       "4      civil partnership                 1      F     retiree     0   \n",
       "12     civil partnership                 1      M     retiree     0   \n",
       "18       widow / widower                 2      F     retiree     0   \n",
       "24             unmarried                 4      F     retiree     0   \n",
       "25               married                 0      M     retiree     0   \n",
       "...                  ...               ...    ...         ...   ...   \n",
       "21505  civil partnership                 1      M     retiree     0   \n",
       "21508            married                 0      M     retiree     0   \n",
       "21509            married                 0      M     retiree     0   \n",
       "21518            married                 0      F     retiree     0   \n",
       "21521            married                 0      F     retiree     0   \n",
       "\n",
       "       total_income                                   purpose  \n",
       "4         25378.572                         to have a wedding  \n",
       "12              NaN                         to have a wedding  \n",
       "18         9091.804                  buying a second-hand car  \n",
       "24        46487.558  transactions with commercial real estate  \n",
       "25         8818.041                           buy real estate  \n",
       "...             ...                                       ...  \n",
       "21505     12070.399                         to have a wedding  \n",
       "21508     11622.175                                  property  \n",
       "21509     11684.650                  real estate transactions  \n",
       "21518     24618.344                         purchase of a car  \n",
       "21521     24959.969                         purchase of a car  \n",
       "\n",
       "[3856 rows x 12 columns]"
      ]
     },
     "execution_count": 11,
     "metadata": {},
     "output_type": "execute_result"
    }
   ],
   "source": [
    "\n",
    "df.loc[df['income_type']=='retiree']"
   ]
  },
  {
   "cell_type": "code",
   "execution_count": 12,
   "metadata": {},
   "outputs": [
    {
     "data": {
      "text/html": [
       "<div>\n",
       "<style scoped>\n",
       "    .dataframe tbody tr th:only-of-type {\n",
       "        vertical-align: middle;\n",
       "    }\n",
       "\n",
       "    .dataframe tbody tr th {\n",
       "        vertical-align: top;\n",
       "    }\n",
       "\n",
       "    .dataframe thead th {\n",
       "        text-align: right;\n",
       "    }\n",
       "</style>\n",
       "<table border=\"1\" class=\"dataframe\">\n",
       "  <thead>\n",
       "    <tr style=\"text-align: right;\">\n",
       "      <th></th>\n",
       "      <th>children</th>\n",
       "      <th>days_employed</th>\n",
       "      <th>dob_years</th>\n",
       "      <th>education</th>\n",
       "      <th>education_id</th>\n",
       "      <th>family_status</th>\n",
       "      <th>family_status_id</th>\n",
       "      <th>gender</th>\n",
       "      <th>income_type</th>\n",
       "      <th>debt</th>\n",
       "      <th>total_income</th>\n",
       "      <th>purpose</th>\n",
       "    </tr>\n",
       "  </thead>\n",
       "  <tbody>\n",
       "    <tr>\n",
       "      <th>12</th>\n",
       "      <td>0</td>\n",
       "      <td>NaN</td>\n",
       "      <td>65</td>\n",
       "      <td>secondary education</td>\n",
       "      <td>1</td>\n",
       "      <td>civil partnership</td>\n",
       "      <td>1</td>\n",
       "      <td>M</td>\n",
       "      <td>retiree</td>\n",
       "      <td>0</td>\n",
       "      <td>NaN</td>\n",
       "      <td>to have a wedding</td>\n",
       "    </tr>\n",
       "    <tr>\n",
       "      <th>26</th>\n",
       "      <td>0</td>\n",
       "      <td>NaN</td>\n",
       "      <td>41</td>\n",
       "      <td>secondary education</td>\n",
       "      <td>1</td>\n",
       "      <td>married</td>\n",
       "      <td>0</td>\n",
       "      <td>M</td>\n",
       "      <td>civil servant</td>\n",
       "      <td>0</td>\n",
       "      <td>NaN</td>\n",
       "      <td>education</td>\n",
       "    </tr>\n",
       "    <tr>\n",
       "      <th>29</th>\n",
       "      <td>0</td>\n",
       "      <td>NaN</td>\n",
       "      <td>63</td>\n",
       "      <td>secondary education</td>\n",
       "      <td>1</td>\n",
       "      <td>unmarried</td>\n",
       "      <td>4</td>\n",
       "      <td>F</td>\n",
       "      <td>retiree</td>\n",
       "      <td>0</td>\n",
       "      <td>NaN</td>\n",
       "      <td>building a real estate</td>\n",
       "    </tr>\n",
       "    <tr>\n",
       "      <th>41</th>\n",
       "      <td>0</td>\n",
       "      <td>NaN</td>\n",
       "      <td>50</td>\n",
       "      <td>secondary education</td>\n",
       "      <td>1</td>\n",
       "      <td>married</td>\n",
       "      <td>0</td>\n",
       "      <td>F</td>\n",
       "      <td>civil servant</td>\n",
       "      <td>0</td>\n",
       "      <td>NaN</td>\n",
       "      <td>second-hand car purchase</td>\n",
       "    </tr>\n",
       "    <tr>\n",
       "      <th>55</th>\n",
       "      <td>0</td>\n",
       "      <td>NaN</td>\n",
       "      <td>54</td>\n",
       "      <td>secondary education</td>\n",
       "      <td>1</td>\n",
       "      <td>civil partnership</td>\n",
       "      <td>1</td>\n",
       "      <td>F</td>\n",
       "      <td>retiree</td>\n",
       "      <td>1</td>\n",
       "      <td>NaN</td>\n",
       "      <td>to have a wedding</td>\n",
       "    </tr>\n",
       "    <tr>\n",
       "      <th>...</th>\n",
       "      <td>...</td>\n",
       "      <td>...</td>\n",
       "      <td>...</td>\n",
       "      <td>...</td>\n",
       "      <td>...</td>\n",
       "      <td>...</td>\n",
       "      <td>...</td>\n",
       "      <td>...</td>\n",
       "      <td>...</td>\n",
       "      <td>...</td>\n",
       "      <td>...</td>\n",
       "      <td>...</td>\n",
       "    </tr>\n",
       "    <tr>\n",
       "      <th>21489</th>\n",
       "      <td>2</td>\n",
       "      <td>NaN</td>\n",
       "      <td>47</td>\n",
       "      <td>Secondary Education</td>\n",
       "      <td>1</td>\n",
       "      <td>married</td>\n",
       "      <td>0</td>\n",
       "      <td>M</td>\n",
       "      <td>business</td>\n",
       "      <td>0</td>\n",
       "      <td>NaN</td>\n",
       "      <td>purchase of a car</td>\n",
       "    </tr>\n",
       "    <tr>\n",
       "      <th>21495</th>\n",
       "      <td>1</td>\n",
       "      <td>NaN</td>\n",
       "      <td>50</td>\n",
       "      <td>secondary education</td>\n",
       "      <td>1</td>\n",
       "      <td>civil partnership</td>\n",
       "      <td>1</td>\n",
       "      <td>F</td>\n",
       "      <td>employee</td>\n",
       "      <td>0</td>\n",
       "      <td>NaN</td>\n",
       "      <td>wedding ceremony</td>\n",
       "    </tr>\n",
       "    <tr>\n",
       "      <th>21497</th>\n",
       "      <td>0</td>\n",
       "      <td>NaN</td>\n",
       "      <td>48</td>\n",
       "      <td>BACHELOR'S DEGREE</td>\n",
       "      <td>0</td>\n",
       "      <td>married</td>\n",
       "      <td>0</td>\n",
       "      <td>F</td>\n",
       "      <td>business</td>\n",
       "      <td>0</td>\n",
       "      <td>NaN</td>\n",
       "      <td>building a property</td>\n",
       "    </tr>\n",
       "    <tr>\n",
       "      <th>21502</th>\n",
       "      <td>1</td>\n",
       "      <td>NaN</td>\n",
       "      <td>42</td>\n",
       "      <td>secondary education</td>\n",
       "      <td>1</td>\n",
       "      <td>married</td>\n",
       "      <td>0</td>\n",
       "      <td>F</td>\n",
       "      <td>employee</td>\n",
       "      <td>0</td>\n",
       "      <td>NaN</td>\n",
       "      <td>building a real estate</td>\n",
       "    </tr>\n",
       "    <tr>\n",
       "      <th>21510</th>\n",
       "      <td>2</td>\n",
       "      <td>NaN</td>\n",
       "      <td>28</td>\n",
       "      <td>secondary education</td>\n",
       "      <td>1</td>\n",
       "      <td>married</td>\n",
       "      <td>0</td>\n",
       "      <td>F</td>\n",
       "      <td>employee</td>\n",
       "      <td>0</td>\n",
       "      <td>NaN</td>\n",
       "      <td>car purchase</td>\n",
       "    </tr>\n",
       "  </tbody>\n",
       "</table>\n",
       "<p>2174 rows × 12 columns</p>\n",
       "</div>"
      ],
      "text/plain": [
       "       children  days_employed  dob_years            education  education_id  \\\n",
       "12            0            NaN         65  secondary education             1   \n",
       "26            0            NaN         41  secondary education             1   \n",
       "29            0            NaN         63  secondary education             1   \n",
       "41            0            NaN         50  secondary education             1   \n",
       "55            0            NaN         54  secondary education             1   \n",
       "...         ...            ...        ...                  ...           ...   \n",
       "21489         2            NaN         47  Secondary Education             1   \n",
       "21495         1            NaN         50  secondary education             1   \n",
       "21497         0            NaN         48    BACHELOR'S DEGREE             0   \n",
       "21502         1            NaN         42  secondary education             1   \n",
       "21510         2            NaN         28  secondary education             1   \n",
       "\n",
       "           family_status  family_status_id gender    income_type  debt  \\\n",
       "12     civil partnership                 1      M        retiree     0   \n",
       "26               married                 0      M  civil servant     0   \n",
       "29             unmarried                 4      F        retiree     0   \n",
       "41               married                 0      F  civil servant     0   \n",
       "55     civil partnership                 1      F        retiree     1   \n",
       "...                  ...               ...    ...            ...   ...   \n",
       "21489            married                 0      M       business     0   \n",
       "21495  civil partnership                 1      F       employee     0   \n",
       "21497            married                 0      F       business     0   \n",
       "21502            married                 0      F       employee     0   \n",
       "21510            married                 0      F       employee     0   \n",
       "\n",
       "       total_income                   purpose  \n",
       "12              NaN         to have a wedding  \n",
       "26              NaN                 education  \n",
       "29              NaN    building a real estate  \n",
       "41              NaN  second-hand car purchase  \n",
       "55              NaN         to have a wedding  \n",
       "...             ...                       ...  \n",
       "21489           NaN         purchase of a car  \n",
       "21495           NaN          wedding ceremony  \n",
       "21497           NaN       building a property  \n",
       "21502           NaN    building a real estate  \n",
       "21510           NaN              car purchase  \n",
       "\n",
       "[2174 rows x 12 columns]"
      ]
     },
     "execution_count": 12,
     "metadata": {},
     "output_type": "execute_result"
    }
   ],
   "source": [
    "df.loc[df['days_employed'].isna()]"
   ]
  },
  {
   "cell_type": "markdown",
   "metadata": {},
   "source": [
    "**Intermediate conclusion**\n",
    "\n",
    "Interesting! The distribution is not similar to that in the filtered table. This makes me think it could be due to random error.\n"
   ]
  },
  {
   "cell_type": "markdown",
   "metadata": {},
   "source": [
    "**Conclusions**\n",
    "\n",
    "After looking into filtered tables and the wider dataset I did not find a patern in the distribution of the missing data. This leads me to believe it is random.\n",
    "Because the data is missing in total_income and days_employed I will need to consider the categories I can use to help fill the data and whether to use means or medians. Next I will transform the data by fixing the duplicates, redundant entries, incorrect artifacts, and missing values."
   ]
  },
  {
   "cell_type": "markdown",
   "metadata": {},
   "source": [
    "<div class=\"alert alert-block alert-success\">\n",
    "<b>Reviewer's comment</b> <a class=\"tocSkip\"></a>\n",
    "\n",
    "Good job.\n",
    "</div>"
   ]
  },
  {
   "cell_type": "markdown",
   "metadata": {},
   "source": [
    "## Data transformation\n",
    "\n",
    "Ill go through each column to see where there are issues. \n"
   ]
  },
  {
   "cell_type": "code",
   "execution_count": 13,
   "metadata": {},
   "outputs": [
    {
     "data": {
      "text/plain": [
       "secondary education    13750\n",
       "bachelor's degree       4718\n",
       "SECONDARY EDUCATION      772\n",
       "Secondary Education      711\n",
       "some college             668\n",
       "BACHELOR'S DEGREE        274\n",
       "Bachelor's Degree        268\n",
       "primary education        250\n",
       "Some College              47\n",
       "SOME COLLEGE              29\n",
       "PRIMARY EDUCATION         17\n",
       "Primary Education         15\n",
       "graduate degree            4\n",
       "GRADUATE DEGREE            1\n",
       "Graduate Degree            1\n",
       "Name: education, dtype: int64"
      ]
     },
     "execution_count": 13,
     "metadata": {},
     "output_type": "execute_result"
    }
   ],
   "source": [
    "\n",
    "df['education'].value_counts()"
   ]
  },
  {
   "cell_type": "code",
   "execution_count": 14,
   "metadata": {
    "scrolled": true
   },
   "outputs": [],
   "source": [
    "df['education']= df['education'].str.lower()"
   ]
  },
  {
   "cell_type": "code",
   "execution_count": 15,
   "metadata": {},
   "outputs": [
    {
     "data": {
      "text/plain": [
       "secondary education    15233\n",
       "bachelor's degree       5260\n",
       "some college             744\n",
       "primary education        282\n",
       "graduate degree            6\n",
       "Name: education, dtype: int64"
      ]
     },
     "execution_count": 15,
     "metadata": {},
     "output_type": "execute_result"
    }
   ],
   "source": [
    "\n",
    "df['education'].value_counts()"
   ]
  },
  {
   "cell_type": "markdown",
   "metadata": {},
   "source": [
    "By lowering the case I was able to consolidate the values in the education column. Nice!"
   ]
  },
  {
   "cell_type": "markdown",
   "metadata": {},
   "source": [
    "<div class=\"alert alert-block alert-success\">\n",
    "<b>Reviewer's comment</b> <a class=\"tocSkip\"></a>\n",
    "\n",
    "Great!\n",
    "</div>"
   ]
  },
  {
   "cell_type": "code",
   "execution_count": 16,
   "metadata": {},
   "outputs": [
    {
     "data": {
      "text/plain": [
       " 0     14149\n",
       " 1      4818\n",
       " 2      2055\n",
       " 3       330\n",
       " 20       76\n",
       "-1        47\n",
       " 4        41\n",
       " 5         9\n",
       "Name: children, dtype: int64"
      ]
     },
     "execution_count": 16,
     "metadata": {},
     "output_type": "execute_result"
    }
   ],
   "source": [
    "df['children'].value_counts()"
   ]
  },
  {
   "cell_type": "markdown",
   "metadata": {},
   "source": [
    " There are negative values in this column which must be accidental. I am also skeptical that there are 76 people with 20 children. I believe this is an accident as well. "
   ]
  },
  {
   "cell_type": "code",
   "execution_count": 17,
   "metadata": {},
   "outputs": [
    {
     "name": "stdout",
     "output_type": "stream",
     "text": [
      "[1.0603448275862069]\n"
     ]
    }
   ],
   "source": [
    "children_percentage= [(76+47)*100/df['children'].sum()]\n",
    "print(children_percentage)"
   ]
  },
  {
   "cell_type": "code",
   "execution_count": 18,
   "metadata": {},
   "outputs": [],
   "source": [
    "df=df[df.children !=-1]\n",
    "df=df[df.children !=20]"
   ]
  },
  {
   "cell_type": "markdown",
   "metadata": {},
   "source": [
    "Because these values are making up only one percent of the data I think it is best to drop the rows where people reported having -1 or 20 children "
   ]
  },
  {
   "cell_type": "markdown",
   "metadata": {},
   "source": [
    "<div class=\"alert alert-block alert-success\">\n",
    "<b>Reviewer's comment</b> <a class=\"tocSkip\"></a>\n",
    "\n",
    "We can also say -1 = 1 and 20 = 2\n",
    "</div>"
   ]
  },
  {
   "cell_type": "code",
   "execution_count": 19,
   "metadata": {},
   "outputs": [
    {
     "data": {
      "text/plain": [
       "0    14149\n",
       "1     4818\n",
       "2     2055\n",
       "3      330\n",
       "4       41\n",
       "5        9\n",
       "Name: children, dtype: int64"
      ]
     },
     "execution_count": 19,
     "metadata": {},
     "output_type": "execute_result"
    }
   ],
   "source": [
    "df['children'].value_counts()\n"
   ]
  },
  {
   "cell_type": "markdown",
   "metadata": {},
   "source": [
    "I will check the 'days_employed' column because I noticed in the head() that there weres some negative values reported"
   ]
  },
  {
   "cell_type": "code",
   "execution_count": 20,
   "metadata": {},
   "outputs": [
    {
     "data": {
      "text/plain": [
       "-327.685916     1\n",
       "-1580.622577    1\n",
       "-4122.460569    1\n",
       "-2828.237691    1\n",
       "-2636.090517    1\n",
       "               ..\n",
       "-201.643573     1\n",
       "-7120.517564    1\n",
       "-2146.884040    1\n",
       "-881.454684     1\n",
       "-3382.113891    1\n",
       "Name: days_employed, Length: 19240, dtype: int64"
      ]
     },
     "execution_count": 20,
     "metadata": {},
     "output_type": "execute_result"
    }
   ],
   "source": [
    "\n",
    "df['days_employed'].value_counts()"
   ]
  },
  {
   "cell_type": "code",
   "execution_count": 21,
   "metadata": {},
   "outputs": [
    {
     "name": "stdout",
     "output_type": "stream",
     "text": [
      "children            73.866928\n",
      "days_employed       73.866928\n",
      "dob_years           73.866928\n",
      "education           73.866928\n",
      "education_id        73.866928\n",
      "family_status       73.866928\n",
      "family_status_id    73.866928\n",
      "gender              73.866928\n",
      "income_type         73.866928\n",
      "debt                73.866928\n",
      "total_income        73.866928\n",
      "purpose             73.866928\n",
      "dtype: float64\n"
     ]
    }
   ],
   "source": [
    "negative_days= df[df['days_employed']<0].count()\n",
    "print(negative_days*100/len(df['days_employed']))\n"
   ]
  },
  {
   "cell_type": "markdown",
   "metadata": {},
   "source": [
    "73% of the entries are negative in 'days_employed' this must be a technical issue. Perhaps they are using days passed? I will convert the negative days to positive. "
   ]
  },
  {
   "cell_type": "code",
   "execution_count": 22,
   "metadata": {},
   "outputs": [],
   "source": [
    "df['days_employed']= df['days_employed'].abs()"
   ]
  },
  {
   "cell_type": "code",
   "execution_count": 23,
   "metadata": {},
   "outputs": [
    {
     "data": {
      "text/plain": [
       "142.276217     1\n",
       "402.974768     1\n",
       "3601.450735    1\n",
       "1849.622944    1\n",
       "5849.845620    1\n",
       "              ..\n",
       "3951.652030    1\n",
       "847.043824     1\n",
       "1745.884477    1\n",
       "1801.512744    1\n",
       "1636.419775    1\n",
       "Name: days_employed, Length: 19240, dtype: int64"
      ]
     },
     "execution_count": 23,
     "metadata": {},
     "output_type": "execute_result"
    }
   ],
   "source": [
    "\n",
    "df['days_employed'].value_counts()"
   ]
  },
  {
   "cell_type": "code",
   "execution_count": 24,
   "metadata": {},
   "outputs": [
    {
     "data": {
      "text/html": [
       "<div>\n",
       "<style scoped>\n",
       "    .dataframe tbody tr th:only-of-type {\n",
       "        vertical-align: middle;\n",
       "    }\n",
       "\n",
       "    .dataframe tbody tr th {\n",
       "        vertical-align: top;\n",
       "    }\n",
       "\n",
       "    .dataframe thead th {\n",
       "        text-align: right;\n",
       "    }\n",
       "</style>\n",
       "<table border=\"1\" class=\"dataframe\">\n",
       "  <thead>\n",
       "    <tr style=\"text-align: right;\">\n",
       "      <th></th>\n",
       "      <th>children</th>\n",
       "      <th>days_employed</th>\n",
       "      <th>dob_years</th>\n",
       "      <th>education</th>\n",
       "      <th>education_id</th>\n",
       "      <th>family_status</th>\n",
       "      <th>family_status_id</th>\n",
       "      <th>gender</th>\n",
       "      <th>income_type</th>\n",
       "      <th>debt</th>\n",
       "      <th>total_income</th>\n",
       "      <th>purpose</th>\n",
       "    </tr>\n",
       "  </thead>\n",
       "  <tbody>\n",
       "  </tbody>\n",
       "</table>\n",
       "</div>"
      ],
      "text/plain": [
       "Empty DataFrame\n",
       "Columns: [children, days_employed, dob_years, education, education_id, family_status, family_status_id, gender, income_type, debt, total_income, purpose]\n",
       "Index: []"
      ]
     },
     "execution_count": 24,
     "metadata": {},
     "output_type": "execute_result"
    }
   ],
   "source": [
    "\n",
    "df.loc[df['days_employed']<0]\n"
   ]
  },
  {
   "cell_type": "markdown",
   "metadata": {},
   "source": [
    "<div class=\"alert alert-block alert-success\">\n",
    "<b>Reviewer's comment</b> <a class=\"tocSkip\"></a>\n",
    "\n",
    "Well done!\n",
    "</div>"
   ]
  },
  {
   "cell_type": "code",
   "execution_count": 25,
   "metadata": {
    "scrolled": true
   },
   "outputs": [
    {
     "data": {
      "text/plain": [
       "35    614\n",
       "40    603\n",
       "41    603\n",
       "34    597\n",
       "38    595\n",
       "42    592\n",
       "33    577\n",
       "39    572\n",
       "31    556\n",
       "36    553\n",
       "29    543\n",
       "44    543\n",
       "48    536\n",
       "30    536\n",
       "37    531\n",
       "43    510\n",
       "50    509\n",
       "32    506\n",
       "49    505\n",
       "28    501\n",
       "45    494\n",
       "27    490\n",
       "52    483\n",
       "56    482\n",
       "47    480\n",
       "54    476\n",
       "46    469\n",
       "58    461\n",
       "53    457\n",
       "57    457\n",
       "51    446\n",
       "59    441\n",
       "55    441\n",
       "26    406\n",
       "60    376\n",
       "25    356\n",
       "61    353\n",
       "62    351\n",
       "63    268\n",
       "24    263\n",
       "64    263\n",
       "23    252\n",
       "65    194\n",
       "66    183\n",
       "22    183\n",
       "67    167\n",
       "21    110\n",
       "0     100\n",
       "68     99\n",
       "69     83\n",
       "70     65\n",
       "71     58\n",
       "20     51\n",
       "72     33\n",
       "19     14\n",
       "73      8\n",
       "74      6\n",
       "75      1\n",
       "Name: dob_years, dtype: int64"
      ]
     },
     "execution_count": 25,
     "metadata": {},
     "output_type": "execute_result"
    }
   ],
   "source": [
    "\n",
    "\n",
    "df['dob_years'].value_counts()"
   ]
  },
  {
   "cell_type": "markdown",
   "metadata": {},
   "source": [
    "There are 101 people reporting their age as 0.They account for .4% of the data. I will drop those rows."
   ]
  },
  {
   "cell_type": "code",
   "execution_count": 26,
   "metadata": {},
   "outputs": [
    {
     "data": {
      "text/plain": [
       "children            0.467246\n",
       "days_employed       0.420521\n",
       "dob_years           0.467246\n",
       "education           0.467246\n",
       "education_id        0.467246\n",
       "family_status       0.467246\n",
       "family_status_id    0.467246\n",
       "gender              0.467246\n",
       "income_type         0.467246\n",
       "debt                0.467246\n",
       "total_income        0.420521\n",
       "purpose             0.467246\n",
       "dtype: float64"
      ]
     },
     "execution_count": 26,
     "metadata": {},
     "output_type": "execute_result"
    }
   ],
   "source": [
    "df[df['dob_years']==0].count()*100/len(df['dob_years'])"
   ]
  },
  {
   "cell_type": "markdown",
   "metadata": {},
   "source": [
    "The 0 age makes up .4% of the data, I am comfortable dropping those rows."
   ]
  },
  {
   "cell_type": "code",
   "execution_count": 27,
   "metadata": {},
   "outputs": [],
   "source": [
    "df=df[df.dob_years !=0]"
   ]
  },
  {
   "cell_type": "code",
   "execution_count": 28,
   "metadata": {},
   "outputs": [
    {
     "data": {
      "text/plain": [
       "35    614\n",
       "41    603\n",
       "40    603\n",
       "34    597\n",
       "38    595\n",
       "42    592\n",
       "33    577\n",
       "39    572\n",
       "31    556\n",
       "36    553\n",
       "44    543\n",
       "29    543\n",
       "48    536\n",
       "30    536\n",
       "37    531\n",
       "43    510\n",
       "50    509\n",
       "32    506\n",
       "49    505\n",
       "28    501\n",
       "45    494\n",
       "27    490\n",
       "52    483\n",
       "56    482\n",
       "47    480\n",
       "54    476\n",
       "46    469\n",
       "58    461\n",
       "57    457\n",
       "53    457\n",
       "51    446\n",
       "55    441\n",
       "59    441\n",
       "26    406\n",
       "60    376\n",
       "25    356\n",
       "61    353\n",
       "62    351\n",
       "63    268\n",
       "64    263\n",
       "24    263\n",
       "23    252\n",
       "65    194\n",
       "22    183\n",
       "66    183\n",
       "67    167\n",
       "21    110\n",
       "68     99\n",
       "69     83\n",
       "70     65\n",
       "71     58\n",
       "20     51\n",
       "72     33\n",
       "19     14\n",
       "73      8\n",
       "74      6\n",
       "75      1\n",
       "Name: dob_years, dtype: int64"
      ]
     },
     "execution_count": 28,
     "metadata": {},
     "output_type": "execute_result"
    }
   ],
   "source": [
    "df['dob_years'].value_counts()"
   ]
  },
  {
   "cell_type": "code",
   "execution_count": 29,
   "metadata": {},
   "outputs": [
    {
     "data": {
      "text/plain": [
       "married              12254\n",
       "civil partnership     4139\n",
       "unmarried             2783\n",
       "divorced              1179\n",
       "widow / widower        947\n",
       "Name: family_status, dtype: int64"
      ]
     },
     "execution_count": 29,
     "metadata": {},
     "output_type": "execute_result"
    }
   ],
   "source": [
    "\n",
    "df['family_status'].value_counts()"
   ]
  },
  {
   "cell_type": "markdown",
   "metadata": {},
   "source": [
    "No problems here"
   ]
  },
  {
   "cell_type": "code",
   "execution_count": 30,
   "metadata": {},
   "outputs": [
    {
     "data": {
      "text/plain": [
       "F      14083\n",
       "M       7218\n",
       "XNA        1\n",
       "Name: gender, dtype: int64"
      ]
     },
     "execution_count": 30,
     "metadata": {},
     "output_type": "execute_result"
    }
   ],
   "source": [
    "\n",
    "df['gender'].value_counts()"
   ]
  },
  {
   "cell_type": "code",
   "execution_count": 31,
   "metadata": {},
   "outputs": [],
   "source": [
    "df=df[df.gender !='XNA']"
   ]
  },
  {
   "cell_type": "code",
   "execution_count": 32,
   "metadata": {},
   "outputs": [
    {
     "data": {
      "text/plain": [
       "F    14083\n",
       "M     7218\n",
       "Name: gender, dtype: int64"
      ]
     },
     "execution_count": 32,
     "metadata": {},
     "output_type": "execute_result"
    }
   ],
   "source": [
    "df['gender'].value_counts()"
   ]
  },
  {
   "cell_type": "markdown",
   "metadata": {},
   "source": [
    "I dropped XNA as it appears to be a technical error.\n",
    "\n"
   ]
  },
  {
   "cell_type": "markdown",
   "metadata": {},
   "source": [
    "<div class=\"alert alert-block alert-warning\">\n",
    "<b>Reviewer's comment</b> <a class=\"tocSkip\"></a>\n",
    "\n",
    "<s>\"XNA\" seems to be technical error. Better to drop it.\n",
    "</div>"
   ]
  },
  {
   "cell_type": "markdown",
   "metadata": {},
   "source": [
    "<div class=\"alert alert-block alert-success\">\n",
    "<b>Reviewer's comment</b> <a class=\"tocSkip\"></a>\n",
    "\n",
    "Well done!\n",
    "</div>"
   ]
  },
  {
   "cell_type": "code",
   "execution_count": 33,
   "metadata": {},
   "outputs": [
    {
     "data": {
      "text/plain": [
       "employee                       10996\n",
       "business                        5033\n",
       "retiree                         3819\n",
       "civil servant                   1447\n",
       "unemployed                         2\n",
       "entrepreneur                       2\n",
       "paternity / maternity leave        1\n",
       "student                            1\n",
       "Name: income_type, dtype: int64"
      ]
     },
     "execution_count": 33,
     "metadata": {},
     "output_type": "execute_result"
    }
   ],
   "source": [
    "\n",
    "df['income_type'].value_counts()"
   ]
  },
  {
   "cell_type": "markdown",
   "metadata": {},
   "source": [
    "All good"
   ]
  },
  {
   "cell_type": "markdown",
   "metadata": {},
   "source": [
    "Now I will check for duplicates"
   ]
  },
  {
   "cell_type": "code",
   "execution_count": 34,
   "metadata": {},
   "outputs": [
    {
     "data": {
      "text/plain": [
       "71"
      ]
     },
     "execution_count": 34,
     "metadata": {},
     "output_type": "execute_result"
    }
   ],
   "source": [
    "\n",
    "\n",
    "df.duplicated().sum()"
   ]
  },
  {
   "cell_type": "code",
   "execution_count": 35,
   "metadata": {},
   "outputs": [
    {
     "data": {
      "text/html": [
       "<div>\n",
       "<style scoped>\n",
       "    .dataframe tbody tr th:only-of-type {\n",
       "        vertical-align: middle;\n",
       "    }\n",
       "\n",
       "    .dataframe tbody tr th {\n",
       "        vertical-align: top;\n",
       "    }\n",
       "\n",
       "    .dataframe thead th {\n",
       "        text-align: right;\n",
       "    }\n",
       "</style>\n",
       "<table border=\"1\" class=\"dataframe\">\n",
       "  <thead>\n",
       "    <tr style=\"text-align: right;\">\n",
       "      <th></th>\n",
       "      <th>children</th>\n",
       "      <th>days_employed</th>\n",
       "      <th>dob_years</th>\n",
       "      <th>education</th>\n",
       "      <th>education_id</th>\n",
       "      <th>family_status</th>\n",
       "      <th>family_status_id</th>\n",
       "      <th>gender</th>\n",
       "      <th>income_type</th>\n",
       "      <th>debt</th>\n",
       "      <th>total_income</th>\n",
       "      <th>purpose</th>\n",
       "    </tr>\n",
       "  </thead>\n",
       "  <tbody>\n",
       "    <tr>\n",
       "      <th>2849</th>\n",
       "      <td>0</td>\n",
       "      <td>NaN</td>\n",
       "      <td>41</td>\n",
       "      <td>secondary education</td>\n",
       "      <td>1</td>\n",
       "      <td>married</td>\n",
       "      <td>0</td>\n",
       "      <td>F</td>\n",
       "      <td>employee</td>\n",
       "      <td>0</td>\n",
       "      <td>NaN</td>\n",
       "      <td>purchase of the house for my family</td>\n",
       "    </tr>\n",
       "    <tr>\n",
       "      <th>3290</th>\n",
       "      <td>0</td>\n",
       "      <td>NaN</td>\n",
       "      <td>58</td>\n",
       "      <td>secondary education</td>\n",
       "      <td>1</td>\n",
       "      <td>civil partnership</td>\n",
       "      <td>1</td>\n",
       "      <td>F</td>\n",
       "      <td>retiree</td>\n",
       "      <td>0</td>\n",
       "      <td>NaN</td>\n",
       "      <td>to have a wedding</td>\n",
       "    </tr>\n",
       "    <tr>\n",
       "      <th>4182</th>\n",
       "      <td>1</td>\n",
       "      <td>NaN</td>\n",
       "      <td>34</td>\n",
       "      <td>bachelor's degree</td>\n",
       "      <td>0</td>\n",
       "      <td>civil partnership</td>\n",
       "      <td>1</td>\n",
       "      <td>F</td>\n",
       "      <td>employee</td>\n",
       "      <td>0</td>\n",
       "      <td>NaN</td>\n",
       "      <td>wedding ceremony</td>\n",
       "    </tr>\n",
       "    <tr>\n",
       "      <th>4851</th>\n",
       "      <td>0</td>\n",
       "      <td>NaN</td>\n",
       "      <td>60</td>\n",
       "      <td>secondary education</td>\n",
       "      <td>1</td>\n",
       "      <td>civil partnership</td>\n",
       "      <td>1</td>\n",
       "      <td>F</td>\n",
       "      <td>retiree</td>\n",
       "      <td>0</td>\n",
       "      <td>NaN</td>\n",
       "      <td>wedding ceremony</td>\n",
       "    </tr>\n",
       "    <tr>\n",
       "      <th>5557</th>\n",
       "      <td>0</td>\n",
       "      <td>NaN</td>\n",
       "      <td>58</td>\n",
       "      <td>secondary education</td>\n",
       "      <td>1</td>\n",
       "      <td>civil partnership</td>\n",
       "      <td>1</td>\n",
       "      <td>F</td>\n",
       "      <td>retiree</td>\n",
       "      <td>0</td>\n",
       "      <td>NaN</td>\n",
       "      <td>to have a wedding</td>\n",
       "    </tr>\n",
       "    <tr>\n",
       "      <th>...</th>\n",
       "      <td>...</td>\n",
       "      <td>...</td>\n",
       "      <td>...</td>\n",
       "      <td>...</td>\n",
       "      <td>...</td>\n",
       "      <td>...</td>\n",
       "      <td>...</td>\n",
       "      <td>...</td>\n",
       "      <td>...</td>\n",
       "      <td>...</td>\n",
       "      <td>...</td>\n",
       "      <td>...</td>\n",
       "    </tr>\n",
       "    <tr>\n",
       "      <th>20702</th>\n",
       "      <td>0</td>\n",
       "      <td>NaN</td>\n",
       "      <td>64</td>\n",
       "      <td>secondary education</td>\n",
       "      <td>1</td>\n",
       "      <td>married</td>\n",
       "      <td>0</td>\n",
       "      <td>F</td>\n",
       "      <td>retiree</td>\n",
       "      <td>0</td>\n",
       "      <td>NaN</td>\n",
       "      <td>supplementary education</td>\n",
       "    </tr>\n",
       "    <tr>\n",
       "      <th>21032</th>\n",
       "      <td>0</td>\n",
       "      <td>NaN</td>\n",
       "      <td>60</td>\n",
       "      <td>secondary education</td>\n",
       "      <td>1</td>\n",
       "      <td>married</td>\n",
       "      <td>0</td>\n",
       "      <td>F</td>\n",
       "      <td>retiree</td>\n",
       "      <td>0</td>\n",
       "      <td>NaN</td>\n",
       "      <td>to become educated</td>\n",
       "    </tr>\n",
       "    <tr>\n",
       "      <th>21132</th>\n",
       "      <td>0</td>\n",
       "      <td>NaN</td>\n",
       "      <td>47</td>\n",
       "      <td>secondary education</td>\n",
       "      <td>1</td>\n",
       "      <td>married</td>\n",
       "      <td>0</td>\n",
       "      <td>F</td>\n",
       "      <td>employee</td>\n",
       "      <td>0</td>\n",
       "      <td>NaN</td>\n",
       "      <td>housing renovation</td>\n",
       "    </tr>\n",
       "    <tr>\n",
       "      <th>21281</th>\n",
       "      <td>1</td>\n",
       "      <td>NaN</td>\n",
       "      <td>30</td>\n",
       "      <td>bachelor's degree</td>\n",
       "      <td>0</td>\n",
       "      <td>married</td>\n",
       "      <td>0</td>\n",
       "      <td>F</td>\n",
       "      <td>employee</td>\n",
       "      <td>0</td>\n",
       "      <td>NaN</td>\n",
       "      <td>buy commercial real estate</td>\n",
       "    </tr>\n",
       "    <tr>\n",
       "      <th>21415</th>\n",
       "      <td>0</td>\n",
       "      <td>NaN</td>\n",
       "      <td>54</td>\n",
       "      <td>secondary education</td>\n",
       "      <td>1</td>\n",
       "      <td>married</td>\n",
       "      <td>0</td>\n",
       "      <td>F</td>\n",
       "      <td>retiree</td>\n",
       "      <td>0</td>\n",
       "      <td>NaN</td>\n",
       "      <td>housing transactions</td>\n",
       "    </tr>\n",
       "  </tbody>\n",
       "</table>\n",
       "<p>71 rows × 12 columns</p>\n",
       "</div>"
      ],
      "text/plain": [
       "       children  days_employed  dob_years            education  education_id  \\\n",
       "2849          0            NaN         41  secondary education             1   \n",
       "3290          0            NaN         58  secondary education             1   \n",
       "4182          1            NaN         34    bachelor's degree             0   \n",
       "4851          0            NaN         60  secondary education             1   \n",
       "5557          0            NaN         58  secondary education             1   \n",
       "...         ...            ...        ...                  ...           ...   \n",
       "20702         0            NaN         64  secondary education             1   \n",
       "21032         0            NaN         60  secondary education             1   \n",
       "21132         0            NaN         47  secondary education             1   \n",
       "21281         1            NaN         30    bachelor's degree             0   \n",
       "21415         0            NaN         54  secondary education             1   \n",
       "\n",
       "           family_status  family_status_id gender income_type  debt  \\\n",
       "2849             married                 0      F    employee     0   \n",
       "3290   civil partnership                 1      F     retiree     0   \n",
       "4182   civil partnership                 1      F    employee     0   \n",
       "4851   civil partnership                 1      F     retiree     0   \n",
       "5557   civil partnership                 1      F     retiree     0   \n",
       "...                  ...               ...    ...         ...   ...   \n",
       "20702            married                 0      F     retiree     0   \n",
       "21032            married                 0      F     retiree     0   \n",
       "21132            married                 0      F    employee     0   \n",
       "21281            married                 0      F    employee     0   \n",
       "21415            married                 0      F     retiree     0   \n",
       "\n",
       "       total_income                              purpose  \n",
       "2849            NaN  purchase of the house for my family  \n",
       "3290            NaN                    to have a wedding  \n",
       "4182            NaN                     wedding ceremony  \n",
       "4851            NaN                     wedding ceremony  \n",
       "5557            NaN                    to have a wedding  \n",
       "...             ...                                  ...  \n",
       "20702           NaN              supplementary education  \n",
       "21032           NaN                   to become educated  \n",
       "21132           NaN                   housing renovation  \n",
       "21281           NaN           buy commercial real estate  \n",
       "21415           NaN                 housing transactions  \n",
       "\n",
       "[71 rows x 12 columns]"
      ]
     },
     "execution_count": 35,
     "metadata": {},
     "output_type": "execute_result"
    }
   ],
   "source": [
    "df_duplicated = df[df.duplicated()]\n",
    "df_duplicated"
   ]
  },
  {
   "cell_type": "code",
   "execution_count": 36,
   "metadata": {},
   "outputs": [
    {
     "data": {
      "text/plain": [
       "0.33331768461574574"
      ]
     },
     "execution_count": 36,
     "metadata": {},
     "output_type": "execute_result"
    }
   ],
   "source": [
    "df.duplicated().sum()*100/len(df)"
   ]
  },
  {
   "cell_type": "markdown",
   "metadata": {},
   "source": [
    "making up only .33% I will drop these duplicates."
   ]
  },
  {
   "cell_type": "code",
   "execution_count": 37,
   "metadata": {},
   "outputs": [],
   "source": [
    "\n",
    "df = df.drop_duplicates().reset_index()"
   ]
  },
  {
   "cell_type": "code",
   "execution_count": 38,
   "metadata": {},
   "outputs": [
    {
     "data": {
      "text/plain": [
       "0"
      ]
     },
     "execution_count": 38,
     "metadata": {},
     "output_type": "execute_result"
    }
   ],
   "source": [
    "\n",
    "df.duplicated().sum()"
   ]
  },
  {
   "cell_type": "code",
   "execution_count": 39,
   "metadata": {},
   "outputs": [
    {
     "data": {
      "text/plain": [
       "21230"
      ]
     },
     "execution_count": 39,
     "metadata": {},
     "output_type": "execute_result"
    }
   ],
   "source": [
    "\n",
    "len(df)"
   ]
  },
  {
   "cell_type": "code",
   "execution_count": 40,
   "metadata": {},
   "outputs": [
    {
     "data": {
      "text/plain": [
       "0.986295005807201"
      ]
     },
     "execution_count": 40,
     "metadata": {},
     "output_type": "execute_result"
    }
   ],
   "source": [
    "len(df)/21525 #this is the length of the original dataset"
   ]
  },
  {
   "cell_type": "markdown",
   "metadata": {},
   "source": [
    "\n",
    "\n",
    "The dataframe has been cleaned up and I was able to conserve 98.6% of the data. Duplicated rows were dropped. All columns were checked for strange values, if any were found they were either dropped or fixed. "
   ]
  },
  {
   "cell_type": "markdown",
   "metadata": {},
   "source": [
    "<div class=\"alert alert-block alert-success\">\n",
    "<b>Reviewer's comment</b> <a class=\"tocSkip\"></a>\n",
    "\n",
    "Great job!\n",
    "</div>"
   ]
  },
  {
   "cell_type": "markdown",
   "metadata": {},
   "source": [
    "# Working with missing values"
   ]
  },
  {
   "cell_type": "markdown",
   "metadata": {},
   "source": [
    "Based on the IDs provided I know that I can make a couple dictionaries based on family status:family_status_id and \n",
    "education:education_id\n"
   ]
  },
  {
   "cell_type": "code",
   "execution_count": 41,
   "metadata": {},
   "outputs": [
    {
     "name": "stdout",
     "output_type": "stream",
     "text": [
      "{0: 'married', 1: 'civil partnership', 2: 'widow / widower', 3: 'divorced', 4: 'unmarried'}\n"
     ]
    }
   ],
   "source": [
    "family_dict= df.set_index('family_status_id').to_dict()['family_status']\n",
    "print(family_dict)"
   ]
  },
  {
   "cell_type": "code",
   "execution_count": 42,
   "metadata": {},
   "outputs": [
    {
     "name": "stdout",
     "output_type": "stream",
     "text": [
      "{0: \"bachelor's degree\", 1: 'secondary education', 2: 'some college', 3: 'primary education', 4: 'graduate degree'}\n"
     ]
    }
   ],
   "source": [
    "education_dict=df.set_index('education_id').to_dict()['education']\n",
    "print(education_dict)"
   ]
  },
  {
   "cell_type": "markdown",
   "metadata": {},
   "source": [
    "### Restoring missing values in `total_income`"
   ]
  },
  {
   "cell_type": "markdown",
   "metadata": {},
   "source": [
    "\n",
    "As I found earlier there are missing values in total_income and in days_employed. I will fix them by filling them with an appropriate mean or median based on my investigation below\n",
    "\n",
    "To help me find a good fit for the population I will create a category for the ages of the clients. This will be a new column in the dataframe.\n"
   ]
  },
  {
   "cell_type": "code",
   "execution_count": 43,
   "metadata": {},
   "outputs": [],
   "source": [
    "def age_group(dob_years):\n",
    "    \n",
    "    if dob_years <= 30 :\n",
    "        return 'young adult'\n",
    "    if dob_years <= 50 :\n",
    "        return 'adult'\n",
    "    return 'older adult'\n",
    "    "
   ]
  },
  {
   "cell_type": "code",
   "execution_count": 44,
   "metadata": {},
   "outputs": [
    {
     "name": "stdout",
     "output_type": "stream",
     "text": [
      "young adult\n",
      "adult\n",
      "older adult\n"
     ]
    }
   ],
   "source": [
    "# Test if the function works\n",
    "print(age_group(28))\n",
    "print(age_group(48))\n",
    "print(age_group(58))\n"
   ]
  },
  {
   "cell_type": "code",
   "execution_count": 45,
   "metadata": {},
   "outputs": [
    {
     "data": {
      "text/html": [
       "<div>\n",
       "<style scoped>\n",
       "    .dataframe tbody tr th:only-of-type {\n",
       "        vertical-align: middle;\n",
       "    }\n",
       "\n",
       "    .dataframe tbody tr th {\n",
       "        vertical-align: top;\n",
       "    }\n",
       "\n",
       "    .dataframe thead th {\n",
       "        text-align: right;\n",
       "    }\n",
       "</style>\n",
       "<table border=\"1\" class=\"dataframe\">\n",
       "  <thead>\n",
       "    <tr style=\"text-align: right;\">\n",
       "      <th></th>\n",
       "      <th>index</th>\n",
       "      <th>children</th>\n",
       "      <th>days_employed</th>\n",
       "      <th>dob_years</th>\n",
       "      <th>education</th>\n",
       "      <th>education_id</th>\n",
       "      <th>family_status</th>\n",
       "      <th>family_status_id</th>\n",
       "      <th>gender</th>\n",
       "      <th>income_type</th>\n",
       "      <th>debt</th>\n",
       "      <th>total_income</th>\n",
       "      <th>purpose</th>\n",
       "      <th>age_group</th>\n",
       "    </tr>\n",
       "  </thead>\n",
       "  <tbody>\n",
       "    <tr>\n",
       "      <th>0</th>\n",
       "      <td>0</td>\n",
       "      <td>1</td>\n",
       "      <td>8437.673028</td>\n",
       "      <td>42</td>\n",
       "      <td>bachelor's degree</td>\n",
       "      <td>0</td>\n",
       "      <td>married</td>\n",
       "      <td>0</td>\n",
       "      <td>F</td>\n",
       "      <td>employee</td>\n",
       "      <td>0</td>\n",
       "      <td>40620.102</td>\n",
       "      <td>purchase of the house</td>\n",
       "      <td>adult</td>\n",
       "    </tr>\n",
       "    <tr>\n",
       "      <th>1</th>\n",
       "      <td>1</td>\n",
       "      <td>1</td>\n",
       "      <td>4024.803754</td>\n",
       "      <td>36</td>\n",
       "      <td>secondary education</td>\n",
       "      <td>1</td>\n",
       "      <td>married</td>\n",
       "      <td>0</td>\n",
       "      <td>F</td>\n",
       "      <td>employee</td>\n",
       "      <td>0</td>\n",
       "      <td>17932.802</td>\n",
       "      <td>car purchase</td>\n",
       "      <td>adult</td>\n",
       "    </tr>\n",
       "    <tr>\n",
       "      <th>2</th>\n",
       "      <td>2</td>\n",
       "      <td>0</td>\n",
       "      <td>5623.422610</td>\n",
       "      <td>33</td>\n",
       "      <td>secondary education</td>\n",
       "      <td>1</td>\n",
       "      <td>married</td>\n",
       "      <td>0</td>\n",
       "      <td>M</td>\n",
       "      <td>employee</td>\n",
       "      <td>0</td>\n",
       "      <td>23341.752</td>\n",
       "      <td>purchase of the house</td>\n",
       "      <td>adult</td>\n",
       "    </tr>\n",
       "    <tr>\n",
       "      <th>3</th>\n",
       "      <td>3</td>\n",
       "      <td>3</td>\n",
       "      <td>4124.747207</td>\n",
       "      <td>32</td>\n",
       "      <td>secondary education</td>\n",
       "      <td>1</td>\n",
       "      <td>married</td>\n",
       "      <td>0</td>\n",
       "      <td>M</td>\n",
       "      <td>employee</td>\n",
       "      <td>0</td>\n",
       "      <td>42820.568</td>\n",
       "      <td>supplementary education</td>\n",
       "      <td>adult</td>\n",
       "    </tr>\n",
       "    <tr>\n",
       "      <th>4</th>\n",
       "      <td>4</td>\n",
       "      <td>0</td>\n",
       "      <td>340266.072047</td>\n",
       "      <td>53</td>\n",
       "      <td>secondary education</td>\n",
       "      <td>1</td>\n",
       "      <td>civil partnership</td>\n",
       "      <td>1</td>\n",
       "      <td>F</td>\n",
       "      <td>retiree</td>\n",
       "      <td>0</td>\n",
       "      <td>25378.572</td>\n",
       "      <td>to have a wedding</td>\n",
       "      <td>older adult</td>\n",
       "    </tr>\n",
       "    <tr>\n",
       "      <th>5</th>\n",
       "      <td>5</td>\n",
       "      <td>0</td>\n",
       "      <td>926.185831</td>\n",
       "      <td>27</td>\n",
       "      <td>bachelor's degree</td>\n",
       "      <td>0</td>\n",
       "      <td>civil partnership</td>\n",
       "      <td>1</td>\n",
       "      <td>M</td>\n",
       "      <td>business</td>\n",
       "      <td>0</td>\n",
       "      <td>40922.170</td>\n",
       "      <td>purchase of the house</td>\n",
       "      <td>young adult</td>\n",
       "    </tr>\n",
       "    <tr>\n",
       "      <th>6</th>\n",
       "      <td>6</td>\n",
       "      <td>0</td>\n",
       "      <td>2879.202052</td>\n",
       "      <td>43</td>\n",
       "      <td>bachelor's degree</td>\n",
       "      <td>0</td>\n",
       "      <td>married</td>\n",
       "      <td>0</td>\n",
       "      <td>F</td>\n",
       "      <td>business</td>\n",
       "      <td>0</td>\n",
       "      <td>38484.156</td>\n",
       "      <td>housing transactions</td>\n",
       "      <td>adult</td>\n",
       "    </tr>\n",
       "    <tr>\n",
       "      <th>7</th>\n",
       "      <td>7</td>\n",
       "      <td>0</td>\n",
       "      <td>152.779569</td>\n",
       "      <td>50</td>\n",
       "      <td>secondary education</td>\n",
       "      <td>1</td>\n",
       "      <td>married</td>\n",
       "      <td>0</td>\n",
       "      <td>M</td>\n",
       "      <td>employee</td>\n",
       "      <td>0</td>\n",
       "      <td>21731.829</td>\n",
       "      <td>education</td>\n",
       "      <td>adult</td>\n",
       "    </tr>\n",
       "    <tr>\n",
       "      <th>8</th>\n",
       "      <td>8</td>\n",
       "      <td>2</td>\n",
       "      <td>6929.865299</td>\n",
       "      <td>35</td>\n",
       "      <td>bachelor's degree</td>\n",
       "      <td>0</td>\n",
       "      <td>civil partnership</td>\n",
       "      <td>1</td>\n",
       "      <td>F</td>\n",
       "      <td>employee</td>\n",
       "      <td>0</td>\n",
       "      <td>15337.093</td>\n",
       "      <td>having a wedding</td>\n",
       "      <td>adult</td>\n",
       "    </tr>\n",
       "    <tr>\n",
       "      <th>9</th>\n",
       "      <td>9</td>\n",
       "      <td>0</td>\n",
       "      <td>2188.756445</td>\n",
       "      <td>41</td>\n",
       "      <td>secondary education</td>\n",
       "      <td>1</td>\n",
       "      <td>married</td>\n",
       "      <td>0</td>\n",
       "      <td>M</td>\n",
       "      <td>employee</td>\n",
       "      <td>0</td>\n",
       "      <td>23108.150</td>\n",
       "      <td>purchase of the house for my family</td>\n",
       "      <td>adult</td>\n",
       "    </tr>\n",
       "    <tr>\n",
       "      <th>10</th>\n",
       "      <td>10</td>\n",
       "      <td>2</td>\n",
       "      <td>4171.483647</td>\n",
       "      <td>36</td>\n",
       "      <td>bachelor's degree</td>\n",
       "      <td>0</td>\n",
       "      <td>married</td>\n",
       "      <td>0</td>\n",
       "      <td>M</td>\n",
       "      <td>business</td>\n",
       "      <td>0</td>\n",
       "      <td>18230.959</td>\n",
       "      <td>buy real estate</td>\n",
       "      <td>adult</td>\n",
       "    </tr>\n",
       "    <tr>\n",
       "      <th>11</th>\n",
       "      <td>11</td>\n",
       "      <td>0</td>\n",
       "      <td>792.701887</td>\n",
       "      <td>40</td>\n",
       "      <td>secondary education</td>\n",
       "      <td>1</td>\n",
       "      <td>married</td>\n",
       "      <td>0</td>\n",
       "      <td>F</td>\n",
       "      <td>employee</td>\n",
       "      <td>0</td>\n",
       "      <td>12331.077</td>\n",
       "      <td>buy commercial real estate</td>\n",
       "      <td>adult</td>\n",
       "    </tr>\n",
       "    <tr>\n",
       "      <th>12</th>\n",
       "      <td>12</td>\n",
       "      <td>0</td>\n",
       "      <td>NaN</td>\n",
       "      <td>65</td>\n",
       "      <td>secondary education</td>\n",
       "      <td>1</td>\n",
       "      <td>civil partnership</td>\n",
       "      <td>1</td>\n",
       "      <td>M</td>\n",
       "      <td>retiree</td>\n",
       "      <td>0</td>\n",
       "      <td>NaN</td>\n",
       "      <td>to have a wedding</td>\n",
       "      <td>older adult</td>\n",
       "    </tr>\n",
       "    <tr>\n",
       "      <th>13</th>\n",
       "      <td>13</td>\n",
       "      <td>0</td>\n",
       "      <td>1846.641941</td>\n",
       "      <td>54</td>\n",
       "      <td>some college</td>\n",
       "      <td>2</td>\n",
       "      <td>married</td>\n",
       "      <td>0</td>\n",
       "      <td>F</td>\n",
       "      <td>employee</td>\n",
       "      <td>0</td>\n",
       "      <td>20873.317</td>\n",
       "      <td>car purchase</td>\n",
       "      <td>older adult</td>\n",
       "    </tr>\n",
       "    <tr>\n",
       "      <th>14</th>\n",
       "      <td>14</td>\n",
       "      <td>0</td>\n",
       "      <td>1844.956182</td>\n",
       "      <td>56</td>\n",
       "      <td>bachelor's degree</td>\n",
       "      <td>0</td>\n",
       "      <td>civil partnership</td>\n",
       "      <td>1</td>\n",
       "      <td>F</td>\n",
       "      <td>business</td>\n",
       "      <td>1</td>\n",
       "      <td>26420.466</td>\n",
       "      <td>buy residential real estate</td>\n",
       "      <td>older adult</td>\n",
       "    </tr>\n",
       "    <tr>\n",
       "      <th>15</th>\n",
       "      <td>15</td>\n",
       "      <td>1</td>\n",
       "      <td>972.364419</td>\n",
       "      <td>26</td>\n",
       "      <td>secondary education</td>\n",
       "      <td>1</td>\n",
       "      <td>married</td>\n",
       "      <td>0</td>\n",
       "      <td>F</td>\n",
       "      <td>employee</td>\n",
       "      <td>0</td>\n",
       "      <td>18691.345</td>\n",
       "      <td>construction of own property</td>\n",
       "      <td>young adult</td>\n",
       "    </tr>\n",
       "    <tr>\n",
       "      <th>16</th>\n",
       "      <td>16</td>\n",
       "      <td>0</td>\n",
       "      <td>1719.934226</td>\n",
       "      <td>35</td>\n",
       "      <td>secondary education</td>\n",
       "      <td>1</td>\n",
       "      <td>married</td>\n",
       "      <td>0</td>\n",
       "      <td>F</td>\n",
       "      <td>employee</td>\n",
       "      <td>0</td>\n",
       "      <td>46272.433</td>\n",
       "      <td>property</td>\n",
       "      <td>adult</td>\n",
       "    </tr>\n",
       "    <tr>\n",
       "      <th>17</th>\n",
       "      <td>17</td>\n",
       "      <td>0</td>\n",
       "      <td>2369.999720</td>\n",
       "      <td>33</td>\n",
       "      <td>bachelor's degree</td>\n",
       "      <td>0</td>\n",
       "      <td>civil partnership</td>\n",
       "      <td>1</td>\n",
       "      <td>M</td>\n",
       "      <td>employee</td>\n",
       "      <td>0</td>\n",
       "      <td>14465.694</td>\n",
       "      <td>building a property</td>\n",
       "      <td>adult</td>\n",
       "    </tr>\n",
       "    <tr>\n",
       "      <th>18</th>\n",
       "      <td>18</td>\n",
       "      <td>0</td>\n",
       "      <td>400281.136913</td>\n",
       "      <td>53</td>\n",
       "      <td>secondary education</td>\n",
       "      <td>1</td>\n",
       "      <td>widow / widower</td>\n",
       "      <td>2</td>\n",
       "      <td>F</td>\n",
       "      <td>retiree</td>\n",
       "      <td>0</td>\n",
       "      <td>9091.804</td>\n",
       "      <td>buying a second-hand car</td>\n",
       "      <td>older adult</td>\n",
       "    </tr>\n",
       "    <tr>\n",
       "      <th>19</th>\n",
       "      <td>19</td>\n",
       "      <td>0</td>\n",
       "      <td>10038.818549</td>\n",
       "      <td>48</td>\n",
       "      <td>secondary education</td>\n",
       "      <td>1</td>\n",
       "      <td>divorced</td>\n",
       "      <td>3</td>\n",
       "      <td>F</td>\n",
       "      <td>employee</td>\n",
       "      <td>0</td>\n",
       "      <td>38852.977</td>\n",
       "      <td>buying my own car</td>\n",
       "      <td>adult</td>\n",
       "    </tr>\n",
       "  </tbody>\n",
       "</table>\n",
       "</div>"
      ],
      "text/plain": [
       "    index  children  days_employed  dob_years            education  \\\n",
       "0       0         1    8437.673028         42    bachelor's degree   \n",
       "1       1         1    4024.803754         36  secondary education   \n",
       "2       2         0    5623.422610         33  secondary education   \n",
       "3       3         3    4124.747207         32  secondary education   \n",
       "4       4         0  340266.072047         53  secondary education   \n",
       "5       5         0     926.185831         27    bachelor's degree   \n",
       "6       6         0    2879.202052         43    bachelor's degree   \n",
       "7       7         0     152.779569         50  secondary education   \n",
       "8       8         2    6929.865299         35    bachelor's degree   \n",
       "9       9         0    2188.756445         41  secondary education   \n",
       "10     10         2    4171.483647         36    bachelor's degree   \n",
       "11     11         0     792.701887         40  secondary education   \n",
       "12     12         0            NaN         65  secondary education   \n",
       "13     13         0    1846.641941         54         some college   \n",
       "14     14         0    1844.956182         56    bachelor's degree   \n",
       "15     15         1     972.364419         26  secondary education   \n",
       "16     16         0    1719.934226         35  secondary education   \n",
       "17     17         0    2369.999720         33    bachelor's degree   \n",
       "18     18         0  400281.136913         53  secondary education   \n",
       "19     19         0   10038.818549         48  secondary education   \n",
       "\n",
       "    education_id      family_status  family_status_id gender income_type  \\\n",
       "0              0            married                 0      F    employee   \n",
       "1              1            married                 0      F    employee   \n",
       "2              1            married                 0      M    employee   \n",
       "3              1            married                 0      M    employee   \n",
       "4              1  civil partnership                 1      F     retiree   \n",
       "5              0  civil partnership                 1      M    business   \n",
       "6              0            married                 0      F    business   \n",
       "7              1            married                 0      M    employee   \n",
       "8              0  civil partnership                 1      F    employee   \n",
       "9              1            married                 0      M    employee   \n",
       "10             0            married                 0      M    business   \n",
       "11             1            married                 0      F    employee   \n",
       "12             1  civil partnership                 1      M     retiree   \n",
       "13             2            married                 0      F    employee   \n",
       "14             0  civil partnership                 1      F    business   \n",
       "15             1            married                 0      F    employee   \n",
       "16             1            married                 0      F    employee   \n",
       "17             0  civil partnership                 1      M    employee   \n",
       "18             1    widow / widower                 2      F     retiree   \n",
       "19             1           divorced                 3      F    employee   \n",
       "\n",
       "    debt  total_income                              purpose    age_group  \n",
       "0      0     40620.102                purchase of the house        adult  \n",
       "1      0     17932.802                         car purchase        adult  \n",
       "2      0     23341.752                purchase of the house        adult  \n",
       "3      0     42820.568              supplementary education        adult  \n",
       "4      0     25378.572                    to have a wedding  older adult  \n",
       "5      0     40922.170                purchase of the house  young adult  \n",
       "6      0     38484.156                 housing transactions        adult  \n",
       "7      0     21731.829                            education        adult  \n",
       "8      0     15337.093                     having a wedding        adult  \n",
       "9      0     23108.150  purchase of the house for my family        adult  \n",
       "10     0     18230.959                      buy real estate        adult  \n",
       "11     0     12331.077           buy commercial real estate        adult  \n",
       "12     0           NaN                    to have a wedding  older adult  \n",
       "13     0     20873.317                         car purchase  older adult  \n",
       "14     1     26420.466          buy residential real estate  older adult  \n",
       "15     0     18691.345         construction of own property  young adult  \n",
       "16     0     46272.433                             property        adult  \n",
       "17     0     14465.694                  building a property        adult  \n",
       "18     0      9091.804             buying a second-hand car  older adult  \n",
       "19     0     38852.977                    buying my own car        adult  "
      ]
     },
     "execution_count": 45,
     "metadata": {},
     "output_type": "execute_result"
    }
   ],
   "source": [
    "\n",
    "df['age_group'] = df['dob_years'].apply(age_group)\n",
    "df.head(20)\n"
   ]
  },
  {
   "cell_type": "code",
   "execution_count": 46,
   "metadata": {},
   "outputs": [
    {
     "data": {
      "text/plain": [
       "adult          10918\n",
       "older adult     6614\n",
       "young adult     3698\n",
       "Name: age_group, dtype: int64"
      ]
     },
     "execution_count": 46,
     "metadata": {},
     "output_type": "execute_result"
    }
   ],
   "source": [
    "df['age_group'].value_counts()\n"
   ]
  },
  {
   "cell_type": "markdown",
   "metadata": {},
   "source": [
    " Thinking about income: It typically depends on ones employment, which could depend on ones education, as well as ones age. I am going to look at the distribution of these factors and how they effect ones income in these data. "
   ]
  },
  {
   "cell_type": "markdown",
   "metadata": {},
   "source": [
    "<div class=\"alert alert-block alert-success\">\n",
    "<b>Reviewer's comment</b> <a class=\"tocSkip\"></a>\n",
    "\n",
    "Nice approach!\n",
    "</div>"
   ]
  },
  {
   "cell_type": "code",
   "execution_count": 47,
   "metadata": {},
   "outputs": [
    {
     "name": "stdout",
     "output_type": "stream",
     "text": [
      "<class 'pandas.core.frame.DataFrame'>\n",
      "Int64Index: 19149 entries, 0 to 21229\n",
      "Data columns (total 14 columns):\n",
      " #   Column            Non-Null Count  Dtype  \n",
      "---  ------            --------------  -----  \n",
      " 0   index             19149 non-null  int64  \n",
      " 1   children          19149 non-null  int64  \n",
      " 2   days_employed     19149 non-null  float64\n",
      " 3   dob_years         19149 non-null  int64  \n",
      " 4   education         19149 non-null  object \n",
      " 5   education_id      19149 non-null  int64  \n",
      " 6   family_status     19149 non-null  object \n",
      " 7   family_status_id  19149 non-null  int64  \n",
      " 8   gender            19149 non-null  object \n",
      " 9   income_type       19149 non-null  object \n",
      " 10  debt              19149 non-null  int64  \n",
      " 11  total_income      19149 non-null  float64\n",
      " 12  purpose           19149 non-null  object \n",
      " 13  age_group         19149 non-null  object \n",
      "dtypes: float64(2), int64(6), object(6)\n",
      "memory usage: 2.2+ MB\n"
     ]
    },
    {
     "data": {
      "text/html": [
       "<div>\n",
       "<style scoped>\n",
       "    .dataframe tbody tr th:only-of-type {\n",
       "        vertical-align: middle;\n",
       "    }\n",
       "\n",
       "    .dataframe tbody tr th {\n",
       "        vertical-align: top;\n",
       "    }\n",
       "\n",
       "    .dataframe thead th {\n",
       "        text-align: right;\n",
       "    }\n",
       "</style>\n",
       "<table border=\"1\" class=\"dataframe\">\n",
       "  <thead>\n",
       "    <tr style=\"text-align: right;\">\n",
       "      <th></th>\n",
       "      <th>index</th>\n",
       "      <th>children</th>\n",
       "      <th>days_employed</th>\n",
       "      <th>dob_years</th>\n",
       "      <th>education</th>\n",
       "      <th>education_id</th>\n",
       "      <th>family_status</th>\n",
       "      <th>family_status_id</th>\n",
       "      <th>gender</th>\n",
       "      <th>income_type</th>\n",
       "      <th>debt</th>\n",
       "      <th>total_income</th>\n",
       "      <th>purpose</th>\n",
       "      <th>age_group</th>\n",
       "    </tr>\n",
       "  </thead>\n",
       "  <tbody>\n",
       "    <tr>\n",
       "      <th>0</th>\n",
       "      <td>0</td>\n",
       "      <td>1</td>\n",
       "      <td>8437.673028</td>\n",
       "      <td>42</td>\n",
       "      <td>bachelor's degree</td>\n",
       "      <td>0</td>\n",
       "      <td>married</td>\n",
       "      <td>0</td>\n",
       "      <td>F</td>\n",
       "      <td>employee</td>\n",
       "      <td>0</td>\n",
       "      <td>40620.102</td>\n",
       "      <td>purchase of the house</td>\n",
       "      <td>adult</td>\n",
       "    </tr>\n",
       "    <tr>\n",
       "      <th>1</th>\n",
       "      <td>1</td>\n",
       "      <td>1</td>\n",
       "      <td>4024.803754</td>\n",
       "      <td>36</td>\n",
       "      <td>secondary education</td>\n",
       "      <td>1</td>\n",
       "      <td>married</td>\n",
       "      <td>0</td>\n",
       "      <td>F</td>\n",
       "      <td>employee</td>\n",
       "      <td>0</td>\n",
       "      <td>17932.802</td>\n",
       "      <td>car purchase</td>\n",
       "      <td>adult</td>\n",
       "    </tr>\n",
       "    <tr>\n",
       "      <th>2</th>\n",
       "      <td>2</td>\n",
       "      <td>0</td>\n",
       "      <td>5623.422610</td>\n",
       "      <td>33</td>\n",
       "      <td>secondary education</td>\n",
       "      <td>1</td>\n",
       "      <td>married</td>\n",
       "      <td>0</td>\n",
       "      <td>M</td>\n",
       "      <td>employee</td>\n",
       "      <td>0</td>\n",
       "      <td>23341.752</td>\n",
       "      <td>purchase of the house</td>\n",
       "      <td>adult</td>\n",
       "    </tr>\n",
       "    <tr>\n",
       "      <th>3</th>\n",
       "      <td>3</td>\n",
       "      <td>3</td>\n",
       "      <td>4124.747207</td>\n",
       "      <td>32</td>\n",
       "      <td>secondary education</td>\n",
       "      <td>1</td>\n",
       "      <td>married</td>\n",
       "      <td>0</td>\n",
       "      <td>M</td>\n",
       "      <td>employee</td>\n",
       "      <td>0</td>\n",
       "      <td>42820.568</td>\n",
       "      <td>supplementary education</td>\n",
       "      <td>adult</td>\n",
       "    </tr>\n",
       "    <tr>\n",
       "      <th>4</th>\n",
       "      <td>4</td>\n",
       "      <td>0</td>\n",
       "      <td>340266.072047</td>\n",
       "      <td>53</td>\n",
       "      <td>secondary education</td>\n",
       "      <td>1</td>\n",
       "      <td>civil partnership</td>\n",
       "      <td>1</td>\n",
       "      <td>F</td>\n",
       "      <td>retiree</td>\n",
       "      <td>0</td>\n",
       "      <td>25378.572</td>\n",
       "      <td>to have a wedding</td>\n",
       "      <td>older adult</td>\n",
       "    </tr>\n",
       "  </tbody>\n",
       "</table>\n",
       "</div>"
      ],
      "text/plain": [
       "   index  children  days_employed  dob_years            education  \\\n",
       "0      0         1    8437.673028         42    bachelor's degree   \n",
       "1      1         1    4024.803754         36  secondary education   \n",
       "2      2         0    5623.422610         33  secondary education   \n",
       "3      3         3    4124.747207         32  secondary education   \n",
       "4      4         0  340266.072047         53  secondary education   \n",
       "\n",
       "   education_id      family_status  family_status_id gender income_type  debt  \\\n",
       "0             0            married                 0      F    employee     0   \n",
       "1             1            married                 0      F    employee     0   \n",
       "2             1            married                 0      M    employee     0   \n",
       "3             1            married                 0      M    employee     0   \n",
       "4             1  civil partnership                 1      F     retiree     0   \n",
       "\n",
       "   total_income                  purpose    age_group  \n",
       "0     40620.102    purchase of the house        adult  \n",
       "1     17932.802             car purchase        adult  \n",
       "2     23341.752    purchase of the house        adult  \n",
       "3     42820.568  supplementary education        adult  \n",
       "4     25378.572        to have a wedding  older adult  "
      ]
     },
     "execution_count": 47,
     "metadata": {},
     "output_type": "execute_result"
    }
   ],
   "source": [
    "\n",
    "df_drop= df.dropna()\n",
    "df_drop.info()\n",
    "df_drop.head()"
   ]
  },
  {
   "cell_type": "markdown",
   "metadata": {},
   "source": [
    "<div class=\"alert alert-block alert-danger\">\n",
    "<b>Reviewer's comment</b> <a class=\"tocSkip\"></a>\n",
    "\n",
    "<s>Please check comment in the end of block before filling NANs.\n",
    "</div>"
   ]
  },
  {
   "cell_type": "markdown",
   "metadata": {},
   "source": [
    "<div class=\"alert alert-block alert-danger\">\n",
    "<b>Reviewer's comment</b> <a class=\"tocSkip\"></a>\n",
    "\n",
    "<s>Let's take a look at how to improve your approach. <br>\n",
    "    Income depends on several factors. Consider to pivot data with several levels to find suitable filler for NAN in every group. <br>\n",
    "    Please check https://pandas.pydata.org/docs/reference/api/pandas.DataFrame.pivot.html\n",
    "</div>"
   ]
  },
  {
   "cell_type": "markdown",
   "metadata": {},
   "source": [
    "<div class=\"alert alert-block alert-danger\">\n",
    "<b>Reviewer's comment v2</b> <a class=\"tocSkip\"></a>\n",
    "\n",
    "<s>Let's go deeper in working with missing values in this task. <br>\n",
    "    Our recommendation here is to group people by several characteristics for more accurate result in median/mean. <br>\n",
    "    Propably you will need custom function to fill NANs with result from pivot table =) <br>\n",
    "You've already done a lot, I am sure you'll take care of it! <br>\n",
    "    Please check example below:\n",
    "</div>"
   ]
  },
  {
   "cell_type": "code",
   "execution_count": 56,
   "metadata": {},
   "outputs": [],
   "source": [
    "# reviewer's example\n",
    "#df.pivot_table(index=['age_group','income_type' ], columns='education', values='total_income', aggfunc='median')"
   ]
  },
  {
   "cell_type": "code",
   "execution_count": 97,
   "metadata": {},
   "outputs": [
    {
     "data": {
      "text/html": [
       "<div>\n",
       "<style scoped>\n",
       "    .dataframe tbody tr th:only-of-type {\n",
       "        vertical-align: middle;\n",
       "    }\n",
       "\n",
       "    .dataframe tbody tr th {\n",
       "        vertical-align: top;\n",
       "    }\n",
       "\n",
       "    .dataframe thead th {\n",
       "        text-align: right;\n",
       "    }\n",
       "</style>\n",
       "<table border=\"1\" class=\"dataframe\">\n",
       "  <thead>\n",
       "    <tr style=\"text-align: right;\">\n",
       "      <th></th>\n",
       "      <th>education</th>\n",
       "      <th>bachelor's degree</th>\n",
       "      <th>graduate degree</th>\n",
       "      <th>primary education</th>\n",
       "      <th>secondary education</th>\n",
       "      <th>some college</th>\n",
       "    </tr>\n",
       "    <tr>\n",
       "      <th>age_group</th>\n",
       "      <th>income_type</th>\n",
       "      <th></th>\n",
       "      <th></th>\n",
       "      <th></th>\n",
       "      <th></th>\n",
       "      <th></th>\n",
       "    </tr>\n",
       "  </thead>\n",
       "  <tbody>\n",
       "    <tr>\n",
       "      <th rowspan=\"6\" valign=\"top\">adult</th>\n",
       "      <th>business</th>\n",
       "      <td>33702.3130</td>\n",
       "      <td>NaN</td>\n",
       "      <td>27305.9010</td>\n",
       "      <td>26144.0300</td>\n",
       "      <td>31437.1180</td>\n",
       "    </tr>\n",
       "    <tr>\n",
       "      <th>civil servant</th>\n",
       "      <td>28178.5190</td>\n",
       "      <td>17822.7570</td>\n",
       "      <td>30545.9490</td>\n",
       "      <td>21740.9130</td>\n",
       "      <td>29281.5325</td>\n",
       "    </tr>\n",
       "    <tr>\n",
       "      <th>employee</th>\n",
       "      <td>27096.0190</td>\n",
       "      <td>25161.5835</td>\n",
       "      <td>19887.1210</td>\n",
       "      <td>22166.6270</td>\n",
       "      <td>27035.7210</td>\n",
       "    </tr>\n",
       "    <tr>\n",
       "      <th>paternity / maternity leave</th>\n",
       "      <td>NaN</td>\n",
       "      <td>NaN</td>\n",
       "      <td>NaN</td>\n",
       "      <td>8612.6610</td>\n",
       "      <td>NaN</td>\n",
       "    </tr>\n",
       "    <tr>\n",
       "      <th>retiree</th>\n",
       "      <td>32491.0720</td>\n",
       "      <td>NaN</td>\n",
       "      <td>15412.8750</td>\n",
       "      <td>21219.0680</td>\n",
       "      <td>7015.4225</td>\n",
       "    </tr>\n",
       "    <tr>\n",
       "      <th>unemployed</th>\n",
       "      <td>32435.6020</td>\n",
       "      <td>NaN</td>\n",
       "      <td>NaN</td>\n",
       "      <td>9593.1190</td>\n",
       "      <td>NaN</td>\n",
       "    </tr>\n",
       "    <tr>\n",
       "      <th rowspan=\"4\" valign=\"top\">older adult</th>\n",
       "      <th>business</th>\n",
       "      <td>34987.9720</td>\n",
       "      <td>NaN</td>\n",
       "      <td>23066.1310</td>\n",
       "      <td>25063.4520</td>\n",
       "      <td>33073.7630</td>\n",
       "    </tr>\n",
       "    <tr>\n",
       "      <th>civil servant</th>\n",
       "      <td>29314.0030</td>\n",
       "      <td>NaN</td>\n",
       "      <td>12709.2755</td>\n",
       "      <td>22940.3780</td>\n",
       "      <td>NaN</td>\n",
       "    </tr>\n",
       "    <tr>\n",
       "      <th>employee</th>\n",
       "      <td>27979.3760</td>\n",
       "      <td>42945.7940</td>\n",
       "      <td>20896.0125</td>\n",
       "      <td>21854.6310</td>\n",
       "      <td>27143.4650</td>\n",
       "    </tr>\n",
       "    <tr>\n",
       "      <th>retiree</th>\n",
       "      <td>22784.6850</td>\n",
       "      <td>28334.2150</td>\n",
       "      <td>16415.7850</td>\n",
       "      <td>18259.1760</td>\n",
       "      <td>19633.0750</td>\n",
       "    </tr>\n",
       "    <tr>\n",
       "      <th rowspan=\"6\" valign=\"top\">young adult</th>\n",
       "      <th>business</th>\n",
       "      <td>28448.9855</td>\n",
       "      <td>NaN</td>\n",
       "      <td>21167.1430</td>\n",
       "      <td>23912.5945</td>\n",
       "      <td>25570.8550</td>\n",
       "    </tr>\n",
       "    <tr>\n",
       "      <th>civil servant</th>\n",
       "      <td>24483.1205</td>\n",
       "      <td>NaN</td>\n",
       "      <td>30563.3830</td>\n",
       "      <td>21032.8640</td>\n",
       "      <td>21640.4795</td>\n",
       "    </tr>\n",
       "    <tr>\n",
       "      <th>employee</th>\n",
       "      <td>24434.1270</td>\n",
       "      <td>NaN</td>\n",
       "      <td>23533.5420</td>\n",
       "      <td>20273.9605</td>\n",
       "      <td>22024.3690</td>\n",
       "    </tr>\n",
       "    <tr>\n",
       "      <th>entrepreneur</th>\n",
       "      <td>79866.1030</td>\n",
       "      <td>NaN</td>\n",
       "      <td>NaN</td>\n",
       "      <td>NaN</td>\n",
       "      <td>NaN</td>\n",
       "    </tr>\n",
       "    <tr>\n",
       "      <th>retiree</th>\n",
       "      <td>34394.1280</td>\n",
       "      <td>NaN</td>\n",
       "      <td>NaN</td>\n",
       "      <td>12807.0710</td>\n",
       "      <td>NaN</td>\n",
       "    </tr>\n",
       "    <tr>\n",
       "      <th>student</th>\n",
       "      <td>15712.2600</td>\n",
       "      <td>NaN</td>\n",
       "      <td>NaN</td>\n",
       "      <td>NaN</td>\n",
       "      <td>NaN</td>\n",
       "    </tr>\n",
       "  </tbody>\n",
       "</table>\n",
       "</div>"
      ],
      "text/plain": [
       "education                                bachelor's degree  graduate degree  \\\n",
       "age_group   income_type                                                       \n",
       "adult       business                            33702.3130              NaN   \n",
       "            civil servant                       28178.5190       17822.7570   \n",
       "            employee                            27096.0190       25161.5835   \n",
       "            paternity / maternity leave                NaN              NaN   \n",
       "            retiree                             32491.0720              NaN   \n",
       "            unemployed                          32435.6020              NaN   \n",
       "older adult business                            34987.9720              NaN   \n",
       "            civil servant                       29314.0030              NaN   \n",
       "            employee                            27979.3760       42945.7940   \n",
       "            retiree                             22784.6850       28334.2150   \n",
       "young adult business                            28448.9855              NaN   \n",
       "            civil servant                       24483.1205              NaN   \n",
       "            employee                            24434.1270              NaN   \n",
       "            entrepreneur                        79866.1030              NaN   \n",
       "            retiree                             34394.1280              NaN   \n",
       "            student                             15712.2600              NaN   \n",
       "\n",
       "education                                primary education  \\\n",
       "age_group   income_type                                      \n",
       "adult       business                            27305.9010   \n",
       "            civil servant                       30545.9490   \n",
       "            employee                            19887.1210   \n",
       "            paternity / maternity leave                NaN   \n",
       "            retiree                             15412.8750   \n",
       "            unemployed                                 NaN   \n",
       "older adult business                            23066.1310   \n",
       "            civil servant                       12709.2755   \n",
       "            employee                            20896.0125   \n",
       "            retiree                             16415.7850   \n",
       "young adult business                            21167.1430   \n",
       "            civil servant                       30563.3830   \n",
       "            employee                            23533.5420   \n",
       "            entrepreneur                               NaN   \n",
       "            retiree                                    NaN   \n",
       "            student                                    NaN   \n",
       "\n",
       "education                                secondary education  some college  \n",
       "age_group   income_type                                                     \n",
       "adult       business                              26144.0300    31437.1180  \n",
       "            civil servant                         21740.9130    29281.5325  \n",
       "            employee                              22166.6270    27035.7210  \n",
       "            paternity / maternity leave            8612.6610           NaN  \n",
       "            retiree                               21219.0680     7015.4225  \n",
       "            unemployed                             9593.1190           NaN  \n",
       "older adult business                              25063.4520    33073.7630  \n",
       "            civil servant                         22940.3780           NaN  \n",
       "            employee                              21854.6310    27143.4650  \n",
       "            retiree                               18259.1760    19633.0750  \n",
       "young adult business                              23912.5945    25570.8550  \n",
       "            civil servant                         21032.8640    21640.4795  \n",
       "            employee                              20273.9605    22024.3690  \n",
       "            entrepreneur                                 NaN           NaN  \n",
       "            retiree                               12807.0710           NaN  \n",
       "            student                                      NaN           NaN  "
      ]
     },
     "execution_count": 97,
     "metadata": {},
     "output_type": "execute_result"
    }
   ],
   "source": [
    "table = df_drop.pivot_table(index=['age_group','income_type' ], columns='education', values='total_income', aggfunc='median')\n",
    "table"
   ]
  },
  {
   "cell_type": "markdown",
   "metadata": {},
   "source": [
    "If I group the data by age_group, education level, and income type and create medians for individuals based on these groupings I believe this will be the most concise and accurate way to fill the missing incomes"
   ]
  },
  {
   "cell_type": "code",
   "execution_count": 58,
   "metadata": {},
   "outputs": [],
   "source": [
    "median = df.groupby(['age_group', 'education', 'income_type'])['total_income'].transform('median')\n",
    "\n",
    "df['total_income'] = df['total_income'].fillna(median)"
   ]
  },
  {
   "cell_type": "markdown",
   "metadata": {},
   "source": [
    "<div class=\"alert alert-block alert-success\">\n",
    "<b>Reviewer's comment</b> <a class=\"tocSkip\"></a>\n",
    "\n",
    "This is a good approach too. Well done!\n",
    "</div>"
   ]
  },
  {
   "cell_type": "code",
   "execution_count": 59,
   "metadata": {},
   "outputs": [
    {
     "name": "stdout",
     "output_type": "stream",
     "text": [
      "<class 'pandas.core.frame.DataFrame'>\n",
      "RangeIndex: 21230 entries, 0 to 21229\n",
      "Data columns (total 14 columns):\n",
      " #   Column            Non-Null Count  Dtype  \n",
      "---  ------            --------------  -----  \n",
      " 0   index             21230 non-null  int64  \n",
      " 1   children          21230 non-null  int64  \n",
      " 2   days_employed     19149 non-null  float64\n",
      " 3   dob_years         21230 non-null  int64  \n",
      " 4   education         21230 non-null  object \n",
      " 5   education_id      21230 non-null  int64  \n",
      " 6   family_status     21230 non-null  object \n",
      " 7   family_status_id  21230 non-null  int64  \n",
      " 8   gender            21230 non-null  object \n",
      " 9   income_type       21230 non-null  object \n",
      " 10  debt              21230 non-null  int64  \n",
      " 11  total_income      21229 non-null  float64\n",
      " 12  purpose           21230 non-null  object \n",
      " 13  age_group         21230 non-null  object \n",
      "dtypes: float64(2), int64(6), object(6)\n",
      "memory usage: 2.3+ MB\n"
     ]
    }
   ],
   "source": [
    "df.info()"
   ]
  },
  {
   "cell_type": "markdown",
   "metadata": {},
   "source": [
    "I see there is one NaN remaining. Lets look closer. "
   ]
  },
  {
   "cell_type": "code",
   "execution_count": 60,
   "metadata": {},
   "outputs": [
    {
     "data": {
      "text/html": [
       "<div>\n",
       "<style scoped>\n",
       "    .dataframe tbody tr th:only-of-type {\n",
       "        vertical-align: middle;\n",
       "    }\n",
       "\n",
       "    .dataframe tbody tr th {\n",
       "        vertical-align: top;\n",
       "    }\n",
       "\n",
       "    .dataframe thead th {\n",
       "        text-align: right;\n",
       "    }\n",
       "</style>\n",
       "<table border=\"1\" class=\"dataframe\">\n",
       "  <thead>\n",
       "    <tr style=\"text-align: right;\">\n",
       "      <th></th>\n",
       "      <th>index</th>\n",
       "      <th>children</th>\n",
       "      <th>days_employed</th>\n",
       "      <th>dob_years</th>\n",
       "      <th>education</th>\n",
       "      <th>education_id</th>\n",
       "      <th>family_status</th>\n",
       "      <th>family_status_id</th>\n",
       "      <th>gender</th>\n",
       "      <th>income_type</th>\n",
       "      <th>debt</th>\n",
       "      <th>total_income</th>\n",
       "      <th>purpose</th>\n",
       "      <th>age_group</th>\n",
       "    </tr>\n",
       "  </thead>\n",
       "  <tbody>\n",
       "    <tr>\n",
       "      <th>5880</th>\n",
       "      <td>5936</td>\n",
       "      <td>0</td>\n",
       "      <td>NaN</td>\n",
       "      <td>58</td>\n",
       "      <td>bachelor's degree</td>\n",
       "      <td>0</td>\n",
       "      <td>married</td>\n",
       "      <td>0</td>\n",
       "      <td>M</td>\n",
       "      <td>entrepreneur</td>\n",
       "      <td>0</td>\n",
       "      <td>NaN</td>\n",
       "      <td>buy residential real estate</td>\n",
       "      <td>older adult</td>\n",
       "    </tr>\n",
       "  </tbody>\n",
       "</table>\n",
       "</div>"
      ],
      "text/plain": [
       "      index  children  days_employed  dob_years          education  \\\n",
       "5880   5936         0            NaN         58  bachelor's degree   \n",
       "\n",
       "      education_id family_status  family_status_id gender   income_type  debt  \\\n",
       "5880             0       married                 0      M  entrepreneur     0   \n",
       "\n",
       "      total_income                      purpose    age_group  \n",
       "5880           NaN  buy residential real estate  older adult  "
      ]
     },
     "execution_count": 60,
     "metadata": {},
     "output_type": "execute_result"
    }
   ],
   "source": [
    "df[df['total_income'].isna()]"
   ]
  },
  {
   "cell_type": "markdown",
   "metadata": {},
   "source": [
    "This person is quite unique and a median for their circumstance did not make it into my table. I will fill their income based on their income_type and education."
   ]
  },
  {
   "cell_type": "code",
   "execution_count": 61,
   "metadata": {},
   "outputs": [],
   "source": [
    "df.loc[5880,['total_income']]= 79866.1030\n"
   ]
  },
  {
   "cell_type": "code",
   "execution_count": 62,
   "metadata": {},
   "outputs": [
    {
     "name": "stdout",
     "output_type": "stream",
     "text": [
      "<class 'pandas.core.frame.DataFrame'>\n",
      "RangeIndex: 21230 entries, 0 to 21229\n",
      "Data columns (total 14 columns):\n",
      " #   Column            Non-Null Count  Dtype  \n",
      "---  ------            --------------  -----  \n",
      " 0   index             21230 non-null  int64  \n",
      " 1   children          21230 non-null  int64  \n",
      " 2   days_employed     19149 non-null  float64\n",
      " 3   dob_years         21230 non-null  int64  \n",
      " 4   education         21230 non-null  object \n",
      " 5   education_id      21230 non-null  int64  \n",
      " 6   family_status     21230 non-null  object \n",
      " 7   family_status_id  21230 non-null  int64  \n",
      " 8   gender            21230 non-null  object \n",
      " 9   income_type       21230 non-null  object \n",
      " 10  debt              21230 non-null  int64  \n",
      " 11  total_income      21230 non-null  float64\n",
      " 12  purpose           21230 non-null  object \n",
      " 13  age_group         21230 non-null  object \n",
      "dtypes: float64(2), int64(6), object(6)\n",
      "memory usage: 2.3+ MB\n"
     ]
    }
   ],
   "source": [
    "df.info()"
   ]
  },
  {
   "cell_type": "code",
   "execution_count": 94,
   "metadata": {},
   "outputs": [
    {
     "data": {
      "text/plain": [
       "22166    480\n",
       "18259    294\n",
       "26144    187\n",
       "20273    162\n",
       "21854    146\n",
       "        ... \n",
       "12160      1\n",
       "14211      1\n",
       "6023       1\n",
       "18317      1\n",
       "52973      1\n",
       "Name: total_income, Length: 15276, dtype: int64"
      ]
     },
     "execution_count": 94,
     "metadata": {},
     "output_type": "execute_result"
    }
   ],
   "source": [
    "df['total_income'].value_counts()"
   ]
  },
  {
   "cell_type": "code",
   "execution_count": 95,
   "metadata": {},
   "outputs": [
    {
     "data": {
      "text/html": [
       "<div>\n",
       "<style scoped>\n",
       "    .dataframe tbody tr th:only-of-type {\n",
       "        vertical-align: middle;\n",
       "    }\n",
       "\n",
       "    .dataframe tbody tr th {\n",
       "        vertical-align: top;\n",
       "    }\n",
       "\n",
       "    .dataframe thead th {\n",
       "        text-align: right;\n",
       "    }\n",
       "</style>\n",
       "<table border=\"1\" class=\"dataframe\">\n",
       "  <thead>\n",
       "    <tr style=\"text-align: right;\">\n",
       "      <th></th>\n",
       "      <th>index</th>\n",
       "      <th>children</th>\n",
       "      <th>days_employed</th>\n",
       "      <th>dob_years</th>\n",
       "      <th>education</th>\n",
       "      <th>education_id</th>\n",
       "      <th>family_status</th>\n",
       "      <th>family_status_id</th>\n",
       "      <th>gender</th>\n",
       "      <th>income_type</th>\n",
       "      <th>debt</th>\n",
       "      <th>total_income</th>\n",
       "      <th>purpose</th>\n",
       "      <th>age_group</th>\n",
       "      <th>purpose_category</th>\n",
       "      <th>income_level</th>\n",
       "    </tr>\n",
       "  </thead>\n",
       "  <tbody>\n",
       "    <tr>\n",
       "      <th>0</th>\n",
       "      <td>0</td>\n",
       "      <td>1</td>\n",
       "      <td>8437</td>\n",
       "      <td>42</td>\n",
       "      <td>bachelor's degree</td>\n",
       "      <td>0</td>\n",
       "      <td>married</td>\n",
       "      <td>0</td>\n",
       "      <td>F</td>\n",
       "      <td>employee</td>\n",
       "      <td>0</td>\n",
       "      <td>40620</td>\n",
       "      <td>purchase of the house</td>\n",
       "      <td>adult</td>\n",
       "      <td>housing</td>\n",
       "      <td>middle income</td>\n",
       "    </tr>\n",
       "    <tr>\n",
       "      <th>1</th>\n",
       "      <td>1</td>\n",
       "      <td>1</td>\n",
       "      <td>4024</td>\n",
       "      <td>36</td>\n",
       "      <td>secondary education</td>\n",
       "      <td>1</td>\n",
       "      <td>married</td>\n",
       "      <td>0</td>\n",
       "      <td>F</td>\n",
       "      <td>employee</td>\n",
       "      <td>0</td>\n",
       "      <td>17932</td>\n",
       "      <td>car purchase</td>\n",
       "      <td>adult</td>\n",
       "      <td>car transaction</td>\n",
       "      <td>low income</td>\n",
       "    </tr>\n",
       "    <tr>\n",
       "      <th>2</th>\n",
       "      <td>2</td>\n",
       "      <td>0</td>\n",
       "      <td>5623</td>\n",
       "      <td>33</td>\n",
       "      <td>secondary education</td>\n",
       "      <td>1</td>\n",
       "      <td>married</td>\n",
       "      <td>0</td>\n",
       "      <td>M</td>\n",
       "      <td>employee</td>\n",
       "      <td>0</td>\n",
       "      <td>23341</td>\n",
       "      <td>purchase of the house</td>\n",
       "      <td>adult</td>\n",
       "      <td>housing</td>\n",
       "      <td>middle income</td>\n",
       "    </tr>\n",
       "    <tr>\n",
       "      <th>3</th>\n",
       "      <td>3</td>\n",
       "      <td>3</td>\n",
       "      <td>4124</td>\n",
       "      <td>32</td>\n",
       "      <td>secondary education</td>\n",
       "      <td>1</td>\n",
       "      <td>married</td>\n",
       "      <td>0</td>\n",
       "      <td>M</td>\n",
       "      <td>employee</td>\n",
       "      <td>0</td>\n",
       "      <td>42820</td>\n",
       "      <td>supplementary education</td>\n",
       "      <td>adult</td>\n",
       "      <td>education</td>\n",
       "      <td>middle income</td>\n",
       "    </tr>\n",
       "    <tr>\n",
       "      <th>4</th>\n",
       "      <td>4</td>\n",
       "      <td>0</td>\n",
       "      <td>340266</td>\n",
       "      <td>53</td>\n",
       "      <td>secondary education</td>\n",
       "      <td>1</td>\n",
       "      <td>civil partnership</td>\n",
       "      <td>1</td>\n",
       "      <td>F</td>\n",
       "      <td>retiree</td>\n",
       "      <td>0</td>\n",
       "      <td>25378</td>\n",
       "      <td>to have a wedding</td>\n",
       "      <td>older adult</td>\n",
       "      <td>wedding</td>\n",
       "      <td>middle income</td>\n",
       "    </tr>\n",
       "    <tr>\n",
       "      <th>5</th>\n",
       "      <td>5</td>\n",
       "      <td>0</td>\n",
       "      <td>926</td>\n",
       "      <td>27</td>\n",
       "      <td>bachelor's degree</td>\n",
       "      <td>0</td>\n",
       "      <td>civil partnership</td>\n",
       "      <td>1</td>\n",
       "      <td>M</td>\n",
       "      <td>business</td>\n",
       "      <td>0</td>\n",
       "      <td>40922</td>\n",
       "      <td>purchase of the house</td>\n",
       "      <td>young adult</td>\n",
       "      <td>housing</td>\n",
       "      <td>middle income</td>\n",
       "    </tr>\n",
       "    <tr>\n",
       "      <th>6</th>\n",
       "      <td>6</td>\n",
       "      <td>0</td>\n",
       "      <td>2879</td>\n",
       "      <td>43</td>\n",
       "      <td>bachelor's degree</td>\n",
       "      <td>0</td>\n",
       "      <td>married</td>\n",
       "      <td>0</td>\n",
       "      <td>F</td>\n",
       "      <td>business</td>\n",
       "      <td>0</td>\n",
       "      <td>38484</td>\n",
       "      <td>housing transactions</td>\n",
       "      <td>adult</td>\n",
       "      <td>housing</td>\n",
       "      <td>middle income</td>\n",
       "    </tr>\n",
       "    <tr>\n",
       "      <th>7</th>\n",
       "      <td>7</td>\n",
       "      <td>0</td>\n",
       "      <td>152</td>\n",
       "      <td>50</td>\n",
       "      <td>secondary education</td>\n",
       "      <td>1</td>\n",
       "      <td>married</td>\n",
       "      <td>0</td>\n",
       "      <td>M</td>\n",
       "      <td>employee</td>\n",
       "      <td>0</td>\n",
       "      <td>21731</td>\n",
       "      <td>education</td>\n",
       "      <td>adult</td>\n",
       "      <td>education</td>\n",
       "      <td>middle income</td>\n",
       "    </tr>\n",
       "    <tr>\n",
       "      <th>8</th>\n",
       "      <td>8</td>\n",
       "      <td>2</td>\n",
       "      <td>6929</td>\n",
       "      <td>35</td>\n",
       "      <td>bachelor's degree</td>\n",
       "      <td>0</td>\n",
       "      <td>civil partnership</td>\n",
       "      <td>1</td>\n",
       "      <td>F</td>\n",
       "      <td>employee</td>\n",
       "      <td>0</td>\n",
       "      <td>15337</td>\n",
       "      <td>having a wedding</td>\n",
       "      <td>adult</td>\n",
       "      <td>wedding</td>\n",
       "      <td>low income</td>\n",
       "    </tr>\n",
       "    <tr>\n",
       "      <th>9</th>\n",
       "      <td>9</td>\n",
       "      <td>0</td>\n",
       "      <td>2188</td>\n",
       "      <td>41</td>\n",
       "      <td>secondary education</td>\n",
       "      <td>1</td>\n",
       "      <td>married</td>\n",
       "      <td>0</td>\n",
       "      <td>M</td>\n",
       "      <td>employee</td>\n",
       "      <td>0</td>\n",
       "      <td>23108</td>\n",
       "      <td>purchase of the house for my family</td>\n",
       "      <td>adult</td>\n",
       "      <td>housing</td>\n",
       "      <td>middle income</td>\n",
       "    </tr>\n",
       "  </tbody>\n",
       "</table>\n",
       "</div>"
      ],
      "text/plain": [
       "   index  children  days_employed  dob_years            education  \\\n",
       "0      0         1           8437         42    bachelor's degree   \n",
       "1      1         1           4024         36  secondary education   \n",
       "2      2         0           5623         33  secondary education   \n",
       "3      3         3           4124         32  secondary education   \n",
       "4      4         0         340266         53  secondary education   \n",
       "5      5         0            926         27    bachelor's degree   \n",
       "6      6         0           2879         43    bachelor's degree   \n",
       "7      7         0            152         50  secondary education   \n",
       "8      8         2           6929         35    bachelor's degree   \n",
       "9      9         0           2188         41  secondary education   \n",
       "\n",
       "   education_id      family_status  family_status_id gender income_type  debt  \\\n",
       "0             0            married                 0      F    employee     0   \n",
       "1             1            married                 0      F    employee     0   \n",
       "2             1            married                 0      M    employee     0   \n",
       "3             1            married                 0      M    employee     0   \n",
       "4             1  civil partnership                 1      F     retiree     0   \n",
       "5             0  civil partnership                 1      M    business     0   \n",
       "6             0            married                 0      F    business     0   \n",
       "7             1            married                 0      M    employee     0   \n",
       "8             0  civil partnership                 1      F    employee     0   \n",
       "9             1            married                 0      M    employee     0   \n",
       "\n",
       "   total_income                              purpose    age_group  \\\n",
       "0         40620                purchase of the house        adult   \n",
       "1         17932                         car purchase        adult   \n",
       "2         23341                purchase of the house        adult   \n",
       "3         42820              supplementary education        adult   \n",
       "4         25378                    to have a wedding  older adult   \n",
       "5         40922                purchase of the house  young adult   \n",
       "6         38484                 housing transactions        adult   \n",
       "7         21731                            education        adult   \n",
       "8         15337                     having a wedding        adult   \n",
       "9         23108  purchase of the house for my family        adult   \n",
       "\n",
       "  purpose_category   income_level  \n",
       "0          housing  middle income  \n",
       "1  car transaction     low income  \n",
       "2          housing  middle income  \n",
       "3        education  middle income  \n",
       "4          wedding  middle income  \n",
       "5          housing  middle income  \n",
       "6          housing  middle income  \n",
       "7        education  middle income  \n",
       "8          wedding     low income  \n",
       "9          housing  middle income  "
      ]
     },
     "execution_count": 95,
     "metadata": {},
     "output_type": "execute_result"
    }
   ],
   "source": [
    "df['total_income']=df.total_income.astype(int)\n",
    "df['total_income'].head()\n",
    "df.head(10)"
   ]
  },
  {
   "cell_type": "markdown",
   "metadata": {},
   "source": [
    "All the missing total_income values have been replaced with the median for each entries age group, income type, and education level. I have also changed the data type to integer. "
   ]
  },
  {
   "cell_type": "markdown",
   "metadata": {},
   "source": [
    "###  Restoring values in `days_employed`"
   ]
  },
  {
   "cell_type": "markdown",
   "metadata": {},
   "source": [
    " I am going to do a similar analysis to what I did in for the other missing values. This will help me determine the best fit for the population. Thinking about what may impact ones days employed, age is a big factor as well as education level."
   ]
  },
  {
   "cell_type": "code",
   "execution_count": 64,
   "metadata": {},
   "outputs": [
    {
     "data": {
      "text/html": [
       "<div>\n",
       "<style scoped>\n",
       "    .dataframe tbody tr th:only-of-type {\n",
       "        vertical-align: middle;\n",
       "    }\n",
       "\n",
       "    .dataframe tbody tr th {\n",
       "        vertical-align: top;\n",
       "    }\n",
       "\n",
       "    .dataframe thead tr th {\n",
       "        text-align: left;\n",
       "    }\n",
       "\n",
       "    .dataframe thead tr:last-of-type th {\n",
       "        text-align: right;\n",
       "    }\n",
       "</style>\n",
       "<table border=\"1\" class=\"dataframe\">\n",
       "  <thead>\n",
       "    <tr>\n",
       "      <th></th>\n",
       "      <th>mean</th>\n",
       "      <th>median</th>\n",
       "    </tr>\n",
       "    <tr>\n",
       "      <th></th>\n",
       "      <th>days_employed</th>\n",
       "      <th>days_employed</th>\n",
       "    </tr>\n",
       "    <tr>\n",
       "      <th>age_group</th>\n",
       "      <th></th>\n",
       "      <th></th>\n",
       "    </tr>\n",
       "  </thead>\n",
       "  <tbody>\n",
       "    <tr>\n",
       "      <th>adult</th>\n",
       "      <td>10395.136690</td>\n",
       "      <td>1867.970299</td>\n",
       "    </tr>\n",
       "    <tr>\n",
       "      <th>older adult</th>\n",
       "      <td>197541.560600</td>\n",
       "      <td>333946.445320</td>\n",
       "    </tr>\n",
       "    <tr>\n",
       "      <th>young adult</th>\n",
       "      <td>1925.799317</td>\n",
       "      <td>1046.095163</td>\n",
       "    </tr>\n",
       "  </tbody>\n",
       "</table>\n",
       "</div>"
      ],
      "text/plain": [
       "                      mean         median\n",
       "             days_employed  days_employed\n",
       "age_group                                \n",
       "adult         10395.136690    1867.970299\n",
       "older adult  197541.560600  333946.445320\n",
       "young adult    1925.799317    1046.095163"
      ]
     },
     "execution_count": 64,
     "metadata": {},
     "output_type": "execute_result"
    }
   ],
   "source": [
    "table = pd.pivot_table(data = df_drop,\n",
    "                      index = ['age_group'],\n",
    "                       values = 'days_employed',\n",
    "                       aggfunc = ['mean', 'median']\n",
    "                      )\n",
    "table"
   ]
  },
  {
   "cell_type": "code",
   "execution_count": 65,
   "metadata": {},
   "outputs": [
    {
     "data": {
      "text/html": [
       "<div>\n",
       "<style scoped>\n",
       "    .dataframe tbody tr th:only-of-type {\n",
       "        vertical-align: middle;\n",
       "    }\n",
       "\n",
       "    .dataframe tbody tr th {\n",
       "        vertical-align: top;\n",
       "    }\n",
       "\n",
       "    .dataframe thead tr th {\n",
       "        text-align: left;\n",
       "    }\n",
       "\n",
       "    .dataframe thead tr:last-of-type th {\n",
       "        text-align: right;\n",
       "    }\n",
       "</style>\n",
       "<table border=\"1\" class=\"dataframe\">\n",
       "  <thead>\n",
       "    <tr>\n",
       "      <th></th>\n",
       "      <th>mean</th>\n",
       "      <th>median</th>\n",
       "    </tr>\n",
       "    <tr>\n",
       "      <th></th>\n",
       "      <th>days_employed</th>\n",
       "      <th>days_employed</th>\n",
       "    </tr>\n",
       "    <tr>\n",
       "      <th>gender</th>\n",
       "      <th></th>\n",
       "      <th></th>\n",
       "    </tr>\n",
       "  </thead>\n",
       "  <tbody>\n",
       "    <tr>\n",
       "      <th>F</th>\n",
       "      <td>82474.919277</td>\n",
       "      <td>2540.740460</td>\n",
       "    </tr>\n",
       "    <tr>\n",
       "      <th>M</th>\n",
       "      <td>37176.432951</td>\n",
       "      <td>1667.140839</td>\n",
       "    </tr>\n",
       "  </tbody>\n",
       "</table>\n",
       "</div>"
      ],
      "text/plain": [
       "                mean        median\n",
       "       days_employed days_employed\n",
       "gender                            \n",
       "F       82474.919277   2540.740460\n",
       "M       37176.432951   1667.140839"
      ]
     },
     "execution_count": 65,
     "metadata": {},
     "output_type": "execute_result"
    }
   ],
   "source": [
    "table = pd.pivot_table(data = df_drop,\n",
    "                      index = ['gender'],\n",
    "                       values = 'days_employed',\n",
    "                       aggfunc = ['mean', 'median']\n",
    "                      )\n",
    "table"
   ]
  },
  {
   "cell_type": "code",
   "execution_count": 66,
   "metadata": {},
   "outputs": [
    {
     "data": {
      "text/html": [
       "<div>\n",
       "<style scoped>\n",
       "    .dataframe tbody tr th:only-of-type {\n",
       "        vertical-align: middle;\n",
       "    }\n",
       "\n",
       "    .dataframe tbody tr th {\n",
       "        vertical-align: top;\n",
       "    }\n",
       "\n",
       "    .dataframe thead tr th {\n",
       "        text-align: left;\n",
       "    }\n",
       "\n",
       "    .dataframe thead tr:last-of-type th {\n",
       "        text-align: right;\n",
       "    }\n",
       "</style>\n",
       "<table border=\"1\" class=\"dataframe\">\n",
       "  <thead>\n",
       "    <tr>\n",
       "      <th></th>\n",
       "      <th>mean</th>\n",
       "      <th>median</th>\n",
       "    </tr>\n",
       "    <tr>\n",
       "      <th></th>\n",
       "      <th>days_employed</th>\n",
       "      <th>days_employed</th>\n",
       "    </tr>\n",
       "    <tr>\n",
       "      <th>education</th>\n",
       "      <th></th>\n",
       "      <th></th>\n",
       "    </tr>\n",
       "  </thead>\n",
       "  <tbody>\n",
       "    <tr>\n",
       "      <th>bachelor's degree</th>\n",
       "      <td>42451.577484</td>\n",
       "      <td>1896.569279</td>\n",
       "    </tr>\n",
       "    <tr>\n",
       "      <th>graduate degree</th>\n",
       "      <td>121323.630206</td>\n",
       "      <td>5660.057032</td>\n",
       "    </tr>\n",
       "    <tr>\n",
       "      <th>primary education</th>\n",
       "      <td>130340.426349</td>\n",
       "      <td>3043.933615</td>\n",
       "    </tr>\n",
       "    <tr>\n",
       "      <th>secondary education</th>\n",
       "      <td>76508.592640</td>\n",
       "      <td>2393.978448</td>\n",
       "    </tr>\n",
       "    <tr>\n",
       "      <th>some college</th>\n",
       "      <td>20823.242105</td>\n",
       "      <td>1209.230373</td>\n",
       "    </tr>\n",
       "  </tbody>\n",
       "</table>\n",
       "</div>"
      ],
      "text/plain": [
       "                              mean        median\n",
       "                     days_employed days_employed\n",
       "education                                       \n",
       "bachelor's degree     42451.577484   1896.569279\n",
       "graduate degree      121323.630206   5660.057032\n",
       "primary education    130340.426349   3043.933615\n",
       "secondary education   76508.592640   2393.978448\n",
       "some college          20823.242105   1209.230373"
      ]
     },
     "execution_count": 66,
     "metadata": {},
     "output_type": "execute_result"
    }
   ],
   "source": [
    "table = pd.pivot_table(data = df_drop,\n",
    "                      index = ['education'],\n",
    "                       values = 'days_employed',\n",
    "                       aggfunc = ['mean', 'median']\n",
    "                      )\n",
    "table"
   ]
  },
  {
   "cell_type": "code",
   "execution_count": 67,
   "metadata": {},
   "outputs": [
    {
     "data": {
      "text/html": [
       "<div>\n",
       "<style scoped>\n",
       "    .dataframe tbody tr th:only-of-type {\n",
       "        vertical-align: middle;\n",
       "    }\n",
       "\n",
       "    .dataframe tbody tr th {\n",
       "        vertical-align: top;\n",
       "    }\n",
       "\n",
       "    .dataframe thead tr th {\n",
       "        text-align: left;\n",
       "    }\n",
       "\n",
       "    .dataframe thead tr:last-of-type th {\n",
       "        text-align: right;\n",
       "    }\n",
       "</style>\n",
       "<table border=\"1\" class=\"dataframe\">\n",
       "  <thead>\n",
       "    <tr>\n",
       "      <th></th>\n",
       "      <th>mean</th>\n",
       "      <th>median</th>\n",
       "    </tr>\n",
       "    <tr>\n",
       "      <th></th>\n",
       "      <th>days_employed</th>\n",
       "      <th>days_employed</th>\n",
       "    </tr>\n",
       "    <tr>\n",
       "      <th>income_type</th>\n",
       "      <th></th>\n",
       "      <th></th>\n",
       "    </tr>\n",
       "  </thead>\n",
       "  <tbody>\n",
       "    <tr>\n",
       "      <th>business</th>\n",
       "      <td>2119.512866</td>\n",
       "      <td>1555.993659</td>\n",
       "    </tr>\n",
       "    <tr>\n",
       "      <th>civil servant</th>\n",
       "      <td>3392.119263</td>\n",
       "      <td>2672.903939</td>\n",
       "    </tr>\n",
       "    <tr>\n",
       "      <th>employee</th>\n",
       "      <td>2325.740892</td>\n",
       "      <td>1573.791064</td>\n",
       "    </tr>\n",
       "    <tr>\n",
       "      <th>entrepreneur</th>\n",
       "      <td>520.848083</td>\n",
       "      <td>520.848083</td>\n",
       "    </tr>\n",
       "    <tr>\n",
       "      <th>paternity / maternity leave</th>\n",
       "      <td>3296.759962</td>\n",
       "      <td>3296.759962</td>\n",
       "    </tr>\n",
       "    <tr>\n",
       "      <th>retiree</th>\n",
       "      <td>365037.486121</td>\n",
       "      <td>365269.100414</td>\n",
       "    </tr>\n",
       "    <tr>\n",
       "      <th>student</th>\n",
       "      <td>578.751554</td>\n",
       "      <td>578.751554</td>\n",
       "    </tr>\n",
       "    <tr>\n",
       "      <th>unemployed</th>\n",
       "      <td>366413.652744</td>\n",
       "      <td>366413.652744</td>\n",
       "    </tr>\n",
       "  </tbody>\n",
       "</table>\n",
       "</div>"
      ],
      "text/plain": [
       "                                      mean         median\n",
       "                             days_employed  days_employed\n",
       "income_type                                              \n",
       "business                       2119.512866    1555.993659\n",
       "civil servant                  3392.119263    2672.903939\n",
       "employee                       2325.740892    1573.791064\n",
       "entrepreneur                    520.848083     520.848083\n",
       "paternity / maternity leave    3296.759962    3296.759962\n",
       "retiree                      365037.486121  365269.100414\n",
       "student                         578.751554     578.751554\n",
       "unemployed                   366413.652744  366413.652744"
      ]
     },
     "execution_count": 67,
     "metadata": {},
     "output_type": "execute_result"
    }
   ],
   "source": [
    "table = pd.pivot_table(data = df_drop,\n",
    "                      index = ['income_type'],\n",
    "                       values = 'days_employed',\n",
    "                       aggfunc = ['mean', 'median']\n",
    "                      )\n",
    "table"
   ]
  },
  {
   "cell_type": "markdown",
   "metadata": {},
   "source": [
    "I am going to use the medians for the income type to fill the days employed. What a person reports as their job is a good indicator of how long a person would be employed. Also the distribution of the age group was pretty extreme, I would not feel comfortable filling unknow values with those numbers. Filling with the median helps remove any issues with outliers skewing our distribution. "
   ]
  },
  {
   "cell_type": "markdown",
   "metadata": {},
   "source": [
    "<div class=\"alert alert-block alert-success\">\n",
    "<b>Reviewer's comment</b> <a class=\"tocSkip\"></a>\n",
    "\n",
    "Correct.\n",
    "</div>"
   ]
  },
  {
   "cell_type": "code",
   "execution_count": 68,
   "metadata": {},
   "outputs": [],
   "source": [
    "df['days_employed'] = (df.groupby('income_type')['days_employed']\n",
    "                      .transform(lambda x: x.fillna(x.median())))\n"
   ]
  },
  {
   "cell_type": "code",
   "execution_count": 69,
   "metadata": {},
   "outputs": [],
   "source": [
    "df['days_employed']=df['days_employed'].astype('int')"
   ]
  },
  {
   "cell_type": "markdown",
   "metadata": {},
   "source": [
    "Now that I have resolved the NaN values I am able to convert the data type from float to integer."
   ]
  },
  {
   "cell_type": "code",
   "execution_count": 70,
   "metadata": {},
   "outputs": [
    {
     "data": {
      "text/plain": [
       "1573      1067\n",
       "1555       497\n",
       "365269     380\n",
       "2672       146\n",
       "327         16\n",
       "          ... \n",
       "360640       1\n",
       "391558       1\n",
       "395796       1\n",
       "4475         1\n",
       "2049         1\n",
       "Name: days_employed, Length: 9041, dtype: int64"
      ]
     },
     "execution_count": 70,
     "metadata": {},
     "output_type": "execute_result"
    }
   ],
   "source": [
    "\n",
    "df['days_employed'].value_counts()"
   ]
  },
  {
   "cell_type": "code",
   "execution_count": 71,
   "metadata": {},
   "outputs": [
    {
     "name": "stdout",
     "output_type": "stream",
     "text": [
      "<class 'pandas.core.frame.DataFrame'>\n",
      "RangeIndex: 21230 entries, 0 to 21229\n",
      "Data columns (total 14 columns):\n",
      " #   Column            Non-Null Count  Dtype  \n",
      "---  ------            --------------  -----  \n",
      " 0   index             21230 non-null  int64  \n",
      " 1   children          21230 non-null  int64  \n",
      " 2   days_employed     21230 non-null  int64  \n",
      " 3   dob_years         21230 non-null  int64  \n",
      " 4   education         21230 non-null  object \n",
      " 5   education_id      21230 non-null  int64  \n",
      " 6   family_status     21230 non-null  object \n",
      " 7   family_status_id  21230 non-null  int64  \n",
      " 8   gender            21230 non-null  object \n",
      " 9   income_type       21230 non-null  object \n",
      " 10  debt              21230 non-null  int64  \n",
      " 11  total_income      21230 non-null  float64\n",
      " 12  purpose           21230 non-null  object \n",
      " 13  age_group         21230 non-null  object \n",
      "dtypes: float64(1), int64(7), object(6)\n",
      "memory usage: 2.3+ MB\n"
     ]
    }
   ],
   "source": [
    "df.info()"
   ]
  },
  {
   "cell_type": "markdown",
   "metadata": {},
   "source": [
    "All the missing values have been filled. "
   ]
  },
  {
   "cell_type": "markdown",
   "metadata": {},
   "source": [
    "## Categorization of data\n",
    "\n",
    " To help me complete my task I will categorize the data based off of the categories of interest to the bank. These are: debt, children, family status, and purpose for the loan."
   ]
  },
  {
   "cell_type": "code",
   "execution_count": 72,
   "metadata": {
    "scrolled": true
   },
   "outputs": [
    {
     "data": {
      "text/html": [
       "<div>\n",
       "<style scoped>\n",
       "    .dataframe tbody tr th:only-of-type {\n",
       "        vertical-align: middle;\n",
       "    }\n",
       "\n",
       "    .dataframe tbody tr th {\n",
       "        vertical-align: top;\n",
       "    }\n",
       "\n",
       "    .dataframe thead th {\n",
       "        text-align: right;\n",
       "    }\n",
       "</style>\n",
       "<table border=\"1\" class=\"dataframe\">\n",
       "  <thead>\n",
       "    <tr style=\"text-align: right;\">\n",
       "      <th></th>\n",
       "      <th>family_status</th>\n",
       "      <th>children</th>\n",
       "      <th>debt</th>\n",
       "      <th>purpose</th>\n",
       "    </tr>\n",
       "  </thead>\n",
       "  <tbody>\n",
       "    <tr>\n",
       "      <th>0</th>\n",
       "      <td>married</td>\n",
       "      <td>1</td>\n",
       "      <td>0</td>\n",
       "      <td>purchase of the house</td>\n",
       "    </tr>\n",
       "    <tr>\n",
       "      <th>1</th>\n",
       "      <td>married</td>\n",
       "      <td>1</td>\n",
       "      <td>0</td>\n",
       "      <td>car purchase</td>\n",
       "    </tr>\n",
       "    <tr>\n",
       "      <th>2</th>\n",
       "      <td>married</td>\n",
       "      <td>0</td>\n",
       "      <td>0</td>\n",
       "      <td>purchase of the house</td>\n",
       "    </tr>\n",
       "    <tr>\n",
       "      <th>3</th>\n",
       "      <td>married</td>\n",
       "      <td>3</td>\n",
       "      <td>0</td>\n",
       "      <td>supplementary education</td>\n",
       "    </tr>\n",
       "    <tr>\n",
       "      <th>4</th>\n",
       "      <td>civil partnership</td>\n",
       "      <td>0</td>\n",
       "      <td>0</td>\n",
       "      <td>to have a wedding</td>\n",
       "    </tr>\n",
       "    <tr>\n",
       "      <th>5</th>\n",
       "      <td>civil partnership</td>\n",
       "      <td>0</td>\n",
       "      <td>0</td>\n",
       "      <td>purchase of the house</td>\n",
       "    </tr>\n",
       "    <tr>\n",
       "      <th>6</th>\n",
       "      <td>married</td>\n",
       "      <td>0</td>\n",
       "      <td>0</td>\n",
       "      <td>housing transactions</td>\n",
       "    </tr>\n",
       "    <tr>\n",
       "      <th>7</th>\n",
       "      <td>married</td>\n",
       "      <td>0</td>\n",
       "      <td>0</td>\n",
       "      <td>education</td>\n",
       "    </tr>\n",
       "    <tr>\n",
       "      <th>8</th>\n",
       "      <td>civil partnership</td>\n",
       "      <td>2</td>\n",
       "      <td>0</td>\n",
       "      <td>having a wedding</td>\n",
       "    </tr>\n",
       "    <tr>\n",
       "      <th>9</th>\n",
       "      <td>married</td>\n",
       "      <td>0</td>\n",
       "      <td>0</td>\n",
       "      <td>purchase of the house for my family</td>\n",
       "    </tr>\n",
       "    <tr>\n",
       "      <th>10</th>\n",
       "      <td>married</td>\n",
       "      <td>2</td>\n",
       "      <td>0</td>\n",
       "      <td>buy real estate</td>\n",
       "    </tr>\n",
       "    <tr>\n",
       "      <th>11</th>\n",
       "      <td>married</td>\n",
       "      <td>0</td>\n",
       "      <td>0</td>\n",
       "      <td>buy commercial real estate</td>\n",
       "    </tr>\n",
       "    <tr>\n",
       "      <th>12</th>\n",
       "      <td>civil partnership</td>\n",
       "      <td>0</td>\n",
       "      <td>0</td>\n",
       "      <td>to have a wedding</td>\n",
       "    </tr>\n",
       "    <tr>\n",
       "      <th>13</th>\n",
       "      <td>married</td>\n",
       "      <td>0</td>\n",
       "      <td>0</td>\n",
       "      <td>car purchase</td>\n",
       "    </tr>\n",
       "    <tr>\n",
       "      <th>14</th>\n",
       "      <td>civil partnership</td>\n",
       "      <td>0</td>\n",
       "      <td>1</td>\n",
       "      <td>buy residential real estate</td>\n",
       "    </tr>\n",
       "  </tbody>\n",
       "</table>\n",
       "</div>"
      ],
      "text/plain": [
       "        family_status  children  debt                              purpose\n",
       "0             married         1     0                purchase of the house\n",
       "1             married         1     0                         car purchase\n",
       "2             married         0     0                purchase of the house\n",
       "3             married         3     0              supplementary education\n",
       "4   civil partnership         0     0                    to have a wedding\n",
       "5   civil partnership         0     0                purchase of the house\n",
       "6             married         0     0                 housing transactions\n",
       "7             married         0     0                            education\n",
       "8   civil partnership         2     0                     having a wedding\n",
       "9             married         0     0  purchase of the house for my family\n",
       "10            married         2     0                      buy real estate\n",
       "11            married         0     0           buy commercial real estate\n",
       "12  civil partnership         0     0                    to have a wedding\n",
       "13            married         0     0                         car purchase\n",
       "14  civil partnership         0     1          buy residential real estate"
      ]
     },
     "execution_count": 72,
     "metadata": {},
     "output_type": "execute_result"
    }
   ],
   "source": [
    "df_cat= df[['family_status','children','debt','purpose']]\n",
    "\n",
    "df_cat.head(15)"
   ]
  },
  {
   "cell_type": "markdown",
   "metadata": {},
   "source": [
    "I can see there is a need for a few category in the purpose column. I will find the unique values to see which categories I will make."
   ]
  },
  {
   "cell_type": "code",
   "execution_count": 73,
   "metadata": {},
   "outputs": [
    {
     "data": {
      "text/plain": [
       "array(['purchase of the house', 'car purchase', 'supplementary education',\n",
       "       'to have a wedding', 'housing transactions', 'education',\n",
       "       'having a wedding', 'purchase of the house for my family',\n",
       "       'buy real estate', 'buy commercial real estate',\n",
       "       'buy residential real estate', 'construction of own property',\n",
       "       'property', 'building a property', 'buying a second-hand car',\n",
       "       'buying my own car', 'transactions with commercial real estate',\n",
       "       'building a real estate', 'housing',\n",
       "       'transactions with my real estate', 'cars', 'to become educated',\n",
       "       'second-hand car purchase', 'getting an education', 'car',\n",
       "       'wedding ceremony', 'to get a supplementary education',\n",
       "       'purchase of my own house', 'real estate transactions',\n",
       "       'getting higher education', 'to own a car', 'purchase of a car',\n",
       "       'profile education', 'university education',\n",
       "       'buying property for renting out', 'to buy a car',\n",
       "       'housing renovation', 'going to university'], dtype=object)"
      ]
     },
     "execution_count": 73,
     "metadata": {},
     "output_type": "execute_result"
    }
   ],
   "source": [
    "df_cat.purpose.unique()\n"
   ]
  },
  {
   "cell_type": "markdown",
   "metadata": {},
   "source": [
    " I can see I need a category for real estate, housing, education, car purchase, and  wedding. lets check the rest of the columns before moving on. "
   ]
  },
  {
   "cell_type": "code",
   "execution_count": 74,
   "metadata": {},
   "outputs": [
    {
     "data": {
      "text/plain": [
       "array(['married', 'civil partnership', 'widow / widower', 'divorced',\n",
       "       'unmarried'], dtype=object)"
      ]
     },
     "execution_count": 74,
     "metadata": {},
     "output_type": "execute_result"
    }
   ],
   "source": [
    "df_cat.family_status.unique()"
   ]
  },
  {
   "cell_type": "code",
   "execution_count": 75,
   "metadata": {},
   "outputs": [
    {
     "data": {
      "text/plain": [
       "array([0, 1])"
      ]
     },
     "execution_count": 75,
     "metadata": {},
     "output_type": "execute_result"
    }
   ],
   "source": [
    "df_cat.debt.unique()"
   ]
  },
  {
   "cell_type": "code",
   "execution_count": 76,
   "metadata": {},
   "outputs": [
    {
     "data": {
      "text/plain": [
       "array([1, 0, 3, 2, 4, 5])"
      ]
     },
     "execution_count": 76,
     "metadata": {},
     "output_type": "execute_result"
    }
   ],
   "source": [
    "df_cat.children.unique()"
   ]
  },
  {
   "cell_type": "markdown",
   "metadata": {},
   "source": [
    "I am seeing that I can make categories for the purposes for the loan requests. I will make a new column for these catagories. I will make a category for education, wedding, car, real estate, house"
   ]
  },
  {
   "cell_type": "code",
   "execution_count": 77,
   "metadata": {},
   "outputs": [
    {
     "data": {
      "text/plain": [
       "wedding ceremony                            785\n",
       "having a wedding                            759\n",
       "to have a wedding                           755\n",
       "real estate transactions                    669\n",
       "buy commercial real estate                  655\n",
       "buying property for renting out             647\n",
       "transactions with commercial real estate    643\n",
       "housing transactions                        641\n",
       "purchase of the house for my family         636\n",
       "housing                                     635\n",
       "purchase of the house                       634\n",
       "property                                    627\n",
       "construction of own property                626\n",
       "transactions with my real estate            623\n",
       "building a property                         619\n",
       "purchase of my own house                    618\n",
       "building a real estate                      617\n",
       "buy real estate                             612\n",
       "housing renovation                          602\n",
       "buy residential real estate                 599\n",
       "buying my own car                           501\n",
       "going to university                         493\n",
       "car                                         487\n",
       "second-hand car purchase                    479\n",
       "cars                                        474\n",
       "buying a second-hand car                    471\n",
       "to own a car                                470\n",
       "to buy a car                                465\n",
       "car purchase                                457\n",
       "purchase of a car                           454\n",
       "supplementary education                     453\n",
       "university education                        443\n",
       "to get a supplementary education            442\n",
       "getting an education                        439\n",
       "education                                   439\n",
       "profile education                           431\n",
       "getting higher education                    423\n",
       "to become educated                          407\n",
       "Name: purpose, dtype: int64"
      ]
     },
     "execution_count": 77,
     "metadata": {},
     "output_type": "execute_result"
    }
   ],
   "source": [
    "df['purpose'].value_counts()"
   ]
  },
  {
   "cell_type": "code",
   "execution_count": 78,
   "metadata": {},
   "outputs": [],
   "source": [
    "def purpose_category(purpose):\n",
    "    if 'wedding'in purpose:\n",
    "        return 'wedding'\n",
    "    if 'real estate'in purpose:\n",
    "        return 'real estate'\n",
    "    if 'car' in purpose:\n",
    "        return 'car transaction'\n",
    "    if 'education'in purpose:\n",
    "        return 'education'\n",
    "    if 'property' in purpose:\n",
    "        return 'real estate'\n",
    "    if 'house' or 'housing' in purpose:\n",
    "        return 'housing'"
   ]
  },
  {
   "cell_type": "code",
   "execution_count": 79,
   "metadata": {},
   "outputs": [],
   "source": [
    "df['purpose_category']= df['purpose'].apply(purpose_category)\n"
   ]
  },
  {
   "cell_type": "code",
   "execution_count": 80,
   "metadata": {
    "scrolled": true
   },
   "outputs": [
    {
     "data": {
      "text/plain": [
       "21230"
      ]
     },
     "execution_count": 80,
     "metadata": {},
     "output_type": "execute_result"
    }
   ],
   "source": [
    "df['purpose_category'].count()"
   ]
  },
  {
   "cell_type": "code",
   "execution_count": 81,
   "metadata": {},
   "outputs": [
    {
     "data": {
      "text/plain": [
       "real estate        6937\n",
       "housing            4666\n",
       "car transaction    4258\n",
       "education          3070\n",
       "wedding            2299\n",
       "Name: purpose_category, dtype: int64"
      ]
     },
     "execution_count": 81,
     "metadata": {},
     "output_type": "execute_result"
    }
   ],
   "source": [
    "df['purpose_category'].value_counts()"
   ]
  },
  {
   "cell_type": "markdown",
   "metadata": {},
   "source": [
    "<div class=\"alert alert-block alert-success\">\n",
    "<b>Reviewer's comment</b> <a class=\"tocSkip\"></a>\n",
    "\n",
    "Well done!\n",
    "</div>"
   ]
  },
  {
   "cell_type": "code",
   "execution_count": 82,
   "metadata": {},
   "outputs": [
    {
     "data": {
      "text/html": [
       "<div>\n",
       "<style scoped>\n",
       "    .dataframe tbody tr th:only-of-type {\n",
       "        vertical-align: middle;\n",
       "    }\n",
       "\n",
       "    .dataframe tbody tr th {\n",
       "        vertical-align: top;\n",
       "    }\n",
       "\n",
       "    .dataframe thead th {\n",
       "        text-align: right;\n",
       "    }\n",
       "</style>\n",
       "<table border=\"1\" class=\"dataframe\">\n",
       "  <thead>\n",
       "    <tr style=\"text-align: right;\">\n",
       "      <th></th>\n",
       "      <th>index</th>\n",
       "      <th>children</th>\n",
       "      <th>days_employed</th>\n",
       "      <th>dob_years</th>\n",
       "      <th>education</th>\n",
       "      <th>education_id</th>\n",
       "      <th>family_status</th>\n",
       "      <th>family_status_id</th>\n",
       "      <th>gender</th>\n",
       "      <th>income_type</th>\n",
       "      <th>debt</th>\n",
       "      <th>total_income</th>\n",
       "      <th>purpose</th>\n",
       "      <th>age_group</th>\n",
       "      <th>purpose_category</th>\n",
       "    </tr>\n",
       "  </thead>\n",
       "  <tbody>\n",
       "    <tr>\n",
       "      <th>0</th>\n",
       "      <td>0</td>\n",
       "      <td>1</td>\n",
       "      <td>8437</td>\n",
       "      <td>42</td>\n",
       "      <td>bachelor's degree</td>\n",
       "      <td>0</td>\n",
       "      <td>married</td>\n",
       "      <td>0</td>\n",
       "      <td>F</td>\n",
       "      <td>employee</td>\n",
       "      <td>0</td>\n",
       "      <td>40620.102</td>\n",
       "      <td>purchase of the house</td>\n",
       "      <td>adult</td>\n",
       "      <td>housing</td>\n",
       "    </tr>\n",
       "    <tr>\n",
       "      <th>1</th>\n",
       "      <td>1</td>\n",
       "      <td>1</td>\n",
       "      <td>4024</td>\n",
       "      <td>36</td>\n",
       "      <td>secondary education</td>\n",
       "      <td>1</td>\n",
       "      <td>married</td>\n",
       "      <td>0</td>\n",
       "      <td>F</td>\n",
       "      <td>employee</td>\n",
       "      <td>0</td>\n",
       "      <td>17932.802</td>\n",
       "      <td>car purchase</td>\n",
       "      <td>adult</td>\n",
       "      <td>car transaction</td>\n",
       "    </tr>\n",
       "    <tr>\n",
       "      <th>2</th>\n",
       "      <td>2</td>\n",
       "      <td>0</td>\n",
       "      <td>5623</td>\n",
       "      <td>33</td>\n",
       "      <td>secondary education</td>\n",
       "      <td>1</td>\n",
       "      <td>married</td>\n",
       "      <td>0</td>\n",
       "      <td>M</td>\n",
       "      <td>employee</td>\n",
       "      <td>0</td>\n",
       "      <td>23341.752</td>\n",
       "      <td>purchase of the house</td>\n",
       "      <td>adult</td>\n",
       "      <td>housing</td>\n",
       "    </tr>\n",
       "    <tr>\n",
       "      <th>3</th>\n",
       "      <td>3</td>\n",
       "      <td>3</td>\n",
       "      <td>4124</td>\n",
       "      <td>32</td>\n",
       "      <td>secondary education</td>\n",
       "      <td>1</td>\n",
       "      <td>married</td>\n",
       "      <td>0</td>\n",
       "      <td>M</td>\n",
       "      <td>employee</td>\n",
       "      <td>0</td>\n",
       "      <td>42820.568</td>\n",
       "      <td>supplementary education</td>\n",
       "      <td>adult</td>\n",
       "      <td>education</td>\n",
       "    </tr>\n",
       "    <tr>\n",
       "      <th>4</th>\n",
       "      <td>4</td>\n",
       "      <td>0</td>\n",
       "      <td>340266</td>\n",
       "      <td>53</td>\n",
       "      <td>secondary education</td>\n",
       "      <td>1</td>\n",
       "      <td>civil partnership</td>\n",
       "      <td>1</td>\n",
       "      <td>F</td>\n",
       "      <td>retiree</td>\n",
       "      <td>0</td>\n",
       "      <td>25378.572</td>\n",
       "      <td>to have a wedding</td>\n",
       "      <td>older adult</td>\n",
       "      <td>wedding</td>\n",
       "    </tr>\n",
       "    <tr>\n",
       "      <th>5</th>\n",
       "      <td>5</td>\n",
       "      <td>0</td>\n",
       "      <td>926</td>\n",
       "      <td>27</td>\n",
       "      <td>bachelor's degree</td>\n",
       "      <td>0</td>\n",
       "      <td>civil partnership</td>\n",
       "      <td>1</td>\n",
       "      <td>M</td>\n",
       "      <td>business</td>\n",
       "      <td>0</td>\n",
       "      <td>40922.170</td>\n",
       "      <td>purchase of the house</td>\n",
       "      <td>young adult</td>\n",
       "      <td>housing</td>\n",
       "    </tr>\n",
       "    <tr>\n",
       "      <th>6</th>\n",
       "      <td>6</td>\n",
       "      <td>0</td>\n",
       "      <td>2879</td>\n",
       "      <td>43</td>\n",
       "      <td>bachelor's degree</td>\n",
       "      <td>0</td>\n",
       "      <td>married</td>\n",
       "      <td>0</td>\n",
       "      <td>F</td>\n",
       "      <td>business</td>\n",
       "      <td>0</td>\n",
       "      <td>38484.156</td>\n",
       "      <td>housing transactions</td>\n",
       "      <td>adult</td>\n",
       "      <td>housing</td>\n",
       "    </tr>\n",
       "    <tr>\n",
       "      <th>7</th>\n",
       "      <td>7</td>\n",
       "      <td>0</td>\n",
       "      <td>152</td>\n",
       "      <td>50</td>\n",
       "      <td>secondary education</td>\n",
       "      <td>1</td>\n",
       "      <td>married</td>\n",
       "      <td>0</td>\n",
       "      <td>M</td>\n",
       "      <td>employee</td>\n",
       "      <td>0</td>\n",
       "      <td>21731.829</td>\n",
       "      <td>education</td>\n",
       "      <td>adult</td>\n",
       "      <td>education</td>\n",
       "    </tr>\n",
       "    <tr>\n",
       "      <th>8</th>\n",
       "      <td>8</td>\n",
       "      <td>2</td>\n",
       "      <td>6929</td>\n",
       "      <td>35</td>\n",
       "      <td>bachelor's degree</td>\n",
       "      <td>0</td>\n",
       "      <td>civil partnership</td>\n",
       "      <td>1</td>\n",
       "      <td>F</td>\n",
       "      <td>employee</td>\n",
       "      <td>0</td>\n",
       "      <td>15337.093</td>\n",
       "      <td>having a wedding</td>\n",
       "      <td>adult</td>\n",
       "      <td>wedding</td>\n",
       "    </tr>\n",
       "    <tr>\n",
       "      <th>9</th>\n",
       "      <td>9</td>\n",
       "      <td>0</td>\n",
       "      <td>2188</td>\n",
       "      <td>41</td>\n",
       "      <td>secondary education</td>\n",
       "      <td>1</td>\n",
       "      <td>married</td>\n",
       "      <td>0</td>\n",
       "      <td>M</td>\n",
       "      <td>employee</td>\n",
       "      <td>0</td>\n",
       "      <td>23108.150</td>\n",
       "      <td>purchase of the house for my family</td>\n",
       "      <td>adult</td>\n",
       "      <td>housing</td>\n",
       "    </tr>\n",
       "    <tr>\n",
       "      <th>10</th>\n",
       "      <td>10</td>\n",
       "      <td>2</td>\n",
       "      <td>4171</td>\n",
       "      <td>36</td>\n",
       "      <td>bachelor's degree</td>\n",
       "      <td>0</td>\n",
       "      <td>married</td>\n",
       "      <td>0</td>\n",
       "      <td>M</td>\n",
       "      <td>business</td>\n",
       "      <td>0</td>\n",
       "      <td>18230.959</td>\n",
       "      <td>buy real estate</td>\n",
       "      <td>adult</td>\n",
       "      <td>real estate</td>\n",
       "    </tr>\n",
       "    <tr>\n",
       "      <th>11</th>\n",
       "      <td>11</td>\n",
       "      <td>0</td>\n",
       "      <td>792</td>\n",
       "      <td>40</td>\n",
       "      <td>secondary education</td>\n",
       "      <td>1</td>\n",
       "      <td>married</td>\n",
       "      <td>0</td>\n",
       "      <td>F</td>\n",
       "      <td>employee</td>\n",
       "      <td>0</td>\n",
       "      <td>12331.077</td>\n",
       "      <td>buy commercial real estate</td>\n",
       "      <td>adult</td>\n",
       "      <td>real estate</td>\n",
       "    </tr>\n",
       "    <tr>\n",
       "      <th>12</th>\n",
       "      <td>12</td>\n",
       "      <td>0</td>\n",
       "      <td>365269</td>\n",
       "      <td>65</td>\n",
       "      <td>secondary education</td>\n",
       "      <td>1</td>\n",
       "      <td>civil partnership</td>\n",
       "      <td>1</td>\n",
       "      <td>M</td>\n",
       "      <td>retiree</td>\n",
       "      <td>0</td>\n",
       "      <td>18259.176</td>\n",
       "      <td>to have a wedding</td>\n",
       "      <td>older adult</td>\n",
       "      <td>wedding</td>\n",
       "    </tr>\n",
       "    <tr>\n",
       "      <th>13</th>\n",
       "      <td>13</td>\n",
       "      <td>0</td>\n",
       "      <td>1846</td>\n",
       "      <td>54</td>\n",
       "      <td>some college</td>\n",
       "      <td>2</td>\n",
       "      <td>married</td>\n",
       "      <td>0</td>\n",
       "      <td>F</td>\n",
       "      <td>employee</td>\n",
       "      <td>0</td>\n",
       "      <td>20873.317</td>\n",
       "      <td>car purchase</td>\n",
       "      <td>older adult</td>\n",
       "      <td>car transaction</td>\n",
       "    </tr>\n",
       "    <tr>\n",
       "      <th>14</th>\n",
       "      <td>14</td>\n",
       "      <td>0</td>\n",
       "      <td>1844</td>\n",
       "      <td>56</td>\n",
       "      <td>bachelor's degree</td>\n",
       "      <td>0</td>\n",
       "      <td>civil partnership</td>\n",
       "      <td>1</td>\n",
       "      <td>F</td>\n",
       "      <td>business</td>\n",
       "      <td>1</td>\n",
       "      <td>26420.466</td>\n",
       "      <td>buy residential real estate</td>\n",
       "      <td>older adult</td>\n",
       "      <td>real estate</td>\n",
       "    </tr>\n",
       "    <tr>\n",
       "      <th>15</th>\n",
       "      <td>15</td>\n",
       "      <td>1</td>\n",
       "      <td>972</td>\n",
       "      <td>26</td>\n",
       "      <td>secondary education</td>\n",
       "      <td>1</td>\n",
       "      <td>married</td>\n",
       "      <td>0</td>\n",
       "      <td>F</td>\n",
       "      <td>employee</td>\n",
       "      <td>0</td>\n",
       "      <td>18691.345</td>\n",
       "      <td>construction of own property</td>\n",
       "      <td>young adult</td>\n",
       "      <td>real estate</td>\n",
       "    </tr>\n",
       "    <tr>\n",
       "      <th>16</th>\n",
       "      <td>16</td>\n",
       "      <td>0</td>\n",
       "      <td>1719</td>\n",
       "      <td>35</td>\n",
       "      <td>secondary education</td>\n",
       "      <td>1</td>\n",
       "      <td>married</td>\n",
       "      <td>0</td>\n",
       "      <td>F</td>\n",
       "      <td>employee</td>\n",
       "      <td>0</td>\n",
       "      <td>46272.433</td>\n",
       "      <td>property</td>\n",
       "      <td>adult</td>\n",
       "      <td>real estate</td>\n",
       "    </tr>\n",
       "    <tr>\n",
       "      <th>17</th>\n",
       "      <td>17</td>\n",
       "      <td>0</td>\n",
       "      <td>2369</td>\n",
       "      <td>33</td>\n",
       "      <td>bachelor's degree</td>\n",
       "      <td>0</td>\n",
       "      <td>civil partnership</td>\n",
       "      <td>1</td>\n",
       "      <td>M</td>\n",
       "      <td>employee</td>\n",
       "      <td>0</td>\n",
       "      <td>14465.694</td>\n",
       "      <td>building a property</td>\n",
       "      <td>adult</td>\n",
       "      <td>real estate</td>\n",
       "    </tr>\n",
       "    <tr>\n",
       "      <th>18</th>\n",
       "      <td>18</td>\n",
       "      <td>0</td>\n",
       "      <td>400281</td>\n",
       "      <td>53</td>\n",
       "      <td>secondary education</td>\n",
       "      <td>1</td>\n",
       "      <td>widow / widower</td>\n",
       "      <td>2</td>\n",
       "      <td>F</td>\n",
       "      <td>retiree</td>\n",
       "      <td>0</td>\n",
       "      <td>9091.804</td>\n",
       "      <td>buying a second-hand car</td>\n",
       "      <td>older adult</td>\n",
       "      <td>car transaction</td>\n",
       "    </tr>\n",
       "    <tr>\n",
       "      <th>19</th>\n",
       "      <td>19</td>\n",
       "      <td>0</td>\n",
       "      <td>10038</td>\n",
       "      <td>48</td>\n",
       "      <td>secondary education</td>\n",
       "      <td>1</td>\n",
       "      <td>divorced</td>\n",
       "      <td>3</td>\n",
       "      <td>F</td>\n",
       "      <td>employee</td>\n",
       "      <td>0</td>\n",
       "      <td>38852.977</td>\n",
       "      <td>buying my own car</td>\n",
       "      <td>adult</td>\n",
       "      <td>car transaction</td>\n",
       "    </tr>\n",
       "  </tbody>\n",
       "</table>\n",
       "</div>"
      ],
      "text/plain": [
       "    index  children  days_employed  dob_years            education  \\\n",
       "0       0         1           8437         42    bachelor's degree   \n",
       "1       1         1           4024         36  secondary education   \n",
       "2       2         0           5623         33  secondary education   \n",
       "3       3         3           4124         32  secondary education   \n",
       "4       4         0         340266         53  secondary education   \n",
       "5       5         0            926         27    bachelor's degree   \n",
       "6       6         0           2879         43    bachelor's degree   \n",
       "7       7         0            152         50  secondary education   \n",
       "8       8         2           6929         35    bachelor's degree   \n",
       "9       9         0           2188         41  secondary education   \n",
       "10     10         2           4171         36    bachelor's degree   \n",
       "11     11         0            792         40  secondary education   \n",
       "12     12         0         365269         65  secondary education   \n",
       "13     13         0           1846         54         some college   \n",
       "14     14         0           1844         56    bachelor's degree   \n",
       "15     15         1            972         26  secondary education   \n",
       "16     16         0           1719         35  secondary education   \n",
       "17     17         0           2369         33    bachelor's degree   \n",
       "18     18         0         400281         53  secondary education   \n",
       "19     19         0          10038         48  secondary education   \n",
       "\n",
       "    education_id      family_status  family_status_id gender income_type  \\\n",
       "0              0            married                 0      F    employee   \n",
       "1              1            married                 0      F    employee   \n",
       "2              1            married                 0      M    employee   \n",
       "3              1            married                 0      M    employee   \n",
       "4              1  civil partnership                 1      F     retiree   \n",
       "5              0  civil partnership                 1      M    business   \n",
       "6              0            married                 0      F    business   \n",
       "7              1            married                 0      M    employee   \n",
       "8              0  civil partnership                 1      F    employee   \n",
       "9              1            married                 0      M    employee   \n",
       "10             0            married                 0      M    business   \n",
       "11             1            married                 0      F    employee   \n",
       "12             1  civil partnership                 1      M     retiree   \n",
       "13             2            married                 0      F    employee   \n",
       "14             0  civil partnership                 1      F    business   \n",
       "15             1            married                 0      F    employee   \n",
       "16             1            married                 0      F    employee   \n",
       "17             0  civil partnership                 1      M    employee   \n",
       "18             1    widow / widower                 2      F     retiree   \n",
       "19             1           divorced                 3      F    employee   \n",
       "\n",
       "    debt  total_income                              purpose    age_group  \\\n",
       "0      0     40620.102                purchase of the house        adult   \n",
       "1      0     17932.802                         car purchase        adult   \n",
       "2      0     23341.752                purchase of the house        adult   \n",
       "3      0     42820.568              supplementary education        adult   \n",
       "4      0     25378.572                    to have a wedding  older adult   \n",
       "5      0     40922.170                purchase of the house  young adult   \n",
       "6      0     38484.156                 housing transactions        adult   \n",
       "7      0     21731.829                            education        adult   \n",
       "8      0     15337.093                     having a wedding        adult   \n",
       "9      0     23108.150  purchase of the house for my family        adult   \n",
       "10     0     18230.959                      buy real estate        adult   \n",
       "11     0     12331.077           buy commercial real estate        adult   \n",
       "12     0     18259.176                    to have a wedding  older adult   \n",
       "13     0     20873.317                         car purchase  older adult   \n",
       "14     1     26420.466          buy residential real estate  older adult   \n",
       "15     0     18691.345         construction of own property  young adult   \n",
       "16     0     46272.433                             property        adult   \n",
       "17     0     14465.694                  building a property        adult   \n",
       "18     0      9091.804             buying a second-hand car  older adult   \n",
       "19     0     38852.977                    buying my own car        adult   \n",
       "\n",
       "   purpose_category  \n",
       "0           housing  \n",
       "1   car transaction  \n",
       "2           housing  \n",
       "3         education  \n",
       "4           wedding  \n",
       "5           housing  \n",
       "6           housing  \n",
       "7         education  \n",
       "8           wedding  \n",
       "9           housing  \n",
       "10      real estate  \n",
       "11      real estate  \n",
       "12          wedding  \n",
       "13  car transaction  \n",
       "14      real estate  \n",
       "15      real estate  \n",
       "16      real estate  \n",
       "17      real estate  \n",
       "18  car transaction  \n",
       "19  car transaction  "
      ]
     },
     "execution_count": 82,
     "metadata": {},
     "output_type": "execute_result"
    }
   ],
   "source": [
    "df.head(20)"
   ]
  },
  {
   "cell_type": "code",
   "execution_count": 83,
   "metadata": {},
   "outputs": [
    {
     "data": {
      "text/plain": [
       "14398      3306.762\n",
       "12846      3392.845\n",
       "15963      3418.824\n",
       "1581       3471.216\n",
       "14095      3503.298\n",
       "            ...    \n",
       "16953    273809.483\n",
       "20526    274402.943\n",
       "9068     276204.162\n",
       "19340    352136.354\n",
       "12257    362496.645\n",
       "Name: total_income, Length: 21230, dtype: float64"
      ]
     },
     "execution_count": 83,
     "metadata": {},
     "output_type": "execute_result"
    }
   ],
   "source": [
    "df['total_income'].sort_values()"
   ]
  },
  {
   "cell_type": "code",
   "execution_count": 84,
   "metadata": {},
   "outputs": [
    {
     "data": {
      "text/plain": [
       "26489.032407842675"
      ]
     },
     "execution_count": 84,
     "metadata": {},
     "output_type": "execute_result"
    }
   ],
   "source": [
    "df['total_income'].mean()"
   ]
  },
  {
   "cell_type": "code",
   "execution_count": 85,
   "metadata": {},
   "outputs": [
    {
     "data": {
      "text/plain": [
       "0    22166.627\n",
       "dtype: float64"
      ]
     },
     "execution_count": 85,
     "metadata": {},
     "output_type": "execute_result"
    }
   ],
   "source": [
    "df['total_income'].mode()"
   ]
  },
  {
   "cell_type": "code",
   "execution_count": 86,
   "metadata": {},
   "outputs": [
    {
     "data": {
      "text/plain": [
       "22925.296"
      ]
     },
     "execution_count": 86,
     "metadata": {},
     "output_type": "execute_result"
    }
   ],
   "source": [
    "df['total_income'].median()"
   ]
  },
  {
   "cell_type": "markdown",
   "metadata": {},
   "source": [
    "based off of these ranges I will do less than 20000 total income as 'low income'\n",
    "20000 to 100000 as 'middle income' and above 100000 as 'high income'."
   ]
  },
  {
   "cell_type": "code",
   "execution_count": 87,
   "metadata": {},
   "outputs": [],
   "source": [
    "def income_level(total_income):\n",
    "    if total_income < 20000:\n",
    "        return 'low income'\n",
    "    if 20000 < total_income < 100000:\n",
    "        return 'middle income'\n",
    "    return 'high income'"
   ]
  },
  {
   "cell_type": "code",
   "execution_count": 88,
   "metadata": {},
   "outputs": [
    {
     "data": {
      "text/html": [
       "<div>\n",
       "<style scoped>\n",
       "    .dataframe tbody tr th:only-of-type {\n",
       "        vertical-align: middle;\n",
       "    }\n",
       "\n",
       "    .dataframe tbody tr th {\n",
       "        vertical-align: top;\n",
       "    }\n",
       "\n",
       "    .dataframe thead th {\n",
       "        text-align: right;\n",
       "    }\n",
       "</style>\n",
       "<table border=\"1\" class=\"dataframe\">\n",
       "  <thead>\n",
       "    <tr style=\"text-align: right;\">\n",
       "      <th></th>\n",
       "      <th>index</th>\n",
       "      <th>children</th>\n",
       "      <th>days_employed</th>\n",
       "      <th>dob_years</th>\n",
       "      <th>education</th>\n",
       "      <th>education_id</th>\n",
       "      <th>family_status</th>\n",
       "      <th>family_status_id</th>\n",
       "      <th>gender</th>\n",
       "      <th>income_type</th>\n",
       "      <th>debt</th>\n",
       "      <th>total_income</th>\n",
       "      <th>purpose</th>\n",
       "      <th>age_group</th>\n",
       "      <th>purpose_category</th>\n",
       "      <th>income_level</th>\n",
       "    </tr>\n",
       "  </thead>\n",
       "  <tbody>\n",
       "    <tr>\n",
       "      <th>0</th>\n",
       "      <td>0</td>\n",
       "      <td>1</td>\n",
       "      <td>8437</td>\n",
       "      <td>42</td>\n",
       "      <td>bachelor's degree</td>\n",
       "      <td>0</td>\n",
       "      <td>married</td>\n",
       "      <td>0</td>\n",
       "      <td>F</td>\n",
       "      <td>employee</td>\n",
       "      <td>0</td>\n",
       "      <td>40620.102</td>\n",
       "      <td>purchase of the house</td>\n",
       "      <td>adult</td>\n",
       "      <td>housing</td>\n",
       "      <td>middle income</td>\n",
       "    </tr>\n",
       "    <tr>\n",
       "      <th>1</th>\n",
       "      <td>1</td>\n",
       "      <td>1</td>\n",
       "      <td>4024</td>\n",
       "      <td>36</td>\n",
       "      <td>secondary education</td>\n",
       "      <td>1</td>\n",
       "      <td>married</td>\n",
       "      <td>0</td>\n",
       "      <td>F</td>\n",
       "      <td>employee</td>\n",
       "      <td>0</td>\n",
       "      <td>17932.802</td>\n",
       "      <td>car purchase</td>\n",
       "      <td>adult</td>\n",
       "      <td>car transaction</td>\n",
       "      <td>low income</td>\n",
       "    </tr>\n",
       "    <tr>\n",
       "      <th>2</th>\n",
       "      <td>2</td>\n",
       "      <td>0</td>\n",
       "      <td>5623</td>\n",
       "      <td>33</td>\n",
       "      <td>secondary education</td>\n",
       "      <td>1</td>\n",
       "      <td>married</td>\n",
       "      <td>0</td>\n",
       "      <td>M</td>\n",
       "      <td>employee</td>\n",
       "      <td>0</td>\n",
       "      <td>23341.752</td>\n",
       "      <td>purchase of the house</td>\n",
       "      <td>adult</td>\n",
       "      <td>housing</td>\n",
       "      <td>middle income</td>\n",
       "    </tr>\n",
       "    <tr>\n",
       "      <th>3</th>\n",
       "      <td>3</td>\n",
       "      <td>3</td>\n",
       "      <td>4124</td>\n",
       "      <td>32</td>\n",
       "      <td>secondary education</td>\n",
       "      <td>1</td>\n",
       "      <td>married</td>\n",
       "      <td>0</td>\n",
       "      <td>M</td>\n",
       "      <td>employee</td>\n",
       "      <td>0</td>\n",
       "      <td>42820.568</td>\n",
       "      <td>supplementary education</td>\n",
       "      <td>adult</td>\n",
       "      <td>education</td>\n",
       "      <td>middle income</td>\n",
       "    </tr>\n",
       "    <tr>\n",
       "      <th>4</th>\n",
       "      <td>4</td>\n",
       "      <td>0</td>\n",
       "      <td>340266</td>\n",
       "      <td>53</td>\n",
       "      <td>secondary education</td>\n",
       "      <td>1</td>\n",
       "      <td>civil partnership</td>\n",
       "      <td>1</td>\n",
       "      <td>F</td>\n",
       "      <td>retiree</td>\n",
       "      <td>0</td>\n",
       "      <td>25378.572</td>\n",
       "      <td>to have a wedding</td>\n",
       "      <td>older adult</td>\n",
       "      <td>wedding</td>\n",
       "      <td>middle income</td>\n",
       "    </tr>\n",
       "    <tr>\n",
       "      <th>5</th>\n",
       "      <td>5</td>\n",
       "      <td>0</td>\n",
       "      <td>926</td>\n",
       "      <td>27</td>\n",
       "      <td>bachelor's degree</td>\n",
       "      <td>0</td>\n",
       "      <td>civil partnership</td>\n",
       "      <td>1</td>\n",
       "      <td>M</td>\n",
       "      <td>business</td>\n",
       "      <td>0</td>\n",
       "      <td>40922.170</td>\n",
       "      <td>purchase of the house</td>\n",
       "      <td>young adult</td>\n",
       "      <td>housing</td>\n",
       "      <td>middle income</td>\n",
       "    </tr>\n",
       "    <tr>\n",
       "      <th>6</th>\n",
       "      <td>6</td>\n",
       "      <td>0</td>\n",
       "      <td>2879</td>\n",
       "      <td>43</td>\n",
       "      <td>bachelor's degree</td>\n",
       "      <td>0</td>\n",
       "      <td>married</td>\n",
       "      <td>0</td>\n",
       "      <td>F</td>\n",
       "      <td>business</td>\n",
       "      <td>0</td>\n",
       "      <td>38484.156</td>\n",
       "      <td>housing transactions</td>\n",
       "      <td>adult</td>\n",
       "      <td>housing</td>\n",
       "      <td>middle income</td>\n",
       "    </tr>\n",
       "    <tr>\n",
       "      <th>7</th>\n",
       "      <td>7</td>\n",
       "      <td>0</td>\n",
       "      <td>152</td>\n",
       "      <td>50</td>\n",
       "      <td>secondary education</td>\n",
       "      <td>1</td>\n",
       "      <td>married</td>\n",
       "      <td>0</td>\n",
       "      <td>M</td>\n",
       "      <td>employee</td>\n",
       "      <td>0</td>\n",
       "      <td>21731.829</td>\n",
       "      <td>education</td>\n",
       "      <td>adult</td>\n",
       "      <td>education</td>\n",
       "      <td>middle income</td>\n",
       "    </tr>\n",
       "    <tr>\n",
       "      <th>8</th>\n",
       "      <td>8</td>\n",
       "      <td>2</td>\n",
       "      <td>6929</td>\n",
       "      <td>35</td>\n",
       "      <td>bachelor's degree</td>\n",
       "      <td>0</td>\n",
       "      <td>civil partnership</td>\n",
       "      <td>1</td>\n",
       "      <td>F</td>\n",
       "      <td>employee</td>\n",
       "      <td>0</td>\n",
       "      <td>15337.093</td>\n",
       "      <td>having a wedding</td>\n",
       "      <td>adult</td>\n",
       "      <td>wedding</td>\n",
       "      <td>low income</td>\n",
       "    </tr>\n",
       "    <tr>\n",
       "      <th>9</th>\n",
       "      <td>9</td>\n",
       "      <td>0</td>\n",
       "      <td>2188</td>\n",
       "      <td>41</td>\n",
       "      <td>secondary education</td>\n",
       "      <td>1</td>\n",
       "      <td>married</td>\n",
       "      <td>0</td>\n",
       "      <td>M</td>\n",
       "      <td>employee</td>\n",
       "      <td>0</td>\n",
       "      <td>23108.150</td>\n",
       "      <td>purchase of the house for my family</td>\n",
       "      <td>adult</td>\n",
       "      <td>housing</td>\n",
       "      <td>middle income</td>\n",
       "    </tr>\n",
       "    <tr>\n",
       "      <th>10</th>\n",
       "      <td>10</td>\n",
       "      <td>2</td>\n",
       "      <td>4171</td>\n",
       "      <td>36</td>\n",
       "      <td>bachelor's degree</td>\n",
       "      <td>0</td>\n",
       "      <td>married</td>\n",
       "      <td>0</td>\n",
       "      <td>M</td>\n",
       "      <td>business</td>\n",
       "      <td>0</td>\n",
       "      <td>18230.959</td>\n",
       "      <td>buy real estate</td>\n",
       "      <td>adult</td>\n",
       "      <td>real estate</td>\n",
       "      <td>low income</td>\n",
       "    </tr>\n",
       "    <tr>\n",
       "      <th>11</th>\n",
       "      <td>11</td>\n",
       "      <td>0</td>\n",
       "      <td>792</td>\n",
       "      <td>40</td>\n",
       "      <td>secondary education</td>\n",
       "      <td>1</td>\n",
       "      <td>married</td>\n",
       "      <td>0</td>\n",
       "      <td>F</td>\n",
       "      <td>employee</td>\n",
       "      <td>0</td>\n",
       "      <td>12331.077</td>\n",
       "      <td>buy commercial real estate</td>\n",
       "      <td>adult</td>\n",
       "      <td>real estate</td>\n",
       "      <td>low income</td>\n",
       "    </tr>\n",
       "    <tr>\n",
       "      <th>12</th>\n",
       "      <td>12</td>\n",
       "      <td>0</td>\n",
       "      <td>365269</td>\n",
       "      <td>65</td>\n",
       "      <td>secondary education</td>\n",
       "      <td>1</td>\n",
       "      <td>civil partnership</td>\n",
       "      <td>1</td>\n",
       "      <td>M</td>\n",
       "      <td>retiree</td>\n",
       "      <td>0</td>\n",
       "      <td>18259.176</td>\n",
       "      <td>to have a wedding</td>\n",
       "      <td>older adult</td>\n",
       "      <td>wedding</td>\n",
       "      <td>low income</td>\n",
       "    </tr>\n",
       "    <tr>\n",
       "      <th>13</th>\n",
       "      <td>13</td>\n",
       "      <td>0</td>\n",
       "      <td>1846</td>\n",
       "      <td>54</td>\n",
       "      <td>some college</td>\n",
       "      <td>2</td>\n",
       "      <td>married</td>\n",
       "      <td>0</td>\n",
       "      <td>F</td>\n",
       "      <td>employee</td>\n",
       "      <td>0</td>\n",
       "      <td>20873.317</td>\n",
       "      <td>car purchase</td>\n",
       "      <td>older adult</td>\n",
       "      <td>car transaction</td>\n",
       "      <td>middle income</td>\n",
       "    </tr>\n",
       "    <tr>\n",
       "      <th>14</th>\n",
       "      <td>14</td>\n",
       "      <td>0</td>\n",
       "      <td>1844</td>\n",
       "      <td>56</td>\n",
       "      <td>bachelor's degree</td>\n",
       "      <td>0</td>\n",
       "      <td>civil partnership</td>\n",
       "      <td>1</td>\n",
       "      <td>F</td>\n",
       "      <td>business</td>\n",
       "      <td>1</td>\n",
       "      <td>26420.466</td>\n",
       "      <td>buy residential real estate</td>\n",
       "      <td>older adult</td>\n",
       "      <td>real estate</td>\n",
       "      <td>middle income</td>\n",
       "    </tr>\n",
       "    <tr>\n",
       "      <th>15</th>\n",
       "      <td>15</td>\n",
       "      <td>1</td>\n",
       "      <td>972</td>\n",
       "      <td>26</td>\n",
       "      <td>secondary education</td>\n",
       "      <td>1</td>\n",
       "      <td>married</td>\n",
       "      <td>0</td>\n",
       "      <td>F</td>\n",
       "      <td>employee</td>\n",
       "      <td>0</td>\n",
       "      <td>18691.345</td>\n",
       "      <td>construction of own property</td>\n",
       "      <td>young adult</td>\n",
       "      <td>real estate</td>\n",
       "      <td>low income</td>\n",
       "    </tr>\n",
       "    <tr>\n",
       "      <th>16</th>\n",
       "      <td>16</td>\n",
       "      <td>0</td>\n",
       "      <td>1719</td>\n",
       "      <td>35</td>\n",
       "      <td>secondary education</td>\n",
       "      <td>1</td>\n",
       "      <td>married</td>\n",
       "      <td>0</td>\n",
       "      <td>F</td>\n",
       "      <td>employee</td>\n",
       "      <td>0</td>\n",
       "      <td>46272.433</td>\n",
       "      <td>property</td>\n",
       "      <td>adult</td>\n",
       "      <td>real estate</td>\n",
       "      <td>middle income</td>\n",
       "    </tr>\n",
       "    <tr>\n",
       "      <th>17</th>\n",
       "      <td>17</td>\n",
       "      <td>0</td>\n",
       "      <td>2369</td>\n",
       "      <td>33</td>\n",
       "      <td>bachelor's degree</td>\n",
       "      <td>0</td>\n",
       "      <td>civil partnership</td>\n",
       "      <td>1</td>\n",
       "      <td>M</td>\n",
       "      <td>employee</td>\n",
       "      <td>0</td>\n",
       "      <td>14465.694</td>\n",
       "      <td>building a property</td>\n",
       "      <td>adult</td>\n",
       "      <td>real estate</td>\n",
       "      <td>low income</td>\n",
       "    </tr>\n",
       "    <tr>\n",
       "      <th>18</th>\n",
       "      <td>18</td>\n",
       "      <td>0</td>\n",
       "      <td>400281</td>\n",
       "      <td>53</td>\n",
       "      <td>secondary education</td>\n",
       "      <td>1</td>\n",
       "      <td>widow / widower</td>\n",
       "      <td>2</td>\n",
       "      <td>F</td>\n",
       "      <td>retiree</td>\n",
       "      <td>0</td>\n",
       "      <td>9091.804</td>\n",
       "      <td>buying a second-hand car</td>\n",
       "      <td>older adult</td>\n",
       "      <td>car transaction</td>\n",
       "      <td>low income</td>\n",
       "    </tr>\n",
       "    <tr>\n",
       "      <th>19</th>\n",
       "      <td>19</td>\n",
       "      <td>0</td>\n",
       "      <td>10038</td>\n",
       "      <td>48</td>\n",
       "      <td>secondary education</td>\n",
       "      <td>1</td>\n",
       "      <td>divorced</td>\n",
       "      <td>3</td>\n",
       "      <td>F</td>\n",
       "      <td>employee</td>\n",
       "      <td>0</td>\n",
       "      <td>38852.977</td>\n",
       "      <td>buying my own car</td>\n",
       "      <td>adult</td>\n",
       "      <td>car transaction</td>\n",
       "      <td>middle income</td>\n",
       "    </tr>\n",
       "  </tbody>\n",
       "</table>\n",
       "</div>"
      ],
      "text/plain": [
       "    index  children  days_employed  dob_years            education  \\\n",
       "0       0         1           8437         42    bachelor's degree   \n",
       "1       1         1           4024         36  secondary education   \n",
       "2       2         0           5623         33  secondary education   \n",
       "3       3         3           4124         32  secondary education   \n",
       "4       4         0         340266         53  secondary education   \n",
       "5       5         0            926         27    bachelor's degree   \n",
       "6       6         0           2879         43    bachelor's degree   \n",
       "7       7         0            152         50  secondary education   \n",
       "8       8         2           6929         35    bachelor's degree   \n",
       "9       9         0           2188         41  secondary education   \n",
       "10     10         2           4171         36    bachelor's degree   \n",
       "11     11         0            792         40  secondary education   \n",
       "12     12         0         365269         65  secondary education   \n",
       "13     13         0           1846         54         some college   \n",
       "14     14         0           1844         56    bachelor's degree   \n",
       "15     15         1            972         26  secondary education   \n",
       "16     16         0           1719         35  secondary education   \n",
       "17     17         0           2369         33    bachelor's degree   \n",
       "18     18         0         400281         53  secondary education   \n",
       "19     19         0          10038         48  secondary education   \n",
       "\n",
       "    education_id      family_status  family_status_id gender income_type  \\\n",
       "0              0            married                 0      F    employee   \n",
       "1              1            married                 0      F    employee   \n",
       "2              1            married                 0      M    employee   \n",
       "3              1            married                 0      M    employee   \n",
       "4              1  civil partnership                 1      F     retiree   \n",
       "5              0  civil partnership                 1      M    business   \n",
       "6              0            married                 0      F    business   \n",
       "7              1            married                 0      M    employee   \n",
       "8              0  civil partnership                 1      F    employee   \n",
       "9              1            married                 0      M    employee   \n",
       "10             0            married                 0      M    business   \n",
       "11             1            married                 0      F    employee   \n",
       "12             1  civil partnership                 1      M     retiree   \n",
       "13             2            married                 0      F    employee   \n",
       "14             0  civil partnership                 1      F    business   \n",
       "15             1            married                 0      F    employee   \n",
       "16             1            married                 0      F    employee   \n",
       "17             0  civil partnership                 1      M    employee   \n",
       "18             1    widow / widower                 2      F     retiree   \n",
       "19             1           divorced                 3      F    employee   \n",
       "\n",
       "    debt  total_income                              purpose    age_group  \\\n",
       "0      0     40620.102                purchase of the house        adult   \n",
       "1      0     17932.802                         car purchase        adult   \n",
       "2      0     23341.752                purchase of the house        adult   \n",
       "3      0     42820.568              supplementary education        adult   \n",
       "4      0     25378.572                    to have a wedding  older adult   \n",
       "5      0     40922.170                purchase of the house  young adult   \n",
       "6      0     38484.156                 housing transactions        adult   \n",
       "7      0     21731.829                            education        adult   \n",
       "8      0     15337.093                     having a wedding        adult   \n",
       "9      0     23108.150  purchase of the house for my family        adult   \n",
       "10     0     18230.959                      buy real estate        adult   \n",
       "11     0     12331.077           buy commercial real estate        adult   \n",
       "12     0     18259.176                    to have a wedding  older adult   \n",
       "13     0     20873.317                         car purchase  older adult   \n",
       "14     1     26420.466          buy residential real estate  older adult   \n",
       "15     0     18691.345         construction of own property  young adult   \n",
       "16     0     46272.433                             property        adult   \n",
       "17     0     14465.694                  building a property        adult   \n",
       "18     0      9091.804             buying a second-hand car  older adult   \n",
       "19     0     38852.977                    buying my own car        adult   \n",
       "\n",
       "   purpose_category   income_level  \n",
       "0           housing  middle income  \n",
       "1   car transaction     low income  \n",
       "2           housing  middle income  \n",
       "3         education  middle income  \n",
       "4           wedding  middle income  \n",
       "5           housing  middle income  \n",
       "6           housing  middle income  \n",
       "7         education  middle income  \n",
       "8           wedding     low income  \n",
       "9           housing  middle income  \n",
       "10      real estate     low income  \n",
       "11      real estate     low income  \n",
       "12          wedding     low income  \n",
       "13  car transaction  middle income  \n",
       "14      real estate  middle income  \n",
       "15      real estate     low income  \n",
       "16      real estate  middle income  \n",
       "17      real estate     low income  \n",
       "18  car transaction     low income  \n",
       "19  car transaction  middle income  "
      ]
     },
     "execution_count": 88,
     "metadata": {},
     "output_type": "execute_result"
    }
   ],
   "source": [
    "df['income_level']= df['total_income'].apply(income_level)\n",
    "df.head(20)"
   ]
  },
  {
   "cell_type": "markdown",
   "metadata": {},
   "source": [
    "<div class=\"alert alert-block alert-success\">\n",
    "<b>Reviewer's comment</b> <a class=\"tocSkip\"></a>\n",
    "\n",
    "Good job.\n",
    "</div>"
   ]
  },
  {
   "cell_type": "markdown",
   "metadata": {},
   "source": [
    "## Checking the Hypotheses\n"
   ]
  },
  {
   "cell_type": "markdown",
   "metadata": {},
   "source": [
    "**Is there a correlation between having children and paying back on time?**"
   ]
  },
  {
   "cell_type": "code",
   "execution_count": 89,
   "metadata": {},
   "outputs": [
    {
     "data": {
      "text/plain": [
       "children\n",
       "5    0.000000\n",
       "0    7.545824\n",
       "3    8.231707\n",
       "1    9.202838\n",
       "2    9.514468\n",
       "4    9.756098\n",
       "Name: debt, dtype: float64"
      ]
     },
     "execution_count": 89,
     "metadata": {},
     "output_type": "execute_result"
    }
   ],
   "source": [
    "\n",
    "100*(df_cat.groupby('children')['debt'].mean()).sort_values()\n",
    "\n"
   ]
  },
  {
   "cell_type": "markdown",
   "metadata": {},
   "source": [
    "**Conclusion**\n",
    "\n",
    "On average there is very little trend for number of children and the chance the borrower defaulting. In fact according to our data families with 5 children have never defaulted on their loans. We have a very small sample for such instances but I do not see evidence of a higher likelyhood of default based on children. There is a higher likelyhood of default if a person has children vs if they do not. About 2 percent difference."
   ]
  },
  {
   "cell_type": "markdown",
   "metadata": {},
   "source": [
    "<div class=\"alert alert-block alert-success\">\n",
    "<b>Reviewer's comment</b> <a class=\"tocSkip\"></a>\n",
    "\n",
    "You are right.\n",
    "</div>"
   ]
  },
  {
   "cell_type": "markdown",
   "metadata": {},
   "source": [
    "**Is there a correlation between family status and paying back on time?**"
   ]
  },
  {
   "cell_type": "code",
   "execution_count": 90,
   "metadata": {},
   "outputs": [
    {
     "data": {
      "text/plain": [
       "family_status\n",
       "widow / widower      6.553911\n",
       "divorced             7.124682\n",
       "married              7.557521\n",
       "civil partnership    9.314202\n",
       "unmarried            9.784173\n",
       "Name: debt, dtype: float64"
      ]
     },
     "execution_count": 90,
     "metadata": {},
     "output_type": "execute_result"
    }
   ],
   "source": [
    "\n",
    "100*(df_cat.groupby('family_status')['debt'].mean()).sort_values()\n",
    "\n",
    "\n"
   ]
  },
  {
   "cell_type": "markdown",
   "metadata": {},
   "source": [
    "**Conclusion**\n",
    "\n",
    " Those who are widowed, divorced or married are about 2% less likely to default vs. those in a civil partnership or those who are unmarried. "
   ]
  },
  {
   "cell_type": "markdown",
   "metadata": {},
   "source": [
    "<div class=\"alert alert-block alert-danger\">\n",
    "<b>Reviewer's comment</b> <a class=\"tocSkip\"></a>\n",
    "\n",
    "<s>Why? 9.78 / 7.56 -> 30% higher!\n",
    "</div>"
   ]
  },
  {
   "cell_type": "markdown",
   "metadata": {},
   "source": [
    "<div class=\"alert alert-block alert-success\">\n",
    "<b>Reviewer's comment</b> <a class=\"tocSkip\"></a>\n",
    "\n",
    "Correct.\n",
    "</div>"
   ]
  },
  {
   "cell_type": "markdown",
   "metadata": {},
   "source": [
    "**Is there a correlation between income level and paying back on time?**"
   ]
  },
  {
   "cell_type": "code",
   "execution_count": 91,
   "metadata": {},
   "outputs": [
    {
     "data": {
      "text/plain": [
       "income_level\n",
       "high income      6.060606\n",
       "middle income    8.022774\n",
       "low income       8.321283\n",
       "Name: debt, dtype: float64"
      ]
     },
     "execution_count": 91,
     "metadata": {},
     "output_type": "execute_result"
    }
   ],
   "source": [
    "100*(df.groupby('income_level')['debt'].mean()).sort_values()\n",
    "\n",
    "\n",
    "\n"
   ]
  },
  {
   "cell_type": "markdown",
   "metadata": {},
   "source": [
    "**Conclusion**\n",
    "\n",
    "Lower and middle incomes are 2 percent more likely to default on thier loans. "
   ]
  },
  {
   "cell_type": "markdown",
   "metadata": {},
   "source": [
    "<div class=\"alert alert-block alert-success\">\n",
    "<b>Reviewer's comment</b> <a class=\"tocSkip\"></a>\n",
    "\n",
    "Correct.\n",
    "</div>"
   ]
  },
  {
   "cell_type": "markdown",
   "metadata": {},
   "source": [
    "**How does credit purpose affect the default rate?**"
   ]
  },
  {
   "cell_type": "code",
   "execution_count": 92,
   "metadata": {},
   "outputs": [
    {
     "data": {
      "text/plain": [
       "purpose_category\n",
       "housing            7.201029\n",
       "real estate        7.539282\n",
       "wedding            7.872988\n",
       "car transaction    9.323626\n",
       "education          9.348534\n",
       "Name: debt, dtype: float64"
      ]
     },
     "execution_count": 92,
     "metadata": {},
     "output_type": "execute_result"
    }
   ],
   "source": [
    "100*(df.groupby('purpose_category')['debt'].mean()).sort_values()"
   ]
  },
  {
   "cell_type": "markdown",
   "metadata": {},
   "source": [
    "**Conclusion**\n",
    "Car transactions and education have 2% more risk of default vs. wedding, housing, and real estate"
   ]
  },
  {
   "cell_type": "markdown",
   "metadata": {},
   "source": [
    "<div class=\"alert alert-block alert-success\">\n",
    "<b>Reviewer's comment</b> <a class=\"tocSkip\"></a>\n",
    "\n",
    "Great.\n",
    "</div>"
   ]
  },
  {
   "cell_type": "markdown",
   "metadata": {},
   "source": [
    "# General Conclusion \n",
    "\n",
    "My analysis is complete. I have resolved many issues with the data, including replacing missing values (populated with optimized values based on each entry), removed implicit duplicates, fixed the data types and unified mix cases. I also built multiple categories to visualize the data. Through my analysis the bank will be able to develop a credit score for their borrowers. \n",
    "\n",
    "I was able to conclude that there is, on average, a 2% trend towards default when a borrower is: young to middle age, low to middle income, and borrowing for education or a car. These should be useful when considering the credit score.\n",
    "\n",
    "I am grateful for the opportunity to handle these data. Thank you very much for your time reviewing my work. I am looking forward to your feedback.\n"
   ]
  },
  {
   "cell_type": "markdown",
   "metadata": {},
   "source": [
    "<div class=\"alert alert-block alert-success\">\n",
    "<b>Reviewer's comment</b> <a class=\"tocSkip\"></a>\n",
    "\n",
    "Good overall analysis!\n",
    "</div>"
   ]
  },
  {
   "cell_type": "markdown",
   "metadata": {},
   "source": [
    "<div class=\"alert alert-block alert-warning\">\n",
    "<b>Overall reviewer's comment</b> <a class=\"tocSkip\"></a>\n",
    "\n",
    "Johannah, thank you for sending your project. You've done a really good job on it! <br>\n",
    "    \n",
    "There are a lot of correct conclusions and nice code. <br>\n",
    "    \n",
    "However, there are some issues. I wrote comments. Please elaborate them.\n",
    "    \n",
    "You have very good analytic skills, keep up the good work! I will be waiting for your corrected project.\n",
    "</div>"
   ]
  },
  {
   "cell_type": "markdown",
   "metadata": {},
   "source": [
    "<div class=\"alert alert-block alert-success\">\n",
    "<b>Overall reviewer's comment v2</b> <a class=\"tocSkip\"></a>\n",
    "\n",
    "Johannah, I really appreciate the corrections you sent in! Thanks for taking the time to do so. <br>\n",
    "    Now your project is a true \"A\". Congratulations! <br>\n",
    "    Your project has passed code review. Keep up the good work!\n",
    "</div>"
   ]
  },
  {
   "cell_type": "code",
   "execution_count": null,
   "metadata": {},
   "outputs": [],
   "source": []
  }
 ],
 "metadata": {
  "ExecuteTimeLog": [
   {
    "duration": 2741,
    "start_time": "2021-10-21T01:08:49.480Z"
   },
   {
    "duration": 52,
    "start_time": "2021-10-21T01:08:53.315Z"
   },
   {
    "duration": 49,
    "start_time": "2021-10-21T01:08:57.432Z"
   },
   {
    "duration": 70,
    "start_time": "2021-10-21T01:09:07.706Z"
   },
   {
    "duration": 60,
    "start_time": "2022-05-19T17:36:42.062Z"
   },
   {
    "duration": 715,
    "start_time": "2022-05-19T17:37:10.615Z"
   },
   {
    "duration": 19,
    "start_time": "2022-05-19T17:39:08.159Z"
   },
   {
    "duration": 30,
    "start_time": "2022-05-19T17:40:23.398Z"
   },
   {
    "duration": 45,
    "start_time": "2022-05-19T17:42:04.263Z"
   },
   {
    "duration": 15,
    "start_time": "2022-05-19T17:44:45.000Z"
   },
   {
    "duration": 5,
    "start_time": "2022-05-19T18:48:21.748Z"
   },
   {
    "duration": 29,
    "start_time": "2022-05-19T18:48:53.892Z"
   },
   {
    "duration": 58,
    "start_time": "2022-05-19T18:49:01.052Z"
   },
   {
    "duration": 7,
    "start_time": "2022-05-19T18:50:30.846Z"
   },
   {
    "duration": 6,
    "start_time": "2022-05-19T18:50:47.750Z"
   },
   {
    "duration": 7,
    "start_time": "2022-05-19T18:53:36.395Z"
   },
   {
    "duration": 11,
    "start_time": "2022-05-19T18:54:31.195Z"
   },
   {
    "duration": 3,
    "start_time": "2022-05-19T18:54:39.100Z"
   },
   {
    "duration": 4,
    "start_time": "2022-05-19T18:54:46.849Z"
   },
   {
    "duration": 5,
    "start_time": "2022-05-19T18:54:58.763Z"
   },
   {
    "duration": 7,
    "start_time": "2022-05-19T18:56:05.303Z"
   },
   {
    "duration": 9,
    "start_time": "2022-05-19T18:57:10.172Z"
   },
   {
    "duration": 9,
    "start_time": "2022-05-19T18:58:11.078Z"
   },
   {
    "duration": 21,
    "start_time": "2022-05-19T18:58:31.459Z"
   },
   {
    "duration": 9,
    "start_time": "2022-05-19T18:58:49.452Z"
   },
   {
    "duration": 6,
    "start_time": "2022-05-19T18:59:12.964Z"
   },
   {
    "duration": 10,
    "start_time": "2022-05-19T19:01:18.029Z"
   },
   {
    "duration": 7,
    "start_time": "2022-05-19T19:02:34.230Z"
   },
   {
    "duration": 8,
    "start_time": "2022-05-19T19:06:51.263Z"
   },
   {
    "duration": 16,
    "start_time": "2022-05-19T19:11:07.296Z"
   },
   {
    "duration": 54,
    "start_time": "2022-05-19T21:53:02.994Z"
   },
   {
    "duration": 654,
    "start_time": "2022-05-19T21:53:16.410Z"
   },
   {
    "duration": 43,
    "start_time": "2022-05-19T21:53:17.066Z"
   },
   {
    "duration": 13,
    "start_time": "2022-05-19T21:53:17.110Z"
   },
   {
    "duration": 19,
    "start_time": "2022-05-19T21:53:17.125Z"
   },
   {
    "duration": 103,
    "start_time": "2022-05-19T21:53:17.146Z"
   },
   {
    "duration": 0,
    "start_time": "2022-05-19T21:53:17.253Z"
   },
   {
    "duration": 0,
    "start_time": "2022-05-19T21:53:17.254Z"
   },
   {
    "duration": 0,
    "start_time": "2022-05-19T21:53:17.256Z"
   },
   {
    "duration": 0,
    "start_time": "2022-05-19T21:53:17.257Z"
   },
   {
    "duration": 0,
    "start_time": "2022-05-19T21:53:17.260Z"
   },
   {
    "duration": 0,
    "start_time": "2022-05-19T21:53:17.263Z"
   },
   {
    "duration": 0,
    "start_time": "2022-05-19T21:53:17.264Z"
   },
   {
    "duration": 0,
    "start_time": "2022-05-19T21:53:17.265Z"
   },
   {
    "duration": 0,
    "start_time": "2022-05-19T21:53:17.267Z"
   },
   {
    "duration": 0,
    "start_time": "2022-05-19T21:53:17.268Z"
   },
   {
    "duration": 0,
    "start_time": "2022-05-19T21:53:17.271Z"
   },
   {
    "duration": 0,
    "start_time": "2022-05-19T21:53:17.295Z"
   },
   {
    "duration": 0,
    "start_time": "2022-05-19T21:53:17.296Z"
   },
   {
    "duration": 0,
    "start_time": "2022-05-19T21:53:17.298Z"
   },
   {
    "duration": 0,
    "start_time": "2022-05-19T21:53:17.300Z"
   },
   {
    "duration": 0,
    "start_time": "2022-05-19T21:53:17.302Z"
   },
   {
    "duration": 0,
    "start_time": "2022-05-19T21:53:17.303Z"
   },
   {
    "duration": 0,
    "start_time": "2022-05-19T21:53:17.305Z"
   },
   {
    "duration": 0,
    "start_time": "2022-05-19T21:53:17.306Z"
   },
   {
    "duration": 0,
    "start_time": "2022-05-19T21:53:17.307Z"
   },
   {
    "duration": 0,
    "start_time": "2022-05-19T21:53:17.308Z"
   },
   {
    "duration": 0,
    "start_time": "2022-05-19T21:53:17.310Z"
   },
   {
    "duration": 0,
    "start_time": "2022-05-19T21:53:17.311Z"
   },
   {
    "duration": 0,
    "start_time": "2022-05-19T21:53:17.313Z"
   },
   {
    "duration": 0,
    "start_time": "2022-05-19T21:53:17.314Z"
   },
   {
    "duration": 0,
    "start_time": "2022-05-19T21:53:17.316Z"
   },
   {
    "duration": 0,
    "start_time": "2022-05-19T21:53:17.317Z"
   },
   {
    "duration": 0,
    "start_time": "2022-05-19T21:53:17.318Z"
   },
   {
    "duration": 0,
    "start_time": "2022-05-19T21:53:17.320Z"
   },
   {
    "duration": 0,
    "start_time": "2022-05-19T21:53:17.321Z"
   },
   {
    "duration": 0,
    "start_time": "2022-05-19T21:53:17.322Z"
   },
   {
    "duration": 0,
    "start_time": "2022-05-19T21:53:17.324Z"
   },
   {
    "duration": 0,
    "start_time": "2022-05-19T21:53:17.326Z"
   },
   {
    "duration": 0,
    "start_time": "2022-05-19T21:53:17.329Z"
   },
   {
    "duration": 0,
    "start_time": "2022-05-19T21:53:17.330Z"
   },
   {
    "duration": 0,
    "start_time": "2022-05-19T21:53:17.331Z"
   },
   {
    "duration": 0,
    "start_time": "2022-05-19T21:53:17.332Z"
   },
   {
    "duration": 0,
    "start_time": "2022-05-19T21:53:17.333Z"
   },
   {
    "duration": 0,
    "start_time": "2022-05-19T21:53:17.334Z"
   },
   {
    "duration": 0,
    "start_time": "2022-05-19T21:53:17.335Z"
   },
   {
    "duration": 0,
    "start_time": "2022-05-19T21:53:17.396Z"
   },
   {
    "duration": 1,
    "start_time": "2022-05-19T21:53:17.397Z"
   },
   {
    "duration": 0,
    "start_time": "2022-05-19T21:53:17.399Z"
   },
   {
    "duration": 0,
    "start_time": "2022-05-19T21:53:17.401Z"
   },
   {
    "duration": 0,
    "start_time": "2022-05-19T21:53:17.402Z"
   },
   {
    "duration": 0,
    "start_time": "2022-05-19T21:53:17.404Z"
   },
   {
    "duration": 0,
    "start_time": "2022-05-19T21:53:17.405Z"
   },
   {
    "duration": 0,
    "start_time": "2022-05-19T21:53:17.406Z"
   },
   {
    "duration": 0,
    "start_time": "2022-05-19T21:53:17.407Z"
   },
   {
    "duration": 0,
    "start_time": "2022-05-19T21:53:17.408Z"
   },
   {
    "duration": 0,
    "start_time": "2022-05-19T21:53:17.409Z"
   },
   {
    "duration": 0,
    "start_time": "2022-05-19T21:53:17.410Z"
   },
   {
    "duration": 0,
    "start_time": "2022-05-19T21:53:17.412Z"
   },
   {
    "duration": 0,
    "start_time": "2022-05-19T21:53:17.413Z"
   },
   {
    "duration": 0,
    "start_time": "2022-05-19T21:53:17.414Z"
   },
   {
    "duration": 0,
    "start_time": "2022-05-19T21:53:17.415Z"
   },
   {
    "duration": 0,
    "start_time": "2022-05-19T21:53:17.417Z"
   },
   {
    "duration": 0,
    "start_time": "2022-05-19T21:53:17.419Z"
   },
   {
    "duration": 0,
    "start_time": "2022-05-19T21:53:17.421Z"
   },
   {
    "duration": 0,
    "start_time": "2022-05-19T21:53:17.422Z"
   },
   {
    "duration": 0,
    "start_time": "2022-05-19T21:53:17.423Z"
   },
   {
    "duration": 0,
    "start_time": "2022-05-19T21:53:17.424Z"
   },
   {
    "duration": 0,
    "start_time": "2022-05-19T21:53:17.425Z"
   },
   {
    "duration": 0,
    "start_time": "2022-05-19T21:53:17.426Z"
   },
   {
    "duration": 0,
    "start_time": "2022-05-19T21:53:17.427Z"
   },
   {
    "duration": 0,
    "start_time": "2022-05-19T21:53:17.432Z"
   },
   {
    "duration": 12,
    "start_time": "2022-05-19T21:53:25.871Z"
   },
   {
    "duration": 16,
    "start_time": "2022-05-19T21:53:45.071Z"
   },
   {
    "duration": 15,
    "start_time": "2022-05-19T21:54:00.552Z"
   },
   {
    "duration": 9,
    "start_time": "2022-05-19T21:57:59.843Z"
   },
   {
    "duration": 8,
    "start_time": "2022-05-19T21:58:25.914Z"
   },
   {
    "duration": 8,
    "start_time": "2022-05-19T21:58:36.143Z"
   },
   {
    "duration": 10,
    "start_time": "2022-05-19T22:02:20.587Z"
   },
   {
    "duration": 5,
    "start_time": "2022-05-19T22:02:45.523Z"
   },
   {
    "duration": 5,
    "start_time": "2022-05-19T22:03:31.106Z"
   },
   {
    "duration": 4,
    "start_time": "2022-05-19T22:05:43.548Z"
   },
   {
    "duration": 15,
    "start_time": "2022-05-19T22:11:36.717Z"
   },
   {
    "duration": 19,
    "start_time": "2022-05-19T22:11:57.387Z"
   },
   {
    "duration": 10,
    "start_time": "2022-05-19T22:12:51.501Z"
   },
   {
    "duration": 15,
    "start_time": "2022-05-19T22:13:26.973Z"
   },
   {
    "duration": 5,
    "start_time": "2022-05-19T22:13:52.390Z"
   },
   {
    "duration": 5,
    "start_time": "2022-05-19T22:14:31.789Z"
   },
   {
    "duration": 11,
    "start_time": "2022-05-19T22:14:37.941Z"
   },
   {
    "duration": 17,
    "start_time": "2022-05-19T22:17:39.037Z"
   },
   {
    "duration": 10,
    "start_time": "2022-05-19T22:17:50.693Z"
   },
   {
    "duration": 6,
    "start_time": "2022-05-19T22:33:50.194Z"
   },
   {
    "duration": 6,
    "start_time": "2022-05-19T22:34:06.428Z"
   },
   {
    "duration": 6,
    "start_time": "2022-05-19T22:34:26.857Z"
   },
   {
    "duration": 7,
    "start_time": "2022-05-19T22:35:35.178Z"
   },
   {
    "duration": 6,
    "start_time": "2022-05-19T22:36:20.329Z"
   },
   {
    "duration": 65,
    "start_time": "2022-05-19T22:37:43.378Z"
   },
   {
    "duration": 495,
    "start_time": "2022-05-19T22:37:48.799Z"
   },
   {
    "duration": 32,
    "start_time": "2022-05-19T22:37:49.296Z"
   },
   {
    "duration": 12,
    "start_time": "2022-05-19T22:37:49.329Z"
   },
   {
    "duration": 18,
    "start_time": "2022-05-19T22:37:49.342Z"
   },
   {
    "duration": 6,
    "start_time": "2022-05-19T22:37:49.361Z"
   },
   {
    "duration": 34,
    "start_time": "2022-05-19T22:37:49.369Z"
   },
   {
    "duration": 13,
    "start_time": "2022-05-19T22:37:49.405Z"
   },
   {
    "duration": 2,
    "start_time": "2022-05-19T22:37:49.420Z"
   },
   {
    "duration": 6,
    "start_time": "2022-05-19T22:37:49.423Z"
   },
   {
    "duration": 9,
    "start_time": "2022-05-19T22:37:49.431Z"
   },
   {
    "duration": 11,
    "start_time": "2022-05-19T22:37:49.442Z"
   },
   {
    "duration": 8,
    "start_time": "2022-05-19T22:37:49.454Z"
   },
   {
    "duration": 5,
    "start_time": "2022-05-19T22:37:49.464Z"
   },
   {
    "duration": 14,
    "start_time": "2022-05-19T22:37:49.471Z"
   },
   {
    "duration": 12,
    "start_time": "2022-05-19T22:37:49.487Z"
   },
   {
    "duration": 6,
    "start_time": "2022-05-19T22:37:49.500Z"
   },
   {
    "duration": 6,
    "start_time": "2022-05-19T22:37:49.507Z"
   },
   {
    "duration": 9,
    "start_time": "2022-05-19T22:37:49.514Z"
   },
   {
    "duration": 5,
    "start_time": "2022-05-19T22:37:49.525Z"
   },
   {
    "duration": 8,
    "start_time": "2022-05-19T22:37:49.532Z"
   },
   {
    "duration": 8,
    "start_time": "2022-05-19T22:37:49.542Z"
   },
   {
    "duration": 7,
    "start_time": "2022-05-19T22:37:49.551Z"
   },
   {
    "duration": 5,
    "start_time": "2022-05-19T22:37:49.559Z"
   },
   {
    "duration": 15,
    "start_time": "2022-05-19T22:37:49.565Z"
   },
   {
    "duration": 7,
    "start_time": "2022-05-19T22:37:49.582Z"
   },
   {
    "duration": 11,
    "start_time": "2022-05-19T22:37:49.590Z"
   },
   {
    "duration": 9,
    "start_time": "2022-05-19T22:37:49.603Z"
   },
   {
    "duration": 3,
    "start_time": "2022-05-19T22:37:49.616Z"
   },
   {
    "duration": 6,
    "start_time": "2022-05-19T22:37:49.620Z"
   },
   {
    "duration": 5,
    "start_time": "2022-05-19T22:37:49.627Z"
   },
   {
    "duration": 5,
    "start_time": "2022-05-19T22:37:49.633Z"
   },
   {
    "duration": 6,
    "start_time": "2022-05-19T22:37:49.639Z"
   },
   {
    "duration": 5,
    "start_time": "2022-05-19T22:37:49.646Z"
   },
   {
    "duration": 7,
    "start_time": "2022-05-19T22:37:49.652Z"
   },
   {
    "duration": 4,
    "start_time": "2022-05-19T22:37:49.661Z"
   },
   {
    "duration": 5,
    "start_time": "2022-05-19T22:37:49.667Z"
   },
   {
    "duration": 14,
    "start_time": "2022-05-19T22:37:49.673Z"
   },
   {
    "duration": 4,
    "start_time": "2022-05-19T22:37:49.688Z"
   },
   {
    "duration": 10,
    "start_time": "2022-05-19T22:37:49.693Z"
   },
   {
    "duration": 4,
    "start_time": "2022-05-19T22:37:49.705Z"
   },
   {
    "duration": 5,
    "start_time": "2022-05-19T22:37:49.710Z"
   },
   {
    "duration": 10,
    "start_time": "2022-05-19T22:37:49.717Z"
   },
   {
    "duration": 6,
    "start_time": "2022-05-19T22:37:49.728Z"
   },
   {
    "duration": 4,
    "start_time": "2022-05-19T22:37:49.736Z"
   },
   {
    "duration": 8,
    "start_time": "2022-05-19T22:37:49.742Z"
   },
   {
    "duration": 5,
    "start_time": "2022-05-19T22:37:49.752Z"
   },
   {
    "duration": 7,
    "start_time": "2022-05-19T22:37:49.758Z"
   },
   {
    "duration": 5,
    "start_time": "2022-05-19T22:37:49.766Z"
   },
   {
    "duration": 8,
    "start_time": "2022-05-19T22:37:49.773Z"
   },
   {
    "duration": 11,
    "start_time": "2022-05-19T22:37:49.783Z"
   },
   {
    "duration": 6,
    "start_time": "2022-05-19T22:37:49.796Z"
   },
   {
    "duration": 5,
    "start_time": "2022-05-19T22:37:49.804Z"
   },
   {
    "duration": 6,
    "start_time": "2022-05-19T22:37:49.810Z"
   },
   {
    "duration": 5,
    "start_time": "2022-05-19T22:37:49.817Z"
   },
   {
    "duration": 8,
    "start_time": "2022-05-19T22:37:49.823Z"
   },
   {
    "duration": 4,
    "start_time": "2022-05-19T22:37:49.833Z"
   },
   {
    "duration": 6,
    "start_time": "2022-05-19T22:37:49.839Z"
   },
   {
    "duration": 12,
    "start_time": "2022-05-19T22:37:49.846Z"
   },
   {
    "duration": 5,
    "start_time": "2022-05-19T22:37:49.859Z"
   },
   {
    "duration": 5,
    "start_time": "2022-05-19T22:37:49.866Z"
   },
   {
    "duration": 6,
    "start_time": "2022-05-19T22:37:49.872Z"
   },
   {
    "duration": 15,
    "start_time": "2022-05-19T22:37:49.880Z"
   },
   {
    "duration": 2,
    "start_time": "2022-05-19T22:37:49.897Z"
   },
   {
    "duration": 15,
    "start_time": "2022-05-19T22:37:49.902Z"
   },
   {
    "duration": 5,
    "start_time": "2022-05-19T22:37:49.919Z"
   },
   {
    "duration": 6,
    "start_time": "2022-05-19T22:37:49.926Z"
   },
   {
    "duration": 4,
    "start_time": "2022-05-19T22:37:49.934Z"
   },
   {
    "duration": 7,
    "start_time": "2022-05-19T22:37:49.939Z"
   },
   {
    "duration": 14,
    "start_time": "2022-05-19T22:37:49.947Z"
   },
   {
    "duration": 9,
    "start_time": "2022-05-19T22:37:49.962Z"
   },
   {
    "duration": 5,
    "start_time": "2022-05-19T22:37:49.973Z"
   },
   {
    "duration": 9,
    "start_time": "2022-05-19T22:37:49.979Z"
   },
   {
    "duration": 10,
    "start_time": "2022-05-19T22:38:28.887Z"
   },
   {
    "duration": 505,
    "start_time": "2022-05-19T22:39:21.877Z"
   },
   {
    "duration": 42,
    "start_time": "2022-05-19T22:39:22.384Z"
   },
   {
    "duration": 12,
    "start_time": "2022-05-19T22:39:22.428Z"
   },
   {
    "duration": 15,
    "start_time": "2022-05-19T22:39:22.442Z"
   },
   {
    "duration": 5,
    "start_time": "2022-05-19T22:39:22.459Z"
   },
   {
    "duration": 35,
    "start_time": "2022-05-19T22:39:22.465Z"
   },
   {
    "duration": 6,
    "start_time": "2022-05-19T22:39:22.502Z"
   },
   {
    "duration": 7,
    "start_time": "2022-05-19T22:39:22.509Z"
   },
   {
    "duration": 8,
    "start_time": "2022-05-19T22:39:22.517Z"
   },
   {
    "duration": 8,
    "start_time": "2022-05-19T22:39:22.527Z"
   },
   {
    "duration": 6,
    "start_time": "2022-05-19T22:39:22.537Z"
   },
   {
    "duration": 11,
    "start_time": "2022-05-19T22:39:22.544Z"
   },
   {
    "duration": 16,
    "start_time": "2022-05-19T22:39:22.556Z"
   },
   {
    "duration": 6,
    "start_time": "2022-05-19T22:39:22.573Z"
   },
   {
    "duration": 12,
    "start_time": "2022-05-19T22:39:22.581Z"
   },
   {
    "duration": 5,
    "start_time": "2022-05-19T22:39:22.594Z"
   },
   {
    "duration": 7,
    "start_time": "2022-05-19T22:39:22.600Z"
   },
   {
    "duration": 9,
    "start_time": "2022-05-19T22:39:22.608Z"
   },
   {
    "duration": 7,
    "start_time": "2022-05-19T22:39:22.619Z"
   },
   {
    "duration": 7,
    "start_time": "2022-05-19T22:39:22.627Z"
   },
   {
    "duration": 12,
    "start_time": "2022-05-19T22:39:22.635Z"
   },
   {
    "duration": 4,
    "start_time": "2022-05-19T22:39:22.649Z"
   },
   {
    "duration": 4,
    "start_time": "2022-05-19T22:39:22.654Z"
   },
   {
    "duration": 6,
    "start_time": "2022-05-19T22:39:22.660Z"
   },
   {
    "duration": 5,
    "start_time": "2022-05-19T22:39:22.667Z"
   },
   {
    "duration": 6,
    "start_time": "2022-05-19T22:39:22.673Z"
   },
   {
    "duration": 5,
    "start_time": "2022-05-19T22:39:22.680Z"
   },
   {
    "duration": 4,
    "start_time": "2022-05-19T22:39:22.688Z"
   },
   {
    "duration": 5,
    "start_time": "2022-05-19T22:39:22.694Z"
   },
   {
    "duration": 3,
    "start_time": "2022-05-19T22:39:22.701Z"
   },
   {
    "duration": 6,
    "start_time": "2022-05-19T22:39:22.706Z"
   },
   {
    "duration": 4,
    "start_time": "2022-05-19T22:39:22.713Z"
   },
   {
    "duration": 4,
    "start_time": "2022-05-19T22:39:22.719Z"
   },
   {
    "duration": 3,
    "start_time": "2022-05-19T22:39:22.724Z"
   },
   {
    "duration": 4,
    "start_time": "2022-05-19T22:39:22.729Z"
   },
   {
    "duration": 5,
    "start_time": "2022-05-19T22:39:22.735Z"
   },
   {
    "duration": 4,
    "start_time": "2022-05-19T22:39:22.741Z"
   },
   {
    "duration": 5,
    "start_time": "2022-05-19T22:39:22.746Z"
   },
   {
    "duration": 5,
    "start_time": "2022-05-19T22:39:22.753Z"
   },
   {
    "duration": 5,
    "start_time": "2022-05-19T22:39:22.760Z"
   },
   {
    "duration": 5,
    "start_time": "2022-05-19T22:39:22.767Z"
   },
   {
    "duration": 4,
    "start_time": "2022-05-19T22:39:22.773Z"
   },
   {
    "duration": 7,
    "start_time": "2022-05-19T22:39:22.795Z"
   },
   {
    "duration": 4,
    "start_time": "2022-05-19T22:39:22.804Z"
   },
   {
    "duration": 5,
    "start_time": "2022-05-19T22:39:22.809Z"
   },
   {
    "duration": 5,
    "start_time": "2022-05-19T22:39:22.815Z"
   },
   {
    "duration": 6,
    "start_time": "2022-05-19T22:39:22.822Z"
   },
   {
    "duration": 5,
    "start_time": "2022-05-19T22:39:22.829Z"
   },
   {
    "duration": 5,
    "start_time": "2022-05-19T22:39:22.835Z"
   },
   {
    "duration": 5,
    "start_time": "2022-05-19T22:39:22.841Z"
   },
   {
    "duration": 5,
    "start_time": "2022-05-19T22:39:22.847Z"
   },
   {
    "duration": 5,
    "start_time": "2022-05-19T22:39:22.853Z"
   },
   {
    "duration": 5,
    "start_time": "2022-05-19T22:39:22.860Z"
   },
   {
    "duration": 6,
    "start_time": "2022-05-19T22:39:22.867Z"
   },
   {
    "duration": 21,
    "start_time": "2022-05-19T22:39:22.874Z"
   },
   {
    "duration": 2,
    "start_time": "2022-05-19T22:39:22.896Z"
   },
   {
    "duration": 5,
    "start_time": "2022-05-19T22:39:22.900Z"
   },
   {
    "duration": 6,
    "start_time": "2022-05-19T22:39:22.906Z"
   },
   {
    "duration": 6,
    "start_time": "2022-05-19T22:39:22.913Z"
   },
   {
    "duration": 5,
    "start_time": "2022-05-19T22:39:22.920Z"
   },
   {
    "duration": 5,
    "start_time": "2022-05-19T22:39:22.926Z"
   },
   {
    "duration": 5,
    "start_time": "2022-05-19T22:39:22.933Z"
   },
   {
    "duration": 4,
    "start_time": "2022-05-19T22:39:22.940Z"
   },
   {
    "duration": 5,
    "start_time": "2022-05-19T22:39:22.945Z"
   },
   {
    "duration": 5,
    "start_time": "2022-05-19T22:39:22.951Z"
   },
   {
    "duration": 5,
    "start_time": "2022-05-19T22:39:22.958Z"
   },
   {
    "duration": 5,
    "start_time": "2022-05-19T22:39:22.964Z"
   },
   {
    "duration": 7,
    "start_time": "2022-05-19T22:39:22.970Z"
   },
   {
    "duration": 4,
    "start_time": "2022-05-19T22:39:22.994Z"
   },
   {
    "duration": 7,
    "start_time": "2022-05-19T22:39:22.999Z"
   },
   {
    "duration": 5,
    "start_time": "2022-05-19T22:39:23.008Z"
   },
   {
    "duration": 4,
    "start_time": "2022-05-19T22:39:23.015Z"
   },
   {
    "duration": 66,
    "start_time": "2022-05-19T22:39:44.332Z"
   },
   {
    "duration": 3,
    "start_time": "2022-05-19T22:40:40.315Z"
   },
   {
    "duration": 649,
    "start_time": "2022-05-19T22:41:15.188Z"
   },
   {
    "duration": 8,
    "start_time": "2022-05-19T22:42:16.052Z"
   },
   {
    "duration": 8,
    "start_time": "2022-05-19T22:42:37.004Z"
   },
   {
    "duration": 7,
    "start_time": "2022-05-19T22:42:54.229Z"
   },
   {
    "duration": 8,
    "start_time": "2022-05-19T22:42:59.556Z"
   },
   {
    "duration": 8,
    "start_time": "2022-05-19T22:43:24.196Z"
   },
   {
    "duration": 8,
    "start_time": "2022-05-19T22:43:36.564Z"
   },
   {
    "duration": 7,
    "start_time": "2022-05-19T22:43:42.109Z"
   },
   {
    "duration": 8,
    "start_time": "2022-05-19T22:44:05.771Z"
   },
   {
    "duration": 5,
    "start_time": "2022-05-19T22:44:23.909Z"
   },
   {
    "duration": 5,
    "start_time": "2022-05-19T22:44:39.213Z"
   },
   {
    "duration": 5,
    "start_time": "2022-05-19T22:45:18.429Z"
   },
   {
    "duration": 10,
    "start_time": "2022-05-19T23:52:20.842Z"
   },
   {
    "duration": 8,
    "start_time": "2022-05-19T23:52:41.123Z"
   },
   {
    "duration": 18,
    "start_time": "2022-05-19T23:53:56.771Z"
   },
   {
    "duration": 13,
    "start_time": "2022-05-19T23:54:11.970Z"
   },
   {
    "duration": 17,
    "start_time": "2022-05-19T23:54:50.068Z"
   },
   {
    "duration": 13,
    "start_time": "2022-05-19T23:55:04.700Z"
   },
   {
    "duration": 12,
    "start_time": "2022-05-19T23:55:10.147Z"
   },
   {
    "duration": 303,
    "start_time": "2022-05-19T23:59:29.869Z"
   },
   {
    "duration": 445,
    "start_time": "2022-05-20T00:00:55.519Z"
   },
   {
    "duration": 451,
    "start_time": "2022-05-20T00:01:30.845Z"
   },
   {
    "duration": 12,
    "start_time": "2022-05-20T00:01:36.413Z"
   },
   {
    "duration": 32,
    "start_time": "2022-05-20T00:01:58.133Z"
   },
   {
    "duration": 504,
    "start_time": "2022-05-20T00:02:34.685Z"
   },
   {
    "duration": 40,
    "start_time": "2022-05-20T00:02:35.191Z"
   },
   {
    "duration": 13,
    "start_time": "2022-05-20T00:02:35.233Z"
   },
   {
    "duration": 15,
    "start_time": "2022-05-20T00:02:35.248Z"
   },
   {
    "duration": 30,
    "start_time": "2022-05-20T00:02:35.265Z"
   },
   {
    "duration": 11,
    "start_time": "2022-05-20T00:02:35.297Z"
   },
   {
    "duration": 9,
    "start_time": "2022-05-20T00:02:35.309Z"
   },
   {
    "duration": 12,
    "start_time": "2022-05-20T00:02:35.320Z"
   },
   {
    "duration": 30,
    "start_time": "2022-05-20T00:02:35.334Z"
   },
   {
    "duration": 5,
    "start_time": "2022-05-20T00:02:35.395Z"
   },
   {
    "duration": 6,
    "start_time": "2022-05-20T00:02:35.401Z"
   },
   {
    "duration": 6,
    "start_time": "2022-05-20T00:02:35.409Z"
   },
   {
    "duration": 13,
    "start_time": "2022-05-20T00:02:35.416Z"
   },
   {
    "duration": 15,
    "start_time": "2022-05-20T00:02:35.431Z"
   },
   {
    "duration": 15,
    "start_time": "2022-05-20T00:02:35.448Z"
   },
   {
    "duration": 28,
    "start_time": "2022-05-20T00:02:35.465Z"
   },
   {
    "duration": 9,
    "start_time": "2022-05-20T00:02:35.495Z"
   },
   {
    "duration": 5,
    "start_time": "2022-05-20T00:02:35.505Z"
   },
   {
    "duration": 5,
    "start_time": "2022-05-20T00:02:35.512Z"
   },
   {
    "duration": 18,
    "start_time": "2022-05-20T00:02:35.518Z"
   },
   {
    "duration": 7,
    "start_time": "2022-05-20T00:02:35.538Z"
   },
   {
    "duration": 4,
    "start_time": "2022-05-20T00:02:35.547Z"
   },
   {
    "duration": 13,
    "start_time": "2022-05-20T00:02:35.552Z"
   },
   {
    "duration": 9,
    "start_time": "2022-05-20T00:02:35.566Z"
   },
   {
    "duration": 13,
    "start_time": "2022-05-20T00:02:35.576Z"
   },
   {
    "duration": 10,
    "start_time": "2022-05-20T00:02:35.591Z"
   },
   {
    "duration": 8,
    "start_time": "2022-05-20T00:02:35.603Z"
   },
   {
    "duration": 6,
    "start_time": "2022-05-20T00:02:35.614Z"
   },
   {
    "duration": 8,
    "start_time": "2022-05-20T00:02:35.621Z"
   },
   {
    "duration": 7,
    "start_time": "2022-05-20T00:02:35.630Z"
   },
   {
    "duration": 10,
    "start_time": "2022-05-20T00:02:35.638Z"
   },
   {
    "duration": 19,
    "start_time": "2022-05-20T00:02:35.649Z"
   },
   {
    "duration": 21,
    "start_time": "2022-05-20T00:02:35.669Z"
   },
   {
    "duration": 9,
    "start_time": "2022-05-20T00:02:35.692Z"
   },
   {
    "duration": 6,
    "start_time": "2022-05-20T00:02:35.703Z"
   },
   {
    "duration": 7,
    "start_time": "2022-05-20T00:02:35.710Z"
   },
   {
    "duration": 8,
    "start_time": "2022-05-20T00:02:35.718Z"
   },
   {
    "duration": 5,
    "start_time": "2022-05-20T00:02:35.727Z"
   },
   {
    "duration": 5,
    "start_time": "2022-05-20T00:02:35.734Z"
   },
   {
    "duration": 13,
    "start_time": "2022-05-20T00:02:35.740Z"
   },
   {
    "duration": 7,
    "start_time": "2022-05-20T00:02:35.754Z"
   },
   {
    "duration": 11,
    "start_time": "2022-05-20T00:02:35.762Z"
   },
   {
    "duration": 11,
    "start_time": "2022-05-20T00:02:35.774Z"
   },
   {
    "duration": 6,
    "start_time": "2022-05-20T00:02:35.786Z"
   },
   {
    "duration": 5,
    "start_time": "2022-05-20T00:02:35.793Z"
   },
   {
    "duration": 7,
    "start_time": "2022-05-20T00:02:35.799Z"
   },
   {
    "duration": 6,
    "start_time": "2022-05-20T00:02:35.807Z"
   },
   {
    "duration": 6,
    "start_time": "2022-05-20T00:02:35.815Z"
   },
   {
    "duration": 11,
    "start_time": "2022-05-20T00:02:35.822Z"
   },
   {
    "duration": 10,
    "start_time": "2022-05-20T00:02:35.834Z"
   },
   {
    "duration": 22,
    "start_time": "2022-05-20T00:02:35.846Z"
   },
   {
    "duration": 5,
    "start_time": "2022-05-20T00:02:35.869Z"
   },
   {
    "duration": 6,
    "start_time": "2022-05-20T00:02:35.876Z"
   },
   {
    "duration": 14,
    "start_time": "2022-05-20T00:02:35.883Z"
   },
   {
    "duration": 7,
    "start_time": "2022-05-20T00:02:35.899Z"
   },
   {
    "duration": 8,
    "start_time": "2022-05-20T00:02:35.907Z"
   },
   {
    "duration": 6,
    "start_time": "2022-05-20T00:02:35.917Z"
   },
   {
    "duration": 8,
    "start_time": "2022-05-20T00:02:35.924Z"
   },
   {
    "duration": 9,
    "start_time": "2022-05-20T00:02:35.933Z"
   },
   {
    "duration": 12,
    "start_time": "2022-05-20T00:02:35.943Z"
   },
   {
    "duration": 5,
    "start_time": "2022-05-20T00:02:35.956Z"
   },
   {
    "duration": 5,
    "start_time": "2022-05-20T00:02:35.963Z"
   },
   {
    "duration": 5,
    "start_time": "2022-05-20T00:02:35.969Z"
   },
   {
    "duration": 5,
    "start_time": "2022-05-20T00:02:35.975Z"
   },
   {
    "duration": 5,
    "start_time": "2022-05-20T00:02:35.981Z"
   },
   {
    "duration": 6,
    "start_time": "2022-05-20T00:02:35.987Z"
   },
   {
    "duration": 7,
    "start_time": "2022-05-20T00:02:35.995Z"
   },
   {
    "duration": 7,
    "start_time": "2022-05-20T00:02:36.003Z"
   },
   {
    "duration": 5,
    "start_time": "2022-05-20T00:02:36.011Z"
   },
   {
    "duration": 6,
    "start_time": "2022-05-20T00:02:36.018Z"
   },
   {
    "duration": 5,
    "start_time": "2022-05-20T00:02:36.025Z"
   },
   {
    "duration": 7,
    "start_time": "2022-05-20T00:02:36.031Z"
   },
   {
    "duration": 22,
    "start_time": "2022-05-20T00:02:36.040Z"
   },
   {
    "duration": 6,
    "start_time": "2022-05-20T00:02:36.063Z"
   },
   {
    "duration": 30,
    "start_time": "2022-05-20T00:02:46.376Z"
   },
   {
    "duration": 12,
    "start_time": "2022-05-20T00:04:07.561Z"
   },
   {
    "duration": 5,
    "start_time": "2022-05-20T00:08:29.256Z"
   },
   {
    "duration": 66,
    "start_time": "2022-05-20T00:08:41.522Z"
   },
   {
    "duration": 5,
    "start_time": "2022-05-20T00:08:55.034Z"
   },
   {
    "duration": 6,
    "start_time": "2022-05-20T00:09:12.169Z"
   },
   {
    "duration": 6,
    "start_time": "2022-05-20T00:10:12.562Z"
   },
   {
    "duration": 7,
    "start_time": "2022-05-20T00:10:41.650Z"
   },
   {
    "duration": 63,
    "start_time": "2022-05-20T13:43:05.675Z"
   },
   {
    "duration": 75,
    "start_time": "2022-05-20T13:43:58.759Z"
   },
   {
    "duration": 14,
    "start_time": "2022-05-20T13:44:17.831Z"
   },
   {
    "duration": 13,
    "start_time": "2022-05-20T13:44:23.724Z"
   },
   {
    "duration": 15,
    "start_time": "2022-05-20T13:44:33.741Z"
   },
   {
    "duration": 61,
    "start_time": "2022-05-20T13:45:56.607Z"
   },
   {
    "duration": 6,
    "start_time": "2022-05-20T13:46:43.451Z"
   },
   {
    "duration": 630,
    "start_time": "2022-05-20T13:47:22.190Z"
   },
   {
    "duration": 5,
    "start_time": "2022-05-20T13:47:34.724Z"
   },
   {
    "duration": 38,
    "start_time": "2022-05-20T13:48:09.580Z"
   },
   {
    "duration": 22,
    "start_time": "2022-05-20T13:48:16.139Z"
   },
   {
    "duration": 13,
    "start_time": "2022-05-20T13:48:55.318Z"
   },
   {
    "duration": 11,
    "start_time": "2022-05-20T13:49:07.485Z"
   },
   {
    "duration": 21,
    "start_time": "2022-05-20T13:49:21.145Z"
   },
   {
    "duration": 8,
    "start_time": "2022-05-20T13:50:44.688Z"
   },
   {
    "duration": 11,
    "start_time": "2022-05-20T13:50:52.627Z"
   },
   {
    "duration": 12,
    "start_time": "2022-05-20T13:51:06.910Z"
   },
   {
    "duration": 24,
    "start_time": "2022-05-20T13:51:45.913Z"
   },
   {
    "duration": 735,
    "start_time": "2022-05-21T18:02:06.230Z"
   },
   {
    "duration": 63,
    "start_time": "2022-05-21T18:02:06.967Z"
   },
   {
    "duration": 14,
    "start_time": "2022-05-21T18:02:07.033Z"
   },
   {
    "duration": 40,
    "start_time": "2022-05-21T18:02:07.049Z"
   },
   {
    "duration": 8,
    "start_time": "2022-05-21T18:02:07.092Z"
   },
   {
    "duration": 27,
    "start_time": "2022-05-21T18:02:07.102Z"
   },
   {
    "duration": 23,
    "start_time": "2022-05-21T18:02:07.131Z"
   },
   {
    "duration": 35,
    "start_time": "2022-05-21T18:02:07.156Z"
   },
   {
    "duration": 23,
    "start_time": "2022-05-21T18:02:07.192Z"
   },
   {
    "duration": 34,
    "start_time": "2022-05-21T18:02:07.218Z"
   },
   {
    "duration": 51,
    "start_time": "2022-05-21T18:02:07.254Z"
   },
   {
    "duration": 9,
    "start_time": "2022-05-21T18:02:07.307Z"
   },
   {
    "duration": 12,
    "start_time": "2022-05-21T18:02:07.318Z"
   },
   {
    "duration": 22,
    "start_time": "2022-05-21T18:02:07.333Z"
   },
   {
    "duration": 29,
    "start_time": "2022-05-21T18:02:07.357Z"
   },
   {
    "duration": 14,
    "start_time": "2022-05-21T18:02:07.388Z"
   },
   {
    "duration": 8,
    "start_time": "2022-05-21T18:02:07.404Z"
   },
   {
    "duration": 9,
    "start_time": "2022-05-21T18:02:07.414Z"
   },
   {
    "duration": 8,
    "start_time": "2022-05-21T18:02:07.425Z"
   },
   {
    "duration": 14,
    "start_time": "2022-05-21T18:02:07.435Z"
   },
   {
    "duration": 11,
    "start_time": "2022-05-21T18:02:07.451Z"
   },
   {
    "duration": 17,
    "start_time": "2022-05-21T18:02:07.464Z"
   },
   {
    "duration": 20,
    "start_time": "2022-05-21T18:02:07.483Z"
   },
   {
    "duration": 17,
    "start_time": "2022-05-21T18:02:07.506Z"
   },
   {
    "duration": 7,
    "start_time": "2022-05-21T18:02:07.525Z"
   },
   {
    "duration": 8,
    "start_time": "2022-05-21T18:02:07.534Z"
   },
   {
    "duration": 14,
    "start_time": "2022-05-21T18:02:07.546Z"
   },
   {
    "duration": 13,
    "start_time": "2022-05-21T18:02:07.565Z"
   },
   {
    "duration": 9,
    "start_time": "2022-05-21T18:02:07.580Z"
   },
   {
    "duration": 19,
    "start_time": "2022-05-21T18:02:07.591Z"
   },
   {
    "duration": 19,
    "start_time": "2022-05-21T18:02:07.612Z"
   },
   {
    "duration": 8,
    "start_time": "2022-05-21T18:02:07.634Z"
   },
   {
    "duration": 8,
    "start_time": "2022-05-21T18:02:07.644Z"
   },
   {
    "duration": 8,
    "start_time": "2022-05-21T18:02:07.655Z"
   },
   {
    "duration": 16,
    "start_time": "2022-05-21T18:02:07.665Z"
   },
   {
    "duration": 11,
    "start_time": "2022-05-21T18:02:07.683Z"
   },
   {
    "duration": 7,
    "start_time": "2022-05-21T18:02:07.696Z"
   },
   {
    "duration": 20,
    "start_time": "2022-05-21T18:02:07.705Z"
   },
   {
    "duration": 10,
    "start_time": "2022-05-21T18:02:07.727Z"
   },
   {
    "duration": 25,
    "start_time": "2022-05-21T18:02:07.739Z"
   },
   {
    "duration": 7,
    "start_time": "2022-05-21T18:02:07.766Z"
   },
   {
    "duration": 15,
    "start_time": "2022-05-21T18:02:07.775Z"
   },
   {
    "duration": 21,
    "start_time": "2022-05-21T18:02:07.792Z"
   },
   {
    "duration": 10,
    "start_time": "2022-05-21T18:02:07.816Z"
   },
   {
    "duration": 10,
    "start_time": "2022-05-21T18:02:07.828Z"
   },
   {
    "duration": 17,
    "start_time": "2022-05-21T18:02:07.840Z"
   },
   {
    "duration": 13,
    "start_time": "2022-05-21T18:02:07.859Z"
   },
   {
    "duration": 15,
    "start_time": "2022-05-21T18:02:07.875Z"
   },
   {
    "duration": 19,
    "start_time": "2022-05-21T18:02:07.892Z"
   },
   {
    "duration": 13,
    "start_time": "2022-05-21T18:02:07.913Z"
   },
   {
    "duration": 3,
    "start_time": "2022-05-21T18:02:07.930Z"
   },
   {
    "duration": 7,
    "start_time": "2022-05-21T18:02:07.935Z"
   },
   {
    "duration": 4,
    "start_time": "2022-05-21T18:02:07.944Z"
   },
   {
    "duration": 5,
    "start_time": "2022-05-21T18:02:07.949Z"
   },
   {
    "duration": 4,
    "start_time": "2022-05-21T18:02:07.956Z"
   },
   {
    "duration": 6,
    "start_time": "2022-05-21T18:02:07.962Z"
   },
   {
    "duration": 6,
    "start_time": "2022-05-21T18:02:07.969Z"
   },
   {
    "duration": 5,
    "start_time": "2022-05-21T18:02:07.977Z"
   },
   {
    "duration": 24,
    "start_time": "2022-05-21T18:02:07.984Z"
   },
   {
    "duration": 7,
    "start_time": "2022-05-21T18:02:08.010Z"
   },
   {
    "duration": 5,
    "start_time": "2022-05-21T18:02:08.019Z"
   },
   {
    "duration": 5,
    "start_time": "2022-05-21T18:02:08.026Z"
   },
   {
    "duration": 8,
    "start_time": "2022-05-21T18:02:08.032Z"
   },
   {
    "duration": 6,
    "start_time": "2022-05-21T18:02:08.042Z"
   },
   {
    "duration": 7,
    "start_time": "2022-05-21T18:02:08.050Z"
   },
   {
    "duration": 9,
    "start_time": "2022-05-21T18:02:08.058Z"
   },
   {
    "duration": 4,
    "start_time": "2022-05-21T18:02:08.069Z"
   },
   {
    "duration": 8,
    "start_time": "2022-05-21T18:02:08.075Z"
   },
   {
    "duration": 17,
    "start_time": "2022-05-21T18:02:08.086Z"
   },
   {
    "duration": 6,
    "start_time": "2022-05-21T18:02:08.105Z"
   },
   {
    "duration": 5,
    "start_time": "2022-05-21T18:02:08.113Z"
   },
   {
    "duration": 5,
    "start_time": "2022-05-21T18:02:08.120Z"
   },
   {
    "duration": 6,
    "start_time": "2022-05-21T18:02:08.127Z"
   },
   {
    "duration": 9,
    "start_time": "2022-05-21T18:02:08.135Z"
   },
   {
    "duration": 8,
    "start_time": "2022-05-21T18:02:08.146Z"
   },
   {
    "duration": 706,
    "start_time": "2022-05-22T13:35:48.336Z"
   },
   {
    "duration": 55,
    "start_time": "2022-05-22T13:35:49.048Z"
   },
   {
    "duration": 14,
    "start_time": "2022-05-22T13:35:49.106Z"
   },
   {
    "duration": 46,
    "start_time": "2022-05-22T13:35:49.122Z"
   },
   {
    "duration": 6,
    "start_time": "2022-05-22T13:35:49.171Z"
   },
   {
    "duration": 16,
    "start_time": "2022-05-22T13:35:49.179Z"
   },
   {
    "duration": 11,
    "start_time": "2022-05-22T13:35:49.197Z"
   },
   {
    "duration": 38,
    "start_time": "2022-05-22T13:35:49.210Z"
   },
   {
    "duration": 14,
    "start_time": "2022-05-22T13:35:49.250Z"
   },
   {
    "duration": 22,
    "start_time": "2022-05-22T13:35:49.266Z"
   },
   {
    "duration": 21,
    "start_time": "2022-05-22T13:35:49.290Z"
   },
   {
    "duration": 2,
    "start_time": "2022-05-22T13:35:49.313Z"
   },
   {
    "duration": 40,
    "start_time": "2022-05-22T13:35:49.317Z"
   },
   {
    "duration": 6,
    "start_time": "2022-05-22T13:35:49.361Z"
   },
   {
    "duration": 5,
    "start_time": "2022-05-22T13:35:49.368Z"
   },
   {
    "duration": 5,
    "start_time": "2022-05-22T13:35:49.375Z"
   },
   {
    "duration": 6,
    "start_time": "2022-05-22T13:35:49.381Z"
   },
   {
    "duration": 6,
    "start_time": "2022-05-22T13:35:49.389Z"
   },
   {
    "duration": 4,
    "start_time": "2022-05-22T13:35:49.397Z"
   },
   {
    "duration": 5,
    "start_time": "2022-05-22T13:35:49.402Z"
   },
   {
    "duration": 4,
    "start_time": "2022-05-22T13:35:49.408Z"
   },
   {
    "duration": 7,
    "start_time": "2022-05-22T13:35:49.414Z"
   },
   {
    "duration": 18,
    "start_time": "2022-05-22T13:35:49.423Z"
   },
   {
    "duration": 2,
    "start_time": "2022-05-22T13:35:49.444Z"
   },
   {
    "duration": 11,
    "start_time": "2022-05-22T13:35:49.449Z"
   },
   {
    "duration": 4,
    "start_time": "2022-05-22T13:35:49.462Z"
   },
   {
    "duration": 4,
    "start_time": "2022-05-22T13:35:49.468Z"
   },
   {
    "duration": 5,
    "start_time": "2022-05-22T13:35:49.473Z"
   },
   {
    "duration": 4,
    "start_time": "2022-05-22T13:35:49.480Z"
   },
   {
    "duration": 7,
    "start_time": "2022-05-22T13:35:49.486Z"
   },
   {
    "duration": 6,
    "start_time": "2022-05-22T13:35:49.495Z"
   },
   {
    "duration": 8,
    "start_time": "2022-05-22T13:35:49.502Z"
   },
   {
    "duration": 6,
    "start_time": "2022-05-22T13:35:49.511Z"
   },
   {
    "duration": 7,
    "start_time": "2022-05-22T13:35:49.519Z"
   },
   {
    "duration": 21,
    "start_time": "2022-05-22T13:35:49.528Z"
   },
   {
    "duration": 7,
    "start_time": "2022-05-22T13:35:49.554Z"
   },
   {
    "duration": 5,
    "start_time": "2022-05-22T13:35:49.562Z"
   },
   {
    "duration": 5,
    "start_time": "2022-05-22T13:35:49.568Z"
   },
   {
    "duration": 5,
    "start_time": "2022-05-22T13:35:49.574Z"
   },
   {
    "duration": 4,
    "start_time": "2022-05-22T13:35:49.580Z"
   },
   {
    "duration": 2,
    "start_time": "2022-05-22T13:35:49.589Z"
   },
   {
    "duration": 5,
    "start_time": "2022-05-22T13:35:49.593Z"
   },
   {
    "duration": 6,
    "start_time": "2022-05-22T13:35:49.600Z"
   },
   {
    "duration": 6,
    "start_time": "2022-05-22T13:35:49.608Z"
   },
   {
    "duration": 5,
    "start_time": "2022-05-22T13:35:49.616Z"
   },
   {
    "duration": 8,
    "start_time": "2022-05-22T13:35:49.641Z"
   },
   {
    "duration": 12,
    "start_time": "2022-05-22T13:35:49.651Z"
   },
   {
    "duration": 4,
    "start_time": "2022-05-22T13:35:49.665Z"
   },
   {
    "duration": 5,
    "start_time": "2022-05-22T13:35:49.671Z"
   },
   {
    "duration": 6,
    "start_time": "2022-05-22T13:35:49.678Z"
   },
   {
    "duration": 4,
    "start_time": "2022-05-22T13:35:49.686Z"
   },
   {
    "duration": 6,
    "start_time": "2022-05-22T13:35:49.692Z"
   },
   {
    "duration": 5,
    "start_time": "2022-05-22T13:35:49.699Z"
   },
   {
    "duration": 5,
    "start_time": "2022-05-22T13:35:49.706Z"
   },
   {
    "duration": 4,
    "start_time": "2022-05-22T13:35:49.712Z"
   },
   {
    "duration": 4,
    "start_time": "2022-05-22T13:35:49.718Z"
   },
   {
    "duration": 21,
    "start_time": "2022-05-22T13:35:49.723Z"
   },
   {
    "duration": 4,
    "start_time": "2022-05-22T13:35:49.745Z"
   },
   {
    "duration": 9,
    "start_time": "2022-05-22T13:35:49.753Z"
   },
   {
    "duration": 4,
    "start_time": "2022-05-22T13:35:49.763Z"
   },
   {
    "duration": 6,
    "start_time": "2022-05-22T13:35:49.769Z"
   },
   {
    "duration": 4,
    "start_time": "2022-05-22T13:35:49.776Z"
   },
   {
    "duration": 8,
    "start_time": "2022-05-22T13:35:49.781Z"
   },
   {
    "duration": 17,
    "start_time": "2022-05-22T13:35:49.790Z"
   },
   {
    "duration": 6,
    "start_time": "2022-05-22T13:35:49.810Z"
   },
   {
    "duration": 16,
    "start_time": "2022-05-22T13:35:49.818Z"
   },
   {
    "duration": 17,
    "start_time": "2022-05-22T13:35:49.836Z"
   },
   {
    "duration": 2,
    "start_time": "2022-05-22T13:35:49.854Z"
   },
   {
    "duration": 14,
    "start_time": "2022-05-22T13:35:49.858Z"
   },
   {
    "duration": 5,
    "start_time": "2022-05-22T13:35:49.874Z"
   },
   {
    "duration": 8,
    "start_time": "2022-05-22T13:35:49.880Z"
   },
   {
    "duration": 6,
    "start_time": "2022-05-22T13:35:49.890Z"
   },
   {
    "duration": 10,
    "start_time": "2022-05-22T13:35:49.898Z"
   },
   {
    "duration": 17,
    "start_time": "2022-05-22T13:35:49.911Z"
   },
   {
    "duration": 7,
    "start_time": "2022-05-22T13:35:49.930Z"
   },
   {
    "duration": 22,
    "start_time": "2022-05-22T13:39:37.471Z"
   },
   {
    "duration": 7,
    "start_time": "2022-05-22T13:45:02.267Z"
   },
   {
    "duration": 81,
    "start_time": "2022-05-22T13:45:42.340Z"
   },
   {
    "duration": 15,
    "start_time": "2022-05-22T13:45:49.961Z"
   },
   {
    "duration": 11,
    "start_time": "2022-05-22T13:46:10.601Z"
   },
   {
    "duration": 6,
    "start_time": "2022-05-22T13:46:31.957Z"
   },
   {
    "duration": 42,
    "start_time": "2022-05-22T13:48:41.025Z"
   },
   {
    "duration": 9,
    "start_time": "2022-05-22T13:48:54.127Z"
   },
   {
    "duration": 9,
    "start_time": "2022-05-22T13:49:10.490Z"
   },
   {
    "duration": 62,
    "start_time": "2022-05-22T17:32:53.805Z"
   },
   {
    "duration": 606,
    "start_time": "2022-05-22T17:33:00.931Z"
   },
   {
    "duration": 39,
    "start_time": "2022-05-22T17:33:01.539Z"
   },
   {
    "duration": 12,
    "start_time": "2022-05-22T17:33:01.580Z"
   },
   {
    "duration": 22,
    "start_time": "2022-05-22T17:33:01.594Z"
   },
   {
    "duration": 20,
    "start_time": "2022-05-22T17:33:01.627Z"
   },
   {
    "duration": 20,
    "start_time": "2022-05-22T17:33:01.649Z"
   },
   {
    "duration": 27,
    "start_time": "2022-05-22T17:33:01.671Z"
   },
   {
    "duration": 16,
    "start_time": "2022-05-22T17:33:01.700Z"
   },
   {
    "duration": 16,
    "start_time": "2022-05-22T17:33:01.718Z"
   },
   {
    "duration": 34,
    "start_time": "2022-05-22T17:33:01.738Z"
   },
   {
    "duration": 25,
    "start_time": "2022-05-22T17:33:01.776Z"
   },
   {
    "duration": 3,
    "start_time": "2022-05-22T17:33:01.803Z"
   },
   {
    "duration": 39,
    "start_time": "2022-05-22T17:33:01.808Z"
   },
   {
    "duration": 3,
    "start_time": "2022-05-22T17:33:01.849Z"
   },
   {
    "duration": 8,
    "start_time": "2022-05-22T17:33:01.854Z"
   },
   {
    "duration": 50,
    "start_time": "2022-05-22T17:33:01.865Z"
   },
   {
    "duration": 21,
    "start_time": "2022-05-22T17:33:01.917Z"
   },
   {
    "duration": 27,
    "start_time": "2022-05-22T17:33:01.940Z"
   },
   {
    "duration": 32,
    "start_time": "2022-05-22T17:33:01.969Z"
   },
   {
    "duration": 94,
    "start_time": "2022-05-22T17:33:02.003Z"
   },
   {
    "duration": 0,
    "start_time": "2022-05-22T17:33:02.101Z"
   },
   {
    "duration": 0,
    "start_time": "2022-05-22T17:33:02.102Z"
   },
   {
    "duration": 0,
    "start_time": "2022-05-22T17:33:02.104Z"
   },
   {
    "duration": 0,
    "start_time": "2022-05-22T17:33:02.106Z"
   },
   {
    "duration": 0,
    "start_time": "2022-05-22T17:33:02.106Z"
   },
   {
    "duration": 0,
    "start_time": "2022-05-22T17:33:02.108Z"
   },
   {
    "duration": 0,
    "start_time": "2022-05-22T17:33:02.109Z"
   },
   {
    "duration": 0,
    "start_time": "2022-05-22T17:33:02.110Z"
   },
   {
    "duration": 0,
    "start_time": "2022-05-22T17:33:02.111Z"
   },
   {
    "duration": 0,
    "start_time": "2022-05-22T17:33:02.112Z"
   },
   {
    "duration": 0,
    "start_time": "2022-05-22T17:33:02.113Z"
   },
   {
    "duration": 0,
    "start_time": "2022-05-22T17:33:02.127Z"
   },
   {
    "duration": 0,
    "start_time": "2022-05-22T17:33:02.128Z"
   },
   {
    "duration": 0,
    "start_time": "2022-05-22T17:33:02.130Z"
   },
   {
    "duration": 0,
    "start_time": "2022-05-22T17:33:02.131Z"
   },
   {
    "duration": 0,
    "start_time": "2022-05-22T17:33:02.133Z"
   },
   {
    "duration": 0,
    "start_time": "2022-05-22T17:33:02.134Z"
   },
   {
    "duration": 0,
    "start_time": "2022-05-22T17:33:02.136Z"
   },
   {
    "duration": 0,
    "start_time": "2022-05-22T17:33:02.137Z"
   },
   {
    "duration": 0,
    "start_time": "2022-05-22T17:33:02.138Z"
   },
   {
    "duration": 0,
    "start_time": "2022-05-22T17:33:02.140Z"
   },
   {
    "duration": 0,
    "start_time": "2022-05-22T17:33:02.141Z"
   },
   {
    "duration": 0,
    "start_time": "2022-05-22T17:33:02.143Z"
   },
   {
    "duration": 0,
    "start_time": "2022-05-22T17:33:02.144Z"
   },
   {
    "duration": 0,
    "start_time": "2022-05-22T17:33:02.146Z"
   },
   {
    "duration": 0,
    "start_time": "2022-05-22T17:33:02.147Z"
   },
   {
    "duration": 0,
    "start_time": "2022-05-22T17:33:02.149Z"
   },
   {
    "duration": 0,
    "start_time": "2022-05-22T17:33:02.151Z"
   },
   {
    "duration": 1,
    "start_time": "2022-05-22T17:33:02.151Z"
   },
   {
    "duration": 0,
    "start_time": "2022-05-22T17:33:02.153Z"
   },
   {
    "duration": 0,
    "start_time": "2022-05-22T17:33:02.154Z"
   },
   {
    "duration": 0,
    "start_time": "2022-05-22T17:33:02.156Z"
   },
   {
    "duration": 0,
    "start_time": "2022-05-22T17:33:02.156Z"
   },
   {
    "duration": 0,
    "start_time": "2022-05-22T17:33:02.157Z"
   },
   {
    "duration": 0,
    "start_time": "2022-05-22T17:33:02.159Z"
   },
   {
    "duration": 0,
    "start_time": "2022-05-22T17:33:02.160Z"
   },
   {
    "duration": 0,
    "start_time": "2022-05-22T17:33:02.160Z"
   },
   {
    "duration": 0,
    "start_time": "2022-05-22T17:33:02.162Z"
   },
   {
    "duration": 0,
    "start_time": "2022-05-22T17:33:02.163Z"
   },
   {
    "duration": 0,
    "start_time": "2022-05-22T17:33:02.164Z"
   },
   {
    "duration": 0,
    "start_time": "2022-05-22T17:33:02.165Z"
   },
   {
    "duration": 0,
    "start_time": "2022-05-22T17:33:02.227Z"
   },
   {
    "duration": 0,
    "start_time": "2022-05-22T17:33:02.230Z"
   },
   {
    "duration": 0,
    "start_time": "2022-05-22T17:33:02.231Z"
   },
   {
    "duration": 0,
    "start_time": "2022-05-22T17:33:02.232Z"
   },
   {
    "duration": 0,
    "start_time": "2022-05-22T17:33:02.234Z"
   },
   {
    "duration": 0,
    "start_time": "2022-05-22T17:33:02.235Z"
   },
   {
    "duration": 0,
    "start_time": "2022-05-22T17:33:02.236Z"
   },
   {
    "duration": 0,
    "start_time": "2022-05-22T17:33:02.237Z"
   },
   {
    "duration": 0,
    "start_time": "2022-05-22T17:33:02.239Z"
   },
   {
    "duration": 0,
    "start_time": "2022-05-22T17:33:02.240Z"
   },
   {
    "duration": 0,
    "start_time": "2022-05-22T17:33:02.241Z"
   },
   {
    "duration": 0,
    "start_time": "2022-05-22T17:33:02.242Z"
   },
   {
    "duration": 0,
    "start_time": "2022-05-22T17:33:02.244Z"
   },
   {
    "duration": 0,
    "start_time": "2022-05-22T17:33:02.245Z"
   },
   {
    "duration": 0,
    "start_time": "2022-05-22T17:33:02.247Z"
   },
   {
    "duration": 9,
    "start_time": "2022-05-22T17:33:12.265Z"
   },
   {
    "duration": 17,
    "start_time": "2022-05-22T17:33:27.207Z"
   },
   {
    "duration": 8,
    "start_time": "2022-05-22T17:33:52.808Z"
   },
   {
    "duration": 10,
    "start_time": "2022-05-22T17:34:09.362Z"
   },
   {
    "duration": 10,
    "start_time": "2022-05-22T17:34:15.855Z"
   },
   {
    "duration": 16,
    "start_time": "2022-05-22T17:42:20.876Z"
   },
   {
    "duration": 10,
    "start_time": "2022-05-22T17:42:25.693Z"
   },
   {
    "duration": 10,
    "start_time": "2022-05-22T17:43:16.410Z"
   },
   {
    "duration": 11,
    "start_time": "2022-05-22T17:43:28.695Z"
   },
   {
    "duration": 12,
    "start_time": "2022-05-22T17:43:32.430Z"
   },
   {
    "duration": 4,
    "start_time": "2022-05-22T17:44:00.498Z"
   },
   {
    "duration": 54,
    "start_time": "2022-05-23T17:50:38.542Z"
   },
   {
    "duration": 283,
    "start_time": "2022-05-23T17:50:43.043Z"
   },
   {
    "duration": 29,
    "start_time": "2022-05-23T17:51:03.268Z"
   },
   {
    "duration": 18,
    "start_time": "2022-05-23T17:51:42.242Z"
   },
   {
    "duration": 44,
    "start_time": "2022-05-23T17:52:00.109Z"
   },
   {
    "duration": 7,
    "start_time": "2022-05-23T17:52:28.794Z"
   },
   {
    "duration": 24,
    "start_time": "2022-05-23T17:52:50.180Z"
   },
   {
    "duration": 9,
    "start_time": "2022-05-23T17:52:55.668Z"
   },
   {
    "duration": 7,
    "start_time": "2022-05-23T17:53:02.802Z"
   },
   {
    "duration": 10,
    "start_time": "2022-05-23T17:55:23.464Z"
   },
   {
    "duration": 10,
    "start_time": "2022-05-23T17:55:50.165Z"
   },
   {
    "duration": 10,
    "start_time": "2022-05-23T17:56:33.669Z"
   },
   {
    "duration": 7,
    "start_time": "2022-05-23T17:57:34.642Z"
   },
   {
    "duration": 6,
    "start_time": "2022-05-23T17:58:26.294Z"
   },
   {
    "duration": 9,
    "start_time": "2022-05-23T18:02:27.644Z"
   },
   {
    "duration": 3,
    "start_time": "2022-05-23T18:02:46.228Z"
   },
   {
    "duration": 10,
    "start_time": "2022-05-23T18:04:29.951Z"
   },
   {
    "duration": 4,
    "start_time": "2022-05-23T18:11:27.097Z"
   },
   {
    "duration": 4,
    "start_time": "2022-05-23T18:11:46.714Z"
   },
   {
    "duration": 4,
    "start_time": "2022-05-23T18:12:11.574Z"
   },
   {
    "duration": 3,
    "start_time": "2022-05-23T18:12:27.219Z"
   },
   {
    "duration": 3,
    "start_time": "2022-05-23T18:12:37.480Z"
   },
   {
    "duration": 4,
    "start_time": "2022-05-23T18:12:45.568Z"
   },
   {
    "duration": 20,
    "start_time": "2022-05-23T18:16:12.922Z"
   },
   {
    "duration": 250,
    "start_time": "2022-05-23T18:16:44.353Z"
   },
   {
    "duration": 20,
    "start_time": "2022-05-23T18:16:56.462Z"
   },
   {
    "duration": 31,
    "start_time": "2022-05-23T18:17:26.362Z"
   },
   {
    "duration": 28,
    "start_time": "2022-05-23T18:17:31.281Z"
   },
   {
    "duration": 32,
    "start_time": "2022-05-23T18:17:32.720Z"
   },
   {
    "duration": 8,
    "start_time": "2022-05-23T18:17:52.505Z"
   },
   {
    "duration": 13,
    "start_time": "2022-05-23T18:18:40.951Z"
   },
   {
    "duration": 6,
    "start_time": "2022-05-23T18:24:21.222Z"
   },
   {
    "duration": 5,
    "start_time": "2022-05-23T18:24:37.565Z"
   },
   {
    "duration": 6,
    "start_time": "2022-05-23T18:24:52.371Z"
   },
   {
    "duration": 9,
    "start_time": "2022-05-23T18:25:21.396Z"
   },
   {
    "duration": 8,
    "start_time": "2022-05-23T18:26:23.852Z"
   },
   {
    "duration": 6,
    "start_time": "2022-05-23T18:26:36.327Z"
   },
   {
    "duration": 5,
    "start_time": "2022-05-23T18:27:57.620Z"
   },
   {
    "duration": 3,
    "start_time": "2022-05-23T18:28:06.191Z"
   },
   {
    "duration": 3,
    "start_time": "2022-05-23T18:28:10.246Z"
   },
   {
    "duration": 3,
    "start_time": "2022-05-23T18:28:25.947Z"
   },
   {
    "duration": 28,
    "start_time": "2022-05-23T19:23:57.792Z"
   },
   {
    "duration": 5,
    "start_time": "2022-05-23T19:24:15.577Z"
   },
   {
    "duration": 156,
    "start_time": "2022-05-23T19:38:08.082Z"
   },
   {
    "duration": 111,
    "start_time": "2022-05-23T19:38:56.781Z"
   },
   {
    "duration": 171,
    "start_time": "2022-05-23T19:41:46.254Z"
   },
   {
    "duration": 145,
    "start_time": "2022-05-23T19:41:59.983Z"
   },
   {
    "duration": 138,
    "start_time": "2022-05-23T19:42:11.599Z"
   },
   {
    "duration": 126,
    "start_time": "2022-05-23T19:42:15.581Z"
   },
   {
    "duration": 5,
    "start_time": "2022-05-23T19:43:44.874Z"
   },
   {
    "duration": 13,
    "start_time": "2022-05-23T19:43:57.302Z"
   },
   {
    "duration": 15,
    "start_time": "2022-05-23T19:44:07.980Z"
   },
   {
    "duration": 15,
    "start_time": "2022-05-23T19:44:14.675Z"
   },
   {
    "duration": 14,
    "start_time": "2022-05-23T19:44:22.875Z"
   },
   {
    "duration": 17,
    "start_time": "2022-05-23T19:45:11.013Z"
   },
   {
    "duration": 17,
    "start_time": "2022-05-23T19:45:29.622Z"
   },
   {
    "duration": 17,
    "start_time": "2022-05-23T19:45:36.486Z"
   },
   {
    "duration": 54,
    "start_time": "2022-05-23T19:46:49.910Z"
   },
   {
    "duration": 13,
    "start_time": "2022-05-23T19:46:53.887Z"
   },
   {
    "duration": 9,
    "start_time": "2022-05-23T19:47:18.325Z"
   },
   {
    "duration": 62,
    "start_time": "2022-05-23T19:47:32.278Z"
   },
   {
    "duration": 16,
    "start_time": "2022-05-23T19:48:07.215Z"
   },
   {
    "duration": 55,
    "start_time": "2022-05-23T19:48:54.168Z"
   },
   {
    "duration": 14,
    "start_time": "2022-05-23T19:48:59.689Z"
   },
   {
    "duration": 441,
    "start_time": "2022-05-23T19:49:25.091Z"
   },
   {
    "duration": 14,
    "start_time": "2022-05-23T19:49:32.207Z"
   },
   {
    "duration": 22,
    "start_time": "2022-05-24T12:48:55.282Z"
   },
   {
    "duration": 3,
    "start_time": "2022-05-24T12:58:32.908Z"
   },
   {
    "duration": 5,
    "start_time": "2022-05-24T12:58:49.879Z"
   },
   {
    "duration": 7,
    "start_time": "2022-05-24T12:59:22.113Z"
   },
   {
    "duration": 6,
    "start_time": "2022-05-24T13:00:21.197Z"
   },
   {
    "duration": 66,
    "start_time": "2022-05-24T13:01:14.067Z"
   },
   {
    "duration": 5,
    "start_time": "2022-05-24T13:01:18.801Z"
   },
   {
    "duration": 19,
    "start_time": "2022-05-24T13:02:42.022Z"
   },
   {
    "duration": 8,
    "start_time": "2022-05-24T13:03:22.024Z"
   },
   {
    "duration": 7,
    "start_time": "2022-05-24T13:04:12.875Z"
   },
   {
    "duration": 8,
    "start_time": "2022-05-24T13:04:21.210Z"
   },
   {
    "duration": 17,
    "start_time": "2022-05-24T13:07:04.538Z"
   },
   {
    "duration": 11,
    "start_time": "2022-05-24T13:07:31.636Z"
   },
   {
    "duration": 54,
    "start_time": "2022-05-24T23:28:12.653Z"
   },
   {
    "duration": 653,
    "start_time": "2022-05-24T23:28:20.413Z"
   },
   {
    "duration": 44,
    "start_time": "2022-05-24T23:28:21.068Z"
   },
   {
    "duration": 17,
    "start_time": "2022-05-24T23:28:21.115Z"
   },
   {
    "duration": 20,
    "start_time": "2022-05-24T23:28:21.136Z"
   },
   {
    "duration": 5,
    "start_time": "2022-05-24T23:28:21.158Z"
   },
   {
    "duration": 15,
    "start_time": "2022-05-24T23:28:21.165Z"
   },
   {
    "duration": 23,
    "start_time": "2022-05-24T23:28:21.182Z"
   },
   {
    "duration": 30,
    "start_time": "2022-05-24T23:28:21.206Z"
   },
   {
    "duration": 18,
    "start_time": "2022-05-24T23:28:21.238Z"
   },
   {
    "duration": 30,
    "start_time": "2022-05-24T23:28:21.260Z"
   },
   {
    "duration": 46,
    "start_time": "2022-05-24T23:28:21.292Z"
   },
   {
    "duration": 8,
    "start_time": "2022-05-24T23:28:21.340Z"
   },
   {
    "duration": 27,
    "start_time": "2022-05-24T23:28:21.351Z"
   },
   {
    "duration": 8,
    "start_time": "2022-05-24T23:28:21.380Z"
   },
   {
    "duration": 8,
    "start_time": "2022-05-24T23:28:21.389Z"
   },
   {
    "duration": 30,
    "start_time": "2022-05-24T23:28:21.399Z"
   },
   {
    "duration": 11,
    "start_time": "2022-05-24T23:28:21.431Z"
   },
   {
    "duration": 17,
    "start_time": "2022-05-24T23:28:21.444Z"
   },
   {
    "duration": 10,
    "start_time": "2022-05-24T23:28:21.463Z"
   },
   {
    "duration": 9,
    "start_time": "2022-05-24T23:28:21.475Z"
   },
   {
    "duration": 74,
    "start_time": "2022-05-24T23:28:21.485Z"
   },
   {
    "duration": 8,
    "start_time": "2022-05-24T23:28:21.561Z"
   },
   {
    "duration": 19,
    "start_time": "2022-05-24T23:28:21.571Z"
   },
   {
    "duration": 28,
    "start_time": "2022-05-24T23:28:21.593Z"
   },
   {
    "duration": 22,
    "start_time": "2022-05-24T23:28:21.626Z"
   },
   {
    "duration": 3,
    "start_time": "2022-05-24T23:28:21.650Z"
   },
   {
    "duration": 18,
    "start_time": "2022-05-24T23:28:21.655Z"
   },
   {
    "duration": 9,
    "start_time": "2022-05-24T23:28:21.679Z"
   },
   {
    "duration": 38,
    "start_time": "2022-05-24T23:28:21.691Z"
   },
   {
    "duration": 9,
    "start_time": "2022-05-24T23:28:21.732Z"
   },
   {
    "duration": 32,
    "start_time": "2022-05-24T23:28:21.743Z"
   },
   {
    "duration": 5,
    "start_time": "2022-05-24T23:28:21.777Z"
   },
   {
    "duration": 17,
    "start_time": "2022-05-24T23:28:21.783Z"
   },
   {
    "duration": 19,
    "start_time": "2022-05-24T23:28:21.802Z"
   },
   {
    "duration": 17,
    "start_time": "2022-05-24T23:28:21.823Z"
   },
   {
    "duration": 21,
    "start_time": "2022-05-24T23:28:21.842Z"
   },
   {
    "duration": 7,
    "start_time": "2022-05-24T23:28:21.865Z"
   },
   {
    "duration": 26,
    "start_time": "2022-05-24T23:28:21.874Z"
   },
   {
    "duration": 20,
    "start_time": "2022-05-24T23:28:21.902Z"
   },
   {
    "duration": 10,
    "start_time": "2022-05-24T23:28:21.924Z"
   },
   {
    "duration": 38,
    "start_time": "2022-05-24T23:28:21.936Z"
   },
   {
    "duration": 48,
    "start_time": "2022-05-24T23:28:21.976Z"
   },
   {
    "duration": 28,
    "start_time": "2022-05-24T23:28:22.026Z"
   },
   {
    "duration": 30,
    "start_time": "2022-05-24T23:28:22.056Z"
   },
   {
    "duration": 19,
    "start_time": "2022-05-24T23:28:22.088Z"
   },
   {
    "duration": 30,
    "start_time": "2022-05-24T23:28:22.109Z"
   },
   {
    "duration": 37,
    "start_time": "2022-05-24T23:28:22.141Z"
   },
   {
    "duration": 30,
    "start_time": "2022-05-24T23:28:22.180Z"
   },
   {
    "duration": 18,
    "start_time": "2022-05-24T23:28:22.212Z"
   },
   {
    "duration": 15,
    "start_time": "2022-05-24T23:28:22.232Z"
   },
   {
    "duration": 15,
    "start_time": "2022-05-24T23:28:22.249Z"
   },
   {
    "duration": 14,
    "start_time": "2022-05-24T23:28:22.266Z"
   },
   {
    "duration": 16,
    "start_time": "2022-05-24T23:28:22.282Z"
   },
   {
    "duration": 32,
    "start_time": "2022-05-24T23:28:22.300Z"
   },
   {
    "duration": 33,
    "start_time": "2022-05-24T23:28:22.335Z"
   },
   {
    "duration": 23,
    "start_time": "2022-05-24T23:28:22.371Z"
   },
   {
    "duration": 25,
    "start_time": "2022-05-24T23:28:22.396Z"
   },
   {
    "duration": 13,
    "start_time": "2022-05-24T23:28:22.423Z"
   },
   {
    "duration": 25,
    "start_time": "2022-05-24T23:28:22.439Z"
   },
   {
    "duration": 11,
    "start_time": "2022-05-24T23:28:22.466Z"
   },
   {
    "duration": 11,
    "start_time": "2022-05-24T23:28:22.479Z"
   },
   {
    "duration": 11,
    "start_time": "2022-05-24T23:28:22.492Z"
   },
   {
    "duration": 10,
    "start_time": "2022-05-24T23:28:22.506Z"
   },
   {
    "duration": 14,
    "start_time": "2022-05-24T23:28:22.518Z"
   },
   {
    "duration": 10,
    "start_time": "2022-05-24T23:28:22.534Z"
   },
   {
    "duration": 8,
    "start_time": "2022-05-24T23:28:22.546Z"
   },
   {
    "duration": 7,
    "start_time": "2022-05-24T23:28:22.556Z"
   },
   {
    "duration": 25,
    "start_time": "2022-05-24T23:28:22.565Z"
   },
   {
    "duration": 22,
    "start_time": "2022-05-24T23:28:22.593Z"
   },
   {
    "duration": 11,
    "start_time": "2022-05-24T23:28:22.618Z"
   },
   {
    "duration": 22,
    "start_time": "2022-05-24T23:28:22.631Z"
   },
   {
    "duration": 13,
    "start_time": "2022-05-24T23:28:22.656Z"
   },
   {
    "duration": 8,
    "start_time": "2022-05-24T23:28:22.671Z"
   },
   {
    "duration": 10,
    "start_time": "2022-05-24T23:28:22.681Z"
   },
   {
    "duration": 8,
    "start_time": "2022-05-24T23:28:22.693Z"
   },
   {
    "duration": 13,
    "start_time": "2022-05-24T23:28:22.703Z"
   },
   {
    "duration": 21,
    "start_time": "2022-05-24T23:28:22.718Z"
   },
   {
    "duration": 10,
    "start_time": "2022-05-24T23:28:22.741Z"
   },
   {
    "duration": 7,
    "start_time": "2022-05-24T23:28:22.753Z"
   },
   {
    "duration": 604,
    "start_time": "2022-05-24T23:31:12.145Z"
   },
   {
    "duration": 46,
    "start_time": "2022-05-24T23:31:12.751Z"
   },
   {
    "duration": 30,
    "start_time": "2022-05-24T23:31:12.799Z"
   },
   {
    "duration": 33,
    "start_time": "2022-05-24T23:31:12.832Z"
   },
   {
    "duration": 6,
    "start_time": "2022-05-24T23:31:12.867Z"
   },
   {
    "duration": 26,
    "start_time": "2022-05-24T23:31:12.874Z"
   },
   {
    "duration": 27,
    "start_time": "2022-05-24T23:31:12.902Z"
   },
   {
    "duration": 15,
    "start_time": "2022-05-24T23:31:12.932Z"
   },
   {
    "duration": 31,
    "start_time": "2022-05-24T23:31:12.949Z"
   },
   {
    "duration": 52,
    "start_time": "2022-05-24T23:31:12.984Z"
   },
   {
    "duration": 34,
    "start_time": "2022-05-24T23:31:13.039Z"
   },
   {
    "duration": 12,
    "start_time": "2022-05-24T23:31:13.075Z"
   },
   {
    "duration": 51,
    "start_time": "2022-05-24T23:31:13.089Z"
   },
   {
    "duration": 9,
    "start_time": "2022-05-24T23:31:13.142Z"
   },
   {
    "duration": 8,
    "start_time": "2022-05-24T23:31:13.154Z"
   },
   {
    "duration": 28,
    "start_time": "2022-05-24T23:31:13.164Z"
   },
   {
    "duration": 16,
    "start_time": "2022-05-24T23:31:13.193Z"
   },
   {
    "duration": 20,
    "start_time": "2022-05-24T23:31:13.211Z"
   },
   {
    "duration": 19,
    "start_time": "2022-05-24T23:31:13.234Z"
   },
   {
    "duration": 5,
    "start_time": "2022-05-24T23:31:13.257Z"
   },
   {
    "duration": 93,
    "start_time": "2022-05-24T23:31:13.264Z"
   },
   {
    "duration": 13,
    "start_time": "2022-05-24T23:31:13.359Z"
   },
   {
    "duration": 17,
    "start_time": "2022-05-24T23:31:13.374Z"
   },
   {
    "duration": 38,
    "start_time": "2022-05-24T23:31:13.393Z"
   },
   {
    "duration": 24,
    "start_time": "2022-05-24T23:31:13.433Z"
   },
   {
    "duration": 32,
    "start_time": "2022-05-24T23:31:13.459Z"
   },
   {
    "duration": 18,
    "start_time": "2022-05-24T23:31:13.493Z"
   },
   {
    "duration": 10,
    "start_time": "2022-05-24T23:31:13.518Z"
   },
   {
    "duration": 16,
    "start_time": "2022-05-24T23:31:13.530Z"
   },
   {
    "duration": 32,
    "start_time": "2022-05-24T23:31:13.548Z"
   },
   {
    "duration": 13,
    "start_time": "2022-05-24T23:31:13.582Z"
   },
   {
    "duration": 91,
    "start_time": "2022-05-24T23:31:13.597Z"
   },
   {
    "duration": 15,
    "start_time": "2022-05-24T23:31:13.690Z"
   },
   {
    "duration": 10,
    "start_time": "2022-05-24T23:31:13.707Z"
   },
   {
    "duration": 36,
    "start_time": "2022-05-24T23:31:13.720Z"
   },
   {
    "duration": 15,
    "start_time": "2022-05-24T23:31:13.758Z"
   },
   {
    "duration": 53,
    "start_time": "2022-05-24T23:31:13.775Z"
   },
   {
    "duration": 44,
    "start_time": "2022-05-24T23:31:13.831Z"
   },
   {
    "duration": 23,
    "start_time": "2022-05-24T23:31:13.878Z"
   },
   {
    "duration": 29,
    "start_time": "2022-05-24T23:31:13.903Z"
   },
   {
    "duration": 8,
    "start_time": "2022-05-24T23:31:13.935Z"
   },
   {
    "duration": 15,
    "start_time": "2022-05-24T23:31:13.946Z"
   },
   {
    "duration": 24,
    "start_time": "2022-05-24T23:31:13.964Z"
   },
   {
    "duration": 23,
    "start_time": "2022-05-24T23:31:13.991Z"
   },
   {
    "duration": 11,
    "start_time": "2022-05-24T23:31:14.017Z"
   },
   {
    "duration": 8,
    "start_time": "2022-05-24T23:31:14.031Z"
   },
   {
    "duration": 21,
    "start_time": "2022-05-24T23:31:14.042Z"
   },
   {
    "duration": 13,
    "start_time": "2022-05-24T23:31:14.065Z"
   },
   {
    "duration": 23,
    "start_time": "2022-05-24T23:31:14.081Z"
   },
   {
    "duration": 16,
    "start_time": "2022-05-24T23:31:14.107Z"
   },
   {
    "duration": 14,
    "start_time": "2022-05-24T23:31:14.126Z"
   },
   {
    "duration": 12,
    "start_time": "2022-05-24T23:31:14.142Z"
   },
   {
    "duration": 13,
    "start_time": "2022-05-24T23:31:14.157Z"
   },
   {
    "duration": 25,
    "start_time": "2022-05-24T23:31:14.172Z"
   },
   {
    "duration": 15,
    "start_time": "2022-05-24T23:31:14.200Z"
   },
   {
    "duration": 17,
    "start_time": "2022-05-24T23:31:14.218Z"
   },
   {
    "duration": 8,
    "start_time": "2022-05-24T23:31:14.238Z"
   },
   {
    "duration": 18,
    "start_time": "2022-05-24T23:31:14.249Z"
   },
   {
    "duration": 41,
    "start_time": "2022-05-24T23:31:14.269Z"
   },
   {
    "duration": 33,
    "start_time": "2022-05-24T23:31:14.313Z"
   },
   {
    "duration": 22,
    "start_time": "2022-05-24T23:31:14.348Z"
   },
   {
    "duration": 43,
    "start_time": "2022-05-24T23:31:14.372Z"
   },
   {
    "duration": 47,
    "start_time": "2022-05-24T23:31:14.419Z"
   },
   {
    "duration": 23,
    "start_time": "2022-05-24T23:31:14.468Z"
   },
   {
    "duration": 30,
    "start_time": "2022-05-24T23:31:14.494Z"
   },
   {
    "duration": 30,
    "start_time": "2022-05-24T23:31:14.526Z"
   },
   {
    "duration": 23,
    "start_time": "2022-05-24T23:31:14.558Z"
   },
   {
    "duration": 36,
    "start_time": "2022-05-24T23:31:14.583Z"
   },
   {
    "duration": 39,
    "start_time": "2022-05-24T23:31:14.622Z"
   },
   {
    "duration": 30,
    "start_time": "2022-05-24T23:31:14.663Z"
   },
   {
    "duration": 9,
    "start_time": "2022-05-24T23:31:14.695Z"
   },
   {
    "duration": 10,
    "start_time": "2022-05-24T23:31:14.706Z"
   },
   {
    "duration": 10,
    "start_time": "2022-05-24T23:31:14.719Z"
   },
   {
    "duration": 13,
    "start_time": "2022-05-24T23:31:14.732Z"
   },
   {
    "duration": 14,
    "start_time": "2022-05-24T23:31:14.748Z"
   },
   {
    "duration": 19,
    "start_time": "2022-05-24T23:31:14.765Z"
   },
   {
    "duration": 17,
    "start_time": "2022-05-24T23:31:14.786Z"
   },
   {
    "duration": 70,
    "start_time": "2022-05-24T23:31:14.806Z"
   },
   {
    "duration": 29,
    "start_time": "2022-05-24T23:31:14.880Z"
   },
   {
    "duration": 8,
    "start_time": "2022-05-24T23:32:01.847Z"
   },
   {
    "duration": 11,
    "start_time": "2022-05-24T23:32:42.379Z"
   },
   {
    "duration": 7,
    "start_time": "2022-05-24T23:33:22.363Z"
   },
   {
    "duration": 116,
    "start_time": "2022-05-24T23:33:56.018Z"
   },
   {
    "duration": 33,
    "start_time": "2022-05-24T23:34:40.891Z"
   },
   {
    "duration": 27,
    "start_time": "2022-05-24T23:34:48.120Z"
   },
   {
    "duration": 39,
    "start_time": "2022-05-24T23:35:45.441Z"
   },
   {
    "duration": 12,
    "start_time": "2022-05-24T23:37:46.429Z"
   },
   {
    "duration": 569,
    "start_time": "2022-05-26T02:17:35.227Z"
   },
   {
    "duration": 44,
    "start_time": "2022-05-26T02:17:35.798Z"
   },
   {
    "duration": 30,
    "start_time": "2022-05-26T02:17:35.857Z"
   },
   {
    "duration": 19,
    "start_time": "2022-05-26T02:17:35.893Z"
   },
   {
    "duration": 4,
    "start_time": "2022-05-26T02:17:35.914Z"
   },
   {
    "duration": 16,
    "start_time": "2022-05-26T02:17:35.920Z"
   },
   {
    "duration": 62,
    "start_time": "2022-05-26T02:17:35.938Z"
   },
   {
    "duration": 17,
    "start_time": "2022-05-26T02:17:36.002Z"
   },
   {
    "duration": 15,
    "start_time": "2022-05-26T02:17:36.020Z"
   },
   {
    "duration": 49,
    "start_time": "2022-05-26T02:17:36.038Z"
   },
   {
    "duration": 57,
    "start_time": "2022-05-26T02:17:36.088Z"
   },
   {
    "duration": 16,
    "start_time": "2022-05-26T02:17:36.147Z"
   },
   {
    "duration": 66,
    "start_time": "2022-05-26T02:17:36.171Z"
   },
   {
    "duration": 6,
    "start_time": "2022-05-26T02:17:36.238Z"
   },
   {
    "duration": 34,
    "start_time": "2022-05-26T02:17:36.246Z"
   },
   {
    "duration": 12,
    "start_time": "2022-05-26T02:17:36.286Z"
   },
   {
    "duration": 16,
    "start_time": "2022-05-26T02:17:36.300Z"
   },
   {
    "duration": 12,
    "start_time": "2022-05-26T02:17:36.317Z"
   },
   {
    "duration": 6,
    "start_time": "2022-05-26T02:17:36.331Z"
   },
   {
    "duration": 5,
    "start_time": "2022-05-26T02:17:36.339Z"
   },
   {
    "duration": 55,
    "start_time": "2022-05-26T02:17:36.345Z"
   },
   {
    "duration": 8,
    "start_time": "2022-05-26T02:17:36.401Z"
   },
   {
    "duration": 13,
    "start_time": "2022-05-26T02:17:36.410Z"
   },
   {
    "duration": 15,
    "start_time": "2022-05-26T02:17:36.425Z"
   },
   {
    "duration": 43,
    "start_time": "2022-05-26T02:17:36.442Z"
   },
   {
    "duration": 9,
    "start_time": "2022-05-26T02:17:36.491Z"
   },
   {
    "duration": 11,
    "start_time": "2022-05-26T02:17:36.502Z"
   },
   {
    "duration": 6,
    "start_time": "2022-05-26T02:17:36.517Z"
   },
   {
    "duration": 21,
    "start_time": "2022-05-26T02:17:36.525Z"
   },
   {
    "duration": 34,
    "start_time": "2022-05-26T02:17:36.551Z"
   },
   {
    "duration": 14,
    "start_time": "2022-05-26T02:17:36.587Z"
   },
   {
    "duration": 18,
    "start_time": "2022-05-26T02:17:36.602Z"
   },
   {
    "duration": 8,
    "start_time": "2022-05-26T02:17:36.622Z"
   },
   {
    "duration": 7,
    "start_time": "2022-05-26T02:17:36.632Z"
   },
   {
    "duration": 9,
    "start_time": "2022-05-26T02:17:36.641Z"
   },
   {
    "duration": 34,
    "start_time": "2022-05-26T02:17:36.662Z"
   },
   {
    "duration": 6,
    "start_time": "2022-05-26T02:17:36.697Z"
   },
   {
    "duration": 9,
    "start_time": "2022-05-26T02:17:36.705Z"
   },
   {
    "duration": 5,
    "start_time": "2022-05-26T02:17:36.715Z"
   },
   {
    "duration": 7,
    "start_time": "2022-05-26T02:17:36.721Z"
   },
   {
    "duration": 21,
    "start_time": "2022-05-26T02:17:36.729Z"
   },
   {
    "duration": 4,
    "start_time": "2022-05-26T02:17:36.754Z"
   },
   {
    "duration": 45,
    "start_time": "2022-05-26T02:17:36.762Z"
   },
   {
    "duration": 7,
    "start_time": "2022-05-26T02:17:36.809Z"
   },
   {
    "duration": 7,
    "start_time": "2022-05-26T02:17:36.817Z"
   },
   {
    "duration": 4,
    "start_time": "2022-05-26T02:17:36.826Z"
   },
   {
    "duration": 5,
    "start_time": "2022-05-26T02:17:36.831Z"
   },
   {
    "duration": 5,
    "start_time": "2022-05-26T02:17:36.837Z"
   },
   {
    "duration": 5,
    "start_time": "2022-05-26T02:17:36.843Z"
   },
   {
    "duration": 41,
    "start_time": "2022-05-26T02:17:36.850Z"
   },
   {
    "duration": 8,
    "start_time": "2022-05-26T02:17:36.894Z"
   },
   {
    "duration": 5,
    "start_time": "2022-05-26T02:17:36.904Z"
   },
   {
    "duration": 10,
    "start_time": "2022-05-26T02:17:36.910Z"
   },
   {
    "duration": 4,
    "start_time": "2022-05-26T02:17:36.922Z"
   },
   {
    "duration": 4,
    "start_time": "2022-05-26T02:17:36.928Z"
   },
   {
    "duration": 4,
    "start_time": "2022-05-26T02:17:36.934Z"
   },
   {
    "duration": 6,
    "start_time": "2022-05-26T02:17:36.939Z"
   },
   {
    "duration": 24,
    "start_time": "2022-05-26T02:17:36.946Z"
   },
   {
    "duration": 31,
    "start_time": "2022-05-26T02:17:36.977Z"
   },
   {
    "duration": 15,
    "start_time": "2022-05-26T02:17:37.009Z"
   },
   {
    "duration": 24,
    "start_time": "2022-05-26T02:17:37.026Z"
   },
   {
    "duration": 43,
    "start_time": "2022-05-26T02:17:37.052Z"
   },
   {
    "duration": 6,
    "start_time": "2022-05-26T02:17:37.097Z"
   },
   {
    "duration": 5,
    "start_time": "2022-05-26T02:17:37.105Z"
   },
   {
    "duration": 6,
    "start_time": "2022-05-26T02:17:37.112Z"
   },
   {
    "duration": 9,
    "start_time": "2022-05-26T02:17:37.119Z"
   },
   {
    "duration": 7,
    "start_time": "2022-05-26T02:17:37.129Z"
   },
   {
    "duration": 6,
    "start_time": "2022-05-26T02:17:37.138Z"
   },
   {
    "duration": 4,
    "start_time": "2022-05-26T02:17:37.146Z"
   },
   {
    "duration": 42,
    "start_time": "2022-05-26T02:17:37.153Z"
   },
   {
    "duration": 5,
    "start_time": "2022-05-26T02:17:37.196Z"
   },
   {
    "duration": 4,
    "start_time": "2022-05-26T02:17:37.203Z"
   },
   {
    "duration": 5,
    "start_time": "2022-05-26T02:17:37.209Z"
   },
   {
    "duration": 7,
    "start_time": "2022-05-26T02:17:37.215Z"
   },
   {
    "duration": 5,
    "start_time": "2022-05-26T02:17:37.224Z"
   },
   {
    "duration": 9,
    "start_time": "2022-05-26T02:17:37.231Z"
   },
   {
    "duration": 4,
    "start_time": "2022-05-26T02:17:37.242Z"
   },
   {
    "duration": 40,
    "start_time": "2022-05-26T02:17:37.247Z"
   },
   {
    "duration": 12,
    "start_time": "2022-05-26T02:17:37.290Z"
   },
   {
    "duration": 16,
    "start_time": "2022-05-26T16:05:30.240Z"
   },
   {
    "duration": 31,
    "start_time": "2022-05-26T16:05:43.022Z"
   },
   {
    "duration": 5,
    "start_time": "2022-05-26T16:09:39.689Z"
   },
   {
    "duration": 36,
    "start_time": "2022-05-26T16:11:44.209Z"
   },
   {
    "duration": 16,
    "start_time": "2022-05-26T16:12:10.711Z"
   },
   {
    "duration": 21,
    "start_time": "2022-05-26T16:12:23.944Z"
   },
   {
    "duration": 19,
    "start_time": "2022-05-26T16:12:27.039Z"
   },
   {
    "duration": 4,
    "start_time": "2022-05-26T16:12:42.336Z"
   },
   {
    "duration": 27,
    "start_time": "2022-05-26T17:09:48.642Z"
   },
   {
    "duration": 4,
    "start_time": "2022-05-26T17:09:56.507Z"
   },
   {
    "duration": 4,
    "start_time": "2022-05-26T17:10:25.551Z"
   },
   {
    "duration": 496,
    "start_time": "2022-05-26T17:12:50.982Z"
   },
   {
    "duration": 38,
    "start_time": "2022-05-26T17:12:51.480Z"
   },
   {
    "duration": 13,
    "start_time": "2022-05-26T17:12:51.520Z"
   },
   {
    "duration": 36,
    "start_time": "2022-05-26T17:12:51.535Z"
   },
   {
    "duration": 11,
    "start_time": "2022-05-26T17:12:51.577Z"
   },
   {
    "duration": 20,
    "start_time": "2022-05-26T17:12:51.590Z"
   },
   {
    "duration": 11,
    "start_time": "2022-05-26T17:12:51.612Z"
   },
   {
    "duration": 20,
    "start_time": "2022-05-26T17:12:51.625Z"
   },
   {
    "duration": 30,
    "start_time": "2022-05-26T17:12:51.647Z"
   },
   {
    "duration": 47,
    "start_time": "2022-05-26T17:12:51.680Z"
   },
   {
    "duration": 23,
    "start_time": "2022-05-26T17:12:51.729Z"
   },
   {
    "duration": 40,
    "start_time": "2022-05-26T17:12:51.755Z"
   },
   {
    "duration": 26,
    "start_time": "2022-05-26T17:12:51.797Z"
   },
   {
    "duration": 6,
    "start_time": "2022-05-26T17:12:51.825Z"
   },
   {
    "duration": 3,
    "start_time": "2022-05-26T17:12:51.833Z"
   },
   {
    "duration": 19,
    "start_time": "2022-05-26T17:12:51.838Z"
   },
   {
    "duration": 37,
    "start_time": "2022-05-26T17:12:51.859Z"
   },
   {
    "duration": 14,
    "start_time": "2022-05-26T17:12:51.899Z"
   },
   {
    "duration": 8,
    "start_time": "2022-05-26T17:12:51.915Z"
   },
   {
    "duration": 8,
    "start_time": "2022-05-26T17:12:51.924Z"
   },
   {
    "duration": 51,
    "start_time": "2022-05-26T17:12:51.933Z"
   },
   {
    "duration": 7,
    "start_time": "2022-05-26T17:12:51.986Z"
   },
   {
    "duration": 15,
    "start_time": "2022-05-26T17:12:51.995Z"
   },
   {
    "duration": 17,
    "start_time": "2022-05-26T17:12:52.013Z"
   },
   {
    "duration": 49,
    "start_time": "2022-05-26T17:12:52.032Z"
   },
   {
    "duration": 3,
    "start_time": "2022-05-26T17:12:52.083Z"
   },
   {
    "duration": 14,
    "start_time": "2022-05-26T17:12:52.088Z"
   },
   {
    "duration": 6,
    "start_time": "2022-05-26T17:12:52.106Z"
   },
   {
    "duration": 12,
    "start_time": "2022-05-26T17:12:52.113Z"
   },
   {
    "duration": 34,
    "start_time": "2022-05-26T17:12:52.127Z"
   },
   {
    "duration": 8,
    "start_time": "2022-05-26T17:12:52.164Z"
   },
   {
    "duration": 20,
    "start_time": "2022-05-26T17:12:52.176Z"
   },
   {
    "duration": 7,
    "start_time": "2022-05-26T17:12:52.198Z"
   },
   {
    "duration": 6,
    "start_time": "2022-05-26T17:12:52.207Z"
   },
   {
    "duration": 14,
    "start_time": "2022-05-26T17:12:52.215Z"
   },
   {
    "duration": 11,
    "start_time": "2022-05-26T17:12:52.232Z"
   },
   {
    "duration": 6,
    "start_time": "2022-05-26T17:12:52.245Z"
   },
   {
    "duration": 27,
    "start_time": "2022-05-26T17:12:52.253Z"
   },
   {
    "duration": 4,
    "start_time": "2022-05-26T17:12:52.282Z"
   },
   {
    "duration": 4,
    "start_time": "2022-05-26T17:12:52.288Z"
   },
   {
    "duration": 27,
    "start_time": "2022-05-26T17:12:52.294Z"
   },
   {
    "duration": 53,
    "start_time": "2022-05-26T17:12:52.323Z"
   },
   {
    "duration": 6,
    "start_time": "2022-05-26T17:12:52.378Z"
   },
   {
    "duration": 27,
    "start_time": "2022-05-26T17:12:52.385Z"
   },
   {
    "duration": 19,
    "start_time": "2022-05-26T17:12:52.414Z"
   },
   {
    "duration": 3,
    "start_time": "2022-05-26T17:12:52.435Z"
   },
   {
    "duration": 24,
    "start_time": "2022-05-26T17:12:52.440Z"
   },
   {
    "duration": 6,
    "start_time": "2022-05-26T17:12:52.469Z"
   },
   {
    "duration": 4,
    "start_time": "2022-05-26T17:12:52.479Z"
   },
   {
    "duration": 5,
    "start_time": "2022-05-26T17:12:52.485Z"
   },
   {
    "duration": 5,
    "start_time": "2022-05-26T17:12:52.492Z"
   },
   {
    "duration": 4,
    "start_time": "2022-05-26T17:12:52.498Z"
   },
   {
    "duration": 6,
    "start_time": "2022-05-26T17:12:52.504Z"
   },
   {
    "duration": 9,
    "start_time": "2022-05-26T17:12:52.512Z"
   },
   {
    "duration": 5,
    "start_time": "2022-05-26T17:12:52.523Z"
   },
   {
    "duration": 7,
    "start_time": "2022-05-26T17:12:52.529Z"
   },
   {
    "duration": 8,
    "start_time": "2022-05-26T17:12:52.538Z"
   },
   {
    "duration": 19,
    "start_time": "2022-05-26T17:12:52.548Z"
   },
   {
    "duration": 2,
    "start_time": "2022-05-26T17:12:52.573Z"
   },
   {
    "duration": 5,
    "start_time": "2022-05-26T17:12:52.576Z"
   },
   {
    "duration": 4,
    "start_time": "2022-05-26T17:12:52.583Z"
   },
   {
    "duration": 6,
    "start_time": "2022-05-26T17:12:52.588Z"
   },
   {
    "duration": 5,
    "start_time": "2022-05-26T17:12:52.596Z"
   },
   {
    "duration": 6,
    "start_time": "2022-05-26T17:12:52.602Z"
   },
   {
    "duration": 16,
    "start_time": "2022-05-26T17:12:52.610Z"
   },
   {
    "duration": 19,
    "start_time": "2022-05-26T17:12:52.628Z"
   },
   {
    "duration": 8,
    "start_time": "2022-05-26T17:12:52.649Z"
   },
   {
    "duration": 34,
    "start_time": "2022-05-26T17:12:52.659Z"
   },
   {
    "duration": 5,
    "start_time": "2022-05-26T17:12:52.695Z"
   },
   {
    "duration": 6,
    "start_time": "2022-05-26T17:12:52.701Z"
   },
   {
    "duration": 4,
    "start_time": "2022-05-26T17:12:52.709Z"
   },
   {
    "duration": 7,
    "start_time": "2022-05-26T17:12:52.714Z"
   },
   {
    "duration": 7,
    "start_time": "2022-05-26T17:12:52.722Z"
   },
   {
    "duration": 6,
    "start_time": "2022-05-26T17:12:52.730Z"
   },
   {
    "duration": 13,
    "start_time": "2022-05-26T17:12:52.737Z"
   },
   {
    "duration": 5,
    "start_time": "2022-05-26T17:12:52.752Z"
   },
   {
    "duration": 29,
    "start_time": "2022-05-26T17:12:52.758Z"
   },
   {
    "duration": 5,
    "start_time": "2022-05-26T17:12:52.788Z"
   },
   {
    "duration": 5,
    "start_time": "2022-05-26T17:12:52.794Z"
   },
   {
    "duration": 5,
    "start_time": "2022-05-26T17:12:52.800Z"
   },
   {
    "duration": 5,
    "start_time": "2022-05-26T17:12:52.806Z"
   },
   {
    "duration": 3,
    "start_time": "2022-05-26T17:12:52.816Z"
   },
   {
    "duration": 299,
    "start_time": "2022-05-26T18:59:01.844Z"
   },
   {
    "duration": 5,
    "start_time": "2022-05-26T19:16:23.617Z"
   },
   {
    "duration": 16,
    "start_time": "2022-05-26T19:17:02.616Z"
   },
   {
    "duration": 21,
    "start_time": "2022-05-26T19:26:53.041Z"
   },
   {
    "duration": 8,
    "start_time": "2022-05-26T19:27:00.796Z"
   },
   {
    "duration": 1307,
    "start_time": "2022-05-26T19:31:27.475Z"
   },
   {
    "duration": 1022,
    "start_time": "2022-05-26T19:31:59.715Z"
   },
   {
    "duration": 7,
    "start_time": "2022-05-26T19:35:20.282Z"
   },
   {
    "duration": 5,
    "start_time": "2022-05-26T19:35:56.484Z"
   },
   {
    "duration": 5,
    "start_time": "2022-05-26T19:36:16.982Z"
   },
   {
    "duration": 49,
    "start_time": "2022-05-26T19:37:00.139Z"
   },
   {
    "duration": 59,
    "start_time": "2022-05-26T19:39:53.117Z"
   },
   {
    "duration": 49,
    "start_time": "2022-05-26T21:13:48.354Z"
   },
   {
    "duration": 39,
    "start_time": "2022-05-26T21:14:00.607Z"
   },
   {
    "duration": 551,
    "start_time": "2022-05-26T21:14:27.361Z"
   },
   {
    "duration": 46,
    "start_time": "2022-05-26T21:14:27.915Z"
   },
   {
    "duration": 45,
    "start_time": "2022-05-26T21:14:27.967Z"
   },
   {
    "duration": 43,
    "start_time": "2022-05-26T21:14:28.013Z"
   },
   {
    "duration": 52,
    "start_time": "2022-05-26T21:14:28.058Z"
   },
   {
    "duration": 51,
    "start_time": "2022-05-26T21:14:28.112Z"
   },
   {
    "duration": 51,
    "start_time": "2022-05-26T21:14:28.166Z"
   },
   {
    "duration": 43,
    "start_time": "2022-05-26T21:14:28.219Z"
   },
   {
    "duration": 22,
    "start_time": "2022-05-26T21:14:28.268Z"
   },
   {
    "duration": 36,
    "start_time": "2022-05-26T21:14:28.292Z"
   },
   {
    "duration": 22,
    "start_time": "2022-05-26T21:14:28.330Z"
   },
   {
    "duration": 16,
    "start_time": "2022-05-26T21:14:28.354Z"
   },
   {
    "duration": 53,
    "start_time": "2022-05-26T21:14:28.372Z"
   },
   {
    "duration": 7,
    "start_time": "2022-05-26T21:14:28.428Z"
   },
   {
    "duration": 40,
    "start_time": "2022-05-26T21:14:28.437Z"
   },
   {
    "duration": 37,
    "start_time": "2022-05-26T21:14:28.479Z"
   },
   {
    "duration": 30,
    "start_time": "2022-05-26T21:14:28.518Z"
   },
   {
    "duration": 20,
    "start_time": "2022-05-26T21:14:28.550Z"
   },
   {
    "duration": 29,
    "start_time": "2022-05-26T21:14:28.571Z"
   },
   {
    "duration": 16,
    "start_time": "2022-05-26T21:14:28.602Z"
   },
   {
    "duration": 67,
    "start_time": "2022-05-26T21:14:28.620Z"
   },
   {
    "duration": 9,
    "start_time": "2022-05-26T21:14:28.689Z"
   },
   {
    "duration": 27,
    "start_time": "2022-05-26T21:14:28.700Z"
   },
   {
    "duration": 28,
    "start_time": "2022-05-26T21:14:28.729Z"
   },
   {
    "duration": 30,
    "start_time": "2022-05-26T21:14:28.759Z"
   },
   {
    "duration": 25,
    "start_time": "2022-05-26T21:14:28.790Z"
   },
   {
    "duration": 33,
    "start_time": "2022-05-26T21:14:28.816Z"
   },
   {
    "duration": 34,
    "start_time": "2022-05-26T21:14:28.850Z"
   },
   {
    "duration": 31,
    "start_time": "2022-05-26T21:14:28.886Z"
   },
   {
    "duration": 28,
    "start_time": "2022-05-26T21:14:28.918Z"
   },
   {
    "duration": 39,
    "start_time": "2022-05-26T21:14:28.947Z"
   },
   {
    "duration": 34,
    "start_time": "2022-05-26T21:14:28.987Z"
   },
   {
    "duration": 17,
    "start_time": "2022-05-26T21:14:29.022Z"
   },
   {
    "duration": 43,
    "start_time": "2022-05-26T21:14:29.040Z"
   },
   {
    "duration": 30,
    "start_time": "2022-05-26T21:14:29.084Z"
   },
   {
    "duration": 22,
    "start_time": "2022-05-26T21:14:29.116Z"
   },
   {
    "duration": 36,
    "start_time": "2022-05-26T21:14:29.140Z"
   },
   {
    "duration": 28,
    "start_time": "2022-05-26T21:14:29.178Z"
   },
   {
    "duration": 37,
    "start_time": "2022-05-26T21:14:29.207Z"
   },
   {
    "duration": 52,
    "start_time": "2022-05-26T21:14:29.246Z"
   },
   {
    "duration": 45,
    "start_time": "2022-05-26T21:14:29.302Z"
   },
   {
    "duration": 67,
    "start_time": "2022-05-26T21:14:29.348Z"
   },
   {
    "duration": 25,
    "start_time": "2022-05-26T21:14:29.417Z"
   },
   {
    "duration": 77,
    "start_time": "2022-05-26T21:14:29.444Z"
   },
   {
    "duration": 68,
    "start_time": "2022-05-26T21:14:29.523Z"
   },
   {
    "duration": 28,
    "start_time": "2022-05-26T21:14:29.593Z"
   },
   {
    "duration": 47,
    "start_time": "2022-05-26T21:14:29.623Z"
   },
   {
    "duration": 67,
    "start_time": "2022-05-26T21:14:29.675Z"
   },
   {
    "duration": 64,
    "start_time": "2022-05-26T21:14:29.744Z"
   },
   {
    "duration": 2,
    "start_time": "2022-05-26T21:14:29.810Z"
   },
   {
    "duration": 54,
    "start_time": "2022-05-26T21:14:29.813Z"
   },
   {
    "duration": 28,
    "start_time": "2022-05-26T21:14:29.872Z"
   },
   {
    "duration": 44,
    "start_time": "2022-05-26T21:14:29.901Z"
   },
   {
    "duration": 33,
    "start_time": "2022-05-26T21:14:29.947Z"
   },
   {
    "duration": 30,
    "start_time": "2022-05-26T21:14:29.982Z"
   },
   {
    "duration": 35,
    "start_time": "2022-05-26T21:14:30.014Z"
   },
   {
    "duration": 28,
    "start_time": "2022-05-26T21:14:30.050Z"
   },
   {
    "duration": 19,
    "start_time": "2022-05-26T21:14:30.079Z"
   },
   {
    "duration": 22,
    "start_time": "2022-05-26T21:14:30.100Z"
   },
   {
    "duration": 20,
    "start_time": "2022-05-26T21:14:30.124Z"
   },
   {
    "duration": 38,
    "start_time": "2022-05-26T21:14:30.146Z"
   },
   {
    "duration": 30,
    "start_time": "2022-05-26T21:14:30.186Z"
   },
   {
    "duration": 38,
    "start_time": "2022-05-26T21:14:30.218Z"
   },
   {
    "duration": 41,
    "start_time": "2022-05-26T21:14:30.258Z"
   },
   {
    "duration": 25,
    "start_time": "2022-05-26T21:14:30.301Z"
   },
   {
    "duration": 29,
    "start_time": "2022-05-26T21:14:30.328Z"
   },
   {
    "duration": 31,
    "start_time": "2022-05-26T21:14:30.358Z"
   },
   {
    "duration": 27,
    "start_time": "2022-05-26T21:14:30.390Z"
   },
   {
    "duration": 18,
    "start_time": "2022-05-26T21:14:30.418Z"
   },
   {
    "duration": 41,
    "start_time": "2022-05-26T21:14:30.437Z"
   },
   {
    "duration": 23,
    "start_time": "2022-05-26T21:14:30.480Z"
   },
   {
    "duration": 27,
    "start_time": "2022-05-26T21:14:30.505Z"
   },
   {
    "duration": 55,
    "start_time": "2022-05-26T21:14:30.533Z"
   },
   {
    "duration": 25,
    "start_time": "2022-05-26T21:14:30.590Z"
   },
   {
    "duration": 32,
    "start_time": "2022-05-26T21:14:30.617Z"
   },
   {
    "duration": 40,
    "start_time": "2022-05-26T21:14:30.651Z"
   },
   {
    "duration": 25,
    "start_time": "2022-05-26T21:14:30.693Z"
   },
   {
    "duration": 49,
    "start_time": "2022-05-26T21:14:30.720Z"
   },
   {
    "duration": 2,
    "start_time": "2022-05-26T21:14:30.770Z"
   },
   {
    "duration": 31,
    "start_time": "2022-05-26T21:14:30.774Z"
   },
   {
    "duration": 45,
    "start_time": "2022-05-26T21:14:30.806Z"
   },
   {
    "duration": 56,
    "start_time": "2022-05-26T21:14:30.853Z"
   },
   {
    "duration": 33,
    "start_time": "2022-05-26T21:14:30.912Z"
   },
   {
    "duration": 41,
    "start_time": "2022-05-26T21:15:27.216Z"
   },
   {
    "duration": 39,
    "start_time": "2022-05-26T21:15:31.387Z"
   },
   {
    "duration": 47,
    "start_time": "2022-05-26T21:15:31.707Z"
   },
   {
    "duration": 66,
    "start_time": "2022-05-26T21:15:52.457Z"
   },
   {
    "duration": 39,
    "start_time": "2022-05-26T21:16:13.890Z"
   },
   {
    "duration": 6,
    "start_time": "2022-05-26T21:24:36.784Z"
   },
   {
    "duration": 46,
    "start_time": "2022-05-26T21:25:33.951Z"
   },
   {
    "duration": 8,
    "start_time": "2022-05-26T21:25:45.900Z"
   },
   {
    "duration": 5,
    "start_time": "2022-05-26T21:27:12.003Z"
   },
   {
    "duration": 65,
    "start_time": "2022-05-26T21:33:10.767Z"
   },
   {
    "duration": 3,
    "start_time": "2022-05-26T21:33:18.973Z"
   },
   {
    "duration": 3,
    "start_time": "2022-05-26T21:33:21.781Z"
   },
   {
    "duration": 4,
    "start_time": "2022-05-26T21:33:34.829Z"
   },
   {
    "duration": 36,
    "start_time": "2022-05-26T21:34:11.076Z"
   },
   {
    "duration": 7,
    "start_time": "2022-05-26T21:34:15.267Z"
   },
   {
    "duration": 4,
    "start_time": "2022-05-26T21:34:28.420Z"
   },
   {
    "duration": 4,
    "start_time": "2022-05-26T21:34:34.148Z"
   },
   {
    "duration": 5,
    "start_time": "2022-05-26T21:35:16.265Z"
   },
   {
    "duration": 18,
    "start_time": "2022-05-26T21:37:02.073Z"
   },
   {
    "duration": 7,
    "start_time": "2022-05-26T21:38:36.585Z"
   },
   {
    "duration": 14,
    "start_time": "2022-05-26T21:39:12.309Z"
   },
   {
    "duration": 30,
    "start_time": "2022-05-26T21:39:21.527Z"
   },
   {
    "duration": 22,
    "start_time": "2022-05-26T21:39:34.587Z"
   },
   {
    "duration": 35,
    "start_time": "2022-05-26T21:40:15.788Z"
   },
   {
    "duration": 7,
    "start_time": "2022-05-26T21:41:26.990Z"
   },
   {
    "duration": 9,
    "start_time": "2022-05-26T21:41:52.097Z"
   },
   {
    "duration": 6,
    "start_time": "2022-05-26T21:44:46.594Z"
   },
   {
    "duration": 7,
    "start_time": "2022-05-26T21:44:52.471Z"
   },
   {
    "duration": 7,
    "start_time": "2022-05-26T21:47:07.916Z"
   },
   {
    "duration": 7,
    "start_time": "2022-05-26T21:47:12.420Z"
   },
   {
    "duration": 6,
    "start_time": "2022-05-26T21:48:28.108Z"
   },
   {
    "duration": 7,
    "start_time": "2022-05-26T21:48:30.892Z"
   },
   {
    "duration": 6,
    "start_time": "2022-05-26T21:50:49.749Z"
   },
   {
    "duration": 7,
    "start_time": "2022-05-26T21:50:52.429Z"
   },
   {
    "duration": 10,
    "start_time": "2022-05-26T21:51:59.447Z"
   },
   {
    "duration": 8,
    "start_time": "2022-05-26T21:52:00.727Z"
   },
   {
    "duration": 28,
    "start_time": "2022-05-26T23:03:20.004Z"
   },
   {
    "duration": 471,
    "start_time": "2022-05-26T23:07:59.520Z"
   },
   {
    "duration": 10,
    "start_time": "2022-05-26T23:08:22.192Z"
   },
   {
    "duration": 10,
    "start_time": "2022-05-26T23:09:37.528Z"
   },
   {
    "duration": 5,
    "start_time": "2022-05-26T23:11:59.536Z"
   },
   {
    "duration": 6,
    "start_time": "2022-05-26T23:12:58.817Z"
   },
   {
    "duration": 6,
    "start_time": "2022-05-26T23:18:00.584Z"
   },
   {
    "duration": 3,
    "start_time": "2022-05-26T23:19:05.144Z"
   },
   {
    "duration": 4,
    "start_time": "2022-05-26T23:19:33.536Z"
   },
   {
    "duration": 4,
    "start_time": "2022-05-26T23:22:46.616Z"
   },
   {
    "duration": 6,
    "start_time": "2022-05-26T23:23:55.386Z"
   },
   {
    "duration": 3,
    "start_time": "2022-05-26T23:24:48.122Z"
   },
   {
    "duration": 32,
    "start_time": "2022-05-26T23:26:26.259Z"
   },
   {
    "duration": 35,
    "start_time": "2022-05-26T23:48:11.541Z"
   },
   {
    "duration": 25,
    "start_time": "2022-05-26T23:48:15.673Z"
   },
   {
    "duration": 36,
    "start_time": "2022-05-26T23:48:21.696Z"
   },
   {
    "duration": 25,
    "start_time": "2022-05-26T23:48:25.593Z"
   },
   {
    "duration": 9,
    "start_time": "2022-05-26T23:51:49.050Z"
   },
   {
    "duration": 8,
    "start_time": "2022-05-26T23:52:08.594Z"
   },
   {
    "duration": 15,
    "start_time": "2022-05-26T23:52:33.530Z"
   },
   {
    "duration": 18,
    "start_time": "2022-05-26T23:53:03.563Z"
   },
   {
    "duration": 18,
    "start_time": "2022-05-26T23:54:31.395Z"
   },
   {
    "duration": 451,
    "start_time": "2022-05-28T12:08:47.677Z"
   },
   {
    "duration": 43,
    "start_time": "2022-05-28T12:08:48.130Z"
   },
   {
    "duration": 13,
    "start_time": "2022-05-28T12:08:48.175Z"
   },
   {
    "duration": 37,
    "start_time": "2022-05-28T12:08:48.190Z"
   },
   {
    "duration": 5,
    "start_time": "2022-05-28T12:08:48.229Z"
   },
   {
    "duration": 19,
    "start_time": "2022-05-28T12:08:48.236Z"
   },
   {
    "duration": 12,
    "start_time": "2022-05-28T12:08:48.258Z"
   },
   {
    "duration": 20,
    "start_time": "2022-05-28T12:08:48.272Z"
   },
   {
    "duration": 42,
    "start_time": "2022-05-28T12:08:48.294Z"
   },
   {
    "duration": 20,
    "start_time": "2022-05-28T12:08:48.340Z"
   },
   {
    "duration": 28,
    "start_time": "2022-05-28T12:08:48.362Z"
   },
   {
    "duration": 3,
    "start_time": "2022-05-28T12:08:48.391Z"
   },
   {
    "duration": 46,
    "start_time": "2022-05-28T12:08:48.395Z"
   },
   {
    "duration": 5,
    "start_time": "2022-05-28T12:08:48.443Z"
   },
   {
    "duration": 7,
    "start_time": "2022-05-28T12:08:48.450Z"
   },
   {
    "duration": 13,
    "start_time": "2022-05-28T12:08:48.459Z"
   },
   {
    "duration": 16,
    "start_time": "2022-05-28T12:08:48.474Z"
   },
   {
    "duration": 39,
    "start_time": "2022-05-28T12:08:48.492Z"
   },
   {
    "duration": 9,
    "start_time": "2022-05-28T12:08:48.533Z"
   },
   {
    "duration": 4,
    "start_time": "2022-05-28T12:08:48.544Z"
   },
   {
    "duration": 51,
    "start_time": "2022-05-28T12:08:48.551Z"
   },
   {
    "duration": 27,
    "start_time": "2022-05-28T12:08:48.604Z"
   },
   {
    "duration": 10,
    "start_time": "2022-05-28T12:08:48.634Z"
   },
   {
    "duration": 13,
    "start_time": "2022-05-28T12:08:48.646Z"
   },
   {
    "duration": 21,
    "start_time": "2022-05-28T12:08:48.660Z"
   },
   {
    "duration": 3,
    "start_time": "2022-05-28T12:08:48.684Z"
   },
   {
    "duration": 9,
    "start_time": "2022-05-28T12:08:48.727Z"
   },
   {
    "duration": 7,
    "start_time": "2022-05-28T12:08:48.745Z"
   },
   {
    "duration": 14,
    "start_time": "2022-05-28T12:08:48.754Z"
   },
   {
    "duration": 7,
    "start_time": "2022-05-28T12:08:48.770Z"
   },
   {
    "duration": 6,
    "start_time": "2022-05-28T12:08:48.779Z"
   },
   {
    "duration": 19,
    "start_time": "2022-05-28T12:08:48.827Z"
   },
   {
    "duration": 12,
    "start_time": "2022-05-28T12:08:48.849Z"
   },
   {
    "duration": 8,
    "start_time": "2022-05-28T12:08:48.863Z"
   },
   {
    "duration": 11,
    "start_time": "2022-05-28T12:08:48.872Z"
   },
   {
    "duration": 8,
    "start_time": "2022-05-28T12:08:48.885Z"
   },
   {
    "duration": 7,
    "start_time": "2022-05-28T12:08:48.895Z"
   },
   {
    "duration": 9,
    "start_time": "2022-05-28T12:08:48.904Z"
   },
   {
    "duration": 5,
    "start_time": "2022-05-28T12:08:48.915Z"
   },
   {
    "duration": 8,
    "start_time": "2022-05-28T12:08:48.922Z"
   },
   {
    "duration": 20,
    "start_time": "2022-05-28T12:08:48.932Z"
   },
   {
    "duration": 31,
    "start_time": "2022-05-28T12:08:48.954Z"
   },
   {
    "duration": 6,
    "start_time": "2022-05-28T12:08:48.987Z"
   },
   {
    "duration": 57,
    "start_time": "2022-05-28T12:08:48.995Z"
   },
   {
    "duration": 26,
    "start_time": "2022-05-28T12:08:49.055Z"
   },
   {
    "duration": 3,
    "start_time": "2022-05-28T12:08:49.083Z"
   },
   {
    "duration": 7,
    "start_time": "2022-05-28T12:08:49.088Z"
   },
   {
    "duration": 60,
    "start_time": "2022-05-28T12:08:49.097Z"
   },
   {
    "duration": 44,
    "start_time": "2022-05-28T12:08:49.158Z"
   },
   {
    "duration": 68,
    "start_time": "2022-05-28T12:08:49.203Z"
   },
   {
    "duration": 4,
    "start_time": "2022-05-28T12:08:49.273Z"
   },
   {
    "duration": 14,
    "start_time": "2022-05-28T12:08:49.278Z"
   },
   {
    "duration": 28,
    "start_time": "2022-05-28T12:08:49.294Z"
   },
   {
    "duration": 10,
    "start_time": "2022-05-28T12:08:49.328Z"
   },
   {
    "duration": 34,
    "start_time": "2022-05-28T12:08:49.340Z"
   },
   {
    "duration": 6,
    "start_time": "2022-05-28T12:08:49.377Z"
   },
   {
    "duration": 9,
    "start_time": "2022-05-28T12:08:49.385Z"
   },
   {
    "duration": 37,
    "start_time": "2022-05-28T12:08:49.395Z"
   },
   {
    "duration": 9,
    "start_time": "2022-05-28T12:08:49.434Z"
   },
   {
    "duration": 8,
    "start_time": "2022-05-28T12:08:49.446Z"
   },
   {
    "duration": 9,
    "start_time": "2022-05-28T12:08:49.456Z"
   },
   {
    "duration": 5,
    "start_time": "2022-05-28T12:08:49.468Z"
   },
   {
    "duration": 6,
    "start_time": "2022-05-28T12:08:49.475Z"
   },
   {
    "duration": 45,
    "start_time": "2022-05-28T12:08:49.483Z"
   },
   {
    "duration": 10,
    "start_time": "2022-05-28T12:08:49.530Z"
   },
   {
    "duration": 8,
    "start_time": "2022-05-28T12:08:49.542Z"
   },
   {
    "duration": 5,
    "start_time": "2022-05-28T12:08:49.551Z"
   },
   {
    "duration": 109,
    "start_time": "2022-05-28T12:08:49.558Z"
   },
   {
    "duration": 0,
    "start_time": "2022-05-28T12:08:49.669Z"
   },
   {
    "duration": 0,
    "start_time": "2022-05-28T12:08:49.670Z"
   },
   {
    "duration": 1,
    "start_time": "2022-05-28T12:08:49.671Z"
   },
   {
    "duration": 0,
    "start_time": "2022-05-28T12:08:49.673Z"
   },
   {
    "duration": 0,
    "start_time": "2022-05-28T12:08:49.674Z"
   },
   {
    "duration": 0,
    "start_time": "2022-05-28T12:08:49.675Z"
   },
   {
    "duration": 0,
    "start_time": "2022-05-28T12:08:49.676Z"
   },
   {
    "duration": 0,
    "start_time": "2022-05-28T12:08:49.678Z"
   },
   {
    "duration": 0,
    "start_time": "2022-05-28T12:08:49.679Z"
   },
   {
    "duration": 0,
    "start_time": "2022-05-28T12:08:49.681Z"
   },
   {
    "duration": 0,
    "start_time": "2022-05-28T12:08:49.682Z"
   },
   {
    "duration": 0,
    "start_time": "2022-05-28T12:08:49.683Z"
   },
   {
    "duration": 0,
    "start_time": "2022-05-28T12:08:49.684Z"
   },
   {
    "duration": 0,
    "start_time": "2022-05-28T12:08:49.685Z"
   },
   {
    "duration": 0,
    "start_time": "2022-05-28T12:08:49.686Z"
   },
   {
    "duration": 0,
    "start_time": "2022-05-28T12:08:49.688Z"
   },
   {
    "duration": 0,
    "start_time": "2022-05-28T12:08:49.689Z"
   },
   {
    "duration": 0,
    "start_time": "2022-05-28T12:08:49.727Z"
   },
   {
    "duration": 0,
    "start_time": "2022-05-28T12:08:49.728Z"
   },
   {
    "duration": 0,
    "start_time": "2022-05-28T12:08:49.729Z"
   },
   {
    "duration": 0,
    "start_time": "2022-05-28T12:08:49.730Z"
   },
   {
    "duration": 0,
    "start_time": "2022-05-28T12:08:49.731Z"
   },
   {
    "duration": 0,
    "start_time": "2022-05-28T12:08:49.732Z"
   },
   {
    "duration": 0,
    "start_time": "2022-05-28T12:08:49.733Z"
   },
   {
    "duration": 0,
    "start_time": "2022-05-28T12:08:49.734Z"
   },
   {
    "duration": 583,
    "start_time": "2022-05-28T12:10:48.342Z"
   },
   {
    "duration": 61,
    "start_time": "2022-05-28T12:10:48.928Z"
   },
   {
    "duration": 18,
    "start_time": "2022-05-28T12:10:48.991Z"
   },
   {
    "duration": 38,
    "start_time": "2022-05-28T12:10:49.011Z"
   },
   {
    "duration": 6,
    "start_time": "2022-05-28T12:10:49.051Z"
   },
   {
    "duration": 19,
    "start_time": "2022-05-28T12:10:49.059Z"
   },
   {
    "duration": 13,
    "start_time": "2022-05-28T12:10:49.080Z"
   },
   {
    "duration": 20,
    "start_time": "2022-05-28T12:10:49.128Z"
   },
   {
    "duration": 17,
    "start_time": "2022-05-28T12:10:49.150Z"
   },
   {
    "duration": 57,
    "start_time": "2022-05-28T12:10:49.171Z"
   },
   {
    "duration": 29,
    "start_time": "2022-05-28T12:10:49.231Z"
   },
   {
    "duration": 16,
    "start_time": "2022-05-28T12:10:49.261Z"
   },
   {
    "duration": 55,
    "start_time": "2022-05-28T12:10:49.280Z"
   },
   {
    "duration": 7,
    "start_time": "2022-05-28T12:10:49.338Z"
   },
   {
    "duration": 12,
    "start_time": "2022-05-28T12:10:49.347Z"
   },
   {
    "duration": 13,
    "start_time": "2022-05-28T12:10:49.362Z"
   },
   {
    "duration": 20,
    "start_time": "2022-05-28T12:10:49.377Z"
   },
   {
    "duration": 33,
    "start_time": "2022-05-28T12:10:49.400Z"
   },
   {
    "duration": 25,
    "start_time": "2022-05-28T12:10:49.435Z"
   },
   {
    "duration": 8,
    "start_time": "2022-05-28T12:10:49.463Z"
   },
   {
    "duration": 46,
    "start_time": "2022-05-28T12:10:49.472Z"
   },
   {
    "duration": 9,
    "start_time": "2022-05-28T12:10:49.520Z"
   },
   {
    "duration": 12,
    "start_time": "2022-05-28T12:10:49.532Z"
   },
   {
    "duration": 18,
    "start_time": "2022-05-28T12:10:49.547Z"
   },
   {
    "duration": 58,
    "start_time": "2022-05-28T12:10:49.569Z"
   },
   {
    "duration": 4,
    "start_time": "2022-05-28T12:10:49.630Z"
   },
   {
    "duration": 20,
    "start_time": "2022-05-28T12:10:49.636Z"
   },
   {
    "duration": 9,
    "start_time": "2022-05-28T12:10:49.661Z"
   },
   {
    "duration": 22,
    "start_time": "2022-05-28T12:10:49.672Z"
   },
   {
    "duration": 15,
    "start_time": "2022-05-28T12:10:49.696Z"
   },
   {
    "duration": 28,
    "start_time": "2022-05-28T12:10:49.713Z"
   },
   {
    "duration": 12,
    "start_time": "2022-05-28T12:10:49.743Z"
   },
   {
    "duration": 10,
    "start_time": "2022-05-28T12:10:49.757Z"
   },
   {
    "duration": 15,
    "start_time": "2022-05-28T12:10:49.769Z"
   },
   {
    "duration": 18,
    "start_time": "2022-05-28T12:10:49.787Z"
   },
   {
    "duration": 18,
    "start_time": "2022-05-28T12:10:49.807Z"
   },
   {
    "duration": 12,
    "start_time": "2022-05-28T12:10:49.830Z"
   },
   {
    "duration": 22,
    "start_time": "2022-05-28T12:10:49.845Z"
   },
   {
    "duration": 9,
    "start_time": "2022-05-28T12:10:49.870Z"
   },
   {
    "duration": 15,
    "start_time": "2022-05-28T12:10:49.881Z"
   },
   {
    "duration": 27,
    "start_time": "2022-05-28T12:10:49.898Z"
   },
   {
    "duration": 49,
    "start_time": "2022-05-28T12:10:49.927Z"
   },
   {
    "duration": 6,
    "start_time": "2022-05-28T12:10:49.978Z"
   },
   {
    "duration": 50,
    "start_time": "2022-05-28T12:10:49.986Z"
   },
   {
    "duration": 26,
    "start_time": "2022-05-28T12:10:50.039Z"
   },
   {
    "duration": 6,
    "start_time": "2022-05-28T12:10:50.067Z"
   },
   {
    "duration": 11,
    "start_time": "2022-05-28T12:10:50.075Z"
   },
   {
    "duration": 85,
    "start_time": "2022-05-28T12:10:50.088Z"
   },
   {
    "duration": 58,
    "start_time": "2022-05-28T12:10:50.175Z"
   },
   {
    "duration": 44,
    "start_time": "2022-05-28T12:10:50.236Z"
   },
   {
    "duration": 4,
    "start_time": "2022-05-28T12:10:50.283Z"
   },
   {
    "duration": 26,
    "start_time": "2022-05-28T12:10:50.289Z"
   },
   {
    "duration": 31,
    "start_time": "2022-05-28T12:10:50.317Z"
   },
   {
    "duration": 26,
    "start_time": "2022-05-28T12:10:50.350Z"
   },
   {
    "duration": 55,
    "start_time": "2022-05-28T12:10:50.378Z"
   },
   {
    "duration": 9,
    "start_time": "2022-05-28T12:10:50.435Z"
   },
   {
    "duration": 18,
    "start_time": "2022-05-28T12:10:50.447Z"
   },
   {
    "duration": 22,
    "start_time": "2022-05-28T12:10:50.467Z"
   },
   {
    "duration": 9,
    "start_time": "2022-05-28T12:10:50.491Z"
   },
   {
    "duration": 28,
    "start_time": "2022-05-28T12:10:50.502Z"
   },
   {
    "duration": 8,
    "start_time": "2022-05-28T12:10:50.533Z"
   },
   {
    "duration": 14,
    "start_time": "2022-05-28T12:10:50.543Z"
   },
   {
    "duration": 13,
    "start_time": "2022-05-28T12:10:50.559Z"
   },
   {
    "duration": 16,
    "start_time": "2022-05-28T12:10:50.574Z"
   },
   {
    "duration": 40,
    "start_time": "2022-05-28T12:10:50.592Z"
   },
   {
    "duration": 8,
    "start_time": "2022-05-28T12:10:50.635Z"
   },
   {
    "duration": 20,
    "start_time": "2022-05-28T12:10:50.645Z"
   },
   {
    "duration": 120,
    "start_time": "2022-05-28T12:10:50.669Z"
   },
   {
    "duration": 0,
    "start_time": "2022-05-28T12:10:50.791Z"
   },
   {
    "duration": 0,
    "start_time": "2022-05-28T12:10:50.793Z"
   },
   {
    "duration": 0,
    "start_time": "2022-05-28T12:10:50.795Z"
   },
   {
    "duration": 0,
    "start_time": "2022-05-28T12:10:50.797Z"
   },
   {
    "duration": 0,
    "start_time": "2022-05-28T12:10:50.799Z"
   },
   {
    "duration": 0,
    "start_time": "2022-05-28T12:10:50.800Z"
   },
   {
    "duration": 0,
    "start_time": "2022-05-28T12:10:50.801Z"
   },
   {
    "duration": 0,
    "start_time": "2022-05-28T12:10:50.802Z"
   },
   {
    "duration": 0,
    "start_time": "2022-05-28T12:10:50.804Z"
   },
   {
    "duration": 0,
    "start_time": "2022-05-28T12:10:50.805Z"
   },
   {
    "duration": 0,
    "start_time": "2022-05-28T12:10:50.827Z"
   },
   {
    "duration": 0,
    "start_time": "2022-05-28T12:10:50.828Z"
   },
   {
    "duration": 0,
    "start_time": "2022-05-28T12:10:50.830Z"
   },
   {
    "duration": 0,
    "start_time": "2022-05-28T12:10:50.831Z"
   },
   {
    "duration": 0,
    "start_time": "2022-05-28T12:10:50.832Z"
   },
   {
    "duration": 0,
    "start_time": "2022-05-28T12:10:50.834Z"
   },
   {
    "duration": 0,
    "start_time": "2022-05-28T12:10:50.836Z"
   },
   {
    "duration": 0,
    "start_time": "2022-05-28T12:10:50.837Z"
   },
   {
    "duration": 0,
    "start_time": "2022-05-28T12:10:50.839Z"
   },
   {
    "duration": 0,
    "start_time": "2022-05-28T12:10:50.840Z"
   },
   {
    "duration": 0,
    "start_time": "2022-05-28T12:10:50.842Z"
   },
   {
    "duration": 0,
    "start_time": "2022-05-28T12:10:50.843Z"
   },
   {
    "duration": 0,
    "start_time": "2022-05-28T12:10:50.845Z"
   },
   {
    "duration": 0,
    "start_time": "2022-05-28T12:10:50.847Z"
   },
   {
    "duration": 0,
    "start_time": "2022-05-28T12:10:50.850Z"
   },
   {
    "duration": 29,
    "start_time": "2022-05-28T12:12:19.816Z"
   },
   {
    "duration": 10,
    "start_time": "2022-05-28T12:13:01.309Z"
   },
   {
    "duration": 16,
    "start_time": "2022-05-28T12:13:14.351Z"
   },
   {
    "duration": 7,
    "start_time": "2022-05-28T12:27:19.845Z"
   },
   {
    "duration": 6,
    "start_time": "2022-05-28T12:27:23.268Z"
   },
   {
    "duration": 8,
    "start_time": "2022-05-28T12:28:32.888Z"
   },
   {
    "duration": 18,
    "start_time": "2022-05-28T12:29:40.561Z"
   },
   {
    "duration": 8,
    "start_time": "2022-05-28T12:35:31.319Z"
   },
   {
    "duration": 9,
    "start_time": "2022-05-28T12:39:04.634Z"
   },
   {
    "duration": 11,
    "start_time": "2022-05-28T12:39:29.192Z"
   },
   {
    "duration": 8,
    "start_time": "2022-05-28T12:39:34.608Z"
   },
   {
    "duration": 20,
    "start_time": "2022-05-28T12:41:28.715Z"
   },
   {
    "duration": 14,
    "start_time": "2022-05-28T12:47:37.085Z"
   },
   {
    "duration": 18,
    "start_time": "2022-05-28T12:50:37.465Z"
   },
   {
    "duration": 6,
    "start_time": "2022-05-28T13:37:07.462Z"
   },
   {
    "duration": 14,
    "start_time": "2022-05-28T13:37:18.411Z"
   },
   {
    "duration": 14,
    "start_time": "2022-05-28T13:38:40.759Z"
   },
   {
    "duration": 632,
    "start_time": "2022-05-28T16:45:12.281Z"
   },
   {
    "duration": 41,
    "start_time": "2022-05-28T16:45:12.915Z"
   },
   {
    "duration": 16,
    "start_time": "2022-05-28T16:45:12.957Z"
   },
   {
    "duration": 18,
    "start_time": "2022-05-28T16:45:12.975Z"
   },
   {
    "duration": 4,
    "start_time": "2022-05-28T16:45:12.995Z"
   },
   {
    "duration": 11,
    "start_time": "2022-05-28T16:45:13.001Z"
   },
   {
    "duration": 31,
    "start_time": "2022-05-28T16:45:13.013Z"
   },
   {
    "duration": 17,
    "start_time": "2022-05-28T16:45:13.046Z"
   },
   {
    "duration": 13,
    "start_time": "2022-05-28T16:45:13.065Z"
   },
   {
    "duration": 28,
    "start_time": "2022-05-28T16:45:13.081Z"
   },
   {
    "duration": 25,
    "start_time": "2022-05-28T16:45:13.142Z"
   },
   {
    "duration": 3,
    "start_time": "2022-05-28T16:45:13.169Z"
   },
   {
    "duration": 33,
    "start_time": "2022-05-28T16:45:13.173Z"
   },
   {
    "duration": 6,
    "start_time": "2022-05-28T16:45:13.208Z"
   },
   {
    "duration": 28,
    "start_time": "2022-05-28T16:45:13.216Z"
   },
   {
    "duration": 12,
    "start_time": "2022-05-28T16:45:13.246Z"
   },
   {
    "duration": 12,
    "start_time": "2022-05-28T16:45:13.260Z"
   },
   {
    "duration": 15,
    "start_time": "2022-05-28T16:45:13.274Z"
   },
   {
    "duration": 23,
    "start_time": "2022-05-28T16:45:13.291Z"
   },
   {
    "duration": 6,
    "start_time": "2022-05-28T16:45:13.316Z"
   },
   {
    "duration": 51,
    "start_time": "2022-05-28T16:45:13.324Z"
   },
   {
    "duration": 7,
    "start_time": "2022-05-28T16:45:13.377Z"
   },
   {
    "duration": 8,
    "start_time": "2022-05-28T16:45:13.386Z"
   },
   {
    "duration": 13,
    "start_time": "2022-05-28T16:45:13.396Z"
   },
   {
    "duration": 40,
    "start_time": "2022-05-28T16:45:13.411Z"
   },
   {
    "duration": 3,
    "start_time": "2022-05-28T16:45:13.454Z"
   },
   {
    "duration": 19,
    "start_time": "2022-05-28T16:45:13.459Z"
   },
   {
    "duration": 6,
    "start_time": "2022-05-28T16:45:13.483Z"
   },
   {
    "duration": 13,
    "start_time": "2022-05-28T16:45:13.491Z"
   },
   {
    "duration": 11,
    "start_time": "2022-05-28T16:45:13.505Z"
   },
   {
    "duration": 24,
    "start_time": "2022-05-28T16:45:13.518Z"
   },
   {
    "duration": 10,
    "start_time": "2022-05-28T16:45:13.544Z"
   },
   {
    "duration": 4,
    "start_time": "2022-05-28T16:45:13.555Z"
   },
   {
    "duration": 5,
    "start_time": "2022-05-28T16:45:13.561Z"
   },
   {
    "duration": 9,
    "start_time": "2022-05-28T16:45:13.567Z"
   },
   {
    "duration": 3,
    "start_time": "2022-05-28T16:45:13.578Z"
   },
   {
    "duration": 3,
    "start_time": "2022-05-28T16:45:13.583Z"
   },
   {
    "duration": 9,
    "start_time": "2022-05-28T16:45:13.588Z"
   },
   {
    "duration": 3,
    "start_time": "2022-05-28T16:45:13.599Z"
   },
   {
    "duration": 37,
    "start_time": "2022-05-28T16:45:13.604Z"
   },
   {
    "duration": 23,
    "start_time": "2022-05-28T16:45:13.643Z"
   },
   {
    "duration": 31,
    "start_time": "2022-05-28T16:45:13.668Z"
   },
   {
    "duration": 5,
    "start_time": "2022-05-28T16:45:13.701Z"
   },
   {
    "duration": 40,
    "start_time": "2022-05-28T16:45:13.707Z"
   },
   {
    "duration": 19,
    "start_time": "2022-05-28T16:45:13.749Z"
   },
   {
    "duration": 4,
    "start_time": "2022-05-28T16:45:13.769Z"
   },
   {
    "duration": 5,
    "start_time": "2022-05-28T16:45:13.775Z"
   },
   {
    "duration": 65,
    "start_time": "2022-05-28T16:45:13.782Z"
   },
   {
    "duration": 42,
    "start_time": "2022-05-28T16:45:13.848Z"
   },
   {
    "duration": 58,
    "start_time": "2022-05-28T16:45:13.892Z"
   },
   {
    "duration": 3,
    "start_time": "2022-05-28T16:45:13.952Z"
   },
   {
    "duration": 5,
    "start_time": "2022-05-28T16:45:13.957Z"
   },
   {
    "duration": 14,
    "start_time": "2022-05-28T16:45:13.963Z"
   },
   {
    "duration": 9,
    "start_time": "2022-05-28T16:45:13.979Z"
   },
   {
    "duration": 62,
    "start_time": "2022-05-28T16:45:13.990Z"
   },
   {
    "duration": 7,
    "start_time": "2022-05-28T16:45:14.054Z"
   },
   {
    "duration": 10,
    "start_time": "2022-05-28T16:45:14.062Z"
   },
   {
    "duration": 19,
    "start_time": "2022-05-28T16:45:14.074Z"
   },
   {
    "duration": 7,
    "start_time": "2022-05-28T16:45:14.095Z"
   },
   {
    "duration": 9,
    "start_time": "2022-05-28T16:45:14.103Z"
   },
   {
    "duration": 29,
    "start_time": "2022-05-28T16:45:14.114Z"
   },
   {
    "duration": 7,
    "start_time": "2022-05-28T16:45:14.145Z"
   },
   {
    "duration": 9,
    "start_time": "2022-05-28T16:45:14.153Z"
   },
   {
    "duration": 8,
    "start_time": "2022-05-28T16:45:14.164Z"
   },
   {
    "duration": 8,
    "start_time": "2022-05-28T16:45:14.174Z"
   },
   {
    "duration": 8,
    "start_time": "2022-05-28T16:45:14.184Z"
   },
   {
    "duration": 112,
    "start_time": "2022-05-28T16:45:14.194Z"
   },
   {
    "duration": 0,
    "start_time": "2022-05-28T16:45:14.308Z"
   },
   {
    "duration": 0,
    "start_time": "2022-05-28T16:45:14.309Z"
   },
   {
    "duration": 0,
    "start_time": "2022-05-28T16:45:14.311Z"
   },
   {
    "duration": 0,
    "start_time": "2022-05-28T16:45:14.313Z"
   },
   {
    "duration": 0,
    "start_time": "2022-05-28T16:45:14.314Z"
   },
   {
    "duration": 0,
    "start_time": "2022-05-28T16:45:14.315Z"
   },
   {
    "duration": 0,
    "start_time": "2022-05-28T16:45:14.317Z"
   },
   {
    "duration": 0,
    "start_time": "2022-05-28T16:45:14.318Z"
   },
   {
    "duration": 0,
    "start_time": "2022-05-28T16:45:14.319Z"
   },
   {
    "duration": 0,
    "start_time": "2022-05-28T16:45:14.341Z"
   },
   {
    "duration": 0,
    "start_time": "2022-05-28T16:45:14.342Z"
   },
   {
    "duration": 0,
    "start_time": "2022-05-28T16:45:14.344Z"
   },
   {
    "duration": 0,
    "start_time": "2022-05-28T16:45:14.345Z"
   },
   {
    "duration": 0,
    "start_time": "2022-05-28T16:45:14.347Z"
   },
   {
    "duration": 0,
    "start_time": "2022-05-28T16:45:14.348Z"
   },
   {
    "duration": 0,
    "start_time": "2022-05-28T16:45:14.350Z"
   },
   {
    "duration": 0,
    "start_time": "2022-05-28T16:45:14.351Z"
   },
   {
    "duration": 0,
    "start_time": "2022-05-28T16:45:14.353Z"
   },
   {
    "duration": 0,
    "start_time": "2022-05-28T16:45:14.355Z"
   },
   {
    "duration": 0,
    "start_time": "2022-05-28T16:45:14.356Z"
   },
   {
    "duration": 1,
    "start_time": "2022-05-28T16:45:14.357Z"
   },
   {
    "duration": 0,
    "start_time": "2022-05-28T16:45:14.359Z"
   },
   {
    "duration": 0,
    "start_time": "2022-05-28T16:45:14.360Z"
   },
   {
    "duration": 0,
    "start_time": "2022-05-28T16:45:14.362Z"
   },
   {
    "duration": 0,
    "start_time": "2022-05-28T16:45:14.363Z"
   },
   {
    "duration": 0,
    "start_time": "2022-05-28T16:45:14.365Z"
   },
   {
    "duration": 0,
    "start_time": "2022-05-28T16:45:14.366Z"
   },
   {
    "duration": 7,
    "start_time": "2022-05-28T16:45:52.535Z"
   },
   {
    "duration": 5,
    "start_time": "2022-05-28T16:45:54.821Z"
   },
   {
    "duration": 11,
    "start_time": "2022-05-28T16:46:02.714Z"
   },
   {
    "duration": 11,
    "start_time": "2022-05-28T16:46:32.968Z"
   },
   {
    "duration": 14,
    "start_time": "2022-05-28T16:46:41.771Z"
   },
   {
    "duration": 15,
    "start_time": "2022-05-28T16:47:58.112Z"
   },
   {
    "duration": 11,
    "start_time": "2022-05-28T16:51:47.946Z"
   },
   {
    "duration": 4,
    "start_time": "2022-05-28T16:51:55.475Z"
   },
   {
    "duration": 21,
    "start_time": "2022-05-28T16:52:06.906Z"
   },
   {
    "duration": 5,
    "start_time": "2022-05-28T16:53:31.713Z"
   },
   {
    "duration": 4,
    "start_time": "2022-05-28T16:53:42.383Z"
   },
   {
    "duration": 8,
    "start_time": "2022-05-28T16:53:54.357Z"
   },
   {
    "duration": 9,
    "start_time": "2022-05-28T16:54:18.367Z"
   },
   {
    "duration": 15,
    "start_time": "2022-05-28T16:58:41.719Z"
   },
   {
    "duration": 11,
    "start_time": "2022-05-28T16:58:53.980Z"
   },
   {
    "duration": 12,
    "start_time": "2022-05-28T16:59:13.994Z"
   },
   {
    "duration": 17,
    "start_time": "2022-05-28T16:59:31.787Z"
   },
   {
    "duration": 8,
    "start_time": "2022-05-28T17:05:43.108Z"
   },
   {
    "duration": 7,
    "start_time": "2022-05-28T17:06:16.608Z"
   },
   {
    "duration": 7,
    "start_time": "2022-05-28T17:07:52.516Z"
   },
   {
    "duration": 7,
    "start_time": "2022-05-28T17:07:56.646Z"
   },
   {
    "duration": 8,
    "start_time": "2022-05-28T17:08:53.360Z"
   },
   {
    "duration": 8,
    "start_time": "2022-05-28T17:09:02.722Z"
   },
   {
    "duration": 6,
    "start_time": "2022-05-28T17:24:10.080Z"
   },
   {
    "duration": 7,
    "start_time": "2022-05-28T17:24:13.663Z"
   },
   {
    "duration": 12,
    "start_time": "2022-05-28T17:27:18.504Z"
   },
   {
    "duration": 16,
    "start_time": "2022-05-28T17:27:37.970Z"
   },
   {
    "duration": 7,
    "start_time": "2022-05-28T17:28:51.658Z"
   },
   {
    "duration": 21,
    "start_time": "2022-05-28T17:36:41.837Z"
   },
   {
    "duration": 12,
    "start_time": "2022-05-28T17:36:46.938Z"
   },
   {
    "duration": 4,
    "start_time": "2022-05-28T17:42:45.159Z"
   },
   {
    "duration": 12,
    "start_time": "2022-05-28T17:42:53.633Z"
   },
   {
    "duration": 505,
    "start_time": "2022-05-28T17:43:02.434Z"
   },
   {
    "duration": 45,
    "start_time": "2022-05-28T17:43:02.941Z"
   },
   {
    "duration": 13,
    "start_time": "2022-05-28T17:43:02.987Z"
   },
   {
    "duration": 15,
    "start_time": "2022-05-28T17:43:03.002Z"
   },
   {
    "duration": 28,
    "start_time": "2022-05-28T17:43:03.019Z"
   },
   {
    "duration": 20,
    "start_time": "2022-05-28T17:43:03.049Z"
   },
   {
    "duration": 8,
    "start_time": "2022-05-28T17:43:03.071Z"
   },
   {
    "duration": 14,
    "start_time": "2022-05-28T17:43:03.080Z"
   },
   {
    "duration": 11,
    "start_time": "2022-05-28T17:43:03.095Z"
   },
   {
    "duration": 29,
    "start_time": "2022-05-28T17:43:03.140Z"
   },
   {
    "duration": 25,
    "start_time": "2022-05-28T17:43:03.171Z"
   },
   {
    "duration": 2,
    "start_time": "2022-05-28T17:43:03.198Z"
   },
   {
    "duration": 21,
    "start_time": "2022-05-28T17:43:03.202Z"
   },
   {
    "duration": 6,
    "start_time": "2022-05-28T17:43:03.247Z"
   },
   {
    "duration": 6,
    "start_time": "2022-05-28T17:43:03.255Z"
   },
   {
    "duration": 9,
    "start_time": "2022-05-28T17:43:03.264Z"
   },
   {
    "duration": 13,
    "start_time": "2022-05-28T17:43:03.275Z"
   },
   {
    "duration": 10,
    "start_time": "2022-05-28T17:43:03.289Z"
   },
   {
    "duration": 12,
    "start_time": "2022-05-28T17:43:03.301Z"
   },
   {
    "duration": 5,
    "start_time": "2022-05-28T17:43:03.314Z"
   },
   {
    "duration": 13,
    "start_time": "2022-05-28T17:43:03.341Z"
   },
   {
    "duration": 5,
    "start_time": "2022-05-28T17:43:03.356Z"
   },
   {
    "duration": 10,
    "start_time": "2022-05-28T17:43:03.362Z"
   },
   {
    "duration": 11,
    "start_time": "2022-05-28T17:43:03.373Z"
   },
   {
    "duration": 109,
    "start_time": "2022-05-28T17:43:03.385Z"
   },
   {
    "duration": 0,
    "start_time": "2022-05-28T17:43:03.499Z"
   },
   {
    "duration": 0,
    "start_time": "2022-05-28T17:43:03.501Z"
   },
   {
    "duration": 0,
    "start_time": "2022-05-28T17:43:03.502Z"
   },
   {
    "duration": 0,
    "start_time": "2022-05-28T17:43:03.503Z"
   },
   {
    "duration": 0,
    "start_time": "2022-05-28T17:43:03.505Z"
   },
   {
    "duration": 0,
    "start_time": "2022-05-28T17:43:03.506Z"
   },
   {
    "duration": 0,
    "start_time": "2022-05-28T17:43:03.508Z"
   },
   {
    "duration": 0,
    "start_time": "2022-05-28T17:43:03.509Z"
   },
   {
    "duration": 0,
    "start_time": "2022-05-28T17:43:03.511Z"
   },
   {
    "duration": 0,
    "start_time": "2022-05-28T17:43:03.512Z"
   },
   {
    "duration": 0,
    "start_time": "2022-05-28T17:43:03.542Z"
   },
   {
    "duration": 0,
    "start_time": "2022-05-28T17:43:03.543Z"
   },
   {
    "duration": 0,
    "start_time": "2022-05-28T17:43:03.544Z"
   },
   {
    "duration": 0,
    "start_time": "2022-05-28T17:43:03.545Z"
   },
   {
    "duration": 0,
    "start_time": "2022-05-28T17:43:03.546Z"
   },
   {
    "duration": 0,
    "start_time": "2022-05-28T17:43:03.547Z"
   },
   {
    "duration": 0,
    "start_time": "2022-05-28T17:43:03.548Z"
   },
   {
    "duration": 0,
    "start_time": "2022-05-28T17:43:03.549Z"
   },
   {
    "duration": 0,
    "start_time": "2022-05-28T17:43:03.550Z"
   },
   {
    "duration": 0,
    "start_time": "2022-05-28T17:43:03.551Z"
   },
   {
    "duration": 0,
    "start_time": "2022-05-28T17:43:03.552Z"
   },
   {
    "duration": 0,
    "start_time": "2022-05-28T17:43:03.552Z"
   },
   {
    "duration": 0,
    "start_time": "2022-05-28T17:43:03.553Z"
   },
   {
    "duration": 0,
    "start_time": "2022-05-28T17:43:03.554Z"
   },
   {
    "duration": 0,
    "start_time": "2022-05-28T17:43:03.555Z"
   },
   {
    "duration": 0,
    "start_time": "2022-05-28T17:43:03.556Z"
   },
   {
    "duration": 0,
    "start_time": "2022-05-28T17:43:03.557Z"
   },
   {
    "duration": 1,
    "start_time": "2022-05-28T17:43:03.557Z"
   },
   {
    "duration": 0,
    "start_time": "2022-05-28T17:43:03.559Z"
   },
   {
    "duration": 0,
    "start_time": "2022-05-28T17:43:03.559Z"
   },
   {
    "duration": 0,
    "start_time": "2022-05-28T17:43:03.560Z"
   },
   {
    "duration": 0,
    "start_time": "2022-05-28T17:43:03.561Z"
   },
   {
    "duration": 0,
    "start_time": "2022-05-28T17:43:03.562Z"
   },
   {
    "duration": 0,
    "start_time": "2022-05-28T17:43:03.563Z"
   },
   {
    "duration": 0,
    "start_time": "2022-05-28T17:43:03.564Z"
   },
   {
    "duration": 0,
    "start_time": "2022-05-28T17:43:03.565Z"
   },
   {
    "duration": 0,
    "start_time": "2022-05-28T17:43:03.566Z"
   },
   {
    "duration": 0,
    "start_time": "2022-05-28T17:43:03.568Z"
   },
   {
    "duration": 0,
    "start_time": "2022-05-28T17:43:03.568Z"
   },
   {
    "duration": 0,
    "start_time": "2022-05-28T17:43:03.569Z"
   },
   {
    "duration": 0,
    "start_time": "2022-05-28T17:43:03.570Z"
   },
   {
    "duration": 0,
    "start_time": "2022-05-28T17:43:03.572Z"
   },
   {
    "duration": 0,
    "start_time": "2022-05-28T17:43:03.572Z"
   },
   {
    "duration": 0,
    "start_time": "2022-05-28T17:43:03.573Z"
   },
   {
    "duration": 0,
    "start_time": "2022-05-28T17:43:03.574Z"
   },
   {
    "duration": 0,
    "start_time": "2022-05-28T17:43:03.575Z"
   },
   {
    "duration": 0,
    "start_time": "2022-05-28T17:43:03.576Z"
   },
   {
    "duration": 0,
    "start_time": "2022-05-28T17:43:03.577Z"
   },
   {
    "duration": 0,
    "start_time": "2022-05-28T17:43:03.641Z"
   },
   {
    "duration": 0,
    "start_time": "2022-05-28T17:43:03.642Z"
   },
   {
    "duration": 0,
    "start_time": "2022-05-28T17:43:03.644Z"
   },
   {
    "duration": 0,
    "start_time": "2022-05-28T17:43:03.646Z"
   },
   {
    "duration": 0,
    "start_time": "2022-05-28T17:43:03.647Z"
   },
   {
    "duration": 0,
    "start_time": "2022-05-28T17:43:03.649Z"
   },
   {
    "duration": 0,
    "start_time": "2022-05-28T17:43:03.650Z"
   },
   {
    "duration": 0,
    "start_time": "2022-05-28T17:43:03.652Z"
   },
   {
    "duration": 0,
    "start_time": "2022-05-28T17:43:03.653Z"
   },
   {
    "duration": 0,
    "start_time": "2022-05-28T17:43:03.654Z"
   },
   {
    "duration": 0,
    "start_time": "2022-05-28T17:43:03.656Z"
   },
   {
    "duration": 0,
    "start_time": "2022-05-28T17:43:03.657Z"
   },
   {
    "duration": 0,
    "start_time": "2022-05-28T17:43:03.658Z"
   },
   {
    "duration": 0,
    "start_time": "2022-05-28T17:43:03.660Z"
   },
   {
    "duration": 0,
    "start_time": "2022-05-28T17:43:03.661Z"
   },
   {
    "duration": 0,
    "start_time": "2022-05-28T17:43:03.663Z"
   },
   {
    "duration": 0,
    "start_time": "2022-05-28T17:43:03.665Z"
   },
   {
    "duration": 0,
    "start_time": "2022-05-28T17:43:03.667Z"
   },
   {
    "duration": 0,
    "start_time": "2022-05-28T17:43:03.669Z"
   },
   {
    "duration": 0,
    "start_time": "2022-05-28T17:43:03.671Z"
   },
   {
    "duration": 0,
    "start_time": "2022-05-28T17:43:03.672Z"
   },
   {
    "duration": 0,
    "start_time": "2022-05-28T17:43:03.673Z"
   },
   {
    "duration": 0,
    "start_time": "2022-05-28T17:43:03.673Z"
   },
   {
    "duration": 0,
    "start_time": "2022-05-28T17:43:03.674Z"
   },
   {
    "duration": 0,
    "start_time": "2022-05-28T17:43:03.675Z"
   },
   {
    "duration": 0,
    "start_time": "2022-05-28T17:43:03.676Z"
   },
   {
    "duration": 0,
    "start_time": "2022-05-28T17:43:03.678Z"
   },
   {
    "duration": 0,
    "start_time": "2022-05-28T17:43:03.678Z"
   },
   {
    "duration": 0,
    "start_time": "2022-05-28T17:43:03.680Z"
   },
   {
    "duration": 0,
    "start_time": "2022-05-28T17:43:03.681Z"
   },
   {
    "duration": 0,
    "start_time": "2022-05-28T17:43:03.746Z"
   },
   {
    "duration": 2,
    "start_time": "2022-05-28T17:44:57.740Z"
   },
   {
    "duration": 4,
    "start_time": "2022-05-28T17:45:13.399Z"
   },
   {
    "duration": 7,
    "start_time": "2022-05-28T17:45:15.599Z"
   },
   {
    "duration": 8,
    "start_time": "2022-05-28T17:45:18.907Z"
   },
   {
    "duration": 11,
    "start_time": "2022-05-28T17:45:43.445Z"
   },
   {
    "duration": 2,
    "start_time": "2022-05-28T17:46:01.588Z"
   },
   {
    "duration": 473,
    "start_time": "2022-05-28T17:46:48.791Z"
   },
   {
    "duration": 40,
    "start_time": "2022-05-28T17:46:49.266Z"
   },
   {
    "duration": 14,
    "start_time": "2022-05-28T17:46:49.307Z"
   },
   {
    "duration": 27,
    "start_time": "2022-05-28T17:46:49.323Z"
   },
   {
    "duration": 5,
    "start_time": "2022-05-28T17:46:49.352Z"
   },
   {
    "duration": 11,
    "start_time": "2022-05-28T17:46:49.358Z"
   },
   {
    "duration": 9,
    "start_time": "2022-05-28T17:46:49.371Z"
   },
   {
    "duration": 16,
    "start_time": "2022-05-28T17:46:49.381Z"
   },
   {
    "duration": 48,
    "start_time": "2022-05-28T17:46:49.399Z"
   },
   {
    "duration": 21,
    "start_time": "2022-05-28T17:46:49.451Z"
   },
   {
    "duration": 21,
    "start_time": "2022-05-28T17:46:49.474Z"
   },
   {
    "duration": 3,
    "start_time": "2022-05-28T17:46:49.496Z"
   },
   {
    "duration": 49,
    "start_time": "2022-05-28T17:46:49.500Z"
   },
   {
    "duration": 6,
    "start_time": "2022-05-28T17:46:49.551Z"
   },
   {
    "duration": 2,
    "start_time": "2022-05-28T17:46:49.559Z"
   },
   {
    "duration": 9,
    "start_time": "2022-05-28T17:46:49.563Z"
   },
   {
    "duration": 15,
    "start_time": "2022-05-28T17:46:49.573Z"
   },
   {
    "duration": 15,
    "start_time": "2022-05-28T17:46:49.589Z"
   },
   {
    "duration": 37,
    "start_time": "2022-05-28T17:46:49.606Z"
   },
   {
    "duration": 4,
    "start_time": "2022-05-28T17:46:49.645Z"
   },
   {
    "duration": 11,
    "start_time": "2022-05-28T17:46:49.651Z"
   },
   {
    "duration": 5,
    "start_time": "2022-05-28T17:46:49.664Z"
   },
   {
    "duration": 13,
    "start_time": "2022-05-28T17:46:49.671Z"
   },
   {
    "duration": 12,
    "start_time": "2022-05-28T17:46:49.686Z"
   },
   {
    "duration": 4,
    "start_time": "2022-05-28T17:46:49.700Z"
   },
   {
    "duration": 42,
    "start_time": "2022-05-28T17:46:49.705Z"
   },
   {
    "duration": 9,
    "start_time": "2022-05-28T17:46:49.749Z"
   },
   {
    "duration": 7,
    "start_time": "2022-05-28T17:46:49.763Z"
   },
   {
    "duration": 12,
    "start_time": "2022-05-28T17:46:49.772Z"
   },
   {
    "duration": 8,
    "start_time": "2022-05-28T17:46:49.786Z"
   },
   {
    "duration": 7,
    "start_time": "2022-05-28T17:46:49.796Z"
   },
   {
    "duration": 8,
    "start_time": "2022-05-28T17:46:49.842Z"
   },
   {
    "duration": 8,
    "start_time": "2022-05-28T17:46:49.852Z"
   },
   {
    "duration": 4,
    "start_time": "2022-05-28T17:46:49.861Z"
   },
   {
    "duration": 11,
    "start_time": "2022-05-28T17:46:49.867Z"
   },
   {
    "duration": 18,
    "start_time": "2022-05-28T17:46:49.881Z"
   },
   {
    "duration": 11,
    "start_time": "2022-05-28T17:46:49.901Z"
   },
   {
    "duration": 21,
    "start_time": "2022-05-28T17:46:49.914Z"
   },
   {
    "duration": 14,
    "start_time": "2022-05-28T17:46:49.937Z"
   },
   {
    "duration": 12,
    "start_time": "2022-05-28T17:46:49.953Z"
   },
   {
    "duration": 27,
    "start_time": "2022-05-28T17:46:49.968Z"
   },
   {
    "duration": 39,
    "start_time": "2022-05-28T17:46:49.997Z"
   },
   {
    "duration": 7,
    "start_time": "2022-05-28T17:46:50.037Z"
   },
   {
    "duration": 22,
    "start_time": "2022-05-28T17:46:50.045Z"
   },
   {
    "duration": 18,
    "start_time": "2022-05-28T17:46:50.069Z"
   },
   {
    "duration": 4,
    "start_time": "2022-05-28T17:46:50.088Z"
   },
   {
    "duration": 9,
    "start_time": "2022-05-28T17:46:50.094Z"
   },
   {
    "duration": 63,
    "start_time": "2022-05-28T17:46:50.105Z"
   },
   {
    "duration": 42,
    "start_time": "2022-05-28T17:46:50.170Z"
   },
   {
    "duration": 58,
    "start_time": "2022-05-28T17:46:50.214Z"
   },
   {
    "duration": 4,
    "start_time": "2022-05-28T17:46:50.274Z"
   },
   {
    "duration": 9,
    "start_time": "2022-05-28T17:46:50.279Z"
   },
   {
    "duration": 16,
    "start_time": "2022-05-28T17:46:50.289Z"
   },
   {
    "duration": 11,
    "start_time": "2022-05-28T17:46:50.307Z"
   },
   {
    "duration": 49,
    "start_time": "2022-05-28T17:46:50.319Z"
   },
   {
    "duration": 7,
    "start_time": "2022-05-28T17:46:50.370Z"
   },
   {
    "duration": 7,
    "start_time": "2022-05-28T17:46:50.379Z"
   },
   {
    "duration": 6,
    "start_time": "2022-05-28T17:46:50.388Z"
   },
   {
    "duration": 17,
    "start_time": "2022-05-28T17:46:50.396Z"
   },
   {
    "duration": 30,
    "start_time": "2022-05-28T17:46:50.415Z"
   },
   {
    "duration": 7,
    "start_time": "2022-05-28T17:46:50.446Z"
   },
   {
    "duration": 11,
    "start_time": "2022-05-28T17:46:50.455Z"
   },
   {
    "duration": 9,
    "start_time": "2022-05-28T17:46:50.467Z"
   },
   {
    "duration": 7,
    "start_time": "2022-05-28T17:46:50.478Z"
   },
   {
    "duration": 7,
    "start_time": "2022-05-28T17:46:50.486Z"
   },
   {
    "duration": 12,
    "start_time": "2022-05-28T17:46:50.495Z"
   },
   {
    "duration": 33,
    "start_time": "2022-05-28T17:46:50.509Z"
   },
   {
    "duration": 14,
    "start_time": "2022-05-28T17:46:50.544Z"
   },
   {
    "duration": 3,
    "start_time": "2022-05-28T17:46:50.560Z"
   },
   {
    "duration": 10,
    "start_time": "2022-05-28T17:46:50.565Z"
   },
   {
    "duration": 16,
    "start_time": "2022-05-28T17:46:50.577Z"
   },
   {
    "duration": 3,
    "start_time": "2022-05-28T17:46:50.595Z"
   },
   {
    "duration": 3,
    "start_time": "2022-05-28T17:46:50.600Z"
   },
   {
    "duration": 36,
    "start_time": "2022-05-28T17:46:50.605Z"
   },
   {
    "duration": 5,
    "start_time": "2022-05-28T17:46:50.644Z"
   },
   {
    "duration": 9,
    "start_time": "2022-05-28T17:46:50.651Z"
   },
   {
    "duration": 8,
    "start_time": "2022-05-28T17:46:50.662Z"
   },
   {
    "duration": 7,
    "start_time": "2022-05-28T17:46:50.672Z"
   },
   {
    "duration": 8,
    "start_time": "2022-05-28T17:46:50.681Z"
   },
   {
    "duration": 8,
    "start_time": "2022-05-28T17:46:50.691Z"
   },
   {
    "duration": 46,
    "start_time": "2022-05-28T17:46:50.701Z"
   },
   {
    "duration": 8,
    "start_time": "2022-05-28T17:46:50.753Z"
   },
   {
    "duration": 11,
    "start_time": "2022-05-28T17:46:50.763Z"
   },
   {
    "duration": 3,
    "start_time": "2022-05-28T17:46:50.776Z"
   },
   {
    "duration": 4,
    "start_time": "2022-05-28T17:46:50.781Z"
   },
   {
    "duration": 6,
    "start_time": "2022-05-28T17:46:50.786Z"
   },
   {
    "duration": 17,
    "start_time": "2022-05-28T17:46:50.794Z"
   },
   {
    "duration": 3,
    "start_time": "2022-05-28T17:46:50.842Z"
   },
   {
    "duration": 8,
    "start_time": "2022-05-28T17:46:50.847Z"
   },
   {
    "duration": 3,
    "start_time": "2022-05-28T17:46:50.857Z"
   },
   {
    "duration": 19,
    "start_time": "2022-05-28T17:46:50.862Z"
   },
   {
    "duration": 3,
    "start_time": "2022-05-28T17:46:50.883Z"
   },
   {
    "duration": 5,
    "start_time": "2022-05-28T17:46:50.888Z"
   },
   {
    "duration": 4,
    "start_time": "2022-05-28T17:46:50.894Z"
   },
   {
    "duration": 8,
    "start_time": "2022-05-28T17:46:50.899Z"
   },
   {
    "duration": 6,
    "start_time": "2022-05-28T17:46:50.908Z"
   },
   {
    "duration": 2,
    "start_time": "2022-05-28T17:46:50.941Z"
   },
   {
    "duration": 4,
    "start_time": "2022-05-28T17:46:50.945Z"
   },
   {
    "duration": 4,
    "start_time": "2022-05-28T17:46:50.951Z"
   },
   {
    "duration": 3,
    "start_time": "2022-05-28T17:46:50.957Z"
   },
   {
    "duration": 4,
    "start_time": "2022-05-28T17:46:50.962Z"
   },
   {
    "duration": 5,
    "start_time": "2022-05-28T17:46:50.967Z"
   },
   {
    "duration": 3,
    "start_time": "2022-05-28T17:46:50.974Z"
   },
   {
    "duration": 3,
    "start_time": "2022-05-28T17:46:50.979Z"
   },
   {
    "duration": 4,
    "start_time": "2022-05-28T17:47:34.233Z"
   },
   {
    "duration": 6,
    "start_time": "2022-05-28T17:47:39.927Z"
   },
   {
    "duration": 606,
    "start_time": "2022-05-28T22:24:52.318Z"
   },
   {
    "duration": 49,
    "start_time": "2022-05-28T22:24:52.926Z"
   },
   {
    "duration": 13,
    "start_time": "2022-05-28T22:24:52.977Z"
   },
   {
    "duration": 39,
    "start_time": "2022-05-28T22:24:52.992Z"
   },
   {
    "duration": 6,
    "start_time": "2022-05-28T22:24:53.034Z"
   },
   {
    "duration": 14,
    "start_time": "2022-05-28T22:24:53.043Z"
   },
   {
    "duration": 7,
    "start_time": "2022-05-28T22:24:53.059Z"
   },
   {
    "duration": 14,
    "start_time": "2022-05-28T22:24:53.068Z"
   },
   {
    "duration": 10,
    "start_time": "2022-05-28T22:24:53.084Z"
   },
   {
    "duration": 47,
    "start_time": "2022-05-28T22:24:53.096Z"
   },
   {
    "duration": 18,
    "start_time": "2022-05-28T22:24:53.145Z"
   },
   {
    "duration": 2,
    "start_time": "2022-05-28T22:24:53.165Z"
   },
   {
    "duration": 21,
    "start_time": "2022-05-28T22:24:53.168Z"
   },
   {
    "duration": 5,
    "start_time": "2022-05-28T22:24:53.192Z"
   },
   {
    "duration": 7,
    "start_time": "2022-05-28T22:24:53.199Z"
   },
   {
    "duration": 10,
    "start_time": "2022-05-28T22:24:53.230Z"
   },
   {
    "duration": 16,
    "start_time": "2022-05-28T22:24:53.242Z"
   },
   {
    "duration": 13,
    "start_time": "2022-05-28T22:24:53.260Z"
   },
   {
    "duration": 6,
    "start_time": "2022-05-28T22:24:53.275Z"
   },
   {
    "duration": 5,
    "start_time": "2022-05-28T22:24:53.282Z"
   },
   {
    "duration": 11,
    "start_time": "2022-05-28T22:24:53.288Z"
   },
   {
    "duration": 5,
    "start_time": "2022-05-28T22:24:53.300Z"
   },
   {
    "duration": 26,
    "start_time": "2022-05-28T22:24:53.306Z"
   },
   {
    "duration": 12,
    "start_time": "2022-05-28T22:24:53.336Z"
   },
   {
    "duration": 4,
    "start_time": "2022-05-28T22:24:53.350Z"
   },
   {
    "duration": 10,
    "start_time": "2022-05-28T22:24:53.355Z"
   },
   {
    "duration": 7,
    "start_time": "2022-05-28T22:24:53.366Z"
   },
   {
    "duration": 5,
    "start_time": "2022-05-28T22:24:53.375Z"
   },
   {
    "duration": 8,
    "start_time": "2022-05-28T22:24:53.381Z"
   },
   {
    "duration": 41,
    "start_time": "2022-05-28T22:24:53.391Z"
   },
   {
    "duration": 6,
    "start_time": "2022-05-28T22:24:53.434Z"
   },
   {
    "duration": 10,
    "start_time": "2022-05-28T22:24:53.445Z"
   },
   {
    "duration": 4,
    "start_time": "2022-05-28T22:24:53.457Z"
   },
   {
    "duration": 8,
    "start_time": "2022-05-28T22:24:53.463Z"
   },
   {
    "duration": 8,
    "start_time": "2022-05-28T22:24:53.473Z"
   },
   {
    "duration": 5,
    "start_time": "2022-05-28T22:24:53.483Z"
   },
   {
    "duration": 7,
    "start_time": "2022-05-28T22:24:53.489Z"
   },
   {
    "duration": 11,
    "start_time": "2022-05-28T22:24:53.497Z"
   },
   {
    "duration": 3,
    "start_time": "2022-05-28T22:24:53.510Z"
   },
   {
    "duration": 42,
    "start_time": "2022-05-28T22:24:53.529Z"
   },
   {
    "duration": 19,
    "start_time": "2022-05-28T22:24:53.576Z"
   },
   {
    "duration": 36,
    "start_time": "2022-05-28T22:24:53.596Z"
   },
   {
    "duration": 13,
    "start_time": "2022-05-28T22:24:53.634Z"
   },
   {
    "duration": 28,
    "start_time": "2022-05-28T22:24:53.649Z"
   },
   {
    "duration": 21,
    "start_time": "2022-05-28T22:24:53.679Z"
   },
   {
    "duration": 4,
    "start_time": "2022-05-28T22:24:53.702Z"
   },
   {
    "duration": 21,
    "start_time": "2022-05-28T22:24:53.708Z"
   },
   {
    "duration": 39,
    "start_time": "2022-05-28T22:24:53.732Z"
   },
   {
    "duration": 43,
    "start_time": "2022-05-28T22:24:53.773Z"
   },
   {
    "duration": 54,
    "start_time": "2022-05-28T22:24:53.818Z"
   },
   {
    "duration": 3,
    "start_time": "2022-05-28T22:24:53.874Z"
   },
   {
    "duration": 9,
    "start_time": "2022-05-28T22:24:53.878Z"
   },
   {
    "duration": 14,
    "start_time": "2022-05-28T22:24:53.888Z"
   },
   {
    "duration": 40,
    "start_time": "2022-05-28T22:24:53.904Z"
   },
   {
    "duration": 33,
    "start_time": "2022-05-28T22:24:53.945Z"
   },
   {
    "duration": 6,
    "start_time": "2022-05-28T22:24:53.980Z"
   },
   {
    "duration": 6,
    "start_time": "2022-05-28T22:24:53.987Z"
   },
   {
    "duration": 7,
    "start_time": "2022-05-28T22:24:53.995Z"
   },
   {
    "duration": 35,
    "start_time": "2022-05-28T22:24:54.004Z"
   },
   {
    "duration": 6,
    "start_time": "2022-05-28T22:24:54.042Z"
   },
   {
    "duration": 6,
    "start_time": "2022-05-28T22:24:54.049Z"
   },
   {
    "duration": 8,
    "start_time": "2022-05-28T22:24:54.057Z"
   },
   {
    "duration": 9,
    "start_time": "2022-05-28T22:24:54.066Z"
   },
   {
    "duration": 13,
    "start_time": "2022-05-28T22:24:54.076Z"
   },
   {
    "duration": 11,
    "start_time": "2022-05-28T22:24:54.090Z"
   },
   {
    "duration": 6,
    "start_time": "2022-05-28T22:24:54.102Z"
   },
   {
    "duration": 22,
    "start_time": "2022-05-28T22:24:54.109Z"
   },
   {
    "duration": 20,
    "start_time": "2022-05-28T22:24:54.132Z"
   },
   {
    "duration": 3,
    "start_time": "2022-05-28T22:24:54.154Z"
   },
   {
    "duration": 13,
    "start_time": "2022-05-28T22:24:54.159Z"
   },
   {
    "duration": 20,
    "start_time": "2022-05-28T22:24:54.173Z"
   },
   {
    "duration": 2,
    "start_time": "2022-05-28T22:24:54.195Z"
   },
   {
    "duration": 6,
    "start_time": "2022-05-28T22:24:54.198Z"
   },
   {
    "duration": 25,
    "start_time": "2022-05-28T22:24:54.205Z"
   },
   {
    "duration": 20,
    "start_time": "2022-05-28T22:24:54.232Z"
   },
   {
    "duration": 11,
    "start_time": "2022-05-28T22:24:54.254Z"
   },
   {
    "duration": 8,
    "start_time": "2022-05-28T22:24:54.267Z"
   },
   {
    "duration": 7,
    "start_time": "2022-05-28T22:24:54.277Z"
   },
   {
    "duration": 6,
    "start_time": "2022-05-28T22:24:54.286Z"
   },
   {
    "duration": 10,
    "start_time": "2022-05-28T22:24:54.293Z"
   },
   {
    "duration": 7,
    "start_time": "2022-05-28T22:24:54.304Z"
   },
   {
    "duration": 21,
    "start_time": "2022-05-28T22:24:54.312Z"
   },
   {
    "duration": 12,
    "start_time": "2022-05-28T22:24:54.338Z"
   },
   {
    "duration": 4,
    "start_time": "2022-05-28T22:24:54.352Z"
   },
   {
    "duration": 5,
    "start_time": "2022-05-28T22:24:54.357Z"
   },
   {
    "duration": 7,
    "start_time": "2022-05-28T22:24:54.363Z"
   },
   {
    "duration": 13,
    "start_time": "2022-05-28T22:24:54.371Z"
   },
   {
    "duration": 9,
    "start_time": "2022-05-28T22:24:54.386Z"
   },
   {
    "duration": 8,
    "start_time": "2022-05-28T22:24:54.396Z"
   },
   {
    "duration": 2,
    "start_time": "2022-05-28T22:24:54.406Z"
   },
   {
    "duration": 37,
    "start_time": "2022-05-28T22:24:54.410Z"
   },
   {
    "duration": 5,
    "start_time": "2022-05-28T22:24:54.448Z"
   },
   {
    "duration": 7,
    "start_time": "2022-05-28T22:24:54.454Z"
   },
   {
    "duration": 10,
    "start_time": "2022-05-28T22:24:54.462Z"
   },
   {
    "duration": 7,
    "start_time": "2022-05-28T22:24:54.473Z"
   },
   {
    "duration": 7,
    "start_time": "2022-05-28T22:24:54.481Z"
   },
   {
    "duration": 5,
    "start_time": "2022-05-28T22:24:54.489Z"
   },
   {
    "duration": 5,
    "start_time": "2022-05-28T22:24:54.495Z"
   },
   {
    "duration": 6,
    "start_time": "2022-05-28T22:24:54.501Z"
   },
   {
    "duration": 5,
    "start_time": "2022-05-28T22:24:54.508Z"
   },
   {
    "duration": 2,
    "start_time": "2022-05-28T22:24:54.530Z"
   },
   {
    "duration": 3,
    "start_time": "2022-05-28T22:24:54.534Z"
   },
   {
    "duration": 3,
    "start_time": "2022-05-28T22:24:54.538Z"
   },
   {
    "duration": 8,
    "start_time": "2022-05-28T22:24:54.542Z"
   },
   {
    "duration": 5,
    "start_time": "2022-05-28T22:27:10.498Z"
   },
   {
    "duration": 65,
    "start_time": "2022-05-28T22:28:20.759Z"
   },
   {
    "duration": 16,
    "start_time": "2022-05-28T22:29:19.349Z"
   },
   {
    "duration": 7,
    "start_time": "2022-05-28T22:29:49.360Z"
   },
   {
    "duration": 20,
    "start_time": "2022-05-28T22:29:59.723Z"
   },
   {
    "duration": 17,
    "start_time": "2022-05-28T22:30:13.441Z"
   },
   {
    "duration": 8,
    "start_time": "2022-05-28T22:30:56.774Z"
   },
   {
    "duration": 7,
    "start_time": "2022-05-28T22:31:55.003Z"
   },
   {
    "duration": 6,
    "start_time": "2022-05-28T22:34:18.184Z"
   },
   {
    "duration": 6,
    "start_time": "2022-05-28T22:34:48.253Z"
   },
   {
    "duration": 483,
    "start_time": "2022-05-28T22:34:58.962Z"
   },
   {
    "duration": 41,
    "start_time": "2022-05-28T22:34:59.447Z"
   },
   {
    "duration": 24,
    "start_time": "2022-05-28T22:34:59.490Z"
   },
   {
    "duration": 23,
    "start_time": "2022-05-28T22:34:59.531Z"
   },
   {
    "duration": 29,
    "start_time": "2022-05-28T22:34:59.557Z"
   },
   {
    "duration": 39,
    "start_time": "2022-05-28T22:34:59.588Z"
   },
   {
    "duration": 23,
    "start_time": "2022-05-28T22:34:59.631Z"
   },
   {
    "duration": 41,
    "start_time": "2022-05-28T22:34:59.656Z"
   },
   {
    "duration": 22,
    "start_time": "2022-05-28T22:34:59.699Z"
   },
   {
    "duration": 51,
    "start_time": "2022-05-28T22:34:59.723Z"
   },
   {
    "duration": 50,
    "start_time": "2022-05-28T22:34:59.776Z"
   },
   {
    "duration": 2,
    "start_time": "2022-05-28T22:34:59.832Z"
   },
   {
    "duration": 39,
    "start_time": "2022-05-28T22:34:59.842Z"
   },
   {
    "duration": 6,
    "start_time": "2022-05-28T22:34:59.884Z"
   },
   {
    "duration": 13,
    "start_time": "2022-05-28T22:34:59.892Z"
   },
   {
    "duration": 11,
    "start_time": "2022-05-28T22:34:59.906Z"
   },
   {
    "duration": 18,
    "start_time": "2022-05-28T22:34:59.919Z"
   },
   {
    "duration": 38,
    "start_time": "2022-05-28T22:34:59.940Z"
   },
   {
    "duration": 13,
    "start_time": "2022-05-28T22:34:59.980Z"
   },
   {
    "duration": 12,
    "start_time": "2022-05-28T22:34:59.994Z"
   },
   {
    "duration": 15,
    "start_time": "2022-05-28T22:35:00.008Z"
   },
   {
    "duration": 12,
    "start_time": "2022-05-28T22:35:00.025Z"
   },
   {
    "duration": 46,
    "start_time": "2022-05-28T22:35:00.042Z"
   },
   {
    "duration": 12,
    "start_time": "2022-05-28T22:35:00.089Z"
   },
   {
    "duration": 5,
    "start_time": "2022-05-28T22:35:00.102Z"
   },
   {
    "duration": 25,
    "start_time": "2022-05-28T22:35:00.108Z"
   },
   {
    "duration": 35,
    "start_time": "2022-05-28T22:35:00.135Z"
   },
   {
    "duration": 40,
    "start_time": "2022-05-28T22:35:00.172Z"
   },
   {
    "duration": 35,
    "start_time": "2022-05-28T22:35:00.215Z"
   },
   {
    "duration": 23,
    "start_time": "2022-05-28T22:35:00.252Z"
   },
   {
    "duration": 33,
    "start_time": "2022-05-28T22:35:00.277Z"
   },
   {
    "duration": 12,
    "start_time": "2022-05-28T22:35:00.312Z"
   },
   {
    "duration": 53,
    "start_time": "2022-05-28T22:35:00.326Z"
   },
   {
    "duration": 20,
    "start_time": "2022-05-28T22:35:00.381Z"
   },
   {
    "duration": 32,
    "start_time": "2022-05-28T22:35:00.403Z"
   },
   {
    "duration": 20,
    "start_time": "2022-05-28T22:35:00.436Z"
   },
   {
    "duration": 33,
    "start_time": "2022-05-28T22:35:00.458Z"
   },
   {
    "duration": 21,
    "start_time": "2022-05-28T22:35:00.493Z"
   },
   {
    "duration": 32,
    "start_time": "2022-05-28T22:35:00.516Z"
   },
   {
    "duration": 18,
    "start_time": "2022-05-28T22:35:00.549Z"
   },
   {
    "duration": 28,
    "start_time": "2022-05-28T22:35:00.574Z"
   },
   {
    "duration": 40,
    "start_time": "2022-05-28T22:35:00.604Z"
   },
   {
    "duration": 6,
    "start_time": "2022-05-28T22:35:00.646Z"
   },
   {
    "duration": 42,
    "start_time": "2022-05-28T22:35:00.654Z"
   },
   {
    "duration": 15,
    "start_time": "2022-05-28T22:35:00.697Z"
   },
   {
    "duration": 5,
    "start_time": "2022-05-28T22:35:00.715Z"
   },
   {
    "duration": 35,
    "start_time": "2022-05-28T22:35:00.721Z"
   },
   {
    "duration": 45,
    "start_time": "2022-05-28T22:35:00.758Z"
   },
   {
    "duration": 90,
    "start_time": "2022-05-28T22:35:00.805Z"
   },
   {
    "duration": 67,
    "start_time": "2022-05-28T22:35:00.897Z"
   },
   {
    "duration": 2,
    "start_time": "2022-05-28T22:35:00.966Z"
   },
   {
    "duration": 16,
    "start_time": "2022-05-28T22:35:00.970Z"
   },
   {
    "duration": 17,
    "start_time": "2022-05-28T22:35:00.988Z"
   },
   {
    "duration": 15,
    "start_time": "2022-05-28T22:35:01.007Z"
   },
   {
    "duration": 61,
    "start_time": "2022-05-28T22:35:01.026Z"
   },
   {
    "duration": 11,
    "start_time": "2022-05-28T22:35:01.088Z"
   },
   {
    "duration": 18,
    "start_time": "2022-05-28T22:35:01.100Z"
   },
   {
    "duration": 22,
    "start_time": "2022-05-28T22:35:01.120Z"
   },
   {
    "duration": 27,
    "start_time": "2022-05-28T22:35:01.143Z"
   },
   {
    "duration": 12,
    "start_time": "2022-05-28T22:35:01.173Z"
   },
   {
    "duration": 19,
    "start_time": "2022-05-28T22:35:01.187Z"
   },
   {
    "duration": 12,
    "start_time": "2022-05-28T22:35:01.208Z"
   },
   {
    "duration": 25,
    "start_time": "2022-05-28T22:35:01.222Z"
   },
   {
    "duration": 22,
    "start_time": "2022-05-28T22:35:01.249Z"
   },
   {
    "duration": 18,
    "start_time": "2022-05-28T22:35:01.273Z"
   },
   {
    "duration": 21,
    "start_time": "2022-05-28T22:35:01.293Z"
   },
   {
    "duration": 38,
    "start_time": "2022-05-28T22:35:01.316Z"
   },
   {
    "duration": 25,
    "start_time": "2022-05-28T22:35:01.356Z"
   },
   {
    "duration": 18,
    "start_time": "2022-05-28T22:35:01.383Z"
   },
   {
    "duration": 17,
    "start_time": "2022-05-28T22:35:01.403Z"
   },
   {
    "duration": 69,
    "start_time": "2022-05-28T22:35:01.422Z"
   },
   {
    "duration": 10,
    "start_time": "2022-05-28T22:35:01.493Z"
   },
   {
    "duration": 33,
    "start_time": "2022-05-28T22:35:01.505Z"
   },
   {
    "duration": 44,
    "start_time": "2022-05-28T22:35:01.540Z"
   },
   {
    "duration": 91,
    "start_time": "2022-05-28T22:35:01.586Z"
   },
   {
    "duration": 31,
    "start_time": "2022-05-28T22:35:01.679Z"
   },
   {
    "duration": 70,
    "start_time": "2022-05-28T22:35:01.712Z"
   },
   {
    "duration": 150,
    "start_time": "2022-05-28T22:35:01.784Z"
   },
   {
    "duration": 40,
    "start_time": "2022-05-28T22:35:01.936Z"
   },
   {
    "duration": 41,
    "start_time": "2022-05-28T22:35:01.979Z"
   },
   {
    "duration": 30,
    "start_time": "2022-05-28T22:35:02.022Z"
   },
   {
    "duration": 37,
    "start_time": "2022-05-28T22:35:02.054Z"
   },
   {
    "duration": 26,
    "start_time": "2022-05-28T22:35:02.093Z"
   },
   {
    "duration": 21,
    "start_time": "2022-05-28T22:35:02.121Z"
   },
   {
    "duration": 14,
    "start_time": "2022-05-28T22:35:02.144Z"
   },
   {
    "duration": 19,
    "start_time": "2022-05-28T22:35:02.160Z"
   },
   {
    "duration": 28,
    "start_time": "2022-05-28T22:35:02.181Z"
   },
   {
    "duration": 91,
    "start_time": "2022-05-28T22:35:02.210Z"
   },
   {
    "duration": 71,
    "start_time": "2022-05-28T22:35:02.303Z"
   },
   {
    "duration": 4,
    "start_time": "2022-05-28T22:35:02.376Z"
   },
   {
    "duration": 29,
    "start_time": "2022-05-28T22:35:02.382Z"
   },
   {
    "duration": 98,
    "start_time": "2022-05-28T22:35:02.413Z"
   },
   {
    "duration": 0,
    "start_time": "2022-05-28T22:35:02.513Z"
   },
   {
    "duration": 0,
    "start_time": "2022-05-28T22:35:02.514Z"
   },
   {
    "duration": 0,
    "start_time": "2022-05-28T22:35:02.516Z"
   },
   {
    "duration": 0,
    "start_time": "2022-05-28T22:35:02.518Z"
   },
   {
    "duration": 0,
    "start_time": "2022-05-28T22:35:02.519Z"
   },
   {
    "duration": 0,
    "start_time": "2022-05-28T22:35:02.521Z"
   },
   {
    "duration": 0,
    "start_time": "2022-05-28T22:35:02.522Z"
   },
   {
    "duration": 0,
    "start_time": "2022-05-28T22:35:02.523Z"
   },
   {
    "duration": 0,
    "start_time": "2022-05-28T22:35:02.524Z"
   },
   {
    "duration": 0,
    "start_time": "2022-05-28T22:35:02.525Z"
   },
   {
    "duration": 0,
    "start_time": "2022-05-28T22:35:02.527Z"
   },
   {
    "duration": 0,
    "start_time": "2022-05-28T22:35:02.527Z"
   },
   {
    "duration": 448,
    "start_time": "2022-05-28T23:36:43.658Z"
   },
   {
    "duration": 41,
    "start_time": "2022-05-28T23:36:44.108Z"
   },
   {
    "duration": 12,
    "start_time": "2022-05-28T23:36:44.151Z"
   },
   {
    "duration": 27,
    "start_time": "2022-05-28T23:36:44.165Z"
   },
   {
    "duration": 12,
    "start_time": "2022-05-28T23:36:44.193Z"
   },
   {
    "duration": 24,
    "start_time": "2022-05-28T23:36:44.206Z"
   },
   {
    "duration": 20,
    "start_time": "2022-05-28T23:36:44.231Z"
   },
   {
    "duration": 35,
    "start_time": "2022-05-28T23:36:44.252Z"
   },
   {
    "duration": 17,
    "start_time": "2022-05-28T23:36:44.288Z"
   },
   {
    "duration": 30,
    "start_time": "2022-05-28T23:36:44.307Z"
   },
   {
    "duration": 27,
    "start_time": "2022-05-28T23:36:44.338Z"
   },
   {
    "duration": 12,
    "start_time": "2022-05-28T23:36:44.366Z"
   },
   {
    "duration": 32,
    "start_time": "2022-05-28T23:36:44.379Z"
   },
   {
    "duration": 6,
    "start_time": "2022-05-28T23:36:44.412Z"
   },
   {
    "duration": 20,
    "start_time": "2022-05-28T23:36:44.419Z"
   },
   {
    "duration": 16,
    "start_time": "2022-05-28T23:36:44.441Z"
   },
   {
    "duration": 37,
    "start_time": "2022-05-28T23:36:44.458Z"
   },
   {
    "duration": 21,
    "start_time": "2022-05-28T23:36:44.497Z"
   },
   {
    "duration": 23,
    "start_time": "2022-05-28T23:36:44.519Z"
   },
   {
    "duration": 24,
    "start_time": "2022-05-28T23:36:44.543Z"
   },
   {
    "duration": 22,
    "start_time": "2022-05-28T23:36:44.568Z"
   },
   {
    "duration": 7,
    "start_time": "2022-05-28T23:36:44.591Z"
   },
   {
    "duration": 7,
    "start_time": "2022-05-28T23:36:44.599Z"
   },
   {
    "duration": 11,
    "start_time": "2022-05-28T23:36:44.607Z"
   },
   {
    "duration": 3,
    "start_time": "2022-05-28T23:36:44.619Z"
   },
   {
    "duration": 10,
    "start_time": "2022-05-28T23:36:44.624Z"
   },
   {
    "duration": 7,
    "start_time": "2022-05-28T23:36:44.636Z"
   },
   {
    "duration": 5,
    "start_time": "2022-05-28T23:36:44.646Z"
   },
   {
    "duration": 10,
    "start_time": "2022-05-28T23:36:44.652Z"
   },
   {
    "duration": 4,
    "start_time": "2022-05-28T23:36:44.664Z"
   },
   {
    "duration": 4,
    "start_time": "2022-05-28T23:36:44.670Z"
   },
   {
    "duration": 5,
    "start_time": "2022-05-28T23:36:44.676Z"
   },
   {
    "duration": 7,
    "start_time": "2022-05-28T23:36:44.682Z"
   },
   {
    "duration": 7,
    "start_time": "2022-05-28T23:36:44.690Z"
   },
   {
    "duration": 32,
    "start_time": "2022-05-28T23:36:44.698Z"
   },
   {
    "duration": 4,
    "start_time": "2022-05-28T23:36:44.732Z"
   },
   {
    "duration": 5,
    "start_time": "2022-05-28T23:36:44.738Z"
   },
   {
    "duration": 8,
    "start_time": "2022-05-28T23:36:44.745Z"
   },
   {
    "duration": 5,
    "start_time": "2022-05-28T23:36:44.754Z"
   },
   {
    "duration": 8,
    "start_time": "2022-05-28T23:36:44.760Z"
   },
   {
    "duration": 21,
    "start_time": "2022-05-28T23:36:44.769Z"
   },
   {
    "duration": 36,
    "start_time": "2022-05-28T23:36:44.791Z"
   },
   {
    "duration": 5,
    "start_time": "2022-05-28T23:36:44.828Z"
   },
   {
    "duration": 17,
    "start_time": "2022-05-28T23:36:44.834Z"
   },
   {
    "duration": 14,
    "start_time": "2022-05-28T23:36:44.852Z"
   },
   {
    "duration": 3,
    "start_time": "2022-05-28T23:36:44.867Z"
   },
   {
    "duration": 6,
    "start_time": "2022-05-28T23:36:44.872Z"
   },
   {
    "duration": 63,
    "start_time": "2022-05-28T23:36:44.879Z"
   },
   {
    "duration": 39,
    "start_time": "2022-05-28T23:36:44.943Z"
   },
   {
    "duration": 55,
    "start_time": "2022-05-28T23:36:44.983Z"
   },
   {
    "duration": 3,
    "start_time": "2022-05-28T23:36:45.040Z"
   },
   {
    "duration": 7,
    "start_time": "2022-05-28T23:36:45.044Z"
   },
   {
    "duration": 16,
    "start_time": "2022-05-28T23:36:45.053Z"
   },
   {
    "duration": 6,
    "start_time": "2022-05-28T23:36:45.071Z"
   },
   {
    "duration": 48,
    "start_time": "2022-05-28T23:36:45.078Z"
   },
   {
    "duration": 5,
    "start_time": "2022-05-28T23:36:45.128Z"
   },
   {
    "duration": 8,
    "start_time": "2022-05-28T23:36:45.135Z"
   },
   {
    "duration": 6,
    "start_time": "2022-05-28T23:36:45.144Z"
   },
   {
    "duration": 7,
    "start_time": "2022-05-28T23:36:45.151Z"
   },
   {
    "duration": 6,
    "start_time": "2022-05-28T23:36:45.159Z"
   },
   {
    "duration": 7,
    "start_time": "2022-05-28T23:36:45.166Z"
   },
   {
    "duration": 8,
    "start_time": "2022-05-28T23:36:45.174Z"
   },
   {
    "duration": 6,
    "start_time": "2022-05-28T23:36:45.183Z"
   },
   {
    "duration": 41,
    "start_time": "2022-05-28T23:36:45.190Z"
   },
   {
    "duration": 7,
    "start_time": "2022-05-28T23:36:45.232Z"
   },
   {
    "duration": 6,
    "start_time": "2022-05-28T23:36:45.240Z"
   },
   {
    "duration": 4,
    "start_time": "2022-05-28T23:36:45.247Z"
   },
   {
    "duration": 12,
    "start_time": "2022-05-28T23:36:45.253Z"
   },
   {
    "duration": 3,
    "start_time": "2022-05-28T23:36:45.267Z"
   },
   {
    "duration": 8,
    "start_time": "2022-05-28T23:36:45.271Z"
   },
   {
    "duration": 13,
    "start_time": "2022-05-28T23:36:45.281Z"
   },
   {
    "duration": 2,
    "start_time": "2022-05-28T23:36:45.327Z"
   },
   {
    "duration": 6,
    "start_time": "2022-05-28T23:36:45.331Z"
   },
   {
    "duration": 5,
    "start_time": "2022-05-28T23:36:45.338Z"
   },
   {
    "duration": 4,
    "start_time": "2022-05-28T23:36:45.344Z"
   },
   {
    "duration": 9,
    "start_time": "2022-05-28T23:36:45.349Z"
   },
   {
    "duration": 6,
    "start_time": "2022-05-28T23:36:45.359Z"
   },
   {
    "duration": 8,
    "start_time": "2022-05-28T23:36:45.366Z"
   },
   {
    "duration": 9,
    "start_time": "2022-05-28T23:36:45.376Z"
   },
   {
    "duration": 6,
    "start_time": "2022-05-28T23:36:45.386Z"
   },
   {
    "duration": 34,
    "start_time": "2022-05-28T23:36:45.393Z"
   },
   {
    "duration": 7,
    "start_time": "2022-05-28T23:36:45.432Z"
   },
   {
    "duration": 9,
    "start_time": "2022-05-28T23:36:45.441Z"
   },
   {
    "duration": 2,
    "start_time": "2022-05-28T23:36:45.451Z"
   },
   {
    "duration": 6,
    "start_time": "2022-05-28T23:36:45.455Z"
   },
   {
    "duration": 4,
    "start_time": "2022-05-28T23:36:45.462Z"
   },
   {
    "duration": 14,
    "start_time": "2022-05-28T23:36:45.468Z"
   },
   {
    "duration": 4,
    "start_time": "2022-05-28T23:36:45.483Z"
   },
   {
    "duration": 7,
    "start_time": "2022-05-28T23:36:45.488Z"
   },
   {
    "duration": 29,
    "start_time": "2022-05-28T23:36:45.497Z"
   },
   {
    "duration": 13,
    "start_time": "2022-05-28T23:36:45.528Z"
   },
   {
    "duration": 69,
    "start_time": "2022-05-28T23:36:45.543Z"
   },
   {
    "duration": 0,
    "start_time": "2022-05-28T23:36:45.626Z"
   },
   {
    "duration": 0,
    "start_time": "2022-05-28T23:36:45.628Z"
   },
   {
    "duration": 0,
    "start_time": "2022-05-28T23:36:45.629Z"
   },
   {
    "duration": 0,
    "start_time": "2022-05-28T23:36:45.630Z"
   },
   {
    "duration": 0,
    "start_time": "2022-05-28T23:36:45.631Z"
   },
   {
    "duration": 0,
    "start_time": "2022-05-28T23:36:45.632Z"
   },
   {
    "duration": 0,
    "start_time": "2022-05-28T23:36:45.633Z"
   },
   {
    "duration": 0,
    "start_time": "2022-05-28T23:36:45.634Z"
   },
   {
    "duration": 0,
    "start_time": "2022-05-28T23:36:45.636Z"
   },
   {
    "duration": 0,
    "start_time": "2022-05-28T23:36:45.637Z"
   },
   {
    "duration": 0,
    "start_time": "2022-05-28T23:36:45.638Z"
   },
   {
    "duration": 0,
    "start_time": "2022-05-28T23:36:45.640Z"
   },
   {
    "duration": 7,
    "start_time": "2022-05-28T23:37:41.008Z"
   },
   {
    "duration": 7,
    "start_time": "2022-05-28T23:38:59.432Z"
   },
   {
    "duration": 40,
    "start_time": "2022-05-28T23:39:39.117Z"
   },
   {
    "duration": 45,
    "start_time": "2022-05-28T23:39:45.012Z"
   },
   {
    "duration": 7,
    "start_time": "2022-05-28T23:39:53.363Z"
   },
   {
    "duration": 4,
    "start_time": "2022-05-28T23:40:46.050Z"
   },
   {
    "duration": 5,
    "start_time": "2022-05-28T23:40:50.749Z"
   },
   {
    "duration": 5,
    "start_time": "2022-05-28T23:41:30.001Z"
   },
   {
    "duration": 7,
    "start_time": "2022-05-28T23:42:18.163Z"
   },
   {
    "duration": 8,
    "start_time": "2022-05-28T23:42:32.592Z"
   },
   {
    "duration": 10,
    "start_time": "2022-05-28T23:42:52.979Z"
   },
   {
    "duration": 8,
    "start_time": "2022-05-28T23:43:35.455Z"
   },
   {
    "duration": 671,
    "start_time": "2022-05-29T12:54:20.867Z"
   },
   {
    "duration": 37,
    "start_time": "2022-05-29T12:54:21.540Z"
   },
   {
    "duration": 12,
    "start_time": "2022-05-29T12:54:21.579Z"
   },
   {
    "duration": 30,
    "start_time": "2022-05-29T12:54:21.593Z"
   },
   {
    "duration": 4,
    "start_time": "2022-05-29T12:54:21.625Z"
   },
   {
    "duration": 10,
    "start_time": "2022-05-29T12:54:21.631Z"
   },
   {
    "duration": 22,
    "start_time": "2022-05-29T12:54:21.659Z"
   },
   {
    "duration": 27,
    "start_time": "2022-05-29T12:54:21.683Z"
   },
   {
    "duration": 12,
    "start_time": "2022-05-29T12:54:21.712Z"
   },
   {
    "duration": 20,
    "start_time": "2022-05-29T12:54:21.727Z"
   },
   {
    "duration": 25,
    "start_time": "2022-05-29T12:54:21.748Z"
   },
   {
    "duration": 4,
    "start_time": "2022-05-29T12:54:21.775Z"
   },
   {
    "duration": 23,
    "start_time": "2022-05-29T12:54:21.780Z"
   },
   {
    "duration": 5,
    "start_time": "2022-05-29T12:54:21.804Z"
   },
   {
    "duration": 7,
    "start_time": "2022-05-29T12:54:21.811Z"
   },
   {
    "duration": 12,
    "start_time": "2022-05-29T12:54:21.820Z"
   },
   {
    "duration": 10,
    "start_time": "2022-05-29T12:54:21.833Z"
   },
   {
    "duration": 21,
    "start_time": "2022-05-29T12:54:21.844Z"
   },
   {
    "duration": 8,
    "start_time": "2022-05-29T12:54:21.866Z"
   },
   {
    "duration": 8,
    "start_time": "2022-05-29T12:54:21.876Z"
   },
   {
    "duration": 10,
    "start_time": "2022-05-29T12:54:21.886Z"
   },
   {
    "duration": 7,
    "start_time": "2022-05-29T12:54:21.897Z"
   },
   {
    "duration": 7,
    "start_time": "2022-05-29T12:54:21.905Z"
   },
   {
    "duration": 13,
    "start_time": "2022-05-29T12:54:21.913Z"
   },
   {
    "duration": 2,
    "start_time": "2022-05-29T12:54:21.928Z"
   },
   {
    "duration": 6,
    "start_time": "2022-05-29T12:54:21.959Z"
   },
   {
    "duration": 10,
    "start_time": "2022-05-29T12:54:21.966Z"
   },
   {
    "duration": 6,
    "start_time": "2022-05-29T12:54:21.980Z"
   },
   {
    "duration": 9,
    "start_time": "2022-05-29T12:54:21.987Z"
   },
   {
    "duration": 4,
    "start_time": "2022-05-29T12:54:21.998Z"
   },
   {
    "duration": 9,
    "start_time": "2022-05-29T12:54:22.004Z"
   },
   {
    "duration": 9,
    "start_time": "2022-05-29T12:54:22.014Z"
   },
   {
    "duration": 4,
    "start_time": "2022-05-29T12:54:22.024Z"
   },
   {
    "duration": 2,
    "start_time": "2022-05-29T12:54:22.059Z"
   },
   {
    "duration": 10,
    "start_time": "2022-05-29T12:54:22.062Z"
   },
   {
    "duration": 4,
    "start_time": "2022-05-29T12:54:22.073Z"
   },
   {
    "duration": 8,
    "start_time": "2022-05-29T12:54:22.078Z"
   },
   {
    "duration": 10,
    "start_time": "2022-05-29T12:54:22.087Z"
   },
   {
    "duration": 5,
    "start_time": "2022-05-29T12:54:22.098Z"
   },
   {
    "duration": 7,
    "start_time": "2022-05-29T12:54:22.104Z"
   },
   {
    "duration": 15,
    "start_time": "2022-05-29T12:54:22.113Z"
   },
   {
    "duration": 51,
    "start_time": "2022-05-29T12:54:22.130Z"
   },
   {
    "duration": 6,
    "start_time": "2022-05-29T12:54:22.182Z"
   },
   {
    "duration": 22,
    "start_time": "2022-05-29T12:54:22.189Z"
   },
   {
    "duration": 16,
    "start_time": "2022-05-29T12:54:22.213Z"
   },
   {
    "duration": 3,
    "start_time": "2022-05-29T12:54:22.230Z"
   },
   {
    "duration": 26,
    "start_time": "2022-05-29T12:54:22.234Z"
   },
   {
    "duration": 55,
    "start_time": "2022-05-29T12:54:22.262Z"
   },
   {
    "duration": 59,
    "start_time": "2022-05-29T12:54:22.318Z"
   },
   {
    "duration": 48,
    "start_time": "2022-05-29T12:54:22.379Z"
   },
   {
    "duration": 3,
    "start_time": "2022-05-29T12:54:22.428Z"
   },
   {
    "duration": 8,
    "start_time": "2022-05-29T12:54:22.432Z"
   },
   {
    "duration": 26,
    "start_time": "2022-05-29T12:54:22.441Z"
   },
   {
    "duration": 5,
    "start_time": "2022-05-29T12:54:22.469Z"
   },
   {
    "duration": 34,
    "start_time": "2022-05-29T12:54:22.476Z"
   },
   {
    "duration": 6,
    "start_time": "2022-05-29T12:54:22.511Z"
   },
   {
    "duration": 7,
    "start_time": "2022-05-29T12:54:22.518Z"
   },
   {
    "duration": 34,
    "start_time": "2022-05-29T12:54:22.526Z"
   },
   {
    "duration": 7,
    "start_time": "2022-05-29T12:54:22.562Z"
   },
   {
    "duration": 6,
    "start_time": "2022-05-29T12:54:22.571Z"
   },
   {
    "duration": 11,
    "start_time": "2022-05-29T12:54:22.578Z"
   },
   {
    "duration": 7,
    "start_time": "2022-05-29T12:54:22.591Z"
   },
   {
    "duration": 8,
    "start_time": "2022-05-29T12:54:22.599Z"
   },
   {
    "duration": 7,
    "start_time": "2022-05-29T12:54:22.608Z"
   },
   {
    "duration": 13,
    "start_time": "2022-05-29T12:54:22.617Z"
   },
   {
    "duration": 6,
    "start_time": "2022-05-29T12:54:22.660Z"
   },
   {
    "duration": 13,
    "start_time": "2022-05-29T12:54:22.667Z"
   },
   {
    "duration": 14,
    "start_time": "2022-05-29T12:54:22.681Z"
   },
   {
    "duration": 3,
    "start_time": "2022-05-29T12:54:22.697Z"
   },
   {
    "duration": 9,
    "start_time": "2022-05-29T12:54:22.702Z"
   },
   {
    "duration": 13,
    "start_time": "2022-05-29T12:54:22.712Z"
   },
   {
    "duration": 2,
    "start_time": "2022-05-29T12:54:22.727Z"
   },
   {
    "duration": 28,
    "start_time": "2022-05-29T12:54:22.731Z"
   },
   {
    "duration": 2,
    "start_time": "2022-05-29T12:54:22.760Z"
   },
   {
    "duration": 8,
    "start_time": "2022-05-29T12:54:22.764Z"
   },
   {
    "duration": 17,
    "start_time": "2022-05-29T12:54:22.774Z"
   },
   {
    "duration": 6,
    "start_time": "2022-05-29T12:54:22.793Z"
   },
   {
    "duration": 7,
    "start_time": "2022-05-29T12:54:22.801Z"
   },
   {
    "duration": 7,
    "start_time": "2022-05-29T12:54:22.810Z"
   },
   {
    "duration": 7,
    "start_time": "2022-05-29T12:54:22.819Z"
   },
   {
    "duration": 5,
    "start_time": "2022-05-29T12:54:22.827Z"
   },
   {
    "duration": 7,
    "start_time": "2022-05-29T12:54:22.859Z"
   },
   {
    "duration": 7,
    "start_time": "2022-05-29T12:54:22.868Z"
   },
   {
    "duration": 2,
    "start_time": "2022-05-29T12:54:22.876Z"
   },
   {
    "duration": 4,
    "start_time": "2022-05-29T12:54:22.880Z"
   },
   {
    "duration": 6,
    "start_time": "2022-05-29T12:54:22.885Z"
   },
   {
    "duration": 13,
    "start_time": "2022-05-29T12:54:22.892Z"
   },
   {
    "duration": 3,
    "start_time": "2022-05-29T12:54:22.907Z"
   },
   {
    "duration": 8,
    "start_time": "2022-05-29T12:54:22.912Z"
   },
   {
    "duration": 2,
    "start_time": "2022-05-29T12:54:22.921Z"
   },
   {
    "duration": 17,
    "start_time": "2022-05-29T12:54:22.960Z"
   },
   {
    "duration": 9,
    "start_time": "2022-05-29T12:54:22.979Z"
   },
   {
    "duration": 10,
    "start_time": "2022-05-29T12:54:22.989Z"
   },
   {
    "duration": 3,
    "start_time": "2022-05-29T12:54:23.001Z"
   },
   {
    "duration": 0,
    "start_time": "2022-05-29T12:54:23.005Z"
   },
   {
    "duration": 0,
    "start_time": "2022-05-29T12:54:23.007Z"
   },
   {
    "duration": 0,
    "start_time": "2022-05-29T12:54:23.008Z"
   },
   {
    "duration": 0,
    "start_time": "2022-05-29T12:54:23.009Z"
   },
   {
    "duration": 0,
    "start_time": "2022-05-29T12:54:23.010Z"
   },
   {
    "duration": 0,
    "start_time": "2022-05-29T12:54:23.012Z"
   },
   {
    "duration": 0,
    "start_time": "2022-05-29T12:54:23.012Z"
   },
   {
    "duration": 0,
    "start_time": "2022-05-29T12:54:23.014Z"
   },
   {
    "duration": 0,
    "start_time": "2022-05-29T12:54:23.059Z"
   },
   {
    "duration": 0,
    "start_time": "2022-05-29T12:54:23.060Z"
   },
   {
    "duration": 336,
    "start_time": "2022-05-29T12:56:39.812Z"
   },
   {
    "duration": 10,
    "start_time": "2022-05-29T12:57:11.768Z"
   },
   {
    "duration": 9,
    "start_time": "2022-05-29T13:08:08.818Z"
   },
   {
    "duration": 13,
    "start_time": "2022-05-29T13:08:29.448Z"
   },
   {
    "duration": 12,
    "start_time": "2022-05-29T13:08:37.748Z"
   },
   {
    "duration": 26,
    "start_time": "2022-05-29T13:16:58.898Z"
   },
   {
    "duration": 27,
    "start_time": "2022-05-29T13:17:14.354Z"
   },
   {
    "duration": 36,
    "start_time": "2022-05-29T13:17:21.813Z"
   },
   {
    "duration": 16,
    "start_time": "2022-05-29T13:17:29.258Z"
   },
   {
    "duration": 11,
    "start_time": "2022-05-29T13:58:52.278Z"
   },
   {
    "duration": 9,
    "start_time": "2022-05-29T13:58:58.815Z"
   },
   {
    "duration": 5,
    "start_time": "2022-05-29T14:01:59.986Z"
   },
   {
    "duration": 9,
    "start_time": "2022-05-29T14:02:13.825Z"
   },
   {
    "duration": 9,
    "start_time": "2022-05-29T14:02:17.164Z"
   },
   {
    "duration": 13,
    "start_time": "2022-05-29T14:02:51.986Z"
   },
   {
    "duration": 10,
    "start_time": "2022-05-29T14:03:04.924Z"
   },
   {
    "duration": 30,
    "start_time": "2022-05-29T14:04:14.882Z"
   },
   {
    "duration": 10,
    "start_time": "2022-05-29T14:04:26.081Z"
   },
   {
    "duration": 7,
    "start_time": "2022-05-29T14:04:38.800Z"
   },
   {
    "duration": 16,
    "start_time": "2022-05-29T14:04:51.958Z"
   },
   {
    "duration": 8,
    "start_time": "2022-05-29T14:05:36.428Z"
   },
   {
    "duration": 639,
    "start_time": "2022-05-29T17:27:10.874Z"
   },
   {
    "duration": 40,
    "start_time": "2022-05-29T17:27:11.515Z"
   },
   {
    "duration": 14,
    "start_time": "2022-05-29T17:27:11.557Z"
   },
   {
    "duration": 24,
    "start_time": "2022-05-29T17:27:11.574Z"
   },
   {
    "duration": 24,
    "start_time": "2022-05-29T17:27:11.599Z"
   },
   {
    "duration": 17,
    "start_time": "2022-05-29T17:27:11.625Z"
   },
   {
    "duration": 17,
    "start_time": "2022-05-29T17:27:11.644Z"
   },
   {
    "duration": 35,
    "start_time": "2022-05-29T17:27:11.662Z"
   },
   {
    "duration": 22,
    "start_time": "2022-05-29T17:27:11.699Z"
   },
   {
    "duration": 22,
    "start_time": "2022-05-29T17:27:11.725Z"
   },
   {
    "duration": 25,
    "start_time": "2022-05-29T17:27:11.749Z"
   },
   {
    "duration": 2,
    "start_time": "2022-05-29T17:27:11.776Z"
   },
   {
    "duration": 48,
    "start_time": "2022-05-29T17:27:11.780Z"
   },
   {
    "duration": 6,
    "start_time": "2022-05-29T17:27:11.830Z"
   },
   {
    "duration": 7,
    "start_time": "2022-05-29T17:27:11.837Z"
   },
   {
    "duration": 12,
    "start_time": "2022-05-29T17:27:11.846Z"
   },
   {
    "duration": 27,
    "start_time": "2022-05-29T17:27:11.860Z"
   },
   {
    "duration": 20,
    "start_time": "2022-05-29T17:27:11.889Z"
   },
   {
    "duration": 29,
    "start_time": "2022-05-29T17:27:11.910Z"
   },
   {
    "duration": 7,
    "start_time": "2022-05-29T17:27:11.940Z"
   },
   {
    "duration": 11,
    "start_time": "2022-05-29T17:27:11.949Z"
   },
   {
    "duration": 5,
    "start_time": "2022-05-29T17:27:11.962Z"
   },
   {
    "duration": 11,
    "start_time": "2022-05-29T17:27:11.969Z"
   },
   {
    "duration": 12,
    "start_time": "2022-05-29T17:27:11.981Z"
   },
   {
    "duration": 3,
    "start_time": "2022-05-29T17:27:11.995Z"
   },
   {
    "duration": 10,
    "start_time": "2022-05-29T17:27:11.999Z"
   },
   {
    "duration": 7,
    "start_time": "2022-05-29T17:27:12.010Z"
   },
   {
    "duration": 5,
    "start_time": "2022-05-29T17:27:12.021Z"
   },
   {
    "duration": 35,
    "start_time": "2022-05-29T17:27:12.027Z"
   },
   {
    "duration": 5,
    "start_time": "2022-05-29T17:27:12.064Z"
   },
   {
    "duration": 7,
    "start_time": "2022-05-29T17:27:12.070Z"
   },
   {
    "duration": 6,
    "start_time": "2022-05-29T17:27:12.079Z"
   },
   {
    "duration": 5,
    "start_time": "2022-05-29T17:27:12.087Z"
   },
   {
    "duration": 5,
    "start_time": "2022-05-29T17:27:12.093Z"
   },
   {
    "duration": 8,
    "start_time": "2022-05-29T17:27:12.100Z"
   },
   {
    "duration": 5,
    "start_time": "2022-05-29T17:27:12.110Z"
   },
   {
    "duration": 9,
    "start_time": "2022-05-29T17:27:12.117Z"
   },
   {
    "duration": 39,
    "start_time": "2022-05-29T17:27:12.128Z"
   },
   {
    "duration": 8,
    "start_time": "2022-05-29T17:27:12.169Z"
   },
   {
    "duration": 7,
    "start_time": "2022-05-29T17:27:12.178Z"
   },
   {
    "duration": 19,
    "start_time": "2022-05-29T17:27:12.186Z"
   },
   {
    "duration": 27,
    "start_time": "2022-05-29T17:27:12.206Z"
   },
   {
    "duration": 4,
    "start_time": "2022-05-29T17:27:12.234Z"
   },
   {
    "duration": 22,
    "start_time": "2022-05-29T17:27:12.259Z"
   },
   {
    "duration": 18,
    "start_time": "2022-05-29T17:27:12.283Z"
   },
   {
    "duration": 4,
    "start_time": "2022-05-29T17:27:12.302Z"
   },
   {
    "duration": 8,
    "start_time": "2022-05-29T17:27:12.307Z"
   },
   {
    "duration": 58,
    "start_time": "2022-05-29T17:27:12.316Z"
   },
   {
    "duration": 37,
    "start_time": "2022-05-29T17:27:12.376Z"
   },
   {
    "duration": 58,
    "start_time": "2022-05-29T17:27:12.414Z"
   },
   {
    "duration": 3,
    "start_time": "2022-05-29T17:27:12.474Z"
   },
   {
    "duration": 8,
    "start_time": "2022-05-29T17:27:12.479Z"
   },
   {
    "duration": 19,
    "start_time": "2022-05-29T17:27:12.489Z"
   },
   {
    "duration": 11,
    "start_time": "2022-05-29T17:27:12.510Z"
   },
   {
    "duration": 40,
    "start_time": "2022-05-29T17:27:12.522Z"
   },
   {
    "duration": 5,
    "start_time": "2022-05-29T17:27:12.564Z"
   },
   {
    "duration": 7,
    "start_time": "2022-05-29T17:27:12.571Z"
   },
   {
    "duration": 5,
    "start_time": "2022-05-29T17:27:12.580Z"
   },
   {
    "duration": 8,
    "start_time": "2022-05-29T17:27:12.587Z"
   },
   {
    "duration": 6,
    "start_time": "2022-05-29T17:27:12.596Z"
   },
   {
    "duration": 9,
    "start_time": "2022-05-29T17:27:12.603Z"
   },
   {
    "duration": 46,
    "start_time": "2022-05-29T17:27:12.614Z"
   },
   {
    "duration": 7,
    "start_time": "2022-05-29T17:27:12.661Z"
   },
   {
    "duration": 8,
    "start_time": "2022-05-29T17:27:12.670Z"
   },
   {
    "duration": 9,
    "start_time": "2022-05-29T17:27:12.680Z"
   },
   {
    "duration": 7,
    "start_time": "2022-05-29T17:27:12.691Z"
   },
   {
    "duration": 11,
    "start_time": "2022-05-29T17:27:12.700Z"
   },
   {
    "duration": 16,
    "start_time": "2022-05-29T17:27:12.712Z"
   },
   {
    "duration": 30,
    "start_time": "2022-05-29T17:27:12.730Z"
   },
   {
    "duration": 13,
    "start_time": "2022-05-29T17:27:12.761Z"
   },
   {
    "duration": 13,
    "start_time": "2022-05-29T17:27:12.776Z"
   },
   {
    "duration": 3,
    "start_time": "2022-05-29T17:27:12.791Z"
   },
   {
    "duration": 5,
    "start_time": "2022-05-29T17:27:12.796Z"
   },
   {
    "duration": 4,
    "start_time": "2022-05-29T17:27:12.803Z"
   },
   {
    "duration": 5,
    "start_time": "2022-05-29T17:27:12.809Z"
   },
   {
    "duration": 9,
    "start_time": "2022-05-29T17:27:12.816Z"
   },
   {
    "duration": 32,
    "start_time": "2022-05-29T17:27:12.827Z"
   },
   {
    "duration": 6,
    "start_time": "2022-05-29T17:27:12.861Z"
   },
   {
    "duration": 9,
    "start_time": "2022-05-29T17:27:12.868Z"
   },
   {
    "duration": 5,
    "start_time": "2022-05-29T17:27:12.879Z"
   },
   {
    "duration": 7,
    "start_time": "2022-05-29T17:27:12.886Z"
   },
   {
    "duration": 7,
    "start_time": "2022-05-29T17:27:12.899Z"
   },
   {
    "duration": 6,
    "start_time": "2022-05-29T17:27:12.907Z"
   },
   {
    "duration": 45,
    "start_time": "2022-05-29T17:27:12.915Z"
   },
   {
    "duration": 3,
    "start_time": "2022-05-29T17:27:12.961Z"
   },
   {
    "duration": 8,
    "start_time": "2022-05-29T17:27:12.965Z"
   },
   {
    "duration": 13,
    "start_time": "2022-05-29T17:27:12.975Z"
   },
   {
    "duration": 3,
    "start_time": "2022-05-29T17:27:12.990Z"
   },
   {
    "duration": 8,
    "start_time": "2022-05-29T17:27:12.995Z"
   },
   {
    "duration": 2,
    "start_time": "2022-05-29T17:27:13.005Z"
   },
   {
    "duration": 18,
    "start_time": "2022-05-29T17:27:13.009Z"
   },
   {
    "duration": 39,
    "start_time": "2022-05-29T17:27:13.029Z"
   },
   {
    "duration": 90,
    "start_time": "2022-05-29T17:27:13.070Z"
   },
   {
    "duration": 0,
    "start_time": "2022-05-29T17:27:13.161Z"
   },
   {
    "duration": 0,
    "start_time": "2022-05-29T17:27:13.162Z"
   },
   {
    "duration": 0,
    "start_time": "2022-05-29T17:27:13.163Z"
   },
   {
    "duration": 0,
    "start_time": "2022-05-29T17:27:13.164Z"
   },
   {
    "duration": 0,
    "start_time": "2022-05-29T17:27:13.165Z"
   },
   {
    "duration": 0,
    "start_time": "2022-05-29T17:27:13.166Z"
   },
   {
    "duration": 0,
    "start_time": "2022-05-29T17:27:13.167Z"
   },
   {
    "duration": 0,
    "start_time": "2022-05-29T17:27:13.168Z"
   },
   {
    "duration": 0,
    "start_time": "2022-05-29T17:27:13.169Z"
   },
   {
    "duration": 0,
    "start_time": "2022-05-29T17:27:13.170Z"
   },
   {
    "duration": 0,
    "start_time": "2022-05-29T17:27:13.172Z"
   },
   {
    "duration": 14,
    "start_time": "2022-05-29T17:27:39.701Z"
   },
   {
    "duration": 14,
    "start_time": "2022-05-29T17:27:52.858Z"
   },
   {
    "duration": 12,
    "start_time": "2022-05-29T17:28:31.873Z"
   },
   {
    "duration": 10,
    "start_time": "2022-05-29T17:28:49.679Z"
   },
   {
    "duration": 5,
    "start_time": "2022-05-29T17:29:14.959Z"
   },
   {
    "duration": 7,
    "start_time": "2022-05-29T17:29:33.037Z"
   },
   {
    "duration": 13,
    "start_time": "2022-05-29T17:29:50.157Z"
   },
   {
    "duration": 11,
    "start_time": "2022-05-29T17:30:00.086Z"
   },
   {
    "duration": 10,
    "start_time": "2022-05-29T17:30:20.457Z"
   },
   {
    "duration": 6,
    "start_time": "2022-05-29T17:31:50.268Z"
   },
   {
    "duration": 6,
    "start_time": "2022-05-29T17:33:04.378Z"
   },
   {
    "duration": 5,
    "start_time": "2022-05-29T17:33:33.620Z"
   },
   {
    "duration": 5,
    "start_time": "2022-05-29T17:34:38.775Z"
   },
   {
    "duration": 29,
    "start_time": "2022-05-29T17:49:24.863Z"
   },
   {
    "duration": 32,
    "start_time": "2022-05-29T17:49:38.159Z"
   },
   {
    "duration": 3,
    "start_time": "2022-05-29T17:49:47.169Z"
   },
   {
    "duration": 7,
    "start_time": "2022-05-29T17:50:14.351Z"
   },
   {
    "duration": 8,
    "start_time": "2022-05-29T17:50:25.765Z"
   },
   {
    "duration": 8,
    "start_time": "2022-05-29T17:51:55.771Z"
   },
   {
    "duration": 8,
    "start_time": "2022-05-29T17:52:25.987Z"
   },
   {
    "duration": 7,
    "start_time": "2022-05-29T17:52:38.969Z"
   },
   {
    "duration": 5,
    "start_time": "2022-05-29T17:52:46.748Z"
   },
   {
    "duration": 7,
    "start_time": "2022-05-29T17:53:20.554Z"
   },
   {
    "duration": 13,
    "start_time": "2022-05-29T17:53:55.904Z"
   },
   {
    "duration": 23,
    "start_time": "2022-05-29T17:54:28.310Z"
   },
   {
    "duration": 8,
    "start_time": "2022-05-29T17:59:08.764Z"
   },
   {
    "duration": 8,
    "start_time": "2022-05-29T17:59:30.370Z"
   },
   {
    "duration": 7,
    "start_time": "2022-05-29T18:01:09.745Z"
   },
   {
    "duration": 6,
    "start_time": "2022-05-29T18:01:36.123Z"
   },
   {
    "duration": 34,
    "start_time": "2022-05-29T18:02:42.370Z"
   },
   {
    "duration": 7,
    "start_time": "2022-05-29T18:10:51.949Z"
   },
   {
    "duration": 8,
    "start_time": "2022-05-29T18:11:06.864Z"
   },
   {
    "duration": 8,
    "start_time": "2022-05-29T18:11:41.403Z"
   },
   {
    "duration": 7,
    "start_time": "2022-05-29T18:12:10.592Z"
   },
   {
    "duration": 8,
    "start_time": "2022-05-29T18:12:57.105Z"
   },
   {
    "duration": 36,
    "start_time": "2022-05-29T18:13:06.906Z"
   },
   {
    "duration": 32,
    "start_time": "2022-05-29T18:13:14.934Z"
   },
   {
    "duration": 7,
    "start_time": "2022-05-29T18:13:19.922Z"
   },
   {
    "duration": 9,
    "start_time": "2022-05-29T18:13:33.576Z"
   },
   {
    "duration": 7,
    "start_time": "2022-05-29T18:14:51.218Z"
   },
   {
    "duration": 552,
    "start_time": "2022-05-29T21:07:24.761Z"
   },
   {
    "duration": 38,
    "start_time": "2022-05-29T21:07:25.315Z"
   },
   {
    "duration": 13,
    "start_time": "2022-05-29T21:07:25.355Z"
   },
   {
    "duration": 16,
    "start_time": "2022-05-29T21:07:25.369Z"
   },
   {
    "duration": 3,
    "start_time": "2022-05-29T21:07:25.387Z"
   },
   {
    "duration": 13,
    "start_time": "2022-05-29T21:07:25.391Z"
   },
   {
    "duration": 23,
    "start_time": "2022-05-29T21:07:25.405Z"
   },
   {
    "duration": 15,
    "start_time": "2022-05-29T21:07:25.429Z"
   },
   {
    "duration": 10,
    "start_time": "2022-05-29T21:07:25.446Z"
   },
   {
    "duration": 19,
    "start_time": "2022-05-29T21:07:25.457Z"
   },
   {
    "duration": 18,
    "start_time": "2022-05-29T21:07:25.477Z"
   },
   {
    "duration": 30,
    "start_time": "2022-05-29T21:07:25.497Z"
   },
   {
    "duration": 20,
    "start_time": "2022-05-29T21:07:25.528Z"
   },
   {
    "duration": 10,
    "start_time": "2022-05-29T21:07:25.551Z"
   },
   {
    "duration": 2,
    "start_time": "2022-05-29T21:07:25.563Z"
   },
   {
    "duration": 9,
    "start_time": "2022-05-29T21:07:25.566Z"
   },
   {
    "duration": 10,
    "start_time": "2022-05-29T21:07:25.577Z"
   },
   {
    "duration": 6,
    "start_time": "2022-05-29T21:07:25.588Z"
   },
   {
    "duration": 32,
    "start_time": "2022-05-29T21:07:25.596Z"
   },
   {
    "duration": 17,
    "start_time": "2022-05-29T21:07:25.630Z"
   },
   {
    "duration": 12,
    "start_time": "2022-05-29T21:07:25.649Z"
   },
   {
    "duration": 7,
    "start_time": "2022-05-29T21:07:25.662Z"
   },
   {
    "duration": 9,
    "start_time": "2022-05-29T21:07:25.671Z"
   },
   {
    "duration": 16,
    "start_time": "2022-05-29T21:07:25.682Z"
   },
   {
    "duration": 3,
    "start_time": "2022-05-29T21:07:25.700Z"
   },
   {
    "duration": 27,
    "start_time": "2022-05-29T21:07:25.705Z"
   },
   {
    "duration": 8,
    "start_time": "2022-05-29T21:07:25.734Z"
   },
   {
    "duration": 8,
    "start_time": "2022-05-29T21:07:25.744Z"
   },
   {
    "duration": 13,
    "start_time": "2022-05-29T21:07:25.753Z"
   },
   {
    "duration": 7,
    "start_time": "2022-05-29T21:07:25.768Z"
   },
   {
    "duration": 15,
    "start_time": "2022-05-29T21:07:25.777Z"
   },
   {
    "duration": 24,
    "start_time": "2022-05-29T21:07:25.793Z"
   },
   {
    "duration": 2,
    "start_time": "2022-05-29T21:07:25.826Z"
   },
   {
    "duration": 10,
    "start_time": "2022-05-29T21:07:25.830Z"
   },
   {
    "duration": 15,
    "start_time": "2022-05-29T21:07:25.841Z"
   },
   {
    "duration": 4,
    "start_time": "2022-05-29T21:07:25.858Z"
   },
   {
    "duration": 7,
    "start_time": "2022-05-29T21:07:25.863Z"
   },
   {
    "duration": 10,
    "start_time": "2022-05-29T21:07:25.872Z"
   },
   {
    "duration": 3,
    "start_time": "2022-05-29T21:07:25.883Z"
   },
   {
    "duration": 8,
    "start_time": "2022-05-29T21:07:25.888Z"
   },
   {
    "duration": 27,
    "start_time": "2022-05-29T21:07:25.900Z"
   },
   {
    "duration": 27,
    "start_time": "2022-05-29T21:07:25.929Z"
   },
   {
    "duration": 4,
    "start_time": "2022-05-29T21:07:25.958Z"
   },
   {
    "duration": 20,
    "start_time": "2022-05-29T21:07:25.963Z"
   },
   {
    "duration": 13,
    "start_time": "2022-05-29T21:07:25.985Z"
   },
   {
    "duration": 3,
    "start_time": "2022-05-29T21:07:26.000Z"
   },
   {
    "duration": 3,
    "start_time": "2022-05-29T21:07:26.027Z"
   },
   {
    "duration": 35,
    "start_time": "2022-05-29T21:07:26.032Z"
   },
   {
    "duration": 37,
    "start_time": "2022-05-29T21:07:26.069Z"
   },
   {
    "duration": 38,
    "start_time": "2022-05-29T21:07:26.127Z"
   },
   {
    "duration": 2,
    "start_time": "2022-05-29T21:07:26.167Z"
   },
   {
    "duration": 6,
    "start_time": "2022-05-29T21:07:26.171Z"
   },
   {
    "duration": 14,
    "start_time": "2022-05-29T21:07:26.178Z"
   },
   {
    "duration": 8,
    "start_time": "2022-05-29T21:07:26.193Z"
   },
   {
    "duration": 53,
    "start_time": "2022-05-29T21:07:26.202Z"
   },
   {
    "duration": 6,
    "start_time": "2022-05-29T21:07:26.256Z"
   },
   {
    "duration": 6,
    "start_time": "2022-05-29T21:07:26.264Z"
   },
   {
    "duration": 5,
    "start_time": "2022-05-29T21:07:26.272Z"
   },
   {
    "duration": 6,
    "start_time": "2022-05-29T21:07:26.279Z"
   },
   {
    "duration": 7,
    "start_time": "2022-05-29T21:07:26.287Z"
   },
   {
    "duration": 6,
    "start_time": "2022-05-29T21:07:26.326Z"
   },
   {
    "duration": 7,
    "start_time": "2022-05-29T21:07:26.334Z"
   },
   {
    "duration": 9,
    "start_time": "2022-05-29T21:07:26.342Z"
   },
   {
    "duration": 6,
    "start_time": "2022-05-29T21:07:26.352Z"
   },
   {
    "duration": 8,
    "start_time": "2022-05-29T21:07:26.360Z"
   },
   {
    "duration": 7,
    "start_time": "2022-05-29T21:07:26.370Z"
   },
   {
    "duration": 17,
    "start_time": "2022-05-29T21:07:26.379Z"
   },
   {
    "duration": 34,
    "start_time": "2022-05-29T21:07:26.398Z"
   },
   {
    "duration": 3,
    "start_time": "2022-05-29T21:07:26.434Z"
   },
   {
    "duration": 16,
    "start_time": "2022-05-29T21:07:26.438Z"
   },
   {
    "duration": 15,
    "start_time": "2022-05-29T21:07:26.455Z"
   },
   {
    "duration": 2,
    "start_time": "2022-05-29T21:07:26.472Z"
   },
   {
    "duration": 6,
    "start_time": "2022-05-29T21:07:26.475Z"
   },
   {
    "duration": 7,
    "start_time": "2022-05-29T21:07:26.482Z"
   },
   {
    "duration": 5,
    "start_time": "2022-05-29T21:07:26.490Z"
   },
   {
    "duration": 10,
    "start_time": "2022-05-29T21:07:26.497Z"
   },
   {
    "duration": 24,
    "start_time": "2022-05-29T21:07:26.508Z"
   },
   {
    "duration": 6,
    "start_time": "2022-05-29T21:07:26.534Z"
   },
   {
    "duration": 9,
    "start_time": "2022-05-29T21:07:26.541Z"
   },
   {
    "duration": 9,
    "start_time": "2022-05-29T21:07:26.552Z"
   },
   {
    "duration": 6,
    "start_time": "2022-05-29T21:07:26.563Z"
   },
   {
    "duration": 6,
    "start_time": "2022-05-29T21:07:26.570Z"
   },
   {
    "duration": 6,
    "start_time": "2022-05-29T21:07:26.578Z"
   },
   {
    "duration": 44,
    "start_time": "2022-05-29T21:07:26.586Z"
   },
   {
    "duration": 6,
    "start_time": "2022-05-29T21:07:26.632Z"
   },
   {
    "duration": 6,
    "start_time": "2022-05-29T21:07:26.640Z"
   },
   {
    "duration": 13,
    "start_time": "2022-05-29T21:07:26.648Z"
   },
   {
    "duration": 3,
    "start_time": "2022-05-29T21:07:26.663Z"
   },
   {
    "duration": 8,
    "start_time": "2022-05-29T21:07:26.667Z"
   },
   {
    "duration": 4,
    "start_time": "2022-05-29T21:07:26.676Z"
   },
   {
    "duration": 17,
    "start_time": "2022-05-29T21:07:26.681Z"
   },
   {
    "duration": 10,
    "start_time": "2022-05-29T21:07:26.699Z"
   },
   {
    "duration": 4,
    "start_time": "2022-05-29T21:07:26.727Z"
   },
   {
    "duration": 5,
    "start_time": "2022-05-29T21:07:26.733Z"
   },
   {
    "duration": 8,
    "start_time": "2022-05-29T21:07:26.740Z"
   },
   {
    "duration": 0,
    "start_time": "2022-05-29T21:07:26.749Z"
   },
   {
    "duration": 0,
    "start_time": "2022-05-29T21:07:26.750Z"
   },
   {
    "duration": 0,
    "start_time": "2022-05-29T21:07:26.751Z"
   },
   {
    "duration": 0,
    "start_time": "2022-05-29T21:07:26.752Z"
   },
   {
    "duration": 0,
    "start_time": "2022-05-29T21:07:26.753Z"
   },
   {
    "duration": 0,
    "start_time": "2022-05-29T21:07:26.754Z"
   },
   {
    "duration": 0,
    "start_time": "2022-05-29T21:07:26.755Z"
   },
   {
    "duration": 0,
    "start_time": "2022-05-29T21:07:26.756Z"
   },
   {
    "duration": 0,
    "start_time": "2022-05-29T21:07:26.757Z"
   },
   {
    "duration": 0,
    "start_time": "2022-05-29T21:07:26.757Z"
   },
   {
    "duration": 0,
    "start_time": "2022-05-29T21:07:26.759Z"
   },
   {
    "duration": 0,
    "start_time": "2022-05-29T21:07:26.759Z"
   },
   {
    "duration": 0,
    "start_time": "2022-05-29T21:07:26.760Z"
   },
   {
    "duration": 0,
    "start_time": "2022-05-29T21:07:26.761Z"
   },
   {
    "duration": 3,
    "start_time": "2022-05-29T21:08:09.117Z"
   },
   {
    "duration": 5,
    "start_time": "2022-05-29T21:08:14.162Z"
   },
   {
    "duration": 5,
    "start_time": "2022-05-29T21:08:16.889Z"
   },
   {
    "duration": 9,
    "start_time": "2022-05-29T21:08:21.473Z"
   },
   {
    "duration": 4,
    "start_time": "2022-05-29T21:08:26.710Z"
   },
   {
    "duration": 8,
    "start_time": "2022-05-29T21:08:29.251Z"
   },
   {
    "duration": 5,
    "start_time": "2022-05-29T21:08:32.555Z"
   },
   {
    "duration": 6,
    "start_time": "2022-05-29T21:08:35.109Z"
   },
   {
    "duration": 15,
    "start_time": "2022-05-29T21:08:41.100Z"
   },
   {
    "duration": 7,
    "start_time": "2022-05-29T21:08:49.493Z"
   },
   {
    "duration": 9,
    "start_time": "2022-05-29T21:10:55.232Z"
   },
   {
    "duration": 72,
    "start_time": "2022-05-29T21:15:04.022Z"
   },
   {
    "duration": 13,
    "start_time": "2022-05-29T21:15:19.380Z"
   },
   {
    "duration": 8,
    "start_time": "2022-05-29T21:20:24.937Z"
   },
   {
    "duration": 63,
    "start_time": "2022-05-29T21:20:53.525Z"
   },
   {
    "duration": 9,
    "start_time": "2022-05-29T21:20:57.010Z"
   },
   {
    "duration": 10,
    "start_time": "2022-05-29T21:21:22.008Z"
   },
   {
    "duration": 8,
    "start_time": "2022-05-29T21:21:29.069Z"
   },
   {
    "duration": 7,
    "start_time": "2022-05-29T22:23:44.305Z"
   },
   {
    "duration": 5,
    "start_time": "2022-05-29T22:24:30.120Z"
   },
   {
    "duration": 6,
    "start_time": "2022-05-29T22:24:54.072Z"
   },
   {
    "duration": 5,
    "start_time": "2022-05-29T22:25:19.838Z"
   },
   {
    "duration": 3,
    "start_time": "2022-05-29T22:28:49.946Z"
   },
   {
    "duration": 4,
    "start_time": "2022-05-29T22:29:05.982Z"
   },
   {
    "duration": 3,
    "start_time": "2022-05-29T22:29:14.969Z"
   },
   {
    "duration": 3,
    "start_time": "2022-05-29T22:29:27.353Z"
   },
   {
    "duration": 3,
    "start_time": "2022-05-29T22:29:32.023Z"
   },
   {
    "duration": 4,
    "start_time": "2022-05-29T22:35:20.710Z"
   },
   {
    "duration": 3,
    "start_time": "2022-05-29T22:35:29.406Z"
   },
   {
    "duration": 4,
    "start_time": "2022-05-29T22:35:41.818Z"
   },
   {
    "duration": 22,
    "start_time": "2022-05-29T22:36:05.301Z"
   },
   {
    "duration": 3,
    "start_time": "2022-05-29T22:36:15.994Z"
   },
   {
    "duration": 9,
    "start_time": "2022-05-29T22:38:05.360Z"
   },
   {
    "duration": 22,
    "start_time": "2022-05-29T22:38:22.938Z"
   },
   {
    "duration": 4,
    "start_time": "2022-05-29T22:42:20.425Z"
   },
   {
    "duration": 6,
    "start_time": "2022-05-29T22:42:38.112Z"
   },
   {
    "duration": 527,
    "start_time": "2022-05-29T22:42:49.191Z"
   },
   {
    "duration": 37,
    "start_time": "2022-05-29T22:42:49.720Z"
   },
   {
    "duration": 12,
    "start_time": "2022-05-29T22:42:49.759Z"
   },
   {
    "duration": 18,
    "start_time": "2022-05-29T22:42:49.773Z"
   },
   {
    "duration": 4,
    "start_time": "2022-05-29T22:42:49.792Z"
   },
   {
    "duration": 11,
    "start_time": "2022-05-29T22:42:49.827Z"
   },
   {
    "duration": 9,
    "start_time": "2022-05-29T22:42:49.840Z"
   },
   {
    "duration": 13,
    "start_time": "2022-05-29T22:42:49.850Z"
   },
   {
    "duration": 11,
    "start_time": "2022-05-29T22:42:49.864Z"
   },
   {
    "duration": 20,
    "start_time": "2022-05-29T22:42:49.877Z"
   },
   {
    "duration": 20,
    "start_time": "2022-05-29T22:42:49.927Z"
   },
   {
    "duration": 2,
    "start_time": "2022-05-29T22:42:49.949Z"
   },
   {
    "duration": 22,
    "start_time": "2022-05-29T22:42:49.952Z"
   },
   {
    "duration": 5,
    "start_time": "2022-05-29T22:42:49.976Z"
   },
   {
    "duration": 3,
    "start_time": "2022-05-29T22:42:49.982Z"
   },
   {
    "duration": 43,
    "start_time": "2022-05-29T22:42:49.987Z"
   },
   {
    "duration": 16,
    "start_time": "2022-05-29T22:42:50.032Z"
   },
   {
    "duration": 21,
    "start_time": "2022-05-29T22:42:50.050Z"
   },
   {
    "duration": 11,
    "start_time": "2022-05-29T22:42:50.073Z"
   },
   {
    "duration": 6,
    "start_time": "2022-05-29T22:42:50.085Z"
   },
   {
    "duration": 10,
    "start_time": "2022-05-29T22:42:50.092Z"
   },
   {
    "duration": 5,
    "start_time": "2022-05-29T22:42:50.104Z"
   },
   {
    "duration": 7,
    "start_time": "2022-05-29T22:42:50.126Z"
   },
   {
    "duration": 16,
    "start_time": "2022-05-29T22:42:50.135Z"
   },
   {
    "duration": 4,
    "start_time": "2022-05-29T22:42:50.153Z"
   },
   {
    "duration": 13,
    "start_time": "2022-05-29T22:42:50.158Z"
   },
   {
    "duration": 12,
    "start_time": "2022-05-29T22:42:50.172Z"
   },
   {
    "duration": 8,
    "start_time": "2022-05-29T22:42:50.188Z"
   },
   {
    "duration": 10,
    "start_time": "2022-05-29T22:42:50.197Z"
   },
   {
    "duration": 6,
    "start_time": "2022-05-29T22:42:50.226Z"
   },
   {
    "duration": 6,
    "start_time": "2022-05-29T22:42:50.233Z"
   },
   {
    "duration": 7,
    "start_time": "2022-05-29T22:42:50.241Z"
   },
   {
    "duration": 4,
    "start_time": "2022-05-29T22:42:50.249Z"
   },
   {
    "duration": 6,
    "start_time": "2022-05-29T22:42:50.254Z"
   },
   {
    "duration": 10,
    "start_time": "2022-05-29T22:42:50.261Z"
   },
   {
    "duration": 15,
    "start_time": "2022-05-29T22:42:50.272Z"
   },
   {
    "duration": 5,
    "start_time": "2022-05-29T22:42:50.289Z"
   },
   {
    "duration": 9,
    "start_time": "2022-05-29T22:42:50.296Z"
   },
   {
    "duration": 21,
    "start_time": "2022-05-29T22:42:50.306Z"
   },
   {
    "duration": 78,
    "start_time": "2022-05-29T22:42:50.328Z"
   },
   {
    "duration": 0,
    "start_time": "2022-05-29T22:42:50.409Z"
   },
   {
    "duration": 0,
    "start_time": "2022-05-29T22:42:50.410Z"
   },
   {
    "duration": 0,
    "start_time": "2022-05-29T22:42:50.411Z"
   },
   {
    "duration": 0,
    "start_time": "2022-05-29T22:42:50.412Z"
   },
   {
    "duration": 0,
    "start_time": "2022-05-29T22:42:50.413Z"
   },
   {
    "duration": 0,
    "start_time": "2022-05-29T22:42:50.414Z"
   },
   {
    "duration": 0,
    "start_time": "2022-05-29T22:42:50.415Z"
   },
   {
    "duration": 0,
    "start_time": "2022-05-29T22:42:50.427Z"
   },
   {
    "duration": 0,
    "start_time": "2022-05-29T22:42:50.428Z"
   },
   {
    "duration": 0,
    "start_time": "2022-05-29T22:42:50.429Z"
   },
   {
    "duration": 0,
    "start_time": "2022-05-29T22:42:50.430Z"
   },
   {
    "duration": 0,
    "start_time": "2022-05-29T22:42:50.431Z"
   },
   {
    "duration": 0,
    "start_time": "2022-05-29T22:42:50.432Z"
   },
   {
    "duration": 0,
    "start_time": "2022-05-29T22:42:50.433Z"
   },
   {
    "duration": 0,
    "start_time": "2022-05-29T22:42:50.434Z"
   },
   {
    "duration": 0,
    "start_time": "2022-05-29T22:42:50.435Z"
   },
   {
    "duration": 0,
    "start_time": "2022-05-29T22:42:50.436Z"
   },
   {
    "duration": 0,
    "start_time": "2022-05-29T22:42:50.437Z"
   },
   {
    "duration": 0,
    "start_time": "2022-05-29T22:42:50.439Z"
   },
   {
    "duration": 0,
    "start_time": "2022-05-29T22:42:50.439Z"
   },
   {
    "duration": 0,
    "start_time": "2022-05-29T22:42:50.441Z"
   },
   {
    "duration": 1,
    "start_time": "2022-05-29T22:42:50.441Z"
   },
   {
    "duration": 0,
    "start_time": "2022-05-29T22:42:50.442Z"
   },
   {
    "duration": 0,
    "start_time": "2022-05-29T22:42:50.443Z"
   },
   {
    "duration": 0,
    "start_time": "2022-05-29T22:42:50.444Z"
   },
   {
    "duration": 0,
    "start_time": "2022-05-29T22:42:50.445Z"
   },
   {
    "duration": 0,
    "start_time": "2022-05-29T22:42:50.446Z"
   },
   {
    "duration": 0,
    "start_time": "2022-05-29T22:42:50.447Z"
   },
   {
    "duration": 0,
    "start_time": "2022-05-29T22:42:50.448Z"
   },
   {
    "duration": 0,
    "start_time": "2022-05-29T22:42:50.449Z"
   },
   {
    "duration": 0,
    "start_time": "2022-05-29T22:42:50.450Z"
   },
   {
    "duration": 0,
    "start_time": "2022-05-29T22:42:50.451Z"
   },
   {
    "duration": 0,
    "start_time": "2022-05-29T22:42:50.453Z"
   },
   {
    "duration": 0,
    "start_time": "2022-05-29T22:42:50.453Z"
   },
   {
    "duration": 0,
    "start_time": "2022-05-29T22:42:50.454Z"
   },
   {
    "duration": 0,
    "start_time": "2022-05-29T22:42:50.455Z"
   },
   {
    "duration": 1,
    "start_time": "2022-05-29T22:42:50.456Z"
   },
   {
    "duration": 0,
    "start_time": "2022-05-29T22:42:50.457Z"
   },
   {
    "duration": 0,
    "start_time": "2022-05-29T22:42:50.458Z"
   },
   {
    "duration": 0,
    "start_time": "2022-05-29T22:42:50.459Z"
   },
   {
    "duration": 0,
    "start_time": "2022-05-29T22:42:50.460Z"
   },
   {
    "duration": 0,
    "start_time": "2022-05-29T22:42:50.461Z"
   },
   {
    "duration": 0,
    "start_time": "2022-05-29T22:42:50.462Z"
   },
   {
    "duration": 0,
    "start_time": "2022-05-29T22:42:50.463Z"
   },
   {
    "duration": 0,
    "start_time": "2022-05-29T22:42:50.464Z"
   },
   {
    "duration": 0,
    "start_time": "2022-05-29T22:42:50.527Z"
   },
   {
    "duration": 0,
    "start_time": "2022-05-29T22:42:50.528Z"
   },
   {
    "duration": 0,
    "start_time": "2022-05-29T22:42:50.529Z"
   },
   {
    "duration": 0,
    "start_time": "2022-05-29T22:42:50.529Z"
   },
   {
    "duration": 0,
    "start_time": "2022-05-29T22:42:50.530Z"
   },
   {
    "duration": 0,
    "start_time": "2022-05-29T22:42:50.531Z"
   },
   {
    "duration": 0,
    "start_time": "2022-05-29T22:42:50.532Z"
   },
   {
    "duration": 0,
    "start_time": "2022-05-29T22:42:50.533Z"
   },
   {
    "duration": 0,
    "start_time": "2022-05-29T22:42:50.534Z"
   },
   {
    "duration": 0,
    "start_time": "2022-05-29T22:42:50.535Z"
   },
   {
    "duration": 0,
    "start_time": "2022-05-29T22:42:50.536Z"
   },
   {
    "duration": 0,
    "start_time": "2022-05-29T22:42:50.537Z"
   },
   {
    "duration": 0,
    "start_time": "2022-05-29T22:42:50.538Z"
   },
   {
    "duration": 0,
    "start_time": "2022-05-29T22:42:50.539Z"
   },
   {
    "duration": 0,
    "start_time": "2022-05-29T22:42:50.540Z"
   },
   {
    "duration": 0,
    "start_time": "2022-05-29T22:42:50.541Z"
   },
   {
    "duration": 0,
    "start_time": "2022-05-29T22:42:50.542Z"
   },
   {
    "duration": 0,
    "start_time": "2022-05-29T22:42:50.543Z"
   },
   {
    "duration": 0,
    "start_time": "2022-05-29T22:42:50.544Z"
   },
   {
    "duration": 0,
    "start_time": "2022-05-29T22:42:50.545Z"
   },
   {
    "duration": 0,
    "start_time": "2022-05-29T22:42:50.546Z"
   },
   {
    "duration": 0,
    "start_time": "2022-05-29T22:42:50.548Z"
   },
   {
    "duration": 0,
    "start_time": "2022-05-29T22:42:50.548Z"
   },
   {
    "duration": 0,
    "start_time": "2022-05-29T22:42:50.549Z"
   },
   {
    "duration": 0,
    "start_time": "2022-05-29T22:42:50.550Z"
   },
   {
    "duration": 0,
    "start_time": "2022-05-29T22:42:50.551Z"
   },
   {
    "duration": 0,
    "start_time": "2022-05-29T22:42:50.552Z"
   },
   {
    "duration": 0,
    "start_time": "2022-05-29T22:42:50.553Z"
   },
   {
    "duration": 0,
    "start_time": "2022-05-29T22:42:50.554Z"
   },
   {
    "duration": 0,
    "start_time": "2022-05-29T22:42:50.555Z"
   },
   {
    "duration": 481,
    "start_time": "2022-05-29T22:45:21.054Z"
   },
   {
    "duration": 50,
    "start_time": "2022-05-29T22:45:21.538Z"
   },
   {
    "duration": 13,
    "start_time": "2022-05-29T22:45:21.590Z"
   },
   {
    "duration": 34,
    "start_time": "2022-05-29T22:45:21.605Z"
   },
   {
    "duration": 6,
    "start_time": "2022-05-29T22:45:21.641Z"
   },
   {
    "duration": 21,
    "start_time": "2022-05-29T22:45:21.649Z"
   },
   {
    "duration": 13,
    "start_time": "2022-05-29T22:45:21.672Z"
   },
   {
    "duration": 49,
    "start_time": "2022-05-29T22:45:21.687Z"
   },
   {
    "duration": 17,
    "start_time": "2022-05-29T22:45:21.738Z"
   },
   {
    "duration": 29,
    "start_time": "2022-05-29T22:45:21.758Z"
   },
   {
    "duration": 43,
    "start_time": "2022-05-29T22:45:21.788Z"
   },
   {
    "duration": 2,
    "start_time": "2022-05-29T22:45:21.832Z"
   },
   {
    "duration": 24,
    "start_time": "2022-05-29T22:45:21.836Z"
   },
   {
    "duration": 5,
    "start_time": "2022-05-29T22:45:21.862Z"
   },
   {
    "duration": 12,
    "start_time": "2022-05-29T22:45:21.869Z"
   },
   {
    "duration": 10,
    "start_time": "2022-05-29T22:45:21.883Z"
   },
   {
    "duration": 38,
    "start_time": "2022-05-29T22:45:21.894Z"
   },
   {
    "duration": 10,
    "start_time": "2022-05-29T22:45:21.934Z"
   },
   {
    "duration": 7,
    "start_time": "2022-05-29T22:45:21.946Z"
   },
   {
    "duration": 6,
    "start_time": "2022-05-29T22:45:21.954Z"
   },
   {
    "duration": 10,
    "start_time": "2022-05-29T22:45:21.961Z"
   },
   {
    "duration": 5,
    "start_time": "2022-05-29T22:45:21.972Z"
   },
   {
    "duration": 8,
    "start_time": "2022-05-29T22:45:21.978Z"
   },
   {
    "duration": 51,
    "start_time": "2022-05-29T22:45:21.987Z"
   },
   {
    "duration": 3,
    "start_time": "2022-05-29T22:45:22.040Z"
   },
   {
    "duration": 11,
    "start_time": "2022-05-29T22:45:22.045Z"
   },
   {
    "duration": 7,
    "start_time": "2022-05-29T22:45:22.057Z"
   },
   {
    "duration": 7,
    "start_time": "2022-05-29T22:45:22.068Z"
   },
   {
    "duration": 10,
    "start_time": "2022-05-29T22:45:22.076Z"
   },
   {
    "duration": 43,
    "start_time": "2022-05-29T22:45:22.088Z"
   },
   {
    "duration": 9,
    "start_time": "2022-05-29T22:45:22.132Z"
   },
   {
    "duration": 12,
    "start_time": "2022-05-29T22:45:22.142Z"
   },
   {
    "duration": 7,
    "start_time": "2022-05-29T22:45:22.156Z"
   },
   {
    "duration": 7,
    "start_time": "2022-05-29T22:45:22.165Z"
   },
   {
    "duration": 10,
    "start_time": "2022-05-29T22:45:22.173Z"
   },
   {
    "duration": 6,
    "start_time": "2022-05-29T22:45:22.185Z"
   },
   {
    "duration": 5,
    "start_time": "2022-05-29T22:45:22.193Z"
   },
   {
    "duration": 13,
    "start_time": "2022-05-29T22:45:22.199Z"
   },
   {
    "duration": 13,
    "start_time": "2022-05-29T22:45:22.213Z"
   },
   {
    "duration": 77,
    "start_time": "2022-05-29T22:45:22.228Z"
   },
   {
    "duration": 0,
    "start_time": "2022-05-29T22:45:22.307Z"
   },
   {
    "duration": 0,
    "start_time": "2022-05-29T22:45:22.309Z"
   },
   {
    "duration": 0,
    "start_time": "2022-05-29T22:45:22.310Z"
   },
   {
    "duration": 0,
    "start_time": "2022-05-29T22:45:22.311Z"
   },
   {
    "duration": 0,
    "start_time": "2022-05-29T22:45:22.327Z"
   },
   {
    "duration": 0,
    "start_time": "2022-05-29T22:45:22.327Z"
   },
   {
    "duration": 0,
    "start_time": "2022-05-29T22:45:22.328Z"
   },
   {
    "duration": 0,
    "start_time": "2022-05-29T22:45:22.330Z"
   },
   {
    "duration": 0,
    "start_time": "2022-05-29T22:45:22.330Z"
   },
   {
    "duration": 0,
    "start_time": "2022-05-29T22:45:22.331Z"
   },
   {
    "duration": 0,
    "start_time": "2022-05-29T22:45:22.333Z"
   },
   {
    "duration": 0,
    "start_time": "2022-05-29T22:45:22.333Z"
   },
   {
    "duration": 0,
    "start_time": "2022-05-29T22:45:22.334Z"
   },
   {
    "duration": 0,
    "start_time": "2022-05-29T22:45:22.335Z"
   },
   {
    "duration": 0,
    "start_time": "2022-05-29T22:45:22.336Z"
   },
   {
    "duration": 0,
    "start_time": "2022-05-29T22:45:22.337Z"
   },
   {
    "duration": 0,
    "start_time": "2022-05-29T22:45:22.338Z"
   },
   {
    "duration": 0,
    "start_time": "2022-05-29T22:45:22.339Z"
   },
   {
    "duration": 0,
    "start_time": "2022-05-29T22:45:22.340Z"
   },
   {
    "duration": 0,
    "start_time": "2022-05-29T22:45:22.341Z"
   },
   {
    "duration": 0,
    "start_time": "2022-05-29T22:45:22.342Z"
   },
   {
    "duration": 0,
    "start_time": "2022-05-29T22:45:22.343Z"
   },
   {
    "duration": 0,
    "start_time": "2022-05-29T22:45:22.344Z"
   },
   {
    "duration": 0,
    "start_time": "2022-05-29T22:45:22.344Z"
   },
   {
    "duration": 0,
    "start_time": "2022-05-29T22:45:22.346Z"
   },
   {
    "duration": 0,
    "start_time": "2022-05-29T22:45:22.346Z"
   },
   {
    "duration": 0,
    "start_time": "2022-05-29T22:45:22.348Z"
   },
   {
    "duration": 0,
    "start_time": "2022-05-29T22:45:22.349Z"
   },
   {
    "duration": 0,
    "start_time": "2022-05-29T22:45:22.350Z"
   },
   {
    "duration": 0,
    "start_time": "2022-05-29T22:45:22.350Z"
   },
   {
    "duration": 0,
    "start_time": "2022-05-29T22:45:22.352Z"
   },
   {
    "duration": 0,
    "start_time": "2022-05-29T22:45:22.353Z"
   },
   {
    "duration": 0,
    "start_time": "2022-05-29T22:45:22.353Z"
   },
   {
    "duration": 0,
    "start_time": "2022-05-29T22:45:22.355Z"
   },
   {
    "duration": 0,
    "start_time": "2022-05-29T22:45:22.355Z"
   },
   {
    "duration": 0,
    "start_time": "2022-05-29T22:45:22.356Z"
   },
   {
    "duration": 0,
    "start_time": "2022-05-29T22:45:22.357Z"
   },
   {
    "duration": 0,
    "start_time": "2022-05-29T22:45:22.358Z"
   },
   {
    "duration": 0,
    "start_time": "2022-05-29T22:45:22.359Z"
   },
   {
    "duration": 0,
    "start_time": "2022-05-29T22:45:22.360Z"
   },
   {
    "duration": 0,
    "start_time": "2022-05-29T22:45:22.361Z"
   },
   {
    "duration": 0,
    "start_time": "2022-05-29T22:45:22.362Z"
   },
   {
    "duration": 0,
    "start_time": "2022-05-29T22:45:22.363Z"
   },
   {
    "duration": 0,
    "start_time": "2022-05-29T22:45:22.364Z"
   },
   {
    "duration": 0,
    "start_time": "2022-05-29T22:45:22.365Z"
   },
   {
    "duration": 0,
    "start_time": "2022-05-29T22:45:22.366Z"
   },
   {
    "duration": 0,
    "start_time": "2022-05-29T22:45:22.427Z"
   },
   {
    "duration": 0,
    "start_time": "2022-05-29T22:45:22.428Z"
   },
   {
    "duration": 0,
    "start_time": "2022-05-29T22:45:22.429Z"
   },
   {
    "duration": 0,
    "start_time": "2022-05-29T22:45:22.430Z"
   },
   {
    "duration": 0,
    "start_time": "2022-05-29T22:45:22.432Z"
   },
   {
    "duration": 0,
    "start_time": "2022-05-29T22:45:22.432Z"
   },
   {
    "duration": 0,
    "start_time": "2022-05-29T22:45:22.433Z"
   },
   {
    "duration": 0,
    "start_time": "2022-05-29T22:45:22.434Z"
   },
   {
    "duration": 0,
    "start_time": "2022-05-29T22:45:22.435Z"
   },
   {
    "duration": 0,
    "start_time": "2022-05-29T22:45:22.436Z"
   },
   {
    "duration": 0,
    "start_time": "2022-05-29T22:45:22.437Z"
   },
   {
    "duration": 0,
    "start_time": "2022-05-29T22:45:22.438Z"
   },
   {
    "duration": 0,
    "start_time": "2022-05-29T22:45:22.439Z"
   },
   {
    "duration": 0,
    "start_time": "2022-05-29T22:45:22.440Z"
   },
   {
    "duration": 0,
    "start_time": "2022-05-29T22:45:22.441Z"
   },
   {
    "duration": 0,
    "start_time": "2022-05-29T22:45:22.442Z"
   },
   {
    "duration": 0,
    "start_time": "2022-05-29T22:45:22.443Z"
   },
   {
    "duration": 0,
    "start_time": "2022-05-29T22:45:22.444Z"
   },
   {
    "duration": 0,
    "start_time": "2022-05-29T22:45:22.445Z"
   },
   {
    "duration": 0,
    "start_time": "2022-05-29T22:45:22.446Z"
   },
   {
    "duration": 0,
    "start_time": "2022-05-29T22:45:22.448Z"
   },
   {
    "duration": 0,
    "start_time": "2022-05-29T22:45:22.449Z"
   },
   {
    "duration": 0,
    "start_time": "2022-05-29T22:45:22.450Z"
   },
   {
    "duration": 0,
    "start_time": "2022-05-29T22:45:22.451Z"
   },
   {
    "duration": 0,
    "start_time": "2022-05-29T22:45:22.452Z"
   },
   {
    "duration": 0,
    "start_time": "2022-05-29T22:45:22.453Z"
   },
   {
    "duration": 0,
    "start_time": "2022-05-29T22:45:22.454Z"
   },
   {
    "duration": 0,
    "start_time": "2022-05-29T22:45:22.455Z"
   },
   {
    "duration": 0,
    "start_time": "2022-05-29T22:45:22.456Z"
   },
   {
    "duration": 457,
    "start_time": "2022-05-29T22:45:58.557Z"
   },
   {
    "duration": 37,
    "start_time": "2022-05-29T22:45:59.016Z"
   },
   {
    "duration": 13,
    "start_time": "2022-05-29T22:45:59.055Z"
   },
   {
    "duration": 16,
    "start_time": "2022-05-29T22:45:59.069Z"
   },
   {
    "duration": 4,
    "start_time": "2022-05-29T22:45:59.086Z"
   },
   {
    "duration": 11,
    "start_time": "2022-05-29T22:45:59.092Z"
   },
   {
    "duration": 9,
    "start_time": "2022-05-29T22:45:59.126Z"
   },
   {
    "duration": 13,
    "start_time": "2022-05-29T22:45:59.136Z"
   },
   {
    "duration": 11,
    "start_time": "2022-05-29T22:45:59.150Z"
   },
   {
    "duration": 19,
    "start_time": "2022-05-29T22:45:59.163Z"
   },
   {
    "duration": 52,
    "start_time": "2022-05-29T22:45:59.184Z"
   },
   {
    "duration": 2,
    "start_time": "2022-05-29T22:45:59.238Z"
   },
   {
    "duration": 24,
    "start_time": "2022-05-29T22:45:59.241Z"
   },
   {
    "duration": 6,
    "start_time": "2022-05-29T22:45:59.266Z"
   },
   {
    "duration": 3,
    "start_time": "2022-05-29T22:45:59.274Z"
   },
   {
    "duration": 8,
    "start_time": "2022-05-29T22:45:59.279Z"
   },
   {
    "duration": 38,
    "start_time": "2022-05-29T22:45:59.289Z"
   },
   {
    "duration": 8,
    "start_time": "2022-05-29T22:45:59.329Z"
   },
   {
    "duration": 10,
    "start_time": "2022-05-29T22:45:59.339Z"
   },
   {
    "duration": 4,
    "start_time": "2022-05-29T22:45:59.351Z"
   },
   {
    "duration": 13,
    "start_time": "2022-05-29T22:45:59.357Z"
   },
   {
    "duration": 5,
    "start_time": "2022-05-29T22:45:59.371Z"
   },
   {
    "duration": 18,
    "start_time": "2022-05-29T22:45:59.377Z"
   },
   {
    "duration": 34,
    "start_time": "2022-05-29T22:45:59.397Z"
   },
   {
    "duration": 4,
    "start_time": "2022-05-29T22:45:59.433Z"
   },
   {
    "duration": 8,
    "start_time": "2022-05-29T22:45:59.439Z"
   },
   {
    "duration": 8,
    "start_time": "2022-05-29T22:45:59.449Z"
   },
   {
    "duration": 5,
    "start_time": "2022-05-29T22:45:59.461Z"
   },
   {
    "duration": 10,
    "start_time": "2022-05-29T22:45:59.468Z"
   },
   {
    "duration": 5,
    "start_time": "2022-05-29T22:45:59.480Z"
   },
   {
    "duration": 42,
    "start_time": "2022-05-29T22:45:59.487Z"
   },
   {
    "duration": 13,
    "start_time": "2022-05-29T22:45:59.531Z"
   },
   {
    "duration": 11,
    "start_time": "2022-05-29T22:45:59.546Z"
   },
   {
    "duration": 10,
    "start_time": "2022-05-29T22:45:59.558Z"
   },
   {
    "duration": 12,
    "start_time": "2022-05-29T22:45:59.569Z"
   },
   {
    "duration": 4,
    "start_time": "2022-05-29T22:45:59.582Z"
   },
   {
    "duration": 5,
    "start_time": "2022-05-29T22:45:59.588Z"
   },
   {
    "duration": 9,
    "start_time": "2022-05-29T22:45:59.594Z"
   },
   {
    "duration": 4,
    "start_time": "2022-05-29T22:45:59.604Z"
   },
   {
    "duration": 18,
    "start_time": "2022-05-29T22:45:59.609Z"
   },
   {
    "duration": 17,
    "start_time": "2022-05-29T22:45:59.628Z"
   },
   {
    "duration": 28,
    "start_time": "2022-05-29T22:45:59.647Z"
   },
   {
    "duration": 5,
    "start_time": "2022-05-29T22:45:59.677Z"
   },
   {
    "duration": 44,
    "start_time": "2022-05-29T22:45:59.684Z"
   },
   {
    "duration": 14,
    "start_time": "2022-05-29T22:45:59.729Z"
   },
   {
    "duration": 4,
    "start_time": "2022-05-29T22:45:59.745Z"
   },
   {
    "duration": 13,
    "start_time": "2022-05-29T22:45:59.751Z"
   },
   {
    "duration": 45,
    "start_time": "2022-05-29T22:45:59.765Z"
   },
   {
    "duration": 48,
    "start_time": "2022-05-29T22:45:59.811Z"
   },
   {
    "duration": 39,
    "start_time": "2022-05-29T22:45:59.861Z"
   },
   {
    "duration": 3,
    "start_time": "2022-05-29T22:45:59.902Z"
   },
   {
    "duration": 22,
    "start_time": "2022-05-29T22:45:59.907Z"
   },
   {
    "duration": 13,
    "start_time": "2022-05-29T22:45:59.931Z"
   },
   {
    "duration": 7,
    "start_time": "2022-05-29T22:45:59.946Z"
   },
   {
    "duration": 34,
    "start_time": "2022-05-29T22:45:59.955Z"
   },
   {
    "duration": 38,
    "start_time": "2022-05-29T22:45:59.990Z"
   },
   {
    "duration": 8,
    "start_time": "2022-05-29T22:46:00.029Z"
   },
   {
    "duration": 16,
    "start_time": "2022-05-29T22:46:00.038Z"
   },
   {
    "duration": 20,
    "start_time": "2022-05-29T22:46:00.056Z"
   },
   {
    "duration": 15,
    "start_time": "2022-05-29T22:46:00.078Z"
   },
   {
    "duration": 12,
    "start_time": "2022-05-29T22:46:00.094Z"
   },
   {
    "duration": 14,
    "start_time": "2022-05-29T22:46:00.107Z"
   },
   {
    "duration": 8,
    "start_time": "2022-05-29T22:46:00.123Z"
   },
   {
    "duration": 20,
    "start_time": "2022-05-29T22:46:00.132Z"
   },
   {
    "duration": 21,
    "start_time": "2022-05-29T22:46:00.154Z"
   },
   {
    "duration": 15,
    "start_time": "2022-05-29T22:46:00.177Z"
   },
   {
    "duration": 16,
    "start_time": "2022-05-29T22:46:00.193Z"
   },
   {
    "duration": 19,
    "start_time": "2022-05-29T22:46:00.211Z"
   },
   {
    "duration": 10,
    "start_time": "2022-05-29T22:46:00.232Z"
   },
   {
    "duration": 18,
    "start_time": "2022-05-29T22:46:00.244Z"
   },
   {
    "duration": 21,
    "start_time": "2022-05-29T22:46:00.263Z"
   },
   {
    "duration": 10,
    "start_time": "2022-05-29T22:46:00.286Z"
   },
   {
    "duration": 13,
    "start_time": "2022-05-29T22:46:00.297Z"
   },
   {
    "duration": 13,
    "start_time": "2022-05-29T22:46:00.312Z"
   },
   {
    "duration": 24,
    "start_time": "2022-05-29T22:46:00.326Z"
   },
   {
    "duration": 19,
    "start_time": "2022-05-29T22:46:00.351Z"
   },
   {
    "duration": 15,
    "start_time": "2022-05-29T22:46:00.372Z"
   },
   {
    "duration": 17,
    "start_time": "2022-05-29T22:46:00.388Z"
   },
   {
    "duration": 18,
    "start_time": "2022-05-29T22:46:00.406Z"
   },
   {
    "duration": 14,
    "start_time": "2022-05-29T22:46:00.426Z"
   },
   {
    "duration": 8,
    "start_time": "2022-05-29T22:46:00.442Z"
   },
   {
    "duration": 11,
    "start_time": "2022-05-29T22:46:00.456Z"
   },
   {
    "duration": 10,
    "start_time": "2022-05-29T22:46:00.469Z"
   },
   {
    "duration": 10,
    "start_time": "2022-05-29T22:46:00.481Z"
   },
   {
    "duration": 7,
    "start_time": "2022-05-29T22:46:00.493Z"
   },
   {
    "duration": 10,
    "start_time": "2022-05-29T22:46:00.502Z"
   },
   {
    "duration": 19,
    "start_time": "2022-05-29T22:46:00.514Z"
   },
   {
    "duration": 8,
    "start_time": "2022-05-29T22:46:00.535Z"
   },
   {
    "duration": 13,
    "start_time": "2022-05-29T22:46:00.544Z"
   },
   {
    "duration": 6,
    "start_time": "2022-05-29T22:46:00.558Z"
   },
   {
    "duration": 44,
    "start_time": "2022-05-29T22:46:00.565Z"
   },
   {
    "duration": 11,
    "start_time": "2022-05-29T22:46:00.610Z"
   },
   {
    "duration": 17,
    "start_time": "2022-05-29T22:46:00.623Z"
   },
   {
    "duration": 8,
    "start_time": "2022-05-29T22:46:00.642Z"
   },
   {
    "duration": 6,
    "start_time": "2022-05-29T22:46:00.651Z"
   },
   {
    "duration": 12,
    "start_time": "2022-05-29T22:46:00.659Z"
   },
   {
    "duration": 12,
    "start_time": "2022-05-29T22:46:00.673Z"
   },
   {
    "duration": 6,
    "start_time": "2022-05-29T22:46:00.687Z"
   },
   {
    "duration": 16,
    "start_time": "2022-05-29T22:46:00.695Z"
   },
   {
    "duration": 9,
    "start_time": "2022-05-29T22:46:00.713Z"
   },
   {
    "duration": 24,
    "start_time": "2022-05-29T22:46:00.724Z"
   },
   {
    "duration": 17,
    "start_time": "2022-05-29T22:46:00.750Z"
   },
   {
    "duration": 22,
    "start_time": "2022-05-29T22:46:00.769Z"
   },
   {
    "duration": 20,
    "start_time": "2022-05-29T22:46:00.793Z"
   },
   {
    "duration": 35,
    "start_time": "2022-05-29T22:46:00.815Z"
   },
   {
    "duration": 25,
    "start_time": "2022-05-29T22:46:00.853Z"
   },
   {
    "duration": 12,
    "start_time": "2022-05-29T22:46:00.881Z"
   },
   {
    "duration": 14,
    "start_time": "2022-05-29T22:46:00.894Z"
   },
   {
    "duration": 22,
    "start_time": "2022-05-29T22:46:00.910Z"
   },
   {
    "duration": 12,
    "start_time": "2022-05-29T22:46:00.934Z"
   },
   {
    "duration": 28,
    "start_time": "2022-05-29T22:46:00.948Z"
   },
   {
    "duration": 10,
    "start_time": "2022-05-29T22:46:00.977Z"
   },
   {
    "duration": 8,
    "start_time": "2022-05-29T22:46:00.989Z"
   },
   {
    "duration": 3,
    "start_time": "2022-05-29T22:46:00.998Z"
   },
   {
    "duration": 9,
    "start_time": "2022-05-29T22:46:01.003Z"
   },
   {
    "duration": 6,
    "start_time": "2022-05-29T22:47:21.046Z"
   },
   {
    "duration": 18,
    "start_time": "2022-05-29T22:47:37.635Z"
   },
   {
    "duration": 503,
    "start_time": "2022-05-29T22:47:53.518Z"
   },
   {
    "duration": 37,
    "start_time": "2022-05-29T22:47:54.023Z"
   },
   {
    "duration": 13,
    "start_time": "2022-05-29T22:47:54.062Z"
   },
   {
    "duration": 16,
    "start_time": "2022-05-29T22:47:54.076Z"
   },
   {
    "duration": 4,
    "start_time": "2022-05-29T22:47:54.094Z"
   },
   {
    "duration": 30,
    "start_time": "2022-05-29T22:47:54.100Z"
   },
   {
    "duration": 11,
    "start_time": "2022-05-29T22:47:54.132Z"
   },
   {
    "duration": 15,
    "start_time": "2022-05-29T22:47:54.145Z"
   },
   {
    "duration": 12,
    "start_time": "2022-05-29T22:47:54.161Z"
   },
   {
    "duration": 60,
    "start_time": "2022-05-29T22:47:54.177Z"
   },
   {
    "duration": 21,
    "start_time": "2022-05-29T22:47:54.238Z"
   },
   {
    "duration": 15,
    "start_time": "2022-05-29T22:47:54.261Z"
   },
   {
    "duration": 31,
    "start_time": "2022-05-29T22:47:54.278Z"
   },
   {
    "duration": 15,
    "start_time": "2022-05-29T22:47:54.311Z"
   },
   {
    "duration": 2,
    "start_time": "2022-05-29T22:47:54.328Z"
   },
   {
    "duration": 16,
    "start_time": "2022-05-29T22:47:54.332Z"
   },
   {
    "duration": 14,
    "start_time": "2022-05-29T22:47:54.350Z"
   },
   {
    "duration": 13,
    "start_time": "2022-05-29T22:47:54.366Z"
   },
   {
    "duration": 8,
    "start_time": "2022-05-29T22:47:54.380Z"
   },
   {
    "duration": 4,
    "start_time": "2022-05-29T22:47:54.390Z"
   },
   {
    "duration": 9,
    "start_time": "2022-05-29T22:47:54.396Z"
   },
   {
    "duration": 25,
    "start_time": "2022-05-29T22:47:54.407Z"
   },
   {
    "duration": 8,
    "start_time": "2022-05-29T22:47:54.433Z"
   },
   {
    "duration": 11,
    "start_time": "2022-05-29T22:47:54.443Z"
   },
   {
    "duration": 3,
    "start_time": "2022-05-29T22:47:54.456Z"
   },
   {
    "duration": 13,
    "start_time": "2022-05-29T22:47:54.461Z"
   },
   {
    "duration": 9,
    "start_time": "2022-05-29T22:47:54.476Z"
   },
   {
    "duration": 42,
    "start_time": "2022-05-29T22:47:54.488Z"
   },
   {
    "duration": 9,
    "start_time": "2022-05-29T22:47:54.532Z"
   },
   {
    "duration": 5,
    "start_time": "2022-05-29T22:47:54.543Z"
   },
   {
    "duration": 6,
    "start_time": "2022-05-29T22:47:54.549Z"
   },
   {
    "duration": 7,
    "start_time": "2022-05-29T22:47:54.557Z"
   },
   {
    "duration": 4,
    "start_time": "2022-05-29T22:47:54.565Z"
   },
   {
    "duration": 5,
    "start_time": "2022-05-29T22:47:54.570Z"
   },
   {
    "duration": 11,
    "start_time": "2022-05-29T22:47:54.576Z"
   },
   {
    "duration": 4,
    "start_time": "2022-05-29T22:47:54.588Z"
   },
   {
    "duration": 33,
    "start_time": "2022-05-29T22:47:54.594Z"
   },
   {
    "duration": 8,
    "start_time": "2022-05-29T22:47:54.630Z"
   },
   {
    "duration": 5,
    "start_time": "2022-05-29T22:47:54.640Z"
   },
   {
    "duration": 5,
    "start_time": "2022-05-29T22:47:54.646Z"
   },
   {
    "duration": 18,
    "start_time": "2022-05-29T22:47:54.652Z"
   },
   {
    "duration": 26,
    "start_time": "2022-05-29T22:47:54.672Z"
   },
   {
    "duration": 27,
    "start_time": "2022-05-29T22:47:54.700Z"
   },
   {
    "duration": 17,
    "start_time": "2022-05-29T22:47:54.729Z"
   },
   {
    "duration": 16,
    "start_time": "2022-05-29T22:47:54.748Z"
   },
   {
    "duration": 3,
    "start_time": "2022-05-29T22:47:54.766Z"
   },
   {
    "duration": 9,
    "start_time": "2022-05-29T22:47:54.770Z"
   },
   {
    "duration": 58,
    "start_time": "2022-05-29T22:47:54.780Z"
   },
   {
    "duration": 39,
    "start_time": "2022-05-29T22:47:54.839Z"
   },
   {
    "duration": 57,
    "start_time": "2022-05-29T22:47:54.879Z"
   },
   {
    "duration": 3,
    "start_time": "2022-05-29T22:47:54.938Z"
   },
   {
    "duration": 6,
    "start_time": "2022-05-29T22:47:54.942Z"
   },
   {
    "duration": 12,
    "start_time": "2022-05-29T22:47:54.949Z"
   },
   {
    "duration": 7,
    "start_time": "2022-05-29T22:47:54.963Z"
   },
   {
    "duration": 56,
    "start_time": "2022-05-29T22:47:54.972Z"
   },
   {
    "duration": 7,
    "start_time": "2022-05-29T22:47:55.030Z"
   },
   {
    "duration": 8,
    "start_time": "2022-05-29T22:47:55.038Z"
   },
   {
    "duration": 13,
    "start_time": "2022-05-29T22:47:55.048Z"
   },
   {
    "duration": 10,
    "start_time": "2022-05-29T22:47:55.062Z"
   },
   {
    "duration": 8,
    "start_time": "2022-05-29T22:47:55.074Z"
   },
   {
    "duration": 7,
    "start_time": "2022-05-29T22:47:55.083Z"
   },
   {
    "duration": 39,
    "start_time": "2022-05-29T22:47:55.092Z"
   },
   {
    "duration": 6,
    "start_time": "2022-05-29T22:47:55.133Z"
   },
   {
    "duration": 8,
    "start_time": "2022-05-29T22:47:55.141Z"
   },
   {
    "duration": 7,
    "start_time": "2022-05-29T22:47:55.151Z"
   },
   {
    "duration": 9,
    "start_time": "2022-05-29T22:47:55.159Z"
   },
   {
    "duration": 5,
    "start_time": "2022-05-29T22:47:55.169Z"
   },
   {
    "duration": 20,
    "start_time": "2022-05-29T22:47:55.175Z"
   },
   {
    "duration": 32,
    "start_time": "2022-05-29T22:47:55.196Z"
   },
   {
    "duration": 9,
    "start_time": "2022-05-29T22:47:55.229Z"
   },
   {
    "duration": 6,
    "start_time": "2022-05-29T22:47:55.239Z"
   },
   {
    "duration": 16,
    "start_time": "2022-05-29T22:47:55.246Z"
   },
   {
    "duration": 2,
    "start_time": "2022-05-29T22:47:55.264Z"
   },
   {
    "duration": 5,
    "start_time": "2022-05-29T22:47:55.267Z"
   },
   {
    "duration": 5,
    "start_time": "2022-05-29T22:47:55.273Z"
   },
   {
    "duration": 5,
    "start_time": "2022-05-29T22:47:55.280Z"
   },
   {
    "duration": 13,
    "start_time": "2022-05-29T22:47:55.287Z"
   },
   {
    "duration": 7,
    "start_time": "2022-05-29T22:47:55.327Z"
   },
   {
    "duration": 10,
    "start_time": "2022-05-29T22:47:55.336Z"
   },
   {
    "duration": 6,
    "start_time": "2022-05-29T22:47:55.348Z"
   },
   {
    "duration": 6,
    "start_time": "2022-05-29T22:47:55.356Z"
   },
   {
    "duration": 7,
    "start_time": "2022-05-29T22:47:55.367Z"
   },
   {
    "duration": 10,
    "start_time": "2022-05-29T22:47:55.376Z"
   },
   {
    "duration": 40,
    "start_time": "2022-05-29T22:47:55.388Z"
   },
   {
    "duration": 2,
    "start_time": "2022-05-29T22:47:55.430Z"
   },
   {
    "duration": 5,
    "start_time": "2022-05-29T22:47:55.434Z"
   },
   {
    "duration": 5,
    "start_time": "2022-05-29T22:47:55.440Z"
   },
   {
    "duration": 14,
    "start_time": "2022-05-29T22:47:55.446Z"
   },
   {
    "duration": 3,
    "start_time": "2022-05-29T22:47:55.462Z"
   },
   {
    "duration": 9,
    "start_time": "2022-05-29T22:47:55.466Z"
   },
   {
    "duration": 6,
    "start_time": "2022-05-29T22:47:55.476Z"
   },
   {
    "duration": 19,
    "start_time": "2022-05-29T22:47:55.484Z"
   },
   {
    "duration": 11,
    "start_time": "2022-05-29T22:47:55.526Z"
   },
   {
    "duration": 5,
    "start_time": "2022-05-29T22:47:55.539Z"
   },
   {
    "duration": 7,
    "start_time": "2022-05-29T22:47:55.546Z"
   },
   {
    "duration": 6,
    "start_time": "2022-05-29T22:47:55.555Z"
   },
   {
    "duration": 9,
    "start_time": "2022-05-29T22:47:55.563Z"
   },
   {
    "duration": 6,
    "start_time": "2022-05-29T22:47:55.573Z"
   },
   {
    "duration": 6,
    "start_time": "2022-05-29T22:47:55.581Z"
   },
   {
    "duration": 14,
    "start_time": "2022-05-29T22:47:55.588Z"
   },
   {
    "duration": 23,
    "start_time": "2022-05-29T22:47:55.604Z"
   },
   {
    "duration": 7,
    "start_time": "2022-05-29T22:47:55.629Z"
   },
   {
    "duration": 15,
    "start_time": "2022-05-29T22:47:55.638Z"
   },
   {
    "duration": 13,
    "start_time": "2022-05-29T22:47:55.655Z"
   },
   {
    "duration": 8,
    "start_time": "2022-05-29T22:47:55.670Z"
   },
   {
    "duration": 20,
    "start_time": "2022-05-29T22:47:55.679Z"
   },
   {
    "duration": 27,
    "start_time": "2022-05-29T22:47:55.701Z"
   },
   {
    "duration": 5,
    "start_time": "2022-05-29T22:47:55.730Z"
   },
   {
    "duration": 7,
    "start_time": "2022-05-29T22:47:55.736Z"
   },
   {
    "duration": 4,
    "start_time": "2022-05-29T22:47:55.744Z"
   },
   {
    "duration": 2,
    "start_time": "2022-05-29T22:47:55.750Z"
   },
   {
    "duration": 30,
    "start_time": "2022-05-29T22:47:55.754Z"
   },
   {
    "duration": 8,
    "start_time": "2022-05-29T22:47:55.786Z"
   },
   {
    "duration": 7,
    "start_time": "2022-05-29T22:47:55.827Z"
   },
   {
    "duration": 2,
    "start_time": "2022-05-29T22:47:55.836Z"
   },
   {
    "duration": 4,
    "start_time": "2022-05-29T22:47:55.839Z"
   },
   {
    "duration": 73,
    "start_time": "2022-05-29T22:49:33.182Z"
   },
   {
    "duration": 8,
    "start_time": "2022-05-29T22:49:43.009Z"
   },
   {
    "duration": 8,
    "start_time": "2022-05-29T22:50:35.290Z"
   },
   {
    "duration": 57,
    "start_time": "2022-05-29T23:09:48.964Z"
   },
   {
    "duration": 34,
    "start_time": "2022-05-29T23:10:46.361Z"
   },
   {
    "duration": 14,
    "start_time": "2022-05-29T23:10:54.233Z"
   },
   {
    "duration": 15,
    "start_time": "2022-05-29T23:12:15.242Z"
   },
   {
    "duration": 20,
    "start_time": "2022-05-29T23:27:05.457Z"
   },
   {
    "duration": 20,
    "start_time": "2022-05-29T23:27:12.213Z"
   },
   {
    "duration": 19,
    "start_time": "2022-05-29T23:39:45.687Z"
   },
   {
    "duration": 21,
    "start_time": "2022-05-29T23:41:18.539Z"
   },
   {
    "duration": 7,
    "start_time": "2022-05-30T00:13:45.017Z"
   },
   {
    "duration": 7,
    "start_time": "2022-05-30T00:14:40.116Z"
   },
   {
    "duration": 3,
    "start_time": "2022-05-30T00:14:44.544Z"
   },
   {
    "duration": 7,
    "start_time": "2022-05-30T00:14:47.681Z"
   },
   {
    "duration": 8,
    "start_time": "2022-05-30T00:15:54.347Z"
   },
   {
    "duration": 6,
    "start_time": "2022-05-30T00:16:17.065Z"
   },
   {
    "duration": 9,
    "start_time": "2022-05-30T00:16:38.583Z"
   },
   {
    "duration": 6,
    "start_time": "2022-05-30T00:16:40.694Z"
   },
   {
    "duration": 7,
    "start_time": "2022-05-30T00:18:33.992Z"
   },
   {
    "duration": 7,
    "start_time": "2022-05-30T00:19:09.048Z"
   },
   {
    "duration": 7,
    "start_time": "2022-05-30T00:19:42.544Z"
   },
   {
    "duration": 48,
    "start_time": "2022-05-30T00:19:56.541Z"
   },
   {
    "duration": 25,
    "start_time": "2022-05-30T00:22:10.117Z"
   },
   {
    "duration": 15,
    "start_time": "2022-05-30T00:22:49.864Z"
   },
   {
    "duration": 18,
    "start_time": "2022-05-30T00:25:03.226Z"
   },
   {
    "duration": 15,
    "start_time": "2022-05-30T00:25:14.785Z"
   },
   {
    "duration": 18,
    "start_time": "2022-05-30T00:25:37.536Z"
   },
   {
    "duration": 17,
    "start_time": "2022-05-30T00:25:40.820Z"
   },
   {
    "duration": 4,
    "start_time": "2022-05-30T00:26:24.059Z"
   },
   {
    "duration": 493,
    "start_time": "2022-05-30T00:30:49.016Z"
   },
   {
    "duration": 43,
    "start_time": "2022-05-30T00:30:49.511Z"
   },
   {
    "duration": 13,
    "start_time": "2022-05-30T00:30:49.556Z"
   },
   {
    "duration": 16,
    "start_time": "2022-05-30T00:30:49.571Z"
   },
   {
    "duration": 4,
    "start_time": "2022-05-30T00:30:49.589Z"
   },
   {
    "duration": 14,
    "start_time": "2022-05-30T00:30:49.594Z"
   },
   {
    "duration": 14,
    "start_time": "2022-05-30T00:30:49.626Z"
   },
   {
    "duration": 11,
    "start_time": "2022-05-30T00:30:49.642Z"
   },
   {
    "duration": 22,
    "start_time": "2022-05-30T00:30:49.654Z"
   },
   {
    "duration": 49,
    "start_time": "2022-05-30T00:30:49.678Z"
   },
   {
    "duration": 22,
    "start_time": "2022-05-30T00:30:49.729Z"
   },
   {
    "duration": 18,
    "start_time": "2022-05-30T00:30:49.753Z"
   },
   {
    "duration": 7,
    "start_time": "2022-05-30T00:30:49.772Z"
   },
   {
    "duration": 13,
    "start_time": "2022-05-30T00:30:49.780Z"
   },
   {
    "duration": 34,
    "start_time": "2022-05-30T00:30:49.794Z"
   },
   {
    "duration": 6,
    "start_time": "2022-05-30T00:30:49.829Z"
   },
   {
    "duration": 3,
    "start_time": "2022-05-30T00:30:49.837Z"
   },
   {
    "duration": 10,
    "start_time": "2022-05-30T00:30:49.842Z"
   },
   {
    "duration": 5,
    "start_time": "2022-05-30T00:30:49.854Z"
   },
   {
    "duration": 7,
    "start_time": "2022-05-30T00:30:49.860Z"
   },
   {
    "duration": 10,
    "start_time": "2022-05-30T00:30:49.868Z"
   },
   {
    "duration": 3,
    "start_time": "2022-05-30T00:30:49.880Z"
   },
   {
    "duration": 48,
    "start_time": "2022-05-30T00:30:49.884Z"
   },
   {
    "duration": 7,
    "start_time": "2022-05-30T00:30:49.934Z"
   },
   {
    "duration": 6,
    "start_time": "2022-05-30T00:30:49.943Z"
   },
   {
    "duration": 8,
    "start_time": "2022-05-30T00:30:49.950Z"
   },
   {
    "duration": 14,
    "start_time": "2022-05-30T00:30:49.959Z"
   },
   {
    "duration": 6,
    "start_time": "2022-05-30T00:30:49.977Z"
   },
   {
    "duration": 7,
    "start_time": "2022-05-30T00:30:49.984Z"
   },
   {
    "duration": 35,
    "start_time": "2022-05-30T00:30:49.993Z"
   },
   {
    "duration": 12,
    "start_time": "2022-05-30T00:30:50.029Z"
   },
   {
    "duration": 23,
    "start_time": "2022-05-30T00:30:50.043Z"
   },
   {
    "duration": 27,
    "start_time": "2022-05-30T00:30:50.068Z"
   },
   {
    "duration": 30,
    "start_time": "2022-05-30T00:30:50.097Z"
   },
   {
    "duration": 18,
    "start_time": "2022-05-30T00:30:50.129Z"
   },
   {
    "duration": 17,
    "start_time": "2022-05-30T00:30:50.149Z"
   },
   {
    "duration": 4,
    "start_time": "2022-05-30T00:30:50.168Z"
   },
   {
    "duration": 93,
    "start_time": "2022-05-30T00:30:50.173Z"
   },
   {
    "duration": 0,
    "start_time": "2022-05-30T00:30:50.269Z"
   },
   {
    "duration": 0,
    "start_time": "2022-05-30T00:30:50.270Z"
   },
   {
    "duration": 0,
    "start_time": "2022-05-30T00:30:50.272Z"
   },
   {
    "duration": 0,
    "start_time": "2022-05-30T00:30:50.273Z"
   },
   {
    "duration": 1,
    "start_time": "2022-05-30T00:30:50.274Z"
   },
   {
    "duration": 0,
    "start_time": "2022-05-30T00:30:50.276Z"
   },
   {
    "duration": 0,
    "start_time": "2022-05-30T00:30:50.278Z"
   },
   {
    "duration": 0,
    "start_time": "2022-05-30T00:30:50.279Z"
   },
   {
    "duration": 0,
    "start_time": "2022-05-30T00:30:50.280Z"
   },
   {
    "duration": 0,
    "start_time": "2022-05-30T00:30:50.282Z"
   },
   {
    "duration": 0,
    "start_time": "2022-05-30T00:30:50.283Z"
   },
   {
    "duration": 0,
    "start_time": "2022-05-30T00:30:50.284Z"
   },
   {
    "duration": 0,
    "start_time": "2022-05-30T00:30:50.286Z"
   },
   {
    "duration": 0,
    "start_time": "2022-05-30T00:30:50.287Z"
   },
   {
    "duration": 0,
    "start_time": "2022-05-30T00:30:50.327Z"
   },
   {
    "duration": 0,
    "start_time": "2022-05-30T00:30:50.328Z"
   },
   {
    "duration": 0,
    "start_time": "2022-05-30T00:30:50.330Z"
   },
   {
    "duration": 0,
    "start_time": "2022-05-30T00:30:50.331Z"
   },
   {
    "duration": 0,
    "start_time": "2022-05-30T00:30:50.332Z"
   },
   {
    "duration": 0,
    "start_time": "2022-05-30T00:30:50.334Z"
   },
   {
    "duration": 0,
    "start_time": "2022-05-30T00:30:50.335Z"
   },
   {
    "duration": 0,
    "start_time": "2022-05-30T00:30:50.336Z"
   },
   {
    "duration": 0,
    "start_time": "2022-05-30T00:30:50.337Z"
   },
   {
    "duration": 0,
    "start_time": "2022-05-30T00:30:50.338Z"
   },
   {
    "duration": 0,
    "start_time": "2022-05-30T00:30:50.339Z"
   },
   {
    "duration": 0,
    "start_time": "2022-05-30T00:30:50.340Z"
   },
   {
    "duration": 0,
    "start_time": "2022-05-30T00:30:50.341Z"
   },
   {
    "duration": 0,
    "start_time": "2022-05-30T00:30:50.342Z"
   },
   {
    "duration": 0,
    "start_time": "2022-05-30T00:30:50.343Z"
   },
   {
    "duration": 0,
    "start_time": "2022-05-30T00:30:50.343Z"
   },
   {
    "duration": 0,
    "start_time": "2022-05-30T00:30:50.344Z"
   },
   {
    "duration": 0,
    "start_time": "2022-05-30T00:30:50.345Z"
   },
   {
    "duration": 0,
    "start_time": "2022-05-30T00:30:50.346Z"
   },
   {
    "duration": 0,
    "start_time": "2022-05-30T00:30:50.347Z"
   },
   {
    "duration": 0,
    "start_time": "2022-05-30T00:30:50.348Z"
   },
   {
    "duration": 0,
    "start_time": "2022-05-30T00:30:50.349Z"
   },
   {
    "duration": 0,
    "start_time": "2022-05-30T00:30:50.350Z"
   },
   {
    "duration": 0,
    "start_time": "2022-05-30T00:30:50.350Z"
   },
   {
    "duration": 0,
    "start_time": "2022-05-30T00:30:50.351Z"
   },
   {
    "duration": 0,
    "start_time": "2022-05-30T00:30:50.352Z"
   },
   {
    "duration": 0,
    "start_time": "2022-05-30T00:30:50.353Z"
   },
   {
    "duration": 0,
    "start_time": "2022-05-30T00:30:50.354Z"
   },
   {
    "duration": 0,
    "start_time": "2022-05-30T00:30:50.355Z"
   },
   {
    "duration": 0,
    "start_time": "2022-05-30T00:30:50.356Z"
   },
   {
    "duration": 0,
    "start_time": "2022-05-30T00:30:50.356Z"
   },
   {
    "duration": 0,
    "start_time": "2022-05-30T00:30:50.357Z"
   },
   {
    "duration": 0,
    "start_time": "2022-05-30T00:30:50.358Z"
   },
   {
    "duration": 0,
    "start_time": "2022-05-30T00:30:50.359Z"
   },
   {
    "duration": 0,
    "start_time": "2022-05-30T00:30:50.360Z"
   },
   {
    "duration": 0,
    "start_time": "2022-05-30T00:30:50.361Z"
   },
   {
    "duration": 0,
    "start_time": "2022-05-30T00:30:50.362Z"
   },
   {
    "duration": 0,
    "start_time": "2022-05-30T00:30:50.363Z"
   },
   {
    "duration": 0,
    "start_time": "2022-05-30T00:30:50.364Z"
   },
   {
    "duration": 0,
    "start_time": "2022-05-30T00:30:50.364Z"
   },
   {
    "duration": 0,
    "start_time": "2022-05-30T00:30:50.427Z"
   },
   {
    "duration": 0,
    "start_time": "2022-05-30T00:30:50.428Z"
   },
   {
    "duration": 0,
    "start_time": "2022-05-30T00:30:50.429Z"
   },
   {
    "duration": 0,
    "start_time": "2022-05-30T00:30:50.430Z"
   },
   {
    "duration": 0,
    "start_time": "2022-05-30T00:30:50.431Z"
   },
   {
    "duration": 0,
    "start_time": "2022-05-30T00:30:50.431Z"
   },
   {
    "duration": 0,
    "start_time": "2022-05-30T00:30:50.432Z"
   },
   {
    "duration": 0,
    "start_time": "2022-05-30T00:30:50.433Z"
   },
   {
    "duration": 0,
    "start_time": "2022-05-30T00:30:50.434Z"
   },
   {
    "duration": 0,
    "start_time": "2022-05-30T00:30:50.435Z"
   },
   {
    "duration": 0,
    "start_time": "2022-05-30T00:30:50.436Z"
   },
   {
    "duration": 0,
    "start_time": "2022-05-30T00:30:50.437Z"
   },
   {
    "duration": 0,
    "start_time": "2022-05-30T00:30:50.437Z"
   },
   {
    "duration": 0,
    "start_time": "2022-05-30T00:30:50.438Z"
   },
   {
    "duration": 0,
    "start_time": "2022-05-30T00:30:50.439Z"
   },
   {
    "duration": 16,
    "start_time": "2022-05-30T00:34:31.312Z"
   },
   {
    "duration": 468,
    "start_time": "2022-05-30T00:34:41.938Z"
   },
   {
    "duration": 37,
    "start_time": "2022-05-30T00:34:42.408Z"
   },
   {
    "duration": 11,
    "start_time": "2022-05-30T00:34:42.447Z"
   },
   {
    "duration": 19,
    "start_time": "2022-05-30T00:34:42.460Z"
   },
   {
    "duration": 4,
    "start_time": "2022-05-30T00:34:42.480Z"
   },
   {
    "duration": 13,
    "start_time": "2022-05-30T00:34:42.485Z"
   },
   {
    "duration": 30,
    "start_time": "2022-05-30T00:34:42.499Z"
   },
   {
    "duration": 11,
    "start_time": "2022-05-30T00:34:42.530Z"
   },
   {
    "duration": 19,
    "start_time": "2022-05-30T00:34:42.542Z"
   },
   {
    "duration": 21,
    "start_time": "2022-05-30T00:34:42.564Z"
   },
   {
    "duration": 48,
    "start_time": "2022-05-30T00:34:42.586Z"
   },
   {
    "duration": 22,
    "start_time": "2022-05-30T00:34:42.636Z"
   },
   {
    "duration": 7,
    "start_time": "2022-05-30T00:34:42.659Z"
   },
   {
    "duration": 11,
    "start_time": "2022-05-30T00:34:42.667Z"
   },
   {
    "duration": 8,
    "start_time": "2022-05-30T00:34:42.680Z"
   },
   {
    "duration": 8,
    "start_time": "2022-05-30T00:34:42.690Z"
   },
   {
    "duration": 28,
    "start_time": "2022-05-30T00:34:42.699Z"
   },
   {
    "duration": 9,
    "start_time": "2022-05-30T00:34:42.729Z"
   },
   {
    "duration": 15,
    "start_time": "2022-05-30T00:34:42.739Z"
   },
   {
    "duration": 15,
    "start_time": "2022-05-30T00:34:42.756Z"
   },
   {
    "duration": 14,
    "start_time": "2022-05-30T00:34:42.773Z"
   },
   {
    "duration": 4,
    "start_time": "2022-05-30T00:34:42.788Z"
   },
   {
    "duration": 11,
    "start_time": "2022-05-30T00:34:42.793Z"
   },
   {
    "duration": 8,
    "start_time": "2022-05-30T00:34:42.805Z"
   },
   {
    "duration": 5,
    "start_time": "2022-05-30T00:34:42.827Z"
   },
   {
    "duration": 10,
    "start_time": "2022-05-30T00:34:42.834Z"
   },
   {
    "duration": 5,
    "start_time": "2022-05-30T00:34:42.845Z"
   },
   {
    "duration": 5,
    "start_time": "2022-05-30T00:34:42.853Z"
   },
   {
    "duration": 8,
    "start_time": "2022-05-30T00:34:42.859Z"
   },
   {
    "duration": 8,
    "start_time": "2022-05-30T00:34:42.869Z"
   },
   {
    "duration": 12,
    "start_time": "2022-05-30T00:34:42.878Z"
   },
   {
    "duration": 45,
    "start_time": "2022-05-30T00:34:42.891Z"
   },
   {
    "duration": 28,
    "start_time": "2022-05-30T00:34:42.938Z"
   },
   {
    "duration": 14,
    "start_time": "2022-05-30T00:34:42.967Z"
   },
   {
    "duration": 16,
    "start_time": "2022-05-30T00:34:42.983Z"
   },
   {
    "duration": 39,
    "start_time": "2022-05-30T00:34:43.001Z"
   },
   {
    "duration": 3,
    "start_time": "2022-05-30T00:34:43.042Z"
   },
   {
    "duration": 66,
    "start_time": "2022-05-30T00:34:43.047Z"
   },
   {
    "duration": 0,
    "start_time": "2022-05-30T00:34:43.127Z"
   },
   {
    "duration": 0,
    "start_time": "2022-05-30T00:34:43.128Z"
   },
   {
    "duration": 0,
    "start_time": "2022-05-30T00:34:43.129Z"
   },
   {
    "duration": 0,
    "start_time": "2022-05-30T00:34:43.130Z"
   },
   {
    "duration": 0,
    "start_time": "2022-05-30T00:34:43.131Z"
   },
   {
    "duration": 0,
    "start_time": "2022-05-30T00:34:43.132Z"
   },
   {
    "duration": 0,
    "start_time": "2022-05-30T00:34:43.133Z"
   },
   {
    "duration": 0,
    "start_time": "2022-05-30T00:34:43.134Z"
   },
   {
    "duration": 0,
    "start_time": "2022-05-30T00:34:43.135Z"
   },
   {
    "duration": 0,
    "start_time": "2022-05-30T00:34:43.136Z"
   },
   {
    "duration": 0,
    "start_time": "2022-05-30T00:34:43.137Z"
   },
   {
    "duration": 0,
    "start_time": "2022-05-30T00:34:43.138Z"
   },
   {
    "duration": 1,
    "start_time": "2022-05-30T00:34:43.139Z"
   },
   {
    "duration": 0,
    "start_time": "2022-05-30T00:34:43.141Z"
   },
   {
    "duration": 0,
    "start_time": "2022-05-30T00:34:43.142Z"
   },
   {
    "duration": 0,
    "start_time": "2022-05-30T00:34:43.142Z"
   },
   {
    "duration": 0,
    "start_time": "2022-05-30T00:34:43.144Z"
   },
   {
    "duration": 0,
    "start_time": "2022-05-30T00:34:43.145Z"
   },
   {
    "duration": 0,
    "start_time": "2022-05-30T00:34:43.146Z"
   },
   {
    "duration": 0,
    "start_time": "2022-05-30T00:34:43.147Z"
   },
   {
    "duration": 0,
    "start_time": "2022-05-30T00:34:43.148Z"
   },
   {
    "duration": 0,
    "start_time": "2022-05-30T00:34:43.149Z"
   },
   {
    "duration": 0,
    "start_time": "2022-05-30T00:34:43.150Z"
   },
   {
    "duration": 0,
    "start_time": "2022-05-30T00:34:43.151Z"
   },
   {
    "duration": 0,
    "start_time": "2022-05-30T00:34:43.152Z"
   },
   {
    "duration": 0,
    "start_time": "2022-05-30T00:34:43.152Z"
   },
   {
    "duration": 0,
    "start_time": "2022-05-30T00:34:43.154Z"
   },
   {
    "duration": 0,
    "start_time": "2022-05-30T00:34:43.155Z"
   },
   {
    "duration": 0,
    "start_time": "2022-05-30T00:34:43.156Z"
   },
   {
    "duration": 0,
    "start_time": "2022-05-30T00:34:43.157Z"
   },
   {
    "duration": 0,
    "start_time": "2022-05-30T00:34:43.158Z"
   },
   {
    "duration": 0,
    "start_time": "2022-05-30T00:34:43.159Z"
   },
   {
    "duration": 0,
    "start_time": "2022-05-30T00:34:43.160Z"
   },
   {
    "duration": 0,
    "start_time": "2022-05-30T00:34:43.161Z"
   },
   {
    "duration": 0,
    "start_time": "2022-05-30T00:34:43.163Z"
   },
   {
    "duration": 0,
    "start_time": "2022-05-30T00:34:43.164Z"
   },
   {
    "duration": 0,
    "start_time": "2022-05-30T00:34:43.227Z"
   },
   {
    "duration": 0,
    "start_time": "2022-05-30T00:34:43.229Z"
   },
   {
    "duration": 0,
    "start_time": "2022-05-30T00:34:43.229Z"
   },
   {
    "duration": 0,
    "start_time": "2022-05-30T00:34:43.230Z"
   },
   {
    "duration": 0,
    "start_time": "2022-05-30T00:34:43.231Z"
   },
   {
    "duration": 0,
    "start_time": "2022-05-30T00:34:43.232Z"
   },
   {
    "duration": 0,
    "start_time": "2022-05-30T00:34:43.234Z"
   },
   {
    "duration": 0,
    "start_time": "2022-05-30T00:34:43.234Z"
   },
   {
    "duration": 0,
    "start_time": "2022-05-30T00:34:43.235Z"
   },
   {
    "duration": 0,
    "start_time": "2022-05-30T00:34:43.236Z"
   },
   {
    "duration": 0,
    "start_time": "2022-05-30T00:34:43.238Z"
   },
   {
    "duration": 0,
    "start_time": "2022-05-30T00:34:43.238Z"
   },
   {
    "duration": 0,
    "start_time": "2022-05-30T00:34:43.239Z"
   },
   {
    "duration": 0,
    "start_time": "2022-05-30T00:34:43.240Z"
   },
   {
    "duration": 0,
    "start_time": "2022-05-30T00:34:43.241Z"
   },
   {
    "duration": 0,
    "start_time": "2022-05-30T00:34:43.242Z"
   },
   {
    "duration": 0,
    "start_time": "2022-05-30T00:34:43.243Z"
   },
   {
    "duration": 0,
    "start_time": "2022-05-30T00:34:43.244Z"
   },
   {
    "duration": 0,
    "start_time": "2022-05-30T00:34:43.245Z"
   },
   {
    "duration": 0,
    "start_time": "2022-05-30T00:34:43.246Z"
   },
   {
    "duration": 0,
    "start_time": "2022-05-30T00:34:43.247Z"
   },
   {
    "duration": 0,
    "start_time": "2022-05-30T00:34:43.248Z"
   },
   {
    "duration": 0,
    "start_time": "2022-05-30T00:34:43.249Z"
   },
   {
    "duration": 0,
    "start_time": "2022-05-30T00:34:43.250Z"
   },
   {
    "duration": 0,
    "start_time": "2022-05-30T00:34:43.250Z"
   },
   {
    "duration": 0,
    "start_time": "2022-05-30T00:34:43.251Z"
   },
   {
    "duration": 0,
    "start_time": "2022-05-30T00:34:43.252Z"
   },
   {
    "duration": 0,
    "start_time": "2022-05-30T00:34:43.253Z"
   },
   {
    "duration": 0,
    "start_time": "2022-05-30T00:34:43.254Z"
   },
   {
    "duration": 0,
    "start_time": "2022-05-30T00:34:43.255Z"
   },
   {
    "duration": 0,
    "start_time": "2022-05-30T00:34:43.256Z"
   },
   {
    "duration": 0,
    "start_time": "2022-05-30T00:34:43.256Z"
   },
   {
    "duration": 0,
    "start_time": "2022-05-30T00:34:43.257Z"
   },
   {
    "duration": 4,
    "start_time": "2022-05-30T00:37:39.283Z"
   },
   {
    "duration": 34,
    "start_time": "2022-05-30T00:38:54.131Z"
   },
   {
    "duration": 40,
    "start_time": "2022-05-30T00:39:00.345Z"
   },
   {
    "duration": 41,
    "start_time": "2022-05-30T00:39:04.650Z"
   },
   {
    "duration": 35,
    "start_time": "2022-05-30T00:46:30.892Z"
   },
   {
    "duration": 49,
    "start_time": "2022-05-30T00:46:51.233Z"
   },
   {
    "duration": 44,
    "start_time": "2022-05-30T00:47:10.981Z"
   },
   {
    "duration": 43,
    "start_time": "2022-05-30T00:47:58.713Z"
   },
   {
    "duration": 3,
    "start_time": "2022-05-30T00:58:43.280Z"
   },
   {
    "duration": 3,
    "start_time": "2022-05-30T00:58:45.088Z"
   },
   {
    "duration": 12,
    "start_time": "2022-05-30T00:58:53.577Z"
   },
   {
    "duration": 12,
    "start_time": "2022-05-30T00:59:40.026Z"
   },
   {
    "duration": 17,
    "start_time": "2022-05-30T00:59:50.084Z"
   },
   {
    "duration": 19,
    "start_time": "2022-05-30T00:59:57.056Z"
   },
   {
    "duration": 7,
    "start_time": "2022-05-30T02:41:20.404Z"
   },
   {
    "duration": 46,
    "start_time": "2022-05-30T02:41:24.912Z"
   },
   {
    "duration": 8,
    "start_time": "2022-05-30T02:42:00.462Z"
   },
   {
    "duration": 7,
    "start_time": "2022-05-30T02:42:04.005Z"
   },
   {
    "duration": 7,
    "start_time": "2022-05-30T02:42:09.962Z"
   },
   {
    "duration": 9,
    "start_time": "2022-05-30T02:42:10.061Z"
   },
   {
    "duration": 9,
    "start_time": "2022-05-30T02:42:14.962Z"
   },
   {
    "duration": 9,
    "start_time": "2022-05-30T02:42:17.866Z"
   },
   {
    "duration": 9,
    "start_time": "2022-05-30T02:42:23.417Z"
   },
   {
    "duration": 7,
    "start_time": "2022-05-30T02:42:27.172Z"
   },
   {
    "duration": 10,
    "start_time": "2022-05-30T02:42:31.853Z"
   },
   {
    "duration": 10,
    "start_time": "2022-05-30T02:42:35.054Z"
   },
   {
    "duration": 14,
    "start_time": "2022-05-30T02:47:19.748Z"
   },
   {
    "duration": 7,
    "start_time": "2022-05-30T02:47:29.105Z"
   },
   {
    "duration": 5,
    "start_time": "2022-05-30T02:47:37.158Z"
   },
   {
    "duration": 26,
    "start_time": "2022-05-30T02:47:43.412Z"
   },
   {
    "duration": 9,
    "start_time": "2022-05-30T02:49:23.240Z"
   },
   {
    "duration": 18,
    "start_time": "2022-05-30T02:50:16.028Z"
   },
   {
    "duration": 3,
    "start_time": "2022-05-30T02:52:45.954Z"
   },
   {
    "duration": 7,
    "start_time": "2022-05-30T02:56:26.964Z"
   },
   {
    "duration": 7,
    "start_time": "2022-05-30T02:56:31.969Z"
   },
   {
    "duration": 8,
    "start_time": "2022-05-30T02:56:53.356Z"
   },
   {
    "duration": 7,
    "start_time": "2022-05-30T02:56:57.268Z"
   },
   {
    "duration": 10,
    "start_time": "2022-05-30T02:57:04.649Z"
   },
   {
    "duration": 9,
    "start_time": "2022-05-30T02:57:08.967Z"
   },
   {
    "duration": 8,
    "start_time": "2022-05-30T02:57:12.468Z"
   },
   {
    "duration": 8,
    "start_time": "2022-05-30T02:57:21.356Z"
   },
   {
    "duration": 13,
    "start_time": "2022-05-30T03:02:37.022Z"
   },
   {
    "duration": 4,
    "start_time": "2022-05-30T03:02:40.209Z"
   },
   {
    "duration": 6,
    "start_time": "2022-05-30T03:02:49.079Z"
   },
   {
    "duration": 16,
    "start_time": "2022-05-30T03:02:58.027Z"
   },
   {
    "duration": 8,
    "start_time": "2022-05-30T03:03:32.771Z"
   },
   {
    "duration": 21,
    "start_time": "2022-05-30T03:03:52.054Z"
   },
   {
    "duration": 24,
    "start_time": "2022-05-30T03:07:33.223Z"
   },
   {
    "duration": 5,
    "start_time": "2022-05-30T03:08:49.795Z"
   },
   {
    "duration": 5,
    "start_time": "2022-05-30T03:10:58.219Z"
   },
   {
    "duration": 4,
    "start_time": "2022-05-30T03:11:09.507Z"
   },
   {
    "duration": 5,
    "start_time": "2022-05-30T03:11:11.249Z"
   },
   {
    "duration": 9,
    "start_time": "2022-05-30T03:11:37.526Z"
   },
   {
    "duration": 209,
    "start_time": "2022-05-30T03:12:31.518Z"
   },
   {
    "duration": 39,
    "start_time": "2022-05-30T03:12:54.683Z"
   },
   {
    "duration": 6,
    "start_time": "2022-05-30T03:12:58.628Z"
   },
   {
    "duration": 6,
    "start_time": "2022-05-30T03:13:12.765Z"
   },
   {
    "duration": 3,
    "start_time": "2022-05-30T03:15:41.342Z"
   },
   {
    "duration": 9,
    "start_time": "2022-05-30T03:15:42.655Z"
   },
   {
    "duration": 6,
    "start_time": "2022-05-30T03:15:53.398Z"
   },
   {
    "duration": 8,
    "start_time": "2022-05-30T03:15:57.410Z"
   },
   {
    "duration": 7,
    "start_time": "2022-05-30T03:16:04.704Z"
   },
   {
    "duration": 15,
    "start_time": "2022-05-30T03:16:08.901Z"
   },
   {
    "duration": 8,
    "start_time": "2022-05-30T03:16:22.224Z"
   },
   {
    "duration": 5,
    "start_time": "2022-05-30T03:16:26.273Z"
   },
   {
    "duration": 6,
    "start_time": "2022-05-30T03:16:28.314Z"
   },
   {
    "duration": 5,
    "start_time": "2022-05-30T03:16:30.397Z"
   },
   {
    "duration": 3,
    "start_time": "2022-05-30T03:16:41.504Z"
   },
   {
    "duration": 22,
    "start_time": "2022-05-30T03:16:43.821Z"
   },
   {
    "duration": 3,
    "start_time": "2022-05-30T03:24:35.882Z"
   },
   {
    "duration": 22,
    "start_time": "2022-05-30T03:24:39.662Z"
   },
   {
    "duration": 7,
    "start_time": "2022-05-30T03:25:02.481Z"
   },
   {
    "duration": 8,
    "start_time": "2022-05-30T03:26:36.108Z"
   },
   {
    "duration": 8,
    "start_time": "2022-05-30T03:28:20.467Z"
   },
   {
    "duration": 11,
    "start_time": "2022-05-30T03:30:53.190Z"
   },
   {
    "duration": 589,
    "start_time": "2022-05-30T17:11:56.846Z"
   },
   {
    "duration": 41,
    "start_time": "2022-05-30T17:11:57.437Z"
   },
   {
    "duration": 12,
    "start_time": "2022-05-30T17:11:57.480Z"
   },
   {
    "duration": 18,
    "start_time": "2022-05-30T17:11:57.494Z"
   },
   {
    "duration": 15,
    "start_time": "2022-05-30T17:11:57.513Z"
   },
   {
    "duration": 24,
    "start_time": "2022-05-30T17:11:57.529Z"
   },
   {
    "duration": 24,
    "start_time": "2022-05-30T17:11:57.558Z"
   },
   {
    "duration": 13,
    "start_time": "2022-05-30T17:11:57.583Z"
   },
   {
    "duration": 24,
    "start_time": "2022-05-30T17:11:57.598Z"
   },
   {
    "duration": 26,
    "start_time": "2022-05-30T17:11:57.624Z"
   },
   {
    "duration": 21,
    "start_time": "2022-05-30T17:11:57.652Z"
   },
   {
    "duration": 29,
    "start_time": "2022-05-30T17:11:57.675Z"
   },
   {
    "duration": 7,
    "start_time": "2022-05-30T17:11:57.706Z"
   },
   {
    "duration": 23,
    "start_time": "2022-05-30T17:11:57.714Z"
   },
   {
    "duration": 14,
    "start_time": "2022-05-30T17:11:57.739Z"
   },
   {
    "duration": 9,
    "start_time": "2022-05-30T17:11:57.755Z"
   },
   {
    "duration": 4,
    "start_time": "2022-05-30T17:11:57.765Z"
   },
   {
    "duration": 13,
    "start_time": "2022-05-30T17:11:57.770Z"
   },
   {
    "duration": 10,
    "start_time": "2022-05-30T17:11:57.785Z"
   },
   {
    "duration": 8,
    "start_time": "2022-05-30T17:11:57.797Z"
   },
   {
    "duration": 27,
    "start_time": "2022-05-30T17:11:57.807Z"
   },
   {
    "duration": 3,
    "start_time": "2022-05-30T17:11:57.835Z"
   },
   {
    "duration": 12,
    "start_time": "2022-05-30T17:11:57.840Z"
   },
   {
    "duration": 8,
    "start_time": "2022-05-30T17:11:57.853Z"
   },
   {
    "duration": 14,
    "start_time": "2022-05-30T17:11:57.863Z"
   },
   {
    "duration": 14,
    "start_time": "2022-05-30T17:11:57.878Z"
   },
   {
    "duration": 7,
    "start_time": "2022-05-30T17:11:57.893Z"
   },
   {
    "duration": 23,
    "start_time": "2022-05-30T17:11:57.904Z"
   },
   {
    "duration": 12,
    "start_time": "2022-05-30T17:11:57.928Z"
   },
   {
    "duration": 16,
    "start_time": "2022-05-30T17:11:57.942Z"
   },
   {
    "duration": 13,
    "start_time": "2022-05-30T17:11:57.959Z"
   },
   {
    "duration": 20,
    "start_time": "2022-05-30T17:11:57.973Z"
   },
   {
    "duration": 44,
    "start_time": "2022-05-30T17:11:57.995Z"
   },
   {
    "duration": 16,
    "start_time": "2022-05-30T17:11:58.041Z"
   },
   {
    "duration": 20,
    "start_time": "2022-05-30T17:11:58.059Z"
   },
   {
    "duration": 20,
    "start_time": "2022-05-30T17:11:58.080Z"
   },
   {
    "duration": 4,
    "start_time": "2022-05-30T17:11:58.127Z"
   },
   {
    "duration": 10,
    "start_time": "2022-05-30T17:11:58.133Z"
   },
   {
    "duration": 50,
    "start_time": "2022-05-30T17:11:58.144Z"
   },
   {
    "duration": 57,
    "start_time": "2022-05-30T17:11:58.196Z"
   },
   {
    "duration": 3,
    "start_time": "2022-05-30T17:11:58.255Z"
   },
   {
    "duration": 11,
    "start_time": "2022-05-30T17:11:58.259Z"
   },
   {
    "duration": 23,
    "start_time": "2022-05-30T17:11:58.271Z"
   },
   {
    "duration": 7,
    "start_time": "2022-05-30T17:11:58.296Z"
   },
   {
    "duration": 40,
    "start_time": "2022-05-30T17:11:58.326Z"
   },
   {
    "duration": 8,
    "start_time": "2022-05-30T17:11:58.368Z"
   },
   {
    "duration": 11,
    "start_time": "2022-05-30T17:11:58.377Z"
   },
   {
    "duration": 13,
    "start_time": "2022-05-30T17:11:58.390Z"
   },
   {
    "duration": 8,
    "start_time": "2022-05-30T17:11:58.426Z"
   },
   {
    "duration": 11,
    "start_time": "2022-05-30T17:11:58.436Z"
   },
   {
    "duration": 9,
    "start_time": "2022-05-30T17:11:58.449Z"
   },
   {
    "duration": 7,
    "start_time": "2022-05-30T17:11:58.460Z"
   },
   {
    "duration": 7,
    "start_time": "2022-05-30T17:11:58.469Z"
   },
   {
    "duration": 19,
    "start_time": "2022-05-30T17:11:58.478Z"
   },
   {
    "duration": 35,
    "start_time": "2022-05-30T17:11:58.499Z"
   },
   {
    "duration": 13,
    "start_time": "2022-05-30T17:11:58.536Z"
   },
   {
    "duration": 8,
    "start_time": "2022-05-30T17:11:58.551Z"
   },
   {
    "duration": 11,
    "start_time": "2022-05-30T17:11:58.561Z"
   },
   {
    "duration": 52,
    "start_time": "2022-05-30T17:11:58.574Z"
   },
   {
    "duration": 8,
    "start_time": "2022-05-30T17:11:58.628Z"
   },
   {
    "duration": 11,
    "start_time": "2022-05-30T17:11:58.637Z"
   },
   {
    "duration": 8,
    "start_time": "2022-05-30T17:11:58.650Z"
   },
   {
    "duration": 9,
    "start_time": "2022-05-30T17:11:58.659Z"
   },
   {
    "duration": 8,
    "start_time": "2022-05-30T17:11:58.669Z"
   },
   {
    "duration": 9,
    "start_time": "2022-05-30T17:11:58.679Z"
   },
   {
    "duration": 39,
    "start_time": "2022-05-30T17:11:58.690Z"
   },
   {
    "duration": 7,
    "start_time": "2022-05-30T17:11:58.731Z"
   },
   {
    "duration": 14,
    "start_time": "2022-05-30T17:11:58.739Z"
   },
   {
    "duration": 3,
    "start_time": "2022-05-30T17:11:58.755Z"
   },
   {
    "duration": 9,
    "start_time": "2022-05-30T17:11:58.760Z"
   },
   {
    "duration": 26,
    "start_time": "2022-05-30T17:11:58.771Z"
   },
   {
    "duration": 38,
    "start_time": "2022-05-30T17:11:58.799Z"
   },
   {
    "duration": 8,
    "start_time": "2022-05-30T17:11:58.840Z"
   },
   {
    "duration": 13,
    "start_time": "2022-05-30T17:11:58.850Z"
   },
   {
    "duration": 11,
    "start_time": "2022-05-30T17:11:58.866Z"
   },
   {
    "duration": 8,
    "start_time": "2022-05-30T17:11:58.878Z"
   },
   {
    "duration": 14,
    "start_time": "2022-05-30T17:11:58.888Z"
   },
   {
    "duration": 24,
    "start_time": "2022-05-30T17:11:58.904Z"
   },
   {
    "duration": 20,
    "start_time": "2022-05-30T17:11:58.929Z"
   },
   {
    "duration": 7,
    "start_time": "2022-05-30T17:11:58.951Z"
   },
   {
    "duration": 12,
    "start_time": "2022-05-30T17:11:58.960Z"
   },
   {
    "duration": 16,
    "start_time": "2022-05-30T17:11:58.978Z"
   },
   {
    "duration": 30,
    "start_time": "2022-05-30T17:11:58.996Z"
   },
   {
    "duration": 4,
    "start_time": "2022-05-30T17:11:59.028Z"
   },
   {
    "duration": 12,
    "start_time": "2022-05-30T17:11:59.034Z"
   },
   {
    "duration": 9,
    "start_time": "2022-05-30T17:11:59.048Z"
   },
   {
    "duration": 7,
    "start_time": "2022-05-30T17:11:59.059Z"
   },
   {
    "duration": 29,
    "start_time": "2022-05-30T17:11:59.067Z"
   },
   {
    "duration": 29,
    "start_time": "2022-05-30T17:11:59.098Z"
   },
   {
    "duration": 8,
    "start_time": "2022-05-30T17:11:59.129Z"
   },
   {
    "duration": 8,
    "start_time": "2022-05-30T17:11:59.139Z"
   },
   {
    "duration": 9,
    "start_time": "2022-05-30T17:11:59.148Z"
   },
   {
    "duration": 494,
    "start_time": "2022-05-30T17:58:55.299Z"
   },
   {
    "duration": 61,
    "start_time": "2022-05-30T17:58:55.796Z"
   },
   {
    "duration": 17,
    "start_time": "2022-05-30T17:58:55.859Z"
   },
   {
    "duration": 22,
    "start_time": "2022-05-30T17:58:55.879Z"
   },
   {
    "duration": 12,
    "start_time": "2022-05-30T17:58:55.903Z"
   },
   {
    "duration": 14,
    "start_time": "2022-05-30T17:58:55.938Z"
   },
   {
    "duration": 13,
    "start_time": "2022-05-30T17:58:55.954Z"
   },
   {
    "duration": 15,
    "start_time": "2022-05-30T17:58:55.968Z"
   },
   {
    "duration": 19,
    "start_time": "2022-05-30T17:58:55.984Z"
   },
   {
    "duration": 48,
    "start_time": "2022-05-30T17:58:56.006Z"
   },
   {
    "duration": 21,
    "start_time": "2022-05-30T17:58:56.056Z"
   },
   {
    "duration": 19,
    "start_time": "2022-05-30T17:58:56.078Z"
   },
   {
    "duration": 6,
    "start_time": "2022-05-30T17:58:56.099Z"
   },
   {
    "duration": 10,
    "start_time": "2022-05-30T17:58:56.137Z"
   },
   {
    "duration": 10,
    "start_time": "2022-05-30T17:58:56.149Z"
   },
   {
    "duration": 20,
    "start_time": "2022-05-30T17:58:56.160Z"
   },
   {
    "duration": 6,
    "start_time": "2022-05-30T17:58:56.182Z"
   },
   {
    "duration": 9,
    "start_time": "2022-05-30T17:58:56.189Z"
   },
   {
    "duration": 4,
    "start_time": "2022-05-30T17:58:56.200Z"
   },
   {
    "duration": 9,
    "start_time": "2022-05-30T17:58:56.206Z"
   },
   {
    "duration": 25,
    "start_time": "2022-05-30T17:58:56.217Z"
   },
   {
    "duration": 5,
    "start_time": "2022-05-30T17:58:56.244Z"
   },
   {
    "duration": 17,
    "start_time": "2022-05-30T17:58:56.251Z"
   },
   {
    "duration": 11,
    "start_time": "2022-05-30T17:58:56.270Z"
   },
   {
    "duration": 6,
    "start_time": "2022-05-30T17:58:56.283Z"
   },
   {
    "duration": 9,
    "start_time": "2022-05-30T17:58:56.291Z"
   },
   {
    "duration": 9,
    "start_time": "2022-05-30T17:58:56.333Z"
   },
   {
    "duration": 8,
    "start_time": "2022-05-30T17:58:56.350Z"
   },
   {
    "duration": 21,
    "start_time": "2022-05-30T17:58:56.359Z"
   },
   {
    "duration": 9,
    "start_time": "2022-05-30T17:58:56.382Z"
   },
   {
    "duration": 14,
    "start_time": "2022-05-30T17:58:56.393Z"
   },
   {
    "duration": 10,
    "start_time": "2022-05-30T17:58:56.409Z"
   },
   {
    "duration": 25,
    "start_time": "2022-05-30T17:58:56.431Z"
   },
   {
    "duration": 28,
    "start_time": "2022-05-30T17:58:56.457Z"
   },
   {
    "duration": 15,
    "start_time": "2022-05-30T17:58:56.487Z"
   },
   {
    "duration": 46,
    "start_time": "2022-05-30T17:58:56.504Z"
   },
   {
    "duration": 17,
    "start_time": "2022-05-30T17:58:56.552Z"
   },
   {
    "duration": 4,
    "start_time": "2022-05-30T17:58:56.570Z"
   },
   {
    "duration": 6,
    "start_time": "2022-05-30T17:58:56.575Z"
   },
   {
    "duration": 75,
    "start_time": "2022-05-30T17:58:56.582Z"
   },
   {
    "duration": 42,
    "start_time": "2022-05-30T17:58:56.659Z"
   },
   {
    "duration": 3,
    "start_time": "2022-05-30T17:58:56.704Z"
   },
   {
    "duration": 36,
    "start_time": "2022-05-30T17:58:56.709Z"
   },
   {
    "duration": 34,
    "start_time": "2022-05-30T17:58:56.747Z"
   },
   {
    "duration": 7,
    "start_time": "2022-05-30T17:58:56.783Z"
   },
   {
    "duration": 61,
    "start_time": "2022-05-30T17:58:56.792Z"
   },
   {
    "duration": 8,
    "start_time": "2022-05-30T17:58:56.855Z"
   },
   {
    "duration": 11,
    "start_time": "2022-05-30T17:58:56.864Z"
   },
   {
    "duration": 7,
    "start_time": "2022-05-30T17:58:56.876Z"
   },
   {
    "duration": 7,
    "start_time": "2022-05-30T17:58:56.884Z"
   },
   {
    "duration": 45,
    "start_time": "2022-05-30T17:58:56.892Z"
   },
   {
    "duration": 8,
    "start_time": "2022-05-30T17:58:56.943Z"
   },
   {
    "duration": 7,
    "start_time": "2022-05-30T17:58:56.952Z"
   },
   {
    "duration": 11,
    "start_time": "2022-05-30T17:58:56.960Z"
   },
   {
    "duration": 7,
    "start_time": "2022-05-30T17:58:56.973Z"
   },
   {
    "duration": 11,
    "start_time": "2022-05-30T17:58:56.981Z"
   },
   {
    "duration": 51,
    "start_time": "2022-05-30T17:58:56.993Z"
   },
   {
    "duration": 9,
    "start_time": "2022-05-30T17:58:57.046Z"
   },
   {
    "duration": 6,
    "start_time": "2022-05-30T17:58:57.057Z"
   },
   {
    "duration": 19,
    "start_time": "2022-05-30T17:58:57.064Z"
   },
   {
    "duration": 7,
    "start_time": "2022-05-30T17:58:57.084Z"
   },
   {
    "duration": 11,
    "start_time": "2022-05-30T17:58:57.093Z"
   },
   {
    "duration": 34,
    "start_time": "2022-05-30T17:58:57.106Z"
   },
   {
    "duration": 9,
    "start_time": "2022-05-30T17:58:57.142Z"
   },
   {
    "duration": 7,
    "start_time": "2022-05-30T17:58:57.152Z"
   },
   {
    "duration": 15,
    "start_time": "2022-05-30T17:58:57.160Z"
   },
   {
    "duration": 6,
    "start_time": "2022-05-30T17:58:57.177Z"
   },
   {
    "duration": 6,
    "start_time": "2022-05-30T17:58:57.185Z"
   },
   {
    "duration": 54,
    "start_time": "2022-05-30T17:58:57.192Z"
   },
   {
    "duration": 4,
    "start_time": "2022-05-30T17:58:57.248Z"
   },
   {
    "duration": 7,
    "start_time": "2022-05-30T17:58:57.253Z"
   },
   {
    "duration": 14,
    "start_time": "2022-05-30T17:58:57.262Z"
   },
   {
    "duration": 11,
    "start_time": "2022-05-30T17:58:57.278Z"
   },
   {
    "duration": 48,
    "start_time": "2022-05-30T17:58:57.290Z"
   },
   {
    "duration": 12,
    "start_time": "2022-05-30T17:58:57.340Z"
   },
   {
    "duration": 7,
    "start_time": "2022-05-30T17:58:57.354Z"
   },
   {
    "duration": 9,
    "start_time": "2022-05-30T17:58:57.362Z"
   },
   {
    "duration": 11,
    "start_time": "2022-05-30T17:58:57.372Z"
   },
   {
    "duration": 8,
    "start_time": "2022-05-30T17:58:57.384Z"
   },
   {
    "duration": 13,
    "start_time": "2022-05-30T17:58:57.394Z"
   },
   {
    "duration": 37,
    "start_time": "2022-05-30T17:58:57.409Z"
   },
   {
    "duration": 7,
    "start_time": "2022-05-30T17:58:57.451Z"
   },
   {
    "duration": 18,
    "start_time": "2022-05-30T17:58:57.459Z"
   },
   {
    "duration": 10,
    "start_time": "2022-05-30T17:58:57.479Z"
   },
   {
    "duration": 4,
    "start_time": "2022-05-30T17:58:57.490Z"
   },
   {
    "duration": 7,
    "start_time": "2022-05-30T17:58:57.496Z"
   },
   {
    "duration": 8,
    "start_time": "2022-05-30T17:58:57.505Z"
   },
   {
    "duration": 8,
    "start_time": "2022-05-30T17:58:57.514Z"
   },
   {
    "duration": 29,
    "start_time": "2022-05-30T17:58:57.538Z"
   },
   {
    "duration": 12,
    "start_time": "2022-05-30T17:58:57.569Z"
   },
   {
    "duration": 7,
    "start_time": "2022-05-30T17:58:57.583Z"
   },
   {
    "duration": 8,
    "start_time": "2022-05-30T17:58:57.591Z"
   },
   {
    "duration": 7,
    "start_time": "2022-05-30T17:58:57.601Z"
   },
   {
    "duration": 12,
    "start_time": "2022-05-30T18:01:42.047Z"
   },
   {
    "duration": 7,
    "start_time": "2022-05-30T18:01:57.213Z"
   },
   {
    "duration": 14,
    "start_time": "2022-05-31T03:41:16.100Z"
   },
   {
    "duration": 17,
    "start_time": "2022-05-31T03:41:27.148Z"
   },
   {
    "duration": 14,
    "start_time": "2022-05-31T03:43:20.645Z"
   },
   {
    "duration": 20,
    "start_time": "2022-05-31T03:43:25.557Z"
   },
   {
    "duration": 19,
    "start_time": "2022-05-31T03:45:47.348Z"
   },
   {
    "duration": 19,
    "start_time": "2022-05-31T03:49:16.400Z"
   },
   {
    "duration": 21,
    "start_time": "2022-05-31T03:52:47.829Z"
   },
   {
    "duration": 20,
    "start_time": "2022-05-31T03:58:12.295Z"
   },
   {
    "duration": 21,
    "start_time": "2022-05-31T03:59:31.809Z"
   },
   {
    "duration": 20,
    "start_time": "2022-05-31T04:00:42.907Z"
   },
   {
    "duration": 21,
    "start_time": "2022-05-31T04:01:15.869Z"
   },
   {
    "duration": 441,
    "start_time": "2022-05-31T04:06:01.140Z"
   },
   {
    "duration": 38,
    "start_time": "2022-05-31T04:06:01.583Z"
   },
   {
    "duration": 12,
    "start_time": "2022-05-31T04:06:01.622Z"
   },
   {
    "duration": 19,
    "start_time": "2022-05-31T04:06:01.636Z"
   },
   {
    "duration": 6,
    "start_time": "2022-05-31T04:06:01.656Z"
   },
   {
    "duration": 33,
    "start_time": "2022-05-31T04:06:01.663Z"
   },
   {
    "duration": 14,
    "start_time": "2022-05-31T04:06:01.698Z"
   },
   {
    "duration": 10,
    "start_time": "2022-05-31T04:06:01.714Z"
   },
   {
    "duration": 20,
    "start_time": "2022-05-31T04:06:01.726Z"
   },
   {
    "duration": 44,
    "start_time": "2022-05-31T04:06:01.748Z"
   },
   {
    "duration": 24,
    "start_time": "2022-05-31T04:06:01.794Z"
   },
   {
    "duration": 21,
    "start_time": "2022-05-31T04:06:01.820Z"
   },
   {
    "duration": 20,
    "start_time": "2022-05-31T04:06:01.843Z"
   },
   {
    "duration": 26,
    "start_time": "2022-05-31T04:06:01.870Z"
   },
   {
    "duration": 13,
    "start_time": "2022-05-31T04:06:01.897Z"
   },
   {
    "duration": 7,
    "start_time": "2022-05-31T04:06:01.912Z"
   },
   {
    "duration": 7,
    "start_time": "2022-05-31T04:06:01.920Z"
   },
   {
    "duration": 11,
    "start_time": "2022-05-31T04:06:01.929Z"
   },
   {
    "duration": 8,
    "start_time": "2022-05-31T04:06:01.941Z"
   },
   {
    "duration": 14,
    "start_time": "2022-05-31T04:06:01.951Z"
   },
   {
    "duration": 34,
    "start_time": "2022-05-31T04:06:01.967Z"
   },
   {
    "duration": 5,
    "start_time": "2022-05-31T04:06:02.003Z"
   },
   {
    "duration": 15,
    "start_time": "2022-05-31T04:06:02.010Z"
   },
   {
    "duration": 10,
    "start_time": "2022-05-31T04:06:02.027Z"
   },
   {
    "duration": 11,
    "start_time": "2022-05-31T04:06:02.039Z"
   },
   {
    "duration": 9,
    "start_time": "2022-05-31T04:06:02.052Z"
   },
   {
    "duration": 34,
    "start_time": "2022-05-31T04:06:02.063Z"
   },
   {
    "duration": 8,
    "start_time": "2022-05-31T04:06:02.104Z"
   },
   {
    "duration": 8,
    "start_time": "2022-05-31T04:06:02.114Z"
   },
   {
    "duration": 10,
    "start_time": "2022-05-31T04:06:02.123Z"
   },
   {
    "duration": 8,
    "start_time": "2022-05-31T04:06:02.135Z"
   },
   {
    "duration": 9,
    "start_time": "2022-05-31T04:06:02.144Z"
   },
   {
    "duration": 9,
    "start_time": "2022-05-31T04:06:02.154Z"
   },
   {
    "duration": 44,
    "start_time": "2022-05-31T04:06:02.165Z"
   },
   {
    "duration": 26,
    "start_time": "2022-05-31T04:06:02.210Z"
   },
   {
    "duration": 14,
    "start_time": "2022-05-31T04:06:02.238Z"
   },
   {
    "duration": 38,
    "start_time": "2022-05-31T04:06:02.254Z"
   },
   {
    "duration": 16,
    "start_time": "2022-05-31T04:06:02.293Z"
   },
   {
    "duration": 3,
    "start_time": "2022-05-31T04:06:02.311Z"
   },
   {
    "duration": 7,
    "start_time": "2022-05-31T04:06:02.316Z"
   },
   {
    "duration": 68,
    "start_time": "2022-05-31T04:06:02.324Z"
   },
   {
    "duration": 43,
    "start_time": "2022-05-31T04:06:02.393Z"
   },
   {
    "duration": 3,
    "start_time": "2022-05-31T04:06:02.438Z"
   },
   {
    "duration": 9,
    "start_time": "2022-05-31T04:06:02.443Z"
   },
   {
    "duration": 42,
    "start_time": "2022-05-31T04:06:02.453Z"
   },
   {
    "duration": 7,
    "start_time": "2022-05-31T04:06:02.497Z"
   },
   {
    "duration": 32,
    "start_time": "2022-05-31T04:06:02.505Z"
   },
   {
    "duration": 18,
    "start_time": "2022-05-31T04:06:02.539Z"
   },
   {
    "duration": 48,
    "start_time": "2022-05-31T04:06:02.559Z"
   },
   {
    "duration": 29,
    "start_time": "2022-05-31T04:06:02.608Z"
   },
   {
    "duration": 28,
    "start_time": "2022-05-31T04:06:02.639Z"
   },
   {
    "duration": 31,
    "start_time": "2022-05-31T04:06:02.691Z"
   },
   {
    "duration": 15,
    "start_time": "2022-05-31T04:06:02.724Z"
   },
   {
    "duration": 7,
    "start_time": "2022-05-31T04:06:02.740Z"
   },
   {
    "duration": 12,
    "start_time": "2022-05-31T04:06:02.749Z"
   },
   {
    "duration": 37,
    "start_time": "2022-05-31T04:06:02.763Z"
   },
   {
    "duration": 29,
    "start_time": "2022-05-31T04:06:02.801Z"
   },
   {
    "duration": 25,
    "start_time": "2022-05-31T04:06:02.832Z"
   },
   {
    "duration": 54,
    "start_time": "2022-05-31T04:06:02.859Z"
   },
   {
    "duration": 26,
    "start_time": "2022-05-31T04:06:02.915Z"
   },
   {
    "duration": 12,
    "start_time": "2022-05-31T04:06:02.942Z"
   },
   {
    "duration": 4,
    "start_time": "2022-05-31T04:06:02.955Z"
   },
   {
    "duration": 36,
    "start_time": "2022-05-31T04:06:02.961Z"
   },
   {
    "duration": 14,
    "start_time": "2022-05-31T04:06:02.999Z"
   },
   {
    "duration": 10,
    "start_time": "2022-05-31T04:06:03.014Z"
   },
   {
    "duration": 5,
    "start_time": "2022-05-31T04:06:03.026Z"
   },
   {
    "duration": 8,
    "start_time": "2022-05-31T04:06:03.032Z"
   },
   {
    "duration": 5,
    "start_time": "2022-05-31T04:06:03.042Z"
   },
   {
    "duration": 43,
    "start_time": "2022-05-31T04:06:03.049Z"
   },
   {
    "duration": 10,
    "start_time": "2022-05-31T04:06:03.094Z"
   },
   {
    "duration": 7,
    "start_time": "2022-05-31T04:06:03.105Z"
   },
   {
    "duration": 15,
    "start_time": "2022-05-31T04:06:03.114Z"
   },
   {
    "duration": 5,
    "start_time": "2022-05-31T04:06:03.131Z"
   },
   {
    "duration": 9,
    "start_time": "2022-05-31T04:06:03.138Z"
   },
   {
    "duration": 45,
    "start_time": "2022-05-31T04:06:03.149Z"
   },
   {
    "duration": 6,
    "start_time": "2022-05-31T04:06:03.196Z"
   },
   {
    "duration": 4,
    "start_time": "2022-05-31T04:06:03.204Z"
   },
   {
    "duration": 6,
    "start_time": "2022-05-31T04:06:03.211Z"
   },
   {
    "duration": 5,
    "start_time": "2022-05-31T04:06:03.219Z"
   },
   {
    "duration": 5,
    "start_time": "2022-05-31T04:06:03.225Z"
   },
   {
    "duration": 21,
    "start_time": "2022-05-31T04:06:03.232Z"
   },
   {
    "duration": 7,
    "start_time": "2022-05-31T04:06:03.295Z"
   },
   {
    "duration": 10,
    "start_time": "2022-05-31T04:06:03.304Z"
   },
   {
    "duration": 10,
    "start_time": "2022-05-31T04:06:03.316Z"
   },
   {
    "duration": 10,
    "start_time": "2022-05-31T04:06:03.328Z"
   },
   {
    "duration": 668,
    "start_time": "2022-05-31T16:59:31.286Z"
   },
   {
    "duration": 37,
    "start_time": "2022-05-31T16:59:32.613Z"
   },
   {
    "duration": 13,
    "start_time": "2022-05-31T16:59:32.849Z"
   },
   {
    "duration": 20,
    "start_time": "2022-05-31T16:59:33.236Z"
   },
   {
    "duration": 5,
    "start_time": "2022-05-31T16:59:33.632Z"
   },
   {
    "duration": 10,
    "start_time": "2022-05-31T16:59:34.011Z"
   },
   {
    "duration": 11,
    "start_time": "2022-05-31T16:59:34.179Z"
   },
   {
    "duration": 11,
    "start_time": "2022-05-31T16:59:34.703Z"
   },
   {
    "duration": 18,
    "start_time": "2022-05-31T16:59:35.069Z"
   },
   {
    "duration": 18,
    "start_time": "2022-05-31T16:59:35.254Z"
   },
   {
    "duration": 19,
    "start_time": "2022-05-31T16:59:36.065Z"
   },
   {
    "duration": 21,
    "start_time": "2022-05-31T16:59:36.247Z"
   },
   {
    "duration": 6,
    "start_time": "2022-05-31T16:59:37.216Z"
   },
   {
    "duration": 13,
    "start_time": "2022-05-31T16:59:37.781Z"
   },
   {
    "duration": 11,
    "start_time": "2022-05-31T16:59:37.982Z"
   },
   {
    "duration": 5,
    "start_time": "2022-05-31T16:59:38.910Z"
   },
   {
    "duration": 4,
    "start_time": "2022-05-31T16:59:39.449Z"
   },
   {
    "duration": 9,
    "start_time": "2022-05-31T16:59:39.611Z"
   },
   {
    "duration": 5,
    "start_time": "2022-05-31T16:59:40.360Z"
   },
   {
    "duration": 6,
    "start_time": "2022-05-31T16:59:40.948Z"
   },
   {
    "duration": 15,
    "start_time": "2022-05-31T16:59:41.389Z"
   },
   {
    "duration": 4,
    "start_time": "2022-05-31T16:59:41.981Z"
   },
   {
    "duration": 6,
    "start_time": "2022-05-31T16:59:42.137Z"
   },
   {
    "duration": 9,
    "start_time": "2022-05-31T16:59:42.466Z"
   },
   {
    "duration": 7,
    "start_time": "2022-05-31T16:59:43.240Z"
   },
   {
    "duration": 8,
    "start_time": "2022-05-31T16:59:44.076Z"
   },
   {
    "duration": 6,
    "start_time": "2022-05-31T16:59:44.638Z"
   },
   {
    "duration": 7,
    "start_time": "2022-05-31T16:59:45.077Z"
   },
   {
    "duration": 7,
    "start_time": "2022-05-31T16:59:45.508Z"
   },
   {
    "duration": 6,
    "start_time": "2022-05-31T16:59:46.380Z"
   },
   {
    "duration": 5,
    "start_time": "2022-05-31T16:59:46.765Z"
   },
   {
    "duration": 6,
    "start_time": "2022-05-31T16:59:47.553Z"
   },
   {
    "duration": 9,
    "start_time": "2022-05-31T16:59:48.803Z"
   },
   {
    "duration": 22,
    "start_time": "2022-05-31T16:59:49.905Z"
   },
   {
    "duration": 26,
    "start_time": "2022-05-31T16:59:51.487Z"
   },
   {
    "duration": 13,
    "start_time": "2022-05-31T16:59:51.751Z"
   },
   {
    "duration": 20,
    "start_time": "2022-05-31T16:59:52.478Z"
   },
   {
    "duration": 16,
    "start_time": "2022-05-31T16:59:52.803Z"
   },
   {
    "duration": 3,
    "start_time": "2022-05-31T16:59:52.966Z"
   },
   {
    "duration": 3,
    "start_time": "2022-05-31T16:59:54.391Z"
   },
   {
    "duration": 40,
    "start_time": "2022-05-31T16:59:58.924Z"
   },
   {
    "duration": 48,
    "start_time": "2022-05-31T16:59:59.121Z"
   },
   {
    "duration": 3,
    "start_time": "2022-05-31T17:00:03.091Z"
   },
   {
    "duration": 3,
    "start_time": "2022-05-31T17:00:03.926Z"
   },
   {
    "duration": 18,
    "start_time": "2022-05-31T17:00:05.835Z"
   },
   {
    "duration": 6,
    "start_time": "2022-05-31T17:00:08.453Z"
   },
   {
    "duration": 30,
    "start_time": "2022-05-31T17:00:09.931Z"
   },
   {
    "duration": 20,
    "start_time": "2022-05-31T17:00:13.233Z"
   },
   {
    "duration": 22,
    "start_time": "2022-05-31T17:00:13.990Z"
   },
   {
    "duration": 19,
    "start_time": "2022-05-31T17:00:14.546Z"
   },
   {
    "duration": 19,
    "start_time": "2022-05-31T17:00:16.110Z"
   },
   {
    "duration": 20,
    "start_time": "2022-05-31T17:00:16.370Z"
   },
   {
    "duration": 26,
    "start_time": "2022-05-31T17:03:45.979Z"
   },
   {
    "duration": 32,
    "start_time": "2022-05-31T19:27:58.862Z"
   },
   {
    "duration": 46,
    "start_time": "2022-05-31T19:28:12.581Z"
   },
   {
    "duration": 6,
    "start_time": "2022-05-31T19:28:48.974Z"
   },
   {
    "duration": 585,
    "start_time": "2022-05-31T19:28:55.669Z"
   },
   {
    "duration": 36,
    "start_time": "2022-05-31T19:28:56.256Z"
   },
   {
    "duration": 11,
    "start_time": "2022-05-31T19:28:56.294Z"
   },
   {
    "duration": 18,
    "start_time": "2022-05-31T19:28:56.306Z"
   },
   {
    "duration": 3,
    "start_time": "2022-05-31T19:28:56.325Z"
   },
   {
    "duration": 9,
    "start_time": "2022-05-31T19:28:56.330Z"
   },
   {
    "duration": 11,
    "start_time": "2022-05-31T19:28:56.341Z"
   },
   {
    "duration": 10,
    "start_time": "2022-05-31T19:28:56.353Z"
   },
   {
    "duration": 18,
    "start_time": "2022-05-31T19:28:56.392Z"
   },
   {
    "duration": 17,
    "start_time": "2022-05-31T19:28:56.412Z"
   },
   {
    "duration": 19,
    "start_time": "2022-05-31T19:28:56.430Z"
   },
   {
    "duration": 46,
    "start_time": "2022-05-31T19:28:56.450Z"
   },
   {
    "duration": 5,
    "start_time": "2022-05-31T19:28:56.498Z"
   },
   {
    "duration": 9,
    "start_time": "2022-05-31T19:28:56.505Z"
   },
   {
    "duration": 6,
    "start_time": "2022-05-31T19:28:56.516Z"
   },
   {
    "duration": 6,
    "start_time": "2022-05-31T19:28:56.523Z"
   },
   {
    "duration": 4,
    "start_time": "2022-05-31T19:28:56.530Z"
   },
   {
    "duration": 10,
    "start_time": "2022-05-31T19:28:56.535Z"
   },
   {
    "duration": 5,
    "start_time": "2022-05-31T19:28:56.546Z"
   },
   {
    "duration": 6,
    "start_time": "2022-05-31T19:28:56.552Z"
   },
   {
    "duration": 9,
    "start_time": "2022-05-31T19:28:56.592Z"
   },
   {
    "duration": 3,
    "start_time": "2022-05-31T19:28:56.602Z"
   },
   {
    "duration": 7,
    "start_time": "2022-05-31T19:28:56.607Z"
   },
   {
    "duration": 7,
    "start_time": "2022-05-31T19:28:56.616Z"
   },
   {
    "duration": 5,
    "start_time": "2022-05-31T19:28:56.624Z"
   },
   {
    "duration": 7,
    "start_time": "2022-05-31T19:28:56.631Z"
   },
   {
    "duration": 7,
    "start_time": "2022-05-31T19:28:56.639Z"
   },
   {
    "duration": 5,
    "start_time": "2022-05-31T19:28:56.649Z"
   },
   {
    "duration": 7,
    "start_time": "2022-05-31T19:28:56.693Z"
   },
   {
    "duration": 7,
    "start_time": "2022-05-31T19:28:56.702Z"
   },
   {
    "duration": 9,
    "start_time": "2022-05-31T19:28:56.711Z"
   },
   {
    "duration": 9,
    "start_time": "2022-05-31T19:28:56.721Z"
   },
   {
    "duration": 10,
    "start_time": "2022-05-31T19:28:56.731Z"
   },
   {
    "duration": 19,
    "start_time": "2022-05-31T19:28:56.743Z"
   },
   {
    "duration": 47,
    "start_time": "2022-05-31T19:28:56.764Z"
   },
   {
    "duration": 13,
    "start_time": "2022-05-31T19:28:56.812Z"
   },
   {
    "duration": 15,
    "start_time": "2022-05-31T19:28:56.827Z"
   },
   {
    "duration": 14,
    "start_time": "2022-05-31T19:28:56.843Z"
   },
   {
    "duration": 4,
    "start_time": "2022-05-31T19:28:56.859Z"
   },
   {
    "duration": 28,
    "start_time": "2022-05-31T19:28:56.864Z"
   },
   {
    "duration": 39,
    "start_time": "2022-05-31T19:28:56.894Z"
   },
   {
    "duration": 38,
    "start_time": "2022-05-31T19:28:56.935Z"
   },
   {
    "duration": 18,
    "start_time": "2022-05-31T19:28:56.974Z"
   },
   {
    "duration": 3,
    "start_time": "2022-05-31T19:28:56.993Z"
   },
   {
    "duration": 20,
    "start_time": "2022-05-31T19:28:56.997Z"
   },
   {
    "duration": 5,
    "start_time": "2022-05-31T19:28:57.019Z"
   },
   {
    "duration": 32,
    "start_time": "2022-05-31T19:28:57.025Z"
   },
   {
    "duration": 43,
    "start_time": "2022-05-31T19:28:57.059Z"
   },
   {
    "duration": 18,
    "start_time": "2022-05-31T19:28:57.103Z"
   },
   {
    "duration": 20,
    "start_time": "2022-05-31T19:28:57.123Z"
   },
   {
    "duration": 19,
    "start_time": "2022-05-31T19:28:57.144Z"
   },
   {
    "duration": 41,
    "start_time": "2022-05-31T19:28:57.164Z"
   },
   {
    "duration": 10,
    "start_time": "2022-05-31T19:28:57.206Z"
   },
   {
    "duration": 6,
    "start_time": "2022-05-31T19:28:57.218Z"
   },
   {
    "duration": 4,
    "start_time": "2022-05-31T19:28:57.225Z"
   },
   {
    "duration": 14,
    "start_time": "2022-05-31T19:28:57.231Z"
   },
   {
    "duration": 46,
    "start_time": "2022-05-31T19:28:57.247Z"
   },
   {
    "duration": 66,
    "start_time": "2022-05-31T19:28:57.295Z"
   },
   {
    "duration": 0,
    "start_time": "2022-05-31T19:28:57.363Z"
   },
   {
    "duration": 0,
    "start_time": "2022-05-31T19:28:57.365Z"
   },
   {
    "duration": 0,
    "start_time": "2022-05-31T19:28:57.366Z"
   },
   {
    "duration": 0,
    "start_time": "2022-05-31T19:28:57.367Z"
   },
   {
    "duration": 0,
    "start_time": "2022-05-31T19:28:57.368Z"
   },
   {
    "duration": 0,
    "start_time": "2022-05-31T19:28:57.370Z"
   },
   {
    "duration": 0,
    "start_time": "2022-05-31T19:28:57.371Z"
   },
   {
    "duration": 0,
    "start_time": "2022-05-31T19:28:57.392Z"
   },
   {
    "duration": 0,
    "start_time": "2022-05-31T19:28:57.393Z"
   },
   {
    "duration": 0,
    "start_time": "2022-05-31T19:28:57.394Z"
   },
   {
    "duration": 0,
    "start_time": "2022-05-31T19:28:57.396Z"
   },
   {
    "duration": 0,
    "start_time": "2022-05-31T19:28:57.397Z"
   },
   {
    "duration": 0,
    "start_time": "2022-05-31T19:28:57.399Z"
   },
   {
    "duration": 0,
    "start_time": "2022-05-31T19:28:57.401Z"
   },
   {
    "duration": 0,
    "start_time": "2022-05-31T19:28:57.402Z"
   },
   {
    "duration": 0,
    "start_time": "2022-05-31T19:28:57.403Z"
   },
   {
    "duration": 0,
    "start_time": "2022-05-31T19:28:57.404Z"
   },
   {
    "duration": 0,
    "start_time": "2022-05-31T19:28:57.405Z"
   },
   {
    "duration": 0,
    "start_time": "2022-05-31T19:28:57.406Z"
   },
   {
    "duration": 0,
    "start_time": "2022-05-31T19:28:57.408Z"
   },
   {
    "duration": 0,
    "start_time": "2022-05-31T19:28:57.409Z"
   },
   {
    "duration": 0,
    "start_time": "2022-05-31T19:28:57.410Z"
   },
   {
    "duration": 0,
    "start_time": "2022-05-31T19:28:57.411Z"
   },
   {
    "duration": 0,
    "start_time": "2022-05-31T19:28:57.412Z"
   },
   {
    "duration": 0,
    "start_time": "2022-05-31T19:28:57.413Z"
   },
   {
    "duration": 0,
    "start_time": "2022-05-31T19:28:57.414Z"
   },
   {
    "duration": 0,
    "start_time": "2022-05-31T19:28:57.415Z"
   },
   {
    "duration": 0,
    "start_time": "2022-05-31T19:28:57.416Z"
   },
   {
    "duration": 0,
    "start_time": "2022-05-31T19:28:57.417Z"
   },
   {
    "duration": 0,
    "start_time": "2022-05-31T19:28:57.418Z"
   },
   {
    "duration": 4,
    "start_time": "2022-05-31T19:30:45.624Z"
   },
   {
    "duration": 9,
    "start_time": "2022-05-31T19:36:20.488Z"
   },
   {
    "duration": 3,
    "start_time": "2022-05-31T19:36:31.328Z"
   },
   {
    "duration": 3,
    "start_time": "2022-05-31T19:36:40.968Z"
   },
   {
    "duration": 443,
    "start_time": "2022-05-31T19:40:59.222Z"
   },
   {
    "duration": 34,
    "start_time": "2022-05-31T19:40:59.667Z"
   },
   {
    "duration": 12,
    "start_time": "2022-05-31T19:40:59.703Z"
   },
   {
    "duration": 16,
    "start_time": "2022-05-31T19:40:59.716Z"
   },
   {
    "duration": 3,
    "start_time": "2022-05-31T19:40:59.733Z"
   },
   {
    "duration": 11,
    "start_time": "2022-05-31T19:40:59.738Z"
   },
   {
    "duration": 10,
    "start_time": "2022-05-31T19:40:59.751Z"
   },
   {
    "duration": 33,
    "start_time": "2022-05-31T19:40:59.762Z"
   },
   {
    "duration": 18,
    "start_time": "2022-05-31T19:40:59.796Z"
   },
   {
    "duration": 19,
    "start_time": "2022-05-31T19:40:59.816Z"
   },
   {
    "duration": 18,
    "start_time": "2022-05-31T19:40:59.836Z"
   },
   {
    "duration": 43,
    "start_time": "2022-05-31T19:40:59.856Z"
   },
   {
    "duration": 5,
    "start_time": "2022-05-31T19:40:59.901Z"
   },
   {
    "duration": 9,
    "start_time": "2022-05-31T19:40:59.908Z"
   },
   {
    "duration": 8,
    "start_time": "2022-05-31T19:40:59.919Z"
   },
   {
    "duration": 6,
    "start_time": "2022-05-31T19:40:59.928Z"
   },
   {
    "duration": 4,
    "start_time": "2022-05-31T19:40:59.935Z"
   },
   {
    "duration": 10,
    "start_time": "2022-05-31T19:40:59.940Z"
   },
   {
    "duration": 4,
    "start_time": "2022-05-31T19:40:59.951Z"
   },
   {
    "duration": 37,
    "start_time": "2022-05-31T19:40:59.957Z"
   },
   {
    "duration": 11,
    "start_time": "2022-05-31T19:40:59.996Z"
   },
   {
    "duration": 3,
    "start_time": "2022-05-31T19:41:00.008Z"
   },
   {
    "duration": 13,
    "start_time": "2022-05-31T19:41:00.013Z"
   },
   {
    "duration": 7,
    "start_time": "2022-05-31T19:41:00.028Z"
   },
   {
    "duration": 8,
    "start_time": "2022-05-31T19:41:00.037Z"
   },
   {
    "duration": 10,
    "start_time": "2022-05-31T19:41:00.047Z"
   },
   {
    "duration": 34,
    "start_time": "2022-05-31T19:41:00.058Z"
   },
   {
    "duration": 5,
    "start_time": "2022-05-31T19:41:00.096Z"
   },
   {
    "duration": 17,
    "start_time": "2022-05-31T19:41:00.102Z"
   },
   {
    "duration": 16,
    "start_time": "2022-05-31T19:41:00.120Z"
   },
   {
    "duration": 12,
    "start_time": "2022-05-31T19:41:00.137Z"
   },
   {
    "duration": 13,
    "start_time": "2022-05-31T19:41:00.151Z"
   },
   {
    "duration": 7,
    "start_time": "2022-05-31T19:41:00.165Z"
   },
   {
    "duration": 19,
    "start_time": "2022-05-31T19:41:00.174Z"
   },
   {
    "duration": 25,
    "start_time": "2022-05-31T19:41:00.195Z"
   },
   {
    "duration": 13,
    "start_time": "2022-05-31T19:41:00.222Z"
   },
   {
    "duration": 16,
    "start_time": "2022-05-31T19:41:00.236Z"
   },
   {
    "duration": 16,
    "start_time": "2022-05-31T19:41:00.253Z"
   },
   {
    "duration": 30,
    "start_time": "2022-05-31T19:41:00.270Z"
   },
   {
    "duration": 19,
    "start_time": "2022-05-31T19:41:00.302Z"
   },
   {
    "duration": 48,
    "start_time": "2022-05-31T19:41:00.323Z"
   },
   {
    "duration": 39,
    "start_time": "2022-05-31T19:41:00.373Z"
   },
   {
    "duration": 3,
    "start_time": "2022-05-31T19:41:00.413Z"
   },
   {
    "duration": 29,
    "start_time": "2022-05-31T19:41:00.417Z"
   },
   {
    "duration": 32,
    "start_time": "2022-05-31T19:41:00.448Z"
   },
   {
    "duration": 6,
    "start_time": "2022-05-31T19:41:00.481Z"
   },
   {
    "duration": 42,
    "start_time": "2022-05-31T19:41:00.489Z"
   },
   {
    "duration": 19,
    "start_time": "2022-05-31T19:41:00.533Z"
   },
   {
    "duration": 20,
    "start_time": "2022-05-31T19:41:00.553Z"
   },
   {
    "duration": 28,
    "start_time": "2022-05-31T19:41:00.575Z"
   },
   {
    "duration": 19,
    "start_time": "2022-05-31T19:41:00.604Z"
   },
   {
    "duration": 19,
    "start_time": "2022-05-31T19:41:00.625Z"
   },
   {
    "duration": 11,
    "start_time": "2022-05-31T19:41:00.646Z"
   },
   {
    "duration": 10,
    "start_time": "2022-05-31T19:41:00.659Z"
   },
   {
    "duration": 24,
    "start_time": "2022-05-31T19:41:00.671Z"
   },
   {
    "duration": 30,
    "start_time": "2022-05-31T19:41:00.697Z"
   },
   {
    "duration": 19,
    "start_time": "2022-05-31T19:41:00.729Z"
   },
   {
    "duration": 3,
    "start_time": "2022-05-31T19:41:00.750Z"
   },
   {
    "duration": 9,
    "start_time": "2022-05-31T19:41:00.755Z"
   },
   {
    "duration": 7,
    "start_time": "2022-05-31T19:41:00.766Z"
   },
   {
    "duration": 28,
    "start_time": "2022-05-31T19:41:00.774Z"
   },
   {
    "duration": 19,
    "start_time": "2022-05-31T19:41:00.804Z"
   },
   {
    "duration": 22,
    "start_time": "2022-05-31T19:41:00.824Z"
   },
   {
    "duration": 20,
    "start_time": "2022-05-31T19:41:00.847Z"
   },
   {
    "duration": 33,
    "start_time": "2022-05-31T19:41:00.869Z"
   },
   {
    "duration": 3,
    "start_time": "2022-05-31T19:41:00.904Z"
   },
   {
    "duration": 15,
    "start_time": "2022-05-31T19:41:00.908Z"
   },
   {
    "duration": 19,
    "start_time": "2022-05-31T19:41:00.924Z"
   },
   {
    "duration": 10,
    "start_time": "2022-05-31T19:41:00.944Z"
   },
   {
    "duration": 14,
    "start_time": "2022-05-31T19:41:00.956Z"
   },
   {
    "duration": 9,
    "start_time": "2022-05-31T19:41:00.971Z"
   },
   {
    "duration": 16,
    "start_time": "2022-05-31T19:41:00.982Z"
   },
   {
    "duration": 15,
    "start_time": "2022-05-31T19:41:00.999Z"
   },
   {
    "duration": 11,
    "start_time": "2022-05-31T19:41:01.015Z"
   },
   {
    "duration": 7,
    "start_time": "2022-05-31T19:41:01.027Z"
   },
   {
    "duration": 16,
    "start_time": "2022-05-31T19:41:01.035Z"
   },
   {
    "duration": 23,
    "start_time": "2022-05-31T19:41:01.053Z"
   },
   {
    "duration": 25,
    "start_time": "2022-05-31T19:41:01.077Z"
   },
   {
    "duration": 21,
    "start_time": "2022-05-31T19:41:01.104Z"
   },
   {
    "duration": 13,
    "start_time": "2022-05-31T19:41:01.127Z"
   },
   {
    "duration": 15,
    "start_time": "2022-05-31T19:41:01.142Z"
   },
   {
    "duration": 6,
    "start_time": "2022-05-31T19:41:01.163Z"
   },
   {
    "duration": 21,
    "start_time": "2022-05-31T19:41:01.171Z"
   },
   {
    "duration": 6,
    "start_time": "2022-05-31T19:41:01.194Z"
   },
   {
    "duration": 29,
    "start_time": "2022-05-31T19:41:01.202Z"
   },
   {
    "duration": 9,
    "start_time": "2022-05-31T19:41:01.233Z"
   },
   {
    "duration": 14,
    "start_time": "2022-05-31T19:41:01.244Z"
   },
   {
    "duration": 16,
    "start_time": "2022-05-31T19:41:01.260Z"
   },
   {
    "duration": 19,
    "start_time": "2022-05-31T19:41:01.278Z"
   },
   {
    "duration": 2,
    "start_time": "2022-05-31T19:41:52.809Z"
   },
   {
    "duration": 6,
    "start_time": "2022-05-31T19:41:54.298Z"
   },
   {
    "duration": 6,
    "start_time": "2022-05-31T19:41:55.160Z"
   },
   {
    "duration": 16,
    "start_time": "2022-05-31T19:41:57.440Z"
   },
   {
    "duration": 478,
    "start_time": "2022-05-31T19:42:07.789Z"
   },
   {
    "duration": 34,
    "start_time": "2022-05-31T19:42:08.269Z"
   },
   {
    "duration": 11,
    "start_time": "2022-05-31T19:42:08.305Z"
   },
   {
    "duration": 13,
    "start_time": "2022-05-31T19:42:08.318Z"
   },
   {
    "duration": 4,
    "start_time": "2022-05-31T19:42:08.332Z"
   },
   {
    "duration": 12,
    "start_time": "2022-05-31T19:42:08.337Z"
   },
   {
    "duration": 12,
    "start_time": "2022-05-31T19:42:08.350Z"
   },
   {
    "duration": 31,
    "start_time": "2022-05-31T19:42:08.363Z"
   },
   {
    "duration": 20,
    "start_time": "2022-05-31T19:42:08.395Z"
   },
   {
    "duration": 16,
    "start_time": "2022-05-31T19:42:08.417Z"
   },
   {
    "duration": 19,
    "start_time": "2022-05-31T19:42:08.435Z"
   },
   {
    "duration": 43,
    "start_time": "2022-05-31T19:42:08.455Z"
   },
   {
    "duration": 6,
    "start_time": "2022-05-31T19:42:08.499Z"
   },
   {
    "duration": 15,
    "start_time": "2022-05-31T19:42:08.506Z"
   },
   {
    "duration": 8,
    "start_time": "2022-05-31T19:42:08.522Z"
   },
   {
    "duration": 6,
    "start_time": "2022-05-31T19:42:08.531Z"
   },
   {
    "duration": 4,
    "start_time": "2022-05-31T19:42:08.538Z"
   },
   {
    "duration": 10,
    "start_time": "2022-05-31T19:42:08.543Z"
   },
   {
    "duration": 6,
    "start_time": "2022-05-31T19:42:08.555Z"
   },
   {
    "duration": 6,
    "start_time": "2022-05-31T19:42:08.591Z"
   },
   {
    "duration": 10,
    "start_time": "2022-05-31T19:42:08.599Z"
   },
   {
    "duration": 3,
    "start_time": "2022-05-31T19:42:08.610Z"
   },
   {
    "duration": 8,
    "start_time": "2022-05-31T19:42:08.615Z"
   },
   {
    "duration": 7,
    "start_time": "2022-05-31T19:42:08.624Z"
   },
   {
    "duration": 6,
    "start_time": "2022-05-31T19:42:08.633Z"
   },
   {
    "duration": 9,
    "start_time": "2022-05-31T19:42:08.640Z"
   },
   {
    "duration": 7,
    "start_time": "2022-05-31T19:42:08.650Z"
   },
   {
    "duration": 5,
    "start_time": "2022-05-31T19:42:08.691Z"
   },
   {
    "duration": 7,
    "start_time": "2022-05-31T19:42:08.698Z"
   },
   {
    "duration": 8,
    "start_time": "2022-05-31T19:42:08.707Z"
   },
   {
    "duration": 7,
    "start_time": "2022-05-31T19:42:08.716Z"
   },
   {
    "duration": 9,
    "start_time": "2022-05-31T19:42:08.724Z"
   },
   {
    "duration": 8,
    "start_time": "2022-05-31T19:42:08.734Z"
   },
   {
    "duration": 16,
    "start_time": "2022-05-31T19:42:08.744Z"
   },
   {
    "duration": 47,
    "start_time": "2022-05-31T19:42:08.761Z"
   },
   {
    "duration": 13,
    "start_time": "2022-05-31T19:42:08.809Z"
   },
   {
    "duration": 15,
    "start_time": "2022-05-31T19:42:08.824Z"
   },
   {
    "duration": 14,
    "start_time": "2022-05-31T19:42:08.841Z"
   },
   {
    "duration": 3,
    "start_time": "2022-05-31T19:42:08.856Z"
   },
   {
    "duration": 32,
    "start_time": "2022-05-31T19:42:08.861Z"
   },
   {
    "duration": 38,
    "start_time": "2022-05-31T19:42:08.894Z"
   },
   {
    "duration": 37,
    "start_time": "2022-05-31T19:42:08.934Z"
   },
   {
    "duration": 20,
    "start_time": "2022-05-31T19:42:08.972Z"
   },
   {
    "duration": 3,
    "start_time": "2022-05-31T19:42:08.993Z"
   },
   {
    "duration": 21,
    "start_time": "2022-05-31T19:42:08.997Z"
   },
   {
    "duration": 7,
    "start_time": "2022-05-31T19:42:09.020Z"
   },
   {
    "duration": 31,
    "start_time": "2022-05-31T19:42:09.028Z"
   },
   {
    "duration": 39,
    "start_time": "2022-05-31T19:42:09.061Z"
   },
   {
    "duration": 17,
    "start_time": "2022-05-31T19:42:09.102Z"
   },
   {
    "duration": 20,
    "start_time": "2022-05-31T19:42:09.120Z"
   },
   {
    "duration": 17,
    "start_time": "2022-05-31T19:42:09.141Z"
   },
   {
    "duration": 41,
    "start_time": "2022-05-31T19:42:09.160Z"
   },
   {
    "duration": 3,
    "start_time": "2022-05-31T19:42:09.202Z"
   },
   {
    "duration": 10,
    "start_time": "2022-05-31T19:42:09.206Z"
   },
   {
    "duration": 86,
    "start_time": "2022-05-31T19:42:09.217Z"
   },
   {
    "duration": 0,
    "start_time": "2022-05-31T19:42:09.305Z"
   },
   {
    "duration": 0,
    "start_time": "2022-05-31T19:42:09.305Z"
   },
   {
    "duration": 0,
    "start_time": "2022-05-31T19:42:09.306Z"
   },
   {
    "duration": 0,
    "start_time": "2022-05-31T19:42:09.307Z"
   },
   {
    "duration": 0,
    "start_time": "2022-05-31T19:42:09.308Z"
   },
   {
    "duration": 0,
    "start_time": "2022-05-31T19:42:09.309Z"
   },
   {
    "duration": 0,
    "start_time": "2022-05-31T19:42:09.310Z"
   },
   {
    "duration": 0,
    "start_time": "2022-05-31T19:42:09.310Z"
   },
   {
    "duration": 0,
    "start_time": "2022-05-31T19:42:09.311Z"
   },
   {
    "duration": 0,
    "start_time": "2022-05-31T19:42:09.312Z"
   },
   {
    "duration": 0,
    "start_time": "2022-05-31T19:42:09.313Z"
   },
   {
    "duration": 0,
    "start_time": "2022-05-31T19:42:09.314Z"
   },
   {
    "duration": 0,
    "start_time": "2022-05-31T19:42:09.315Z"
   },
   {
    "duration": 0,
    "start_time": "2022-05-31T19:42:09.316Z"
   },
   {
    "duration": 0,
    "start_time": "2022-05-31T19:42:09.317Z"
   },
   {
    "duration": 0,
    "start_time": "2022-05-31T19:42:09.317Z"
   },
   {
    "duration": 0,
    "start_time": "2022-05-31T19:42:09.318Z"
   },
   {
    "duration": 0,
    "start_time": "2022-05-31T19:42:09.319Z"
   },
   {
    "duration": 0,
    "start_time": "2022-05-31T19:42:09.320Z"
   },
   {
    "duration": 0,
    "start_time": "2022-05-31T19:42:09.321Z"
   },
   {
    "duration": 0,
    "start_time": "2022-05-31T19:42:09.322Z"
   },
   {
    "duration": 0,
    "start_time": "2022-05-31T19:42:09.323Z"
   },
   {
    "duration": 0,
    "start_time": "2022-05-31T19:42:09.324Z"
   },
   {
    "duration": 0,
    "start_time": "2022-05-31T19:42:09.325Z"
   },
   {
    "duration": 0,
    "start_time": "2022-05-31T19:42:09.326Z"
   },
   {
    "duration": 0,
    "start_time": "2022-05-31T19:42:09.327Z"
   },
   {
    "duration": 0,
    "start_time": "2022-05-31T19:42:09.328Z"
   },
   {
    "duration": 0,
    "start_time": "2022-05-31T19:42:09.329Z"
   },
   {
    "duration": 0,
    "start_time": "2022-05-31T19:42:09.330Z"
   },
   {
    "duration": 0,
    "start_time": "2022-05-31T19:42:09.331Z"
   },
   {
    "duration": 0,
    "start_time": "2022-05-31T19:42:09.332Z"
   },
   {
    "duration": 0,
    "start_time": "2022-05-31T19:42:09.333Z"
   },
   {
    "duration": 0,
    "start_time": "2022-05-31T19:42:09.334Z"
   },
   {
    "duration": 0,
    "start_time": "2022-05-31T19:42:09.335Z"
   },
   {
    "duration": 25,
    "start_time": "2022-05-31T19:42:27.812Z"
   },
   {
    "duration": 3,
    "start_time": "2022-05-31T19:42:32.377Z"
   },
   {
    "duration": 3,
    "start_time": "2022-05-31T19:43:56.214Z"
   },
   {
    "duration": 3,
    "start_time": "2022-05-31T19:44:02.159Z"
   },
   {
    "duration": 3,
    "start_time": "2022-05-31T19:44:15.488Z"
   },
   {
    "duration": 5,
    "start_time": "2022-05-31T19:44:33.838Z"
   },
   {
    "duration": 3,
    "start_time": "2022-05-31T19:44:45.388Z"
   },
   {
    "duration": 4,
    "start_time": "2022-05-31T19:44:49.246Z"
   },
   {
    "duration": 3,
    "start_time": "2022-05-31T19:45:32.817Z"
   },
   {
    "duration": 5,
    "start_time": "2022-05-31T19:45:35.760Z"
   },
   {
    "duration": 5,
    "start_time": "2022-05-31T19:45:38.120Z"
   },
   {
    "duration": 4,
    "start_time": "2022-05-31T19:46:30.424Z"
   },
   {
    "duration": 6,
    "start_time": "2022-05-31T19:46:31.641Z"
   },
   {
    "duration": 18,
    "start_time": "2022-05-31T19:46:32.618Z"
   },
   {
    "duration": 15,
    "start_time": "2022-05-31T19:55:17.634Z"
   },
   {
    "duration": 4,
    "start_time": "2022-05-31T19:55:47.201Z"
   },
   {
    "duration": 16,
    "start_time": "2022-05-31T19:55:50.642Z"
   },
   {
    "duration": 33,
    "start_time": "2022-05-31T19:56:10.057Z"
   },
   {
    "duration": 3,
    "start_time": "2022-05-31T19:56:23.035Z"
   },
   {
    "duration": 16,
    "start_time": "2022-05-31T19:56:26.715Z"
   },
   {
    "duration": 3,
    "start_time": "2022-05-31T19:56:42.850Z"
   },
   {
    "duration": 487,
    "start_time": "2022-05-31T19:56:46.160Z"
   },
   {
    "duration": 3,
    "start_time": "2022-05-31T19:57:15.571Z"
   },
   {
    "duration": 364,
    "start_time": "2022-05-31T19:57:21.444Z"
   },
   {
    "duration": 3,
    "start_time": "2022-05-31T19:58:44.723Z"
   },
   {
    "duration": 386,
    "start_time": "2022-05-31T19:58:49.241Z"
   },
   {
    "duration": 3,
    "start_time": "2022-05-31T20:20:59.949Z"
   },
   {
    "duration": 20,
    "start_time": "2022-05-31T20:21:03.143Z"
   },
   {
    "duration": 4,
    "start_time": "2022-05-31T20:21:15.270Z"
   },
   {
    "duration": 17,
    "start_time": "2022-05-31T20:21:19.643Z"
   },
   {
    "duration": 572,
    "start_time": "2022-05-31T23:19:58.958Z"
   },
   {
    "duration": 35,
    "start_time": "2022-05-31T23:19:59.532Z"
   },
   {
    "duration": 11,
    "start_time": "2022-05-31T23:19:59.568Z"
   },
   {
    "duration": 15,
    "start_time": "2022-05-31T23:19:59.581Z"
   },
   {
    "duration": 4,
    "start_time": "2022-05-31T23:19:59.597Z"
   },
   {
    "duration": 29,
    "start_time": "2022-05-31T23:19:59.602Z"
   },
   {
    "duration": 11,
    "start_time": "2022-05-31T23:19:59.632Z"
   },
   {
    "duration": 10,
    "start_time": "2022-05-31T23:19:59.644Z"
   },
   {
    "duration": 17,
    "start_time": "2022-05-31T23:19:59.655Z"
   },
   {
    "duration": 17,
    "start_time": "2022-05-31T23:19:59.675Z"
   },
   {
    "duration": 47,
    "start_time": "2022-05-31T23:19:59.693Z"
   },
   {
    "duration": 16,
    "start_time": "2022-05-31T23:19:59.742Z"
   },
   {
    "duration": 15,
    "start_time": "2022-05-31T23:19:59.760Z"
   },
   {
    "duration": 16,
    "start_time": "2022-05-31T23:19:59.776Z"
   },
   {
    "duration": 9,
    "start_time": "2022-05-31T23:19:59.793Z"
   },
   {
    "duration": 10,
    "start_time": "2022-05-31T23:19:59.804Z"
   },
   {
    "duration": 4,
    "start_time": "2022-05-31T23:19:59.826Z"
   },
   {
    "duration": 12,
    "start_time": "2022-05-31T23:19:59.831Z"
   },
   {
    "duration": 6,
    "start_time": "2022-05-31T23:19:59.844Z"
   },
   {
    "duration": 8,
    "start_time": "2022-05-31T23:19:59.852Z"
   },
   {
    "duration": 11,
    "start_time": "2022-05-31T23:19:59.862Z"
   },
   {
    "duration": 4,
    "start_time": "2022-05-31T23:19:59.874Z"
   },
   {
    "duration": 9,
    "start_time": "2022-05-31T23:19:59.879Z"
   },
   {
    "duration": 41,
    "start_time": "2022-05-31T23:19:59.889Z"
   },
   {
    "duration": 7,
    "start_time": "2022-05-31T23:19:59.932Z"
   },
   {
    "duration": 9,
    "start_time": "2022-05-31T23:19:59.941Z"
   },
   {
    "duration": 8,
    "start_time": "2022-05-31T23:19:59.951Z"
   },
   {
    "duration": 6,
    "start_time": "2022-05-31T23:19:59.963Z"
   },
   {
    "duration": 11,
    "start_time": "2022-05-31T23:19:59.970Z"
   },
   {
    "duration": 11,
    "start_time": "2022-05-31T23:19:59.982Z"
   },
   {
    "duration": 37,
    "start_time": "2022-05-31T23:19:59.994Z"
   },
   {
    "duration": 16,
    "start_time": "2022-05-31T23:20:00.033Z"
   },
   {
    "duration": 10,
    "start_time": "2022-05-31T23:20:00.050Z"
   },
   {
    "duration": 21,
    "start_time": "2022-05-31T23:20:00.062Z"
   },
   {
    "duration": 28,
    "start_time": "2022-05-31T23:20:00.085Z"
   },
   {
    "duration": 19,
    "start_time": "2022-05-31T23:20:00.115Z"
   },
   {
    "duration": 16,
    "start_time": "2022-05-31T23:20:00.136Z"
   },
   {
    "duration": 16,
    "start_time": "2022-05-31T23:20:00.153Z"
   },
   {
    "duration": 12,
    "start_time": "2022-05-31T23:20:00.171Z"
   },
   {
    "duration": 12,
    "start_time": "2022-05-31T23:20:00.184Z"
   },
   {
    "duration": 52,
    "start_time": "2022-05-31T23:20:00.197Z"
   },
   {
    "duration": 39,
    "start_time": "2022-05-31T23:20:00.251Z"
   },
   {
    "duration": 3,
    "start_time": "2022-05-31T23:20:00.292Z"
   },
   {
    "duration": 16,
    "start_time": "2022-05-31T23:20:00.297Z"
   },
   {
    "duration": 30,
    "start_time": "2022-05-31T23:20:00.314Z"
   },
   {
    "duration": 6,
    "start_time": "2022-05-31T23:20:00.346Z"
   },
   {
    "duration": 35,
    "start_time": "2022-05-31T23:20:00.353Z"
   },
   {
    "duration": 43,
    "start_time": "2022-05-31T23:20:00.390Z"
   },
   {
    "duration": 19,
    "start_time": "2022-05-31T23:20:00.435Z"
   },
   {
    "duration": 20,
    "start_time": "2022-05-31T23:20:00.455Z"
   },
   {
    "duration": 20,
    "start_time": "2022-05-31T23:20:00.476Z"
   },
   {
    "duration": 49,
    "start_time": "2022-05-31T23:20:00.498Z"
   },
   {
    "duration": 3,
    "start_time": "2022-05-31T23:20:00.548Z"
   },
   {
    "duration": 35,
    "start_time": "2022-05-31T23:20:00.552Z"
   },
   {
    "duration": 99,
    "start_time": "2022-05-31T23:20:00.588Z"
   },
   {
    "duration": 0,
    "start_time": "2022-05-31T23:20:00.689Z"
   },
   {
    "duration": 0,
    "start_time": "2022-05-31T23:20:00.690Z"
   },
   {
    "duration": 0,
    "start_time": "2022-05-31T23:20:00.691Z"
   },
   {
    "duration": 0,
    "start_time": "2022-05-31T23:20:00.692Z"
   },
   {
    "duration": 0,
    "start_time": "2022-05-31T23:20:00.693Z"
   },
   {
    "duration": 0,
    "start_time": "2022-05-31T23:20:00.695Z"
   },
   {
    "duration": 0,
    "start_time": "2022-05-31T23:20:00.696Z"
   },
   {
    "duration": 0,
    "start_time": "2022-05-31T23:20:00.697Z"
   },
   {
    "duration": 0,
    "start_time": "2022-05-31T23:20:00.698Z"
   },
   {
    "duration": 0,
    "start_time": "2022-05-31T23:20:00.699Z"
   },
   {
    "duration": 0,
    "start_time": "2022-05-31T23:20:00.700Z"
   },
   {
    "duration": 0,
    "start_time": "2022-05-31T23:20:00.726Z"
   },
   {
    "duration": 0,
    "start_time": "2022-05-31T23:20:00.728Z"
   },
   {
    "duration": 0,
    "start_time": "2022-05-31T23:20:00.729Z"
   },
   {
    "duration": 0,
    "start_time": "2022-05-31T23:20:00.730Z"
   },
   {
    "duration": 0,
    "start_time": "2022-05-31T23:20:00.732Z"
   },
   {
    "duration": 0,
    "start_time": "2022-05-31T23:20:00.733Z"
   },
   {
    "duration": 0,
    "start_time": "2022-05-31T23:20:00.734Z"
   },
   {
    "duration": 0,
    "start_time": "2022-05-31T23:20:00.735Z"
   },
   {
    "duration": 0,
    "start_time": "2022-05-31T23:20:00.736Z"
   },
   {
    "duration": 0,
    "start_time": "2022-05-31T23:20:00.737Z"
   },
   {
    "duration": 0,
    "start_time": "2022-05-31T23:20:00.738Z"
   },
   {
    "duration": 0,
    "start_time": "2022-05-31T23:20:00.738Z"
   },
   {
    "duration": 0,
    "start_time": "2022-05-31T23:20:00.739Z"
   },
   {
    "duration": 0,
    "start_time": "2022-05-31T23:20:00.740Z"
   },
   {
    "duration": 0,
    "start_time": "2022-05-31T23:20:00.741Z"
   },
   {
    "duration": 0,
    "start_time": "2022-05-31T23:20:00.742Z"
   },
   {
    "duration": 0,
    "start_time": "2022-05-31T23:20:00.743Z"
   },
   {
    "duration": 0,
    "start_time": "2022-05-31T23:20:00.744Z"
   },
   {
    "duration": 0,
    "start_time": "2022-05-31T23:20:00.745Z"
   },
   {
    "duration": 0,
    "start_time": "2022-05-31T23:20:00.747Z"
   },
   {
    "duration": 0,
    "start_time": "2022-05-31T23:20:00.748Z"
   },
   {
    "duration": 0,
    "start_time": "2022-05-31T23:20:00.749Z"
   },
   {
    "duration": 0,
    "start_time": "2022-05-31T23:20:00.750Z"
   },
   {
    "duration": 9,
    "start_time": "2022-06-01T03:29:22.799Z"
   },
   {
    "duration": 5,
    "start_time": "2022-06-01T03:29:52.117Z"
   },
   {
    "duration": 65,
    "start_time": "2022-06-01T12:49:05.777Z"
   },
   {
    "duration": 691,
    "start_time": "2022-06-01T12:49:11.721Z"
   },
   {
    "duration": 67,
    "start_time": "2022-06-01T12:49:12.415Z"
   },
   {
    "duration": 16,
    "start_time": "2022-06-01T12:49:12.484Z"
   },
   {
    "duration": 26,
    "start_time": "2022-06-01T12:49:12.502Z"
   },
   {
    "duration": 18,
    "start_time": "2022-06-01T12:49:12.530Z"
   },
   {
    "duration": 31,
    "start_time": "2022-06-01T12:49:12.551Z"
   },
   {
    "duration": 18,
    "start_time": "2022-06-01T12:49:12.583Z"
   },
   {
    "duration": 12,
    "start_time": "2022-06-01T12:49:12.604Z"
   },
   {
    "duration": 38,
    "start_time": "2022-06-01T12:49:12.618Z"
   },
   {
    "duration": 29,
    "start_time": "2022-06-01T12:49:12.660Z"
   },
   {
    "duration": 25,
    "start_time": "2022-06-01T12:49:12.691Z"
   },
   {
    "duration": 50,
    "start_time": "2022-06-01T12:49:12.718Z"
   },
   {
    "duration": 9,
    "start_time": "2022-06-01T12:49:12.771Z"
   },
   {
    "duration": 16,
    "start_time": "2022-06-01T12:49:12.783Z"
   },
   {
    "duration": 23,
    "start_time": "2022-06-01T12:49:12.801Z"
   },
   {
    "duration": 23,
    "start_time": "2022-06-01T12:49:12.826Z"
   },
   {
    "duration": 5,
    "start_time": "2022-06-01T12:49:12.852Z"
   },
   {
    "duration": 23,
    "start_time": "2022-06-01T12:49:12.858Z"
   },
   {
    "duration": 9,
    "start_time": "2022-06-01T12:49:12.883Z"
   },
   {
    "duration": 14,
    "start_time": "2022-06-01T12:49:12.894Z"
   },
   {
    "duration": 16,
    "start_time": "2022-06-01T12:49:12.910Z"
   },
   {
    "duration": 4,
    "start_time": "2022-06-01T12:49:12.946Z"
   },
   {
    "duration": 29,
    "start_time": "2022-06-01T12:49:12.953Z"
   },
   {
    "duration": 9,
    "start_time": "2022-06-01T12:49:12.983Z"
   },
   {
    "duration": 11,
    "start_time": "2022-06-01T12:49:12.994Z"
   },
   {
    "duration": 18,
    "start_time": "2022-06-01T12:49:13.006Z"
   },
   {
    "duration": 22,
    "start_time": "2022-06-01T12:49:13.026Z"
   },
   {
    "duration": 9,
    "start_time": "2022-06-01T12:49:13.058Z"
   },
   {
    "duration": 20,
    "start_time": "2022-06-01T12:49:13.069Z"
   },
   {
    "duration": 12,
    "start_time": "2022-06-01T12:49:13.091Z"
   },
   {
    "duration": 13,
    "start_time": "2022-06-01T12:49:13.106Z"
   },
   {
    "duration": 26,
    "start_time": "2022-06-01T12:49:13.121Z"
   },
   {
    "duration": 27,
    "start_time": "2022-06-01T12:49:13.148Z"
   },
   {
    "duration": 29,
    "start_time": "2022-06-01T12:49:13.177Z"
   },
   {
    "duration": 31,
    "start_time": "2022-06-01T12:49:13.208Z"
   },
   {
    "duration": 29,
    "start_time": "2022-06-01T12:49:13.241Z"
   },
   {
    "duration": 33,
    "start_time": "2022-06-01T12:49:13.272Z"
   },
   {
    "duration": 40,
    "start_time": "2022-06-01T12:49:13.308Z"
   },
   {
    "duration": 11,
    "start_time": "2022-06-01T12:49:13.350Z"
   },
   {
    "duration": 11,
    "start_time": "2022-06-01T12:49:13.365Z"
   },
   {
    "duration": 64,
    "start_time": "2022-06-01T12:49:13.378Z"
   },
   {
    "duration": 62,
    "start_time": "2022-06-01T12:49:13.445Z"
   },
   {
    "duration": 19,
    "start_time": "2022-06-01T12:49:13.511Z"
   },
   {
    "duration": 32,
    "start_time": "2022-06-01T12:49:13.532Z"
   },
   {
    "duration": 37,
    "start_time": "2022-06-01T12:49:13.566Z"
   },
   {
    "duration": 21,
    "start_time": "2022-06-01T12:49:13.605Z"
   },
   {
    "duration": 45,
    "start_time": "2022-06-01T12:49:13.628Z"
   },
   {
    "duration": 7,
    "start_time": "2022-06-01T12:49:13.674Z"
   },
   {
    "duration": 25,
    "start_time": "2022-06-01T12:49:13.683Z"
   },
   {
    "duration": 42,
    "start_time": "2022-06-01T12:49:13.710Z"
   },
   {
    "duration": 24,
    "start_time": "2022-06-01T12:49:13.754Z"
   },
   {
    "duration": 21,
    "start_time": "2022-06-01T12:49:13.780Z"
   },
   {
    "duration": 50,
    "start_time": "2022-06-01T12:49:13.802Z"
   },
   {
    "duration": 2,
    "start_time": "2022-06-01T12:49:13.854Z"
   },
   {
    "duration": 31,
    "start_time": "2022-06-01T12:49:13.858Z"
   },
   {
    "duration": 81,
    "start_time": "2022-06-01T12:49:13.891Z"
   },
   {
    "duration": 0,
    "start_time": "2022-06-01T12:49:13.976Z"
   },
   {
    "duration": 0,
    "start_time": "2022-06-01T12:49:13.977Z"
   },
   {
    "duration": 0,
    "start_time": "2022-06-01T12:49:13.979Z"
   },
   {
    "duration": 0,
    "start_time": "2022-06-01T12:49:13.980Z"
   },
   {
    "duration": 0,
    "start_time": "2022-06-01T12:49:13.981Z"
   },
   {
    "duration": 0,
    "start_time": "2022-06-01T12:49:13.983Z"
   },
   {
    "duration": 0,
    "start_time": "2022-06-01T12:49:13.985Z"
   },
   {
    "duration": 0,
    "start_time": "2022-06-01T12:49:13.986Z"
   },
   {
    "duration": 0,
    "start_time": "2022-06-01T12:49:13.988Z"
   },
   {
    "duration": 0,
    "start_time": "2022-06-01T12:49:13.989Z"
   },
   {
    "duration": 0,
    "start_time": "2022-06-01T12:49:13.990Z"
   },
   {
    "duration": 0,
    "start_time": "2022-06-01T12:49:13.991Z"
   },
   {
    "duration": 0,
    "start_time": "2022-06-01T12:49:13.993Z"
   },
   {
    "duration": 0,
    "start_time": "2022-06-01T12:49:13.994Z"
   },
   {
    "duration": 0,
    "start_time": "2022-06-01T12:49:13.995Z"
   },
   {
    "duration": 0,
    "start_time": "2022-06-01T12:49:13.997Z"
   },
   {
    "duration": 1,
    "start_time": "2022-06-01T12:49:13.998Z"
   },
   {
    "duration": 0,
    "start_time": "2022-06-01T12:49:14.000Z"
   },
   {
    "duration": 0,
    "start_time": "2022-06-01T12:49:14.001Z"
   },
   {
    "duration": 0,
    "start_time": "2022-06-01T12:49:14.002Z"
   },
   {
    "duration": 0,
    "start_time": "2022-06-01T12:49:14.003Z"
   },
   {
    "duration": 0,
    "start_time": "2022-06-01T12:49:14.004Z"
   },
   {
    "duration": 0,
    "start_time": "2022-06-01T12:49:14.045Z"
   },
   {
    "duration": 0,
    "start_time": "2022-06-01T12:49:14.046Z"
   },
   {
    "duration": 0,
    "start_time": "2022-06-01T12:49:14.047Z"
   },
   {
    "duration": 0,
    "start_time": "2022-06-01T12:49:14.049Z"
   },
   {
    "duration": 0,
    "start_time": "2022-06-01T12:49:14.050Z"
   },
   {
    "duration": 0,
    "start_time": "2022-06-01T12:49:14.052Z"
   },
   {
    "duration": 1,
    "start_time": "2022-06-01T12:49:14.053Z"
   },
   {
    "duration": 0,
    "start_time": "2022-06-01T12:49:14.055Z"
   },
   {
    "duration": 0,
    "start_time": "2022-06-01T12:49:14.056Z"
   },
   {
    "duration": 0,
    "start_time": "2022-06-01T12:49:14.058Z"
   },
   {
    "duration": 0,
    "start_time": "2022-06-01T12:49:14.059Z"
   },
   {
    "duration": 0,
    "start_time": "2022-06-01T12:49:14.061Z"
   },
   {
    "duration": 43,
    "start_time": "2022-06-01T12:49:45.575Z"
   },
   {
    "duration": 27,
    "start_time": "2022-06-01T12:50:16.426Z"
   },
   {
    "duration": 27,
    "start_time": "2022-06-01T12:51:57.188Z"
   },
   {
    "duration": 6,
    "start_time": "2022-06-01T12:52:26.496Z"
   },
   {
    "duration": 5,
    "start_time": "2022-06-01T12:52:28.791Z"
   },
   {
    "duration": 7,
    "start_time": "2022-06-01T13:02:14.399Z"
   },
   {
    "duration": 37,
    "start_time": "2022-06-01T13:02:21.216Z"
   },
   {
    "duration": 39,
    "start_time": "2022-06-01T13:02:38.251Z"
   },
   {
    "duration": 4,
    "start_time": "2022-06-01T13:02:54.780Z"
   },
   {
    "duration": 18,
    "start_time": "2022-06-01T13:02:59.268Z"
   },
   {
    "duration": 11,
    "start_time": "2022-06-01T15:08:26.471Z"
   },
   {
    "duration": 11,
    "start_time": "2022-06-01T15:09:15.582Z"
   },
   {
    "duration": 3,
    "start_time": "2022-06-01T15:13:21.279Z"
   },
   {
    "duration": 29,
    "start_time": "2022-06-01T15:13:34.002Z"
   },
   {
    "duration": 6,
    "start_time": "2022-06-01T15:13:42.979Z"
   },
   {
    "duration": 548,
    "start_time": "2022-06-01T15:13:55.837Z"
   },
   {
    "duration": 43,
    "start_time": "2022-06-01T15:13:56.387Z"
   },
   {
    "duration": 22,
    "start_time": "2022-06-01T15:13:56.432Z"
   },
   {
    "duration": 23,
    "start_time": "2022-06-01T15:13:56.457Z"
   },
   {
    "duration": 5,
    "start_time": "2022-06-01T15:13:56.481Z"
   },
   {
    "duration": 25,
    "start_time": "2022-06-01T15:13:56.488Z"
   },
   {
    "duration": 34,
    "start_time": "2022-06-01T15:13:56.515Z"
   },
   {
    "duration": 21,
    "start_time": "2022-06-01T15:13:56.552Z"
   },
   {
    "duration": 26,
    "start_time": "2022-06-01T15:13:56.575Z"
   },
   {
    "duration": 41,
    "start_time": "2022-06-01T15:13:56.604Z"
   },
   {
    "duration": 28,
    "start_time": "2022-06-01T15:13:56.647Z"
   },
   {
    "duration": 25,
    "start_time": "2022-06-01T15:13:56.677Z"
   },
   {
    "duration": 7,
    "start_time": "2022-06-01T15:13:56.703Z"
   },
   {
    "duration": 41,
    "start_time": "2022-06-01T15:13:56.712Z"
   },
   {
    "duration": 9,
    "start_time": "2022-06-01T15:13:56.754Z"
   },
   {
    "duration": 9,
    "start_time": "2022-06-01T15:13:56.764Z"
   },
   {
    "duration": 6,
    "start_time": "2022-06-01T15:13:56.774Z"
   },
   {
    "duration": 11,
    "start_time": "2022-06-01T15:13:56.782Z"
   },
   {
    "duration": 5,
    "start_time": "2022-06-01T15:13:56.795Z"
   },
   {
    "duration": 8,
    "start_time": "2022-06-01T15:13:56.802Z"
   },
   {
    "duration": 39,
    "start_time": "2022-06-01T15:13:56.812Z"
   },
   {
    "duration": 4,
    "start_time": "2022-06-01T15:13:56.853Z"
   },
   {
    "duration": 11,
    "start_time": "2022-06-01T15:13:56.859Z"
   },
   {
    "duration": 9,
    "start_time": "2022-06-01T15:13:56.871Z"
   },
   {
    "duration": 7,
    "start_time": "2022-06-01T15:13:56.882Z"
   },
   {
    "duration": 13,
    "start_time": "2022-06-01T15:13:56.891Z"
   },
   {
    "duration": 7,
    "start_time": "2022-06-01T15:13:56.905Z"
   },
   {
    "duration": 6,
    "start_time": "2022-06-01T15:13:56.944Z"
   },
   {
    "duration": 11,
    "start_time": "2022-06-01T15:13:56.952Z"
   },
   {
    "duration": 14,
    "start_time": "2022-06-01T15:13:56.964Z"
   },
   {
    "duration": 11,
    "start_time": "2022-06-01T15:13:56.980Z"
   },
   {
    "duration": 8,
    "start_time": "2022-06-01T15:13:56.993Z"
   },
   {
    "duration": 11,
    "start_time": "2022-06-01T15:13:57.002Z"
   },
   {
    "duration": 33,
    "start_time": "2022-06-01T15:13:57.015Z"
   },
   {
    "duration": 33,
    "start_time": "2022-06-01T15:13:57.050Z"
   },
   {
    "duration": 17,
    "start_time": "2022-06-01T15:13:57.085Z"
   },
   {
    "duration": 43,
    "start_time": "2022-06-01T15:13:57.104Z"
   },
   {
    "duration": 19,
    "start_time": "2022-06-01T15:13:57.149Z"
   },
   {
    "duration": 4,
    "start_time": "2022-06-01T15:13:57.170Z"
   },
   {
    "duration": 16,
    "start_time": "2022-06-01T15:13:57.175Z"
   },
   {
    "duration": 66,
    "start_time": "2022-06-01T15:13:57.193Z"
   },
   {
    "duration": 56,
    "start_time": "2022-06-01T15:13:57.260Z"
   },
   {
    "duration": 3,
    "start_time": "2022-06-01T15:13:57.318Z"
   },
   {
    "duration": 22,
    "start_time": "2022-06-01T15:13:57.323Z"
   },
   {
    "duration": 28,
    "start_time": "2022-06-01T15:13:57.347Z"
   },
   {
    "duration": 7,
    "start_time": "2022-06-01T15:13:57.377Z"
   },
   {
    "duration": 62,
    "start_time": "2022-06-01T15:13:57.386Z"
   },
   {
    "duration": 26,
    "start_time": "2022-06-01T15:13:57.450Z"
   },
   {
    "duration": 22,
    "start_time": "2022-06-01T15:13:57.478Z"
   },
   {
    "duration": 57,
    "start_time": "2022-06-01T15:13:57.502Z"
   },
   {
    "duration": 20,
    "start_time": "2022-06-01T15:13:57.561Z"
   },
   {
    "duration": 23,
    "start_time": "2022-06-01T15:13:57.582Z"
   },
   {
    "duration": 3,
    "start_time": "2022-06-01T15:13:57.606Z"
   },
   {
    "duration": 41,
    "start_time": "2022-06-01T15:13:57.611Z"
   },
   {
    "duration": 3,
    "start_time": "2022-06-01T15:13:57.654Z"
   },
   {
    "duration": 18,
    "start_time": "2022-06-01T15:13:57.659Z"
   },
   {
    "duration": 30,
    "start_time": "2022-06-01T15:13:57.680Z"
   },
   {
    "duration": 3,
    "start_time": "2022-06-01T15:13:57.712Z"
   },
   {
    "duration": 32,
    "start_time": "2022-06-01T15:13:57.717Z"
   },
   {
    "duration": 95,
    "start_time": "2022-06-01T15:13:57.751Z"
   },
   {
    "duration": 0,
    "start_time": "2022-06-01T15:13:57.848Z"
   },
   {
    "duration": 0,
    "start_time": "2022-06-01T15:13:57.850Z"
   },
   {
    "duration": 0,
    "start_time": "2022-06-01T15:13:57.851Z"
   },
   {
    "duration": 0,
    "start_time": "2022-06-01T15:13:57.853Z"
   },
   {
    "duration": 0,
    "start_time": "2022-06-01T15:13:57.854Z"
   },
   {
    "duration": 0,
    "start_time": "2022-06-01T15:13:57.855Z"
   },
   {
    "duration": 0,
    "start_time": "2022-06-01T15:13:57.856Z"
   },
   {
    "duration": 0,
    "start_time": "2022-06-01T15:13:57.857Z"
   },
   {
    "duration": 0,
    "start_time": "2022-06-01T15:13:57.858Z"
   },
   {
    "duration": 0,
    "start_time": "2022-06-01T15:13:57.860Z"
   },
   {
    "duration": 0,
    "start_time": "2022-06-01T15:13:57.861Z"
   },
   {
    "duration": 0,
    "start_time": "2022-06-01T15:13:57.863Z"
   },
   {
    "duration": 0,
    "start_time": "2022-06-01T15:13:57.864Z"
   },
   {
    "duration": 0,
    "start_time": "2022-06-01T15:13:57.866Z"
   },
   {
    "duration": 0,
    "start_time": "2022-06-01T15:13:57.867Z"
   },
   {
    "duration": 0,
    "start_time": "2022-06-01T15:13:57.868Z"
   },
   {
    "duration": 0,
    "start_time": "2022-06-01T15:13:57.870Z"
   },
   {
    "duration": 0,
    "start_time": "2022-06-01T15:13:57.871Z"
   },
   {
    "duration": 1,
    "start_time": "2022-06-01T15:13:57.872Z"
   },
   {
    "duration": 0,
    "start_time": "2022-06-01T15:13:57.874Z"
   },
   {
    "duration": 0,
    "start_time": "2022-06-01T15:13:57.876Z"
   },
   {
    "duration": 0,
    "start_time": "2022-06-01T15:13:57.877Z"
   },
   {
    "duration": 0,
    "start_time": "2022-06-01T15:13:57.878Z"
   },
   {
    "duration": 0,
    "start_time": "2022-06-01T15:13:57.879Z"
   },
   {
    "duration": 0,
    "start_time": "2022-06-01T15:13:57.880Z"
   },
   {
    "duration": 0,
    "start_time": "2022-06-01T15:13:57.881Z"
   },
   {
    "duration": 0,
    "start_time": "2022-06-01T15:13:57.882Z"
   },
   {
    "duration": 0,
    "start_time": "2022-06-01T15:13:57.884Z"
   },
   {
    "duration": 0,
    "start_time": "2022-06-01T15:13:57.945Z"
   },
   {
    "duration": 0,
    "start_time": "2022-06-01T15:13:57.946Z"
   },
   {
    "duration": 0,
    "start_time": "2022-06-01T15:13:57.947Z"
   },
   {
    "duration": 18,
    "start_time": "2022-06-01T15:15:20.291Z"
   },
   {
    "duration": 20,
    "start_time": "2022-06-01T15:15:22.901Z"
   },
   {
    "duration": 7,
    "start_time": "2022-06-01T15:16:10.213Z"
   },
   {
    "duration": 18,
    "start_time": "2022-06-01T15:17:31.626Z"
   },
   {
    "duration": 10,
    "start_time": "2022-06-01T15:18:31.680Z"
   },
   {
    "duration": 8,
    "start_time": "2022-06-01T15:18:41.831Z"
   },
   {
    "duration": 9,
    "start_time": "2022-06-01T15:18:50.641Z"
   },
   {
    "duration": 535,
    "start_time": "2022-06-01T15:58:31.233Z"
   },
   {
    "duration": 42,
    "start_time": "2022-06-01T15:58:31.770Z"
   },
   {
    "duration": 15,
    "start_time": "2022-06-01T15:58:31.814Z"
   },
   {
    "duration": 18,
    "start_time": "2022-06-01T15:58:31.845Z"
   },
   {
    "duration": 8,
    "start_time": "2022-06-01T15:58:31.866Z"
   },
   {
    "duration": 19,
    "start_time": "2022-06-01T15:58:31.875Z"
   },
   {
    "duration": 17,
    "start_time": "2022-06-01T15:58:31.896Z"
   },
   {
    "duration": 38,
    "start_time": "2022-06-01T15:58:31.915Z"
   },
   {
    "duration": 32,
    "start_time": "2022-06-01T15:58:31.956Z"
   },
   {
    "duration": 24,
    "start_time": "2022-06-01T15:58:31.989Z"
   },
   {
    "duration": 42,
    "start_time": "2022-06-01T15:58:32.015Z"
   },
   {
    "duration": 21,
    "start_time": "2022-06-01T15:58:32.058Z"
   },
   {
    "duration": 7,
    "start_time": "2022-06-01T15:58:32.080Z"
   },
   {
    "duration": 21,
    "start_time": "2022-06-01T15:58:32.091Z"
   },
   {
    "duration": 37,
    "start_time": "2022-06-01T15:58:32.114Z"
   },
   {
    "duration": 33,
    "start_time": "2022-06-01T15:58:32.153Z"
   },
   {
    "duration": 7,
    "start_time": "2022-06-01T15:58:32.188Z"
   },
   {
    "duration": 18,
    "start_time": "2022-06-01T15:58:32.197Z"
   },
   {
    "duration": 7,
    "start_time": "2022-06-01T15:58:32.217Z"
   },
   {
    "duration": 16,
    "start_time": "2022-06-01T15:58:32.226Z"
   },
   {
    "duration": 17,
    "start_time": "2022-06-01T15:58:32.244Z"
   },
   {
    "duration": 4,
    "start_time": "2022-06-01T15:58:32.262Z"
   },
   {
    "duration": 16,
    "start_time": "2022-06-01T15:58:32.268Z"
   },
   {
    "duration": 17,
    "start_time": "2022-06-01T15:58:32.286Z"
   },
   {
    "duration": 18,
    "start_time": "2022-06-01T15:58:32.306Z"
   },
   {
    "duration": 30,
    "start_time": "2022-06-01T15:58:32.326Z"
   },
   {
    "duration": 9,
    "start_time": "2022-06-01T15:58:32.358Z"
   },
   {
    "duration": 9,
    "start_time": "2022-06-01T15:58:32.368Z"
   },
   {
    "duration": 10,
    "start_time": "2022-06-01T15:58:32.379Z"
   },
   {
    "duration": 9,
    "start_time": "2022-06-01T15:58:32.391Z"
   },
   {
    "duration": 14,
    "start_time": "2022-06-01T15:58:32.402Z"
   },
   {
    "duration": 31,
    "start_time": "2022-06-01T15:58:32.417Z"
   },
   {
    "duration": 14,
    "start_time": "2022-06-01T15:58:32.450Z"
   },
   {
    "duration": 30,
    "start_time": "2022-06-01T15:58:32.465Z"
   },
   {
    "duration": 47,
    "start_time": "2022-06-01T15:58:32.497Z"
   },
   {
    "duration": 17,
    "start_time": "2022-06-01T15:58:32.546Z"
   },
   {
    "duration": 28,
    "start_time": "2022-06-01T15:58:32.565Z"
   },
   {
    "duration": 49,
    "start_time": "2022-06-01T15:58:32.596Z"
   },
   {
    "duration": 4,
    "start_time": "2022-06-01T15:58:32.647Z"
   },
   {
    "duration": 11,
    "start_time": "2022-06-01T15:58:32.653Z"
   },
   {
    "duration": 46,
    "start_time": "2022-06-01T15:58:32.669Z"
   },
   {
    "duration": 64,
    "start_time": "2022-06-01T15:58:32.717Z"
   },
   {
    "duration": 4,
    "start_time": "2022-06-01T15:58:32.782Z"
   },
   {
    "duration": 12,
    "start_time": "2022-06-01T15:58:32.787Z"
   },
   {
    "duration": 45,
    "start_time": "2022-06-01T15:58:32.801Z"
   },
   {
    "duration": 8,
    "start_time": "2022-06-01T15:58:32.847Z"
   },
   {
    "duration": 52,
    "start_time": "2022-06-01T15:58:32.857Z"
   },
   {
    "duration": 46,
    "start_time": "2022-06-01T15:58:32.911Z"
   },
   {
    "duration": 20,
    "start_time": "2022-06-01T15:58:32.959Z"
   },
   {
    "duration": 20,
    "start_time": "2022-06-01T15:58:32.980Z"
   },
   {
    "duration": 53,
    "start_time": "2022-06-01T15:58:33.002Z"
   },
   {
    "duration": 31,
    "start_time": "2022-06-01T15:58:33.057Z"
   },
   {
    "duration": 2,
    "start_time": "2022-06-01T15:58:33.091Z"
   },
   {
    "duration": 16,
    "start_time": "2022-06-01T15:58:33.096Z"
   },
   {
    "duration": 6,
    "start_time": "2022-06-01T15:58:33.114Z"
   },
   {
    "duration": 36,
    "start_time": "2022-06-01T15:58:33.121Z"
   },
   {
    "duration": 28,
    "start_time": "2022-06-01T15:58:33.159Z"
   },
   {
    "duration": 3,
    "start_time": "2022-06-01T15:58:33.189Z"
   },
   {
    "duration": 18,
    "start_time": "2022-06-01T15:58:33.194Z"
   },
   {
    "duration": 33,
    "start_time": "2022-06-01T15:58:33.213Z"
   },
   {
    "duration": 13,
    "start_time": "2022-06-01T15:58:33.247Z"
   },
   {
    "duration": 8,
    "start_time": "2022-06-01T15:58:33.261Z"
   },
   {
    "duration": 10,
    "start_time": "2022-06-01T15:58:33.270Z"
   },
   {
    "duration": 28,
    "start_time": "2022-06-01T15:58:33.282Z"
   },
   {
    "duration": 54,
    "start_time": "2022-06-01T15:58:33.312Z"
   },
   {
    "duration": 22,
    "start_time": "2022-06-01T15:58:33.367Z"
   },
   {
    "duration": 22,
    "start_time": "2022-06-01T15:58:33.391Z"
   },
   {
    "duration": 35,
    "start_time": "2022-06-01T15:58:33.415Z"
   },
   {
    "duration": 4,
    "start_time": "2022-06-01T15:58:33.452Z"
   },
   {
    "duration": 9,
    "start_time": "2022-06-01T15:58:33.458Z"
   },
   {
    "duration": 16,
    "start_time": "2022-06-01T15:58:33.468Z"
   },
   {
    "duration": 13,
    "start_time": "2022-06-01T15:58:33.486Z"
   },
   {
    "duration": 6,
    "start_time": "2022-06-01T15:58:33.501Z"
   },
   {
    "duration": 39,
    "start_time": "2022-06-01T15:58:33.509Z"
   },
   {
    "duration": 8,
    "start_time": "2022-06-01T15:58:33.550Z"
   },
   {
    "duration": 6,
    "start_time": "2022-06-01T15:58:33.559Z"
   },
   {
    "duration": 11,
    "start_time": "2022-06-01T15:58:33.567Z"
   },
   {
    "duration": 9,
    "start_time": "2022-06-01T15:58:33.580Z"
   },
   {
    "duration": 12,
    "start_time": "2022-06-01T15:58:33.591Z"
   },
   {
    "duration": 6,
    "start_time": "2022-06-01T15:58:33.605Z"
   },
   {
    "duration": 33,
    "start_time": "2022-06-01T15:58:33.613Z"
   },
   {
    "duration": 25,
    "start_time": "2022-06-01T15:58:33.648Z"
   },
   {
    "duration": 10,
    "start_time": "2022-06-01T15:58:33.675Z"
   },
   {
    "duration": 4,
    "start_time": "2022-06-01T15:58:33.687Z"
   },
   {
    "duration": 8,
    "start_time": "2022-06-01T15:58:33.693Z"
   },
   {
    "duration": 6,
    "start_time": "2022-06-01T15:58:33.702Z"
   },
   {
    "duration": 4,
    "start_time": "2022-06-01T15:58:33.709Z"
   },
   {
    "duration": 60,
    "start_time": "2022-06-01T15:58:33.714Z"
   },
   {
    "duration": 7,
    "start_time": "2022-06-01T15:58:33.776Z"
   },
   {
    "duration": 9,
    "start_time": "2022-06-01T15:58:33.785Z"
   },
   {
    "duration": 10,
    "start_time": "2022-06-01T15:58:33.796Z"
   },
   {
    "duration": 37,
    "start_time": "2022-06-01T15:58:33.808Z"
   },
   {
    "duration": 8,
    "start_time": "2022-06-01T15:59:47.199Z"
   },
   {
    "duration": 78,
    "start_time": "2022-06-01T16:01:26.295Z"
   },
   {
    "duration": 14,
    "start_time": "2022-06-01T16:01:37.492Z"
   },
   {
    "duration": 20,
    "start_time": "2022-06-01T16:01:42.138Z"
   },
   {
    "duration": 8,
    "start_time": "2022-06-01T16:01:48.155Z"
   },
   {
    "duration": 13,
    "start_time": "2022-06-01T16:01:53.406Z"
   },
   {
    "duration": 2,
    "start_time": "2022-06-01T16:02:37.194Z"
   },
   {
    "duration": 16,
    "start_time": "2022-06-01T16:02:52.982Z"
   },
   {
    "duration": 18,
    "start_time": "2022-06-01T16:03:15.487Z"
   },
   {
    "duration": 514,
    "start_time": "2022-06-01T16:03:48.249Z"
   },
   {
    "duration": 43,
    "start_time": "2022-06-01T16:03:48.764Z"
   },
   {
    "duration": 17,
    "start_time": "2022-06-01T16:03:48.809Z"
   },
   {
    "duration": 30,
    "start_time": "2022-06-01T16:03:48.828Z"
   },
   {
    "duration": 6,
    "start_time": "2022-06-01T16:03:48.860Z"
   },
   {
    "duration": 18,
    "start_time": "2022-06-01T16:03:48.867Z"
   },
   {
    "duration": 13,
    "start_time": "2022-06-01T16:03:48.886Z"
   },
   {
    "duration": 44,
    "start_time": "2022-06-01T16:03:48.901Z"
   },
   {
    "duration": 24,
    "start_time": "2022-06-01T16:03:48.947Z"
   },
   {
    "duration": 22,
    "start_time": "2022-06-01T16:03:48.975Z"
   },
   {
    "duration": 55,
    "start_time": "2022-06-01T16:03:48.999Z"
   },
   {
    "duration": 23,
    "start_time": "2022-06-01T16:03:49.055Z"
   },
   {
    "duration": 9,
    "start_time": "2022-06-01T16:03:49.080Z"
   },
   {
    "duration": 13,
    "start_time": "2022-06-01T16:03:49.091Z"
   },
   {
    "duration": 9,
    "start_time": "2022-06-01T16:03:49.105Z"
   },
   {
    "duration": 31,
    "start_time": "2022-06-01T16:03:49.115Z"
   },
   {
    "duration": 5,
    "start_time": "2022-06-01T16:03:49.148Z"
   },
   {
    "duration": 13,
    "start_time": "2022-06-01T16:03:49.155Z"
   },
   {
    "duration": 5,
    "start_time": "2022-06-01T16:03:49.170Z"
   },
   {
    "duration": 12,
    "start_time": "2022-06-01T16:03:49.177Z"
   },
   {
    "duration": 23,
    "start_time": "2022-06-01T16:03:49.191Z"
   },
   {
    "duration": 4,
    "start_time": "2022-06-01T16:03:49.215Z"
   },
   {
    "duration": 30,
    "start_time": "2022-06-01T16:03:49.220Z"
   },
   {
    "duration": 9,
    "start_time": "2022-06-01T16:03:49.252Z"
   },
   {
    "duration": 8,
    "start_time": "2022-06-01T16:03:49.262Z"
   },
   {
    "duration": 16,
    "start_time": "2022-06-01T16:03:49.271Z"
   },
   {
    "duration": 11,
    "start_time": "2022-06-01T16:03:49.289Z"
   },
   {
    "duration": 6,
    "start_time": "2022-06-01T16:03:49.305Z"
   },
   {
    "duration": 32,
    "start_time": "2022-06-01T16:03:49.313Z"
   },
   {
    "duration": 8,
    "start_time": "2022-06-01T16:03:49.347Z"
   },
   {
    "duration": 8,
    "start_time": "2022-06-01T16:03:49.357Z"
   },
   {
    "duration": 10,
    "start_time": "2022-06-01T16:03:49.366Z"
   },
   {
    "duration": 12,
    "start_time": "2022-06-01T16:03:49.377Z"
   },
   {
    "duration": 22,
    "start_time": "2022-06-01T16:03:49.390Z"
   },
   {
    "duration": 58,
    "start_time": "2022-06-01T16:03:49.413Z"
   },
   {
    "duration": 16,
    "start_time": "2022-06-01T16:03:49.473Z"
   },
   {
    "duration": 20,
    "start_time": "2022-06-01T16:03:49.491Z"
   },
   {
    "duration": 42,
    "start_time": "2022-06-01T16:03:49.513Z"
   },
   {
    "duration": 4,
    "start_time": "2022-06-01T16:03:49.557Z"
   },
   {
    "duration": 7,
    "start_time": "2022-06-01T16:03:49.562Z"
   },
   {
    "duration": 52,
    "start_time": "2022-06-01T16:03:49.571Z"
   },
   {
    "duration": 59,
    "start_time": "2022-06-01T16:03:49.625Z"
   },
   {
    "duration": 3,
    "start_time": "2022-06-01T16:03:49.686Z"
   },
   {
    "duration": 22,
    "start_time": "2022-06-01T16:03:49.690Z"
   },
   {
    "duration": 29,
    "start_time": "2022-06-01T16:03:49.713Z"
   },
   {
    "duration": 23,
    "start_time": "2022-06-01T16:03:49.744Z"
   },
   {
    "duration": 71,
    "start_time": "2022-06-01T16:03:49.769Z"
   },
   {
    "duration": 22,
    "start_time": "2022-06-01T16:03:49.842Z"
   },
   {
    "duration": 23,
    "start_time": "2022-06-01T16:03:49.866Z"
   },
   {
    "duration": 34,
    "start_time": "2022-06-01T16:03:49.891Z"
   },
   {
    "duration": 26,
    "start_time": "2022-06-01T16:03:49.927Z"
   },
   {
    "duration": 39,
    "start_time": "2022-06-01T16:03:49.954Z"
   },
   {
    "duration": 3,
    "start_time": "2022-06-01T16:03:49.994Z"
   },
   {
    "duration": 36,
    "start_time": "2022-06-01T16:03:49.999Z"
   },
   {
    "duration": 54,
    "start_time": "2022-06-01T16:03:50.037Z"
   },
   {
    "duration": 82,
    "start_time": "2022-06-01T16:03:50.093Z"
   },
   {
    "duration": 14,
    "start_time": "2022-06-01T16:03:50.177Z"
   },
   {
    "duration": 57,
    "start_time": "2022-06-01T16:03:50.193Z"
   },
   {
    "duration": 22,
    "start_time": "2022-06-01T16:03:50.252Z"
   },
   {
    "duration": 55,
    "start_time": "2022-06-01T16:03:50.276Z"
   },
   {
    "duration": 58,
    "start_time": "2022-06-01T16:03:50.333Z"
   },
   {
    "duration": 45,
    "start_time": "2022-06-01T16:03:50.393Z"
   },
   {
    "duration": 23,
    "start_time": "2022-06-01T16:03:50.439Z"
   },
   {
    "duration": 35,
    "start_time": "2022-06-01T16:03:50.463Z"
   },
   {
    "duration": 40,
    "start_time": "2022-06-01T16:03:50.500Z"
   },
   {
    "duration": 18,
    "start_time": "2022-06-01T16:03:50.542Z"
   },
   {
    "duration": 18,
    "start_time": "2022-06-01T16:03:50.562Z"
   },
   {
    "duration": 42,
    "start_time": "2022-06-01T16:03:50.582Z"
   },
   {
    "duration": 32,
    "start_time": "2022-06-01T16:03:50.626Z"
   },
   {
    "duration": 18,
    "start_time": "2022-06-01T16:03:50.659Z"
   },
   {
    "duration": 22,
    "start_time": "2022-06-01T16:03:50.679Z"
   },
   {
    "duration": 19,
    "start_time": "2022-06-01T16:03:50.703Z"
   },
   {
    "duration": 32,
    "start_time": "2022-06-01T16:03:50.723Z"
   },
   {
    "duration": 31,
    "start_time": "2022-06-01T16:03:50.756Z"
   },
   {
    "duration": 26,
    "start_time": "2022-06-01T16:03:50.789Z"
   },
   {
    "duration": 57,
    "start_time": "2022-06-01T16:03:50.817Z"
   },
   {
    "duration": 15,
    "start_time": "2022-06-01T16:03:50.876Z"
   },
   {
    "duration": 26,
    "start_time": "2022-06-01T16:03:50.893Z"
   },
   {
    "duration": 39,
    "start_time": "2022-06-01T16:03:50.921Z"
   },
   {
    "duration": 23,
    "start_time": "2022-06-01T16:03:50.962Z"
   },
   {
    "duration": 27,
    "start_time": "2022-06-01T16:03:50.987Z"
   },
   {
    "duration": 23,
    "start_time": "2022-06-01T16:03:51.020Z"
   },
   {
    "duration": 14,
    "start_time": "2022-06-01T16:03:51.045Z"
   },
   {
    "duration": 21,
    "start_time": "2022-06-01T16:03:51.060Z"
   },
   {
    "duration": 37,
    "start_time": "2022-06-01T16:03:51.083Z"
   },
   {
    "duration": 23,
    "start_time": "2022-06-01T16:03:51.122Z"
   },
   {
    "duration": 15,
    "start_time": "2022-06-01T16:03:51.147Z"
   },
   {
    "duration": 17,
    "start_time": "2022-06-01T16:03:51.164Z"
   },
   {
    "duration": 16,
    "start_time": "2022-06-01T16:03:51.183Z"
   },
   {
    "duration": 11,
    "start_time": "2022-06-01T17:57:35.394Z"
   },
   {
    "duration": 14,
    "start_time": "2022-06-01T17:57:44.474Z"
   },
   {
    "duration": 11,
    "start_time": "2022-06-01T17:58:24.425Z"
   },
   {
    "duration": 555,
    "start_time": "2022-06-01T18:00:40.825Z"
   },
   {
    "duration": 52,
    "start_time": "2022-06-01T18:00:41.382Z"
   },
   {
    "duration": 16,
    "start_time": "2022-06-01T18:00:41.443Z"
   },
   {
    "duration": 20,
    "start_time": "2022-06-01T18:00:41.461Z"
   },
   {
    "duration": 4,
    "start_time": "2022-06-01T18:00:41.483Z"
   },
   {
    "duration": 15,
    "start_time": "2022-06-01T18:00:41.489Z"
   },
   {
    "duration": 40,
    "start_time": "2022-06-01T18:00:41.506Z"
   },
   {
    "duration": 18,
    "start_time": "2022-06-01T18:00:41.548Z"
   },
   {
    "duration": 32,
    "start_time": "2022-06-01T18:00:41.568Z"
   },
   {
    "duration": 31,
    "start_time": "2022-06-01T18:00:41.603Z"
   },
   {
    "duration": 28,
    "start_time": "2022-06-01T18:00:41.643Z"
   },
   {
    "duration": 43,
    "start_time": "2022-06-01T18:00:41.673Z"
   },
   {
    "duration": 8,
    "start_time": "2022-06-01T18:00:41.720Z"
   },
   {
    "duration": 19,
    "start_time": "2022-06-01T18:00:41.731Z"
   },
   {
    "duration": 17,
    "start_time": "2022-06-01T18:00:41.751Z"
   },
   {
    "duration": 20,
    "start_time": "2022-06-01T18:00:41.770Z"
   },
   {
    "duration": 12,
    "start_time": "2022-06-01T18:00:41.792Z"
   },
   {
    "duration": 16,
    "start_time": "2022-06-01T18:00:41.806Z"
   },
   {
    "duration": 7,
    "start_time": "2022-06-01T18:00:41.824Z"
   },
   {
    "duration": 11,
    "start_time": "2022-06-01T18:00:41.833Z"
   },
   {
    "duration": 12,
    "start_time": "2022-06-01T18:00:41.845Z"
   },
   {
    "duration": 3,
    "start_time": "2022-06-01T18:00:41.859Z"
   },
   {
    "duration": 11,
    "start_time": "2022-06-01T18:00:41.864Z"
   },
   {
    "duration": 7,
    "start_time": "2022-06-01T18:00:41.877Z"
   },
   {
    "duration": 12,
    "start_time": "2022-06-01T18:00:41.886Z"
   },
   {
    "duration": 12,
    "start_time": "2022-06-01T18:00:41.899Z"
   },
   {
    "duration": 33,
    "start_time": "2022-06-01T18:00:41.912Z"
   },
   {
    "duration": 6,
    "start_time": "2022-06-01T18:00:41.950Z"
   },
   {
    "duration": 10,
    "start_time": "2022-06-01T18:00:41.957Z"
   },
   {
    "duration": 9,
    "start_time": "2022-06-01T18:00:41.969Z"
   },
   {
    "duration": 14,
    "start_time": "2022-06-01T18:00:41.980Z"
   },
   {
    "duration": 10,
    "start_time": "2022-06-01T18:00:41.996Z"
   },
   {
    "duration": 18,
    "start_time": "2022-06-01T18:00:42.008Z"
   },
   {
    "duration": 31,
    "start_time": "2022-06-01T18:00:42.027Z"
   },
   {
    "duration": 30,
    "start_time": "2022-06-01T18:00:42.060Z"
   },
   {
    "duration": 15,
    "start_time": "2022-06-01T18:00:42.091Z"
   },
   {
    "duration": 38,
    "start_time": "2022-06-01T18:00:42.108Z"
   },
   {
    "duration": 18,
    "start_time": "2022-06-01T18:00:42.147Z"
   },
   {
    "duration": 3,
    "start_time": "2022-06-01T18:00:42.167Z"
   },
   {
    "duration": 9,
    "start_time": "2022-06-01T18:00:42.172Z"
   },
   {
    "duration": 64,
    "start_time": "2022-06-01T18:00:42.182Z"
   },
   {
    "duration": 56,
    "start_time": "2022-06-01T18:00:42.248Z"
   },
   {
    "duration": 4,
    "start_time": "2022-06-01T18:00:42.307Z"
   },
   {
    "duration": 13,
    "start_time": "2022-06-01T18:00:42.313Z"
   },
   {
    "duration": 28,
    "start_time": "2022-06-01T18:00:42.345Z"
   },
   {
    "duration": 12,
    "start_time": "2022-06-01T18:00:42.375Z"
   },
   {
    "duration": 63,
    "start_time": "2022-06-01T18:00:42.389Z"
   },
   {
    "duration": 27,
    "start_time": "2022-06-01T18:00:42.454Z"
   },
   {
    "duration": 22,
    "start_time": "2022-06-01T18:00:42.484Z"
   },
   {
    "duration": 50,
    "start_time": "2022-06-01T18:00:42.508Z"
   },
   {
    "duration": 22,
    "start_time": "2022-06-01T18:00:42.561Z"
   },
   {
    "duration": 29,
    "start_time": "2022-06-01T18:00:42.585Z"
   },
   {
    "duration": 3,
    "start_time": "2022-06-01T18:00:42.615Z"
   },
   {
    "duration": 37,
    "start_time": "2022-06-01T18:00:42.620Z"
   },
   {
    "duration": 17,
    "start_time": "2022-06-01T18:00:42.659Z"
   },
   {
    "duration": 30,
    "start_time": "2022-06-01T18:00:42.678Z"
   },
   {
    "duration": 9,
    "start_time": "2022-06-01T18:00:42.710Z"
   },
   {
    "duration": 15,
    "start_time": "2022-06-01T18:00:42.744Z"
   },
   {
    "duration": 9,
    "start_time": "2022-06-01T18:00:42.761Z"
   },
   {
    "duration": 23,
    "start_time": "2022-06-01T18:00:42.771Z"
   },
   {
    "duration": 49,
    "start_time": "2022-06-01T18:00:42.796Z"
   },
   {
    "duration": 22,
    "start_time": "2022-06-01T18:00:42.847Z"
   },
   {
    "duration": 27,
    "start_time": "2022-06-01T18:00:42.871Z"
   },
   {
    "duration": 53,
    "start_time": "2022-06-01T18:00:42.900Z"
   },
   {
    "duration": 14,
    "start_time": "2022-06-01T18:00:42.955Z"
   },
   {
    "duration": 13,
    "start_time": "2022-06-01T18:00:42.971Z"
   },
   {
    "duration": 14,
    "start_time": "2022-06-01T18:00:42.986Z"
   },
   {
    "duration": 31,
    "start_time": "2022-06-01T18:00:43.002Z"
   },
   {
    "duration": 17,
    "start_time": "2022-06-01T18:00:43.035Z"
   },
   {
    "duration": 6,
    "start_time": "2022-06-01T18:00:43.054Z"
   },
   {
    "duration": 7,
    "start_time": "2022-06-01T18:00:43.062Z"
   },
   {
    "duration": 15,
    "start_time": "2022-06-01T18:00:43.071Z"
   },
   {
    "duration": 10,
    "start_time": "2022-06-01T18:00:43.087Z"
   },
   {
    "duration": 10,
    "start_time": "2022-06-01T18:00:43.098Z"
   },
   {
    "duration": 29,
    "start_time": "2022-06-01T18:00:43.110Z"
   },
   {
    "duration": 17,
    "start_time": "2022-06-01T18:00:43.140Z"
   },
   {
    "duration": 10,
    "start_time": "2022-06-01T18:00:43.158Z"
   },
   {
    "duration": 11,
    "start_time": "2022-06-01T18:00:43.169Z"
   },
   {
    "duration": 21,
    "start_time": "2022-06-01T18:00:43.181Z"
   },
   {
    "duration": 16,
    "start_time": "2022-06-01T18:00:43.203Z"
   },
   {
    "duration": 4,
    "start_time": "2022-06-01T18:00:43.221Z"
   },
   {
    "duration": 6,
    "start_time": "2022-06-01T18:00:43.248Z"
   },
   {
    "duration": 9,
    "start_time": "2022-06-01T18:00:43.255Z"
   },
   {
    "duration": 5,
    "start_time": "2022-06-01T18:00:43.266Z"
   },
   {
    "duration": 33,
    "start_time": "2022-06-01T18:00:43.272Z"
   },
   {
    "duration": 9,
    "start_time": "2022-06-01T18:00:43.307Z"
   },
   {
    "duration": 35,
    "start_time": "2022-06-01T18:00:43.317Z"
   },
   {
    "duration": 10,
    "start_time": "2022-06-01T18:00:43.354Z"
   },
   {
    "duration": 11,
    "start_time": "2022-06-01T18:00:43.365Z"
   },
   {
    "duration": 9,
    "start_time": "2022-06-01T18:01:37.814Z"
   },
   {
    "duration": 9,
    "start_time": "2022-06-01T18:01:49.854Z"
   },
   {
    "duration": 6,
    "start_time": "2022-06-01T18:02:04.066Z"
   },
   {
    "duration": 5,
    "start_time": "2022-06-01T18:02:12.813Z"
   },
   {
    "duration": 5,
    "start_time": "2022-06-01T18:02:36.676Z"
   },
   {
    "duration": 5,
    "start_time": "2022-06-01T18:02:44.555Z"
   },
   {
    "duration": 20,
    "start_time": "2022-06-01T18:03:47.237Z"
   },
   {
    "duration": 17,
    "start_time": "2022-06-01T18:06:39.638Z"
   },
   {
    "duration": 19,
    "start_time": "2022-06-01T18:07:10.101Z"
   },
   {
    "duration": 17,
    "start_time": "2022-06-01T18:07:44.894Z"
   },
   {
    "duration": 28,
    "start_time": "2022-06-01T18:07:53.240Z"
   },
   {
    "duration": 147,
    "start_time": "2022-06-01T18:09:01.918Z"
   },
   {
    "duration": 61,
    "start_time": "2022-06-01T18:09:20.275Z"
   },
   {
    "duration": 22,
    "start_time": "2022-06-01T18:09:22.988Z"
   },
   {
    "duration": 63,
    "start_time": "2022-06-01T18:09:51.997Z"
   },
   {
    "duration": 18,
    "start_time": "2022-06-01T18:09:55.663Z"
   },
   {
    "duration": 21,
    "start_time": "2022-06-01T18:10:08.343Z"
   },
   {
    "duration": 604,
    "start_time": "2022-06-01T18:10:37.523Z"
   },
   {
    "duration": 54,
    "start_time": "2022-06-01T18:10:38.130Z"
   },
   {
    "duration": 19,
    "start_time": "2022-06-01T18:10:38.186Z"
   },
   {
    "duration": 39,
    "start_time": "2022-06-01T18:10:38.208Z"
   },
   {
    "duration": 8,
    "start_time": "2022-06-01T18:10:38.253Z"
   },
   {
    "duration": 40,
    "start_time": "2022-06-01T18:10:38.264Z"
   },
   {
    "duration": 27,
    "start_time": "2022-06-01T18:10:38.306Z"
   },
   {
    "duration": 49,
    "start_time": "2022-06-01T18:10:38.335Z"
   },
   {
    "duration": 38,
    "start_time": "2022-06-01T18:10:38.386Z"
   },
   {
    "duration": 64,
    "start_time": "2022-06-01T18:10:38.427Z"
   },
   {
    "duration": 42,
    "start_time": "2022-06-01T18:10:38.493Z"
   },
   {
    "duration": 30,
    "start_time": "2022-06-01T18:10:38.537Z"
   },
   {
    "duration": 13,
    "start_time": "2022-06-01T18:10:38.569Z"
   },
   {
    "duration": 37,
    "start_time": "2022-06-01T18:10:38.584Z"
   },
   {
    "duration": 14,
    "start_time": "2022-06-01T18:10:38.623Z"
   },
   {
    "duration": 32,
    "start_time": "2022-06-01T18:10:38.639Z"
   },
   {
    "duration": 40,
    "start_time": "2022-06-01T18:10:38.673Z"
   },
   {
    "duration": 27,
    "start_time": "2022-06-01T18:10:38.715Z"
   },
   {
    "duration": 35,
    "start_time": "2022-06-01T18:10:38.745Z"
   },
   {
    "duration": 11,
    "start_time": "2022-06-01T18:10:38.781Z"
   },
   {
    "duration": 25,
    "start_time": "2022-06-01T18:10:38.794Z"
   },
   {
    "duration": 13,
    "start_time": "2022-06-01T18:10:38.821Z"
   },
   {
    "duration": 40,
    "start_time": "2022-06-01T18:10:38.836Z"
   },
   {
    "duration": 19,
    "start_time": "2022-06-01T18:10:38.878Z"
   },
   {
    "duration": 18,
    "start_time": "2022-06-01T18:10:38.899Z"
   },
   {
    "duration": 51,
    "start_time": "2022-06-01T18:10:38.919Z"
   },
   {
    "duration": 16,
    "start_time": "2022-06-01T18:10:38.972Z"
   },
   {
    "duration": 17,
    "start_time": "2022-06-01T18:10:38.993Z"
   },
   {
    "duration": 19,
    "start_time": "2022-06-01T18:10:39.012Z"
   },
   {
    "duration": 41,
    "start_time": "2022-06-01T18:10:39.033Z"
   },
   {
    "duration": 28,
    "start_time": "2022-06-01T18:10:39.075Z"
   },
   {
    "duration": 19,
    "start_time": "2022-06-01T18:10:39.105Z"
   },
   {
    "duration": 43,
    "start_time": "2022-06-01T18:10:39.126Z"
   },
   {
    "duration": 40,
    "start_time": "2022-06-01T18:10:39.171Z"
   },
   {
    "duration": 36,
    "start_time": "2022-06-01T18:10:39.213Z"
   },
   {
    "duration": 23,
    "start_time": "2022-06-01T18:10:39.262Z"
   },
   {
    "duration": 22,
    "start_time": "2022-06-01T18:10:39.287Z"
   },
   {
    "duration": 27,
    "start_time": "2022-06-01T18:10:39.313Z"
   },
   {
    "duration": 4,
    "start_time": "2022-06-01T18:10:39.344Z"
   },
   {
    "duration": 26,
    "start_time": "2022-06-01T18:10:39.350Z"
   },
   {
    "duration": 67,
    "start_time": "2022-06-01T18:10:39.378Z"
   },
   {
    "duration": 51,
    "start_time": "2022-06-01T18:10:39.447Z"
   },
   {
    "duration": 3,
    "start_time": "2022-06-01T18:10:39.500Z"
   },
   {
    "duration": 17,
    "start_time": "2022-06-01T18:10:39.505Z"
   },
   {
    "duration": 56,
    "start_time": "2022-06-01T18:10:39.524Z"
   },
   {
    "duration": 27,
    "start_time": "2022-06-01T18:10:39.582Z"
   },
   {
    "duration": 66,
    "start_time": "2022-06-01T18:10:39.610Z"
   },
   {
    "duration": 20,
    "start_time": "2022-06-01T18:10:39.678Z"
   },
   {
    "duration": 20,
    "start_time": "2022-06-01T18:10:39.700Z"
   },
   {
    "duration": 47,
    "start_time": "2022-06-01T18:10:39.722Z"
   },
   {
    "duration": 22,
    "start_time": "2022-06-01T18:10:39.770Z"
   },
   {
    "duration": 22,
    "start_time": "2022-06-01T18:10:39.794Z"
   },
   {
    "duration": 27,
    "start_time": "2022-06-01T18:10:39.818Z"
   },
   {
    "duration": 39,
    "start_time": "2022-06-01T18:10:39.846Z"
   },
   {
    "duration": 36,
    "start_time": "2022-06-01T18:10:39.887Z"
   },
   {
    "duration": 55,
    "start_time": "2022-06-01T18:10:39.925Z"
   },
   {
    "duration": 16,
    "start_time": "2022-06-01T18:10:39.982Z"
   },
   {
    "duration": 29,
    "start_time": "2022-06-01T18:10:40.000Z"
   },
   {
    "duration": 22,
    "start_time": "2022-06-01T18:10:40.031Z"
   },
   {
    "duration": 35,
    "start_time": "2022-06-01T18:10:40.056Z"
   },
   {
    "duration": 38,
    "start_time": "2022-06-01T18:10:40.093Z"
   },
   {
    "duration": 59,
    "start_time": "2022-06-01T18:10:40.133Z"
   },
   {
    "duration": 48,
    "start_time": "2022-06-01T18:10:40.194Z"
   },
   {
    "duration": 48,
    "start_time": "2022-06-01T18:10:40.244Z"
   },
   {
    "duration": 30,
    "start_time": "2022-06-01T18:10:40.294Z"
   },
   {
    "duration": 26,
    "start_time": "2022-06-01T18:10:40.326Z"
   },
   {
    "duration": 36,
    "start_time": "2022-06-01T18:10:40.354Z"
   },
   {
    "duration": 4,
    "start_time": "2022-06-01T18:10:40.392Z"
   },
   {
    "duration": 29,
    "start_time": "2022-06-01T18:10:40.398Z"
   },
   {
    "duration": 57,
    "start_time": "2022-06-01T18:10:40.428Z"
   },
   {
    "duration": 18,
    "start_time": "2022-06-01T18:10:40.487Z"
   },
   {
    "duration": 31,
    "start_time": "2022-06-01T18:10:40.507Z"
   },
   {
    "duration": 46,
    "start_time": "2022-06-01T18:10:40.540Z"
   },
   {
    "duration": 15,
    "start_time": "2022-06-01T18:10:40.588Z"
   },
   {
    "duration": 10,
    "start_time": "2022-06-01T18:10:40.605Z"
   },
   {
    "duration": 15,
    "start_time": "2022-06-01T18:10:40.617Z"
   },
   {
    "duration": 26,
    "start_time": "2022-06-01T18:10:40.634Z"
   },
   {
    "duration": 40,
    "start_time": "2022-06-01T18:10:40.662Z"
   },
   {
    "duration": 34,
    "start_time": "2022-06-01T18:10:40.703Z"
   },
   {
    "duration": 58,
    "start_time": "2022-06-01T18:10:40.739Z"
   },
   {
    "duration": 41,
    "start_time": "2022-06-01T18:10:40.799Z"
   },
   {
    "duration": 39,
    "start_time": "2022-06-01T18:10:40.848Z"
   },
   {
    "duration": 27,
    "start_time": "2022-06-01T18:10:40.889Z"
   },
   {
    "duration": 15,
    "start_time": "2022-06-01T18:10:40.918Z"
   },
   {
    "duration": 30,
    "start_time": "2022-06-01T18:10:40.935Z"
   },
   {
    "duration": 25,
    "start_time": "2022-06-01T18:10:40.967Z"
   },
   {
    "duration": 47,
    "start_time": "2022-06-01T18:10:40.994Z"
   },
   {
    "duration": 48,
    "start_time": "2022-06-01T18:10:41.042Z"
   },
   {
    "duration": 26,
    "start_time": "2022-06-01T18:10:41.092Z"
   },
   {
    "duration": 17,
    "start_time": "2022-06-01T18:10:41.119Z"
   },
   {
    "duration": 29,
    "start_time": "2022-06-01T18:10:41.137Z"
   },
   {
    "duration": 13,
    "start_time": "2022-06-01T18:11:02.067Z"
   },
   {
    "duration": 21,
    "start_time": "2022-06-01T18:11:05.625Z"
   },
   {
    "duration": 574,
    "start_time": "2022-06-01T18:15:00.982Z"
   },
   {
    "duration": 53,
    "start_time": "2022-06-01T18:15:01.559Z"
   },
   {
    "duration": 41,
    "start_time": "2022-06-01T18:15:01.614Z"
   },
   {
    "duration": 83,
    "start_time": "2022-06-01T18:15:01.658Z"
   },
   {
    "duration": 75,
    "start_time": "2022-06-01T18:15:01.743Z"
   },
   {
    "duration": 76,
    "start_time": "2022-06-01T18:15:01.820Z"
   },
   {
    "duration": 37,
    "start_time": "2022-06-01T18:15:01.899Z"
   },
   {
    "duration": 71,
    "start_time": "2022-06-01T18:15:01.938Z"
   },
   {
    "duration": 66,
    "start_time": "2022-06-01T18:15:02.011Z"
   },
   {
    "duration": 82,
    "start_time": "2022-06-01T18:15:02.079Z"
   },
   {
    "duration": 83,
    "start_time": "2022-06-01T18:15:02.164Z"
   },
   {
    "duration": 75,
    "start_time": "2022-06-01T18:15:02.249Z"
   },
   {
    "duration": 10,
    "start_time": "2022-06-01T18:15:02.328Z"
   },
   {
    "duration": 58,
    "start_time": "2022-06-01T18:15:02.340Z"
   },
   {
    "duration": 29,
    "start_time": "2022-06-01T18:15:02.400Z"
   },
   {
    "duration": 12,
    "start_time": "2022-06-01T18:15:02.431Z"
   },
   {
    "duration": 43,
    "start_time": "2022-06-01T18:15:02.445Z"
   },
   {
    "duration": 30,
    "start_time": "2022-06-01T18:15:02.490Z"
   },
   {
    "duration": 18,
    "start_time": "2022-06-01T18:15:02.523Z"
   },
   {
    "duration": 46,
    "start_time": "2022-06-01T18:15:02.543Z"
   },
   {
    "duration": 23,
    "start_time": "2022-06-01T18:15:02.592Z"
   },
   {
    "duration": 5,
    "start_time": "2022-06-01T18:15:02.617Z"
   },
   {
    "duration": 24,
    "start_time": "2022-06-01T18:15:02.624Z"
   },
   {
    "duration": 35,
    "start_time": "2022-06-01T18:15:02.651Z"
   },
   {
    "duration": 24,
    "start_time": "2022-06-01T18:15:02.688Z"
   },
   {
    "duration": 15,
    "start_time": "2022-06-01T18:15:02.714Z"
   },
   {
    "duration": 7,
    "start_time": "2022-06-01T18:15:02.731Z"
   },
   {
    "duration": 8,
    "start_time": "2022-06-01T18:15:02.744Z"
   },
   {
    "duration": 24,
    "start_time": "2022-06-01T18:15:02.754Z"
   },
   {
    "duration": 13,
    "start_time": "2022-06-01T18:15:02.780Z"
   },
   {
    "duration": 14,
    "start_time": "2022-06-01T18:15:02.795Z"
   },
   {
    "duration": 8,
    "start_time": "2022-06-01T18:15:02.811Z"
   },
   {
    "duration": 24,
    "start_time": "2022-06-01T18:15:02.821Z"
   },
   {
    "duration": 24,
    "start_time": "2022-06-01T18:15:02.847Z"
   },
   {
    "duration": 33,
    "start_time": "2022-06-01T18:15:02.873Z"
   },
   {
    "duration": 44,
    "start_time": "2022-06-01T18:15:02.907Z"
   },
   {
    "duration": 27,
    "start_time": "2022-06-01T18:15:02.953Z"
   },
   {
    "duration": 20,
    "start_time": "2022-06-01T18:15:02.982Z"
   },
   {
    "duration": 4,
    "start_time": "2022-06-01T18:15:03.003Z"
   },
   {
    "duration": 56,
    "start_time": "2022-06-01T18:15:03.009Z"
   },
   {
    "duration": 113,
    "start_time": "2022-06-01T18:15:03.067Z"
   },
   {
    "duration": 50,
    "start_time": "2022-06-01T18:15:03.182Z"
   },
   {
    "duration": 4,
    "start_time": "2022-06-01T18:15:03.244Z"
   },
   {
    "duration": 36,
    "start_time": "2022-06-01T18:15:03.250Z"
   },
   {
    "duration": 43,
    "start_time": "2022-06-01T18:15:03.288Z"
   },
   {
    "duration": 25,
    "start_time": "2022-06-01T18:15:03.333Z"
   },
   {
    "duration": 62,
    "start_time": "2022-06-01T18:15:03.360Z"
   },
   {
    "duration": 38,
    "start_time": "2022-06-01T18:15:03.424Z"
   },
   {
    "duration": 30,
    "start_time": "2022-06-01T18:15:03.464Z"
   },
   {
    "duration": 58,
    "start_time": "2022-06-01T18:15:03.496Z"
   },
   {
    "duration": 31,
    "start_time": "2022-06-01T18:15:03.556Z"
   },
   {
    "duration": 60,
    "start_time": "2022-06-01T18:15:03.589Z"
   },
   {
    "duration": 10,
    "start_time": "2022-06-01T18:15:03.651Z"
   },
   {
    "duration": 21,
    "start_time": "2022-06-01T18:15:03.662Z"
   },
   {
    "duration": 30,
    "start_time": "2022-06-01T18:15:03.685Z"
   },
   {
    "duration": 35,
    "start_time": "2022-06-01T18:15:03.716Z"
   },
   {
    "duration": 22,
    "start_time": "2022-06-01T18:15:03.753Z"
   },
   {
    "duration": 16,
    "start_time": "2022-06-01T18:15:03.777Z"
   },
   {
    "duration": 21,
    "start_time": "2022-06-01T18:15:03.795Z"
   },
   {
    "duration": 11,
    "start_time": "2022-06-01T18:15:03.818Z"
   },
   {
    "duration": 49,
    "start_time": "2022-06-01T18:15:03.831Z"
   },
   {
    "duration": 19,
    "start_time": "2022-06-01T18:15:03.882Z"
   },
   {
    "duration": 25,
    "start_time": "2022-06-01T18:15:03.904Z"
   },
   {
    "duration": 30,
    "start_time": "2022-06-01T18:15:03.944Z"
   },
   {
    "duration": 24,
    "start_time": "2022-06-01T18:15:03.976Z"
   },
   {
    "duration": 57,
    "start_time": "2022-06-01T18:15:04.002Z"
   },
   {
    "duration": 16,
    "start_time": "2022-06-01T18:15:04.062Z"
   },
   {
    "duration": 4,
    "start_time": "2022-06-01T18:15:04.080Z"
   },
   {
    "duration": 14,
    "start_time": "2022-06-01T18:15:04.086Z"
   },
   {
    "duration": 17,
    "start_time": "2022-06-01T18:15:04.101Z"
   },
   {
    "duration": 20,
    "start_time": "2022-06-01T18:15:04.145Z"
   },
   {
    "duration": 12,
    "start_time": "2022-06-01T18:15:04.167Z"
   },
   {
    "duration": 11,
    "start_time": "2022-06-01T18:15:04.181Z"
   },
   {
    "duration": 9,
    "start_time": "2022-06-01T18:15:04.194Z"
   },
   {
    "duration": 9,
    "start_time": "2022-06-01T18:15:04.205Z"
   },
   {
    "duration": 36,
    "start_time": "2022-06-01T18:15:04.216Z"
   },
   {
    "duration": 22,
    "start_time": "2022-06-01T18:15:04.254Z"
   },
   {
    "duration": 25,
    "start_time": "2022-06-01T18:15:04.278Z"
   },
   {
    "duration": 7,
    "start_time": "2022-06-01T18:15:04.305Z"
   },
   {
    "duration": 21,
    "start_time": "2022-06-01T18:15:04.314Z"
   },
   {
    "duration": 41,
    "start_time": "2022-06-01T18:15:04.338Z"
   },
   {
    "duration": 9,
    "start_time": "2022-06-01T18:15:04.384Z"
   },
   {
    "duration": 7,
    "start_time": "2022-06-01T18:15:04.395Z"
   },
   {
    "duration": 15,
    "start_time": "2022-06-01T18:15:04.404Z"
   },
   {
    "duration": 5,
    "start_time": "2022-06-01T18:15:04.420Z"
   },
   {
    "duration": 11,
    "start_time": "2022-06-01T18:15:04.427Z"
   },
   {
    "duration": 44,
    "start_time": "2022-06-01T18:15:04.440Z"
   },
   {
    "duration": 8,
    "start_time": "2022-06-01T18:15:04.487Z"
   },
   {
    "duration": 10,
    "start_time": "2022-06-01T18:15:04.497Z"
   },
   {
    "duration": 7,
    "start_time": "2022-06-01T18:15:04.509Z"
   },
   {
    "duration": 9,
    "start_time": "2022-06-01T18:15:04.518Z"
   },
   {
    "duration": 40,
    "start_time": "2022-06-01T18:18:09.418Z"
   },
   {
    "duration": 6,
    "start_time": "2022-06-01T18:19:47.807Z"
   },
   {
    "duration": 28,
    "start_time": "2022-06-01T18:19:50.771Z"
   },
   {
    "duration": 5,
    "start_time": "2022-06-01T18:20:14.593Z"
   },
   {
    "duration": 28,
    "start_time": "2022-06-01T18:20:17.257Z"
   },
   {
    "duration": 47,
    "start_time": "2022-06-01T18:20:27.291Z"
   },
   {
    "duration": 3,
    "start_time": "2022-06-01T18:20:46.392Z"
   },
   {
    "duration": 30,
    "start_time": "2022-06-01T18:20:53.906Z"
   },
   {
    "duration": 12,
    "start_time": "2022-06-01T18:20:56.863Z"
   },
   {
    "duration": 18,
    "start_time": "2022-06-01T18:20:59.505Z"
   },
   {
    "duration": 516,
    "start_time": "2022-06-01T18:21:05.493Z"
   },
   {
    "duration": 46,
    "start_time": "2022-06-01T18:21:06.011Z"
   },
   {
    "duration": 15,
    "start_time": "2022-06-01T18:21:06.058Z"
   },
   {
    "duration": 41,
    "start_time": "2022-06-01T18:21:06.075Z"
   },
   {
    "duration": 6,
    "start_time": "2022-06-01T18:21:06.118Z"
   },
   {
    "duration": 34,
    "start_time": "2022-06-01T18:21:06.125Z"
   },
   {
    "duration": 18,
    "start_time": "2022-06-01T18:21:06.161Z"
   },
   {
    "duration": 29,
    "start_time": "2022-06-01T18:21:06.181Z"
   },
   {
    "duration": 34,
    "start_time": "2022-06-01T18:21:06.212Z"
   },
   {
    "duration": 35,
    "start_time": "2022-06-01T18:21:06.250Z"
   },
   {
    "duration": 39,
    "start_time": "2022-06-01T18:21:06.287Z"
   },
   {
    "duration": 19,
    "start_time": "2022-06-01T18:21:06.328Z"
   },
   {
    "duration": 33,
    "start_time": "2022-06-01T18:21:06.348Z"
   },
   {
    "duration": 33,
    "start_time": "2022-06-01T18:21:06.383Z"
   },
   {
    "duration": 36,
    "start_time": "2022-06-01T18:21:06.418Z"
   },
   {
    "duration": 17,
    "start_time": "2022-06-01T18:21:06.456Z"
   },
   {
    "duration": 32,
    "start_time": "2022-06-01T18:21:06.475Z"
   },
   {
    "duration": 47,
    "start_time": "2022-06-01T18:21:06.509Z"
   },
   {
    "duration": 6,
    "start_time": "2022-06-01T18:21:06.558Z"
   },
   {
    "duration": 31,
    "start_time": "2022-06-01T18:21:06.566Z"
   },
   {
    "duration": 37,
    "start_time": "2022-06-01T18:21:06.599Z"
   },
   {
    "duration": 8,
    "start_time": "2022-06-01T18:21:06.638Z"
   },
   {
    "duration": 12,
    "start_time": "2022-06-01T18:21:06.648Z"
   },
   {
    "duration": 9,
    "start_time": "2022-06-01T18:21:06.662Z"
   },
   {
    "duration": 15,
    "start_time": "2022-06-01T18:21:06.673Z"
   },
   {
    "duration": 15,
    "start_time": "2022-06-01T18:21:06.689Z"
   },
   {
    "duration": 10,
    "start_time": "2022-06-01T18:21:06.706Z"
   },
   {
    "duration": 23,
    "start_time": "2022-06-01T18:21:06.724Z"
   },
   {
    "duration": 13,
    "start_time": "2022-06-01T18:21:06.749Z"
   },
   {
    "duration": 12,
    "start_time": "2022-06-01T18:21:06.764Z"
   },
   {
    "duration": 8,
    "start_time": "2022-06-01T18:21:06.779Z"
   },
   {
    "duration": 9,
    "start_time": "2022-06-01T18:21:06.789Z"
   },
   {
    "duration": 10,
    "start_time": "2022-06-01T18:21:06.800Z"
   },
   {
    "duration": 53,
    "start_time": "2022-06-01T18:21:06.812Z"
   },
   {
    "duration": 44,
    "start_time": "2022-06-01T18:21:06.867Z"
   },
   {
    "duration": 34,
    "start_time": "2022-06-01T18:21:06.913Z"
   },
   {
    "duration": 26,
    "start_time": "2022-06-01T18:21:06.949Z"
   },
   {
    "duration": 18,
    "start_time": "2022-06-01T18:21:06.978Z"
   },
   {
    "duration": 4,
    "start_time": "2022-06-01T18:21:06.998Z"
   },
   {
    "duration": 10,
    "start_time": "2022-06-01T18:21:07.004Z"
   },
   {
    "duration": 87,
    "start_time": "2022-06-01T18:21:07.016Z"
   },
   {
    "duration": 62,
    "start_time": "2022-06-01T18:21:07.105Z"
   },
   {
    "duration": 3,
    "start_time": "2022-06-01T18:21:07.168Z"
   },
   {
    "duration": 13,
    "start_time": "2022-06-01T18:21:07.173Z"
   },
   {
    "duration": 24,
    "start_time": "2022-06-01T18:21:07.187Z"
   },
   {
    "duration": 7,
    "start_time": "2022-06-01T18:21:07.212Z"
   },
   {
    "duration": 50,
    "start_time": "2022-06-01T18:21:07.244Z"
   },
   {
    "duration": 48,
    "start_time": "2022-06-01T18:21:07.297Z"
   },
   {
    "duration": 23,
    "start_time": "2022-06-01T18:21:07.348Z"
   },
   {
    "duration": 21,
    "start_time": "2022-06-01T18:21:07.373Z"
   },
   {
    "duration": 22,
    "start_time": "2022-06-01T18:21:07.396Z"
   },
   {
    "duration": 22,
    "start_time": "2022-06-01T18:21:07.445Z"
   },
   {
    "duration": 3,
    "start_time": "2022-06-01T18:21:07.469Z"
   },
   {
    "duration": 11,
    "start_time": "2022-06-01T18:21:07.473Z"
   },
   {
    "duration": 19,
    "start_time": "2022-06-01T18:21:07.486Z"
   },
   {
    "duration": 3,
    "start_time": "2022-06-01T18:21:07.507Z"
   },
   {
    "duration": 64,
    "start_time": "2022-06-01T18:21:07.511Z"
   },
   {
    "duration": 13,
    "start_time": "2022-06-01T18:21:07.577Z"
   },
   {
    "duration": 22,
    "start_time": "2022-06-01T18:21:07.591Z"
   },
   {
    "duration": 30,
    "start_time": "2022-06-01T18:21:07.615Z"
   },
   {
    "duration": 8,
    "start_time": "2022-06-01T18:21:07.647Z"
   },
   {
    "duration": 36,
    "start_time": "2022-06-01T18:21:07.657Z"
   },
   {
    "duration": 43,
    "start_time": "2022-06-01T18:21:07.695Z"
   },
   {
    "duration": 56,
    "start_time": "2022-06-01T18:21:07.740Z"
   },
   {
    "duration": 24,
    "start_time": "2022-06-01T18:21:07.798Z"
   },
   {
    "duration": 45,
    "start_time": "2022-06-01T18:21:07.824Z"
   },
   {
    "duration": 25,
    "start_time": "2022-06-01T18:21:07.870Z"
   },
   {
    "duration": 16,
    "start_time": "2022-06-01T18:21:07.897Z"
   },
   {
    "duration": 39,
    "start_time": "2022-06-01T18:21:07.915Z"
   },
   {
    "duration": 12,
    "start_time": "2022-06-01T18:21:07.956Z"
   },
   {
    "duration": 24,
    "start_time": "2022-06-01T18:21:07.970Z"
   },
   {
    "duration": 12,
    "start_time": "2022-06-01T18:21:07.995Z"
   },
   {
    "duration": 6,
    "start_time": "2022-06-01T18:21:08.009Z"
   },
   {
    "duration": 21,
    "start_time": "2022-06-01T18:21:08.017Z"
   },
   {
    "duration": 9,
    "start_time": "2022-06-01T18:21:08.043Z"
   },
   {
    "duration": 22,
    "start_time": "2022-06-01T18:21:08.054Z"
   },
   {
    "duration": 29,
    "start_time": "2022-06-01T18:21:08.077Z"
   },
   {
    "duration": 16,
    "start_time": "2022-06-01T18:21:08.108Z"
   },
   {
    "duration": 32,
    "start_time": "2022-06-01T18:21:08.126Z"
   },
   {
    "duration": 16,
    "start_time": "2022-06-01T18:21:08.160Z"
   },
   {
    "duration": 22,
    "start_time": "2022-06-01T18:21:08.177Z"
   },
   {
    "duration": 41,
    "start_time": "2022-06-01T18:21:08.206Z"
   },
   {
    "duration": 25,
    "start_time": "2022-06-01T18:21:08.249Z"
   },
   {
    "duration": 21,
    "start_time": "2022-06-01T18:21:08.276Z"
   },
   {
    "duration": 26,
    "start_time": "2022-06-01T18:21:08.299Z"
   },
   {
    "duration": 17,
    "start_time": "2022-06-01T18:21:08.327Z"
   },
   {
    "duration": 16,
    "start_time": "2022-06-01T18:21:08.345Z"
   },
   {
    "duration": 31,
    "start_time": "2022-06-01T18:21:08.362Z"
   },
   {
    "duration": 14,
    "start_time": "2022-06-01T18:21:08.395Z"
   },
   {
    "duration": 17,
    "start_time": "2022-06-01T18:21:08.411Z"
   },
   {
    "duration": 15,
    "start_time": "2022-06-01T18:21:08.430Z"
   },
   {
    "duration": 8,
    "start_time": "2022-06-01T18:21:08.447Z"
   },
   {
    "duration": 20,
    "start_time": "2022-06-01T18:21:26.162Z"
   },
   {
    "duration": 9,
    "start_time": "2022-06-01T18:24:42.772Z"
   },
   {
    "duration": 15,
    "start_time": "2022-06-01T18:25:12.653Z"
   },
   {
    "duration": 41,
    "start_time": "2022-06-01T18:26:28.508Z"
   },
   {
    "duration": 28,
    "start_time": "2022-06-01T18:26:35.852Z"
   }
  ],
  "kernelspec": {
   "display_name": "Python 3 (ipykernel)",
   "language": "python",
   "name": "python3"
  },
  "language_info": {
   "codemirror_mode": {
    "name": "ipython",
    "version": 3
   },
   "file_extension": ".py",
   "mimetype": "text/x-python",
   "name": "python",
   "nbconvert_exporter": "python",
   "pygments_lexer": "ipython3",
   "version": "3.9.5"
  },
  "toc": {
   "base_numbering": 1,
   "nav_menu": {},
   "number_sections": true,
   "sideBar": true,
   "skip_h1_title": true,
   "title_cell": "Table of Contents",
   "title_sidebar": "Contents",
   "toc_cell": false,
   "toc_position": {},
   "toc_section_display": true,
   "toc_window_display": false
  }
 },
 "nbformat": 4,
 "nbformat_minor": 2
}
